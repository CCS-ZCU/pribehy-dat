{
 "cells": [
  {
   "cell_type": "code",
   "id": "initial_id",
   "metadata": {
    "collapsed": true,
    "ExecuteTime": {
     "end_time": "2024-04-29T11:06:14.295017Z",
     "start_time": "2024-04-29T11:06:13.501649Z"
    }
   },
   "source": [
    "import os\n",
    "from nbconvert import HTMLExporter\n",
    "import codecs\n",
    "import nbformat\n",
    "from traitlets.config import Config\n",
    "import re\n",
    "import pandas as pd\n",
    "import markdown"
   ],
   "execution_count": 1,
   "outputs": []
  },
  {
   "metadata": {},
   "cell_type": "markdown",
   "source": [
    "### Vytvořit obsah"
   ],
   "id": "c361be74118a6250"
  },
  {
   "metadata": {
    "ExecuteTime": {
     "end_time": "2024-04-14T08:03:13.042676Z",
     "start_time": "2024-04-14T08:03:13.033417Z"
    }
   },
   "cell_type": "code",
   "source": [
    "notebooks = sorted([f for f in os.listdir(\"../scripts/\") if \"ipynb\" in f])\n",
    "notebooks"
   ],
   "id": "52f4d4b41ec5babd",
   "execution_count": 3,
   "outputs": []
  },
  {
   "metadata": {
    "ExecuteTime": {
     "end_time": "2024-04-22T09:44:43.076174Z",
     "start_time": "2024-04-22T09:44:43.072583Z"
    }
   },
   "cell_type": "code",
   "source": [
    "ordered_notebooks = [\n",
    "'jupyter.ipynb',\n",
    "'python.ipynb',\n",
    "'http.ipynb',\n",
    "'api.ipynb',\n",
    "'site.ipynb',\n",
    "'gis.ipynb',\n",
    "'regex.ipynb',\n",
    "'tei.ipynb',\n",
    "'nlp.ipynb',\n",
    "'pdf.ipynb',\n",
    "'ocr.ipynb',\n",
    "'abm.ipynb']"
   ],
   "id": "29477478b66ef199",
   "execution_count": 4,
   "outputs": []
  },
  {
   "metadata": {
    "ExecuteTime": {
     "end_time": "2024-04-14T08:03:19.421050Z",
     "start_time": "2024-04-14T08:03:19.332994Z"
    }
   },
   "cell_type": "code",
   "source": [
    "table_of_content = []\n",
    "path = \"../scripts/\"\n",
    "base_url = \"https://github.com/CCS-ZCU/pribehy-dat/blob/master/scripts/\"\n",
    "htmlpreview_url = \"https://htmlpreview.github.io/?https://github.com/CCS-ZCU/pribehy-dat/blob/master/htmls/\"\n",
    "for n, filename in enumerate(ordered_notebooks):\n",
    "    notebook_node = nbformat.read(path + filename, as_version=4)\n",
    "    cell_source = notebook_node[\"cells\"][0][\"source\"] + \"\\n\" + notebook_node[\"cells\"][1][\"source\"]\n",
    "    title = re.search(\"(#\\s+)(.+)(\\n)\", cell_source).groups()[1]\n",
    "    table_of_content.append({\n",
    "        \"chapter\" :str(n+1) + \". \" + title,\n",
    "        \"ipynb_url\": base_url + filename, \n",
    "        \"html_url\" : htmlpreview_url + filename.replace(\".ipynb\", \".html\")})\n",
    "table_of_content_df = pd.DataFrame(table_of_content, columns=[\"chapter\", \"ipynb_url\", \"html_url\"])\n",
    "table_of_content_df"
   ],
   "id": "7f232442c4bfde30",
   "execution_count": 5,
   "outputs": []
  },
  {
   "metadata": {
    "ExecuteTime": {
     "end_time": "2024-04-14T08:06:44.109472Z",
     "start_time": "2024-04-14T08:06:44.101561Z"
    }
   },
   "cell_type": "code",
   "source": [
    "def formatted_toc(row):\n",
    "    markdown_link_ipynb = \" [[ipynb]({})]\".format(row[\"ipynb_url\"])\n",
    "    markdown_link_html = \" [[html]({})]\".format(row[\"html_url\"])\n",
    "    return  \"*\" + row[\"chapter\"] + \"*\" + markdown_link_ipynb + markdown_link_html + \"\\n\\n\"\n",
    "table_of_content_df[\"formatted_toc\"] = table_of_content_df.apply(formatted_toc, axis=1)"
   ],
   "id": "af6591071ba6c4d0",
   "execution_count": 6,
   "outputs": []
  },
  {
   "metadata": {
    "ExecuteTime": {
     "end_time": "2024-04-14T08:06:45.107828Z",
     "start_time": "2024-04-14T08:06:45.102106Z"
    }
   },
   "cell_type": "code",
   "source": [
    "content_markdown = \"### Obsah\\n\" + \"\".join(list(table_of_content_df[\"formatted_toc\"])) + \"\\n###\"\n",
    "content_markdown"
   ],
   "id": "567e35a411bbe77b",
   "execution_count": 7,
   "outputs": []
  },
  {
   "metadata": {
    "ExecuteTime": {
     "end_time": "2024-04-14T08:06:50.140809Z",
     "start_time": "2024-04-14T08:06:50.134715Z"
    }
   },
   "cell_type": "code",
   "source": [
    "with open(\"../README.md\", 'r') as file:\n",
    "    data = file.read()\n",
    "\n",
    "data = re.sub('### Obsah.+###', content_markdown, data, flags=re.DOTALL)\n",
    "with open(\"../README.md\", 'w') as file:\n",
    "    file.write(data)\n",
    "\n",
    "with open(\"../scripts/README.md\", 'w') as file:\n",
    "    file.write(content_markdown)"
   ],
   "id": "8e4f3f635d7fd4de",
   "execution_count": 8,
   "outputs": []
  },
  {
   "metadata": {
    "ExecuteTime": {
     "end_time": "2024-03-11T07:44:06.816004Z",
     "start_time": "2024-03-11T07:44:06.814043Z"
    }
   },
   "cell_type": "code",
   "source": [
    "#html = markdown.markdown(data)\n",
    "#with open(\"uvod.html\", 'w') as file:\n",
    "#    file.write(html)"
   ],
   "id": "c44f2dcefd26173f",
   "execution_count": 36,
   "outputs": []
  },
  {
   "metadata": {},
   "cell_type": "markdown",
   "source": [
    "### Vytvoř renderované HTML verze notebooků a ulož je do složky htmls"
   ],
   "id": "674edc67449d42f8"
  },
  {
   "metadata": {
    "ExecuteTime": {
     "end_time": "2024-04-29T11:06:19.352650Z",
     "start_time": "2024-04-29T11:06:19.347838Z"
    }
   },
   "cell_type": "code",
   "source": [
    "from nbconvert.preprocessors import ClearOutputPreprocessor\n",
    "\n",
    "c = Config(\n",
    "    {\n",
    "        \"HTMLExporter\": {\n",
    "            \"template_name\": \"full\",  # Use the full template\n",
    "        }\n",
    "    }\n",
    ")\n",
    "\n",
    "def update_execution_times(notebook_node):\n",
    "    exec_time = 1\n",
    "    new_cells = []\n",
    "    for cell in notebook_node[\"cells\"]:\n",
    "        if cell[\"cell_type\"] == \"code\":\n",
    "            new_cell = cell.copy()  # it's safer to copy the cell if you don't want to modify original one\n",
    "            new_cell[\"metadata\"][\"execution_time\"] = exec_time\n",
    "            new_cell[\"execution_count\"] = exec_time\n",
    "            exec_time += 1\n",
    "            new_cells.append(new_cell)\n",
    "        else:\n",
    "            new_cells.append(cell)\n",
    "    notebook_node[\"cells\"] = new_cells\n",
    "    return notebook_node\n",
    "\n",
    "\n",
    "def strip_output(notebook_node):\n",
    "    preprocessor = ClearOutputPreprocessor()\n",
    "    return preprocessor.preprocess(notebook_node, {})[0]"
   ],
   "id": "fcea1ae3c0ab38ff",
   "execution_count": 2,
   "outputs": []
  },
  {
   "metadata": {
    "ExecuteTime": {
     "end_time": "2024-04-29T11:06:26.140019Z",
     "start_time": "2024-04-29T11:06:25.687730Z"
    }
   },
   "cell_type": "code",
   "source": [
    "# apply to individual notebook\n",
    "notebook_name = \"regex.ipynb\"\n",
    "# using nbformat to read the notebook\n",
    "notebook_node = nbformat.read(\"../scripts/\" + notebook_name, as_version=4)\n",
    "\n",
    "# update execution times\n",
    "updated_notebook_node = update_execution_times(notebook_node)\n",
    "\n",
    "# don't strip outputs and save as .html from the updated but not stripped notebook\n",
    "html_exporter = HTMLExporter()\n",
    "body, _ = html_exporter.from_notebook_node(updated_notebook_node)\n",
    "\n",
    "# writing the converted html to a file\n",
    "output_path = \"../htmls/\" + notebook_name.replace(\".ipynb\", \".html\")\n",
    "with codecs.open(output_path, 'w', encoding='utf-8') as file:\n",
    "    file.write(body)\n",
    "\n",
    "    # strip output and save as .ipynb\n",
    "stripped_notebook_node = strip_output(updated_notebook_node)\n",
    "nbformat.write(stripped_notebook_node, \"../scripts/\" + notebook_name)"
   ],
   "id": "d6473c78b60d43cc",
   "execution_count": 3,
   "outputs": []
  },
  {
   "metadata": {
    "ExecuteTime": {
     "end_time": "2024-04-22T12:41:46.122258Z",
     "start_time": "2024-04-22T12:41:42.303570Z"
    }
   },
   "cell_type": "code",
   "source": [
    "for notebook_name in ordered_notebooks:\n",
    "    # using nbformat to read the notebook\n",
    "    notebook_node = nbformat.read(\"../scripts/\" + notebook_name, as_version=4)\n",
    "\n",
    "    # update execution times\n",
    "    updated_notebook_node = update_execution_times(notebook_node)\n",
    "\n",
    "    # don't strip outputs and save as .html from the updated but not stripped notebook\n",
    "    html_exporter = HTMLExporter()\n",
    "    body, _ = html_exporter.from_notebook_node(updated_notebook_node)\n",
    "\n",
    "    # writing the converted html to a file\n",
    "    output_path = \"../htmls/\" + notebook_name.replace(\".ipynb\", \".html\")\n",
    "    with codecs.open(output_path, 'w', encoding='utf-8') as file:\n",
    "        file.write(body)\n",
    "\n",
    "    # strip output and save as .ipynb\n",
    "    stripped_notebook_node = strip_output(updated_notebook_node)\n",
    "    nbformat.write(stripped_notebook_node, \"../scripts/\" + notebook_name)"
   ],
   "id": "679a5fee0b7477d5",
   "execution_count": 7,
   "outputs": []
  },
  {
   "metadata": {},
   "cell_type": "code",
   "execution_count": null,
   "source": "",
   "id": "134263077061f22f",
   "outputs": []
  }
 ],
 "metadata": {
  "kernelspec": {
   "display_name": "pribehy_kernel",
   "language": "python",
   "name": "pribehy_kernel"
  },
  "language_info": {
   "codemirror_mode": {
    "name": "ipython",
    "version": 2
   },
   "file_extension": ".py",
   "mimetype": "text/x-python",
   "name": "python",
   "nbconvert_exporter": "python",
   "pygments_lexer": "ipython2",
   "version": "2.7.6"
  }
 },
 "nbformat": 4,
 "nbformat_minor": 5
}
