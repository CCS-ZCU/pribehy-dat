{
 "cells": [
  {
   "cell_type": "markdown",
   "metadata": {},
   "source": [
    "V kodu je nedostatek, ktery vznika v 5. radku druhe bunky, kvuli regex funkci. Nenasel jsem vhodnejsi vyhledavac nez 'findall'. V dusledku toho vznika list listu. Kvuli nemu mi lezly [] a '' do url adresy. Proto je odstranuju na 3. radku treti bunky.\n",
    "\n",
    "Nehezke, ale funguje."
   ]
  },
  {
   "cell_type": "code",
   "metadata": {
    "ExecuteTime": {
     "end_time": "2024-03-04T07:17:13.879137Z",
     "start_time": "2024-03-04T07:17:13.089047Z"
    }
   },
   "source": [
    "import re\n",
    "import json\n",
    "import requests\n",
    "import pandas as pd\n",
    "from bs4 import BeautifulSoup"
   ],
   "outputs": [],
   "execution_count": 1
  },
  {
   "cell_type": "code",
   "metadata": {
    "ExecuteTime": {
     "end_time": "2024-03-04T07:17:15.722684Z",
     "start_time": "2024-03-04T07:17:14.961524Z"
    }
   },
   "source": [
    "resp = requests.get(\"https://sciencedata.dk/public/082a018b1f2fd125ef4907f01ab2e2cf/\")\n",
    "soup = BeautifulSoup(resp.content, \"html.parser\")\n",
    "adress = []\n",
    "for item in soup.find_all(\"a\"):\n",
    "    adress.append((re.findall('(?<=href=\\\").*\\.json', str(item))))\n",
    "adress = adress[0::2]\n",
    "adress = adress[:-1]"
   ],
   "outputs": [],
   "execution_count": 2
  },
  {
   "cell_type": "code",
   "metadata": {
    "ExecuteTime": {
     "end_time": "2024-03-04T07:17:52.998845Z",
     "start_time": "2024-03-04T07:17:16.441900Z"
    }
   },
   "source": [
    "data = []\n",
    "for item in adress:\n",
    "    resp = requests.get('https://sciencedata.dk' + str(item).strip('[]\\''))\n",
    "    data.append(json.loads(resp.text))"
   ],
   "outputs": [],
   "execution_count": 3
  },
  {
   "cell_type": "code",
   "metadata": {
    "ExecuteTime": {
     "end_time": "2024-03-04T07:18:07.988Z",
     "start_time": "2024-03-04T07:18:07.983729Z"
    }
   },
   "source": [
    "data_df = pd.DataFrame(data)"
   ],
   "outputs": [],
   "execution_count": 4
  },
  {
   "metadata": {
    "ExecuteTime": {
     "end_time": "2024-03-04T07:18:17.744432Z",
     "start_time": "2024-03-04T07:18:17.736284Z"
    }
   },
   "cell_type": "code",
   "source": "data_df.head(5)",
   "outputs": [
    {
     "data": {
      "text/plain": [
       "            user     ntb                      time  \\\n",
       "0   F20B0539P-FF  python  Tue Feb 27 13:49:49 2024   \n",
       "1   F20B0539P-FF  python  Tue Feb 27 13:50:18 2024   \n",
       "2   F20B0539P-FF  python  Tue Feb 27 14:18:33 2024   \n",
       "3      F20B0539P  python  Tue Feb 27 14:18:15 2024   \n",
       "4     F23B0304P   python  Mon Feb 19 15:13:23 2024   \n",
       "\n",
       "                                                arg1  arg2    n  \n",
       "0                                               1920  None  1.0  \n",
       "1                                               1920  None  2.0  \n",
       "2  {'klic1': 'aktualizovaná hodnota', 'klic2': 'h...  None  3.0  \n",
       "3  {'klic1': 'aktualizovaná hodnota', 'klic2': 'h...  None  1.0  \n",
       "4                                               1920  None  1.0  "
      ],
      "text/html": [
       "<div>\n",
       "<style scoped>\n",
       "    .dataframe tbody tr th:only-of-type {\n",
       "        vertical-align: middle;\n",
       "    }\n",
       "\n",
       "    .dataframe tbody tr th {\n",
       "        vertical-align: top;\n",
       "    }\n",
       "\n",
       "    .dataframe thead th {\n",
       "        text-align: right;\n",
       "    }\n",
       "</style>\n",
       "<table border=\"1\" class=\"dataframe\">\n",
       "  <thead>\n",
       "    <tr style=\"text-align: right;\">\n",
       "      <th></th>\n",
       "      <th>user</th>\n",
       "      <th>ntb</th>\n",
       "      <th>time</th>\n",
       "      <th>arg1</th>\n",
       "      <th>arg2</th>\n",
       "      <th>n</th>\n",
       "    </tr>\n",
       "  </thead>\n",
       "  <tbody>\n",
       "    <tr>\n",
       "      <th>0</th>\n",
       "      <td>F20B0539P-FF</td>\n",
       "      <td>python</td>\n",
       "      <td>Tue Feb 27 13:49:49 2024</td>\n",
       "      <td>1920</td>\n",
       "      <td>None</td>\n",
       "      <td>1.0</td>\n",
       "    </tr>\n",
       "    <tr>\n",
       "      <th>1</th>\n",
       "      <td>F20B0539P-FF</td>\n",
       "      <td>python</td>\n",
       "      <td>Tue Feb 27 13:50:18 2024</td>\n",
       "      <td>1920</td>\n",
       "      <td>None</td>\n",
       "      <td>2.0</td>\n",
       "    </tr>\n",
       "    <tr>\n",
       "      <th>2</th>\n",
       "      <td>F20B0539P-FF</td>\n",
       "      <td>python</td>\n",
       "      <td>Tue Feb 27 14:18:33 2024</td>\n",
       "      <td>{'klic1': 'aktualizovaná hodnota', 'klic2': 'h...</td>\n",
       "      <td>None</td>\n",
       "      <td>3.0</td>\n",
       "    </tr>\n",
       "    <tr>\n",
       "      <th>3</th>\n",
       "      <td>F20B0539P</td>\n",
       "      <td>python</td>\n",
       "      <td>Tue Feb 27 14:18:15 2024</td>\n",
       "      <td>{'klic1': 'aktualizovaná hodnota', 'klic2': 'h...</td>\n",
       "      <td>None</td>\n",
       "      <td>1.0</td>\n",
       "    </tr>\n",
       "    <tr>\n",
       "      <th>4</th>\n",
       "      <td>F23B0304P</td>\n",
       "      <td>python</td>\n",
       "      <td>Mon Feb 19 15:13:23 2024</td>\n",
       "      <td>1920</td>\n",
       "      <td>None</td>\n",
       "      <td>1.0</td>\n",
       "    </tr>\n",
       "  </tbody>\n",
       "</table>\n",
       "</div>"
      ]
     },
     "execution_count": 5,
     "metadata": {},
     "output_type": "execute_result"
    }
   ],
   "execution_count": 5
  },
  {
   "metadata": {},
   "cell_type": "code",
   "outputs": [],
   "execution_count": null,
   "source": ""
  }
 ],
 "metadata": {
  "kernelspec": {
   "display_name": ".env",
   "language": "python",
   "name": "python3"
  },
  "language_info": {
   "codemirror_mode": {
    "name": "ipython",
    "version": 3
   },
   "file_extension": ".py",
   "mimetype": "text/x-python",
   "name": "python",
   "nbconvert_exporter": "python",
   "pygments_lexer": "ipython3",
   "version": "3.11.8"
  }
 },
 "nbformat": 4,
 "nbformat_minor": 2
}
