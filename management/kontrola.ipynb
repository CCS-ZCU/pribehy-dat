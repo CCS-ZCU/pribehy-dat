{
 "cells": [
  {
   "cell_type": "markdown",
   "metadata": {},
   "source": [
    "V kodu je nedostatek, ktery vznika v 5. radku druhe bunky, kvuli regex funkci. Nenasel jsem vhodnejsi vyhledavac nez 'findall'. V dusledku toho vznika list listu. Kvuli nemu mi lezly [] a '' do url adresy. Proto je odstranuju na 3. radku treti bunky.\n",
    "\n",
    "Nehezke, ale funguje."
   ]
  },
  {
   "cell_type": "code",
   "metadata": {
    "ExecuteTime": {
     "end_time": "2024-04-12T12:49:41.627534Z",
     "start_time": "2024-04-12T12:49:41.015165Z"
    }
   },
   "source": [
    "import re\n",
    "import json\n",
    "import requests\n",
    "import pandas as pd\n",
    "from bs4 import BeautifulSoup"
   ],
   "outputs": [],
   "execution_count": 1
  },
  {
   "cell_type": "code",
   "metadata": {
    "ExecuteTime": {
     "end_time": "2024-04-12T12:49:44.689110Z",
     "start_time": "2024-04-12T12:49:43.230565Z"
    }
   },
   "source": [
    "resp = requests.get(\"https://sciencedata.dk/public/082a018b1f2fd125ef4907f01ab2e2cf/\")\n",
    "soup = BeautifulSoup(resp.content, \"html.parser\")\n",
    "adress = []\n",
    "for item in soup.find_all(\"a\"):\n",
    "    adress.append((re.findall('(?<=href=\\\").*\\.json', str(item))))\n",
    "adress = adress[0::2]\n",
    "adress = adress[:-1]"
   ],
   "outputs": [],
   "execution_count": 2
  },
  {
   "cell_type": "code",
   "metadata": {
    "ExecuteTime": {
     "end_time": "2024-04-12T12:54:16.065837Z",
     "start_time": "2024-04-12T12:49:47.235738Z"
    }
   },
   "source": [
    "data = []\n",
    "for item in adress:\n",
    "    resp = requests.get('https://sciencedata.dk' + str(item).strip('[]\\''))\n",
    "    data.append(json.loads(resp.text))"
   ],
   "outputs": [],
   "execution_count": 3
  },
  {
   "cell_type": "code",
   "metadata": {
    "ExecuteTime": {
     "end_time": "2024-04-12T12:54:39.798882Z",
     "start_time": "2024-04-12T12:54:39.790175Z"
    }
   },
   "source": [
    "data_df = pd.DataFrame(data)"
   ],
   "outputs": [],
   "execution_count": 4
  },
  {
   "metadata": {
    "ExecuteTime": {
     "end_time": "2024-04-12T12:54:41.788227Z",
     "start_time": "2024-04-12T12:54:41.775465Z"
    }
   },
   "cell_type": "code",
   "source": "data_df.head(5)",
   "outputs": [
    {
     "data": {
      "text/plain": [
       "            user     ntb                      time  \\\n",
       "0   F20B0539P-FF  python  Tue Feb 27 13:49:49 2024   \n",
       "1   F20B0539P-FF  python  Tue Feb 27 13:50:18 2024   \n",
       "2   F20B0539P-FF  python  Tue Feb 27 14:18:33 2024   \n",
       "3      F20B0539P     api  Tue Mar 12 12:41:07 2024   \n",
       "4      F20B0539P     api  Tue Mar 12 12:52:34 2024   \n",
       "\n",
       "                                                arg1  arg2    n  \n",
       "0                                               1920  None  1.0  \n",
       "1                                               1920  None  2.0  \n",
       "2  {'klic1': 'aktualizovaná hodnota', 'klic2': 'h...  None  3.0  \n",
       "3  {'items': [{'commentary': '(B): AE 1983: Z. 3/...  None  1.0  \n",
       "4                            provinz=ges&offset=6820  None  2.0  "
      ],
      "text/html": [
       "<div>\n",
       "<style scoped>\n",
       "    .dataframe tbody tr th:only-of-type {\n",
       "        vertical-align: middle;\n",
       "    }\n",
       "\n",
       "    .dataframe tbody tr th {\n",
       "        vertical-align: top;\n",
       "    }\n",
       "\n",
       "    .dataframe thead th {\n",
       "        text-align: right;\n",
       "    }\n",
       "</style>\n",
       "<table border=\"1\" class=\"dataframe\">\n",
       "  <thead>\n",
       "    <tr style=\"text-align: right;\">\n",
       "      <th></th>\n",
       "      <th>user</th>\n",
       "      <th>ntb</th>\n",
       "      <th>time</th>\n",
       "      <th>arg1</th>\n",
       "      <th>arg2</th>\n",
       "      <th>n</th>\n",
       "    </tr>\n",
       "  </thead>\n",
       "  <tbody>\n",
       "    <tr>\n",
       "      <th>0</th>\n",
       "      <td>F20B0539P-FF</td>\n",
       "      <td>python</td>\n",
       "      <td>Tue Feb 27 13:49:49 2024</td>\n",
       "      <td>1920</td>\n",
       "      <td>None</td>\n",
       "      <td>1.0</td>\n",
       "    </tr>\n",
       "    <tr>\n",
       "      <th>1</th>\n",
       "      <td>F20B0539P-FF</td>\n",
       "      <td>python</td>\n",
       "      <td>Tue Feb 27 13:50:18 2024</td>\n",
       "      <td>1920</td>\n",
       "      <td>None</td>\n",
       "      <td>2.0</td>\n",
       "    </tr>\n",
       "    <tr>\n",
       "      <th>2</th>\n",
       "      <td>F20B0539P-FF</td>\n",
       "      <td>python</td>\n",
       "      <td>Tue Feb 27 14:18:33 2024</td>\n",
       "      <td>{'klic1': 'aktualizovaná hodnota', 'klic2': 'h...</td>\n",
       "      <td>None</td>\n",
       "      <td>3.0</td>\n",
       "    </tr>\n",
       "    <tr>\n",
       "      <th>3</th>\n",
       "      <td>F20B0539P</td>\n",
       "      <td>api</td>\n",
       "      <td>Tue Mar 12 12:41:07 2024</td>\n",
       "      <td>{'items': [{'commentary': '(B): AE 1983: Z. 3/...</td>\n",
       "      <td>None</td>\n",
       "      <td>1.0</td>\n",
       "    </tr>\n",
       "    <tr>\n",
       "      <th>4</th>\n",
       "      <td>F20B0539P</td>\n",
       "      <td>api</td>\n",
       "      <td>Tue Mar 12 12:52:34 2024</td>\n",
       "      <td>provinz=ges&amp;offset=6820</td>\n",
       "      <td>None</td>\n",
       "      <td>2.0</td>\n",
       "    </tr>\n",
       "  </tbody>\n",
       "</table>\n",
       "</div>"
      ]
     },
     "execution_count": 5,
     "metadata": {},
     "output_type": "execute_result"
    }
   ],
   "execution_count": 5
  },
  {
   "metadata": {
    "ExecuteTime": {
     "end_time": "2024-04-12T12:55:00.944950Z",
     "start_time": "2024-04-12T12:55:00.928144Z"
    }
   },
   "cell_type": "code",
   "source": [
    "# Boháčková\n",
    "data_df[data_df[\"user\"].str.contains(\"F22B0199P\")]"
   ],
   "outputs": [
    {
     "data": {
      "text/plain": [
       "          user     ntb                      time  \\\n",
       "141  F22B0199P     api  Tue Mar 12 12:41:12 2024   \n",
       "142  F22B0199P     api  Tue Mar 12 12:57:19 2024   \n",
       "143  F22B0199P     api  Tue Mar 12 13:04:00 2024   \n",
       "144  F22B0199P     gis  Tue Mar 19 13:47:46 2024   \n",
       "145  F22B0199P     gis  Tue Mar 19 14:09:24 2024   \n",
       "146  F22B0199P    http  Tue Mar  5 13:31:34 2024   \n",
       "147  F22B0199P    http  Tue Mar  5 13:50:58 2024   \n",
       "148  F22B0199P  python  Tue Feb 27 13:49:36 2024   \n",
       "149  F22B0199P  python  Tue Feb 27 14:15:38 2024   \n",
       "150  F22B0199P     tei  Tue Mar 12 13:18:49 2024   \n",
       "151  F22B0199P     tei  Tue Mar 12 13:47:06 2024   \n",
       "\n",
       "                                                  arg1  arg2    n  \n",
       "141  {'items': [{'commentary': 'Barren vom Typ I. N...  None  1.0  \n",
       "142                            provinz=ges&offset=6820  None  2.0  \n",
       "143                            provinz=ges&offset=6820  None  3.0  \n",
       "144                                            darkred  None  1.0  \n",
       "145                                          kontrola2  None  2.0  \n",
       "146  https://www.phil.muni.cz/fil/scf/komplet/masar...  None  1.0  \n",
       "147                                              http2  None  2.0  \n",
       "148                                               1920  None  1.0  \n",
       "149  {'klic1': 'aktualizovaná hodnota', 'klic2': 'h...  None  2.0  \n",
       "150             Die Vergnügungen  \\n  der Melancholey.  None  1.0  \n",
       "151  https://raw.githubusercontent.com/PerseusDL/ca...  None  2.0  "
      ],
      "text/html": [
       "<div>\n",
       "<style scoped>\n",
       "    .dataframe tbody tr th:only-of-type {\n",
       "        vertical-align: middle;\n",
       "    }\n",
       "\n",
       "    .dataframe tbody tr th {\n",
       "        vertical-align: top;\n",
       "    }\n",
       "\n",
       "    .dataframe thead th {\n",
       "        text-align: right;\n",
       "    }\n",
       "</style>\n",
       "<table border=\"1\" class=\"dataframe\">\n",
       "  <thead>\n",
       "    <tr style=\"text-align: right;\">\n",
       "      <th></th>\n",
       "      <th>user</th>\n",
       "      <th>ntb</th>\n",
       "      <th>time</th>\n",
       "      <th>arg1</th>\n",
       "      <th>arg2</th>\n",
       "      <th>n</th>\n",
       "    </tr>\n",
       "  </thead>\n",
       "  <tbody>\n",
       "    <tr>\n",
       "      <th>141</th>\n",
       "      <td>F22B0199P</td>\n",
       "      <td>api</td>\n",
       "      <td>Tue Mar 12 12:41:12 2024</td>\n",
       "      <td>{'items': [{'commentary': 'Barren vom Typ I. N...</td>\n",
       "      <td>None</td>\n",
       "      <td>1.0</td>\n",
       "    </tr>\n",
       "    <tr>\n",
       "      <th>142</th>\n",
       "      <td>F22B0199P</td>\n",
       "      <td>api</td>\n",
       "      <td>Tue Mar 12 12:57:19 2024</td>\n",
       "      <td>provinz=ges&amp;offset=6820</td>\n",
       "      <td>None</td>\n",
       "      <td>2.0</td>\n",
       "    </tr>\n",
       "    <tr>\n",
       "      <th>143</th>\n",
       "      <td>F22B0199P</td>\n",
       "      <td>api</td>\n",
       "      <td>Tue Mar 12 13:04:00 2024</td>\n",
       "      <td>provinz=ges&amp;offset=6820</td>\n",
       "      <td>None</td>\n",
       "      <td>3.0</td>\n",
       "    </tr>\n",
       "    <tr>\n",
       "      <th>144</th>\n",
       "      <td>F22B0199P</td>\n",
       "      <td>gis</td>\n",
       "      <td>Tue Mar 19 13:47:46 2024</td>\n",
       "      <td>darkred</td>\n",
       "      <td>None</td>\n",
       "      <td>1.0</td>\n",
       "    </tr>\n",
       "    <tr>\n",
       "      <th>145</th>\n",
       "      <td>F22B0199P</td>\n",
       "      <td>gis</td>\n",
       "      <td>Tue Mar 19 14:09:24 2024</td>\n",
       "      <td>kontrola2</td>\n",
       "      <td>None</td>\n",
       "      <td>2.0</td>\n",
       "    </tr>\n",
       "    <tr>\n",
       "      <th>146</th>\n",
       "      <td>F22B0199P</td>\n",
       "      <td>http</td>\n",
       "      <td>Tue Mar  5 13:31:34 2024</td>\n",
       "      <td>https://www.phil.muni.cz/fil/scf/komplet/masar...</td>\n",
       "      <td>None</td>\n",
       "      <td>1.0</td>\n",
       "    </tr>\n",
       "    <tr>\n",
       "      <th>147</th>\n",
       "      <td>F22B0199P</td>\n",
       "      <td>http</td>\n",
       "      <td>Tue Mar  5 13:50:58 2024</td>\n",
       "      <td>http2</td>\n",
       "      <td>None</td>\n",
       "      <td>2.0</td>\n",
       "    </tr>\n",
       "    <tr>\n",
       "      <th>148</th>\n",
       "      <td>F22B0199P</td>\n",
       "      <td>python</td>\n",
       "      <td>Tue Feb 27 13:49:36 2024</td>\n",
       "      <td>1920</td>\n",
       "      <td>None</td>\n",
       "      <td>1.0</td>\n",
       "    </tr>\n",
       "    <tr>\n",
       "      <th>149</th>\n",
       "      <td>F22B0199P</td>\n",
       "      <td>python</td>\n",
       "      <td>Tue Feb 27 14:15:38 2024</td>\n",
       "      <td>{'klic1': 'aktualizovaná hodnota', 'klic2': 'h...</td>\n",
       "      <td>None</td>\n",
       "      <td>2.0</td>\n",
       "    </tr>\n",
       "    <tr>\n",
       "      <th>150</th>\n",
       "      <td>F22B0199P</td>\n",
       "      <td>tei</td>\n",
       "      <td>Tue Mar 12 13:18:49 2024</td>\n",
       "      <td>Die Vergnügungen  \\n  der Melancholey.</td>\n",
       "      <td>None</td>\n",
       "      <td>1.0</td>\n",
       "    </tr>\n",
       "    <tr>\n",
       "      <th>151</th>\n",
       "      <td>F22B0199P</td>\n",
       "      <td>tei</td>\n",
       "      <td>Tue Mar 12 13:47:06 2024</td>\n",
       "      <td>https://raw.githubusercontent.com/PerseusDL/ca...</td>\n",
       "      <td>None</td>\n",
       "      <td>2.0</td>\n",
       "    </tr>\n",
       "  </tbody>\n",
       "</table>\n",
       "</div>"
      ]
     },
     "execution_count": 7,
     "metadata": {},
     "output_type": "execute_result"
    }
   ],
   "execution_count": 7
  },
  {
   "metadata": {
    "ExecuteTime": {
     "end_time": "2024-04-12T13:15:26.746409Z",
     "start_time": "2024-04-12T13:15:26.742076Z"
    }
   },
   "cell_type": "code",
   "source": "re.search(\"O\", \"F23BOO44K\".replace())",
   "outputs": [
    {
     "data": {
      "text/plain": [
       "<re.Match object; span=(4, 5), match='O'>"
      ]
     },
     "execution_count": 38,
     "metadata": {},
     "output_type": "execute_result"
    }
   ],
   "execution_count": 38
  },
  {
   "metadata": {
    "ExecuteTime": {
     "end_time": "2024-04-12T13:16:03.863700Z",
     "start_time": "2024-04-12T13:16:03.858713Z"
    }
   },
   "cell_type": "code",
   "source": [
    "user = \"F23BOO44K\".replace(\"O\", \"0\")\n",
    "re.search(\"F\\d+B\\d+[PK]?\", user, re.IGNORECASE).group()"
   ],
   "outputs": [
    {
     "data": {
      "text/plain": [
       "'F23B0044K'"
      ]
     },
     "execution_count": 39,
     "metadata": {},
     "output_type": "execute_result"
    }
   ],
   "execution_count": 39
  },
  {
   "metadata": {
    "ExecuteTime": {
     "end_time": "2024-04-12T13:20:32.732071Z",
     "start_time": "2024-04-12T13:20:32.711704Z"
    }
   },
   "cell_type": "code",
   "source": [
    "def clean_user(user):\n",
    "    try:\n",
    "        return re.search(\"F\\d+\\w\\d+[PK]?\", user.replace(\"O\", \"0\"), re.IGNORECASE).group()\n",
    "    except: \n",
    "        print(user)\n",
    "data_df[\"osCislo\"] = data_df[\"user\"].apply(clean_user)\n",
    "data_df.head(5)"
   ],
   "outputs": [
    {
     "name": "stdout",
     "output_type": "stream",
     "text": [
      "100335092\n",
      "F1HUM BP2\n",
      "F1HUMBP1\n",
      "F1HUMBP1\n",
      "F1HUMBP1\n",
      "F1HUMBP2\n",
      "F1HUMBP2\n",
      "F1HUMBP2\n",
      "F1HUMBP2\n",
      "F1HUMBP2\n",
      "F1HUMBP2\n",
      "F1HUMBP2\n",
      "F23\n",
      "FB21B0035K-FF\n",
      "LIST - uspořádaný seznam prvků DICTIONARY (dict) - neuspořádaný seznam párů prvků\n",
      "dsdss\n",
      "pepík\n",
      "test\n",
      "test\n",
      "test\n",
      "test\n",
      "test\n",
      "test\n",
      "test\n",
      "test\n",
      "test\n",
      "test\n",
      "test\n",
      "test\n",
      "test\n",
      "test\n",
      "test\n",
      "test\n",
      "test\n",
      "test\n",
      "test\n",
      "test\n",
      "test\n",
      "test\n",
      "test\n",
      "test\n",
      "test\n",
      "test\n",
      "test\n",
      "test\n",
      "val1 or val2\n"
     ]
    },
    {
     "data": {
      "text/plain": [
       "            user     ntb                      time  \\\n",
       "0   F20B0539P-FF  python  Tue Feb 27 13:49:49 2024   \n",
       "1   F20B0539P-FF  python  Tue Feb 27 13:50:18 2024   \n",
       "2   F20B0539P-FF  python  Tue Feb 27 14:18:33 2024   \n",
       "3      F20B0539P     api  Tue Mar 12 12:41:07 2024   \n",
       "4      F20B0539P     api  Tue Mar 12 12:52:34 2024   \n",
       "\n",
       "                                                arg1  arg2    n    osCislo  \n",
       "0                                               1920  None  1.0  F20B0539P  \n",
       "1                                               1920  None  2.0  F20B0539P  \n",
       "2  {'klic1': 'aktualizovaná hodnota', 'klic2': 'h...  None  3.0  F20B0539P  \n",
       "3  {'items': [{'commentary': '(B): AE 1983: Z. 3/...  None  1.0  F20B0539P  \n",
       "4                            provinz=ges&offset=6820  None  2.0  F20B0539P  "
      ],
      "text/html": [
       "<div>\n",
       "<style scoped>\n",
       "    .dataframe tbody tr th:only-of-type {\n",
       "        vertical-align: middle;\n",
       "    }\n",
       "\n",
       "    .dataframe tbody tr th {\n",
       "        vertical-align: top;\n",
       "    }\n",
       "\n",
       "    .dataframe thead th {\n",
       "        text-align: right;\n",
       "    }\n",
       "</style>\n",
       "<table border=\"1\" class=\"dataframe\">\n",
       "  <thead>\n",
       "    <tr style=\"text-align: right;\">\n",
       "      <th></th>\n",
       "      <th>user</th>\n",
       "      <th>ntb</th>\n",
       "      <th>time</th>\n",
       "      <th>arg1</th>\n",
       "      <th>arg2</th>\n",
       "      <th>n</th>\n",
       "      <th>osCislo</th>\n",
       "    </tr>\n",
       "  </thead>\n",
       "  <tbody>\n",
       "    <tr>\n",
       "      <th>0</th>\n",
       "      <td>F20B0539P-FF</td>\n",
       "      <td>python</td>\n",
       "      <td>Tue Feb 27 13:49:49 2024</td>\n",
       "      <td>1920</td>\n",
       "      <td>None</td>\n",
       "      <td>1.0</td>\n",
       "      <td>F20B0539P</td>\n",
       "    </tr>\n",
       "    <tr>\n",
       "      <th>1</th>\n",
       "      <td>F20B0539P-FF</td>\n",
       "      <td>python</td>\n",
       "      <td>Tue Feb 27 13:50:18 2024</td>\n",
       "      <td>1920</td>\n",
       "      <td>None</td>\n",
       "      <td>2.0</td>\n",
       "      <td>F20B0539P</td>\n",
       "    </tr>\n",
       "    <tr>\n",
       "      <th>2</th>\n",
       "      <td>F20B0539P-FF</td>\n",
       "      <td>python</td>\n",
       "      <td>Tue Feb 27 14:18:33 2024</td>\n",
       "      <td>{'klic1': 'aktualizovaná hodnota', 'klic2': 'h...</td>\n",
       "      <td>None</td>\n",
       "      <td>3.0</td>\n",
       "      <td>F20B0539P</td>\n",
       "    </tr>\n",
       "    <tr>\n",
       "      <th>3</th>\n",
       "      <td>F20B0539P</td>\n",
       "      <td>api</td>\n",
       "      <td>Tue Mar 12 12:41:07 2024</td>\n",
       "      <td>{'items': [{'commentary': '(B): AE 1983: Z. 3/...</td>\n",
       "      <td>None</td>\n",
       "      <td>1.0</td>\n",
       "      <td>F20B0539P</td>\n",
       "    </tr>\n",
       "    <tr>\n",
       "      <th>4</th>\n",
       "      <td>F20B0539P</td>\n",
       "      <td>api</td>\n",
       "      <td>Tue Mar 12 12:52:34 2024</td>\n",
       "      <td>provinz=ges&amp;offset=6820</td>\n",
       "      <td>None</td>\n",
       "      <td>2.0</td>\n",
       "      <td>F20B0539P</td>\n",
       "    </tr>\n",
       "  </tbody>\n",
       "</table>\n",
       "</div>"
      ]
     },
     "execution_count": 40,
     "metadata": {},
     "output_type": "execute_result"
    }
   ],
   "execution_count": 40
  },
  {
   "metadata": {
    "ExecuteTime": {
     "end_time": "2024-04-12T13:21:17.805608Z",
     "start_time": "2024-04-12T13:21:17.797067Z"
    }
   },
   "cell_type": "code",
   "source": [
    "KDDHB_students = pd.read_csv(\"../data/KDDHB_students.csv\", sep=\";\", encoding='cp1250')\n",
    "KDDHB_students = dict(zip(KDDHB_students[\"osCislo\"], KDDHB_students[\"prijmeni\"]))\n",
    "KDDHB_students"
   ],
   "outputs": [
    {
     "data": {
      "text/plain": [
       "{'F22B0199P': 'BOHÁČKOVÁ',\n",
       " 'F21B0005K': 'BOŠKOVÁ',\n",
       " 'F22B0118P': 'BUCHEŇOVÁ',\n",
       " 'F22B0201P': 'COUFALOVÁ',\n",
       " 'F21B0164P': 'DĚDEČKOVÁ',\n",
       " 'F22B0211P': 'GRUNDFESTOVÁ',\n",
       " 'F22B0030K': 'HAVELOVÁ',\n",
       " 'F21B0035K': 'HLAVÍNOVÁ',\n",
       " 'F21B0022K': 'KELLNEROVÁ',\n",
       " 'F21B0028K': 'KUBEŠOVÁ',\n",
       " 'F22B0185P': 'KUBINCOVÁ',\n",
       " 'F22B0235P': 'LAPKA',\n",
       " 'F22B0198P': 'LE',\n",
       " 'F21B0033K': 'NOVÁ',\n",
       " 'F20B0539P': 'NOVÁK',\n",
       " 'F22B0248P': 'PÁNKOVÁ',\n",
       " 'F21B0040K': 'REMEŠOVÁ',\n",
       " 'F22B0267P': 'ŠKAMPOVÁ',\n",
       " 'F22B0273P': 'ŠLEFR',\n",
       " 'F21B0051K': 'VOLOPICH',\n",
       " 'F21B0206P': 'WISLOCKÁ'}"
      ]
     },
     "execution_count": 41,
     "metadata": {},
     "output_type": "execute_result"
    }
   ],
   "execution_count": 41
  },
  {
   "metadata": {
    "ExecuteTime": {
     "end_time": "2024-04-12T13:25:35.721727Z",
     "start_time": "2024-04-12T13:25:35.718507Z"
    }
   },
   "cell_type": "code",
   "source": [
    "data_df[\"kddhb_students\"] = data_df[\"osCislo\"].apply(lambda x: KDDHB_students[x] if x in KDDHB_students.keys() else None)\n",
    "#data_df[\"kddhb_students\"] = data_df[\"osCislo\"].apply(lambda x: KDDHB_students.get(x, x))"
   ],
   "outputs": [],
   "execution_count": 48
  },
  {
   "metadata": {
    "ExecuteTime": {
     "end_time": "2024-04-12T13:25:57.675685Z",
     "start_time": "2024-04-12T13:25:57.666969Z"
    }
   },
   "cell_type": "code",
   "source": "data_df[data_df[\"kddhb_students\"].notnull()]",
   "outputs": [
    {
     "data": {
      "text/plain": [
       "              user     ntb                      time  \\\n",
       "0     F20B0539P-FF  python  Tue Feb 27 13:49:49 2024   \n",
       "1     F20B0539P-FF  python  Tue Feb 27 13:50:18 2024   \n",
       "2     F20B0539P-FF  python  Tue Feb 27 14:18:33 2024   \n",
       "3        F20B0539P     api  Tue Mar 12 12:41:07 2024   \n",
       "4        F20B0539P     api  Tue Mar 12 12:52:34 2024   \n",
       "..             ...     ...                       ...   \n",
       "196      F22B0273P     gis  Thu Mar 21 22:03:09 2024   \n",
       "197      F22B0273P    http  Tue Mar  5 13:32:49 2024   \n",
       "198      F22B0273P    http  Tue Mar  5 13:53:49 2024   \n",
       "199      F22B0273P     tei  Tue Mar 12 22:05:05 2024   \n",
       "200      F22B0273P     tei  Tue Mar 12 22:11:33 2024   \n",
       "\n",
       "                                                  arg1  arg2    n    osCislo  \\\n",
       "0                                                 1920  None  1.0  F20B0539P   \n",
       "1                                                 1920  None  2.0  F20B0539P   \n",
       "2    {'klic1': 'aktualizovaná hodnota', 'klic2': 'h...  None  3.0  F20B0539P   \n",
       "3    {'items': [{'commentary': '(B): AE 1983: Z. 3/...  None  1.0  F20B0539P   \n",
       "4                              provinz=ges&offset=6820  None  2.0  F20B0539P   \n",
       "..                                                 ...   ...  ...        ...   \n",
       "196                                          kontrola2  None  2.0  F22B0273P   \n",
       "197  https://www.phil.muni.cz/fil/scf/komplet/skrac...  None  1.0  F22B0273P   \n",
       "198                                              http2  None  2.0  F22B0273P   \n",
       "199             Die Vergnügungen  \\n  der Melancholey.  None  1.0  F22B0273P   \n",
       "200  https://raw.githubusercontent.com/PerseusDL/ca...  None  2.0  F22B0273P   \n",
       "\n",
       "    kddhb_students  \n",
       "0            NOVÁK  \n",
       "1            NOVÁK  \n",
       "2            NOVÁK  \n",
       "3            NOVÁK  \n",
       "4            NOVÁK  \n",
       "..             ...  \n",
       "196          ŠLEFR  \n",
       "197          ŠLEFR  \n",
       "198          ŠLEFR  \n",
       "199          ŠLEFR  \n",
       "200          ŠLEFR  \n",
       "\n",
       "[163 rows x 8 columns]"
      ],
      "text/html": [
       "<div>\n",
       "<style scoped>\n",
       "    .dataframe tbody tr th:only-of-type {\n",
       "        vertical-align: middle;\n",
       "    }\n",
       "\n",
       "    .dataframe tbody tr th {\n",
       "        vertical-align: top;\n",
       "    }\n",
       "\n",
       "    .dataframe thead th {\n",
       "        text-align: right;\n",
       "    }\n",
       "</style>\n",
       "<table border=\"1\" class=\"dataframe\">\n",
       "  <thead>\n",
       "    <tr style=\"text-align: right;\">\n",
       "      <th></th>\n",
       "      <th>user</th>\n",
       "      <th>ntb</th>\n",
       "      <th>time</th>\n",
       "      <th>arg1</th>\n",
       "      <th>arg2</th>\n",
       "      <th>n</th>\n",
       "      <th>osCislo</th>\n",
       "      <th>kddhb_students</th>\n",
       "    </tr>\n",
       "  </thead>\n",
       "  <tbody>\n",
       "    <tr>\n",
       "      <th>0</th>\n",
       "      <td>F20B0539P-FF</td>\n",
       "      <td>python</td>\n",
       "      <td>Tue Feb 27 13:49:49 2024</td>\n",
       "      <td>1920</td>\n",
       "      <td>None</td>\n",
       "      <td>1.0</td>\n",
       "      <td>F20B0539P</td>\n",
       "      <td>NOVÁK</td>\n",
       "    </tr>\n",
       "    <tr>\n",
       "      <th>1</th>\n",
       "      <td>F20B0539P-FF</td>\n",
       "      <td>python</td>\n",
       "      <td>Tue Feb 27 13:50:18 2024</td>\n",
       "      <td>1920</td>\n",
       "      <td>None</td>\n",
       "      <td>2.0</td>\n",
       "      <td>F20B0539P</td>\n",
       "      <td>NOVÁK</td>\n",
       "    </tr>\n",
       "    <tr>\n",
       "      <th>2</th>\n",
       "      <td>F20B0539P-FF</td>\n",
       "      <td>python</td>\n",
       "      <td>Tue Feb 27 14:18:33 2024</td>\n",
       "      <td>{'klic1': 'aktualizovaná hodnota', 'klic2': 'h...</td>\n",
       "      <td>None</td>\n",
       "      <td>3.0</td>\n",
       "      <td>F20B0539P</td>\n",
       "      <td>NOVÁK</td>\n",
       "    </tr>\n",
       "    <tr>\n",
       "      <th>3</th>\n",
       "      <td>F20B0539P</td>\n",
       "      <td>api</td>\n",
       "      <td>Tue Mar 12 12:41:07 2024</td>\n",
       "      <td>{'items': [{'commentary': '(B): AE 1983: Z. 3/...</td>\n",
       "      <td>None</td>\n",
       "      <td>1.0</td>\n",
       "      <td>F20B0539P</td>\n",
       "      <td>NOVÁK</td>\n",
       "    </tr>\n",
       "    <tr>\n",
       "      <th>4</th>\n",
       "      <td>F20B0539P</td>\n",
       "      <td>api</td>\n",
       "      <td>Tue Mar 12 12:52:34 2024</td>\n",
       "      <td>provinz=ges&amp;offset=6820</td>\n",
       "      <td>None</td>\n",
       "      <td>2.0</td>\n",
       "      <td>F20B0539P</td>\n",
       "      <td>NOVÁK</td>\n",
       "    </tr>\n",
       "    <tr>\n",
       "      <th>...</th>\n",
       "      <td>...</td>\n",
       "      <td>...</td>\n",
       "      <td>...</td>\n",
       "      <td>...</td>\n",
       "      <td>...</td>\n",
       "      <td>...</td>\n",
       "      <td>...</td>\n",
       "      <td>...</td>\n",
       "    </tr>\n",
       "    <tr>\n",
       "      <th>196</th>\n",
       "      <td>F22B0273P</td>\n",
       "      <td>gis</td>\n",
       "      <td>Thu Mar 21 22:03:09 2024</td>\n",
       "      <td>kontrola2</td>\n",
       "      <td>None</td>\n",
       "      <td>2.0</td>\n",
       "      <td>F22B0273P</td>\n",
       "      <td>ŠLEFR</td>\n",
       "    </tr>\n",
       "    <tr>\n",
       "      <th>197</th>\n",
       "      <td>F22B0273P</td>\n",
       "      <td>http</td>\n",
       "      <td>Tue Mar  5 13:32:49 2024</td>\n",
       "      <td>https://www.phil.muni.cz/fil/scf/komplet/skrac...</td>\n",
       "      <td>None</td>\n",
       "      <td>1.0</td>\n",
       "      <td>F22B0273P</td>\n",
       "      <td>ŠLEFR</td>\n",
       "    </tr>\n",
       "    <tr>\n",
       "      <th>198</th>\n",
       "      <td>F22B0273P</td>\n",
       "      <td>http</td>\n",
       "      <td>Tue Mar  5 13:53:49 2024</td>\n",
       "      <td>http2</td>\n",
       "      <td>None</td>\n",
       "      <td>2.0</td>\n",
       "      <td>F22B0273P</td>\n",
       "      <td>ŠLEFR</td>\n",
       "    </tr>\n",
       "    <tr>\n",
       "      <th>199</th>\n",
       "      <td>F22B0273P</td>\n",
       "      <td>tei</td>\n",
       "      <td>Tue Mar 12 22:05:05 2024</td>\n",
       "      <td>Die Vergnügungen  \\n  der Melancholey.</td>\n",
       "      <td>None</td>\n",
       "      <td>1.0</td>\n",
       "      <td>F22B0273P</td>\n",
       "      <td>ŠLEFR</td>\n",
       "    </tr>\n",
       "    <tr>\n",
       "      <th>200</th>\n",
       "      <td>F22B0273P</td>\n",
       "      <td>tei</td>\n",
       "      <td>Tue Mar 12 22:11:33 2024</td>\n",
       "      <td>https://raw.githubusercontent.com/PerseusDL/ca...</td>\n",
       "      <td>None</td>\n",
       "      <td>2.0</td>\n",
       "      <td>F22B0273P</td>\n",
       "      <td>ŠLEFR</td>\n",
       "    </tr>\n",
       "  </tbody>\n",
       "</table>\n",
       "<p>163 rows × 8 columns</p>\n",
       "</div>"
      ]
     },
     "execution_count": 51,
     "metadata": {},
     "output_type": "execute_result"
    }
   ],
   "execution_count": 51
  },
  {
   "metadata": {
    "ExecuteTime": {
     "end_time": "2024-03-05T16:48:26.378011Z",
     "start_time": "2024-03-05T16:48:26.374094Z"
    }
   },
   "cell_type": "code",
   "source": "len(data_df[\"user\"].unique().tolist())",
   "outputs": [
    {
     "data": {
      "text/plain": [
       "78"
      ]
     },
     "execution_count": 9,
     "metadata": {},
     "output_type": "execute_result"
    }
   ],
   "execution_count": 9
  },
  {
   "metadata": {},
   "cell_type": "code",
   "outputs": [],
   "execution_count": null,
   "source": ""
  }
 ],
 "metadata": {
  "kernelspec": {
   "display_name": ".env",
   "language": "python",
   "name": "python3"
  },
  "language_info": {
   "codemirror_mode": {
    "name": "ipython",
    "version": 3
   },
   "file_extension": ".py",
   "mimetype": "text/x-python",
   "name": "python",
   "nbconvert_exporter": "python",
   "pygments_lexer": "ipython3",
   "version": "3.11.8"
  }
 },
 "nbformat": 4,
 "nbformat_minor": 2
}
