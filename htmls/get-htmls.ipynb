{
 "cells": [
  {
   "cell_type": "code",
   "id": "initial_id",
   "metadata": {
    "collapsed": true,
    "ExecuteTime": {
     "end_time": "2024-02-02T08:54:14.857453Z",
     "start_time": "2024-02-02T08:54:14.854010Z"
    }
   },
   "outputs": [],
   "source": [
    "import os\n",
    "from nbconvert import HTMLExporter\n",
    "import codecs\n",
    "import nbformat\n",
    "from traitlets.config import Config\n",
    "import re\n",
    "import pandas as pd\n",
    "import markdown"
   ],
   "execution_count": 63
  },
  {
   "metadata": {
    "ExecuteTime": {
     "end_time": "2024-02-02T08:54:15.125309Z",
     "start_time": "2024-02-02T08:54:15.122239Z"
    }
   },
   "cell_type": "code",
   "outputs": [],
   "source": [
    "notebook_path = '../scripts/site.ipynb'"
   ],
   "id": "af34a907a97f9f3e",
   "execution_count": 64
  },
  {
   "metadata": {},
   "cell_type": "markdown",
   "source": [
    "### Vytvořit obsah"
   ],
   "id": "c361be74118a6250"
  },
  {
   "metadata": {
    "ExecuteTime": {
     "end_time": "2024-02-02T08:54:15.762953Z",
     "start_time": "2024-02-02T08:54:15.758339Z"
    }
   },
   "cell_type": "code",
   "outputs": [
    {
     "data": {
      "text/plain": [
       "['api.ipynb',\n",
       " 'gis.ipynb',\n",
       " 'http.ipynb',\n",
       " 'jupyter.ipynb',\n",
       " 'nlp.ipynb',\n",
       " 'ocr.ipynb',\n",
       " 'pdf.ipynb',\n",
       " 'python.ipynb',\n",
       " 'regex.ipynb',\n",
       " 'site.ipynb',\n",
       " 'tei.ipynb']"
      ]
     },
     "metadata": {},
     "output_type": "execute_result",
     "execution_count": 65
    }
   ],
   "source": [
    "notebooks = sorted([f for f in os.listdir(\"../scripts/\") if \"ipynb\" in f])\n",
    "notebooks"
   ],
   "id": "52f4d4b41ec5babd",
   "execution_count": 65
  },
  {
   "metadata": {
    "ExecuteTime": {
     "end_time": "2024-02-02T08:54:15.967778Z",
     "start_time": "2024-02-02T08:54:15.963700Z"
    }
   },
   "cell_type": "code",
   "outputs": [],
   "source": [
    "ordered_notebooks = [\n",
    "'jupyter.ipynb',\n",
    "'python.ipynb',\n",
    "'http.ipynb',\n",
    "'api.ipynb',\n",
    "'site.ipynb',\n",
    "'gis.ipynb',\n",
    "'regex.ipynb',\n",
    "'tei.ipynb',\n",
    "'nlp.ipynb',\n",
    "'pdf.ipynb',\n",
    "'ocr.ipynb']"
   ],
   "id": "29477478b66ef199",
   "execution_count": 66
  },
  {
   "metadata": {
    "ExecuteTime": {
     "end_time": "2024-02-02T08:54:16.387407Z",
     "start_time": "2024-02-02T08:54:16.208541Z"
    }
   },
   "cell_type": "code",
   "outputs": [
    {
     "data": {
      "text/plain": [
       "                                              chapter  \\\n",
       "0                            1. Jupyter: Stručný úvod   \n",
       "1   2. Python: Základní proměnné, funkce a datové ...   \n",
       "2                            3. HTTP: Dotazování webu   \n",
       "3                          4. API: Aplikační rozhraní   \n",
       "4                          5. Formální síťová analýza   \n",
       "5                    6. GIS: Analýza prostorových dat   \n",
       "6                                 7. Regulérní výrazy   \n",
       "7                         8. TEI-XML: Digitální edice   \n",
       "8               9. NLP: Zpracování přirozeného jazyka   \n",
       "9                             10. PDF: Extrakce textu   \n",
       "10                  11. OCR: Rozpoznávání znaků textu   \n",
       "\n",
       "                                            ipynb_url  \\\n",
       "0   https://github.com/CCS-ZCU/pribehy-dat/blob/ma...   \n",
       "1   https://github.com/CCS-ZCU/pribehy-dat/blob/ma...   \n",
       "2   https://github.com/CCS-ZCU/pribehy-dat/blob/ma...   \n",
       "3   https://github.com/CCS-ZCU/pribehy-dat/blob/ma...   \n",
       "4   https://github.com/CCS-ZCU/pribehy-dat/blob/ma...   \n",
       "5   https://github.com/CCS-ZCU/pribehy-dat/blob/ma...   \n",
       "6   https://github.com/CCS-ZCU/pribehy-dat/blob/ma...   \n",
       "7   https://github.com/CCS-ZCU/pribehy-dat/blob/ma...   \n",
       "8   https://github.com/CCS-ZCU/pribehy-dat/blob/ma...   \n",
       "9   https://github.com/CCS-ZCU/pribehy-dat/blob/ma...   \n",
       "10  https://github.com/CCS-ZCU/pribehy-dat/blob/ma...   \n",
       "\n",
       "                                             html_url  \n",
       "0   https://htmlpreview.github.io/?https://github....  \n",
       "1   https://htmlpreview.github.io/?https://github....  \n",
       "2   https://htmlpreview.github.io/?https://github....  \n",
       "3   https://htmlpreview.github.io/?https://github....  \n",
       "4   https://htmlpreview.github.io/?https://github....  \n",
       "5   https://htmlpreview.github.io/?https://github....  \n",
       "6   https://htmlpreview.github.io/?https://github....  \n",
       "7   https://htmlpreview.github.io/?https://github....  \n",
       "8   https://htmlpreview.github.io/?https://github....  \n",
       "9   https://htmlpreview.github.io/?https://github....  \n",
       "10  https://htmlpreview.github.io/?https://github....  "
      ],
      "text/html": [
       "<div>\n",
       "<style scoped>\n",
       "    .dataframe tbody tr th:only-of-type {\n",
       "        vertical-align: middle;\n",
       "    }\n",
       "\n",
       "    .dataframe tbody tr th {\n",
       "        vertical-align: top;\n",
       "    }\n",
       "\n",
       "    .dataframe thead th {\n",
       "        text-align: right;\n",
       "    }\n",
       "</style>\n",
       "<table border=\"1\" class=\"dataframe\">\n",
       "  <thead>\n",
       "    <tr style=\"text-align: right;\">\n",
       "      <th></th>\n",
       "      <th>chapter</th>\n",
       "      <th>ipynb_url</th>\n",
       "      <th>html_url</th>\n",
       "    </tr>\n",
       "  </thead>\n",
       "  <tbody>\n",
       "    <tr>\n",
       "      <th>0</th>\n",
       "      <td>1. Jupyter: Stručný úvod</td>\n",
       "      <td>https://github.com/CCS-ZCU/pribehy-dat/blob/ma...</td>\n",
       "      <td>https://htmlpreview.github.io/?https://github....</td>\n",
       "    </tr>\n",
       "    <tr>\n",
       "      <th>1</th>\n",
       "      <td>2. Python: Základní proměnné, funkce a datové ...</td>\n",
       "      <td>https://github.com/CCS-ZCU/pribehy-dat/blob/ma...</td>\n",
       "      <td>https://htmlpreview.github.io/?https://github....</td>\n",
       "    </tr>\n",
       "    <tr>\n",
       "      <th>2</th>\n",
       "      <td>3. HTTP: Dotazování webu</td>\n",
       "      <td>https://github.com/CCS-ZCU/pribehy-dat/blob/ma...</td>\n",
       "      <td>https://htmlpreview.github.io/?https://github....</td>\n",
       "    </tr>\n",
       "    <tr>\n",
       "      <th>3</th>\n",
       "      <td>4. API: Aplikační rozhraní</td>\n",
       "      <td>https://github.com/CCS-ZCU/pribehy-dat/blob/ma...</td>\n",
       "      <td>https://htmlpreview.github.io/?https://github....</td>\n",
       "    </tr>\n",
       "    <tr>\n",
       "      <th>4</th>\n",
       "      <td>5. Formální síťová analýza</td>\n",
       "      <td>https://github.com/CCS-ZCU/pribehy-dat/blob/ma...</td>\n",
       "      <td>https://htmlpreview.github.io/?https://github....</td>\n",
       "    </tr>\n",
       "    <tr>\n",
       "      <th>5</th>\n",
       "      <td>6. GIS: Analýza prostorových dat</td>\n",
       "      <td>https://github.com/CCS-ZCU/pribehy-dat/blob/ma...</td>\n",
       "      <td>https://htmlpreview.github.io/?https://github....</td>\n",
       "    </tr>\n",
       "    <tr>\n",
       "      <th>6</th>\n",
       "      <td>7. Regulérní výrazy</td>\n",
       "      <td>https://github.com/CCS-ZCU/pribehy-dat/blob/ma...</td>\n",
       "      <td>https://htmlpreview.github.io/?https://github....</td>\n",
       "    </tr>\n",
       "    <tr>\n",
       "      <th>7</th>\n",
       "      <td>8. TEI-XML: Digitální edice</td>\n",
       "      <td>https://github.com/CCS-ZCU/pribehy-dat/blob/ma...</td>\n",
       "      <td>https://htmlpreview.github.io/?https://github....</td>\n",
       "    </tr>\n",
       "    <tr>\n",
       "      <th>8</th>\n",
       "      <td>9. NLP: Zpracování přirozeného jazyka</td>\n",
       "      <td>https://github.com/CCS-ZCU/pribehy-dat/blob/ma...</td>\n",
       "      <td>https://htmlpreview.github.io/?https://github....</td>\n",
       "    </tr>\n",
       "    <tr>\n",
       "      <th>9</th>\n",
       "      <td>10. PDF: Extrakce textu</td>\n",
       "      <td>https://github.com/CCS-ZCU/pribehy-dat/blob/ma...</td>\n",
       "      <td>https://htmlpreview.github.io/?https://github....</td>\n",
       "    </tr>\n",
       "    <tr>\n",
       "      <th>10</th>\n",
       "      <td>11. OCR: Rozpoznávání znaků textu</td>\n",
       "      <td>https://github.com/CCS-ZCU/pribehy-dat/blob/ma...</td>\n",
       "      <td>https://htmlpreview.github.io/?https://github....</td>\n",
       "    </tr>\n",
       "  </tbody>\n",
       "</table>\n",
       "</div>"
      ]
     },
     "metadata": {},
     "output_type": "execute_result",
     "execution_count": 67
    }
   ],
   "source": [
    "table_of_content = []\n",
    "path = \"../scripts/\"\n",
    "base_url = \"https://github.com/CCS-ZCU/pribehy-dat/blob/master/scripts/\"\n",
    "htmlpreview_url = \"https://htmlpreview.github.io/?https://github.com/CCS-ZCU/pribehy-dat/blob/master/htmls/\"\n",
    "for n, filename in enumerate(ordered_notebooks):\n",
    "    notebook_node = nbformat.read(path + filename, as_version=4)\n",
    "    cell_source = notebook_node[\"cells\"][0][\"source\"] + \"\\n\" + notebook_node[\"cells\"][1][\"source\"]\n",
    "    title = re.search(\"(#\\s+)(.+)(\\n)\", cell_source).groups()[1]\n",
    "    table_of_content.append({\n",
    "        \"chapter\" :str(n+1) + \". \" + title,\n",
    "        \"ipynb_url\": base_url + filename, \n",
    "        \"html_url\" : htmlpreview_url + filename.replace(\".ipynb\", \".html\")})\n",
    "table_of_content_df = pd.DataFrame(table_of_content, columns=[\"chapter\", \"ipynb_url\", \"html_url\"])\n",
    "table_of_content_df"
   ],
   "id": "7f232442c4bfde30",
   "execution_count": 67
  },
  {
   "metadata": {
    "ExecuteTime": {
     "end_time": "2024-02-02T08:54:16.426535Z",
     "start_time": "2024-02-02T08:54:16.414039Z"
    }
   },
   "cell_type": "code",
   "outputs": [],
   "source": [
    "def formatted_toc(row):\n",
    "    markdown_link_ipynb = \" [[ipynb]({})]\".format(row[\"ipynb_url\"])\n",
    "    markdown_link_html = \" [[html]({})]\".format(row[\"html_url\"])\n",
    "    return  \"*\" + row[\"chapter\"] + \"*\" + markdown_link_ipynb + markdown_link_html + \"\\n\\n\"\n",
    "table_of_content_df[\"formatted_toc\"] = table_of_content_df.apply(formatted_toc, axis=1)"
   ],
   "id": "af6591071ba6c4d0",
   "execution_count": 68
  },
  {
   "metadata": {
    "ExecuteTime": {
     "end_time": "2024-02-02T08:54:16.684296Z",
     "start_time": "2024-02-02T08:54:16.675082Z"
    }
   },
   "cell_type": "code",
   "outputs": [
    {
     "data": {
      "text/plain": [
       "'### Obsah\\n*1. Jupyter: Stručný úvod* [[ipynb](https://github.com/CCS-ZCU/pribehy-dat/blob/master/scripts/jupyter.ipynb)] [[html](https://htmlpreview.github.io/?https://github.com/CCS-ZCU/pribehy-dat/blob/master/htmls/jupyter.html)]\\n\\n*2. Python: Základní proměnné, funkce a datové struktury* [[ipynb](https://github.com/CCS-ZCU/pribehy-dat/blob/master/scripts/python.ipynb)] [[html](https://htmlpreview.github.io/?https://github.com/CCS-ZCU/pribehy-dat/blob/master/htmls/python.html)]\\n\\n*3. HTTP: Dotazování webu* [[ipynb](https://github.com/CCS-ZCU/pribehy-dat/blob/master/scripts/http.ipynb)] [[html](https://htmlpreview.github.io/?https://github.com/CCS-ZCU/pribehy-dat/blob/master/htmls/http.html)]\\n\\n*4. API: Aplikační rozhraní* [[ipynb](https://github.com/CCS-ZCU/pribehy-dat/blob/master/scripts/api.ipynb)] [[html](https://htmlpreview.github.io/?https://github.com/CCS-ZCU/pribehy-dat/blob/master/htmls/api.html)]\\n\\n*5. Formální síťová analýza* [[ipynb](https://github.com/CCS-ZCU/pribehy-dat/blob/master/scripts/site.ipynb)] [[html](https://htmlpreview.github.io/?https://github.com/CCS-ZCU/pribehy-dat/blob/master/htmls/site.html)]\\n\\n*6. GIS: Analýza prostorových dat* [[ipynb](https://github.com/CCS-ZCU/pribehy-dat/blob/master/scripts/gis.ipynb)] [[html](https://htmlpreview.github.io/?https://github.com/CCS-ZCU/pribehy-dat/blob/master/htmls/gis.html)]\\n\\n*7. Regulérní výrazy* [[ipynb](https://github.com/CCS-ZCU/pribehy-dat/blob/master/scripts/regex.ipynb)] [[html](https://htmlpreview.github.io/?https://github.com/CCS-ZCU/pribehy-dat/blob/master/htmls/regex.html)]\\n\\n*8. TEI-XML: Digitální edice* [[ipynb](https://github.com/CCS-ZCU/pribehy-dat/blob/master/scripts/tei.ipynb)] [[html](https://htmlpreview.github.io/?https://github.com/CCS-ZCU/pribehy-dat/blob/master/htmls/tei.html)]\\n\\n*9. NLP: Zpracování přirozeného jazyka* [[ipynb](https://github.com/CCS-ZCU/pribehy-dat/blob/master/scripts/nlp.ipynb)] [[html](https://htmlpreview.github.io/?https://github.com/CCS-ZCU/pribehy-dat/blob/master/htmls/nlp.html)]\\n\\n*10. PDF: Extrakce textu* [[ipynb](https://github.com/CCS-ZCU/pribehy-dat/blob/master/scripts/pdf.ipynb)] [[html](https://htmlpreview.github.io/?https://github.com/CCS-ZCU/pribehy-dat/blob/master/htmls/pdf.html)]\\n\\n*11. OCR: Rozpoznávání znaků textu* [[ipynb](https://github.com/CCS-ZCU/pribehy-dat/blob/master/scripts/ocr.ipynb)] [[html](https://htmlpreview.github.io/?https://github.com/CCS-ZCU/pribehy-dat/blob/master/htmls/ocr.html)]\\n\\n\\n###'"
      ]
     },
     "metadata": {},
     "output_type": "execute_result",
     "execution_count": 69
    }
   ],
   "source": [
    "content_markdown = \"### Obsah\\n\" + \"\".join(list(table_of_content_df[\"formatted_toc\"])) + \"\\n###\"\n",
    "content_markdown"
   ],
   "id": "567e35a411bbe77b",
   "execution_count": 69
  },
  {
   "metadata": {
    "ExecuteTime": {
     "end_time": "2024-02-02T08:54:17.119391Z",
     "start_time": "2024-02-02T08:54:17.083932Z"
    }
   },
   "cell_type": "code",
   "outputs": [],
   "source": [
    "with open(\"../README.md\", 'r') as file:\n",
    "    data = file.read()\n",
    "\n",
    "data = re.sub('### Obsah.+###', content_markdown, data, flags=re.DOTALL)\n",
    "with open(\"../README.md\", 'w') as file:\n",
    "    file.write(data)\n",
    "\n",
    "with open(\"../scripts/README.md\", 'w') as file:\n",
    "    file.write(content_markdown)"
   ],
   "id": "8e4f3f635d7fd4de",
   "execution_count": 70
  },
  {
   "metadata": {
    "ExecuteTime": {
     "end_time": "2024-02-02T08:54:17.548755Z",
     "start_time": "2024-02-02T08:54:17.545240Z"
    }
   },
   "cell_type": "code",
   "outputs": [],
   "source": [
    "html = markdown.markdown(data)\n",
    "with open(\"uvod.html\", 'w') as file:\n",
    "    file.write(html)"
   ],
   "id": "c44f2dcefd26173f",
   "execution_count": 71
  },
  {
   "metadata": {},
   "cell_type": "markdown",
   "source": [
    "### Vytvoř renderované HTML verze notebooků a ulož je do složky htmls"
   ],
   "id": "674edc67449d42f8"
  },
  {
   "metadata": {
    "ExecuteTime": {
     "end_time": "2024-02-02T08:54:18.285160Z",
     "start_time": "2024-02-02T08:54:18.200183Z"
    }
   },
   "cell_type": "code",
   "outputs": [],
   "source": [
    "def update_execution_times(notebook_node):\n",
    "    exec_time = 1\n",
    "    new_cells = []\n",
    "    for cell in notebook_node[\"cells\"]:\n",
    "        if cell[\"cell_type\"] == \"code\":\n",
    "            new_cell = cell.copy()  # it's safer to copy the cell if you don't want to modify original one\n",
    "            new_cell[\"metadata\"][\"execution_time\"] = exec_time\n",
    "            new_cell[\"execution_count\"] = exec_time\n",
    "            exec_time += 1\n",
    "            new_cells.append(new_cell)\n",
    "        else:\n",
    "            new_cells.append(cell)\n",
    "    notebook_node[\"cells\"] = new_cells\n",
    "    return notebook_node"
   ],
   "id": "be6c00024b29dece",
   "execution_count": 72
  },
  {
   "metadata": {
    "ExecuteTime": {
     "end_time": "2024-01-31T19:06:32.950014Z",
     "start_time": "2024-01-31T19:06:28.977258Z"
    }
   },
   "cell_type": "code",
   "outputs": [],
   "source": [
    "c = Config(\n",
    "    {\n",
    "        \"HTMLExporter\": {\n",
    "            \"template_name\": \"full\",  # Use the full template\n",
    "        }\n",
    "    }\n",
    ")\n",
    "\n",
    "for notebook_name in ordered_notebooks:\n",
    "    # using nbformat to read the notebook\n",
    "    notebook_node = nbformat.read(\"../scripts/\" + notebook_name, as_version=4)\n",
    "    notebook_node = update_execution_times(notebook_node)\n",
    "    nbformat.write(notebook_node, \"../scripts/\" + notebook_name)\n",
    "    # using HTMLExporter from nbconvert to convert .ipynb to .html\n",
    "    html_exporter = HTMLExporter()\n",
    "    body, _ = html_exporter.from_notebook_node(notebook_node)\n",
    "    # writing the converted html to a file\n",
    "    output_path = notebook_name.replace(\".ipynb\", \".html\")\n",
    "    with codecs.open(output_path, 'w', encoding='utf-8') as file:\n",
    "        file.write(body)"
   ],
   "id": "f9cae9387de56ac7",
   "execution_count": 54
  }
 ],
 "metadata": {
  "kernelspec": {
   "display_name": "pribehy_kernel",
   "language": "python",
   "name": "pribehy_kernel"
  },
  "language_info": {
   "codemirror_mode": {
    "name": "ipython",
    "version": 2
   },
   "file_extension": ".py",
   "mimetype": "text/x-python",
   "name": "python",
   "nbconvert_exporter": "python",
   "pygments_lexer": "ipython2",
   "version": "2.7.6"
  }
 },
 "nbformat": 4,
 "nbformat_minor": 5
}
