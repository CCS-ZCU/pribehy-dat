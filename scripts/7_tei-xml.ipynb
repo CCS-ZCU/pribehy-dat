{
 "nbformat": 4,
 "nbformat_minor": 0,
 "metadata": {
  "colab": {
   "provenance": [],
   "include_colab_link": true
  },
  "kernelspec": {
   "name": "python3",
   "language": "python",
   "display_name": "Python 3 (ipykernel)"
  }
 },
 "cells": [
  {
   "cell_type": "markdown",
   "metadata": {
    "id": "view-in-github",
    "colab_type": "text"
   },
   "source": [
    "<a href=\"https://colab.research.google.com/github/CCS-ZCU/pribehy-dat/blob/master/scripts/7_tei-xml.ipynb\" target=\"_parent\"><img src=\"https://colab.research.google.com/assets/colab-badge.svg\" alt=\"Open In Colab\"/></a>"
   ]
  },
  {
   "cell_type": "markdown",
   "metadata": {
    "id": "E9k-PhFNT-Eo"
   },
   "source": [
    "\n",
    "# Digitální edice ve standardu TEI-XML\n",
    "\n",
    "autor: Vojtěch Kaše (kase@kfi.zcu.cz)"
   ]
  },
  {
   "cell_type": "code",
   "execution_count": null,
   "outputs": [],
   "source": [
    "V této kapitole se budeme věnovat práci s digitálními editacemi vytvořenými podle standardu TEI-XML"
   ],
   "metadata": {
    "collapsed": false
   }
  }
 ]
}
