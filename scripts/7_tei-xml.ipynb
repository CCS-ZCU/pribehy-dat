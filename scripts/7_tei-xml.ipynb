{
 "nbformat": 4,
 "nbformat_minor": 0,
 "metadata": {
  "colab": {
   "provenance": [],
   "include_colab_link": true
  },
  "kernelspec": {
   "name": "pribehy_kernel",
   "language": "python",
   "display_name": "pribehy_kernel"
  }
 },
 "cells": [
  {
   "cell_type": "markdown",
   "metadata": {
    "id": "view-in-github",
    "colab_type": "text"
   },
   "source": [
    "<a href=\"https://colab.research.google.com/github/CCS-ZCU/pribehy-dat/blob/master/scripts/7_tei-xml.ipynb\" target=\"_parent\"><img src=\"https://colab.research.google.com/assets/colab-badge.svg\" alt=\"Open In Colab\"/></a>"
   ]
  },
  {
   "cell_type": "markdown",
   "metadata": {
    "id": "E9k-PhFNT-Eo"
   },
   "source": [
    "\n",
    "# Digitální edice ve standardu TEI-XML\n",
    "\n",
    "autor: Vojtěch Kaše (kase@kfi.zcu.cz)"
   ]
  },
  {
   "cell_type": "markdown",
   "source": [
    "V této kapitole se budeme věnovat práci s digitálními editacemi vytvořenými podle standardu [TEI-XML](https://tei-c.org). TEI-XML je způsob jak digitalizované literární dílo veřejně prezentovat tak, aby z něj zejména badatelé a studenti z oblasti humanitních věd mohli získávat hodnotné informace například skrz pokročilé prohlédávání. Za tímto účelem jsou texty v těchto edicích ve větší či menší míře buď ručně nebo polautomaticky anotované. Tím se myslí, že jsou v těchto textech označeny specifické výrazy, jako jsou názvy osob či organizací, místní názvy nebo jiné důležité termíny. Stejně tak jsou v záhlaví těchto dokumentů standardizovaným způsobem uvedena nejrůznější metadata, typicky data o autorovi daného textu, jeho vydavateli apod. Projektů, které dnes využívají tento standard, je obrovské množství. Rozsáhlý výčet lze nalézt [zde](https://tei-c.org/Activities/Projects/). \n",
    "\n",
    "Důkladné obeznámení se s těmito standardy by vydalo na celý samostatný kurz. Zde však budeme postupovat obdobně jako v jiných kapitolách a pouze se uvnitř prostředí Jupyter notebooku prohlédneme, jak některé takovéto digitalizované edice vypadají a jak s nimi můžeme pracovat.\n",
    "\n",
    "TEI-XML je spojení dvou akronymů: TEI = Text Encoding Initiative a XML = Extensible Markup Language.\n",
    " \n",
    "**XML** je definováno jako *rozšiřitelný značkovací jazyk* a stejnojmenný formát souborů využívaný zejména pro výměnu dat mezi aplikacemi a pro publikování dokumentů (viz [wikipedia](https://cs.wikipedia.org/wiki/Extensible_Markup_Language). V mnoha ohledech se běžné XML dokumenty podobají kódu HTML stránek (jak uvidíme néže, pro práci s nimi se v rámci Pythonu i využívají stejné nástroje). Na rozdíl od HTML stránek však data naformátovaná za využití XML standardu nejsou určena pro webové prohlížeče.\n",
    "\n",
    "XML soubor sestává z prvků (elementů), které jsou vyznačeny *tagy*, neboli značkami. Tyto tagy jsou vyznačeny pomocí symbolů `<` a `>`, jsou definovány tvůrcem a tvůrce si může vytvářet zcela vlastní tagy. Vždy zde však musí být právě jeden kořenový prvek, tzv. root. V XML je kořenový prvek jedinečný a nemá svůj vlastní obsah, ale pouze obaluje všechny další prvky v dokumentu. \n",
    "\n",
    "Tagy mohou a často obsahují atributy, které definují dodatečné vlastnosti příslušných prvků nebo data provazují s dalšími daty, často pomocí hypertextových odkazů. Na rozdíl od HTML musí být v rámci XML všechny tagy tzv. párové. Tag v podobě `<element1>` prvek otvírá a v podobě `</element>` jej uzavírá. Vše mezi tím je obsahem daného prvku. Prvky se do sebe často vnořují, čímž dokument získává určitou stromovou a navigovatelnou strukturu. \n",
    "\n",
    "Nejlépe bude struktura xml souboru vidět na následujícím minimalistickém příkladu:\n",
    "\n",
    "```xml\n",
    "<?xml version=\"1.0\" encoding=\"UTF-8\"?>\n",
    "<root>\n",
    "    <element1 attribute1=\"value1\">Text for element1</element1>\n",
    "    <element2 attribute2=\"value2\">Text for element2</element2>\n",
    "</root>\n",
    "```\n",
    "Inciativa **TEI** přichází se standardy pro to, jak tento formát dat použít pro zveřejňování dokumentů, jako jsou literární díla, básně, rozhovory, dopisy, nápisy, papyry a mnoho dalšího (existuje např. i verze pro obrazová díla či hudební notaci). TEI byla ustavena v roce 1987 s následujícím cílem \"vyvíjet, udžovat a propagovat metody pro kódování humanitních dat v elektronické podobě\n",
    " nezávislé na konkrétním hardweru a softwaru (\"to develop, maintain, and promulgate hardware- and software-independent methods for encoding humanities data in electronic form\" - viz [zde](https://tei-c.org/about/history/)).\n",
    " \n",
    "Veškerý text daného dokumentu se nachází uvnitř prvku `<body></body>`. Ten se může standardizovaným způsoben dále dělit na kapitoly, verše či řádky, či průpovědi jednotlivých mluvčích, v závislosti na žánru daného dokumentu (všechny tyto možnosti jsou detailně popsány v Guidlines [zde](https://tei-c.org/release/doc/tei-p5-doc/en/html/index.html)). Stejně tak jsou jasně nadefinovány způsoby, jak v rámci textu vyznačit výskyty jmenných entit, jako jsou jména osob či místní názvy, nebo například datumy (viz [zde](https://tei-c.org/release/doc/tei-p5-doc/en/html/ND.html). Tyto stanardy si ukážeme na konkrétníh příkladech níže. Pro detailnější obeznámení pak doporučiji například online kurz [zde](https://teach.dariah.eu/course/view.php?id=32). Praktický úvodní text v češtině je dostupný např. [zde](https://digital-humanities.phil.muni.cz/clanky/metadata-co-ma-spolecneho-netflix-a-digitalni-humanitni-vedy)."
   ],
   "metadata": {
    "collapsed": false
   }
  },
  {
   "cell_type": "markdown",
   "source": [
    "Jak již bylo uvedeno výše, XML dokumenty mají v mnohém obdobné vlastnosti jako webové stránky ve formátu HTML a k práce s nimi lze použít podobné nástroje. Ač TEI-XML dokumenty nejsou určeny pro webové prohlížeče, lze je často nalézt přímo na webu, např. Nezříka jsou také zpřístupňovány pomocí API. V následujícím civčení proto budeme používat v podstatě stejné nástroje jako v případě kapitol o HTTP a websrapingu a využívání API, zejména knihovny `requests` a `BeautifulSoup`."
   ],
   "metadata": {
    "collapsed": false
   }
  },
  {
   "cell_type": "code",
   "outputs": [],
   "source": [
    "import requests\n",
    "from bs4 import BeautifulSoup"
   ],
   "metadata": {
    "collapsed": false,
    "ExecuteTime": {
     "end_time": "2024-01-26T20:52:58.968714Z",
     "start_time": "2024-01-26T20:52:58.959965Z"
    }
   },
   "execution_count": 7
  },
  {
   "cell_type": "markdown",
   "source": [
    "### Korpus německé poezie\n",
    "\n",
    "Jako první příklad vybereme báseň z korpusu německé poezie **Deutsches Lyrik Korpus** (DLK), dostupného na platformě GitHub [zde](https://github.com/tnhaider/DLK). Jednotlivé básně naformátované ve formě TEI-XML souborů se nachází v této podsložce čítající více než 60,000 položek: https://github.com/tnhaider/DLK/tree/master/DLK/tei/tei_plain."
   ],
   "metadata": {
    "collapsed": false
   }
  },
  {
   "cell_type": "markdown",
   "source": [
    "Vybereme náhodný soubor, otevřeme jej, a zobrazíme jej v \"raw\" podobě (v oknu souboru klikneme v pravém horním rohu). URL adresu souboru v syrové podobě si zkopírujeme a vložíme jako hodnotu proměnné `url` v buňce\n",
    " níže. (Tato url adresa se skládá z informace u umístění souboru v rámci Githubu, která je pro všechny soubory shodná a samotného názvu souboru.)\n",
    "\n",
    "\n"
   ],
   "metadata": {
    "collapsed": false
   }
  },
  {
   "cell_type": "code",
   "outputs": [
    {
     "data": {
      "text/plain": "<Response [200]>"
     },
     "execution_count": 16,
     "metadata": {},
     "output_type": "execute_result"
    }
   ],
   "source": [
    "url = \"https://raw.githubusercontent.com/tnhaider/DLK/master/DLK/tei/tei_plain/dta.poem.10006-Zachariae%2C_Justus_Friedrich_Wilhelm-Die_Vergnügungen_der_Melancholey..tei.xml\"\n",
    "resp = requests.get(url)\n",
    "resp"
   ],
   "metadata": {
    "collapsed": false,
    "ExecuteTime": {
     "end_time": "2024-01-26T21:04:35.753054Z",
     "start_time": "2024-01-26T21:04:35.536363Z"
    }
   },
   "execution_count": 16
  },
  {
   "cell_type": "markdown",
   "source": [
    "Načtený soubor (v proměnné `resp`) následně parsujeme pomocí knihovny `BeuatifulSoup` do proměnné `soup`, pomocí čehož získáme přístup k stromové struktuře daných dat. Obsah si vypíšeme."
   ],
   "metadata": {
    "collapsed": false
   }
  },
  {
   "cell_type": "code",
   "outputs": [
    {
     "data": {
      "text/plain": "<html><body><tei xmlns=\"http://www.tei-c.org/ns/1.0\">\n<teiheader>\n<filedesc>\n<titlestmt>\n<title type=\"main\">Die Vergnügungen  \n  der Melancholey.</title>\n<author>\n<persname>\n<surname>Zachariae</surname>\n<forename>Justus Friedrich Wilhelm</forename>\n</persname>\n</author>\n<editor>\n<persname>\n<surname>Haider</surname>\n<forename>Thomas Nikolaus</forename>\n</persname>\n<orgname>University of Göttingen/Max Planck Institute for Empirical Aesthetics, Frankfurt am Main</orgname>\n<email>mail@thomashaider.net</email>\n</editor>\n</titlestmt>\n<editionstmt>\n<edition>\n<name>Deutsches Lyrik Korpus Edition (DLK) v6</name>\n<date>9-11-2022</date>\n</edition>\n</editionstmt>\n<extent>\n<measure type=\"stanzas\">1</measure>\n<measure type=\"verses\">22</measure>\n<measure type=\"verses_per_stanza\">1-22</measure>\n<measure type=\"syllables\">290</measure>\n<measure type=\"tokens\">179</measure>\n<measure type=\"characters\">1101</measure>\n</extent>\n<publicationstmt>\n<publisher>\n<name></name>\n</publisher>\n<pubplace></pubplace>\n<date type=\"publication\">1764</date>\n</publicationstmt>\n<sourcedesc>\n<p corresp=\"urn:nbn:de:kobv:b4-20674-3\"></p>\n</sourcedesc>\n</filedesc>\n<profiledesc>\n<textclass>\n<classcode scheme=\"literary_period\">N.A.</classcode>\n<classcode scheme=\"text_genre\">Lyrik</classcode>\n</textclass>\n</profiledesc>\n</teiheader>\n<text>\n<div n=\"1\">\n<lg type=\"poem\">\n          Die Vergnügungen  \n  der Melancholey.\n          <lg rhyme=\"unknown\" type=\"stanza\">\n<l>Andre mögen am lächelnden Abend des Sommers</l>\n<l>Wenn sie am dumpfen Geräusch des murmelnden Ba-</l>\n<l>Oder das sanftere Roth des streifichten Westens be-</l>\n<l>Mich ergetzt nur Nebel und Dunkel des blassen De-</l>\n<l>Wenn die Schatten sich dann des langen Abends ge-</l>\n<l>Und ein schimmernder Stral der matten sterbenden</l>\n<l>Durch den dämmernden Raum, sich bricht: dann laß</l>\n<l>Von dem Jauchzen des Unsinns, das ietzo mit festlichem</l>\n<l>Durch die erleuchteten Zimmer ertönt, dann laß mich</l>\n<l>Sitzen, allein nur vergnügt an der niedern klagenden</l>\n<l>Schlummer erweckendem Lied; und laß mich mit mei-</l>\n<l>In mich gekehrt, den Wechsel der Dinge, die leeren</l>\n<l>Und die vergebliche Mühe betrachten, die unsrer Er-</l>\n<l>Forschen vereitelt, so wie wir die Wüste des Lebens</l>\n<l>Diese gesegnete Stunde der Stille wird alles das Lä-</l>\n<l>Schimmernder Thorheit entdecken, das, gleich des li-</l>\n<l>Falscher zaubrischer Kunst, die allzusicheren Augen</l>\n<l>Mit der verborgnen Verblendung getäuscht; den bezau-</l>\n<l>Uns zu trinken verführt, wodurch die Seele berauschet,</l>\n<l>Ganz sich vergißt, und der Mensch zum Ungeheuer</l>\n<l>Gierig kosten wir ihn, doch in dem frohen Genuße</l>\n<l>Merken wir nicht die giftigen Hefen, die mit ihm ge-</l>\n</lg>\n</lg>\n</div>\n</text>\n</tei>\n</body></html>"
     },
     "execution_count": 17,
     "metadata": {},
     "output_type": "execute_result"
    }
   ],
   "source": [
    "soup = BeautifulSoup(resp.text)\n",
    "soup"
   ],
   "metadata": {
    "collapsed": false,
    "ExecuteTime": {
     "end_time": "2024-01-26T21:04:36.638571Z",
     "start_time": "2024-01-26T21:04:36.620837Z"
    }
   },
   "execution_count": 17
  },
  {
   "cell_type": "markdown",
   "source": [
    "Vidíme kód s jednotlivými prvky. V samotném úvodu vidíme prvky definující metadata o dané básni: jméno autora uvnitř prvku `<persname>`, do sebe vnořuje ještě dva podprvky `<surname>` a `<lastname>`. Všechna tato metadata se nacházejí uvnitř prvku `<teiheader>`. Po jeho uzavření následuje prvek `<text>`, v níž se nachází text příslušné básně. \n",
    "\n",
    "Nejprve z textu vyzískejme základní metadata. Stačí nám pohybovat se po stromové struktuře stejně, jako jsme to činili v kapitole o webscrapingu. Například k názvu literárního díla se dostaneme takto:"
   ],
   "metadata": {
    "collapsed": false
   }
  },
  {
   "cell_type": "code",
   "outputs": [
    {
     "data": {
      "text/plain": "<title type=\"main\">Die Vergnügungen  \n  der Melancholey.</title>"
     },
     "execution_count": 19,
     "metadata": {},
     "output_type": "execute_result"
    }
   ],
   "source": [
    "soup.teiheader.title"
   ],
   "metadata": {
    "collapsed": false,
    "ExecuteTime": {
     "end_time": "2024-01-26T21:10:42.181382Z",
     "start_time": "2024-01-26T21:10:42.175561Z"
    }
   },
   "execution_count": 19
  },
  {
   "cell_type": "markdown",
   "source": [
    "V tomto případě však vidíme i tagy se všemi jejich atributy. Chceme-li samotný textový obsah, musíme použít `text`. Hodnotu si uložíme do proměnné a vypíšeme si ji.\n",
    "\n",
    "\n"
   ],
   "metadata": {
    "collapsed": false
   }
  },
  {
   "cell_type": "code",
   "outputs": [
    {
     "name": "stdout",
     "output_type": "stream",
     "text": [
      "Die Vergnügungen  \n",
      "  der Melancholey.\n"
     ]
    }
   ],
   "source": [
    "title = soup.teiheader.title.text\n",
    "print(title)"
   ],
   "metadata": {
    "collapsed": false,
    "ExecuteTime": {
     "end_time": "2024-01-26T21:13:58.467939Z",
     "start_time": "2024-01-26T21:13:58.459154Z"
    }
   },
   "execution_count": 25
  },
  {
   "cell_type": "markdown",
   "source": [
    "Stejně můžeme postupovat v případě dalších prvků:"
   ],
   "metadata": {
    "collapsed": false
   }
  },
  {
   "cell_type": "code",
   "outputs": [],
   "source": [
    "author_surname = soup.teiheader.author.surname.text\n",
    "author_forename = soup.teiheader.author.forename.text"
   ],
   "metadata": {
    "collapsed": false,
    "ExecuteTime": {
     "end_time": "2024-01-26T21:15:52.104834Z",
     "start_time": "2024-01-26T21:15:52.099691Z"
    }
   },
   "execution_count": 30
  },
  {
   "cell_type": "markdown",
   "source": [
    "Vypišme si nyní celé jméno autora a příslušné básně."
   ],
   "metadata": {
    "collapsed": false
   }
  },
  {
   "cell_type": "code",
   "outputs": [
    {
     "name": "stdout",
     "output_type": "stream",
     "text": [
      "Justus Friedrich Wilhelm Zachariae - Die Vergnügungen  \n",
      "  der Melancholey.\n"
     ]
    }
   ],
   "source": [
    "print(author_forename, author_surname, \"-\", title)"
   ],
   "metadata": {
    "collapsed": false,
    "ExecuteTime": {
     "end_time": "2024-01-26T21:17:59.259156Z",
     "start_time": "2024-01-26T21:17:59.253586Z"
    }
   },
   "execution_count": 37
  },
  {
   "cell_type": "markdown",
   "source": [
    "Pozor, že některé tagy se zde mohou objevovat opakovaně. Pomocí metody výše jsme si vypsali pouze první výskyt daného tagu. Chceme-li vypsat všechny výskyty, musíme na objekt `soup` použít metodu `findall()`. Vyzkoušíme s prvkem `surname`."
   ],
   "metadata": {
    "collapsed": false
   }
  },
  {
   "cell_type": "code",
   "outputs": [
    {
     "data": {
      "text/plain": "[<surname>Zachariae</surname>, <surname>Haider</surname>]"
     },
     "execution_count": 39,
     "metadata": {},
     "output_type": "execute_result"
    }
   ],
   "source": [
    "soup.find_all(\"surname\")"
   ],
   "metadata": {
    "collapsed": false,
    "ExecuteTime": {
     "end_time": "2024-01-26T21:19:57.225368Z",
     "start_time": "2024-01-26T21:19:57.219788Z"
    }
   },
   "execution_count": 39
  },
  {
   "cell_type": "markdown",
   "source": [
    "V případě některých básní budeme mít jmen víc. Je to proto, že je zde ještě příjmení editora dané publikace. Proto jsme výše byli konkrétnější a specifikovali, že se v rámci objektu `soup` pohybujeme v prvku autor."
   ],
   "metadata": {
    "collapsed": false
   }
  },
  {
   "cell_type": "markdown",
   "source": [
    "Nyní se přesuňme k textu samotné básně. Ta je v rámci objektu `soup` dostupná v prvku `text`. V nejsyrovější podobě se k textu básně dostaneme takto."
   ],
   "metadata": {
    "collapsed": false
   }
  },
  {
   "cell_type": "code",
   "outputs": [
    {
     "data": {
      "text/plain": "'\\n\\n\\n          Die Vergnügungen  \\n  der Melancholey.\\n          \\nAndre mögen am lächelnden Abend des Sommers\\nWenn sie am dumpfen Geräusch des murmelnden Ba-\\nOder das sanftere Roth des streifichten Westens be-\\nMich ergetzt nur Nebel und Dunkel des blassen De-\\nWenn die Schatten sich dann des langen Abends ge-\\nUnd ein schimmernder Stral der matten sterbenden\\nDurch den dämmernden Raum, sich bricht: dann laß\\nVon dem Jauchzen des Unsinns, das ietzo mit festlichem\\nDurch die erleuchteten Zimmer ertönt, dann laß mich\\nSitzen, allein nur vergnügt an der niedern klagenden\\nSchlummer erweckendem Lied; und laß mich mit mei-\\nIn mich gekehrt, den Wechsel der Dinge, die leeren\\nUnd die vergebliche Mühe betrachten, die unsrer Er-\\nForschen vereitelt, so wie wir die Wüste des Lebens\\nDiese gesegnete Stunde der Stille wird alles das Lä-\\nSchimmernder Thorheit entdecken, das, gleich des li-\\nFalscher zaubrischer Kunst, die allzusicheren Augen\\nMit der verborgnen Verblendung getäuscht; den bezau-\\nUns zu trinken verführt, wodurch die Seele berauschet,\\nGanz sich vergißt, und der Mensch zum Ungeheuer\\nGierig kosten wir ihn, doch in dem frohen Genuße\\nMerken wir nicht die giftigen Hefen, die mit ihm ge-\\n\\n\\n\\n'"
     },
     "execution_count": 45,
     "metadata": {},
     "output_type": "execute_result"
    }
   ],
   "source": [
    "soup.find(\"text\").get_text() # zde je název tagu \"<text>\" poněkud matoucí, neboť BeautifulSoup pracuje se stejnojmenným atributem"
   ],
   "metadata": {
    "collapsed": false,
    "ExecuteTime": {
     "end_time": "2024-01-26T21:27:38.552063Z",
     "start_time": "2024-01-26T21:27:38.545805Z"
    }
   },
   "execution_count": 45
  },
  {
   "cell_type": "markdown",
   "source": [
    "V rámci digitální edice je však báseň dostupná po jednotlivých verších. Pro jednotlivé verše se používá tag `<l>`. Vytvořme si uspořádaný seznam všech veršů:"
   ],
   "metadata": {
    "collapsed": false
   }
  },
  {
   "cell_type": "code",
   "outputs": [
    {
     "data": {
      "text/plain": "['Andre mögen am lächelnden Abend des Sommers',\n 'Wenn sie am dumpfen Geräusch des murmelnden Ba-',\n 'Oder das sanftere Roth des streifichten Westens be-',\n 'Mich ergetzt nur Nebel und Dunkel des blassen De-',\n 'Wenn die Schatten sich dann des langen Abends ge-',\n 'Und ein schimmernder Stral der matten sterbenden',\n 'Durch den dämmernden Raum, sich bricht: dann laß',\n 'Von dem Jauchzen des Unsinns, das ietzo mit festlichem',\n 'Durch die erleuchteten Zimmer ertönt, dann laß mich',\n 'Sitzen, allein nur vergnügt an der niedern klagenden',\n 'Schlummer erweckendem Lied; und laß mich mit mei-',\n 'In mich gekehrt, den Wechsel der Dinge, die leeren',\n 'Und die vergebliche Mühe betrachten, die unsrer Er-',\n 'Forschen vereitelt, so wie wir die Wüste des Lebens',\n 'Diese gesegnete Stunde der Stille wird alles das Lä-',\n 'Schimmernder Thorheit entdecken, das, gleich des li-',\n 'Falscher zaubrischer Kunst, die allzusicheren Augen',\n 'Mit der verborgnen Verblendung getäuscht; den bezau-',\n 'Uns zu trinken verführt, wodurch die Seele berauschet,',\n 'Ganz sich vergißt, und der Mensch zum Ungeheuer',\n 'Gierig kosten wir ihn, doch in dem frohen Genuße',\n 'Merken wir nicht die giftigen Hefen, die mit ihm ge-']"
     },
     "execution_count": 47,
     "metadata": {},
     "output_type": "execute_result"
    }
   ],
   "source": [
    "verses = [l.text for l in soup.find(\"text\").find_all(\"l\")]\n",
    "verses"
   ],
   "metadata": {
    "collapsed": false,
    "ExecuteTime": {
     "end_time": "2024-01-26T21:28:10.546708Z",
     "start_time": "2024-01-26T21:28:10.540607Z"
    }
   },
   "execution_count": 47
  },
  {
   "cell_type": "markdown",
   "source": [
    "### Dokumenty EHRI\n",
    "\n",
    "Jako další příklad použijeme digitální edice vydané projektem [EHRI](https://www.ehri-project.eu) (=The European Holocaust Research Infrastructure). EHRI sestává z mnoha podprojektů. Jedním z nich jsou přepisy raných svědectví přeživších holocaustu ([Early Holocaust Testimony](https://early-testimony.ehri-project.eu)). Tyto edice jsou velice důkladně označkovány ohledně vystujících se jmen osob, místních názvů i organizací, jimž jsou přiřazeny jednoznačné identifikátory, které jsou spravovány v samostatných databázích (vocabularies). Jedná se o vzorový příklad tzv. [Linked Open Data](https://www.ontotext.com/knowledgehub/fundamentals/linked-data-linked-open-data/).    \n",
    "\n",
    "Vyjdeme  z rozcestníku jednotlivých svědectví dostupného [zde](https://early-testimony.ehri-project.eu/search). Digitální edice ve formátu XML je u každého svědectví dostupná ke stažení přes tlačítko v pravém horním rohu. My však nemusíme soubor fyzicky stahovat, pouze si zkopírujeme URL adresu, na kterou tlačítko pro stažení XML směřuje. "
   ],
   "metadata": {
    "collapsed": false
   }
  },
  {
   "cell_type": "code",
   "outputs": [
    {
     "data": {
      "text/plain": "<Response [200]>"
     },
     "execution_count": 48,
     "metadata": {},
     "output_type": "execute_result"
    }
   ],
   "source": [
    "url = \"https://ehri-editions-uh.s3.eu-central-1.amazonaws.com/original/e90886e26c700a8966e2355f023df678.xml\"\n",
    "resp = requests.get(url)\n",
    "resp"
   ],
   "metadata": {
    "collapsed": false,
    "ExecuteTime": {
     "end_time": "2024-01-26T21:42:55.221896Z",
     "start_time": "2024-01-26T21:42:54.720270Z"
    }
   },
   "execution_count": 48
  },
  {
   "cell_type": "code",
   "outputs": [
    {
     "data": {
      "text/plain": "<?xml version=\"1.0\" encoding=\"utf-8\"?>\n<?xml-model href=\"http://www.tei-c.org/release/xml/tei/custom/schema/relaxng/tei_all.rng\" type=\"application/xml\" schematypens=\"http://relaxng.org/ns/structure/1.0\"?><!--EHRI ODT to TEI convertor: 2018-01-08T13:51:56+01:00--><TEI xml:id=\"EHRI-UH-19380803_CS\" xmlns=\"http://www.tei-c.org/ns/1.0\">\n<teiHeader>\n<fileDesc>\n<titleStmt>\n<title>Povolení Ústředny pro sociální péči Židovské náboženské obce ve Vídni zakoupit\n          jízdenku pro jízdu Alexandera Spitze do Prahy</title>\n</titleStmt>\n<editionStmt>\n<edition>Hranice útěku. Rakouští uprchlíci na československých hranicích v roce 1938 </edition>\n<author>\n<persName>Michal Frankl</persName>\n</author>\n<author>\n<persName>Wolfgang Schellenbacher</persName>\n</author>\n<sponsor>Zukunftsfonds der Republik Österreich</sponsor>\n<sponsor>Grantová agentura ČR</sponsor>\n</editionStmt>\n<publicationStmt>\n<publisher>\n<ref target=\"https://www.ehri-project.eu/\">European Holocaust Research\n            Infrastructure</ref>\n</publisher>\n<availability>\n<licence target=\"http://creativecommons.org/licenses/by-sa/4.0/\">Attribution-ShareAlike\n            4.0 International</licence>\n</availability>\n</publicationStmt>\n<sourceDesc>\n<msDesc>\n<msIdentifier>\n<country ref=\"https://portal.ehri-project.eu/countries/at\">Rakousko</country>\n<repository ref=\"https://portal.ehri-project.eu/institutions/at-001985\">Archiv der\n              Israelitischen Kultusgemeinde (IKG) Wien</repository>\n<collection ref=\"https://portal.ehri-project.eu/units/at-001985-ikg_ar_8\">Fürsorgezentrale der IKG Wien, Auswanderungsabteilung</collection>\n<idno>Sign. A/VIE/IKG/II/FIN/AUS/1/3</idno>\n</msIdentifier>\n<physDesc/>\n</msDesc>\n<bibl>Archiv der Israelitischen Kultusgemeinde (IKG) Wien, Sign. A/VIE/IKG/II/FIN/AUS/1/3.\n            <textLang mainLang=\"de\">Originál německy.</textLang></bibl>\n<listPlace>\n<place>\n<placeName>Vídeň</placeName>\n<location>\n<geo>48.20849 16.37208</geo>\n</location>\n<linkGrp>\n<link target=\"http://www.geonames.org/2761369/vienna.html\" type=\"normal\"/>\n<link target=\"https://cs.wikipedia.org/wiki/V%C3%ADde%C5%88\" type=\"desc\"/>\n</linkGrp>\n</place>\n</listPlace>\n<listOrg>\n<org xml:id=\"ehri_bf_fursorgezentrale_der_ikg_wien\">\n<orgName>Ústředna sociální péče Židovské náboženské obce ve Vídni</orgName>\n</org>\n<org xml:id=\"ehri_bf_auswanderungsabteilung_der_ikg_wien\">\n<orgName>Vystěhovalecké oddělení Židovské náboženské obce ve Vídni</orgName>\n</org>\n<org>\n<!-- TRANSLATE! -->\n<orgName>Israelitische Kultusgemeinde Wien</orgName>\n<note><p>Israelitische Kultusgemeinde Wien</p></note>\n<linkGrp>\n<link target=\"https://portal.ehri-project.eu/authorities/ehri_cb-002399\" type=\"normal\"/>\n</linkGrp>\n</org>\n</listOrg>\n<listPerson>\n<person xml:id=\"ehri_bf_spitz_alexander\">\n<persName>Spitz, Alexander</persName>\n</person>\n</listPerson>\n</sourceDesc>\n</fileDesc>\n<profileDesc>\n<creation>\n<date when=\"1938-08-03\">3. srpna 1938</date>\n<placeName ref=\"https://www.geonames.org/2761369/vienna.html\">Vídeň</placeName>\n<orgName>Ústředna sociální péče Židovské náboženské obce ve Vídni</orgName>\n<idno>EHRI-UH-19380803</idno>\n</creation>\n<textClass>\n<keywords>\n<term>Hilfsorganisationen</term>\n</keywords>\n<catRef target=\"Hilfsorganisationen und Interventionen\"/>\n</textClass>\n<langUsage>\n<language ident=\"cs\">česky</language>\n</langUsage>\n<abstract>\n<p><!--Fahrkartenbewilligung Nr. 1115 der IKG Wien für Alexander Spitz für die Zugfahrt dritter\n          Klasse von Wien nach Prag für eine Person.--></p>\n</abstract>\n</profileDesc>\n</teiHeader>\n<text>\n<body>\n<p><pb facs=\"EHRI-UH-19380803_01.jpg\" n=\"1\"/><!-- [<hi rend=\"i\">Stempel</hi>:</p>\n      <p>Bezahlt</p>\n      <p> <date when=\"1938-08-03\">3. AUG. 1938</date>]</p>\n      <p/>\n      <p rend=\"center\">No 14453</p>\n      <p/>\n      <p><orgName ref=\"#ehri_bf_fursorgezentrale_der_ikg_wien\">Fürsorgezentrale</orgName></p>\n      <p>der <orgName ref=\"https://portal.ehri-project.eu/authorities/ehri_cb-002399\">isr.\n          Kultusgemeinde Wien</orgName></p>\n      <p>I. Seitenstetteng. 2 <placeName ref=\"http://www.geonames.org/2761369/vienna.html\"\n          >Wien</placeName>, am <date when=\"1938-08-03\">3. VIII.1938</date></p>\n      <p/>\n      <p>Wf. Akt Nr. 12818--></p>\n<p>Cestovní kanceláři M <orgName ref=\"#ehri_bf_auswanderungsabteilung_der_ikg_wien\">vystěhovaleckého oddělení Židovské náboženské obce ve\n        <placeName ref=\"https://www.geonames.org/2761369/vienna.html\">Vídni</placeName></orgName></p>\n<p>I., Rotenturmstraße 26</p>\n<p>Povolení č. 1115 zakoupit jízdenku</p>\n<p>pro pana <persName ref=\"#ehri_bf_spitz_alexander\">Alexandera Spitze</persName></p>\n<p>1 jízdenku třetí třídy rychlíku do Prahy</p>\n<p><orgName ref=\"#ehri_bf_auswanderungsabteilung_der_ikg_wien\">Vystěhovalecké oddělení\n          Židovské náboženské obce</orgName><note place=\"bottom\">razítko</note></p>\n<p>Tímto stvrzuji, že jsem shora uvedenou jízdenku přijal:</p>\n<p>\n<persName ref=\"#ehri_bf_spitz_alexander\">Alexander Spitz</persName></p><note place=\"bottom\">podpis příjemce</note>\n</body>\n</text>\n</TEI>"
     },
     "execution_count": 50,
     "metadata": {},
     "output_type": "execute_result"
    }
   ],
   "source": [
    "soup = BeautifulSoup(resp.text, features=\"xml\")\n",
    "soup"
   ],
   "metadata": {
    "collapsed": false,
    "ExecuteTime": {
     "end_time": "2024-01-26T21:43:46.715967Z",
     "start_time": "2024-01-26T21:43:46.707148Z"
    }
   },
   "execution_count": 50
  },
  {
   "cell_type": "markdown",
   "source": [
    "### Britská poezie 19. století\n",
    "\n",
    "Velice detailně anotovaná data zde: https://www.eighteenthcenturypoetry.org/authors/."
   ],
   "metadata": {
    "collapsed": false
   }
  },
  {
   "cell_type": "code",
   "outputs": [],
   "source": [],
   "metadata": {
    "collapsed": false,
    "ExecuteTime": {
     "end_time": "2024-01-26T20:41:21.298731Z",
     "start_time": "2024-01-26T20:41:21.285982Z"
    }
   },
   "execution_count": 2
  },
  {
   "cell_type": "code",
   "outputs": [],
   "source": [],
   "metadata": {
    "collapsed": false
   }
  }
 ]
}
