{
 "cells": [
  {
   "cell_type": "markdown",
   "metadata": {
    "id": "sWGcsI7Q_2sw"
   },
   "source": [
    "[![Open In Colab](https://colab.research.google.com/assets/colab-badge.svg)](https://colab.research.google.com/github/CCS-ZCU/pribehy-dat/blob/master/scripts/2_python.ipynb)\n",
    "\n",
    "# Stručný úvod do programovacího jazyka Python\n",
    "\n",
    "**autor**: *Vojtěch Kaše* (kase@ff.zcu.cz)\n",
    "\n",
    "[![](https://ccs.zcu.cz/wp-content/uploads/2021/10/cropped-ccs-logo_black_space_240x240.png)](https://ccs.zcu.cz)\n",
    "\n",
    "### Úvod a cíle kapitoly\n",
    "\n",
    "V této kapitole se blížeji obeznámíme se základními typy proměnných a datovými strukturami programovacího jazyka Python. \n",
    "Ukážeme si také některé často využívané postupy pro analýzu těchto datových struktur, jako je tzv. cyklus FOR. \n",
    "Ač se v tomto souboru studijních opor nejedná v pravém smyslu o kurz programování, je tento výklad pro další práci nezbytný.\n",
    "\n",
    "### Proměnné, datové typy a datové struktury\n",
    "\n",
    "Základní entitou v jakémkoli programovacím jazyce je proměnná (eng. *variable*). Proměnným připisujeme hodnoty neboli *values*.\n",
    "\n",
    "Hodnoty proměnných můžopu být buď základní datové typy nebo pokročilejší datové struktury. Základní datové typy jsou tyto:\n",
    "*   INTEGER (int) - celá čísla\n",
    "*   FLOAT - desetinná čísla, vyznačuje se desetinou čárkou, resp. \".\"\n",
    "*   STRING (str) - řetězec textu\n",
    "*   BOOLEAN (bool) - pravda (True) nebo nepravda (False)\n",
    "\n",
    "Datové struktury nám umožňují zacházet s větším množstvím entit najednou. Nejdůležitější jsou tyto:\n",
    "*  LIST - uspořádaný seznam prvků\n",
    "*  DICTIONARY (dict) - neuspořádaný seznam párů prvků\n",
    "\n",
    "Datové struktury se do sebe mohou dále zanořovat. Velice často se např. setkáme s LISTem LISTů"
   ]
  },
  {
   "cell_type": "markdown",
   "metadata": {
    "id": "_sn6S5ul_XJn"
   },
   "source": [
    "\n",
    "\n",
    "S číselnými proměnnými typu INT a STRING jsme již pracovali v předchozím cvičení. Zde si jen pro úplnost zopakujeme\n"
   ]
  },
  {
   "cell_type": "markdown",
   "metadata": {
    "collapsed": false
   },
   "source": [
    "### Proměnná typu INTEGER"
   ]
  },
  {
   "cell_type": "code",
   "execution_count": 1,
   "metadata": {
    "ExecuteTime": {
     "end_time": "2023-12-21T12:21:50.015236Z",
     "start_time": "2023-12-21T12:21:50.007623Z"
    },
    "execution_time": 1,
    "id": "bYx3je5WKG22"
   },
   "outputs": [],
   "source": [
    "# zavedení dvou číselných proměnných\n",
    "prvni_ciselna_promenna = 172\n",
    "druha_ciselna_promenna = 204\n",
    "# k provedení příkazů je potřeba tuto buňku spustit (viz výše)"
   ]
  },
  {
   "cell_type": "code",
   "execution_count": 2,
   "metadata": {
    "ExecuteTime": {
     "end_time": "2023-12-21T12:21:50.016036Z",
     "start_time": "2023-12-21T12:21:50.012734Z"
    },
    "execution_time": 2,
    "id": "levuJbuHKHJw"
   },
   "outputs": [
    {
     "data": {
      "text/plain": [
       "376"
      ]
     },
     "execution_count": 2,
     "metadata": {},
     "output_type": "execute_result"
    }
   ],
   "source": [
    "# vytvořáme třetí proměnnou, jejímž obsahem učiníme součet našich prvních dvou proměnných\n",
    "soucet_promennych = prvni_ciselna_promenna + druha_ciselna_promenna\n",
    "# výsledek si vypíšeme\n",
    "soucet_promennych"
   ]
  },
  {
   "cell_type": "markdown",
   "metadata": {
    "id": "DY7iU_lPZwdD"
   },
   "source": [
    "### Proměnná typu STRING\n",
    "Dále si vytvoříme poroměnnou v podobě textového řetězce.\n",
    "Zvolíme si pro ni pokud možno co nejlepší název.\n",
    "Chceme, aby šlo o proměnnou typu \"string\", a nikoli třeba \"int\" (= integer/celé číslo), což dáme najevo tím, že použijeme uvozovky"
   ]
  },
  {
   "cell_type": "code",
   "execution_count": 3,
   "metadata": {
    "execution_time": 3,
    "id": "1NPbY30VZwdG"
   },
   "outputs": [],
   "source": [
    "text1 = \"První textový obsah. \"\n",
    "text2 = \"Druhý textový obsah. \""
   ]
  },
  {
   "cell_type": "markdown",
   "metadata": {
    "collapsed": false
   },
   "source": [
    "> **SAMOSTATNÝ ÚKOL**: V buňce níže zkuste sečíst (pomocí symbolu \"+\") výše definované proměnné typu string `text1` a `text2`. K čemu dojde? "
   ]
  },
  {
   "cell_type": "code",
   "execution_count": 4,
   "metadata": {
    "ExecuteTime": {
     "end_time": "2023-12-21T12:44:02.904644Z",
     "start_time": "2023-12-21T12:44:02.867563Z"
    },
    "collapsed": false,
    "execution_time": 4
   },
   "outputs": [],
   "source": [
    "# Buňka kódu pro samostatný úkol:\n"
   ]
  },
  {
   "cell_type": "markdown",
   "metadata": {
    "collapsed": false
   },
   "source": [
    "### Proměnná typu FLOAT\n",
    "\n",
    "Proměnná typu float se chová obdobně jako proměnná typu integer, s tím rozdílem, že umožňuje pracovat s desetinnými čísly. \n",
    "Chceme-li tuto proměnnou definovat, vše, co je potřeba, je poxužít znak tečky jako vymezení desetiného čísla.\n"
   ]
  },
  {
   "cell_type": "code",
   "execution_count": 5,
   "metadata": {
    "ExecuteTime": {
     "end_time": "2023-12-21T13:02:16.853155Z",
     "start_time": "2023-12-21T13:02:16.837050Z"
    },
    "collapsed": false,
    "execution_time": 5
   },
   "outputs": [
    {
     "data": {
      "text/plain": [
       "31247.696736"
      ]
     },
     "execution_count": 17,
     "metadata": {},
     "output_type": "execute_result"
    }
   ],
   "source": [
    "n1 = 133.3548\n",
    "n2 = 234.32\n",
    "n = n1 * n2\n",
    "n"
   ]
  },
  {
   "cell_type": "markdown",
   "metadata": {
    "collapsed": false
   },
   "source": [
    "### Proměnná typu BOOLEAN (BOOL)\n",
    "\n",
    "Proměnné typu bool slouží k zachycení pravdivostních hodnot a jsou hojně uplatňovány v nejrůznějších funkcích při logických operacích a podmínečných výrocích \n",
    "K zavedení těchto proměnných se používají anglické výrazy `True` a `False`, a to přesně v této podobě a bez uvozovek. "
   ]
  },
  {
   "cell_type": "code",
   "execution_count": 6,
   "metadata": {
    "ExecuteTime": {
     "end_time": "2023-12-21T13:07:23.674987Z",
     "start_time": "2023-12-21T13:07:23.660742Z"
    },
    "collapsed": false,
    "execution_time": 6
   },
   "outputs": [
    {
     "data": {
      "text/plain": [
       "1"
      ]
     },
     "execution_count": 18,
     "metadata": {},
     "output_type": "execute_result"
    }
   ],
   "source": [
    "val1 = True\n",
    "val2 = False"
   ]
  },
  {
   "cell_type": "code",
   "execution_count": 7,
   "metadata": {
    "ExecuteTime": {
     "end_time": "2023-12-21T13:08:35.786766Z",
     "start_time": "2023-12-21T13:08:35.765248Z"
    },
    "collapsed": false,
    "execution_time": 7
   },
   "outputs": [
    {
     "data": {
      "text/plain": [
       "False"
      ]
     },
     "execution_count": 21,
     "metadata": {},
     "output_type": "execute_result"
    }
   ],
   "source": [
    "# chování těchto proměných v případě logického \"and\"\n",
    "val1 and val2"
   ]
  },
  {
   "cell_type": "markdown",
   "metadata": {
    "collapsed": false
   },
   "source": [
    "> **SAMOSTATNÝ ÚKOL**: Jaký výsledek získáme spojíme-li proměnné `val1` a `val2` pomocí logického \"or\" (obdobně jako v buňce výše?)"
   ]
  },
  {
   "cell_type": "code",
   "execution_count": 8,
   "metadata": {
    "ExecuteTime": {
     "end_time": "2023-12-21T13:11:15.574963Z",
     "start_time": "2023-12-21T13:11:15.539939Z"
    },
    "collapsed": false,
    "execution_time": 8
   },
   "outputs": [],
   "source": [
    "# Buňka kódu pro samostatný úkol:\n"
   ]
  },
  {
   "cell_type": "markdown",
   "metadata": {
    "collapsed": false
   },
   "source": [
    "Hodnotu v podobě boolovské proměnné často získáme jako výsledek určitých operací. Např. jako výsledek porovnávání dvou hodnot:"
   ]
  },
  {
   "cell_type": "code",
   "execution_count": 9,
   "metadata": {
    "ExecuteTime": {
     "end_time": "2023-12-21T14:13:10.175987Z",
     "start_time": "2023-12-21T14:13:10.163234Z"
    },
    "collapsed": false,
    "execution_time": 9
   },
   "outputs": [
    {
     "data": {
      "text/plain": [
       "False"
      ]
     },
     "execution_count": 34,
     "metadata": {},
     "output_type": "execute_result"
    }
   ],
   "source": [
    "n1 > n2"
   ]
  },
  {
   "cell_type": "markdown",
   "metadata": {
    "collapsed": false
   },
   "source": [
    "### Převod mezi typy proměnných\n",
    "\n",
    "Nezřídka se nám stane, že se v různých datasetech setkáme s tím, že nějaká informace je kódovaná jiným typem proměnné, než bychom si přáli. Např. letopočet, který by měl být definován celým číslem 1920, je kódováno číslem desetinným 1920.0, neboť některé souborové formáty a knihovny pracují primárně s desetinnými čísly. Pro numerické operace nás to nemusí trápit. \n",
    "Je však dobré vědět, že mezi různými typy proměnných lze různě převádět pomocí funkcí `str()`, `int()`, `float()` či `bool()`. "
   ]
  },
  {
   "cell_type": "code",
   "execution_count": 10,
   "metadata": {
    "ExecuteTime": {
     "end_time": "2023-12-21T12:57:43.117993Z",
     "start_time": "2023-12-21T12:57:43.110503Z"
    },
    "colab": {
     "base_uri": "https://localhost:8080/"
    },
    "execution_time": 10,
    "id": "rXm1ghl2UTKb",
    "outputId": "df643bdc-86cc-4753-c22c-eb4d759ba377"
   },
   "outputs": [
    {
     "data": {
      "text/plain": [
       "1920"
      ]
     },
     "execution_count": 10,
     "metadata": {},
     "output_type": "execute_result"
    }
   ],
   "source": [
    "# pomocí funkce int() převedeme rok vyjádřený desetinným číslem na celé číslo\n",
    "year = 1920.0\n",
    "year = int(year)\n",
    "year"
   ]
  },
  {
   "cell_type": "code",
   "execution_count": 11,
   "metadata": {
    "ExecuteTime": {
     "end_time": "2023-12-21T12:41:40.167683Z",
     "start_time": "2023-12-21T12:41:40.149394Z"
    },
    "collapsed": false,
    "execution_time": 11
   },
   "outputs": [
    {
     "data": {
      "text/plain": [
       "197"
      ]
     },
     "execution_count": 5,
     "metadata": {},
     "output_type": "execute_result"
    }
   ],
   "source": [
    "# POZOR: jak ukazuje příklad níže, nejedná se o zaokrouhlování!\n",
    "int(197.8)"
   ]
  },
  {
   "cell_type": "markdown",
   "metadata": {
    "collapsed": false
   },
   "source": [
    "Často narazíme na situaci, kdy je číselná hodnota kódována jako proměnná typu string, a tudíž nepřístupná pro matematické operace. "
   ]
  },
  {
   "cell_type": "code",
   "execution_count": 12,
   "metadata": {
    "ExecuteTime": {
     "end_time": "2023-12-21T12:59:52.467186Z",
     "start_time": "2023-12-21T12:59:52.446991Z"
    },
    "collapsed": false,
    "execution_time": 12
   },
   "outputs": [],
   "source": [
    "legth = \"175.6\" # proměnná definující výšku, avšak ve formátu string"
   ]
  },
  {
   "cell_type": "markdown",
   "metadata": {
    "collapsed": false
   },
   "source": [
    "> **SAMOSTATNÝ ÚKOL**: Převeďte proměnnou typu string definovanou v předchozí buňce na proměnnou typu float "
   ]
  },
  {
   "cell_type": "code",
   "execution_count": 13,
   "metadata": {
    "ExecuteTime": {
     "end_time": "2023-12-21T12:59:55.378679Z",
     "start_time": "2023-12-21T12:59:55.366066Z"
    },
    "collapsed": false,
    "execution_time": 13
   },
   "outputs": [],
   "source": [
    "# Buňka kódu pro samostatný úkol:\n"
   ]
  },
  {
   "cell_type": "markdown",
   "metadata": {
    "id": "mI5H2nvaZwdP"
   },
   "source": [
    "### Proměnná obsahující datovou strukturu typu LIST\n",
    "\n",
    "Chceme-li načíst více dokumentů současně, je ideální, pokud se nám podaří dostat je např. do proměnné ve formátu \"list\"\n",
    "Prvky listu jsou zde opět textové řetězce, kterých se nyní můžeme individuálně dotazovat"
   ]
  },
  {
   "cell_type": "code",
   "execution_count": 14,
   "metadata": {
    "ExecuteTime": {
     "end_time": "2023-12-21T13:13:45.624757Z",
     "start_time": "2023-12-21T13:13:45.611410Z"
    },
    "execution_time": 14,
    "id": "ObTmy7JkWik2"
   },
   "outputs": [],
   "source": [
    "l = [27, 23, 48, 23, 45]"
   ]
  },
  {
   "cell_type": "code",
   "execution_count": 15,
   "metadata": {
    "ExecuteTime": {
     "end_time": "2023-12-21T13:13:46.082748Z",
     "start_time": "2023-12-21T13:13:46.071628Z"
    },
    "execution_time": 15,
    "id": "nmvvtZurXVoe"
   },
   "outputs": [
    {
     "data": {
      "text/plain": [
       "5"
      ]
     },
     "execution_count": 25,
     "metadata": {},
     "output_type": "execute_result"
    }
   ],
   "source": [
    "len(l)"
   ]
  },
  {
   "cell_type": "code",
   "execution_count": 16,
   "metadata": {
    "ExecuteTime": {
     "end_time": "2023-12-21T13:13:46.672954Z",
     "start_time": "2023-12-21T13:13:46.667987Z"
    },
    "colab": {
     "base_uri": "https://localhost:8080/"
    },
    "execution_time": 16,
    "id": "-UI9VoVzXB5y",
    "outputId": "662a6cfa-f1d0-4a3d-dd1b-be8bd1110275"
   },
   "outputs": [
    {
     "data": {
      "text/plain": [
       "list"
      ]
     },
     "execution_count": 26,
     "metadata": {},
     "output_type": "execute_result"
    }
   ],
   "source": [
    "type(l)"
   ]
  },
  {
   "cell_type": "code",
   "execution_count": 17,
   "metadata": {
    "ExecuteTime": {
     "end_time": "2023-12-21T13:13:47.115890Z",
     "start_time": "2023-12-21T13:13:47.109548Z"
    },
    "execution_time": 17,
    "id": "_10_cCZmZwdR"
   },
   "outputs": [],
   "source": [
    "promenna_list = [\"Já jsem první prvek listu. Další prvek přijde až po ukončení uvozovek a čárce.\", \"Já jsem druhý prvek listu.\", \"Já jsem poslední prvek listu. My všichni dohromady jsme ohraničeni hranatými závorkami. Ty naznačují, že jsme list.\"]"
   ]
  },
  {
   "cell_type": "code",
   "execution_count": 18,
   "metadata": {
    "ExecuteTime": {
     "end_time": "2023-12-21T13:13:47.547844Z",
     "start_time": "2023-12-21T13:13:47.541270Z"
    },
    "colab": {
     "base_uri": "https://localhost:8080/"
    },
    "execution_time": 18,
    "id": "e-PwdYdAZwdh",
    "outputId": "7a33887f-2c3f-433b-8887-5e62a1dfe492"
   },
   "outputs": [
    {
     "data": {
      "text/plain": [
       "['Já jsem první prvek listu. Další prvek přijde až po ukončení uvozovek a čárce.',\n",
       " 'Já jsem druhý prvek listu.',\n",
       " 'Já jsem poslední prvek listu. My všichni dohromady jsme ohraničeni hranatými závorkami. Ty naznačují, že jsme list.']"
      ]
     },
     "execution_count": 28,
     "metadata": {},
     "output_type": "execute_result"
    }
   ],
   "source": [
    "promenna_list"
   ]
  },
  {
   "cell_type": "markdown",
   "metadata": {
    "collapsed": false
   },
   "source": [
    "### Proměnná obsahující datovou strukturu typu dict (Dictionary)\n",
    "\n",
    "`dict` je objekt sestávající z řady párů klíčů a k nim přiřazených hodnot. Tyto hodnoty mohou sloužit k vnořování dalších komplexních datových struktur. `dict` nám umožňuje, abychom pomocí klíče vyvolali konkrétní hodnotu. Pro syntax jsou důležité symboly \"{\", \"}\" a \":\".\n"
   ]
  },
  {
   "cell_type": "code",
   "execution_count": 19,
   "metadata": {
    "ExecuteTime": {
     "end_time": "2024-01-22T13:27:43.184555Z",
     "start_time": "2024-01-22T13:27:43.175513Z"
    },
    "collapsed": false,
    "execution_time": 19
   },
   "outputs": [
    {
     "data": {
      "text/plain": [
       "{'klic1': 'hodnota přiřazená prvnímu klíči',\n",
       " 'klic2': 'hodnota přiřazená druhému klíči'}"
      ]
     },
     "execution_count": 2,
     "metadata": {},
     "output_type": "execute_result"
    }
   ],
   "source": [
    "# nadefinujeme si vlastní slovník\n",
    "my_dict = {\"klic1\" : \"hodnota přiřazená prvnímu klíči\", \"klic2\" : \"hodnota přiřazená druhému klíči\"}\n",
    "my_dict"
   ]
  },
  {
   "cell_type": "code",
   "execution_count": 20,
   "metadata": {
    "ExecuteTime": {
     "end_time": "2024-01-22T13:28:13.967276Z",
     "start_time": "2024-01-22T13:28:13.958618Z"
    },
    "collapsed": false,
    "execution_time": 20
   },
   "outputs": [
    {
     "data": {
      "text/plain": [
       "'hodnota přiřazená prvnímu klíči'"
      ]
     },
     "execution_count": 4,
     "metadata": {},
     "output_type": "execute_result"
    }
   ],
   "source": [
    "# tyto hodnoty můžeme nyní vyvolávat:\n",
    "my_dict[\"klic1\"]"
   ]
  },
  {
   "cell_type": "code",
   "execution_count": 21,
   "metadata": {
    "ExecuteTime": {
     "end_time": "2024-01-22T13:29:09.909008Z",
     "start_time": "2024-01-22T13:29:09.898647Z"
    },
    "collapsed": false,
    "execution_time": 21
   },
   "outputs": [
    {
     "data": {
      "text/plain": [
       "{'klic1': 'hodnota přiřazená prvnímu klíči',\n",
       " 'klic2': 'hodnota přiřazená druhému klíči',\n",
       " 'klic3': 'nově přidaná hodnota'}"
      ]
     },
     "execution_count": 8,
     "metadata": {},
     "output_type": "execute_result"
    }
   ],
   "source": [
    "# můžeme přidávat další páry klíčů a hodnot:\n",
    "my_dict[\"klic3\"] = \"nově přidaná hodnota\"\n",
    "my_dict"
   ]
  },
  {
   "cell_type": "code",
   "execution_count": 22,
   "metadata": {
    "ExecuteTime": {
     "end_time": "2024-01-22T13:29:58.202987Z",
     "start_time": "2024-01-22T13:29:58.194850Z"
    },
    "collapsed": false,
    "execution_time": 22
   },
   "outputs": [
    {
     "data": {
      "text/plain": [
       "{'klic1': 'aktualizovaná hodnota',\n",
       " 'klic2': 'hodnota přiřazená druhému klíči',\n",
       " 'klic3': 'nově přidaná hodnota'}"
      ]
     },
     "execution_count": 9,
     "metadata": {},
     "output_type": "execute_result"
    }
   ],
   "source": [
    "# hodnoty můžeme také aktualizovat\n",
    "my_dict[\"klic1\"] = \"aktualizovaná hodnota\"\n",
    "my_dict"
   ]
  },
  {
   "cell_type": "code",
   "execution_count": 23,
   "metadata": {
    "ExecuteTime": {
     "end_time": "2024-01-22T13:30:56.289790Z",
     "start_time": "2024-01-22T13:30:56.263704Z"
    },
    "collapsed": false,
    "execution_time": 23
   },
   "outputs": [
    {
     "data": {
      "text/plain": [
       "{'klic1': 'aktualizovaná hodnota',\n",
       " 'klic2': 'hodnota přiřazená druhému klíči',\n",
       " 'klic3': 'nově přidaná hodnota',\n",
       " 'klic4': [133, 455, 451, 876]}"
      ]
     },
     "execution_count": 10,
     "metadata": {},
     "output_type": "execute_result"
    }
   ],
   "source": [
    "# hodnotami mohou být i další datové struktury, jako např. list:\n",
    "my_dict[\"klic4\"] = [133, 455, 451, 876]\n",
    "my_dict"
   ]
  },
  {
   "cell_type": "code",
   "execution_count": 24,
   "metadata": {
    "ExecuteTime": {
     "end_time": "2024-01-22T13:34:00.665699Z",
     "start_time": "2024-01-22T13:34:00.661539Z"
    },
    "collapsed": false,
    "execution_time": 24
   },
   "outputs": [
    {
     "data": {
      "text/plain": [
       "dict_keys(['klic1', 'klic2', 'klic3', 'klic4'])"
      ]
     },
     "execution_count": 12,
     "metadata": {},
     "output_type": "execute_result"
    }
   ],
   "source": [
    "# klíče si můžeme vypsat:\n",
    "my_dict.keys()"
   ]
  },
  {
   "cell_type": "code",
   "execution_count": 25,
   "metadata": {
    "ExecuteTime": {
     "end_time": "2024-01-22T13:34:15.250541Z",
     "start_time": "2024-01-22T13:34:15.242099Z"
    },
    "collapsed": false,
    "execution_time": 25
   },
   "outputs": [
    {
     "data": {
      "text/plain": [
       "dict_values(['aktualizovaná hodnota', 'hodnota přiřazená druhému klíči', 'nově přidaná hodnota', [133, 455, 451, 876]])"
      ]
     },
     "execution_count": 14,
     "metadata": {},
     "output_type": "execute_result"
    }
   ],
   "source": [
    "# a hodnoty také...\n",
    "my_dict.values()"
   ]
  },
  {
   "cell_type": "markdown",
   "metadata": {
    "id": "GcwwRqfgZwdm"
   },
   "source": [
    "### Indexování"
   ]
  },
  {
   "cell_type": "markdown",
   "metadata": {
    "id": "ucwQANBiZwdn"
   },
   "source": [
    "V případě \"listů\" nás často zajímají jenom některé prvky. K prvkům se dostaneme prostřednictvím indexů.\n",
    "Každému prvku v listu je automaticky přiřazeno číslo počínaje \"0\"\n",
    "\n",
    "Konkrétní prvek listu si vypíšeme zavoláním jeho indexu, což např. v případě prvního prvku vypadá takto:"
   ]
  },
  {
   "cell_type": "code",
   "execution_count": 26,
   "metadata": {
    "ExecuteTime": {
     "end_time": "2023-12-21T13:14:08.817838Z",
     "start_time": "2023-12-21T13:14:08.813121Z"
    },
    "colab": {
     "base_uri": "https://localhost:8080/"
    },
    "execution_time": 26,
    "id": "ZrBtw2EZX27v",
    "outputId": "53626841-0c61-4498-94dd-f12f00b26eaf"
   },
   "outputs": [
    {
     "data": {
      "text/plain": [
       "27"
      ]
     },
     "execution_count": 29,
     "metadata": {},
     "output_type": "execute_result"
    }
   ],
   "source": [
    "l = [27, 23, 48, 23, 45]\n",
    "l[0]"
   ]
  },
  {
   "cell_type": "code",
   "execution_count": 27,
   "metadata": {
    "ExecuteTime": {
     "end_time": "2023-12-21T13:14:10.704853Z",
     "start_time": "2023-12-21T13:14:10.688711Z"
    },
    "colab": {
     "base_uri": "https://localhost:8080/",
     "height": 34
    },
    "execution_time": 27,
    "id": "xoDriNPrZwdp",
    "outputId": "cd023071-64f9-4780-88bf-ccbd20878c94"
   },
   "outputs": [
    {
     "name": "stdout",
     "output_type": "stream",
     "text": [
      "Já jsem první prvek listu. Další prvek přijde až po ukončení uvozovek a čárce.\n"
     ]
    }
   ],
   "source": [
    "print(promenna_list[0])"
   ]
  },
  {
   "cell_type": "markdown",
   "metadata": {
    "id": "k8n12hqLZwdt"
   },
   "source": [
    "Ke druhému až poslednímu listu se naopak dostaneme takto:"
   ]
  },
  {
   "cell_type": "code",
   "execution_count": 28,
   "metadata": {
    "ExecuteTime": {
     "end_time": "2023-12-21T13:14:13.630063Z",
     "start_time": "2023-12-21T13:14:13.625508Z"
    },
    "colab": {
     "base_uri": "https://localhost:8080/",
     "height": 74
    },
    "execution_time": 28,
    "id": "CmyhkDE6Zwdu",
    "outputId": "3f47c03f-3516-4b68-aa18-9b873c23356b"
   },
   "outputs": [
    {
     "name": "stdout",
     "output_type": "stream",
     "text": [
      "['Já jsem druhý prvek listu.', 'Já jsem poslední prvek listu. My všichni dohromady jsme ohraničeni hranatými závorkami. Ty naznačují, že jsme list.']\n"
     ]
    }
   ],
   "source": [
    "print(promenna_list[1:])"
   ]
  },
  {
   "cell_type": "markdown",
   "metadata": {
    "id": "uPHr7c5SZwd3"
   },
   "source": [
    "### Cyklus FOR\n",
    "\n",
    "Pomocí cyklu FOR se můžeme např. dotázat, kolik znaků mají jednotlivé prvky našeho listu, a nechat si tyto hodnoty jednu po druhé nechat vytisknout."
   ]
  },
  {
   "cell_type": "code",
   "execution_count": 29,
   "metadata": {
    "ExecuteTime": {
     "end_time": "2023-12-21T13:14:30.376163Z",
     "start_time": "2023-12-21T13:14:30.357525Z"
    },
    "colab": {
     "base_uri": "https://localhost:8080/",
     "height": 68
    },
    "execution_time": 29,
    "id": "Xe7p6z_cZwd4",
    "outputId": "e26ecdb4-d477-43b2-ddbb-2fee49172b6c"
   },
   "outputs": [
    {
     "name": "stdout",
     "output_type": "stream",
     "text": [
      "78\n",
      "26\n",
      "115\n"
     ]
    }
   ],
   "source": [
    "for element in promenna_list:\n",
    "    print(len(element))"
   ]
  },
  {
   "cell_type": "markdown",
   "metadata": {
    "collapsed": false
   },
   "source": [
    "### Podmíněné příkazy IF-ELSE"
   ]
  },
  {
   "cell_type": "markdown",
   "metadata": {
    "collapsed": false
   },
   "source": [
    "Dalším klíčovým elementem každého programovacího jazyka jsou podmíněné příkazy:\n",
    "Jestliže (`if`) dochází ke splnění námi stanovené podmínky, provede se příkaz v odrážce na následující řádce či řádcích; pokud ne, tento následný soubor příkazů se přeskočí a kód buď pokračuje přímo dál, nebo provede příkazy které se nacházejí v odrážce pod příkazem `else`. \n",
    "\n",
    "Jednoduchý příklad vypadá následovně: Použijeme tuto logiku k tomu, abychom u konkrétního čísla vyhodnotily, zda je vyšší než 30,"
   ]
  },
  {
   "cell_type": "code",
   "execution_count": 30,
   "metadata": {
    "ExecuteTime": {
     "end_time": "2023-12-21T14:21:41.500533Z",
     "start_time": "2023-12-21T14:21:41.492502Z"
    },
    "collapsed": false,
    "execution_time": 30
   },
   "outputs": [],
   "source": [
    "n = 37 # nadefinujeme si číslo"
   ]
  },
  {
   "cell_type": "code",
   "execution_count": 31,
   "metadata": {
    "ExecuteTime": {
     "end_time": "2023-12-21T14:22:24.975797Z",
     "start_time": "2023-12-21T14:22:24.964037Z"
    },
    "collapsed": false,
    "execution_time": 31
   },
   "outputs": [
    {
     "name": "stdout",
     "output_type": "stream",
     "text": [
      "37  - Toto číslo je větší než 30.\n"
     ]
    }
   ],
   "source": [
    "if n > 30:\n",
    "    print(n, \" - Toto číslo je větší než 30.\")"
   ]
  },
  {
   "cell_type": "markdown",
   "metadata": {
    "collapsed": false
   },
   "source": [
    "Užitečnost tohoto snad vysvytne více, když podmíněný příkaz IF zakomponujeme do cyklu FOR.\n"
   ]
  },
  {
   "cell_type": "code",
   "execution_count": 32,
   "metadata": {
    "ExecuteTime": {
     "end_time": "2023-12-21T14:25:10.640124Z",
     "start_time": "2023-12-21T14:25:10.634048Z"
    },
    "collapsed": false,
    "execution_time": 32
   },
   "outputs": [
    {
     "name": "stdout",
     "output_type": "stream",
     "text": [
      ":-(\n",
      ":-(\n",
      "48 :-)\n",
      ":-(\n",
      "45 :-)\n"
     ]
    }
   ],
   "source": [
    "l = [27, 23, 48, 23, 45]\n",
    "for el in l:\n",
    "    if el > 30:\n",
    "        print(el, \":-)\")\n",
    "    else:\n",
    "        print(\":-(\")"
   ]
  },
  {
   "cell_type": "code",
   "execution_count": 33,
   "metadata": {
    "collapsed": false,
    "execution_time": 33
   },
   "outputs": [],
   "source": []
  }
 ],
 "metadata": {
  "colab": {
   "include_colab_link": true,
   "provenance": []
  },
  "kernelspec": {
   "display_name": "Python 3",
   "language": "python",
   "name": "python3"
  }
 },
 "nbformat": 4,
 "nbformat_minor": 0
}
