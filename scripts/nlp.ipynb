{
 "cells": [
  {
   "cell_type": "markdown",
   "metadata": {
    "id": "ayU0ucI1UYjq"
   },
   "source": [
    "[![Open In Colab](https://colab.research.google.com/assets/colab-badge.svg)](https://colab.research.google.com/github/CCS-ZCU/pribehy-dat/blob/master/scripts/nlp.ipynb)\n",
    "\n",
    "# NLP: Zpracování přirozeného jazyka\n",
    "\n",
    "**autor**: *Vojtěch Kaše* (kase@ff.zcu.cz)\n",
    "\n",
    "[![](https://ccs.zcu.cz/wp-content/uploads/2021/10/cropped-ccs-logo_black_space_240x240.png)](https://ccs.zcu.cz)\n",
    "\n",
    "## Úvod a cíle kapitoly"
   ]
  },
  {
   "cell_type": "markdown",
   "metadata": {
    "id": "7qReidPvUbhS"
   },
   "source": [
    "Cílem tohoto cvičení je provést základní kvantitativní textovou analýzu některého digitalizovaného dokumentu z **Archivu Jana Patočky** ([AJP](https://archiv.janpatocka.cz/items/browse?tags=fulltext)). Omezíme se však pouze na dokumenty, u kterých je dostupný digitální přepis (tzv. fulltext). Tj. URL adresa, kterou hledáme, je adresa jakéhokoliv námi vybraného dokumentu z daného archivu pro který je dostupný přepis. Pro zvládnutí cvičení není potřeba nic více než na několika místech ručně nahradit jeden řetězec znaků za jiný pomocí Ctrl+C a Ctrl+V a ve správném pořadí spustit jednotlivé buňky pomocí ikony \"play\" či klávesové zkratky Shift+Enter.\n",
    "\n",
    "Doklad o provedení cvičení bude nahrání Vámi upravené kopie jupyter notebooku ve formátu PDF do odevzdávárny v moodlu (viz níže).\n",
    "\n",
    "Následující buňka je první klíčovou buňkou pro naše cvičení a  je potřeba ji spustit předtím, než buňky, které následují, neboť ty staví na funkcích, které v této buňce do aktuálního jupyter notebooku importujeme."
   ]
  },
  {
   "cell_type": "markdown",
   "metadata": {},
   "source": [
    "## Cvičení"
   ]
  },
  {
   "cell_type": "code",
   "execution_count": 1,
   "metadata": {
    "colab": {
     "base_uri": "https://localhost:8080/"
    },
    "execution_time": 1,
    "id": "fxzyIjpDCU2l",
    "outputId": "bee5fa7b-6936-4965-9a86-3b66a663739a"
   },
   "outputs": [
    {
     "name": "stderr",
     "output_type": "stream",
     "text": [
      "[nltk_data] Downloading package punkt to /root/nltk_data...\n",
      "[nltk_data]   Unzipping tokenizers/punkt.zip.\n"
     ]
    }
   ],
   "source": [
    "# naše první buňka slouží k tomu, abychom do aktuálního GoogleColab skriptu\n",
    "# importovali určité dodatečné balíčky (či knihovny) s funkcemi,\n",
    "# které nejsou v \"základní výbavě\" Pythonu. Některé knihovny budeme muset dokonce nainstalovat\n",
    "\n",
    "import requests\n",
    "from urllib.request import urlopen # pro práci w webovými adresami\n",
    "from urllib.parse import quote\n",
    "from bs4 import BeautifulSoup # pro práci s webovými stránkami ve formátu html\n",
    "import json\n",
    "import re # pro práci s regulérními výrazy\n",
    "import pandas as pd # pro práci s tabulkami ve formátu dataframe\n",
    "import nltk # modul pro práci s textovými daty\n",
    "from nltk import tokenize\n",
    "nltk.download('punkt')\n",
    "import matplotlib.pyplot as plt # modul pro vytváření grafů\n",
    "import numpy as np # modul pro pokročilejší matematické operac"
   ]
  },
  {
   "cell_type": "markdown",
   "metadata": {
    "id": "NQMW7GIgiLep"
   },
   "source": [
    "Váš hlavní úkol je spojen s buňkou níže. V ní je potřeba nahradit obsah proměnné \"url\", tj. **vyměnit webovou adresu jednoho dokumentu z AJP za adresu jiného dokumentu z téhož archivu**.  Pozor, že webová adresa musí být uvnitř uvozovek. Aby se změna projevila, je třeba buňku nakonec spustit."
   ]
  },
  {
   "cell_type": "code",
   "execution_count": 2,
   "metadata": {
    "execution_time": 2,
    "id": "_wNGwo_kI8Ih"
   },
   "outputs": [],
   "source": [
    "url = \"https://archiv.janpatocka.cz/items/show/308\"\n",
    "web_text = urlopen(url).read().decode(\"utf-8\")\n",
    "soup = BeautifulSoup(web_text, \"html.parser\")"
   ]
  },
  {
   "cell_type": "code",
   "execution_count": 3,
   "metadata": {
    "colab": {
     "base_uri": "https://localhost:8080/",
     "height": 35
    },
    "execution_time": 3,
    "id": "7G4gz4Ats6IM",
    "outputId": "b12035e8-c294-46ee-a4c1-cfeaeeefd2c1"
   },
   "outputs": [
    {
     "data": {
      "application/vnd.google.colaboratory.intrinsic+json": {
       "type": "string"
      },
      "text/plain": [
       "'Pražský filosofický kroužek'"
      ]
     },
     "execution_count": 3,
     "metadata": {},
     "output_type": "execute_result"
    }
   ],
   "source": [
    "text_title = soup.find(\"div\", id=\"item_title\").get_text()\n",
    "text_title"
   ]
  },
  {
   "cell_type": "code",
   "execution_count": 4,
   "metadata": {
    "colab": {
     "base_uri": "https://localhost:8080/",
     "height": 35
    },
    "execution_time": 4,
    "id": "9C9_3lxwtRN8",
    "outputId": "4a58139a-7df1-4d25-8361-cb5633102125"
   },
   "outputs": [
    {
     "data": {
      "application/vnd.google.colaboratory.intrinsic+json": {
       "type": "string"
      },
      "text/plain": [
       "'1935'"
      ]
     },
     "execution_count": 4,
     "metadata": {},
     "output_type": "execute_result"
    }
   ],
   "source": [
    "[div for div in soup.find_all(\"div\", class_=\"col span_7_of_9\")][3].get_text()"
   ]
  },
  {
   "cell_type": "code",
   "execution_count": 5,
   "metadata": {
    "colab": {
     "base_uri": "https://localhost:8080/"
    },
    "execution_time": 5,
    "id": "mkA4UEOhKG3e",
    "outputId": "86862efb-5167-4b43-db88-c6a5b3ad942d"
   },
   "outputs": [
    {
     "name": "stdout",
     "output_type": "stream",
     "text": [
      "Pražský filosofický kroužek vznikl s účelem zintesivnění filosofické práce v Československu z některých popudů VIII. mezinárodního filosofického sjezdu v Praze na podnět univ. profesorů Kozáka a Utitze. Na rozdíl od způsobu práce velkých filosofických společností chce filosofický kroužek pěstovat úzkou součinnost co možná odbornou, takřka seminární, a proto neklade důraz na širokou účast veřejnosti. Pražský filosofický kroužek hodlá pořádati přednášky, diskuse, vydávati publikace a založiti filosofický archiv. Jednací řeči může býti kterýkoli jazyk. Společné práce jsou účastni Čechoslováci české i německé národnosti, kromě toho je přihlášena řada zahraničních spolupracovníků národnosti německé, francouzské, španělské, ruské aj. Program kroužku je pěstěni filosofie v duchu domácí tradice, representované jmény Komenský, Bolzano, Masaryk, to jest ve víře v universální teoretické i praktické posláni filosofie, která ovšem zde neni pochopena jako záležitost, interesujíci pouze intelekt, nýbrž která objímá celý život. Filosoficky hledí kroužek přihlížeti především k duchovědným tendencím naši doby a odmítá metodické přehmaty mathematismu, který přírodovědecké metody druhdy neoprávněným způsobem přenáší na vědecká území, jež vyžaduji své specifické pojmotvorby. Pravidelnější debatní schůzky kroužku se konaly od ledna t. r. v intervalech 2-3 neděl. V souhlase s náměty programu byl zvolen za předmět diskusí pojem ducha, stanoveni jeho filosofického místa a příspěvky k jeho definici. Prvním referentem byl prof. Jan B. Kozák, který ve své přednášce „O podstatě ducha” udal řadu témat k diskusi, jež se rozvíjela ve všech ostatních debatních večerech. Za vlastni místo problému pokládá prof. Kozák pojem intencionálniho vztahováni se k předmětu. Hlavni these próf. Kozáka byla: vše duchovni je transcendujici míněni. Jak patrno, nemínil prof. K. přímo určiti povahu ducha v celé jeho šíři, nýbrž prostě ohraničiti terén. „Transcendujici mínění” leží samozřejmě ve sféře intencionality. Ve sféře vědomí leží proti transcendujícimu mínění prožitky jako ryzí dojmy, city a nálady, které již možno označit jako sféru „čisté presence” (das schlichte Haben). Přiklad pro transcendujici mínění je na př. „míti barevný dojem a viděti v něm barvu”. To, co je nám presentní, barevný dojem, slouží za pouhé průchodní stadium mínění, jež jde nikoli na tuto určitou nuanci, nýbrž na pojem barvy, který je danou nuanci representován. Transcendující mínění považuje prof. K. vždy za myšleni, souzeni o něčem, co nemůže nikdy býti našemu vědomi dáno způsobem čisté presence. Proč jest nutno zaváděti tuto novou řeč o „mínění”, proč se nespokojit slovem „soud”? Poněvadž v řadách soudů je vystižen týž předmět, intence všech soudů stejného pólu konvergují k němu jako k identickému čili. V transcendentním mínění je spoluobsaženo úsilí, vytěžiti předmět všestranně v soudových řadách. Kozákova terminologie zde do jisté míry navazuje na Husserlovo „iMeinen”, které má právě tento dynamický charakter. Zároveň tím poukázáno na dlouhou řadu deskriptivních problémů, kterou klade transcendujici míněni v různých oborech předmětnosti. Zejména důležitý je vztah transcendujiciho míněni k „ideálním předmětům”, které bývají nazývány též „duchovními”; transcendující míněni, týkající se ideálního, zdá se prof. K. nejspíše tvořiti definici ducha. Přednáška dra L. Landgrebe navázala na výklad prof. Kozáka tím, že charakterisovala Kozákovo pojetí ducha jako postupnou objektivisaci. Co však znamená tento proces po subjektivní stránce? Děti a „primitivové”, jak známo, jsou schopni jen zlomkovité objektivisace. Proces objektivisace má tedy své subjektivní předpoklady; takovým jest podle dra L. j á jakožto autor, vykonavatel aktů, jim teprve dostává akt svůj charakter spontaneity na rozdíl od pouhé presence, dané v pasivitě. Popis se musí tedy od výlučného zřetele k objektivnímu pólu obrátit k čistě vnitřnímu ustrojení aktu. Já však není v tomto subjektivním zaměření omezeno na pouhý bodový pól, nýbrž tkví v nositeli aktivit, který je každému jednotlivému aktu nadřazen, v konkrétní osobě (ne však ve smyslu obvyklého psychofysického pojetí!). Pojem duchovního aktu vyžaduje tedy vypracování pojmu duchovního projevu, duchovního stanoviska osoby. Pojmem osoby však do deskriptivních analys zavedena nová dimense, která již nemůže býti vyčerpána analysou jednotlivých aktů; jím je překročen stupeň elementárních analys. Landgrebe upozorňuje dále na důležitý pojem habitu a na jeho souvislost s interesy, pokouší se tudíž o nalezení vodítka této komplexní analysy. Pojem ducha nebude se nyní krýti s pojmem duchovního aktu, nýbrž bude pojmem určitého osobního habitu a v něm založených osobních interesů. Ke konci vyzvedl dr. L. metodické obtíže zkoumání takového pojmu, jako „duch”, který je zatížen tisíciletou tradici a při tom zapojen do dějinné relativity; zde je nutno postupovat jinak a daleko ostražitěji, než při elementárních analysách aktů, které nejsou historickým postupem tangovány. Pojem ducha nemůže krátce býti studován nehistoricky, nýbrž naopak ve své staleté tradici. – Tento návrh se setkal se všeobecným souhlasem a v kroužku bude v tomto smyslu dále pracováno; některá historická témata jsou ohlášena. J. Patočka pokusil se ve svém referátě jednak precisovat leccos z dotud uvedeného, jednak radikalisovat otázku zavedením dalšího hlediska. Navazuje na Landgrebeho překročení elementárních analys, upozorňuje na pojem horizontu, zavedený fenomenology, jako na předpoklad elementární aktivity a pokouší se stanovit pojem světa jakožto universálního horizontu, který umožňuje veškeru jednotlivou objektivaci. Bráně se intelektualismu dosavadních pokusů o určení ducha hledí nasaditi tento pojem jako aktivitu, která se výslovně vztahuje k universálnímu fenoménu světa v různých modalitách – filosofii, umění, životní moudrosti, náboženství. Této přednášce, zejména pojmu světa a horizontu, bylo pak věnováno několik diskusních večerů, v nichž zejména přetřásány otázky idealismu – realismu a jiné principiální obtíže, jež vyplynuly z nově zavedených pojmů. Profesor Utitz předložil k diskusi – na rozdíl od předchozích hmatajících pokusů – hotovou thesi, že duch znamená spravedlivost. Pojem spravedlnosti – Gerechtigkeit – nechce míti pojat ve smyslu ryze ethickém, nýbrž rozšiřuje jej na každé duševní chování, jež jest právo určité situaci (gerecht werden). Existuje rozdíl mezi pouhým únikem ze situace a mezi jejím řešením, jež předpokládá, že jsme jí praví, že ji pochopujeme; býti práv věci či situaci neznamená pak nutně jen intelektuální pochopení, nýbrž může býti též emocionálním aktem, jako na př. uvědomělá správná láska. Třebaže prof. Utitz pojímá pojem spravedlnosti bez vedlejšího přízvuku ethického, existuje určitý svazek mezi pojmem takto široce pojatým a mezi ethickou spravedlností, která je takřka ctností duchovního člověka, jeho kritériem. To se osvědčuje též dějinně: duchovní období v dějinách jsou zároveň období, kdy idea spravedlnosti se povznáší, případně i vládne. Je vůbec myšlenkou profesora Utitze, že dějiny filosofie jsou pro ni takřka náhradou experimentu, počítáme-li k dějinám jejím i osudy filosofů, jejich filosofie a poměr filosofův k jeho filosofii. Tato přednáška vzbudila nejsilnější debatu. Zejména prof. Eng-länder polemisoval obšírně s rozšířením pojmu spravedlnosti, jak se oň pokusil profesor Utitz, a upozorňoval, není-li jím pojem spravedlnosti přeceněn; dokonce v sociálním pořádku, v normách, jež dirigují na př. národní hospodářství, hraje princip spravedlnosti rolí sekundární, regulativní, nemůže býti základní normou, kterou je maximum společenského blaha. Dr. Grube snažil se ve svém závěrečném výkladu, aby ukázal, že výklad prof. Utitze je v podstatě konkretisací myšlenek, jež byly v předchozích referátech podány. Grube vycházel zvláště z celkovosti duchovni aktivity, jak ji zdůraznil třetí referent, a ukazoval, jak v jeho vývodech ponechán pojem výslovného vztahování k universálnímu fenoménu světa v neurčitosti, schopné bližší konkretisace. Naopak znamenalo by neporozumění vývodům prof. Utitze, kdyby „spravedlnost” jako charakter ducha byla zbavena vztahu k celku, k universu, poněvadž by pak „spravedlnost k věcem” byla implikována i v aktech, obvykle nepokládaných za duchovní. Také ostatní účastníci schůzek přispěli k oživení debat pestrými, druhdy hlubokými sugescemi; v debatách mínění na sebe někdy ostře narážela, aby posléze došlo přece ke krystalisací aspoň prvních rysů jednotného přesvědčeni.\n"
     ]
    }
   ],
   "source": [
    "text_dokumentu = soup.find(\"div\", id=\"trans_full\").get_text()\n",
    "text_dokumentu = \" \".join(text_dokumentu.split())\n",
    "print(text_dokumentu)"
   ]
  },
  {
   "cell_type": "code",
   "execution_count": 6,
   "metadata": {
    "colab": {
     "base_uri": "https://localhost:8080/"
    },
    "execution_time": 6,
    "id": "5Buh6M5GOIS2",
    "outputId": "f562fdb6-d745-446d-8bb3-79f58edefd93"
   },
   "outputs": [
    {
     "data": {
      "text/plain": [
       "['Pražský',\n",
       " 'filosofický',\n",
       " 'kroužek',\n",
       " 'vznikl',\n",
       " 's',\n",
       " 'účelem',\n",
       " 'zintesivnění',\n",
       " 'filosofické',\n",
       " 'práce',\n",
       " 'v',\n",
       " 'Československu',\n",
       " 'z',\n",
       " 'některých',\n",
       " 'popudů',\n",
       " 'VIII.',\n",
       " 'mezinárodního',\n",
       " 'filosofického',\n",
       " 'sjezdu',\n",
       " 'v',\n",
       " 'Praze']"
      ]
     },
     "execution_count": 6,
     "metadata": {},
     "output_type": "execute_result"
    }
   ],
   "source": [
    "# dokument jako list slov získáme pomocí funkce \"split()\"\n",
    "# uložíme si ho takto do nové proměnné \"pdf_string_list\"\n",
    "string_list = text_dokumentu.split()\n",
    "# tuto proměnnou si vypíšeme:\n",
    "string_list[:20]"
   ]
  },
  {
   "cell_type": "code",
   "execution_count": 7,
   "metadata": {
    "colab": {
     "base_uri": "https://localhost:8080/"
    },
    "execution_time": 7,
    "id": "f_8KiHMZ3cl0",
    "outputId": "6421edae-0c72-4f8c-cb62-e2f00ac34647"
   },
   "outputs": [
    {
     "data": {
      "text/plain": [
       "1197"
      ]
     },
     "execution_count": 7,
     "metadata": {},
     "output_type": "execute_result"
    }
   ],
   "source": [
    "### pomocí funkce \"len()\" spočítáme délku tohoto listu slov:\n",
    "len(string_list)"
   ]
  },
  {
   "cell_type": "code",
   "execution_count": 8,
   "metadata": {
    "colab": {
     "base_uri": "https://localhost:8080/"
    },
    "execution_time": 8,
    "id": "HDMfBzJ9vF4e",
    "outputId": "67427868-4a42-4724-9edd-1d66d09ab2f7"
   },
   "outputs": [
    {
     "name": "stdout",
     "output_type": "stream",
     "text": [
      "2651\n",
      "2652\n",
      "2653\n",
      "2654\n",
      "2655\n",
      "2656\n",
      "2657\n",
      "2658\n",
      "2659\n",
      "2660\n",
      "2661\n",
      "2662\n",
      "2663\n",
      "2664\n",
      "2665\n",
      "2666\n",
      "2667\n",
      "2668\n",
      "2669\n",
      "2670\n",
      "2671\n",
      "2672\n",
      "2673\n",
      "2674\n",
      "2675\n",
      "2676\n"
     ]
    }
   ],
   "source": [
    "data = []\n",
    "for n in range(0,3000):\n",
    "  try:\n",
    "    textdata = {}\n",
    "    id = str(n)\n",
    "    url = \"https://archiv.janpatocka.cz/items/show/\" + id\n",
    "    web_text = urlopen(url).read().decode(\"utf-8\")\n",
    "    soup = BeautifulSoup(web_text, \"html.parser\")\n",
    "    text_title = soup.find(\"div\", id=\"item_title\").get_text()\n",
    "    date = [div for div in soup.find_all(\"div\", class_=\"col span_7_of_9\")][3].get_text()\n",
    "    text_dokumentu = soup.find(\"div\", id=\"trans_full\").get_text()\n",
    "    text_dokumentu = \" \".join(text_dokumentu.split())\n",
    "    print(id)\n",
    "    textdata[\"id\"] = id\n",
    "    textdata[\"title\"] = text_title\n",
    "    textdata[\"date\"] = date\n",
    "    textdata[\"rawtext\"] = text_dokumentu\n",
    "    data.append(textdata)\n",
    "  except:\n",
    "    pass\n",
    "\n",
    "\n"
   ]
  },
  {
   "cell_type": "code",
   "execution_count": 9,
   "metadata": {
    "colab": {
     "base_uri": "https://localhost:8080/",
     "height": 204
    },
    "execution_time": 9,
    "id": "v6jw1hS_xmtL",
    "outputId": "195cd3cc-b0b5-4715-beba-70a5ea1faa6f"
   },
   "outputs": [
    {
     "data": {
      "text/html": [
       "\n",
       "  <div id=\"df-3ededfef-34d7-46e0-b910-ceb80b5af268\">\n",
       "    <div class=\"colab-df-container\">\n",
       "      <div>\n",
       "<style scoped>\n",
       "    .dataframe tbody tr th:only-of-type {\n",
       "        vertical-align: middle;\n",
       "    }\n",
       "\n",
       "    .dataframe tbody tr th {\n",
       "        vertical-align: top;\n",
       "    }\n",
       "\n",
       "    .dataframe thead th {\n",
       "        text-align: right;\n",
       "    }\n",
       "</style>\n",
       "<table border=\"1\" class=\"dataframe\">\n",
       "  <thead>\n",
       "    <tr style=\"text-align: right;\">\n",
       "      <th></th>\n",
       "      <th>id</th>\n",
       "      <th>title</th>\n",
       "      <th>date</th>\n",
       "      <th>rawtext</th>\n",
       "    </tr>\n",
       "  </thead>\n",
       "  <tbody>\n",
       "    <tr>\n",
       "      <th>0</th>\n",
       "      <td>2651</td>\n",
       "      <td>Evropa a odpovědnost vědění</td>\n",
       "      <td>1974</td>\n",
       "      <td>[Evropa a odpovědnost vědění]1 (1974) Promysle...</td>\n",
       "    </tr>\n",
       "    <tr>\n",
       "      <th>1</th>\n",
       "      <td>2652</td>\n",
       "      <td>Evropa a její dědictví. Skica k filosofii dějin</td>\n",
       "      <td>1976</td>\n",
       "      <td>Evropa a její dědictví1 (Skica k filosofii děj...</td>\n",
       "    </tr>\n",
       "    <tr>\n",
       "      <th>2</th>\n",
       "      <td>2653</td>\n",
       "      <td>Komentář k eseji Války 20. století</td>\n",
       "      <td>1975</td>\n",
       "      <td>[Komentář k eseji Války 20. století] (1975) Vá...</td>\n",
       "    </tr>\n",
       "    <tr>\n",
       "      <th>3</th>\n",
       "      <td>2654</td>\n",
       "      <td>Poznámky posluchačů z přednášky Vznik a konec ...</td>\n",
       "      <td>1974</td>\n",
       "      <td>[Poznámky posluchačů z přednášky Vznik a konec...</td>\n",
       "    </tr>\n",
       "    <tr>\n",
       "      <th>4</th>\n",
       "      <td>2655</td>\n",
       "      <td>Mýtus</td>\n",
       "      <td></td>\n",
       "      <td>Mýtus Mýtus nelze definovat ani \"emocionálním ...</td>\n",
       "    </tr>\n",
       "  </tbody>\n",
       "</table>\n",
       "</div>\n",
       "      <button class=\"colab-df-convert\" onclick=\"convertToInteractive('df-3ededfef-34d7-46e0-b910-ceb80b5af268')\"\n",
       "              title=\"Convert this dataframe to an interactive table.\"\n",
       "              style=\"display:none;\">\n",
       "        \n",
       "  <svg xmlns=\"http://www.w3.org/2000/svg\" height=\"24px\"viewBox=\"0 0 24 24\"\n",
       "       width=\"24px\">\n",
       "    <path d=\"M0 0h24v24H0V0z\" fill=\"none\"/>\n",
       "    <path d=\"M18.56 5.44l.94 2.06.94-2.06 2.06-.94-2.06-.94-.94-2.06-.94 2.06-2.06.94zm-11 1L8.5 8.5l.94-2.06 2.06-.94-2.06-.94L8.5 2.5l-.94 2.06-2.06.94zm10 10l.94 2.06.94-2.06 2.06-.94-2.06-.94-.94-2.06-.94 2.06-2.06.94z\"/><path d=\"M17.41 7.96l-1.37-1.37c-.4-.4-.92-.59-1.43-.59-.52 0-1.04.2-1.43.59L10.3 9.45l-7.72 7.72c-.78.78-.78 2.05 0 2.83L4 21.41c.39.39.9.59 1.41.59.51 0 1.02-.2 1.41-.59l7.78-7.78 2.81-2.81c.8-.78.8-2.07 0-2.86zM5.41 20L4 18.59l7.72-7.72 1.47 1.35L5.41 20z\"/>\n",
       "  </svg>\n",
       "      </button>\n",
       "      \n",
       "  <style>\n",
       "    .colab-df-container {\n",
       "      display:flex;\n",
       "      flex-wrap:wrap;\n",
       "      gap: 12px;\n",
       "    }\n",
       "\n",
       "    .colab-df-convert {\n",
       "      background-color: #E8F0FE;\n",
       "      border: none;\n",
       "      border-radius: 50%;\n",
       "      cursor: pointer;\n",
       "      display: none;\n",
       "      fill: #1967D2;\n",
       "      height: 32px;\n",
       "      padding: 0 0 0 0;\n",
       "      width: 32px;\n",
       "    }\n",
       "\n",
       "    .colab-df-convert:hover {\n",
       "      background-color: #E2EBFA;\n",
       "      box-shadow: 0px 1px 2px rgba(60, 64, 67, 0.3), 0px 1px 3px 1px rgba(60, 64, 67, 0.15);\n",
       "      fill: #174EA6;\n",
       "    }\n",
       "\n",
       "    [theme=dark] .colab-df-convert {\n",
       "      background-color: #3B4455;\n",
       "      fill: #D2E3FC;\n",
       "    }\n",
       "\n",
       "    [theme=dark] .colab-df-convert:hover {\n",
       "      background-color: #434B5C;\n",
       "      box-shadow: 0px 1px 3px 1px rgba(0, 0, 0, 0.15);\n",
       "      filter: drop-shadow(0px 1px 2px rgba(0, 0, 0, 0.3));\n",
       "      fill: #FFFFFF;\n",
       "    }\n",
       "  </style>\n",
       "\n",
       "      <script>\n",
       "        const buttonEl =\n",
       "          document.querySelector('#df-3ededfef-34d7-46e0-b910-ceb80b5af268 button.colab-df-convert');\n",
       "        buttonEl.style.display =\n",
       "          google.colab.kernel.accessAllowed ? 'block' : 'none';\n",
       "\n",
       "        async function convertToInteractive(key) {\n",
       "          const element = document.querySelector('#df-3ededfef-34d7-46e0-b910-ceb80b5af268');\n",
       "          const dataTable =\n",
       "            await google.colab.kernel.invokeFunction('convertToInteractive',\n",
       "                                                     [key], {});\n",
       "          if (!dataTable) return;\n",
       "\n",
       "          const docLinkHtml = 'Like what you see? Visit the ' +\n",
       "            '<a target=\"_blank\" href=https://colab.research.google.com/notebooks/data_table.ipynb>data table notebook</a>'\n",
       "            + ' to learn more about interactive tables.';\n",
       "          element.innerHTML = '';\n",
       "          dataTable['output_type'] = 'display_data';\n",
       "          await google.colab.output.renderOutput(dataTable, element);\n",
       "          const docLink = document.createElement('div');\n",
       "          docLink.innerHTML = docLinkHtml;\n",
       "          element.appendChild(docLink);\n",
       "        }\n",
       "      </script>\n",
       "    </div>\n",
       "  </div>\n",
       "  "
      ],
      "text/plain": [
       "     id                                              title  date  \\\n",
       "0  2651                        Evropa a odpovědnost vědění  1974   \n",
       "1  2652    Evropa a její dědictví. Skica k filosofii dějin  1976   \n",
       "2  2653                 Komentář k eseji Války 20. století  1975   \n",
       "3  2654  Poznámky posluchačů z přednášky Vznik a konec ...  1974   \n",
       "4  2655                                              Mýtus         \n",
       "\n",
       "                                             rawtext  \n",
       "0  [Evropa a odpovědnost vědění]1 (1974) Promysle...  \n",
       "1  Evropa a její dědictví1 (Skica k filosofii děj...  \n",
       "2  [Komentář k eseji Války 20. století] (1975) Vá...  \n",
       "3  [Poznámky posluchačů z přednášky Vznik a konec...  \n",
       "4  Mýtus Mýtus nelze definovat ani \"emocionálním ...  "
      ]
     },
     "execution_count": 9,
     "metadata": {},
     "output_type": "execute_result"
    }
   ],
   "source": [
    "data_df = pd.DataFrame(data)\n",
    "data_df.head(5)"
   ]
  },
  {
   "cell_type": "code",
   "execution_count": 10,
   "metadata": {
    "execution_time": 10,
    "id": "OZY-PxYE6raf"
   },
   "outputs": [],
   "source": [
    "data_df.to_csv(\"my_table.csv\")"
   ]
  },
  {
   "cell_type": "markdown",
   "metadata": {
    "id": "UgIbCh5v4FR2"
   },
   "source": [
    "### Lematizace a postagging\n",
    "\n",
    "S textem článku, tak jak se nyní nachází v proměnné \"text_clanku\", bychom se ale při kvantitativní textové analýze stále příliš daleko nedostali. Čeština je totiž morfologicky velice bohatý jazyk. Chceme-li např. spočítat kolikrát se v textu objevuje sloveso \"mít\", s textem v aktuální podobě se příliš daleko nedstaneme. Zde potřebujeme na naše textová data aplikovat dvě další procedury:\n",
    "\n",
    "\n",
    "1.   lemmatizace, tj. převedení slov z textu do jejich základních tvarů (slovesa do infinitivu, podstatná jména do 1.pádu singuláru apod.)\n",
    "2.   POS-tagging (\"part-of-speech tags\"),  tj. určení slovních druhů a mluvnických kategorií\n",
    "\n",
    "Aplikace těchto procedur nám umožní získat data z hlediska kvantitativní textové analýzy výrazně zajímavější.\n",
    "\n",
    "V případě češtiny se můžeme v tomto případě opřít o webové nástroje z dílny Ústavu formální a aplikované lingivistiky FF UK, konkrétně o nástroj [Morphodita](http://ufal.mff.cuni.cz/morphodita).\n",
    "\n",
    "S našimi daty budeme postupovat tak, že z našeho jupyter notebooku vzneseme dotaz na webovou aplikaci MorphoDity,  a požádáme na dálku o lemmatizaci a postaging našich dat (tutoriál k webovému dotazování MorpohoDity se nachází [zde](http://lindat.mff.cuni.cz/services/morphodita/api-reference.php)).\n"
   ]
  },
  {
   "cell_type": "code",
   "execution_count": 11,
   "metadata": {
    "colab": {
     "base_uri": "https://localhost:8080/"
    },
    "execution_time": 11,
    "id": "TFA6qawWPTeF",
    "outputId": "bc7c059c-243c-4ff2-96a7-2c84e18cbe7d"
   },
   "outputs": [
    {
     "data": {
      "text/plain": [
       "['[Studie o času I]1 Chtěli bychom nyní ukázat podrobněji, jak se tato oslovenost Ideou projevuje u jedné ze základních struktur, jež dávají svůj ráz životu člověka v jeho odlišnosti vůči základnějším a přitom jednodušším stupňům jsoucna.',\n",
       " 'Míníme strukturu času.',\n",
       " 'Čas je náš universální horizont a jako horizont je půdou pro nejpestřejší rozmanitost apriorních poznatků subjektivních i objektivních.',\n",
       " 'Zde však nechceme postupovat analyticky, rozborem naší zkušenosti o čase, časového vědomí a časové formy lidského života, nýbrž komparativně-onticky: nechceme zde zjišťovat, co a priori víme o čase, nýbrž klademe si otázku, co čas jest na různých úrovních předmětnosti, co znamená čas v universu v jeho různých poschodích.',\n",
       " '* Všecky předměty jsou seřazeny v určitém pořádku, který myšlenkově izolujeme a získáváme tím všeobecné pořádkové formy prostor a čas.',\n",
       " 'Jsou obecné, protože se jim nevymyká žádný předmět, žádné předmětné určení, vztah či děj; jsou to formy, poněvadž je myslíme samostatně jako nevyplněná vztahová schémata, která jsou vyplňována - realizována různými, libovolnými obsahy.',\n",
       " 'Ráz forem (schémat) vysvětluje jejich odlišnost od čistých pojmů (které se nedají kvantitativně dělit, nemají reálních částí) a jejich prostředkující ráz mezi názorem a pojmem (zdůrazněný v Hegelově \"unsinnliche Sinnlichkeit und sinnliche Unsinnlichkeit\").',\n",
       " 'Jsou to schémata celková a potud jedinečná, v nich činíme pokus myslit veškeré předmětenstvo aspoň v jeho hlavních formálních rysech.',\n",
       " 'Lidský sklon realizovat abstrakce vede k tomu, že si představujeme mnohdy tyto formy vztahové jako samostatné entity; filosofie i věda proti tomu sice v novější době protestují, ale sklon k tomu, uvažovat o nich jako o samostatných jsoucnech, je stále silný - také v tom se projevuje, že se nám zdá zprvu samozřejmým, že existují takové samostatné formy dvě, totiž prostor a čas, hluboce odlišné a navzájem nezávislé.',\n",
       " 'Jakmile si uvědomíme formální povahu obou, vznikne ihned též problém jejich vzájemného vztahu; neboť formy nejsou bez obsahu a tento obsah je tak navzájem spjat, že není možná obsahová diferenciace v jednom bez zásahu druhého.']"
      ]
     },
     "execution_count": 45,
     "metadata": {},
     "output_type": "execute_result"
    }
   ],
   "source": [
    "sentences = tokenize.sent_tokenize(text_dokumentu)\n",
    "sentences[:10]"
   ]
  },
  {
   "cell_type": "code",
   "execution_count": 12,
   "metadata": {
    "execution_time": 12,
    "id": "McpN2ONQO5Fs"
   },
   "outputs": [],
   "source": [
    "morfologicky_zpracovana_data = []\n",
    "# nejprve opět vzneseme webový dotaz s textem našeho článku\n",
    "for sentence in sentences:\n",
    "  url = 'http://lindat.mff.cuni.cz/services/morphodita/api/tag?data=' + quote(sentence)\n",
    "  resp = urlopen(url)\n",
    "  resp_content = resp.read().decode(\"utf-8\")\n",
    "  # výsledky dotazu (zpracovaná data) si uložíme do proměnné \"result\"\n",
    "  result = dict(json.loads(resp_content))[\"result\"]\n",
    "  # result má stromovou strukturu, kterou opět rozšifrujeme pomocí BeautifulSoup\n",
    "  soup = BeautifulSoup(result, 'html.parser')\n",
    "  # pro každé jednotlivé slovo si do jedné řádky vedle sebe vytahneme jeho (a) tvar jak je v textu, (b) lemmatizovanou podobu a (c) morfologické určení\n",
    "  # tato data budeme postupně přidávat do samostatné proměnné \"morfologicky_zpracovana_data\"\n",
    "  for token in soup.find_all(\"token\"):\n",
    "    morfologicky_zpracovana_data.append([token.get_text(), token[\"lemma\"].partition(\"-\")[0].partition(\"_\")[0], token[\"tag\"]])\n",
    "# z těchto dat si vytvoříme úhlednou tabulku ve formátu DataFrame (df):\n",
    "data_df = pd.DataFrame(morfologicky_zpracovana_data)\n",
    "# sloupce si pojmenujeme\n",
    "data_df.columns = [\"slovo_puvodni\", \"lemma\", \"POS-tag\"]\n",
    "# výsledný dataset si vypíšeme\n",
    "data_df\n",
    "\n"
   ]
  },
  {
   "cell_type": "markdown",
   "metadata": {
    "id": "eSvrljgi_P73"
   },
   "source": [
    "díky prvním písmenům třetího sloupce nyní víme, o jaký slovní druh se jedná:\n",
    "*   \"V...\" = sloveso\n",
    "*   \"N...\" = podstatné jméno\n",
    "*   \"A...\" = přídavné jméno\n",
    "\n",
    "Pro naše potřeby může bát zajímavé filtrovat tabulku tak, aby nám z textu zůstaly pouze tyto slovní druhy.\n"
   ]
  },
  {
   "cell_type": "code",
   "execution_count": 13,
   "metadata": {
    "colab": {
     "base_uri": "https://localhost:8080/",
     "height": 419
    },
    "execution_time": 13,
    "id": "7myh2XlEFh6K",
    "outputId": "c36d50f5-33c1-43d1-9d5c-07a980b81730"
   },
   "outputs": [
    {
     "data": {
      "text/html": [
       "\n",
       "  <div id=\"df-853570cf-ef1a-47d5-938f-175491345ed6\">\n",
       "    <div class=\"colab-df-container\">\n",
       "      <div>\n",
       "<style scoped>\n",
       "    .dataframe tbody tr th:only-of-type {\n",
       "        vertical-align: middle;\n",
       "    }\n",
       "\n",
       "    .dataframe tbody tr th {\n",
       "        vertical-align: top;\n",
       "    }\n",
       "\n",
       "    .dataframe thead th {\n",
       "        text-align: right;\n",
       "    }\n",
       "</style>\n",
       "<table border=\"1\" class=\"dataframe\">\n",
       "  <thead>\n",
       "    <tr style=\"text-align: right;\">\n",
       "      <th></th>\n",
       "      <th>slovo_puvodni</th>\n",
       "      <th>lemma</th>\n",
       "      <th>POS-tag</th>\n",
       "    </tr>\n",
       "  </thead>\n",
       "  <tbody>\n",
       "    <tr>\n",
       "      <th>1</th>\n",
       "      <td>Studie</td>\n",
       "      <td>studie</td>\n",
       "      <td>NNFS1-----A----</td>\n",
       "    </tr>\n",
       "    <tr>\n",
       "      <th>3</th>\n",
       "      <td>času</td>\n",
       "      <td>čas</td>\n",
       "      <td>NNIS6-----A---1</td>\n",
       "    </tr>\n",
       "    <tr>\n",
       "      <th>7</th>\n",
       "      <td>Chtěli</td>\n",
       "      <td>chtít</td>\n",
       "      <td>VpMP---XR-AA---</td>\n",
       "    </tr>\n",
       "    <tr>\n",
       "      <th>8</th>\n",
       "      <td>bychom</td>\n",
       "      <td>být</td>\n",
       "      <td>Vc-P---1-------</td>\n",
       "    </tr>\n",
       "    <tr>\n",
       "      <th>10</th>\n",
       "      <td>ukázat</td>\n",
       "      <td>ukázat</td>\n",
       "      <td>Vf--------A----</td>\n",
       "    </tr>\n",
       "    <tr>\n",
       "      <th>...</th>\n",
       "      <td>...</td>\n",
       "      <td>...</td>\n",
       "      <td>...</td>\n",
       "    </tr>\n",
       "    <tr>\n",
       "      <th>359</th>\n",
       "      <td>není</td>\n",
       "      <td>být</td>\n",
       "      <td>VB-S---3P-NA---</td>\n",
       "    </tr>\n",
       "    <tr>\n",
       "      <th>360</th>\n",
       "      <td>možná</td>\n",
       "      <td>možný</td>\n",
       "      <td>AAFS1----1A----</td>\n",
       "    </tr>\n",
       "    <tr>\n",
       "      <th>361</th>\n",
       "      <td>obsahová</td>\n",
       "      <td>obsahový</td>\n",
       "      <td>AAFS1----1A----</td>\n",
       "    </tr>\n",
       "    <tr>\n",
       "      <th>362</th>\n",
       "      <td>diferenciace</td>\n",
       "      <td>diferenciace</td>\n",
       "      <td>NNFS1-----A----</td>\n",
       "    </tr>\n",
       "    <tr>\n",
       "      <th>366</th>\n",
       "      <td>zásahu</td>\n",
       "      <td>zásah</td>\n",
       "      <td>NNIS2-----A----</td>\n",
       "    </tr>\n",
       "  </tbody>\n",
       "</table>\n",
       "<p>176 rows × 3 columns</p>\n",
       "</div>\n",
       "      <button class=\"colab-df-convert\" onclick=\"convertToInteractive('df-853570cf-ef1a-47d5-938f-175491345ed6')\"\n",
       "              title=\"Convert this dataframe to an interactive table.\"\n",
       "              style=\"display:none;\">\n",
       "        \n",
       "  <svg xmlns=\"http://www.w3.org/2000/svg\" height=\"24px\"viewBox=\"0 0 24 24\"\n",
       "       width=\"24px\">\n",
       "    <path d=\"M0 0h24v24H0V0z\" fill=\"none\"/>\n",
       "    <path d=\"M18.56 5.44l.94 2.06.94-2.06 2.06-.94-2.06-.94-.94-2.06-.94 2.06-2.06.94zm-11 1L8.5 8.5l.94-2.06 2.06-.94-2.06-.94L8.5 2.5l-.94 2.06-2.06.94zm10 10l.94 2.06.94-2.06 2.06-.94-2.06-.94-.94-2.06-.94 2.06-2.06.94z\"/><path d=\"M17.41 7.96l-1.37-1.37c-.4-.4-.92-.59-1.43-.59-.52 0-1.04.2-1.43.59L10.3 9.45l-7.72 7.72c-.78.78-.78 2.05 0 2.83L4 21.41c.39.39.9.59 1.41.59.51 0 1.02-.2 1.41-.59l7.78-7.78 2.81-2.81c.8-.78.8-2.07 0-2.86zM5.41 20L4 18.59l7.72-7.72 1.47 1.35L5.41 20z\"/>\n",
       "  </svg>\n",
       "      </button>\n",
       "      \n",
       "  <style>\n",
       "    .colab-df-container {\n",
       "      display:flex;\n",
       "      flex-wrap:wrap;\n",
       "      gap: 12px;\n",
       "    }\n",
       "\n",
       "    .colab-df-convert {\n",
       "      background-color: #E8F0FE;\n",
       "      border: none;\n",
       "      border-radius: 50%;\n",
       "      cursor: pointer;\n",
       "      display: none;\n",
       "      fill: #1967D2;\n",
       "      height: 32px;\n",
       "      padding: 0 0 0 0;\n",
       "      width: 32px;\n",
       "    }\n",
       "\n",
       "    .colab-df-convert:hover {\n",
       "      background-color: #E2EBFA;\n",
       "      box-shadow: 0px 1px 2px rgba(60, 64, 67, 0.3), 0px 1px 3px 1px rgba(60, 64, 67, 0.15);\n",
       "      fill: #174EA6;\n",
       "    }\n",
       "\n",
       "    [theme=dark] .colab-df-convert {\n",
       "      background-color: #3B4455;\n",
       "      fill: #D2E3FC;\n",
       "    }\n",
       "\n",
       "    [theme=dark] .colab-df-convert:hover {\n",
       "      background-color: #434B5C;\n",
       "      box-shadow: 0px 1px 3px 1px rgba(0, 0, 0, 0.15);\n",
       "      filter: drop-shadow(0px 1px 2px rgba(0, 0, 0, 0.3));\n",
       "      fill: #FFFFFF;\n",
       "    }\n",
       "  </style>\n",
       "\n",
       "      <script>\n",
       "        const buttonEl =\n",
       "          document.querySelector('#df-853570cf-ef1a-47d5-938f-175491345ed6 button.colab-df-convert');\n",
       "        buttonEl.style.display =\n",
       "          google.colab.kernel.accessAllowed ? 'block' : 'none';\n",
       "\n",
       "        async function convertToInteractive(key) {\n",
       "          const element = document.querySelector('#df-853570cf-ef1a-47d5-938f-175491345ed6');\n",
       "          const dataTable =\n",
       "            await google.colab.kernel.invokeFunction('convertToInteractive',\n",
       "                                                     [key], {});\n",
       "          if (!dataTable) return;\n",
       "\n",
       "          const docLinkHtml = 'Like what you see? Visit the ' +\n",
       "            '<a target=\"_blank\" href=https://colab.research.google.com/notebooks/data_table.ipynb>data table notebook</a>'\n",
       "            + ' to learn more about interactive tables.';\n",
       "          element.innerHTML = '';\n",
       "          dataTable['output_type'] = 'display_data';\n",
       "          await google.colab.output.renderOutput(dataTable, element);\n",
       "          const docLink = document.createElement('div');\n",
       "          docLink.innerHTML = docLinkHtml;\n",
       "          element.appendChild(docLink);\n",
       "        }\n",
       "      </script>\n",
       "    </div>\n",
       "  </div>\n",
       "  "
      ],
      "text/plain": [
       "    slovo_puvodni         lemma          POS-tag\n",
       "1          Studie        studie  NNFS1-----A----\n",
       "3            času           čas  NNIS6-----A---1\n",
       "7          Chtěli         chtít  VpMP---XR-AA---\n",
       "8          bychom           být  Vc-P---1-------\n",
       "10         ukázat        ukázat  Vf--------A----\n",
       "..            ...           ...              ...\n",
       "359          není           být  VB-S---3P-NA---\n",
       "360         možná         možný  AAFS1----1A----\n",
       "361      obsahová      obsahový  AAFS1----1A----\n",
       "362  diferenciace  diferenciace  NNFS1-----A----\n",
       "366        zásahu         zásah  NNIS2-----A----\n",
       "\n",
       "[176 rows x 3 columns]"
      ]
     },
     "execution_count": 48,
     "metadata": {},
     "output_type": "execute_result"
    }
   ],
   "source": [
    "data_df_filtrovana = data_df[data_df[\"POS-tag\"].str.startswith((\"V\",\"N\",\"A\"))]\n",
    "data_df_filtrovana"
   ]
  },
  {
   "cell_type": "markdown",
   "metadata": {
    "id": "ZELHnjgDCobV"
   },
   "source": [
    "V této podobě může být již vcelku zajímavé podívat se na frekvence výskytů slov, resp. jejich lematizovaných tvarů. K tomu použijeme funkce z modulu \"nltk\"."
   ]
  },
  {
   "cell_type": "code",
   "execution_count": 14,
   "metadata": {
    "colab": {
     "base_uri": "https://localhost:8080/"
    },
    "execution_time": 14,
    "id": "X4U0o6kLCn1b",
    "outputId": "e4cc6856-4c1b-4419-9f9e-3c169870344f"
   },
   "outputs": [
    {
     "name": "stdout",
     "output_type": "stream",
     "text": [
      "[('být', 13), ('čas', 9), ('forma', 7), ('chtít', 3), ('ráz', 3), ('různý', 3), ('schéma', 3), ('obsah', 3), ('samostatný', 3), ('projevovat', 2)]\n"
     ]
    }
   ],
   "source": [
    "# nejprve si z naší filtrované tabulky vyxtrahujeme lemmata samotná\n",
    "lemmata = data_df_filtrovana[\"lemma\"].tolist()\n",
    "# pro každý jednotlivý výraz necháme spočítat jeho počet výskytů\n",
    "lemmata_freq = nltk.FreqDist(lemmata)\n",
    "# vybereme např. 10 nejfrekventovanějších slov (rozumějme lemmatizovaných substantiv, adjektiv a sloves)\n",
    "lemmata_most_freq = lemmata_freq.most_common(10)\n",
    "print(lemmata_most_freq)"
   ]
  },
  {
   "cell_type": "code",
   "execution_count": 15,
   "metadata": {
    "colab": {
     "base_uri": "https://localhost:8080/",
     "height": 297
    },
    "execution_time": 15,
    "id": "DWv__cRRGjR6",
    "outputId": "8413317b-6492-46d3-9cdb-eccdd3084e44"
   },
   "outputs": [
    {
     "data": {
      "image/png": "[encoded data removed]",
      "text/plain": [
       "<Figure size 432x288 with 1 Axes>"
      ]
     },
     "metadata": {
      "needs_background": "light"
     },
     "output_type": "display_data"
    }
   ],
   "source": [
    "# kvůli horizontálnímu zobrazení prohodíme pořadí na našem listu\n",
    "lemmata_mostfreq = lemmata_most_freq\n",
    "lemmata_mostfreq.reverse()\n",
    "\n",
    "# pro potřeby grafu přiřadíme hodnoty jednotlivým osám\n",
    "height = [tup[1] for tup in lemmata_mostfreq]\n",
    "bars = [tup[0] for tup in lemmata_mostfreq]\n",
    "y_pos = np.arange(len(bars))\n",
    "\n",
    "plt.barh(y_pos, height)\n",
    "# graf si pojmenujeme a osu také\n",
    "plt.yticks(y_pos, bars)\n",
    "plt.xlabel('Frekvence výskytů')\n",
    "plt.title('Frekvence výskytů nejčastějších slov')\n",
    "# graf si zobrazíme\n",
    "plt.show()"
   ]
  },
  {
   "cell_type": "markdown",
   "metadata": {
    "id": "GVaZyxzwgK-o"
   },
   "source": [
    "Pokud jsme se bez chybové hlášky dostali až sem a pomocí buňky výše jsme úspěšně vykreslili graf nejfrekventovanějších termínů v námi zvoleném dokumentu z AJP, hlavní část našeho úkolu byla splněna.\n",
    "\n",
    "Abychom doložili svůj úspěch, náš výsledný jupyter notebook si vytiskneme do PDF (nabídka File -> Print) a nahrajeme na příslušné místo do Google Classroomu."
   ]
  }
 ],
 "metadata": {
  "colab": {
   "provenance": []
  },
  "kernelspec": {
   "display_name": "Python 3",
   "name": "python3"
  }
 },
 "nbformat": 4,
 "nbformat_minor": 0
}
