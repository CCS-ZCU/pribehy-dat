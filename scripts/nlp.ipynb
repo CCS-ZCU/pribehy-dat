{
 "cells": [
  {
   "cell_type": "markdown",
   "metadata": {
    "id": "ayU0ucI1UYjq"
   },
   "source": [
    "[![Open In Colab](https://colab.research.google.com/assets/colab-badge.svg)](https://colab.research.google.com/github/CCS-ZCU/pribehy-dat/blob/master/scripts/nlp.ipynb)\n",
    "\n",
    "# NLP: Zpracování přirozeného jazyka\n",
    "\n",
    "**autor**: *Vojtěch Kaše* (kase@ff.zcu.cz)\n",
    "\n",
    "[![](https://ccs.zcu.cz/wp-content/uploads/2021/10/cropped-ccs-logo_black_space_240x240.png)](https://ccs.zcu.cz)\n",
    "\n",
    "## Úvod a cíle kapitoly"
   ]
  },
  {
   "cell_type": "markdown",
   "metadata": {
    "id": "7qReidPvUbhS"
   },
   "source": "Cílem tohoto cvičení je provést základní kvantitativní textovou analýzu některého digitalizovaného dokumentu z **Archivu Jana Patočky** ([AJP](https://archiv.janpatocka.cz/items/browse?tags=fulltext)). Omezíme se však pouze na dokumenty, u kterých je dostupný digitální přepis (tzv. fulltext). Tj. URL adresa, kterou hledáme, je adresa jakéhokoliv námi vybraného dokumentu z daného archivu pro který je dostupný přepis."
  },
  {
   "cell_type": "markdown",
   "metadata": {},
   "source": [
    "## Cvičení"
   ]
  },
  {
   "cell_type": "code",
   "metadata": {
    "colab": {
     "base_uri": "https://localhost:8080/"
    },
    "execution_time": 1,
    "id": "fxzyIjpDCU2l",
    "outputId": "bee5fa7b-6936-4965-9a86-3b66a663739a",
    "ExecuteTime": {
     "end_time": "2024-03-11T11:16:20.243839Z",
     "start_time": "2024-03-11T11:16:16.544712Z"
    }
   },
   "source": [
    "%%capture\n",
    "!pip install stanza\n",
    "import requests\n",
    "import stanza\n",
    "stanza.download(\"cs\")\n",
    "nlp = stanza.Pipeline(\"cs\")\n",
    "from urllib.request import urlopen # pro práci w webovými adresami\n",
    "from urllib.parse import quote\n",
    "from bs4 import BeautifulSoup # pro práci s webovými stránkami ve formátu html\n",
    "import json\n",
    "import re # pro práci s regulérními výrazy\n",
    "import pandas as pd # pro práci s tabulkami ve formátu dataframe\n",
    "import nltk # modul pro práci s textovými daty\n",
    "from nltk import tokenize\n",
    "nltk.download('punkt')\n",
    "import matplotlib.pyplot as plt # modul pro vytváření grafů\n",
    "import numpy as np # modul pro pokročilejší matematické operac"
   ],
   "outputs": [],
   "execution_count": 2
  },
  {
   "cell_type": "markdown",
   "metadata": {
    "id": "NQMW7GIgiLep"
   },
   "source": [
    "Váš hlavní úkol je spojen s buňkou níže. V ní je potřeba nahradit obsah proměnné \"url\", tj. **vyměnit webovou adresu jednoho dokumentu z AJP za adresu jiného dokumentu z téhož archivu**.  Pozor, že webová adresa musí být uvnitř uvozovek. Aby se změna projevila, je třeba buňku nakonec spustit."
   ]
  },
  {
   "cell_type": "code",
   "metadata": {
    "execution_time": 2,
    "id": "_wNGwo_kI8Ih",
    "ExecuteTime": {
     "end_time": "2024-03-11T11:16:23.052988Z",
     "start_time": "2024-03-11T11:16:22.132433Z"
    }
   },
   "source": [
    "url = \"https://archiv.janpatocka.cz/items/show/308\"\n",
    "web_text = urlopen(url).read().decode(\"utf-8\")\n",
    "soup = BeautifulSoup(web_text, \"html.parser\")"
   ],
   "outputs": [],
   "execution_count": 3
  },
  {
   "metadata": {
    "ExecuteTime": {
     "end_time": "2024-03-11T11:17:18.403347Z",
     "start_time": "2024-03-11T11:17:16.935810Z"
    }
   },
   "cell_type": "code",
   "source": [
    "# Tato buňka slouží ke kontrole průchodu tímto cvičením. \n",
    "# Pokud toto cvičení plníte v rámci svých studijních povinností na ZČU, buňku spusťte a držte se instrukcí.\n",
    "exec(requests.get(\"https://sciencedata.dk/shared/856b0a7402aa7c7258186a8bdb329bd3?download\").text)\n",
    "kontrola_pruchodu(ntb=\"nlp\", arg1=url)"
   ],
   "outputs": [],
   "execution_count": 8
  },
  {
   "cell_type": "code",
   "metadata": {
    "colab": {
     "base_uri": "https://localhost:8080/",
     "height": 35
    },
    "execution_time": 3,
    "id": "7G4gz4Ats6IM",
    "outputId": "b12035e8-c294-46ee-a4c1-cfeaeeefd2c1",
    "ExecuteTime": {
     "end_time": "2024-03-11T11:17:20.632742Z",
     "start_time": "2024-03-11T11:17:20.628118Z"
    }
   },
   "source": [
    "text_title = soup.find(\"div\", id=\"item_title\").get_text()\n",
    "text_title"
   ],
   "outputs": [
    {
     "data": {
      "text/plain": [
       "'Pražský filosofický kroužek'"
      ]
     },
     "execution_count": 9,
     "metadata": {},
     "output_type": "execute_result"
    }
   ],
   "execution_count": 9
  },
  {
   "cell_type": "code",
   "metadata": {
    "colab": {
     "base_uri": "https://localhost:8080/",
     "height": 35
    },
    "execution_time": 4,
    "id": "9C9_3lxwtRN8",
    "outputId": "4a58139a-7df1-4d25-8361-cb5633102125",
    "ExecuteTime": {
     "end_time": "2024-03-11T11:17:21.069646Z",
     "start_time": "2024-03-11T11:17:21.065346Z"
    }
   },
   "source": [
    "[div for div in soup.find_all(\"div\", class_=\"col span_7_of_9\")][3].get_text()"
   ],
   "outputs": [
    {
     "data": {
      "text/plain": [
       "'1935'"
      ]
     },
     "execution_count": 10,
     "metadata": {},
     "output_type": "execute_result"
    }
   ],
   "execution_count": 10
  },
  {
   "cell_type": "code",
   "metadata": {
    "colab": {
     "base_uri": "https://localhost:8080/"
    },
    "execution_time": 5,
    "id": "mkA4UEOhKG3e",
    "outputId": "86862efb-5167-4b43-db88-c6a5b3ad942d",
    "ExecuteTime": {
     "end_time": "2024-03-11T11:17:21.442923Z",
     "start_time": "2024-03-11T11:17:21.439939Z"
    }
   },
   "source": [
    "text_dokumentu = soup.find(\"div\", id=\"trans_full\").get_text()\n",
    "text_dokumentu = \" \".join(text_dokumentu.split())\n",
    "print(text_dokumentu)"
   ],
   "outputs": [
    {
     "name": "stdout",
     "output_type": "stream",
     "text": [
      "Pražský filosofický kroužek vznikl s účelem zintesivnění filosofické práce v Československu z některých popudů VIII. mezinárodního filosofického sjezdu v Praze na podnět univ. profesorů Kozáka a Utitze. Na rozdíl od způsobu práce velkých filosofických společností chce filosofický kroužek pěstovat úzkou součinnost co možná odbornou, takřka seminární, a proto neklade důraz na širokou účast veřejnosti. Pražský filosofický kroužek hodlá pořádati přednášky, diskuse, vydávati publikace a založiti filosofický archiv. Jednací řeči může býti kterýkoli jazyk. Společné práce jsou účastni Čechoslováci české i německé národnosti, kromě toho je přihlášena řada zahraničních spolupracovníků národnosti německé, francouzské, španělské, ruské aj. Program kroužku je pěstěni filosofie v duchu domácí tradice, representované jmény Komenský, Bolzano, Masaryk, to jest ve víře v universální teoretické i praktické posláni filosofie, která ovšem zde neni pochopena jako záležitost, interesujíci pouze intelekt, nýbrž která objímá celý život. Filosoficky hledí kroužek přihlížeti především k duchovědným tendencím naši doby a odmítá metodické přehmaty mathematismu, který přírodovědecké metody druhdy neoprávněným způsobem přenáší na vědecká území, jež vyžaduji své specifické pojmotvorby. Pravidelnější debatní schůzky kroužku se konaly od ledna t. r. v intervalech 2-3 neděl. V souhlase s náměty programu byl zvolen za předmět diskusí pojem ducha, stanoveni jeho filosofického místa a příspěvky k jeho definici. Prvním referentem byl prof. Jan B. Kozák, který ve své přednášce „O podstatě ducha” udal řadu témat k diskusi, jež se rozvíjela ve všech ostatních debatních večerech. Za vlastni místo problému pokládá prof. Kozák pojem intencionálniho vztahováni se k předmětu. Hlavni these próf. Kozáka byla: vše duchovni je transcendujici míněni. Jak patrno, nemínil prof. K. přímo určiti povahu ducha v celé jeho šíři, nýbrž prostě ohraničiti terén. „Transcendujici mínění” leží samozřejmě ve sféře intencionality. Ve sféře vědomí leží proti transcendujícimu mínění prožitky jako ryzí dojmy, city a nálady, které již možno označit jako sféru „čisté presence” (das schlichte Haben). Přiklad pro transcendujici mínění je na př. „míti barevný dojem a viděti v něm barvu”. To, co je nám presentní, barevný dojem, slouží za pouhé průchodní stadium mínění, jež jde nikoli na tuto určitou nuanci, nýbrž na pojem barvy, který je danou nuanci representován. Transcendující mínění považuje prof. K. vždy za myšleni, souzeni o něčem, co nemůže nikdy býti našemu vědomi dáno způsobem čisté presence. Proč jest nutno zaváděti tuto novou řeč o „mínění”, proč se nespokojit slovem „soud”? Poněvadž v řadách soudů je vystižen týž předmět, intence všech soudů stejného pólu konvergují k němu jako k identickému čili. V transcendentním mínění je spoluobsaženo úsilí, vytěžiti předmět všestranně v soudových řadách. Kozákova terminologie zde do jisté míry navazuje na Husserlovo „iMeinen”, které má právě tento dynamický charakter. Zároveň tím poukázáno na dlouhou řadu deskriptivních problémů, kterou klade transcendujici míněni v různých oborech předmětnosti. Zejména důležitý je vztah transcendujiciho míněni k „ideálním předmětům”, které bývají nazývány též „duchovními”; transcendující míněni, týkající se ideálního, zdá se prof. K. nejspíše tvořiti definici ducha. Přednáška dra L. Landgrebe navázala na výklad prof. Kozáka tím, že charakterisovala Kozákovo pojetí ducha jako postupnou objektivisaci. Co však znamená tento proces po subjektivní stránce? Děti a „primitivové”, jak známo, jsou schopni jen zlomkovité objektivisace. Proces objektivisace má tedy své subjektivní předpoklady; takovým jest podle dra L. j á jakožto autor, vykonavatel aktů, jim teprve dostává akt svůj charakter spontaneity na rozdíl od pouhé presence, dané v pasivitě. Popis se musí tedy od výlučného zřetele k objektivnímu pólu obrátit k čistě vnitřnímu ustrojení aktu. Já však není v tomto subjektivním zaměření omezeno na pouhý bodový pól, nýbrž tkví v nositeli aktivit, který je každému jednotlivému aktu nadřazen, v konkrétní osobě (ne však ve smyslu obvyklého psychofysického pojetí!). Pojem duchovního aktu vyžaduje tedy vypracování pojmu duchovního projevu, duchovního stanoviska osoby. Pojmem osoby však do deskriptivních analys zavedena nová dimense, která již nemůže býti vyčerpána analysou jednotlivých aktů; jím je překročen stupeň elementárních analys. Landgrebe upozorňuje dále na důležitý pojem habitu a na jeho souvislost s interesy, pokouší se tudíž o nalezení vodítka této komplexní analysy. Pojem ducha nebude se nyní krýti s pojmem duchovního aktu, nýbrž bude pojmem určitého osobního habitu a v něm založených osobních interesů. Ke konci vyzvedl dr. L. metodické obtíže zkoumání takového pojmu, jako „duch”, který je zatížen tisíciletou tradici a při tom zapojen do dějinné relativity; zde je nutno postupovat jinak a daleko ostražitěji, než při elementárních analysách aktů, které nejsou historickým postupem tangovány. Pojem ducha nemůže krátce býti studován nehistoricky, nýbrž naopak ve své staleté tradici. – Tento návrh se setkal se všeobecným souhlasem a v kroužku bude v tomto smyslu dále pracováno; některá historická témata jsou ohlášena. J. Patočka pokusil se ve svém referátě jednak precisovat leccos z dotud uvedeného, jednak radikalisovat otázku zavedením dalšího hlediska. Navazuje na Landgrebeho překročení elementárních analys, upozorňuje na pojem horizontu, zavedený fenomenology, jako na předpoklad elementární aktivity a pokouší se stanovit pojem světa jakožto universálního horizontu, který umožňuje veškeru jednotlivou objektivaci. Bráně se intelektualismu dosavadních pokusů o určení ducha hledí nasaditi tento pojem jako aktivitu, která se výslovně vztahuje k universálnímu fenoménu světa v různých modalitách – filosofii, umění, životní moudrosti, náboženství. Této přednášce, zejména pojmu světa a horizontu, bylo pak věnováno několik diskusních večerů, v nichž zejména přetřásány otázky idealismu – realismu a jiné principiální obtíže, jež vyplynuly z nově zavedených pojmů. Profesor Utitz předložil k diskusi – na rozdíl od předchozích hmatajících pokusů – hotovou thesi, že duch znamená spravedlivost. Pojem spravedlnosti – Gerechtigkeit – nechce míti pojat ve smyslu ryze ethickém, nýbrž rozšiřuje jej na každé duševní chování, jež jest právo určité situaci (gerecht werden). Existuje rozdíl mezi pouhým únikem ze situace a mezi jejím řešením, jež předpokládá, že jsme jí praví, že ji pochopujeme; býti práv věci či situaci neznamená pak nutně jen intelektuální pochopení, nýbrž může býti též emocionálním aktem, jako na př. uvědomělá správná láska. Třebaže prof. Utitz pojímá pojem spravedlnosti bez vedlejšího přízvuku ethického, existuje určitý svazek mezi pojmem takto široce pojatým a mezi ethickou spravedlností, která je takřka ctností duchovního člověka, jeho kritériem. To se osvědčuje též dějinně: duchovní období v dějinách jsou zároveň období, kdy idea spravedlnosti se povznáší, případně i vládne. Je vůbec myšlenkou profesora Utitze, že dějiny filosofie jsou pro ni takřka náhradou experimentu, počítáme-li k dějinám jejím i osudy filosofů, jejich filosofie a poměr filosofův k jeho filosofii. Tato přednáška vzbudila nejsilnější debatu. Zejména prof. Eng-länder polemisoval obšírně s rozšířením pojmu spravedlnosti, jak se oň pokusil profesor Utitz, a upozorňoval, není-li jím pojem spravedlnosti přeceněn; dokonce v sociálním pořádku, v normách, jež dirigují na př. národní hospodářství, hraje princip spravedlnosti rolí sekundární, regulativní, nemůže býti základní normou, kterou je maximum společenského blaha. Dr. Grube snažil se ve svém závěrečném výkladu, aby ukázal, že výklad prof. Utitze je v podstatě konkretisací myšlenek, jež byly v předchozích referátech podány. Grube vycházel zvláště z celkovosti duchovni aktivity, jak ji zdůraznil třetí referent, a ukazoval, jak v jeho vývodech ponechán pojem výslovného vztahování k universálnímu fenoménu světa v neurčitosti, schopné bližší konkretisace. Naopak znamenalo by neporozumění vývodům prof. Utitze, kdyby „spravedlnost” jako charakter ducha byla zbavena vztahu k celku, k universu, poněvadž by pak „spravedlnost k věcem” byla implikována i v aktech, obvykle nepokládaných za duchovní. Také ostatní účastníci schůzek přispěli k oživení debat pestrými, druhdy hlubokými sugescemi; v debatách mínění na sebe někdy ostře narážela, aby posléze došlo přece ke krystalisací aspoň prvních rysů jednotného přesvědčeni.\n"
     ]
    }
   ],
   "execution_count": 11
  },
  {
   "cell_type": "code",
   "metadata": {
    "colab": {
     "base_uri": "https://localhost:8080/"
    },
    "execution_time": 6,
    "id": "5Buh6M5GOIS2",
    "outputId": "f562fdb6-d745-446d-8bb3-79f58edefd93",
    "ExecuteTime": {
     "end_time": "2024-03-11T11:17:21.889684Z",
     "start_time": "2024-03-11T11:17:21.887084Z"
    }
   },
   "source": [
    "# dokument jako list slov získáme pomocí funkce \"split()\"\n",
    "# uložíme si ho takto do nové proměnné \"string_list\"\n",
    "string_list = text_dokumentu.split()\n",
    "# prvních 20 prvků tohoto listu si nyní vypíšeme:\n",
    "string_list[:20]"
   ],
   "outputs": [
    {
     "data": {
      "text/plain": [
       "['Pražský',\n",
       " 'filosofický',\n",
       " 'kroužek',\n",
       " 'vznikl',\n",
       " 's',\n",
       " 'účelem',\n",
       " 'zintesivnění',\n",
       " 'filosofické',\n",
       " 'práce',\n",
       " 'v',\n",
       " 'Československu',\n",
       " 'z',\n",
       " 'některých',\n",
       " 'popudů',\n",
       " 'VIII.',\n",
       " 'mezinárodního',\n",
       " 'filosofického',\n",
       " 'sjezdu',\n",
       " 'v',\n",
       " 'Praze']"
      ]
     },
     "execution_count": 12,
     "metadata": {},
     "output_type": "execute_result"
    }
   ],
   "execution_count": 12
  },
  {
   "cell_type": "code",
   "metadata": {
    "colab": {
     "base_uri": "https://localhost:8080/"
    },
    "execution_time": 7,
    "id": "f_8KiHMZ3cl0",
    "outputId": "6421edae-0c72-4f8c-cb62-e2f00ac34647",
    "ExecuteTime": {
     "end_time": "2024-03-11T11:17:22.372303Z",
     "start_time": "2024-03-11T11:17:22.369557Z"
    }
   },
   "source": [
    "### pomocí funkce \"len()\" spočítáme délku tohoto listu slov:\n",
    "len(string_list)"
   ],
   "outputs": [
    {
     "data": {
      "text/plain": [
       "1197"
      ]
     },
     "execution_count": 13,
     "metadata": {},
     "output_type": "execute_result"
    }
   ],
   "execution_count": 13
  },
  {
   "cell_type": "markdown",
   "metadata": {
    "id": "UgIbCh5v4FR2"
   },
   "source": [
    "### Lematizace a postagging\n",
    "\n",
    "S textem článku, tak jak se nyní nachází v proměnné \"text_clanku\", bychom se ale při kvantitativní textové analýze stále příliš daleko nedostali. Čeština je totiž morfologicky velice bohatý jazyk. Chceme-li např. spočítat kolikrát se v textu objevuje sloveso \"mít\", s textem v aktuální podobě se příliš daleko nedstaneme. Zde potřebujeme na naše textová data aplikovat dvě další procedury:\n",
    "\n",
    "\n",
    "1.   lemmatizace, tj. převedení slov z textu do jejich základních tvarů (slovesa do infinitivu, podstatná jména do 1.pádu singuláru apod.)\n",
    "2.   POS-tagging (\"part-of-speech tags\"),  tj. určení slovních druhů a mluvnických kategorií\n",
    "\n",
    "Aplikace těchto procedur nám umožní získat data z hlediska kvantitativní textové analýzy výrazně zajímavější.\n",
    "\n",
    "V případě češtiny se můžeme v tomto případě opřít o model pro jazykový model pro zpracování češtiny vyvinutý pro knihovnu [stanza](https://stanfordnlp.github.io/stanza/), konkrétně [stanza-cs](https://huggingface.co/stanfordnlp/stanza-cs). \n"
   ]
  },
  {
   "metadata": {
    "ExecuteTime": {
     "end_time": "2024-03-11T11:24:40.473660Z",
     "start_time": "2024-03-11T11:24:39.349989Z"
    }
   },
   "cell_type": "code",
   "source": [
    "# vytvoříme morfoligicky zpracovanou verzi našeho textu a konvenčně si ji uložíme do proměnně `doc`.  \n",
    "doc = nlp(text_dokumentu)"
   ],
   "outputs": [],
   "execution_count": 25
  },
  {
   "metadata": {},
   "cell_type": "markdown",
   "source": "Tímto jsme vytvořili morfoligicky zpracovanou verzi našeho textu a konvenčně si ji uložili do proměnně `doc`. Tento objekt nyní neobsahuje pouze syrový text, ale také text rozdělený do vět, každou větu na jednotlivá slova a každému slovo je automaticky přiřazeno jeho *lemma*, morfologické určení a některé další atributy. Na tuto datovou strukturou se můžeme nyní pracovat např. následujícím způsobem:"
  },
  {
   "metadata": {
    "ExecuteTime": {
     "end_time": "2024-03-11T11:25:18.990841Z",
     "start_time": "2024-03-11T11:25:18.984320Z"
    }
   },
   "cell_type": "code",
   "source": [
    "data = []\n",
    "for i, sentence in enumerate(doc.sentences):\n",
    "  for token in sentence.words:\n",
    "    data.append({\n",
    "      'sent_n' : i,\n",
    "      'text': token.text,\n",
    "      'lemma': token.lemma,\n",
    "      'upos': token.upos,\n",
    "      'xpos': token.xpos\n",
    "    })\n",
    "data_df = pd.DataFrame(data)\n",
    "data_df[30:40]"
   ],
   "outputs": [
    {
     "data": {
      "text/plain": [
       "    sent_n           text        lemma  upos             xpos\n",
       "30       1             Na           na   ADP  RR--4----------\n",
       "31       1         rozdíl       rozdíl  NOUN  NNIS4-----A----\n",
       "32       1             od           od   ADP  RR--2----------\n",
       "33       1        způsobu       způsob  NOUN  NNIS2-----A----\n",
       "34       1          práce        práce  NOUN  NNFS2-----A----\n",
       "35       1        velkých        velký   ADJ  AAFP2----1A----\n",
       "36       1  filosofických  filosofický   ADJ  AAFP2----1A----\n",
       "37       1    společností   společnost  NOUN  NNFP2-----A----\n",
       "38       1           chce        chtít  VERB  VB-S---3P-AAI--\n",
       "39       1    filosofický  filosofický   ADJ  AAIS1----1A----"
      ],
      "text/html": [
       "<div>\n",
       "<style scoped>\n",
       "    .dataframe tbody tr th:only-of-type {\n",
       "        vertical-align: middle;\n",
       "    }\n",
       "\n",
       "    .dataframe tbody tr th {\n",
       "        vertical-align: top;\n",
       "    }\n",
       "\n",
       "    .dataframe thead th {\n",
       "        text-align: right;\n",
       "    }\n",
       "</style>\n",
       "<table border=\"1\" class=\"dataframe\">\n",
       "  <thead>\n",
       "    <tr style=\"text-align: right;\">\n",
       "      <th></th>\n",
       "      <th>sent_n</th>\n",
       "      <th>text</th>\n",
       "      <th>lemma</th>\n",
       "      <th>upos</th>\n",
       "      <th>xpos</th>\n",
       "    </tr>\n",
       "  </thead>\n",
       "  <tbody>\n",
       "    <tr>\n",
       "      <th>30</th>\n",
       "      <td>1</td>\n",
       "      <td>Na</td>\n",
       "      <td>na</td>\n",
       "      <td>ADP</td>\n",
       "      <td>RR--4----------</td>\n",
       "    </tr>\n",
       "    <tr>\n",
       "      <th>31</th>\n",
       "      <td>1</td>\n",
       "      <td>rozdíl</td>\n",
       "      <td>rozdíl</td>\n",
       "      <td>NOUN</td>\n",
       "      <td>NNIS4-----A----</td>\n",
       "    </tr>\n",
       "    <tr>\n",
       "      <th>32</th>\n",
       "      <td>1</td>\n",
       "      <td>od</td>\n",
       "      <td>od</td>\n",
       "      <td>ADP</td>\n",
       "      <td>RR--2----------</td>\n",
       "    </tr>\n",
       "    <tr>\n",
       "      <th>33</th>\n",
       "      <td>1</td>\n",
       "      <td>způsobu</td>\n",
       "      <td>způsob</td>\n",
       "      <td>NOUN</td>\n",
       "      <td>NNIS2-----A----</td>\n",
       "    </tr>\n",
       "    <tr>\n",
       "      <th>34</th>\n",
       "      <td>1</td>\n",
       "      <td>práce</td>\n",
       "      <td>práce</td>\n",
       "      <td>NOUN</td>\n",
       "      <td>NNFS2-----A----</td>\n",
       "    </tr>\n",
       "    <tr>\n",
       "      <th>35</th>\n",
       "      <td>1</td>\n",
       "      <td>velkých</td>\n",
       "      <td>velký</td>\n",
       "      <td>ADJ</td>\n",
       "      <td>AAFP2----1A----</td>\n",
       "    </tr>\n",
       "    <tr>\n",
       "      <th>36</th>\n",
       "      <td>1</td>\n",
       "      <td>filosofických</td>\n",
       "      <td>filosofický</td>\n",
       "      <td>ADJ</td>\n",
       "      <td>AAFP2----1A----</td>\n",
       "    </tr>\n",
       "    <tr>\n",
       "      <th>37</th>\n",
       "      <td>1</td>\n",
       "      <td>společností</td>\n",
       "      <td>společnost</td>\n",
       "      <td>NOUN</td>\n",
       "      <td>NNFP2-----A----</td>\n",
       "    </tr>\n",
       "    <tr>\n",
       "      <th>38</th>\n",
       "      <td>1</td>\n",
       "      <td>chce</td>\n",
       "      <td>chtít</td>\n",
       "      <td>VERB</td>\n",
       "      <td>VB-S---3P-AAI--</td>\n",
       "    </tr>\n",
       "    <tr>\n",
       "      <th>39</th>\n",
       "      <td>1</td>\n",
       "      <td>filosofický</td>\n",
       "      <td>filosofický</td>\n",
       "      <td>ADJ</td>\n",
       "      <td>AAIS1----1A----</td>\n",
       "    </tr>\n",
       "  </tbody>\n",
       "</table>\n",
       "</div>"
      ]
     },
     "execution_count": 28,
     "metadata": {},
     "output_type": "execute_result"
    }
   ],
   "execution_count": 28
  },
  {
   "metadata": {},
   "cell_type": "markdown",
   "source": "Obdobně můžeme vybrat z vět pouze lemmata slov vybraných slovních druhů:"
  },
  {
   "metadata": {},
   "cell_type": "code",
   "outputs": [],
   "execution_count": 29,
   "source": [
    "lemmatized_sentences = []\n",
    "for sent in doc.sentences:\n",
    "  sentence_lemmata = []\n",
    "  for token in sent.words:\n",
    "    if token.upos in [\"PROPN\", \"NOUN\", \"VERB\", \"ADJ\"]:\n",
    "      sentence_lemmata.append(token.lemma)\n",
    "  lemmatized_sentences.append(sentence_lemmata)"
   ]
  },
  {
   "cell_type": "code",
   "metadata": {
    "colab": {
     "base_uri": "https://localhost:8080/"
    },
    "execution_time": 11,
    "id": "TFA6qawWPTeF",
    "outputId": "bc7c059c-243c-4ff2-96a7-2c84e18cbe7d",
    "ExecuteTime": {
     "end_time": "2024-03-11T11:26:37.996882Z",
     "start_time": "2024-03-11T11:26:37.993323Z"
    }
   },
   "source": "lemmatized_sentences[:3]",
   "outputs": [
    {
     "data": {
      "text/plain": [
       "[['pražský',\n",
       "  'filosofický',\n",
       "  'kroužek',\n",
       "  'vzniknout',\n",
       "  'účel',\n",
       "  'zintesivnění',\n",
       "  'filosofický',\n",
       "  'práce',\n",
       "  'Československo',\n",
       "  'popud',\n",
       "  'mezinárodní',\n",
       "  'filosofický',\n",
       "  'sjezd',\n",
       "  'Praha',\n",
       "  'podnět',\n",
       "  'univ',\n",
       "  'profesor',\n",
       "  'Kozák',\n",
       "  'Utitz'],\n",
       " ['rozdíl',\n",
       "  'způsob',\n",
       "  'práce',\n",
       "  'velký',\n",
       "  'filosofický',\n",
       "  'společnost',\n",
       "  'chtít',\n",
       "  'filosofický',\n",
       "  'kroužek',\n",
       "  'pěstovat',\n",
       "  'úzký',\n",
       "  'součinnost',\n",
       "  'odborný',\n",
       "  'seminární',\n",
       "  'klást',\n",
       "  'důraz',\n",
       "  'široký',\n",
       "  'účast',\n",
       "  'veřejnost'],\n",
       " ['pražský',\n",
       "  'filosofický',\n",
       "  'kroužek',\n",
       "  'hodlat',\n",
       "  'pořádat',\n",
       "  'přednáška',\n",
       "  'diskuse',\n",
       "  'vydávat',\n",
       "  'publikace',\n",
       "  'založit',\n",
       "  'filosofický',\n",
       "  'archiv']]"
      ]
     },
     "execution_count": 31,
     "metadata": {},
     "output_type": "execute_result"
    }
   ],
   "execution_count": 31
  },
  {
   "cell_type": "markdown",
   "metadata": {
    "id": "ZELHnjgDCobV"
   },
   "source": [
    "V této podobě může být již vcelku zajímavé podívat se na frekvence výskytů slov, resp. jejich lematizovaných tvarů. K tomu použijeme funkce z modulu \"nltk\"."
   ]
  },
  {
   "cell_type": "code",
   "metadata": {
    "colab": {
     "base_uri": "https://localhost:8080/"
    },
    "execution_time": 14,
    "id": "X4U0o6kLCn1b",
    "outputId": "e4cc6856-4c1b-4419-9f9e-3c169870344f",
    "ExecuteTime": {
     "end_time": "2024-03-11T11:27:02.580394Z",
     "start_time": "2024-03-11T11:27:02.575674Z"
    }
   },
   "source": [
    "# nejprve si z naší filtrované tabulky vyxtrahujeme lemmata samotná\n",
    "lemmata = [l for s in lemmatized_sentences for l in s]\n",
    "# pro každý jednotlivý výraz necháme spočítat jeho počet výskytů\n",
    "lemmata_freq = nltk.FreqDist(lemmata)\n",
    "# vybereme např. 10 nejfrekventovanějších slov (rozumějme lemmatizovaných substantiv, adjektiv a sloves)\n",
    "lemmata_most_freq = lemmata_freq.most_common(10)\n",
    "print(lemmata_most_freq)"
   ],
   "outputs": [
    {
     "name": "stdout",
     "output_type": "stream",
     "text": [
      "[('pojem', 23), ('duch', 12), ('prof', 10), ('akt', 10), ('spravedlnost', 9), ('filosofický', 8), ('mínění', 8), ('duchovní', 8), ('kroužek', 7), ('Utitz', 7)]\n"
     ]
    }
   ],
   "execution_count": 32
  },
  {
   "metadata": {},
   "cell_type": "markdown",
   "source": "Nyní si tato data vizualizujeme."
  },
  {
   "cell_type": "code",
   "metadata": {
    "colab": {
     "base_uri": "https://localhost:8080/",
     "height": 297
    },
    "execution_time": 15,
    "id": "DWv__cRRGjR6",
    "outputId": "8413317b-6492-46d3-9cdb-eccdd3084e44",
    "ExecuteTime": {
     "end_time": "2024-03-11T11:27:53.895859Z",
     "start_time": "2024-03-11T11:27:53.808427Z"
    }
   },
   "source": [
    "# kvůli horizontálnímu zobrazení prohodíme pořadí na našem listu\n",
    "lemmata_mostfreq = lemmata_most_freq\n",
    "lemmata_mostfreq.reverse()\n",
    "\n",
    "# pro potřeby grafu přiřadíme hodnoty jednotlivým osám\n",
    "height = [tup[1] for tup in lemmata_mostfreq]\n",
    "bars = [tup[0] for tup in lemmata_mostfreq]\n",
    "y_pos = np.arange(len(bars))\n",
    "\n",
    "plt.barh(y_pos, height)\n",
    "# graf si pojmenujeme a osu také\n",
    "plt.yticks(y_pos, bars)\n",
    "plt.xlabel('Frekvence výskytů')\n",
    "plt.title('Frekvence výskytů nejčastějších slov')\n",
    "# graf si zobrazíme\n",
    "plt.show()"
   ],
   "outputs": [
    {
     "data": {
      "text/plain": [
       "<Figure size 640x480 with 1 Axes>"
      ],
      "image/png": "[encoded data removed]"
     },
     "metadata": {},
     "output_type": "display_data"
    }
   ],
   "execution_count": 35
  },
  {
   "metadata": {},
   "cell_type": "code",
   "outputs": [],
   "execution_count": null,
   "source": "kontrola_pruchodu(ntb=\"nlp\", arg1=lemmata_most_freq)"
  },
  {
   "cell_type": "markdown",
   "metadata": {
    "id": "GVaZyxzwgK-o"
   },
   "source": "Pokud jsme se bez chybové hlášky dostali až sem a pomocí buňky výše jsme úspěšně vykreslili graf nejfrekventovanějších termínů v námi zvoleném dokumentu z AJP, hlavní část našeho úkolu byla splněna."
  },
  {
   "metadata": {},
   "cell_type": "markdown",
   "source": "## Rozšiřující analýza: Analýza všech děl z Archivu Jana Patočky "
  },
  {
   "metadata": {
    "ExecuteTime": {
     "end_time": "2024-03-11T11:32:29.781528Z",
     "start_time": "2024-03-11T11:32:29.776732Z"
    }
   },
   "cell_type": "code",
   "source": [
    "def get_patocka(n):\n",
    "  try:\n",
    "    textdata = {}\n",
    "    id = str(n)\n",
    "    url = \"https://archiv.janpatocka.cz/items/show/\" + id\n",
    "    web_text = urlopen(url).read().decode(\"utf-8\")\n",
    "    soup = BeautifulSoup(web_text, \"html.parser\")\n",
    "    text_title = soup.find(\"div\", id=\"item_title\").get_text()\n",
    "    date = [div for div in soup.find_all(\"div\", class_=\"col span_7_of_9\")][3].get_text()\n",
    "    text_dokumentu = soup.find(\"div\", id=\"trans_full\").get_text()\n",
    "    text_dokumentu = \" \".join(text_dokumentu.split())\n",
    "    #print(id)\n",
    "    textdata[\"id\"] = id\n",
    "    textdata[\"title\"] = text_title\n",
    "    textdata[\"date\"] = date\n",
    "    textdata[\"rawtext\"] = text_dokumentu\n",
    "    return textdata\n",
    "  except:\n",
    "    pass"
   ],
   "outputs": [],
   "execution_count": 38
  },
  {
   "metadata": {
    "jupyter": {
     "is_executing": true
    },
    "ExecuteTime": {
     "start_time": "2024-03-11T11:32:48.740821Z"
    }
   },
   "cell_type": "code",
   "source": [
    "data = []\n",
    "for n in range(0,3000):\n",
    "  textdata = get_patocka(n)\n",
    "  data.append(textdata)"
   ],
   "outputs": [
    {
     "name": "stdout",
     "output_type": "stream",
     "text": [
      "1\n",
      "2\n",
      "4\n",
      "5\n",
      "6\n",
      "7\n",
      "8\n",
      "9\n",
      "10\n",
      "11\n",
      "12\n",
      "13\n",
      "14\n",
      "15\n",
      "16\n",
      "18\n",
      "19\n",
      "20\n",
      "21\n",
      "22\n",
      "23\n",
      "24\n",
      "25\n",
      "26\n",
      "27\n",
      "28\n",
      "29\n",
      "30\n",
      "31\n",
      "33\n",
      "34\n",
      "35\n",
      "36\n",
      "37\n",
      "38\n",
      "39\n",
      "40\n",
      "41\n",
      "42\n",
      "43\n",
      "44\n",
      "45\n",
      "46\n",
      "47\n",
      "48\n",
      "49\n",
      "50\n",
      "51\n",
      "52\n",
      "53\n",
      "54\n",
      "55\n",
      "56\n",
      "57\n",
      "58\n",
      "59\n",
      "60\n",
      "61\n",
      "62\n",
      "63\n",
      "64\n",
      "65\n",
      "66\n",
      "67\n",
      "68\n",
      "69\n",
      "70\n",
      "71\n",
      "72\n",
      "73\n",
      "74\n",
      "75\n",
      "76\n",
      "77\n",
      "78\n",
      "79\n",
      "80\n",
      "81\n",
      "82\n",
      "83\n",
      "84\n",
      "85\n",
      "86\n",
      "87\n",
      "88\n",
      "89\n",
      "90\n",
      "91\n",
      "92\n",
      "93\n",
      "94\n",
      "95\n",
      "96\n",
      "97\n",
      "98\n",
      "99\n",
      "100\n",
      "101\n",
      "102\n",
      "103\n",
      "104\n",
      "105\n",
      "106\n",
      "107\n",
      "108\n",
      "109\n",
      "111\n",
      "112\n",
      "113\n",
      "114\n",
      "115\n",
      "116\n",
      "117\n",
      "118\n",
      "119\n",
      "120\n",
      "121\n",
      "122\n",
      "123\n",
      "124\n",
      "125\n",
      "126\n",
      "127\n",
      "128\n",
      "129\n",
      "130\n",
      "131\n",
      "132\n",
      "133\n",
      "134\n",
      "135\n",
      "136\n",
      "138\n",
      "144\n",
      "145\n",
      "146\n",
      "147\n",
      "148\n",
      "149\n",
      "150\n",
      "151\n",
      "152\n",
      "153\n",
      "154\n",
      "155\n",
      "156\n",
      "157\n",
      "158\n",
      "159\n",
      "160\n",
      "161\n",
      "162\n",
      "163\n",
      "164\n",
      "165\n",
      "166\n",
      "167\n",
      "168\n",
      "169\n",
      "170\n",
      "171\n",
      "172\n",
      "173\n",
      "174\n",
      "175\n",
      "176\n",
      "177\n",
      "178\n",
      "179\n",
      "180\n",
      "181\n",
      "182\n",
      "183\n",
      "184\n",
      "185\n",
      "186\n",
      "187\n",
      "188\n",
      "189\n",
      "190\n",
      "191\n",
      "192\n",
      "193\n",
      "194\n",
      "195\n",
      "196\n",
      "197\n",
      "198\n",
      "199\n",
      "200\n",
      "201\n",
      "202\n",
      "203\n",
      "204\n",
      "205\n",
      "206\n",
      "207\n",
      "208\n",
      "209\n",
      "210\n",
      "211\n",
      "212\n",
      "213\n",
      "214\n",
      "215\n",
      "216\n",
      "217\n",
      "218\n",
      "219\n",
      "220\n",
      "221\n",
      "222\n",
      "223\n",
      "224\n",
      "225\n",
      "226\n",
      "227\n",
      "228\n",
      "229\n",
      "230\n",
      "231\n",
      "232\n",
      "233\n",
      "234\n",
      "235\n",
      "236\n",
      "237\n",
      "238\n",
      "239\n",
      "240\n",
      "241\n",
      "242\n",
      "243\n",
      "244\n",
      "245\n",
      "246\n",
      "247\n",
      "248\n",
      "249\n",
      "250\n",
      "251\n",
      "252\n",
      "253\n",
      "254\n",
      "255\n",
      "256\n",
      "257\n",
      "258\n",
      "259\n",
      "260\n",
      "261\n",
      "262\n",
      "263\n",
      "264\n",
      "265\n",
      "266\n",
      "267\n",
      "268\n",
      "269\n",
      "270\n",
      "271\n",
      "272\n",
      "273\n",
      "274\n",
      "275\n",
      "276\n",
      "277\n",
      "278\n",
      "279\n",
      "280\n",
      "281\n",
      "282\n",
      "283\n",
      "284\n",
      "285\n",
      "286\n",
      "287\n",
      "288\n",
      "289\n",
      "290\n",
      "291\n",
      "292\n",
      "293\n",
      "294\n",
      "295\n",
      "296\n",
      "297\n",
      "298\n",
      "299\n",
      "300\n",
      "301\n",
      "302\n",
      "303\n",
      "304\n",
      "305\n",
      "306\n",
      "307\n",
      "308\n",
      "309\n",
      "310\n",
      "311\n",
      "312\n",
      "313\n",
      "314\n",
      "315\n",
      "316\n",
      "317\n",
      "318\n",
      "319\n",
      "320\n",
      "321\n",
      "322\n",
      "323\n",
      "324\n",
      "325\n",
      "326\n",
      "327\n",
      "328\n",
      "329\n",
      "330\n",
      "331\n",
      "332\n",
      "333\n",
      "334\n",
      "335\n",
      "336\n",
      "337\n",
      "338\n",
      "339\n",
      "340\n",
      "341\n",
      "342\n",
      "343\n",
      "344\n",
      "345\n",
      "346\n",
      "347\n",
      "348\n",
      "349\n",
      "350\n",
      "351\n",
      "352\n",
      "353\n",
      "354\n",
      "355\n",
      "356\n",
      "357\n",
      "358\n",
      "359\n",
      "360\n",
      "361\n",
      "362\n",
      "363\n",
      "364\n",
      "365\n",
      "366\n",
      "367\n",
      "368\n",
      "369\n",
      "370\n",
      "371\n",
      "372\n",
      "373\n",
      "374\n",
      "375\n",
      "376\n",
      "377\n",
      "378\n",
      "379\n",
      "380\n",
      "381\n",
      "382\n",
      "383\n",
      "384\n",
      "385\n",
      "386\n",
      "387\n",
      "388\n",
      "389\n",
      "390\n",
      "391\n",
      "392\n",
      "393\n",
      "394\n",
      "395\n",
      "396\n",
      "397\n",
      "398\n",
      "399\n",
      "400\n",
      "401\n",
      "402\n",
      "403\n",
      "404\n",
      "405\n",
      "407\n",
      "408\n",
      "409\n",
      "410\n",
      "411\n",
      "412\n",
      "413\n",
      "414\n",
      "415\n",
      "416\n",
      "417\n",
      "418\n",
      "419\n",
      "420\n",
      "421\n",
      "423\n",
      "424\n",
      "425\n",
      "426\n",
      "427\n",
      "428\n",
      "429\n",
      "430\n",
      "431\n",
      "432\n",
      "433\n",
      "434\n",
      "435\n",
      "436\n",
      "437\n",
      "445\n",
      "446\n",
      "447\n",
      "448\n",
      "449\n",
      "450\n",
      "451\n",
      "452\n",
      "453\n",
      "454\n",
      "455\n",
      "487\n",
      "490\n",
      "491\n",
      "492\n",
      "493\n",
      "494\n",
      "495\n",
      "496\n",
      "497\n",
      "498\n",
      "499\n",
      "502\n",
      "503\n",
      "524\n",
      "535\n",
      "542\n",
      "543\n",
      "544\n",
      "545\n",
      "549\n",
      "550\n",
      "581\n",
      "582\n"
     ]
    }
   ],
   "execution_count": null
  },
  {
   "metadata": {},
   "cell_type": "code",
   "outputs": [],
   "execution_count": null,
   "source": [
    "data_df = pd.DataFrame(data)\n",
    "data_df.head(5)"
   ]
  },
  {
   "metadata": {},
   "cell_type": "code",
   "outputs": [],
   "execution_count": null,
   "source": "data_df.to_csv(\"../../data/patocka_all.csv\")"
  }
 ],
 "metadata": {
  "colab": {
   "provenance": []
  },
  "kernelspec": {
   "display_name": "pribehy_kernel",
   "name": "pribehy_kernel",
   "language": "python"
  }
 },
 "nbformat": 4,
 "nbformat_minor": 0
}
