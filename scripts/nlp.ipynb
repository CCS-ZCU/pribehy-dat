{
 "cells": [
  {
   "cell_type": "markdown",
   "metadata": {
    "id": "ayU0ucI1UYjq"
   },
   "source": [
    "[![Open In Colab](https://colab.research.google.com/assets/colab-badge.svg)](https://colab.research.google.com/github/CCS-ZCU/pribehy-dat/blob/master/scripts/nlp.ipynb)\n",
    "\n",
    "# NLP: Zpracování přirozeného jazyka\n",
    "\n",
    "**autor**: *Vojtěch Kaše* (kase@ff.zcu.cz)\n",
    "\n",
    "[![](https://ccs.zcu.cz/wp-content/uploads/2021/10/cropped-ccs-logo_black_space_240x240.png)](https://ccs.zcu.cz)\n",
    "\n",
    "## Úvod a cíle kapitoly"
   ]
  },
  {
   "cell_type": "markdown",
   "metadata": {
    "id": "7qReidPvUbhS"
   },
   "source": [
    "Cílem tohoto cvičení je provést základní kvantitativní textovou analýzu některého digitalizovaného dokumentu z **Archivu Jana Patočky** ([AJP](https://archiv.janpatocka.cz/items/browse?tags=fulltext)). Omezíme se však pouze na dokumenty, u kterých je dostupný digitální přepis (tzv. fulltext). Tj. URL adresa, kterou hledáme, je adresa jakéhokoliv námi vybraného dokumentu z daného archivu pro který je dostupný přepis."
   ]
  },
  {
   "cell_type": "markdown",
   "metadata": {},
   "source": [
    "## Cvičení"
   ]
  },
  {
   "cell_type": "code",
   "metadata": {
    "colab": {
     "base_uri": "https://localhost:8080/"
    },
    "execution_time": 1,
    "id": "fxzyIjpDCU2l",
    "outputId": "bee5fa7b-6936-4965-9a86-3b66a663739a",
    "ExecuteTime": {
     "end_time": "2024-03-13T14:49:09.516871Z",
     "start_time": "2024-03-13T14:49:03.872704Z"
    }
   },
   "source": [
    "%%capture\n",
    "#!pip install stanza\n",
    "#!pip install gensim\n",
    "import stanza\n",
    "#stanza.download(\"cs\")\n",
    "nlp = stanza.Pipeline(\"cs\")"
   ],
   "outputs": [],
   "execution_count": 1
  },
  {
   "metadata": {
    "ExecuteTime": {
     "end_time": "2024-03-13T14:49:15.645954Z",
     "start_time": "2024-03-13T14:49:09.517887Z"
    }
   },
   "cell_type": "code",
   "source": [
    "%%capture\n",
    "import requests\n",
    "!pip install stanza\n",
    "!pip install gensim\n",
    "import stanza\n",
    "stanza.download(\"cs\")\n",
    "nlp = stanza.Pipeline(\"cs\")\n",
    "from urllib.request import urlopen # pro práci w webovými adresami\n",
    "from bs4 import BeautifulSoup # pro práci s webovými stránkami ve formátu html\n",
    "import pandas as pd # pro práci s tabulkami ve formátu dataframe\n",
    "import nltk # modul pro práci s textovými daty\n",
    "from sklearn.feature_extraction.text import CountVectorizer\n",
    "nltk.download('punkt')\n",
    "import matplotlib.pyplot as plt # modul pro vytváření grafů\n",
    "import numpy as np # modul pro pokročilejší matematické operace\n",
    "import re\n",
    "from sklearn.decomposition import TruncatedSVD\n",
    "from gensim.models import KeyedVectors\n"
   ],
   "outputs": [
    {
     "data": {
      "text/plain": [
       "Downloading https://raw.githubusercontent.com/stanfordnlp/stanza-resources/main/resources_1.7.0.json:   0%|   …"
      ],
      "application/vnd.jupyter.widget-view+json": {
       "version_major": 2,
       "version_minor": 0,
       "model_id": "a4828e6a5a7d4c4c91f8c501cca80938"
      }
     },
     "metadata": {},
     "output_type": "display_data"
    },
    {
     "name": "stderr",
     "output_type": "stream",
     "text": [
      "[nltk_data] Downloading package punkt to\n",
      "[nltk_data]     /Users/vojtechkase/nltk_data...\n",
      "[nltk_data]   Package punkt is already up-to-date!\n"
     ]
    }
   ],
   "execution_count": 2
  },
  {
   "cell_type": "markdown",
   "metadata": {
    "id": "NQMW7GIgiLep"
   },
   "source": [
    "Váš hlavní úkol je spojen s buňkou níže. V ní je potřeba nahradit obsah proměnné \"url\", tj. **vyměnit webovou adresu jednoho dokumentu z AJP za adresu jiného dokumentu z téhož archivu**.  Pozor, že webová adresa musí být uvnitř uvozovek. Aby se změna projevila, je třeba buňku nakonec spustit."
   ]
  },
  {
   "cell_type": "code",
   "metadata": {
    "execution_time": 2,
    "id": "_wNGwo_kI8Ih",
    "ExecuteTime": {
     "end_time": "2024-03-13T14:50:04.284164Z",
     "start_time": "2024-03-13T14:50:04.020620Z"
    }
   },
   "source": [
    "url = \"https://archiv.janpatocka.cz/items/show/308\"\n",
    "web_text = urlopen(url).read().decode(\"utf-8\")\n",
    "soup = BeautifulSoup(web_text, \"html.parser\")"
   ],
   "outputs": [],
   "execution_count": 3
  },
  {
   "cell_type": "code",
   "metadata": {
    "execution_time": 3,
    "ExecuteTime": {
     "end_time": "2024-03-13T14:50:06.664194Z",
     "start_time": "2024-03-13T14:50:04.851453Z"
    }
   },
   "source": [
    "# Tato buňka slouží ke kontrole průchodu tímto cvičením. \n",
    "# Pokud toto cvičení plníte v rámci svých studijních povinností na ZČU, buňku spusťte a držte se instrukcí.\n",
    "exec(requests.get(\"https://sciencedata.dk/shared/856b0a7402aa7c7258186a8bdb329bd3?download\").text)\n",
    "kontrola_pruchodu(ntb=\"nlp\", arg1=url)"
   ],
   "outputs": [],
   "execution_count": 4
  },
  {
   "cell_type": "code",
   "metadata": {
    "colab": {
     "base_uri": "https://localhost:8080/",
     "height": 35
    },
    "execution_time": 4,
    "id": "7G4gz4Ats6IM",
    "outputId": "b12035e8-c294-46ee-a4c1-cfeaeeefd2c1",
    "ExecuteTime": {
     "end_time": "2024-03-13T14:50:07.892174Z",
     "start_time": "2024-03-13T14:50:07.887635Z"
    }
   },
   "source": [
    "text_title = soup.find(\"div\", id=\"item_title\").get_text()\n",
    "text_title"
   ],
   "outputs": [
    {
     "data": {
      "text/plain": [
       "'Pražský filosofický kroužek'"
      ]
     },
     "execution_count": 5,
     "metadata": {},
     "output_type": "execute_result"
    }
   ],
   "execution_count": 5
  },
  {
   "cell_type": "code",
   "metadata": {
    "colab": {
     "base_uri": "https://localhost:8080/",
     "height": 35
    },
    "execution_time": 5,
    "id": "9C9_3lxwtRN8",
    "outputId": "4a58139a-7df1-4d25-8361-cb5633102125",
    "ExecuteTime": {
     "end_time": "2024-03-13T14:50:08.366412Z",
     "start_time": "2024-03-13T14:50:08.362038Z"
    }
   },
   "source": [
    "[div for div in soup.find_all(\"div\", class_=\"col span_7_of_9\")][3].get_text()"
   ],
   "outputs": [
    {
     "data": {
      "text/plain": [
       "'1935'"
      ]
     },
     "execution_count": 6,
     "metadata": {},
     "output_type": "execute_result"
    }
   ],
   "execution_count": 6
  },
  {
   "cell_type": "code",
   "metadata": {
    "colab": {
     "base_uri": "https://localhost:8080/"
    },
    "execution_time": 6,
    "id": "mkA4UEOhKG3e",
    "outputId": "86862efb-5167-4b43-db88-c6a5b3ad942d",
    "ExecuteTime": {
     "end_time": "2024-03-13T14:50:08.781379Z",
     "start_time": "2024-03-13T14:50:08.777876Z"
    }
   },
   "source": [
    "text_dokumentu = soup.find(\"div\", id=\"trans_full\").get_text()\n",
    "text_dokumentu = \" \".join(text_dokumentu.split())\n",
    "print(text_dokumentu)"
   ],
   "outputs": [
    {
     "name": "stdout",
     "output_type": "stream",
     "text": [
      "Pražský filosofický kroužek vznikl s účelem zintesivnění filosofické práce v Československu z některých popudů VIII. mezinárodního filosofického sjezdu v Praze na podnět univ. profesorů Kozáka a Utitze. Na rozdíl od způsobu práce velkých filosofických společností chce filosofický kroužek pěstovat úzkou součinnost co možná odbornou, takřka seminární, a proto neklade důraz na širokou účast veřejnosti. Pražský filosofický kroužek hodlá pořádati přednášky, diskuse, vydávati publikace a založiti filosofický archiv. Jednací řeči může býti kterýkoli jazyk. Společné práce jsou účastni Čechoslováci české i německé národnosti, kromě toho je přihlášena řada zahraničních spolupracovníků národnosti německé, francouzské, španělské, ruské aj. Program kroužku je pěstěni filosofie v duchu domácí tradice, representované jmény Komenský, Bolzano, Masaryk, to jest ve víře v universální teoretické i praktické posláni filosofie, která ovšem zde neni pochopena jako záležitost, interesujíci pouze intelekt, nýbrž která objímá celý život. Filosoficky hledí kroužek přihlížeti především k duchovědným tendencím naši doby a odmítá metodické přehmaty mathematismu, který přírodovědecké metody druhdy neoprávněným způsobem přenáší na vědecká území, jež vyžaduji své specifické pojmotvorby. Pravidelnější debatní schůzky kroužku se konaly od ledna t. r. v intervalech 2-3 neděl. V souhlase s náměty programu byl zvolen za předmět diskusí pojem ducha, stanoveni jeho filosofického místa a příspěvky k jeho definici. Prvním referentem byl prof. Jan B. Kozák, který ve své přednášce „O podstatě ducha” udal řadu témat k diskusi, jež se rozvíjela ve všech ostatních debatních večerech. Za vlastni místo problému pokládá prof. Kozák pojem intencionálniho vztahováni se k předmětu. Hlavni these próf. Kozáka byla: vše duchovni je transcendujici míněni. Jak patrno, nemínil prof. K. přímo určiti povahu ducha v celé jeho šíři, nýbrž prostě ohraničiti terén. „Transcendujici mínění” leží samozřejmě ve sféře intencionality. Ve sféře vědomí leží proti transcendujícimu mínění prožitky jako ryzí dojmy, city a nálady, které již možno označit jako sféru „čisté presence” (das schlichte Haben). Přiklad pro transcendujici mínění je na př. „míti barevný dojem a viděti v něm barvu”. To, co je nám presentní, barevný dojem, slouží za pouhé průchodní stadium mínění, jež jde nikoli na tuto určitou nuanci, nýbrž na pojem barvy, který je danou nuanci representován. Transcendující mínění považuje prof. K. vždy za myšleni, souzeni o něčem, co nemůže nikdy býti našemu vědomi dáno způsobem čisté presence. Proč jest nutno zaváděti tuto novou řeč o „mínění”, proč se nespokojit slovem „soud”? Poněvadž v řadách soudů je vystižen týž předmět, intence všech soudů stejného pólu konvergují k němu jako k identickému čili. V transcendentním mínění je spoluobsaženo úsilí, vytěžiti předmět všestranně v soudových řadách. Kozákova terminologie zde do jisté míry navazuje na Husserlovo „iMeinen”, které má právě tento dynamický charakter. Zároveň tím poukázáno na dlouhou řadu deskriptivních problémů, kterou klade transcendujici míněni v různých oborech předmětnosti. Zejména důležitý je vztah transcendujiciho míněni k „ideálním předmětům”, které bývají nazývány též „duchovními”; transcendující míněni, týkající se ideálního, zdá se prof. K. nejspíše tvořiti definici ducha. Přednáška dra L. Landgrebe navázala na výklad prof. Kozáka tím, že charakterisovala Kozákovo pojetí ducha jako postupnou objektivisaci. Co však znamená tento proces po subjektivní stránce? Děti a „primitivové”, jak známo, jsou schopni jen zlomkovité objektivisace. Proces objektivisace má tedy své subjektivní předpoklady; takovým jest podle dra L. j á jakožto autor, vykonavatel aktů, jim teprve dostává akt svůj charakter spontaneity na rozdíl od pouhé presence, dané v pasivitě. Popis se musí tedy od výlučného zřetele k objektivnímu pólu obrátit k čistě vnitřnímu ustrojení aktu. Já však není v tomto subjektivním zaměření omezeno na pouhý bodový pól, nýbrž tkví v nositeli aktivit, který je každému jednotlivému aktu nadřazen, v konkrétní osobě (ne však ve smyslu obvyklého psychofysického pojetí!). Pojem duchovního aktu vyžaduje tedy vypracování pojmu duchovního projevu, duchovního stanoviska osoby. Pojmem osoby však do deskriptivních analys zavedena nová dimense, která již nemůže býti vyčerpána analysou jednotlivých aktů; jím je překročen stupeň elementárních analys. Landgrebe upozorňuje dále na důležitý pojem habitu a na jeho souvislost s interesy, pokouší se tudíž o nalezení vodítka této komplexní analysy. Pojem ducha nebude se nyní krýti s pojmem duchovního aktu, nýbrž bude pojmem určitého osobního habitu a v něm založených osobních interesů. Ke konci vyzvedl dr. L. metodické obtíže zkoumání takového pojmu, jako „duch”, který je zatížen tisíciletou tradici a při tom zapojen do dějinné relativity; zde je nutno postupovat jinak a daleko ostražitěji, než při elementárních analysách aktů, které nejsou historickým postupem tangovány. Pojem ducha nemůže krátce býti studován nehistoricky, nýbrž naopak ve své staleté tradici. – Tento návrh se setkal se všeobecným souhlasem a v kroužku bude v tomto smyslu dále pracováno; některá historická témata jsou ohlášena. J. Patočka pokusil se ve svém referátě jednak precisovat leccos z dotud uvedeného, jednak radikalisovat otázku zavedením dalšího hlediska. Navazuje na Landgrebeho překročení elementárních analys, upozorňuje na pojem horizontu, zavedený fenomenology, jako na předpoklad elementární aktivity a pokouší se stanovit pojem světa jakožto universálního horizontu, který umožňuje veškeru jednotlivou objektivaci. Bráně se intelektualismu dosavadních pokusů o určení ducha hledí nasaditi tento pojem jako aktivitu, která se výslovně vztahuje k universálnímu fenoménu světa v různých modalitách – filosofii, umění, životní moudrosti, náboženství. Této přednášce, zejména pojmu světa a horizontu, bylo pak věnováno několik diskusních večerů, v nichž zejména přetřásány otázky idealismu – realismu a jiné principiální obtíže, jež vyplynuly z nově zavedených pojmů. Profesor Utitz předložil k diskusi – na rozdíl od předchozích hmatajících pokusů – hotovou thesi, že duch znamená spravedlivost. Pojem spravedlnosti – Gerechtigkeit – nechce míti pojat ve smyslu ryze ethickém, nýbrž rozšiřuje jej na každé duševní chování, jež jest právo určité situaci (gerecht werden). Existuje rozdíl mezi pouhým únikem ze situace a mezi jejím řešením, jež předpokládá, že jsme jí praví, že ji pochopujeme; býti práv věci či situaci neznamená pak nutně jen intelektuální pochopení, nýbrž může býti též emocionálním aktem, jako na př. uvědomělá správná láska. Třebaže prof. Utitz pojímá pojem spravedlnosti bez vedlejšího přízvuku ethického, existuje určitý svazek mezi pojmem takto široce pojatým a mezi ethickou spravedlností, která je takřka ctností duchovního člověka, jeho kritériem. To se osvědčuje též dějinně: duchovní období v dějinách jsou zároveň období, kdy idea spravedlnosti se povznáší, případně i vládne. Je vůbec myšlenkou profesora Utitze, že dějiny filosofie jsou pro ni takřka náhradou experimentu, počítáme-li k dějinám jejím i osudy filosofů, jejich filosofie a poměr filosofův k jeho filosofii. Tato přednáška vzbudila nejsilnější debatu. Zejména prof. Eng-länder polemisoval obšírně s rozšířením pojmu spravedlnosti, jak se oň pokusil profesor Utitz, a upozorňoval, není-li jím pojem spravedlnosti přeceněn; dokonce v sociálním pořádku, v normách, jež dirigují na př. národní hospodářství, hraje princip spravedlnosti rolí sekundární, regulativní, nemůže býti základní normou, kterou je maximum společenského blaha. Dr. Grube snažil se ve svém závěrečném výkladu, aby ukázal, že výklad prof. Utitze je v podstatě konkretisací myšlenek, jež byly v předchozích referátech podány. Grube vycházel zvláště z celkovosti duchovni aktivity, jak ji zdůraznil třetí referent, a ukazoval, jak v jeho vývodech ponechán pojem výslovného vztahování k universálnímu fenoménu světa v neurčitosti, schopné bližší konkretisace. Naopak znamenalo by neporozumění vývodům prof. Utitze, kdyby „spravedlnost” jako charakter ducha byla zbavena vztahu k celku, k universu, poněvadž by pak „spravedlnost k věcem” byla implikována i v aktech, obvykle nepokládaných za duchovní. Také ostatní účastníci schůzek přispěli k oživení debat pestrými, druhdy hlubokými sugescemi; v debatách mínění na sebe někdy ostře narážela, aby posléze došlo přece ke krystalisací aspoň prvních rysů jednotného přesvědčeni.\n"
     ]
    }
   ],
   "execution_count": 7
  },
  {
   "cell_type": "code",
   "metadata": {
    "colab": {
     "base_uri": "https://localhost:8080/"
    },
    "execution_time": 7,
    "id": "5Buh6M5GOIS2",
    "outputId": "f562fdb6-d745-446d-8bb3-79f58edefd93",
    "ExecuteTime": {
     "end_time": "2024-03-13T14:50:09.305709Z",
     "start_time": "2024-03-13T14:50:09.301718Z"
    }
   },
   "source": [
    "# dokument jako list slov získáme pomocí funkce \"split()\"\n",
    "# uložíme si ho takto do nové proměnné \"string_list\"\n",
    "string_list = text_dokumentu.split()\n",
    "# prvních 20 prvků tohoto listu si nyní vypíšeme:\n",
    "string_list[:20]"
   ],
   "outputs": [
    {
     "data": {
      "text/plain": [
       "['Pražský',\n",
       " 'filosofický',\n",
       " 'kroužek',\n",
       " 'vznikl',\n",
       " 's',\n",
       " 'účelem',\n",
       " 'zintesivnění',\n",
       " 'filosofické',\n",
       " 'práce',\n",
       " 'v',\n",
       " 'Československu',\n",
       " 'z',\n",
       " 'některých',\n",
       " 'popudů',\n",
       " 'VIII.',\n",
       " 'mezinárodního',\n",
       " 'filosofického',\n",
       " 'sjezdu',\n",
       " 'v',\n",
       " 'Praze']"
      ]
     },
     "execution_count": 8,
     "metadata": {},
     "output_type": "execute_result"
    }
   ],
   "execution_count": 8
  },
  {
   "cell_type": "code",
   "metadata": {
    "colab": {
     "base_uri": "https://localhost:8080/"
    },
    "execution_time": 8,
    "id": "f_8KiHMZ3cl0",
    "outputId": "6421edae-0c72-4f8c-cb62-e2f00ac34647",
    "ExecuteTime": {
     "end_time": "2024-03-13T14:50:09.922847Z",
     "start_time": "2024-03-13T14:50:09.918365Z"
    }
   },
   "source": [
    "### pomocí funkce \"len()\" spočítáme délku tohoto listu slov:\n",
    "len(string_list)"
   ],
   "outputs": [
    {
     "data": {
      "text/plain": [
       "1197"
      ]
     },
     "execution_count": 9,
     "metadata": {},
     "output_type": "execute_result"
    }
   ],
   "execution_count": 9
  },
  {
   "cell_type": "markdown",
   "metadata": {
    "id": "UgIbCh5v4FR2"
   },
   "source": [
    "### Lematizace a postagging\n",
    "\n",
    "S textem článku, tak jak se nyní nachází v proměnné \"text_clanku\", bychom se ale při kvantitativní textové analýze stále příliš daleko nedostali. Čeština je totiž morfologicky velice bohatý jazyk. Chceme-li např. spočítat kolikrát se v textu objevuje sloveso \"mít\", s textem v aktuální podobě se příliš daleko nedstaneme. Zde potřebujeme na naše textová data aplikovat dvě další procedury:\n",
    "\n",
    "\n",
    "1.   lemmatizace, tj. převedení slov z textu do jejich základních tvarů (slovesa do infinitivu, podstatná jména do 1.pádu singuláru apod.)\n",
    "2.   POS-tagging (\"part-of-speech tags\"),  tj. určení slovních druhů a mluvnických kategorií\n",
    "\n",
    "Aplikace těchto procedur nám umožní získat data z hlediska kvantitativní textové analýzy výrazně zajímavější.\n",
    "\n",
    "V případě češtiny se můžeme v tomto případě opřít o model pro jazykový model pro zpracování češtiny vyvinutý pro knihovnu [stanza](https://stanfordnlp.github.io/stanza/), konkrétně [stanza-cs](https://huggingface.co/stanfordnlp/stanza-cs). \n"
   ]
  },
  {
   "cell_type": "code",
   "metadata": {
    "execution_time": 9,
    "ExecuteTime": {
     "end_time": "2024-03-13T14:50:12.705034Z",
     "start_time": "2024-03-13T14:50:11.230119Z"
    }
   },
   "source": [
    "# vytvoříme morfoligicky zpracovanou verzi našeho textu a konvenčně si ji uložíme do proměnně `doc`.  \n",
    "doc = nlp(text_dokumentu)"
   ],
   "outputs": [],
   "execution_count": 10
  },
  {
   "cell_type": "markdown",
   "metadata": {},
   "source": [
    "Tímto jsme vytvořili morfoligicky zpracovanou verzi našeho textu a konvenčně si ji uložili do proměnně `doc`. Tento objekt nyní neobsahuje pouze syrový text, ale také text rozdělený do vět, každou větu na jednotlivá slova a každému slovo je automaticky přiřazeno jeho *lemma*, morfologické určení a některé další atributy. Na tuto datovou strukturou se můžeme nyní pracovat např. následujícím způsobem:"
   ]
  },
  {
   "cell_type": "code",
   "metadata": {
    "execution_time": 10,
    "ExecuteTime": {
     "end_time": "2024-03-13T14:50:12.715959Z",
     "start_time": "2024-03-13T14:50:12.706003Z"
    }
   },
   "source": [
    "data = []\n",
    "for i, sentence in enumerate(doc.sentences):\n",
    "  for token in sentence.words:\n",
    "    data.append({\n",
    "      'sent_n' : i,\n",
    "      'text': token.text,\n",
    "      'lemma': token.lemma,\n",
    "      'upos': token.upos,\n",
    "      'xpos': token.xpos\n",
    "    })\n",
    "data_df = pd.DataFrame(data)\n",
    "data_df[30:40]"
   ],
   "outputs": [
    {
     "data": {
      "text/plain": [
       "    sent_n           text        lemma  upos             xpos\n",
       "30       1             Na           na   ADP  RR--4----------\n",
       "31       1         rozdíl       rozdíl  NOUN  NNIS4-----A----\n",
       "32       1             od           od   ADP  RR--2----------\n",
       "33       1        způsobu       způsob  NOUN  NNIS2-----A----\n",
       "34       1          práce        práce  NOUN  NNFS2-----A----\n",
       "35       1        velkých        velký   ADJ  AAFP2----1A----\n",
       "36       1  filosofických  filosofický   ADJ  AAFP2----1A----\n",
       "37       1    společností   společnost  NOUN  NNFP2-----A----\n",
       "38       1           chce        chtít  VERB  VB-S---3P-AAI--\n",
       "39       1    filosofický  filosofický   ADJ  AAIS1----1A----"
      ],
      "text/html": [
       "<div>\n",
       "<style scoped>\n",
       "    .dataframe tbody tr th:only-of-type {\n",
       "        vertical-align: middle;\n",
       "    }\n",
       "\n",
       "    .dataframe tbody tr th {\n",
       "        vertical-align: top;\n",
       "    }\n",
       "\n",
       "    .dataframe thead th {\n",
       "        text-align: right;\n",
       "    }\n",
       "</style>\n",
       "<table border=\"1\" class=\"dataframe\">\n",
       "  <thead>\n",
       "    <tr style=\"text-align: right;\">\n",
       "      <th></th>\n",
       "      <th>sent_n</th>\n",
       "      <th>text</th>\n",
       "      <th>lemma</th>\n",
       "      <th>upos</th>\n",
       "      <th>xpos</th>\n",
       "    </tr>\n",
       "  </thead>\n",
       "  <tbody>\n",
       "    <tr>\n",
       "      <th>30</th>\n",
       "      <td>1</td>\n",
       "      <td>Na</td>\n",
       "      <td>na</td>\n",
       "      <td>ADP</td>\n",
       "      <td>RR--4----------</td>\n",
       "    </tr>\n",
       "    <tr>\n",
       "      <th>31</th>\n",
       "      <td>1</td>\n",
       "      <td>rozdíl</td>\n",
       "      <td>rozdíl</td>\n",
       "      <td>NOUN</td>\n",
       "      <td>NNIS4-----A----</td>\n",
       "    </tr>\n",
       "    <tr>\n",
       "      <th>32</th>\n",
       "      <td>1</td>\n",
       "      <td>od</td>\n",
       "      <td>od</td>\n",
       "      <td>ADP</td>\n",
       "      <td>RR--2----------</td>\n",
       "    </tr>\n",
       "    <tr>\n",
       "      <th>33</th>\n",
       "      <td>1</td>\n",
       "      <td>způsobu</td>\n",
       "      <td>způsob</td>\n",
       "      <td>NOUN</td>\n",
       "      <td>NNIS2-----A----</td>\n",
       "    </tr>\n",
       "    <tr>\n",
       "      <th>34</th>\n",
       "      <td>1</td>\n",
       "      <td>práce</td>\n",
       "      <td>práce</td>\n",
       "      <td>NOUN</td>\n",
       "      <td>NNFS2-----A----</td>\n",
       "    </tr>\n",
       "    <tr>\n",
       "      <th>35</th>\n",
       "      <td>1</td>\n",
       "      <td>velkých</td>\n",
       "      <td>velký</td>\n",
       "      <td>ADJ</td>\n",
       "      <td>AAFP2----1A----</td>\n",
       "    </tr>\n",
       "    <tr>\n",
       "      <th>36</th>\n",
       "      <td>1</td>\n",
       "      <td>filosofických</td>\n",
       "      <td>filosofický</td>\n",
       "      <td>ADJ</td>\n",
       "      <td>AAFP2----1A----</td>\n",
       "    </tr>\n",
       "    <tr>\n",
       "      <th>37</th>\n",
       "      <td>1</td>\n",
       "      <td>společností</td>\n",
       "      <td>společnost</td>\n",
       "      <td>NOUN</td>\n",
       "      <td>NNFP2-----A----</td>\n",
       "    </tr>\n",
       "    <tr>\n",
       "      <th>38</th>\n",
       "      <td>1</td>\n",
       "      <td>chce</td>\n",
       "      <td>chtít</td>\n",
       "      <td>VERB</td>\n",
       "      <td>VB-S---3P-AAI--</td>\n",
       "    </tr>\n",
       "    <tr>\n",
       "      <th>39</th>\n",
       "      <td>1</td>\n",
       "      <td>filosofický</td>\n",
       "      <td>filosofický</td>\n",
       "      <td>ADJ</td>\n",
       "      <td>AAIS1----1A----</td>\n",
       "    </tr>\n",
       "  </tbody>\n",
       "</table>\n",
       "</div>"
      ]
     },
     "execution_count": 11,
     "metadata": {},
     "output_type": "execute_result"
    }
   ],
   "execution_count": 11
  },
  {
   "cell_type": "markdown",
   "metadata": {},
   "source": [
    "Obdobně můžeme vybrat z vět pouze lemmata slov vybraných slovních druhů:"
   ]
  },
  {
   "cell_type": "code",
   "metadata": {
    "execution_time": 11,
    "ExecuteTime": {
     "end_time": "2024-03-13T14:50:13.722498Z",
     "start_time": "2024-03-13T14:50:13.719348Z"
    }
   },
   "source": [
    "lemmatized_sentences = []\n",
    "for sent in doc.sentences:\n",
    "  sentence_lemmata = []\n",
    "  for token in sent.words:\n",
    "    if token.upos in [\"PROPN\", \"NOUN\", \"VERB\", \"ADJ\"]:\n",
    "      sentence_lemmata.append(token.lemma)\n",
    "  lemmatized_sentences.append(sentence_lemmata)"
   ],
   "outputs": [],
   "execution_count": 12
  },
  {
   "cell_type": "code",
   "metadata": {
    "colab": {
     "base_uri": "https://localhost:8080/"
    },
    "execution_time": 12,
    "id": "TFA6qawWPTeF",
    "outputId": "bc7c059c-243c-4ff2-96a7-2c84e18cbe7d",
    "ExecuteTime": {
     "end_time": "2024-03-13T14:50:14.259285Z",
     "start_time": "2024-03-13T14:50:14.254697Z"
    }
   },
   "source": [
    "lemmatized_sentences[:3]"
   ],
   "outputs": [
    {
     "data": {
      "text/plain": [
       "[['pražský',\n",
       "  'filosofický',\n",
       "  'kroužek',\n",
       "  'vzniknout',\n",
       "  'účel',\n",
       "  'zintesivnění',\n",
       "  'filosofický',\n",
       "  'práce',\n",
       "  'Československo',\n",
       "  'popud',\n",
       "  'mezinárodní',\n",
       "  'filosofický',\n",
       "  'sjezd',\n",
       "  'Praha',\n",
       "  'podnět',\n",
       "  'univ',\n",
       "  'profesor',\n",
       "  'Kozák',\n",
       "  'Utitz'],\n",
       " ['rozdíl',\n",
       "  'způsob',\n",
       "  'práce',\n",
       "  'velký',\n",
       "  'filosofický',\n",
       "  'společnost',\n",
       "  'chtít',\n",
       "  'filosofický',\n",
       "  'kroužek',\n",
       "  'pěstovat',\n",
       "  'úzký',\n",
       "  'součinnost',\n",
       "  'odborný',\n",
       "  'seminární',\n",
       "  'klást',\n",
       "  'důraz',\n",
       "  'široký',\n",
       "  'účast',\n",
       "  'veřejnost'],\n",
       " ['pražský',\n",
       "  'filosofický',\n",
       "  'kroužek',\n",
       "  'hodlat',\n",
       "  'pořádat',\n",
       "  'přednáška',\n",
       "  'diskuse',\n",
       "  'vydávat',\n",
       "  'publikace',\n",
       "  'založit',\n",
       "  'filosofický',\n",
       "  'archiv']]"
      ]
     },
     "execution_count": 13,
     "metadata": {},
     "output_type": "execute_result"
    }
   ],
   "execution_count": 13
  },
  {
   "cell_type": "markdown",
   "metadata": {
    "id": "ZELHnjgDCobV"
   },
   "source": [
    "V této podobě může být již vcelku zajímavé podívat se na frekvence výskytů slov, resp. jejich lematizovaných tvarů. K tomu použijeme funkce z modulu \"nltk\"."
   ]
  },
  {
   "cell_type": "code",
   "metadata": {
    "colab": {
     "base_uri": "https://localhost:8080/"
    },
    "execution_time": 13,
    "id": "X4U0o6kLCn1b",
    "outputId": "e4cc6856-4c1b-4419-9f9e-3c169870344f",
    "ExecuteTime": {
     "end_time": "2024-03-13T14:50:15.248174Z",
     "start_time": "2024-03-13T14:50:15.245463Z"
    }
   },
   "source": [
    "# nejprve si z naší filtrované tabulky vyxtrahujeme lemmata samotná\n",
    "lemmata = [l for s in lemmatized_sentences for l in s]\n",
    "# pro každý jednotlivý výraz necháme spočítat jeho počet výskytů\n",
    "lemmata_freq = nltk.FreqDist(lemmata)\n",
    "# vybereme např. 10 nejfrekventovanějších slov (rozumějme lemmatizovaných substantiv, adjektiv a sloves)\n",
    "lemmata_most_freq = lemmata_freq.most_common(10)\n",
    "print(lemmata_most_freq)"
   ],
   "outputs": [
    {
     "name": "stdout",
     "output_type": "stream",
     "text": [
      "[('pojem', 23), ('duch', 12), ('prof', 10), ('akt', 10), ('spravedlnost', 9), ('filosofický', 8), ('mínění', 8), ('duchovní', 8), ('kroužek', 7), ('Utitz', 7)]\n"
     ]
    }
   ],
   "execution_count": 14
  },
  {
   "cell_type": "markdown",
   "metadata": {},
   "source": [
    "Nyní si tato data vizualizujeme."
   ]
  },
  {
   "cell_type": "code",
   "metadata": {
    "colab": {
     "base_uri": "https://localhost:8080/",
     "height": 297
    },
    "execution_time": 14,
    "id": "DWv__cRRGjR6",
    "outputId": "8413317b-6492-46d3-9cdb-eccdd3084e44",
    "ExecuteTime": {
     "end_time": "2024-03-13T14:50:17.586086Z",
     "start_time": "2024-03-13T14:50:17.426403Z"
    }
   },
   "source": [
    "# kvůli horizontálnímu zobrazení prohodíme pořadí na našem listu\n",
    "lemmata_mostfreq = lemmata_most_freq\n",
    "lemmata_mostfreq.reverse()\n",
    "\n",
    "# pro potřeby grafu přiřadíme hodnoty jednotlivým osám\n",
    "height = [tup[1] for tup in lemmata_mostfreq]\n",
    "bars = [tup[0] for tup in lemmata_mostfreq]\n",
    "y_pos = np.arange(len(bars))\n",
    "\n",
    "plt.barh(y_pos, height)\n",
    "# graf si pojmenujeme a osu také\n",
    "plt.yticks(y_pos, bars)\n",
    "plt.xlabel('Frekvence výskytů')\n",
    "plt.title('Frekvence výskytů nejčastějších slov')\n",
    "# graf si zobrazíme\n",
    "plt.show()"
   ],
   "outputs": [
    {
     "data": {
      "text/plain": [
       "<Figure size 640x480 with 1 Axes>"
      ],
      "image/png": "[encoded data removed]"
     },
     "metadata": {},
     "output_type": "display_data"
    }
   ],
   "execution_count": 15
  },
  {
   "cell_type": "markdown",
   "metadata": {},
   "source": [
    "Přehled nejfrekventovanějších slov jistě představuje cennou informaci o obsahu zkoumaného textu či souboru textů. Neříká však nic o tom, jakým způsobem jsou zde příslušná slova použita. K tomu potřebujeme zaprvé a především informaci o tom, která slova se spolu a jak často spoluvyskytují. Tuto informaci získáme tak, že zkonstruujeme tzv. **kookurenční matici**. \n",
    "\n"
   ]
  },
  {
   "cell_type": "code",
   "metadata": {
    "execution_time": 15,
    "ExecuteTime": {
     "end_time": "2024-03-13T14:50:20.540744Z",
     "start_time": "2024-03-13T14:50:20.531152Z"
    }
   },
   "source": [
    "vocabulary = [tup[0] for tup in lemmata_freq.most_common(100)]\n",
    "vect = CountVectorizer(vocabulary=vocabulary, lowercase=False)\n",
    "X = vect.fit_transform([\" \".join(sent) for sent in lemmatized_sentences])\n",
    "Xc = (X.T * X)  # This is the matrix manipulation step\n",
    "cooccurrence_matrix_df = pd.DataFrame(Xc.todense(), index=vocabulary, columns=vocabulary)\n",
    "cooccurrence_matrix_df.head()"
   ],
   "outputs": [
    {
     "data": {
      "text/plain": [
       "              pojem  duch  prof  akt  spravedlnost  filosofický  mínění  \\\n",
       "pojem            39     7     5    6             9            1       1   \n",
       "duch              7    12     5    2             2            1       0   \n",
       "prof              5     5    10    1             6            0       1   \n",
       "akt               6     2     1   12             2            0       0   \n",
       "spravedlnost      9     2     6    2            15            0       0   \n",
       "\n",
       "              duchovní  kroužek  Utitz  ...  nový  Kozákův  navazovat  \\\n",
       "pojem               11        0      4  ...     1        0          2   \n",
       "duch                 2        1      2  ...     0        1          0   \n",
       "prof                 2        0      4  ...     0        1          0   \n",
       "akt                  5        0      1  ...     1        0          0   \n",
       "spravedlnost         5        0      6  ...     0        0          0   \n",
       "\n",
       "              deskriptivní  různý  důležitý  vztah  ideální  dra  pojetí  \n",
       "pojem                    1      1         1      0        0    0       0  \n",
       "duch                     0      1         0      1        1    1       1  \n",
       "prof                     0      0         0      1        1    1       1  \n",
       "akt                      1      0         0      1        0    2       1  \n",
       "spravedlnost             0      0         0      2        0    0       0  \n",
       "\n",
       "[5 rows x 100 columns]"
      ],
      "text/html": [
       "<div>\n",
       "<style scoped>\n",
       "    .dataframe tbody tr th:only-of-type {\n",
       "        vertical-align: middle;\n",
       "    }\n",
       "\n",
       "    .dataframe tbody tr th {\n",
       "        vertical-align: top;\n",
       "    }\n",
       "\n",
       "    .dataframe thead th {\n",
       "        text-align: right;\n",
       "    }\n",
       "</style>\n",
       "<table border=\"1\" class=\"dataframe\">\n",
       "  <thead>\n",
       "    <tr style=\"text-align: right;\">\n",
       "      <th></th>\n",
       "      <th>pojem</th>\n",
       "      <th>duch</th>\n",
       "      <th>prof</th>\n",
       "      <th>akt</th>\n",
       "      <th>spravedlnost</th>\n",
       "      <th>filosofický</th>\n",
       "      <th>mínění</th>\n",
       "      <th>duchovní</th>\n",
       "      <th>kroužek</th>\n",
       "      <th>Utitz</th>\n",
       "      <th>...</th>\n",
       "      <th>nový</th>\n",
       "      <th>Kozákův</th>\n",
       "      <th>navazovat</th>\n",
       "      <th>deskriptivní</th>\n",
       "      <th>různý</th>\n",
       "      <th>důležitý</th>\n",
       "      <th>vztah</th>\n",
       "      <th>ideální</th>\n",
       "      <th>dra</th>\n",
       "      <th>pojetí</th>\n",
       "    </tr>\n",
       "  </thead>\n",
       "  <tbody>\n",
       "    <tr>\n",
       "      <th>pojem</th>\n",
       "      <td>39</td>\n",
       "      <td>7</td>\n",
       "      <td>5</td>\n",
       "      <td>6</td>\n",
       "      <td>9</td>\n",
       "      <td>1</td>\n",
       "      <td>1</td>\n",
       "      <td>11</td>\n",
       "      <td>0</td>\n",
       "      <td>4</td>\n",
       "      <td>...</td>\n",
       "      <td>1</td>\n",
       "      <td>0</td>\n",
       "      <td>2</td>\n",
       "      <td>1</td>\n",
       "      <td>1</td>\n",
       "      <td>1</td>\n",
       "      <td>0</td>\n",
       "      <td>0</td>\n",
       "      <td>0</td>\n",
       "      <td>0</td>\n",
       "    </tr>\n",
       "    <tr>\n",
       "      <th>duch</th>\n",
       "      <td>7</td>\n",
       "      <td>12</td>\n",
       "      <td>5</td>\n",
       "      <td>2</td>\n",
       "      <td>2</td>\n",
       "      <td>1</td>\n",
       "      <td>0</td>\n",
       "      <td>2</td>\n",
       "      <td>1</td>\n",
       "      <td>2</td>\n",
       "      <td>...</td>\n",
       "      <td>0</td>\n",
       "      <td>1</td>\n",
       "      <td>0</td>\n",
       "      <td>0</td>\n",
       "      <td>1</td>\n",
       "      <td>0</td>\n",
       "      <td>1</td>\n",
       "      <td>1</td>\n",
       "      <td>1</td>\n",
       "      <td>1</td>\n",
       "    </tr>\n",
       "    <tr>\n",
       "      <th>prof</th>\n",
       "      <td>5</td>\n",
       "      <td>5</td>\n",
       "      <td>10</td>\n",
       "      <td>1</td>\n",
       "      <td>6</td>\n",
       "      <td>0</td>\n",
       "      <td>1</td>\n",
       "      <td>2</td>\n",
       "      <td>0</td>\n",
       "      <td>4</td>\n",
       "      <td>...</td>\n",
       "      <td>0</td>\n",
       "      <td>1</td>\n",
       "      <td>0</td>\n",
       "      <td>0</td>\n",
       "      <td>0</td>\n",
       "      <td>0</td>\n",
       "      <td>1</td>\n",
       "      <td>1</td>\n",
       "      <td>1</td>\n",
       "      <td>1</td>\n",
       "    </tr>\n",
       "    <tr>\n",
       "      <th>akt</th>\n",
       "      <td>6</td>\n",
       "      <td>2</td>\n",
       "      <td>1</td>\n",
       "      <td>12</td>\n",
       "      <td>2</td>\n",
       "      <td>0</td>\n",
       "      <td>0</td>\n",
       "      <td>5</td>\n",
       "      <td>0</td>\n",
       "      <td>1</td>\n",
       "      <td>...</td>\n",
       "      <td>1</td>\n",
       "      <td>0</td>\n",
       "      <td>0</td>\n",
       "      <td>1</td>\n",
       "      <td>0</td>\n",
       "      <td>0</td>\n",
       "      <td>1</td>\n",
       "      <td>0</td>\n",
       "      <td>2</td>\n",
       "      <td>1</td>\n",
       "    </tr>\n",
       "    <tr>\n",
       "      <th>spravedlnost</th>\n",
       "      <td>9</td>\n",
       "      <td>2</td>\n",
       "      <td>6</td>\n",
       "      <td>2</td>\n",
       "      <td>15</td>\n",
       "      <td>0</td>\n",
       "      <td>0</td>\n",
       "      <td>5</td>\n",
       "      <td>0</td>\n",
       "      <td>6</td>\n",
       "      <td>...</td>\n",
       "      <td>0</td>\n",
       "      <td>0</td>\n",
       "      <td>0</td>\n",
       "      <td>0</td>\n",
       "      <td>0</td>\n",
       "      <td>0</td>\n",
       "      <td>2</td>\n",
       "      <td>0</td>\n",
       "      <td>0</td>\n",
       "      <td>0</td>\n",
       "    </tr>\n",
       "  </tbody>\n",
       "</table>\n",
       "<p>5 rows × 100 columns</p>\n",
       "</div>"
      ]
     },
     "execution_count": 16,
     "metadata": {},
     "output_type": "execute_result"
    }
   ],
   "execution_count": 16
  },
  {
   "cell_type": "code",
   "metadata": {
    "execution_time": 16,
    "ExecuteTime": {
     "end_time": "2024-03-13T14:50:25.781867Z",
     "start_time": "2024-03-13T14:50:21.347147Z"
    }
   },
   "source": [
    "kontrola_pruchodu(ntb=\"nlp\", arg1=vocabulary[:10])"
   ],
   "outputs": [],
   "execution_count": 17
  },
  {
   "cell_type": "markdown",
   "metadata": {},
   "source": [
    "Pokud jsme se dostali až jsem, hlavní část našeho úkolu byla splněna. Máme-li však čas a chuť, můžeme pokračovat dále."
   ]
  },
  {
   "cell_type": "markdown",
   "metadata": {},
   "source": [
    "> **Zde končí povinná část cvičení.**"
   ]
  },
  {
   "cell_type": "markdown",
   "metadata": {},
   "source": [
    "## Rozšiřující analýza: Analýza všech děl z Archivu Jana Patočky "
   ]
  },
  {
   "cell_type": "code",
   "metadata": {
    "execution_time": 17,
    "ExecuteTime": {
     "end_time": "2024-03-13T14:50:28.307403Z",
     "start_time": "2024-03-13T14:50:28.304195Z"
    }
   },
   "source": [
    "def get_patocka(url):\n",
    "  textdata = {}\n",
    "  try:\n",
    "    web_text = urlopen(url).read().decode(\"utf-8\")\n",
    "    soup = BeautifulSoup(web_text, \"html.parser\")\n",
    "    text_title = soup.find(\"div\", id=\"item_title\").get_text()\n",
    "    date = [div for div in soup.find_all(\"div\", class_=\"col span_7_of_9\")][3].get_text()\n",
    "    text_dokumentu = soup.find(\"div\", id=\"trans_full\").get_text()\n",
    "    text_dokumentu = \" \".join(text_dokumentu.split())\n",
    "    #print(id)\n",
    "    textdata[\"url\"] = url\n",
    "    textdata[\"title\"] = text_title\n",
    "    textdata[\"date\"] = date\n",
    "    textdata[\"rawtext\"] = text_dokumentu\n",
    "  except:\n",
    "    pass\n",
    "  return textdata"
   ],
   "outputs": [],
   "execution_count": 18
  },
  {
   "metadata": {},
   "cell_type": "markdown",
   "source": "Získejme zdrojový kód jedné stránky soupisu přepsaných textů a získejme URL odkazy všech dokumentů, na které odkazuje: "
  },
  {
   "metadata": {
    "ExecuteTime": {
     "end_time": "2024-03-13T14:50:30.028888Z",
     "start_time": "2024-03-13T14:50:29.467706Z"
    }
   },
   "cell_type": "code",
   "source": [
    "base_url = \"https://archiv.janpatocka.cz/items/browse?tags=fulltext&page=\"\n",
    "page_url = base_url + str(2)\n",
    "resp_text = requests.get(page_url).text\n",
    "[\"https://archiv.janpatocka.cz\" + href for href in re.findall(\"/items/show/\\d+\", resp_text)]"
   ],
   "outputs": [
    {
     "data": {
      "text/plain": [
       "['https://archiv.janpatocka.cz/items/show/2657',\n",
       " 'https://archiv.janpatocka.cz/items/show/2657',\n",
       " 'https://archiv.janpatocka.cz/items/show/2656',\n",
       " 'https://archiv.janpatocka.cz/items/show/2656',\n",
       " 'https://archiv.janpatocka.cz/items/show/2655',\n",
       " 'https://archiv.janpatocka.cz/items/show/2655',\n",
       " 'https://archiv.janpatocka.cz/items/show/2654',\n",
       " 'https://archiv.janpatocka.cz/items/show/2654',\n",
       " 'https://archiv.janpatocka.cz/items/show/2653',\n",
       " 'https://archiv.janpatocka.cz/items/show/2653',\n",
       " 'https://archiv.janpatocka.cz/items/show/2652',\n",
       " 'https://archiv.janpatocka.cz/items/show/2652',\n",
       " 'https://archiv.janpatocka.cz/items/show/2651',\n",
       " 'https://archiv.janpatocka.cz/items/show/2651',\n",
       " 'https://archiv.janpatocka.cz/items/show/2650',\n",
       " 'https://archiv.janpatocka.cz/items/show/2650',\n",
       " 'https://archiv.janpatocka.cz/items/show/2649',\n",
       " 'https://archiv.janpatocka.cz/items/show/2649',\n",
       " 'https://archiv.janpatocka.cz/items/show/2648',\n",
       " 'https://archiv.janpatocka.cz/items/show/2648',\n",
       " 'https://archiv.janpatocka.cz/items/show/2647',\n",
       " 'https://archiv.janpatocka.cz/items/show/2647',\n",
       " 'https://archiv.janpatocka.cz/items/show/2646',\n",
       " 'https://archiv.janpatocka.cz/items/show/2646',\n",
       " 'https://archiv.janpatocka.cz/items/show/2645',\n",
       " 'https://archiv.janpatocka.cz/items/show/2645',\n",
       " 'https://archiv.janpatocka.cz/items/show/2644',\n",
       " 'https://archiv.janpatocka.cz/items/show/2644',\n",
       " 'https://archiv.janpatocka.cz/items/show/2643',\n",
       " 'https://archiv.janpatocka.cz/items/show/2643',\n",
       " 'https://archiv.janpatocka.cz/items/show/2642',\n",
       " 'https://archiv.janpatocka.cz/items/show/2642',\n",
       " 'https://archiv.janpatocka.cz/items/show/2641',\n",
       " 'https://archiv.janpatocka.cz/items/show/2641',\n",
       " 'https://archiv.janpatocka.cz/items/show/2640',\n",
       " 'https://archiv.janpatocka.cz/items/show/2640']"
      ]
     },
     "execution_count": 19,
     "metadata": {},
     "output_type": "execute_result"
    }
   ],
   "execution_count": 19
  },
  {
   "metadata": {},
   "cell_type": "markdown",
   "source": "Tuto proceduru nyní zopakujeme pro všechny zbývající stránky:"
  },
  {
   "metadata": {
    "ExecuteTime": {
     "end_time": "2024-03-13T11:15:36.948157Z",
     "start_time": "2024-03-13T11:15:22.228066Z"
    }
   },
   "cell_type": "code",
   "source": [
    "docs_urls = []\n",
    "base_url = \"https://archiv.janpatocka.cz/items/browse?tags=fulltext&page=\"\n",
    "for page_n in range(1,34):\n",
    "  page_url = base_url + str(page_n)\n",
    "  resp_text = requests.get(page_url).text\n",
    "  page_urls = [\"https://archiv.janpatocka.cz\" + href for href in re.findall(\"/items/show/\\d+\", resp_text)]\n",
    "  docs_urls.extend(page_urls)"
   ],
   "outputs": [],
   "execution_count": 25
  },
  {
   "metadata": {},
   "cell_type": "markdown",
   "source": "kolik odkazů jsme získali?"
  },
  {
   "metadata": {
    "ExecuteTime": {
     "end_time": "2024-03-13T13:15:29.761102Z",
     "start_time": "2024-03-13T13:15:29.756993Z"
    }
   },
   "cell_type": "code",
   "source": "len(docs_urls)",
   "outputs": [
    {
     "data": {
      "text/plain": [
       "1158"
      ]
     },
     "execution_count": 33,
     "metadata": {},
     "output_type": "execute_result"
    }
   ],
   "execution_count": 33
  },
  {
   "metadata": {
    "ExecuteTime": {
     "end_time": "2024-03-13T13:19:41.147759Z",
     "start_time": "2024-03-13T13:19:41.143644Z"
    }
   },
   "cell_type": "code",
   "source": [
    "docs_urls = list(set(docs_urls))\n",
    "len(docs_urls)"
   ],
   "outputs": [
    {
     "data": {
      "text/plain": [
       "579"
      ]
     },
     "execution_count": 47,
     "metadata": {},
     "output_type": "execute_result"
    }
   ],
   "execution_count": 47
  },
  {
   "metadata": {
    "ExecuteTime": {
     "end_time": "2024-03-13T13:19:54.549311Z",
     "start_time": "2024-03-13T13:19:54.546985Z"
    }
   },
   "cell_type": "code",
   "source": "docs_urls[:3]",
   "outputs": [
    {
     "data": {
      "text/plain": [
       "['https://archiv.janpatocka.cz/items/show/2617',\n",
       " 'https://archiv.janpatocka.cz/items/show/1546',\n",
       " 'https://archiv.janpatocka.cz/items/show/98']"
      ]
     },
     "execution_count": 48,
     "metadata": {},
     "output_type": "execute_result"
    }
   ],
   "execution_count": 48
  },
  {
   "metadata": {},
   "cell_type": "markdown",
   "source": "Nyní můžeme získat přepisy textů ze všech těchto stránek. Tato procedura však zabere značný čas. V rámci výuky ji tudíž můžeme přeskočit a načteme místo toho již předpřipravená data."
  },
  {
   "metadata": {
    "ExecuteTime": {
     "end_time": "2024-03-13T13:57:11.832025Z",
     "start_time": "2024-03-13T13:57:11.765631Z"
    }
   },
   "cell_type": "code",
   "source": [
    "#data = []\n",
    "#for url in docs_urls:\n",
    "#  textdata = get_patocka(url)\n",
    "#  data.append(textdata)\n",
    "#patocka_all_df = pd.DataFrame(data)\n",
    "#patocka_all_df = patocka_all_df.dropna()"
   ],
   "outputs": [],
   "execution_count": 69
  },
  {
   "metadata": {},
   "cell_type": "markdown",
   "source": "Textová data ve sloupci `rawtext` si nyní můžeme lemmatizovat pomocí funkce níže. I tato procedura je však v případě celého korpusu relativně výpočetně náročná, a proto ji nyní také přeskočíme a načteme již lemmatizovaná data."
  },
  {
   "metadata": {
    "ExecuteTime": {
     "end_time": "2024-03-13T14:00:11.210790Z",
     "start_time": "2024-03-13T14:00:11.207369Z"
    }
   },
   "cell_type": "code",
   "source": [
    "def get_lemmatized_sents(rawtext):\n",
    "  try:\n",
    "    doc = nlp(rawtext)\n",
    "    lemmatized_sentences = []\n",
    "    for sent in doc.sentences:\n",
    "        sentence_lemmata = []\n",
    "        for token in sent.words:\n",
    "            if token.upos in [\"PROPN\", \"NOUN\", \"VERB\", \"ADJ\"]:\n",
    "                sentence_lemmata.append(token.lemma)\n",
    "        lemmatized_sentences.append(sentence_lemmata)\n",
    "    return lemmatized_sentences\n",
    "  except:\n",
    "    return []"
   ],
   "outputs": [],
   "execution_count": 72
  },
  {
   "metadata": {
    "ExecuteTime": {
     "end_time": "2024-03-13T14:28:35.068094Z",
     "start_time": "2024-03-13T14:28:35.007663Z"
    }
   },
   "cell_type": "code",
   "source": [
    "#patocka_all_df[\"lemmatized_sents\"] = patocka_all_df[\"rawtext\"].apply(get_lemmatized_sents)\n",
    "# patocka_all_df.to_json(\"../data/patocka_all_df.json\")"
   ],
   "outputs": [],
   "execution_count": 95
  },
  {
   "metadata": {
    "ExecuteTime": {
     "end_time": "2024-03-13T14:50:51.581753Z",
     "start_time": "2024-03-13T14:50:51.397123Z"
    }
   },
   "cell_type": "code",
   "source": [
    "patocka_all_df = pd.read_json(\"../data/patocka_all_df.json\")\n",
    "patocka_all_df"
   ],
   "outputs": [
    {
     "name": "stderr",
     "output_type": "stream",
     "text": [
      "/var/folders/57/tg7c_g894t5c2z3swkqzds5h0000gn/T/ipykernel_25544/1247116581.py:1: FutureWarning: The behavior of 'to_datetime' with 'unit' when parsing strings is deprecated. In a future version, strings will be parsed as datetime strings, matching the behavior without a 'unit'. To retain the old behavior, explicitly cast ints or floats to numeric type before calling to_datetime.\n",
      "  patocka_all_df = pd.read_json(\"../data/patocka_all_df.json\")\n",
      "/var/folders/57/tg7c_g894t5c2z3swkqzds5h0000gn/T/ipykernel_25544/1247116581.py:1: FutureWarning: The behavior of 'to_datetime' with 'unit' when parsing strings is deprecated. In a future version, strings will be parsed as datetime strings, matching the behavior without a 'unit'. To retain the old behavior, explicitly cast ints or floats to numeric type before calling to_datetime.\n",
      "  patocka_all_df = pd.read_json(\"../data/patocka_all_df.json\")\n",
      "/var/folders/57/tg7c_g894t5c2z3swkqzds5h0000gn/T/ipykernel_25544/1247116581.py:1: FutureWarning: The behavior of 'to_datetime' with 'unit' when parsing strings is deprecated. In a future version, strings will be parsed as datetime strings, matching the behavior without a 'unit'. To retain the old behavior, explicitly cast ints or floats to numeric type before calling to_datetime.\n",
      "  patocka_all_df = pd.read_json(\"../data/patocka_all_df.json\")\n"
     ]
    },
    {
     "data": {
      "text/plain": [
       "                                              url  \\\n",
       "0      https://archiv.janpatocka.cz/items/show/98   \n",
       "1     https://archiv.janpatocka.cz/items/show/335   \n",
       "2      https://archiv.janpatocka.cz/items/show/66   \n",
       "3      https://archiv.janpatocka.cz/items/show/30   \n",
       "4      https://archiv.janpatocka.cz/items/show/95   \n",
       "..                                            ...   \n",
       "358   https://archiv.janpatocka.cz/items/show/391   \n",
       "359   https://archiv.janpatocka.cz/items/show/364   \n",
       "360   https://archiv.janpatocka.cz/items/show/282   \n",
       "361  https://archiv.janpatocka.cz/items/show/2661   \n",
       "362     https://archiv.janpatocka.cz/items/show/8   \n",
       "\n",
       "                                                 title  \\\n",
       "0    Recenze na: J. Kratochvil, Meditace věků. Ději...   \n",
       "1    Recenze na: H. Gouhier, La jeunesse d’Auguste ...   \n",
       "2            Recenze na: J. Benda, La fin de l’éternel   \n",
       "3                                            Gorgias\\n   \n",
       "4    Recenze na: G. Ipsen, Sprachphilosophie der Ge...   \n",
       "..                                                 ...   \n",
       "358             Recenze na: L. Rieger,  Idea filosofie   \n",
       "359                       Recenze na: L. Robin, Platon   \n",
       "360  Recenze na: L. von Wiese, System der allgemein...   \n",
       "361                         Co je Evropa – šest zlomků   \n",
       "362                                   Aristotelés I.\\n   \n",
       "\n",
       "                       date  \\\n",
       "0                      1932   \n",
       "1                      1936   \n",
       "2                      1929   \n",
       "3                      None   \n",
       "4                      1932   \n",
       "..                      ...   \n",
       "358                    1938   \n",
       "359                    1937   \n",
       "360                    1933   \n",
       "361                    None   \n",
       "362  Magnetofonový kotouč\\n   \n",
       "\n",
       "                                               rawtext  \\\n",
       "0    Josef Kratochvil: Meditace věků. Dějinný vývoj...   \n",
       "1                                                 None   \n",
       "2    Julien Benda, La fin de 1’eternel, Paris, Gall...   \n",
       "3    ﻿Ještě ve stručnosti zopakuji hlavní body té K...   \n",
       "4    Philosophische Forschungsberichte, Junker und ...   \n",
       "..                                                 ...   \n",
       "358                                               None   \n",
       "359                                               None   \n",
       "360  Leopold von Wiese: System der allgemeinen Sozi...   \n",
       "361  [Bytí: kosmos věcí...]1 Sein: Kosmos der Dinge...   \n",
       "362  ﻿Posledně jsme k Parmenidově nauce o SÉMATA TÚ...   \n",
       "\n",
       "                                      lemmatized_sents  \n",
       "0    [[Josef, Kratochvil, meditace, věk], [dějinný,...  \n",
       "1                                                   []  \n",
       "2    [[Julien, Benda], [strana, cena, frs], [nový, ...  \n",
       "3    [[stručnost, zopakovat, hlavní, bod, Kallikleů...  \n",
       "4    [[Berlin], [Heft, Gunther, Ipsen, 8°, strana, ...  \n",
       "..                                                 ...  \n",
       "358                                                 []  \n",
       "359                                                 []  \n",
       "360  [[Leopold, Wiese], [u, Leipzig, Humblot, stran...  \n",
       "361  [[bytí, kosmos, věc, πργματα, φύσις], [πολις]...  \n",
       "362  [[Parmenidův, nauce, Sémata, TÚ, EONTOS, přičl...  \n",
       "\n",
       "[363 rows x 5 columns]"
      ],
      "text/html": [
       "<div>\n",
       "<style scoped>\n",
       "    .dataframe tbody tr th:only-of-type {\n",
       "        vertical-align: middle;\n",
       "    }\n",
       "\n",
       "    .dataframe tbody tr th {\n",
       "        vertical-align: top;\n",
       "    }\n",
       "\n",
       "    .dataframe thead th {\n",
       "        text-align: right;\n",
       "    }\n",
       "</style>\n",
       "<table border=\"1\" class=\"dataframe\">\n",
       "  <thead>\n",
       "    <tr style=\"text-align: right;\">\n",
       "      <th></th>\n",
       "      <th>url</th>\n",
       "      <th>title</th>\n",
       "      <th>date</th>\n",
       "      <th>rawtext</th>\n",
       "      <th>lemmatized_sents</th>\n",
       "    </tr>\n",
       "  </thead>\n",
       "  <tbody>\n",
       "    <tr>\n",
       "      <th>0</th>\n",
       "      <td>https://archiv.janpatocka.cz/items/show/98</td>\n",
       "      <td>Recenze na: J. Kratochvil, Meditace věků. Ději...</td>\n",
       "      <td>1932</td>\n",
       "      <td>Josef Kratochvil: Meditace věků. Dějinný vývoj...</td>\n",
       "      <td>[[Josef, Kratochvil, meditace, věk], [dějinný,...</td>\n",
       "    </tr>\n",
       "    <tr>\n",
       "      <th>1</th>\n",
       "      <td>https://archiv.janpatocka.cz/items/show/335</td>\n",
       "      <td>Recenze na: H. Gouhier, La jeunesse d’Auguste ...</td>\n",
       "      <td>1936</td>\n",
       "      <td>None</td>\n",
       "      <td>[]</td>\n",
       "    </tr>\n",
       "    <tr>\n",
       "      <th>2</th>\n",
       "      <td>https://archiv.janpatocka.cz/items/show/66</td>\n",
       "      <td>Recenze na: J. Benda, La fin de l’éternel</td>\n",
       "      <td>1929</td>\n",
       "      <td>Julien Benda, La fin de 1’eternel, Paris, Gall...</td>\n",
       "      <td>[[Julien, Benda], [strana, cena, frs], [nový, ...</td>\n",
       "    </tr>\n",
       "    <tr>\n",
       "      <th>3</th>\n",
       "      <td>https://archiv.janpatocka.cz/items/show/30</td>\n",
       "      <td>Gorgias\\n</td>\n",
       "      <td>None</td>\n",
       "      <td>﻿Ještě ve stručnosti zopakuji hlavní body té K...</td>\n",
       "      <td>[[stručnost, zopakovat, hlavní, bod, Kallikleů...</td>\n",
       "    </tr>\n",
       "    <tr>\n",
       "      <th>4</th>\n",
       "      <td>https://archiv.janpatocka.cz/items/show/95</td>\n",
       "      <td>Recenze na: G. Ipsen, Sprachphilosophie der Ge...</td>\n",
       "      <td>1932</td>\n",
       "      <td>Philosophische Forschungsberichte, Junker und ...</td>\n",
       "      <td>[[Berlin], [Heft, Gunther, Ipsen, 8°, strana, ...</td>\n",
       "    </tr>\n",
       "    <tr>\n",
       "      <th>...</th>\n",
       "      <td>...</td>\n",
       "      <td>...</td>\n",
       "      <td>...</td>\n",
       "      <td>...</td>\n",
       "      <td>...</td>\n",
       "    </tr>\n",
       "    <tr>\n",
       "      <th>358</th>\n",
       "      <td>https://archiv.janpatocka.cz/items/show/391</td>\n",
       "      <td>Recenze na: L. Rieger,  Idea filosofie</td>\n",
       "      <td>1938</td>\n",
       "      <td>None</td>\n",
       "      <td>[]</td>\n",
       "    </tr>\n",
       "    <tr>\n",
       "      <th>359</th>\n",
       "      <td>https://archiv.janpatocka.cz/items/show/364</td>\n",
       "      <td>Recenze na: L. Robin, Platon</td>\n",
       "      <td>1937</td>\n",
       "      <td>None</td>\n",
       "      <td>[]</td>\n",
       "    </tr>\n",
       "    <tr>\n",
       "      <th>360</th>\n",
       "      <td>https://archiv.janpatocka.cz/items/show/282</td>\n",
       "      <td>Recenze na: L. von Wiese, System der allgemein...</td>\n",
       "      <td>1933</td>\n",
       "      <td>Leopold von Wiese: System der allgemeinen Sozi...</td>\n",
       "      <td>[[Leopold, Wiese], [u, Leipzig, Humblot, stran...</td>\n",
       "    </tr>\n",
       "    <tr>\n",
       "      <th>361</th>\n",
       "      <td>https://archiv.janpatocka.cz/items/show/2661</td>\n",
       "      <td>Co je Evropa – šest zlomků</td>\n",
       "      <td>None</td>\n",
       "      <td>[Bytí: kosmos věcí...]1 Sein: Kosmos der Dinge...</td>\n",
       "      <td>[[bytí, kosmos, věc, πργματα, φύσις], [πολις]...</td>\n",
       "    </tr>\n",
       "    <tr>\n",
       "      <th>362</th>\n",
       "      <td>https://archiv.janpatocka.cz/items/show/8</td>\n",
       "      <td>Aristotelés I.\\n</td>\n",
       "      <td>Magnetofonový kotouč\\n</td>\n",
       "      <td>﻿Posledně jsme k Parmenidově nauce o SÉMATA TÚ...</td>\n",
       "      <td>[[Parmenidův, nauce, Sémata, TÚ, EONTOS, přičl...</td>\n",
       "    </tr>\n",
       "  </tbody>\n",
       "</table>\n",
       "<p>363 rows × 5 columns</p>\n",
       "</div>"
      ]
     },
     "execution_count": 20,
     "metadata": {},
     "output_type": "execute_result"
    }
   ],
   "execution_count": 20
  },
  {
   "metadata": {
    "ExecuteTime": {
     "end_time": "2024-03-13T14:50:58.133008Z",
     "start_time": "2024-03-13T14:50:58.127916Z"
    }
   },
   "cell_type": "code",
   "source": "patocka_all_df.shape",
   "outputs": [
    {
     "data": {
      "text/plain": [
       "(363, 5)"
      ]
     },
     "execution_count": 21,
     "metadata": {},
     "output_type": "execute_result"
    }
   ],
   "execution_count": 21
  },
  {
   "metadata": {
    "ExecuteTime": {
     "end_time": "2024-03-13T14:51:01.267154Z",
     "start_time": "2024-03-13T14:51:01.143622Z"
    }
   },
   "cell_type": "code",
   "source": [
    "all_sents = [sent for doc in patocka_all_df[\"lemmatized_sents\"] for sent in doc]\n",
    "docs = [\" \".join(sent) for sent in all_sents]\n",
    "lemmata_flat = [t for s in all_sents for t in s]\n",
    "lemmata_freqs = nltk.FreqDist(lemmata_flat).most_common()\n",
    "vocabulary = [tup[0] for tup in lemmata_freqs][:500]\n",
    "lemmata_freqs[:10]"
   ],
   "outputs": [
    {
     "data": {
      "text/plain": [
       "[('mít', 3801),\n",
       " ('život', 2831),\n",
       " ('svět', 2785),\n",
       " ('moci', 2634),\n",
       " ('smysl', 2580),\n",
       " ('věc', 2569),\n",
       " ('člověk', 2182),\n",
       " ('způsob', 1713),\n",
       " ('bytí', 1614),\n",
       " ('muset', 1502)]"
      ]
     },
     "execution_count": 22,
     "metadata": {},
     "output_type": "execute_result"
    }
   ],
   "execution_count": 22
  },
  {
   "metadata": {
    "ExecuteTime": {
     "end_time": "2024-03-13T14:51:01.731636Z",
     "start_time": "2024-03-13T14:51:01.728146Z"
    }
   },
   "cell_type": "code",
   "source": "docs[:10]",
   "outputs": [
    {
     "data": {
      "text/plain": [
       "['Josef Kratochvil meditace věk',\n",
       " 'dějinný vývoj filosofický myšlení TV filosofie nový Kant dnešní doba Brno barvič Novotný',\n",
       " '',\n",
       " 'strana',\n",
       " 'Josef Kratochvil plodný katolický filosofický spisovatel ee obírat dějiny filosofie',\n",
       " 'práce veřejnost přijímaný sympatie povzbudit dát podnik chybět síla souborný dějiny filosofie',\n",
       " 'svazek referovat dějiny ukončený',\n",
       " 'škoda ukázat malý vědecký cena práce veřejnost uváděný omyl autor najít vysoký míra autokritika',\n",
       " 'dějiny filosofie Kratochvíl problém',\n",
       " 'otázka metoda trápit podávat snůšek názor lada jednota podporovaný druhdy mínění moderní filosofie pestrý mosaika názor teorie vnitřní souvislost']"
      ]
     },
     "execution_count": 23,
     "metadata": {},
     "output_type": "execute_result"
    }
   ],
   "execution_count": 23
  },
  {
   "metadata": {
    "ExecuteTime": {
     "end_time": "2024-03-13T14:51:02.480198Z",
     "start_time": "2024-03-13T14:51:02.312118Z"
    }
   },
   "cell_type": "code",
   "source": [
    "vect = CountVectorizer(vocabulary=vocabulary, lowercase=False)\n",
    "X = vect.fit_transform(docs)\n",
    "Xc = (X.T * X)  # This is the matrix manipulation step\n",
    "cooccurrence_matrix_df = pd.DataFrame(Xc.todense(), index=vocabulary, columns=vocabulary)\n",
    "cooccurrence_matrix_df.head()"
   ],
   "outputs": [
    {
     "data": {
      "text/plain": [
       "        mít  život  svět  moci  smysl  věc  člověk  způsob  bytí  muset  ...  \\\n",
       "mít    5015    424   422   539    762  512     444     240   272    439  ...   \n",
       "život   424   4589   413   298    425  233     551     333   169    174  ...   \n",
       "svět    422    413  4361   316    366  335     410     211   284    160  ...   \n",
       "moci    539    298   316  3392    480  348     314     251   254    287  ...   \n",
       "smysl   762    425   366   480   3614  294     293     190   294    196  ...   \n",
       "\n",
       "       ideál  začínat  rok  vnímání  jednoduchý  centrum  učinit  zjevovat  \\\n",
       "mít       19       22    5       15          17       15      16        26   \n",
       "život     21       12    1        9          18       20       9         5   \n",
       "svět       5       10    7        9          10       12      15        40   \n",
       "moci      14        7    7        8          17        6      10        21   \n",
       "smysl     13        9    5        6          15       12      14        35   \n",
       "\n",
       "       dojem  přel  \n",
       "mít       43     4  \n",
       "život     12     8  \n",
       "svět      12     6  \n",
       "moci      21     5  \n",
       "smysl      8    10  \n",
       "\n",
       "[5 rows x 500 columns]"
      ],
      "text/html": [
       "<div>\n",
       "<style scoped>\n",
       "    .dataframe tbody tr th:only-of-type {\n",
       "        vertical-align: middle;\n",
       "    }\n",
       "\n",
       "    .dataframe tbody tr th {\n",
       "        vertical-align: top;\n",
       "    }\n",
       "\n",
       "    .dataframe thead th {\n",
       "        text-align: right;\n",
       "    }\n",
       "</style>\n",
       "<table border=\"1\" class=\"dataframe\">\n",
       "  <thead>\n",
       "    <tr style=\"text-align: right;\">\n",
       "      <th></th>\n",
       "      <th>mít</th>\n",
       "      <th>život</th>\n",
       "      <th>svět</th>\n",
       "      <th>moci</th>\n",
       "      <th>smysl</th>\n",
       "      <th>věc</th>\n",
       "      <th>člověk</th>\n",
       "      <th>způsob</th>\n",
       "      <th>bytí</th>\n",
       "      <th>muset</th>\n",
       "      <th>...</th>\n",
       "      <th>ideál</th>\n",
       "      <th>začínat</th>\n",
       "      <th>rok</th>\n",
       "      <th>vnímání</th>\n",
       "      <th>jednoduchý</th>\n",
       "      <th>centrum</th>\n",
       "      <th>učinit</th>\n",
       "      <th>zjevovat</th>\n",
       "      <th>dojem</th>\n",
       "      <th>přel</th>\n",
       "    </tr>\n",
       "  </thead>\n",
       "  <tbody>\n",
       "    <tr>\n",
       "      <th>mít</th>\n",
       "      <td>5015</td>\n",
       "      <td>424</td>\n",
       "      <td>422</td>\n",
       "      <td>539</td>\n",
       "      <td>762</td>\n",
       "      <td>512</td>\n",
       "      <td>444</td>\n",
       "      <td>240</td>\n",
       "      <td>272</td>\n",
       "      <td>439</td>\n",
       "      <td>...</td>\n",
       "      <td>19</td>\n",
       "      <td>22</td>\n",
       "      <td>5</td>\n",
       "      <td>15</td>\n",
       "      <td>17</td>\n",
       "      <td>15</td>\n",
       "      <td>16</td>\n",
       "      <td>26</td>\n",
       "      <td>43</td>\n",
       "      <td>4</td>\n",
       "    </tr>\n",
       "    <tr>\n",
       "      <th>život</th>\n",
       "      <td>424</td>\n",
       "      <td>4589</td>\n",
       "      <td>413</td>\n",
       "      <td>298</td>\n",
       "      <td>425</td>\n",
       "      <td>233</td>\n",
       "      <td>551</td>\n",
       "      <td>333</td>\n",
       "      <td>169</td>\n",
       "      <td>174</td>\n",
       "      <td>...</td>\n",
       "      <td>21</td>\n",
       "      <td>12</td>\n",
       "      <td>1</td>\n",
       "      <td>9</td>\n",
       "      <td>18</td>\n",
       "      <td>20</td>\n",
       "      <td>9</td>\n",
       "      <td>5</td>\n",
       "      <td>12</td>\n",
       "      <td>8</td>\n",
       "    </tr>\n",
       "    <tr>\n",
       "      <th>svět</th>\n",
       "      <td>422</td>\n",
       "      <td>413</td>\n",
       "      <td>4361</td>\n",
       "      <td>316</td>\n",
       "      <td>366</td>\n",
       "      <td>335</td>\n",
       "      <td>410</td>\n",
       "      <td>211</td>\n",
       "      <td>284</td>\n",
       "      <td>160</td>\n",
       "      <td>...</td>\n",
       "      <td>5</td>\n",
       "      <td>10</td>\n",
       "      <td>7</td>\n",
       "      <td>9</td>\n",
       "      <td>10</td>\n",
       "      <td>12</td>\n",
       "      <td>15</td>\n",
       "      <td>40</td>\n",
       "      <td>12</td>\n",
       "      <td>6</td>\n",
       "    </tr>\n",
       "    <tr>\n",
       "      <th>moci</th>\n",
       "      <td>539</td>\n",
       "      <td>298</td>\n",
       "      <td>316</td>\n",
       "      <td>3392</td>\n",
       "      <td>480</td>\n",
       "      <td>348</td>\n",
       "      <td>314</td>\n",
       "      <td>251</td>\n",
       "      <td>254</td>\n",
       "      <td>287</td>\n",
       "      <td>...</td>\n",
       "      <td>14</td>\n",
       "      <td>7</td>\n",
       "      <td>7</td>\n",
       "      <td>8</td>\n",
       "      <td>17</td>\n",
       "      <td>6</td>\n",
       "      <td>10</td>\n",
       "      <td>21</td>\n",
       "      <td>21</td>\n",
       "      <td>5</td>\n",
       "    </tr>\n",
       "    <tr>\n",
       "      <th>smysl</th>\n",
       "      <td>762</td>\n",
       "      <td>425</td>\n",
       "      <td>366</td>\n",
       "      <td>480</td>\n",
       "      <td>3614</td>\n",
       "      <td>294</td>\n",
       "      <td>293</td>\n",
       "      <td>190</td>\n",
       "      <td>294</td>\n",
       "      <td>196</td>\n",
       "      <td>...</td>\n",
       "      <td>13</td>\n",
       "      <td>9</td>\n",
       "      <td>5</td>\n",
       "      <td>6</td>\n",
       "      <td>15</td>\n",
       "      <td>12</td>\n",
       "      <td>14</td>\n",
       "      <td>35</td>\n",
       "      <td>8</td>\n",
       "      <td>10</td>\n",
       "    </tr>\n",
       "  </tbody>\n",
       "</table>\n",
       "<p>5 rows × 500 columns</p>\n",
       "</div>"
      ]
     },
     "execution_count": 24,
     "metadata": {},
     "output_type": "execute_result"
    }
   ],
   "execution_count": 24
  },
  {
   "metadata": {
    "ExecuteTime": {
     "end_time": "2024-03-13T14:51:05.729402Z",
     "start_time": "2024-03-13T14:51:05.379293Z"
    }
   },
   "cell_type": "code",
   "source": [
    "svd = TruncatedSVD(n_components=100)  # choose the number of components\n",
    "X_reduced = svd.fit_transform(Xc)"
   ],
   "outputs": [],
   "execution_count": 25
  },
  {
   "metadata": {
    "ExecuteTime": {
     "end_time": "2024-03-13T14:51:06.896118Z",
     "start_time": "2024-03-13T14:51:06.883553Z"
    }
   },
   "cell_type": "code",
   "source": [
    "kv = KeyedVectors(vector_size=X_reduced.shape[1])\n",
    "for word, vector in zip(vocabulary, X_reduced):\n",
    "  kv.add_vector(word, vector)"
   ],
   "outputs": [
    {
     "name": "stderr",
     "output_type": "stream",
     "text": [
      "/Users/vojtechkase/Projects/pribehy-dat/pribehy_venv/lib/python3.10/site-packages/gensim/models/keyedvectors.py:551: UserWarning: Adding single vectors to a KeyedVectors which grows by one each time can be costly. Consider adding in batches or preallocating to the required size.\n",
      "  warnings.warn(\n"
     ]
    }
   ],
   "execution_count": 26
  },
  {
   "metadata": {
    "ExecuteTime": {
     "end_time": "2024-03-13T14:51:54.481413Z",
     "start_time": "2024-03-13T14:51:54.408377Z"
    }
   },
   "cell_type": "code",
   "source": "kv.most_similar(\"svět\")",
   "outputs": [
    {
     "name": "stderr",
     "output_type": "stream",
     "text": [
      "/Users/vojtechkase/Projects/pribehy-dat/pribehy_venv/lib/python3.10/site-packages/gensim/models/keyedvectors.py:849: RuntimeWarning: invalid value encountered in divide\n",
      "  dists = dot(self.vectors[clip_start:clip_end], mean) / self.norms[clip_start:clip_end]\n"
     ]
    },
    {
     "data": {
      "text/plain": [
       "[('přirozený', 0.8993819952011108),\n",
       " ('naivní', 0.7744329571723938),\n",
       " ('technický', 0.7456496357917786),\n",
       " ('božský', 0.7109482884407043),\n",
       " ('okolí', 0.6663277745246887),\n",
       " ('horizont', 0.6653637290000916),\n",
       " ('křesťanství', 0.6603729724884033),\n",
       " ('pochopitelný', 0.6338645815849304),\n",
       " ('radikální', 0.6329202651977539),\n",
       " ('universální', 0.6300941109657288)]"
      ]
     },
     "execution_count": 30,
     "metadata": {},
     "output_type": "execute_result"
    }
   ],
   "execution_count": 30
  },
  {
   "metadata": {},
   "cell_type": "code",
   "outputs": [],
   "execution_count": null,
   "source": ""
  }
 ],
 "metadata": {
  "colab": {
   "provenance": []
  },
  "kernelspec": {
   "display_name": "pribehy_kernel",
   "language": "python",
   "name": "pribehy_kernel"
  }
 },
 "nbformat": 4,
 "nbformat_minor": 0
}
