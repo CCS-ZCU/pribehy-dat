{
 "cells": [
  {
   "cell_type": "markdown",
   "metadata": {
    "colab_type": "text",
    "id": "view-in-github"
   },
   "source": [
    "[![Open In Colab](https://colab.research.google.com/assets/colab-badge.svg)](https://colab.research.google.com/github/CCS-ZCU/pribehy-dat/blob/master/scripts/regex.ipynb)\n",
    "\n",
    "Tento soubor je součástí sestavy elektronických studijních opor [Příběhy dat: Výpočetní přístupy ke studiu kultury a společnosti](https://github.com/CCS-ZCU/pribehy-dat/tree/master). \n",
    "\n",
    "\n",
    "# Regulární výrazy\n",
    "\n",
    "**autor**: *Vojtěch Kaše* (kase@ff.zcu.cz)\n",
    "\n",
    "[![](https://ccs.zcu.cz/wp-content/uploads/2021/10/cropped-ccs-logo_black_space_240x240.png)](https://ccs.zcu.cz)\n",
    "\n",
    "## Úvod a cíle kapitoly"
   ]
  },
  {
   "cell_type": "markdown",
   "metadata": {
    "collapsed": false
   },
   "source": [
    "V této kapitole si ukážeme základy tzv. regulárních výrazů. Regulární výrazy představují velice sofistikovaný způsob jak vyhledávat v textových datech určité řetězce znaků a případně je nahrazovat jinými řetězci znaků. Na rozdíl od standardního vyhledávání však regulární výrazy umožňují vyhledávání na abstraktnější rovině, pomocí obecnějších pravidel či \"regulí\". K tomu se používají speciálně nadefinované pomocné znaky. Regex je technologie, která nemá co dočinění s Pythonem - lze jej používat v mnoha různých aplikacích, včetně webových (např. https://regex101.com). \n",
    "\n",
    "V rámci Pythonu je pro regex dostupná velice praktická knihovna `re`, na které budou některé ukázky níže postaveny. Pro systematičtější pohled však tentokrát z našeho juypter notebooku na chvíli vystoupíme a projedeme si sérii cvičeních na webové stránce https://regexone.com."
   ]
  },
  {
   "cell_type": "markdown",
   "metadata": {
    "collapsed": false
   },
   "source": [
    "Knihovna `re` v sobě má celou řadu užitečných metod. My zde budeme pracovat jen s několika z nich. Zejména\n",
    "  * `re.search(pattern, string)`: nalezne uvnitř prohledávaného řetězce znaků (parametr `string`) první výskyt (tzv. `match`) hledáného řetězce znaků (`pattern`) a poskytne nám informaci o tom, kde se hledaný řetězec nachází\n",
    "  * `re.findall(pattern, string)`:  nalezne uvnitř prohledávaného řetězce znaků (parametr `string`) všechny výskyty (`matches`) hledáného řetězce znaků (`pattern`) a poskytne nám informaci o tom, kde se hledané řetězce nachází\n",
    "  * `re.sub(pattern, repl, string)`:  nalezne uvnitř prohledávaného řetězce znaků (parametr `string`) všechny výskyty hledáného řetězce znaků (`pattern`) a nahradí jej řetězcem `repl`.\n"
   ]
  },
  {
   "cell_type": "code",
   "execution_count": null,
   "metadata": {
    "ExecuteTime": {
     "end_time": "2024-04-20T08:40:57.141577Z",
     "start_time": "2024-04-20T08:40:53.670845Z"
    },
    "execution_time": 1
   },
   "outputs": [],
   "source": [
    "import requests\n",
    "import re\n",
    "import pandas as pd\n",
    "import matplotlib.pyplot as plt\n",
    "!pip install lxml\n",
    "from bs4 import BeautifulSoup\n",
    "from getpass import getpass\n",
    "import json"
   ]
  },
  {
   "cell_type": "markdown",
   "metadata": {
    "collapsed": false
   },
   "source": [
    "Představte si, že chcete v dokumentu vyhledat veškéré výskyty číslic. Pomocí regexu toho lze dosáhnout pomocí použití speciálního znaku \"\\d\"."
   ]
  },
  {
   "cell_type": "code",
   "execution_count": null,
   "metadata": {
    "ExecuteTime": {
     "end_time": "2024-01-20T21:54:53.771882Z",
     "start_time": "2024-01-20T21:54:53.768176Z"
    },
    "execution_time": 2
   },
   "outputs": [],
   "source": [
    "# náš dokument se nachází uvnitř proměnné text\n",
    "text = \"Tento text obsahuje kromě znaků pro písmena i některé číslice, jako je třeba 7, 13, 542, nebo letopočet 1842 apod. Kromě toho obsahuje i některá vlastní jména, jako je třeba Jan Patočka nebo Václav Havel. To nám stačí, abychom si zde vyzkoušeli několik základních principů regexu.\""
   ]
  },
  {
   "cell_type": "markdown",
   "metadata": {
    "collapsed": false
   },
   "source": [
    "Použijeme tedy metodu `re.findall()` a speciální znak \"\\d\""
   ]
  },
  {
   "cell_type": "code",
   "execution_count": null,
   "metadata": {
    "ExecuteTime": {
     "end_time": "2024-01-20T21:54:54.202466Z",
     "start_time": "2024-01-20T21:54:54.197441Z"
    },
    "execution_time": 3
   },
   "outputs": [],
   "source": [
    "matches = re.findall(\"\\d\", text)\n",
    "matches"
   ]
  },
  {
   "cell_type": "markdown",
   "metadata": {
    "collapsed": false
   },
   "source": [
    "Nyní jsme zachytili každou číslici zvlášť. Abychom zachytili i víceciferná čísla, musíme použít kvantifikátoru. V našem patternu uděláme jednu drobnou úpravu, a totiž přidáme znaménko +."
   ]
  },
  {
   "cell_type": "code",
   "execution_count": null,
   "metadata": {
    "ExecuteTime": {
     "end_time": "2024-01-20T21:54:54.854770Z",
     "start_time": "2024-01-20T21:54:54.836155Z"
    },
    "execution_time": 4
   },
   "outputs": [],
   "source": [
    "matches = re.findall(\"\\d+\", text)\n",
    "matches"
   ]
  },
  {
   "cell_type": "markdown",
   "metadata": {
    "collapsed": false
   },
   "source": [
    "někdy nás třeba mohou zajímat pouze čísla o určitém počtu cifer, jako jsou letopočty, které jsou již více než tisíc let čtyřciferné a nejspíš ještě několik tisíc let budou. Toho lze dosáhnout kvantifikátorem `{}`, "
   ]
  },
  {
   "cell_type": "code",
   "execution_count": null,
   "metadata": {
    "ExecuteTime": {
     "end_time": "2024-01-20T21:54:55.449217Z",
     "start_time": "2024-01-20T21:54:55.443705Z"
    },
    "execution_time": 5
   },
   "outputs": [],
   "source": [
    "matches = re.findall(\"\\d{4}\", text)\n",
    "matches"
   ]
  },
  {
   "cell_type": "markdown",
   "metadata": {
    "collapsed": false
   },
   "source": [
    "Detekce čísel je jen jeden možný příklad. Druhý příklad, než se pustíme do reálných dat, budou vlastní jména. Vlastní jména začínají velkými písmeny. Najděme tedy všechna slova začínající velkými písmeny:"
   ]
  },
  {
   "cell_type": "code",
   "execution_count": null,
   "metadata": {
    "ExecuteTime": {
     "end_time": "2024-01-20T21:54:55.860018Z",
     "start_time": "2024-01-20T21:54:55.856124Z"
    },
    "execution_time": 6
   },
   "outputs": [],
   "source": [
    "re.findall(\"[A-Z]\\w*\", text)"
   ]
  },
  {
   "cell_type": "markdown",
   "metadata": {
    "collapsed": false
   },
   "source": [
    "Ano, je zde několik problému. Zaprvé zachycujeme také všechny slova na začátku vět. Jak tomu předejít? To přenechám samostatnému úkolu:"
   ]
  },
  {
   "cell_type": "code",
   "execution_count": null,
   "metadata": {
    "ExecuteTime": {
     "end_time": "2024-01-20T21:54:56.304141Z",
     "start_time": "2024-01-20T21:54:56.293602Z"
    },
    "execution_time": 7
   },
   "outputs": [],
   "source": [
    "# SAMOSTATNÝ ÚKOL:\n",
    "# upravit regex níže tak, aby nezachycoval slova, která mají velká písmena proto, že se nacházejí na začátku věty. \n",
    "re.findall(\"[A-Z]\\w*\", text)"
   ]
  },
  {
   "cell_type": "markdown",
   "metadata": {
    "collapsed": false
   },
   "source": [
    "Jména v našem textu sestávají ze dvou částí: křesťního jména a příjmení. Co se tedy soustředit pouze na situace, kdy se jedná o dvě slova s velkými písmeny po sobě:"
   ]
  },
  {
   "cell_type": "code",
   "execution_count": null,
   "metadata": {
    "ExecuteTime": {
     "end_time": "2024-01-20T21:54:56.588448Z",
     "start_time": "2024-01-20T21:54:56.583909Z"
    },
    "execution_time": 8
   },
   "outputs": [],
   "source": [
    "re.findall(\"[A-Z]\\w*\\\\s[A-Z]\\w*\", text)"
   ]
  },
  {
   "cell_type": "markdown",
   "metadata": {
    "collapsed": false
   },
   "source": [
    "## Regulérní výrazy a metadata ze Slovníku českých filozofů\n",
    "\n",
    "Nyní si opět načteme data ze slovníku českých filozofů, která jsme vydolovali v jedné z předchozích kapitol."
   ]
  },
  {
   "cell_type": "code",
   "execution_count": null,
   "metadata": {
    "ExecuteTime": {
     "end_time": "2024-04-20T08:41:04.394764Z",
     "start_time": "2024-04-20T08:41:04.106889Z"
    },
    "execution_time": 9
   },
   "outputs": [],
   "source": [
    "slovnik_df = pd.read_csv(\"https://raw.githubusercontent.com/CCS-ZCU/pribehy-dat/master/data/slovnik_df.csv\")\n",
    "slovnik_df.head(5)"
   ]
  },
  {
   "cell_type": "markdown",
   "metadata": {
    "collapsed": false
   },
   "source": [
    "Ve sloupcích narození a smrt vidíme, že se zde datum a místo narození objevují vždy ve víceméně shodné podobě. Zajímá-li nás např. pouze rok narození či úmrtí, mohlo by nám postačit vyhledat v každém řetězci čtyřciferná čísla. Objevují se zde však i kompletní datumy a místní názvy, kde k těmto událostem došlo.\n",
    "\n",
    "Uvědomme si, že zde pracujeme  s objektem typu dataframe knihovny pandas. Některé věci je proto potřeba dělat trochu odlišně než na příkladech výše. Naše regexy si zabalíme do vlastních definovaných funkcí, které následně budeme aplikovat na všechny hodnoty ve vybraném sloupci najednou. Funkci níže budeme postupně upravovat tak, aby zachytila více a více zajímavýcj informací. Výhoda této funkce je, že v sobě má \"pojistku\" ve formě výjimku (try-except) pro situace, že se hledání nepovede, například z důvodu nevalidních vstupních dat - měli bychom se tedy vyhnout mnoha zbytečným chybovým hláškám."
   ]
  },
  {
   "cell_type": "code",
   "execution_count": null,
   "metadata": {
    "ExecuteTime": {
     "end_time": "2024-04-20T08:41:32.663063Z",
     "start_time": "2024-04-20T08:41:32.660137Z"
    },
    "execution_time": 10
   },
   "outputs": [],
   "source": [
    "def our_regex_matcher(string, regex_pattern):\n",
    "    try:\n",
    "        return re.search(regex_pattern, string).group() \n",
    "    except:\n",
    "        return None"
   ]
  },
  {
   "cell_type": "markdown",
   "metadata": {
    "collapsed": false
   },
   "source": [
    "V této základní podobě funkce zachytí pouze čtyřciferné číslo, což v našem případě bude typicky letopočet: Funkci můžeme otestovat na hned první hodnotě ve sloupci \"birth\":"
   ]
  },
  {
   "cell_type": "code",
   "execution_count": null,
   "metadata": {
    "ExecuteTime": {
     "end_time": "2024-04-20T08:41:42.551432Z",
     "start_time": "2024-04-20T08:41:42.548336Z"
    },
    "execution_time": 11
   },
   "outputs": [],
   "source": [
    "our_string = \"* 31. 8. 1546 Veleslavín u Prahy\"\n",
    "our_regex_matcher(our_string, \"\\d{4}\")"
   ]
  },
  {
   "cell_type": "markdown",
   "metadata": {
    "collapsed": false
   },
   "source": [
    "Nyní tuto funkci aplikujeme na všechny hodnoty v celém sloupci \"birth\" a \"death\" a výsledek přiřadíme dvěma novým sloupcům: \"birth_year\" a \"death_year\" "
   ]
  },
  {
   "cell_type": "code",
   "execution_count": null,
   "metadata": {
    "ExecuteTime": {
     "end_time": "2024-04-20T08:41:44.973526Z",
     "start_time": "2024-04-20T08:41:44.963955Z"
    },
    "execution_time": 12
   },
   "outputs": [],
   "source": [
    "slovnik_df[\"birth_year\"] = slovnik_df['birth'].apply(our_regex_matcher, args=(\"\\d{4}\",))\n",
    "slovnik_df[\"death_year\"] = slovnik_df['death'].apply(our_regex_matcher, args=(\"\\d{4}\",))  # \n",
    "# vypíšeme si prvních 10 řádek dataframu\"\n",
    "slovnik_df.head(10)\n"
   ]
  },
  {
   "cell_type": "markdown",
   "metadata": {
    "collapsed": false
   },
   "source": [
    "Ač to na první pohlede není zřejmé, naše sloupce s letopočty obsahují ve skutečnosti proměnné typu string. Takže si je ještě převedeme na čísla."
   ]
  },
  {
   "cell_type": "code",
   "execution_count": null,
   "metadata": {
    "ExecuteTime": {
     "end_time": "2024-04-20T08:42:18.907490Z",
     "start_time": "2024-04-20T08:42:18.902763Z"
    },
    "execution_time": 13
   },
   "outputs": [],
   "source": [
    "slovnik_df[\"birth_year\"] = slovnik_df[\"birth_year\"].apply(lambda x: int(x) if x != None else None)\n",
    "slovnik_df[\"death_year\"] = slovnik_df[\"death_year\"].apply(lambda x: int(x) if x != None else None)"
   ]
  },
  {
   "cell_type": "markdown",
   "metadata": {
    "collapsed": false
   },
   "source": [
    "Takto naformátované letopočty již umožňují časové temporální analýzy. Například se můžeme podívat na distribuci narození od 18. století do současnosti po dekádách. "
   ]
  },
  {
   "cell_type": "code",
   "execution_count": null,
   "metadata": {
    "ExecuteTime": {
     "end_time": "2024-04-20T08:42:22.894825Z",
     "start_time": "2024-04-20T08:42:22.703971Z"
    },
    "execution_time": 14
   },
   "outputs": [],
   "source": [
    "fig, ax = plt.subplots()\n",
    "slovnik_df[\"birth_year\"].hist(bins=range(1800, 2000, 10), ax=ax)\n",
    "ax.set_xlim(1801,2000)"
   ]
  },
  {
   "cell_type": "markdown",
   "metadata": {
    "collapsed": false
   },
   "source": [
    "Vidíme zde, že nezanedbatelný počet filozofů zahrnutých ve slovníku se narodil ve 20. letech 20. století. To nemusí nutně znamenat, že by se v této dekádě rodilo více filozofických talentů, ale může to být dáno zaměřením autorů SLovníku, kteří věnovali zvláštní pozornost osobnostem své a bezprostředně předcházející generace. "
   ]
  },
  {
   "cell_type": "markdown",
   "metadata": {
    "collapsed": false
   },
   "source": [
    "Ve sloupcích \"birth\" a \"death\" se ve většině případů nachází i informace o tom, kde k těmto událostem došlo. Tato informace se nachází bezprostředně za letopočtem a mezerou. Opět ji můžeme vyxetrahovat pomocí regexu. Vytvoříme si proto však samostatnou funkci:"
   ]
  },
  {
   "cell_type": "code",
   "execution_count": null,
   "metadata": {
    "ExecuteTime": {
     "end_time": "2024-04-20T08:42:30.115675Z",
     "start_time": "2024-04-20T08:42:30.112197Z"
    },
    "execution_time": 15
   },
   "outputs": [],
   "source": [
    "def get_place(string, regex_pattern=\"(\\d{4})(\\s)(.+)\"):\n",
    "    try:\n",
    "        return re.search(regex_pattern, string).groups()[2]\n",
    "    except:\n",
    "        return None"
   ]
  },
  {
   "cell_type": "code",
   "execution_count": null,
   "metadata": {
    "ExecuteTime": {
     "end_time": "2024-04-20T08:42:30.585469Z",
     "start_time": "2024-04-20T08:42:30.581953Z"
    },
    "execution_time": 16
   },
   "outputs": [],
   "source": [
    "our_string = \"* 31. 8. 1546 Veleslavín u Prahy\"\n",
    "get_place(our_string)"
   ]
  },
  {
   "cell_type": "code",
   "execution_count": null,
   "metadata": {
    "ExecuteTime": {
     "end_time": "2024-01-20T21:55:01.907438Z",
     "start_time": "2024-01-20T21:55:01.893121Z"
    },
    "execution_time": 17
   },
   "outputs": [],
   "source": [
    "slovnik_df[\"birth_place\"] = slovnik_df[\"birth\"].apply(get_place)\n",
    "slovnik_df[\"death_place\"] = slovnik_df[\"death\"].apply(get_place)\n",
    "slovnik_df.head(5)"
   ]
  },
  {
   "cell_type": "markdown",
   "metadata": {
    "collapsed": false
   },
   "source": [
    "Máme-li místa narození a úmrtí takto v samostatné podobě, můžeme se pro přehled opět podívat na jejich distribuci:"
   ]
  },
  {
   "cell_type": "code",
   "execution_count": null,
   "metadata": {
    "ExecuteTime": {
     "end_time": "2024-01-20T21:55:03.070067Z",
     "start_time": "2024-01-20T21:55:03.063379Z"
    },
    "execution_time": 18
   },
   "outputs": [],
   "source": [
    "slovnik_df[\"birth_place\"].value_counts()"
   ]
  },
  {
   "cell_type": "code",
   "execution_count": null,
   "metadata": {
    "ExecuteTime": {
     "end_time": "2024-01-20T21:55:05.554664Z",
     "start_time": "2024-01-20T21:55:05.552017Z"
    },
    "execution_time": 19
   },
   "outputs": [],
   "source": [
    "slovnik_df[\"death_place\"].value_counts()"
   ]
  },
  {
   "cell_type": "markdown",
   "metadata": {
    "collapsed": false
   },
   "source": [
    "# Rozšiřující analýza: Automatické geokódováníí míst narození a úmrtí  "
   ]
  },
  {
   "cell_type": "markdown",
   "metadata": {
    "collapsed": false
   },
   "source": [
    "Prostorovou informaci nyní máme pouze v podobě textu. Tento formát nám však neumožňuje studovat prostorové distribuce a vztahy pomocí metod **GIS** (viz samostatná kapitola na toto téma, kde se k těmto datům možná vrátíme.\n",
    "\n",
    "Abychom s našimi daty mohli takto pracovat, je třeba je tzv. geokódovat, tj. opatřit je koordináty zeměpisné šířky a délky. Toho lze dosáhnout buď *manuálně*, postupným procházením jednotlivých místních názvů a dohledávání jich v mapě, a nebo *automaticky*. Pro automatické vyhledávání koordinátů pro místní názvy se nabízí platforma https://www.geonames.org, která disponuje i jednoduchým **API** (viz kapitola o API).\n",
    "\n",
    "Nejprve si vytvořme si seznam všech unikátních míst v obou sloupcích:"
   ]
  },
  {
   "cell_type": "code",
   "execution_count": null,
   "metadata": {
    "ExecuteTime": {
     "end_time": "2024-01-20T22:22:00.512968Z",
     "start_time": "2024-01-20T22:22:00.509174Z"
    },
    "execution_time": 20
   },
   "outputs": [],
   "source": [
    "places_unique = [el for el in set(list(slovnik_df[\"death_place\"]) + list(slovnik_df[\"birth_place\"])) if el != None]\n",
    "len(places_unique)"
   ]
  },
  {
   "cell_type": "markdown",
   "metadata": {
    "collapsed": false
   },
   "source": [
    "Vidíme, že máme co do činění s 584 unikátními místními názvy. Pro zkoušku si vypíšeme 10 z nich:"
   ]
  },
  {
   "cell_type": "code",
   "execution_count": null,
   "metadata": {
    "ExecuteTime": {
     "end_time": "2024-01-20T22:22:52.492250Z",
     "start_time": "2024-01-20T22:22:52.484923Z"
    },
    "execution_time": 21
   },
   "outputs": [],
   "source": [
    "places_unique[:10]"
   ]
  },
  {
   "cell_type": "markdown",
   "metadata": {
    "collapsed": false
   },
   "source": [
    "Nyní můžeme navštívit webovou stránku https://www.geonames.org a vytvořit si na ni účet. Účet si aktivujeme a především pro něj umožňíme používání \"free webservices\" (jinak nám api nebude fungovat). \n",
    "\n",
    "(V případě, že si např. z důvodu časové tísně nechceme účet vytvořit, následující tři buňky přeskočíme a načteme si již mnou předem získaná data.)"
   ]
  },
  {
   "cell_type": "code",
   "execution_count": null,
   "metadata": {
    "ExecuteTime": {
     "end_time": "2024-01-20T21:59:07.266892Z",
     "start_time": "2024-01-20T21:59:04.728664Z"
    },
    "execution_time": 22
   },
   "outputs": [],
   "source": [
    "# zadáme naše uživatelské jméno\n",
    "user = getpass(\"Enter your geonames username: \")"
   ]
  },
  {
   "cell_type": "markdown",
   "metadata": {
    "collapsed": false
   },
   "source": [
    "Níže jako hodnotu proměnné `place_string` na zkooušku zadáme název náhodně zvoleného místa. V případě, že vše funguje správně (tj. zejména že máme funkční a aktivovaný geonames účet a že jsme zvolili místní název, se kterým si platforma geonames umí poradit), buňka nám vypíše geografické koordináty:"
   ]
  },
  {
   "cell_type": "code",
   "execution_count": null,
   "metadata": {
    "ExecuteTime": {
     "end_time": "2024-01-20T22:27:16.303102Z",
     "start_time": "2024-01-20T22:27:14.828336Z"
    },
    "execution_time": 23
   },
   "outputs": [],
   "source": [
    "\n",
    "place_string = \"Plzeň\"\n",
    "resp = requests.get(\"http://api.geonames.org/search?q={0}&username={1}\".format(place_string, user))\n",
    "soup = BeautifulSoup(resp.content, \"xml\")\n",
    "lat, lng = soup.geoname.lat.string, soup.geoname.lng.string\n",
    "print(lat, lng)"
   ]
  },
  {
   "cell_type": "markdown",
   "metadata": {
    "collapsed": false
   },
   "source": [
    "Stejnou postup můžeme nyní aplikovat na všech 584 unikátních míst ze Slovníku. Jinými slovy, vzneseme 584 HTTP dotazů a v datech odpovědi se pokusíme identifikovat údaje o zeměpisné šířce a délce. Tato data budeme postupně přidávat do objektu `places_unique_dict` typu `dict` - klíčem bude vždy daný zeměpisný název a hodnotou příslušné koordináty."
   ]
  },
  {
   "cell_type": "code",
   "execution_count": null,
   "metadata": {
    "ExecuteTime": {
     "end_time": "2024-01-20T22:03:59.473338Z",
     "start_time": "2024-01-20T22:03:21.698826Z"
    },
    "execution_time": 24
   },
   "outputs": [],
   "source": [
    "places_unique_dict = {}\n",
    "for place in places_unique:\n",
    "    resp = requests.get(\"http://api.geonames.org/search?q={0}&username={1}\".format(place.partition(\" (\")[0], user))\n",
    "    try:\n",
    "        soup = BeautifulSoup(resp.content, \"xml\")\n",
    "        lat, lng = soup.geoname.lat.string, soup.geoname.lng.string\n",
    "        places_unique_dict[place] = (lat, lng)\n",
    "    except:\n",
    "        pass"
   ]
  },
  {
   "cell_type": "markdown",
   "metadata": {
    "collapsed": false
   },
   "source": [
    "Pro kolik míst jsme úspěšně získali nějaké koordináty?"
   ]
  },
  {
   "cell_type": "code",
   "execution_count": null,
   "metadata": {
    "ExecuteTime": {
     "end_time": "2024-01-20T22:30:46.850618Z",
     "start_time": "2024-01-20T22:30:46.837744Z"
    },
    "execution_time": 25
   },
   "outputs": [],
   "source": [
    "len(places_unique_dict)"
   ]
  },
  {
   "cell_type": "code",
   "execution_count": null,
   "metadata": {
    "ExecuteTime": {
     "end_time": "2024-01-20T22:13:17.779869Z",
     "start_time": "2024-01-20T22:13:17.762231Z"
    },
    "execution_time": 26
   },
   "outputs": [],
   "source": [
    "# v případě, že pracujeme lokálně s repozitoří jako celkem, tak si data můžeme uložit pro další použití\n",
    "#with open(\"../data/jsonplaces_unique_dict.json\", 'w') as json_file:\n",
    "#    json.dump(places_unique_dict, json_file)"
   ]
  },
  {
   "cell_type": "markdown",
   "metadata": {
    "collapsed": false
   },
   "source": [
    "Pokud jsme buňkami výše z neprošli (např. protože se nám nepodařilo aktivivovat účet, načteme si data v následující buňce tak, že odstraníme hashtag na začátku řádky a buňku spustíme."
   ]
  },
  {
   "cell_type": "code",
   "execution_count": null,
   "metadata": {
    "ExecuteTime": {
     "end_time": "2024-01-20T22:35:45.326120Z",
     "start_time": "2024-01-20T22:35:45.310513Z"
    },
    "execution_time": 27
   },
   "outputs": [],
   "source": [
    "# places_unique_dict = requests.get(\"https://raw.githubusercontent.com/CCS-ZCU/pribehy-dat/master/data/jsonplaces_unique_dict.json\").json()"
   ]
  },
  {
   "cell_type": "markdown",
   "metadata": {
    "collapsed": false
   },
   "source": [
    "Tato data nyní takříkajíc namapujeme na naše tabulková data k jednotlivým filozofům. Vytvoříme dva nové atributy: \"birth_latlong\" a \"death_latlong\".  "
   ]
  },
  {
   "cell_type": "code",
   "execution_count": null,
   "metadata": {
    "ExecuteTime": {
     "end_time": "2024-01-20T22:32:27.289458Z",
     "start_time": "2024-01-20T22:32:27.284466Z"
    },
    "execution_time": 28
   },
   "outputs": [],
   "source": [
    "slovnik_df[\"birth_latlong\"] = slovnik_df[\"birth_place\"].apply(lambda x: places_unique_dict[x] if x in places_unique_dict.keys() else None)\n",
    "slovnik_df[\"death_latlong\"] = slovnik_df[\"death_place\"].apply(lambda x: places_unique_dict[x] if x in places_unique_dict.keys() else None)"
   ]
  },
  {
   "cell_type": "code",
   "execution_count": null,
   "metadata": {
    "ExecuteTime": {
     "end_time": "2024-01-20T22:15:25.976917Z",
     "start_time": "2024-01-20T22:15:25.963053Z"
    },
    "execution_time": 29
   },
   "outputs": [],
   "source": [
    "slovnik_df.head(5)"
   ]
  },
  {
   "cell_type": "code",
   "execution_count": null,
   "metadata": {
    "ExecuteTime": {
     "end_time": "2024-01-20T22:17:08.471108Z",
     "start_time": "2024-01-20T22:17:08.456058Z"
    },
    "execution_time": 30
   },
   "outputs": [],
   "source": [
    "# pokud pracujeme lokálně s repozitoří jako celkem, tato data si uložíme pro budoucí použití.\n",
    "slovnik_df.to_json(\"../data/slovnik_geotemporal_df.json\")"
   ]
  },
  {
   "cell_type": "code",
   "execution_count": null,
   "metadata": {
    "ExecuteTime": {
     "end_time": "2024-04-20T08:43:26.059846Z",
     "start_time": "2024-04-20T08:43:26.046440Z"
    },
    "execution_time": 31
   },
   "outputs": [],
   "source": [
    "slovnik_df = pd.read_json(\"../data/slovnik_geotemporal_df.json\")\n",
    "slovnik_df.head(5)"
   ]
  },
  {
   "cell_type": "code",
   "execution_count": null,
   "metadata": {
    "execution_time": 32
   },
   "outputs": [],
   "source": []
  }
 ],
 "metadata": {
  "colab": {
   "include_colab_link": true,
   "provenance": []
  },
  "kernelspec": {
   "display_name": "pribehy_kernel",
   "language": "python",
   "name": "pribehy_kernel"
  }
 },
 "nbformat": 4,
 "nbformat_minor": 0
}
