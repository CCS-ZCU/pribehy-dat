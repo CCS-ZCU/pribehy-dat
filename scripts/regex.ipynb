{
 "cells": [
  {
   "cell_type": "markdown",
   "metadata": {
    "colab_type": "text",
    "id": "view-in-github"
   },
   "source": [
    "[![Open In Colab](https://colab.research.google.com/assets/colab-badge.svg)](https://colab.research.google.com/github/CCS-ZCU/pribehy-dat/blob/master/scripts/regex.ipynb)\n",
    "\n",
    "# Regulární výrazy\n",
    "\n",
    "**autor**: *Vojtěch Kaše* (kase@ff.zcu.cz)\n",
    "\n",
    "[![](https://ccs.zcu.cz/wp-content/uploads/2021/10/cropped-ccs-logo_black_space_240x240.png)](https://ccs.zcu.cz)\n",
    "\n",
    "## Úvod a cíle kapitoly"
   ]
  },
  {
   "cell_type": "markdown",
   "metadata": {
    "collapsed": false
   },
   "source": [
    "V této kapitole si ukážeme základy tzv. regulárních výrazů. Regulární výrazy představují velice sofistikovaný způsob jak vyhledávat v textových datech určité řetězce znaků a případně je nahrazovat jinými řetězci znaků. Na rozdíl od standardního vyhledávání však regulární výrazy umožňují vyhledávání na abstraktnější rovině, pomocí obecnějších pravidel či \"regulí\". K tomu se používají speciálně nadefinované pomocné znaky. Regex je technologie, která nemá co dočinění s Pythonem - lze jej používat v mnoha různých aplikacích, včetně webových (např. https://regex101.com). \n",
    "\n",
    "V rámci Pythonu je pro regex dostupná velice praktická knihovna `re`, na které budou některé ukázky níže postaveny. Pro systematičtější pohled však tentokrát z našeho juypter notebooku na chvíli vystoupíme a projedeme si sérii cvičeních na webové stránce https://regexone.com."
   ]
  },
  {
   "cell_type": "markdown",
   "metadata": {
    "collapsed": false
   },
   "source": [
    "Knihovna `re` v sobě má celou řadu užitečných metod. My zde budeme pracovat jen s několika z nich. Zejména\n",
    "  * `re.search(pattern, string)`: nalezne uvnitř prohledávaného řetězce znaků (parametr `string`) první výskyt (tzv. `match`) hledáného řetězce znaků (`pattern`) a poskytne nám informaci o tom, kde se hledaný řetězec nachází\n",
    "  * `re.findall(pattern, string)`:  nalezne uvnitř prohledávaného řetězce znaků (parametr `string`) všechny výskyty (`matches`) hledáného řetězce znaků (`pattern`) a poskytne nám informaci o tom, kde se hledané řetězce nachází\n",
    "  * `re.sub(pattern, repl, string)`:  nalezne uvnitř prohledávaného řetězce znaků (parametr `string`) všechny výskyty hledáného řetězce znaků (`pattern`) a nahradí jej řetězcem `repl`.\n"
   ]
  },
  {
   "cell_type": "code",
   "execution_count": 1,
   "metadata": {
    "ExecuteTime": {
     "end_time": "2024-01-20T22:11:28.408010Z",
     "start_time": "2024-01-20T22:11:26.127478Z"
    },
    "collapsed": false,
    "execution_time": 1
   },
   "outputs": [
    {
     "name": "stdout",
     "output_type": "stream",
     "text": [
      "Collecting lxml\r\n",
      "  Using cached lxml-5.1.0-cp310-cp310-macosx_11_0_arm64.whl.metadata (3.5 kB)\r\n",
      "Using cached lxml-5.1.0-cp310-cp310-macosx_11_0_arm64.whl (4.5 MB)\r\n",
      "Installing collected packages: lxml\r\n",
      "Successfully installed lxml-5.1.0\r\n",
      "\u001B[33mWARNING: There was an error checking the latest version of pip.\u001B[0m\u001B[33m\r\n",
      "\u001B[0m"
     ]
    }
   ],
   "source": [
    "import requests\n",
    "import re\n",
    "import pandas as pd\n",
    "import matplotlib.pyplot as plt\n",
    "!pip install lxml\n",
    "from bs4 import BeautifulSoup\n",
    "from getpass import getpass\n",
    "import json"
   ]
  },
  {
   "cell_type": "markdown",
   "metadata": {
    "collapsed": false
   },
   "source": [
    "Představte si, že chcete v dokumentu vyhledat veškéré výskyty číslic. Pomocí regexu toho lze dosáhnout pomocí použití speciálního znaku \"\\d\"."
   ]
  },
  {
   "cell_type": "code",
   "execution_count": 2,
   "metadata": {
    "ExecuteTime": {
     "end_time": "2024-01-20T21:54:53.771882Z",
     "start_time": "2024-01-20T21:54:53.768176Z"
    },
    "collapsed": false,
    "execution_time": 2
   },
   "outputs": [],
   "source": [
    "# náš dokument se nachází uvnitř proměnné text\n",
    "text = \"Tento text obsahuje kromě znaků pro písmena i některé číslice, jako je třeba 7, 13, 542, nebo letopočet 1842 apod. Kromě toho obsahuje i některá vlastní jména, jako je třeba Jan Patočka nebo Václav Havel. To nám stačí, abychom si zde vyzkoušeli několik základních principů regexu.\""
   ]
  },
  {
   "cell_type": "markdown",
   "metadata": {
    "collapsed": false
   },
   "source": [
    "Použijeme tedy metodu `re.findall()` a speciální znak \"\\d\""
   ]
  },
  {
   "cell_type": "code",
   "execution_count": 3,
   "metadata": {
    "ExecuteTime": {
     "end_time": "2024-01-20T21:54:54.202466Z",
     "start_time": "2024-01-20T21:54:54.197441Z"
    },
    "collapsed": false,
    "execution_time": 3
   },
   "outputs": [
    {
     "data": {
      "text/plain": [
       "['7', '1', '3', '5', '4', '2', '1', '8', '4', '2']"
      ]
     },
     "execution_count": 12,
     "metadata": {},
     "output_type": "execute_result"
    }
   ],
   "source": [
    "matches = re.findall(\"\\d\", text)\n",
    "matches"
   ]
  },
  {
   "cell_type": "markdown",
   "metadata": {
    "collapsed": false
   },
   "source": [
    "Nyní jsme zachytili každou číslici zvlášť. Abychom zachytili i víceciferná čísla, musíme použít kvantifikátoru. V našem patternu uděláme jednu drobnou úpravu, a totiž přidáme znaménko +."
   ]
  },
  {
   "cell_type": "code",
   "execution_count": 4,
   "metadata": {
    "ExecuteTime": {
     "end_time": "2024-01-20T21:54:54.854770Z",
     "start_time": "2024-01-20T21:54:54.836155Z"
    },
    "collapsed": false,
    "execution_time": 4
   },
   "outputs": [
    {
     "data": {
      "text/plain": [
       "['7', '13', '542', '1842']"
      ]
     },
     "execution_count": 13,
     "metadata": {},
     "output_type": "execute_result"
    }
   ],
   "source": [
    "matches = re.findall(\"\\d+\", text)\n",
    "matches"
   ]
  },
  {
   "cell_type": "markdown",
   "metadata": {
    "collapsed": false
   },
   "source": [
    "někdy nás třeba mohou zajímat pouze čísla o určitém počtu cifer, jako jsou letopočty, které jsou již více než tisíc let čtyřciferné a nejspíš ještě několik tisíc let budou. Toho lze dosáhnout kvantifikátorem `{}`, "
   ]
  },
  {
   "cell_type": "code",
   "execution_count": 5,
   "metadata": {
    "ExecuteTime": {
     "end_time": "2024-01-20T21:54:55.449217Z",
     "start_time": "2024-01-20T21:54:55.443705Z"
    },
    "collapsed": false,
    "execution_time": 5
   },
   "outputs": [
    {
     "data": {
      "text/plain": [
       "['1842']"
      ]
     },
     "execution_count": 14,
     "metadata": {},
     "output_type": "execute_result"
    }
   ],
   "source": [
    "matches = re.findall(\"\\d{4}\", text)\n",
    "matches"
   ]
  },
  {
   "cell_type": "markdown",
   "metadata": {
    "collapsed": false
   },
   "source": [
    "Detekce čísel je jen jeden možný příklad. Druhý příklad, než se pustíme do reálných dat, budou vlastní jména. Vlastní jména začínají velkými písmeny. Najděme tedy všechna slova začínající velkými písmeny:"
   ]
  },
  {
   "cell_type": "code",
   "execution_count": 6,
   "metadata": {
    "ExecuteTime": {
     "end_time": "2024-01-20T21:54:55.860018Z",
     "start_time": "2024-01-20T21:54:55.856124Z"
    },
    "collapsed": false,
    "execution_time": 6
   },
   "outputs": [
    {
     "data": {
      "text/plain": [
       "['Tento', 'Kromě', 'Jan', 'Patočka', 'Václav', 'Havel', 'To']"
      ]
     },
     "execution_count": 15,
     "metadata": {},
     "output_type": "execute_result"
    }
   ],
   "source": [
    "re.findall(\"[A-Z]\\w*\", text)"
   ]
  },
  {
   "cell_type": "markdown",
   "metadata": {
    "collapsed": false
   },
   "source": [
    "Ano, je zde několik problému. Zaprvé zachycujeme také všechny slova na začátku vět. Jak tomu předejít? To přenechám samostatnému úkolu:"
   ]
  },
  {
   "cell_type": "code",
   "execution_count": 7,
   "metadata": {
    "ExecuteTime": {
     "end_time": "2024-01-20T21:54:56.304141Z",
     "start_time": "2024-01-20T21:54:56.293602Z"
    },
    "collapsed": false,
    "execution_time": 7
   },
   "outputs": [
    {
     "data": {
      "text/plain": [
       "['Tento', 'Kromě', 'Jan', 'Patočka', 'Václav', 'Havel', 'To']"
      ]
     },
     "execution_count": 16,
     "metadata": {},
     "output_type": "execute_result"
    }
   ],
   "source": [
    "# SAMOSTATNÝ ÚKOL:\n",
    "# upravit regex níže tak, aby nezachycoval slova, která mají velká písmena proto, že se nacházejí na začátku věty. \n",
    "re.findall(\"[A-Z]\\w*\", text)"
   ]
  },
  {
   "cell_type": "markdown",
   "metadata": {
    "collapsed": false
   },
   "source": [
    "Jména v našem textu sestávají ze dvou částí: křesťního jména a příjmení. Co se tedy soustředit pouze na situace, kdy se jedná o dvě slova s velkými písmeny po sobě:"
   ]
  },
  {
   "cell_type": "code",
   "execution_count": 8,
   "metadata": {
    "ExecuteTime": {
     "end_time": "2024-01-20T21:54:56.588448Z",
     "start_time": "2024-01-20T21:54:56.583909Z"
    },
    "collapsed": false,
    "execution_time": 8
   },
   "outputs": [
    {
     "data": {
      "text/plain": [
       "['Jan Patočka', 'Václav Havel']"
      ]
     },
     "execution_count": 17,
     "metadata": {},
     "output_type": "execute_result"
    }
   ],
   "source": [
    "re.findall(\"[A-Z]\\w*\\\\s[A-Z]\\w*\", text)"
   ]
  },
  {
   "cell_type": "markdown",
   "metadata": {
    "collapsed": false
   },
   "source": [
    "## Regulérní výrazy a metadata ze Slovníku českých filozofů\n",
    "\n",
    "Nyní si opět načteme data ze slovníku českých filozofů, která jsme vydolovali v jedné z předchozích kapitol."
   ]
  },
  {
   "cell_type": "code",
   "execution_count": 9,
   "metadata": {
    "ExecuteTime": {
     "end_time": "2024-01-20T21:54:57.174400Z",
     "start_time": "2024-01-20T21:54:56.935894Z"
    },
    "collapsed": false,
    "execution_time": 9
   },
   "outputs": [
    {
     "data": {
      "text/html": [
       "<div>\n",
       "<style scoped>\n",
       "    .dataframe tbody tr th:only-of-type {\n",
       "        vertical-align: middle;\n",
       "    }\n",
       "\n",
       "    .dataframe tbody tr th {\n",
       "        vertical-align: top;\n",
       "    }\n",
       "\n",
       "    .dataframe thead th {\n",
       "        text-align: right;\n",
       "    }\n",
       "</style>\n",
       "<table border=\"1\" class=\"dataframe\">\n",
       "  <thead>\n",
       "    <tr style=\"text-align: right;\">\n",
       "      <th></th>\n",
       "      <th>url</th>\n",
       "      <th>name</th>\n",
       "      <th>birth</th>\n",
       "      <th>death</th>\n",
       "    </tr>\n",
       "  </thead>\n",
       "  <tbody>\n",
       "    <tr>\n",
       "      <th>0</th>\n",
       "      <td>http://www.phil.muni.cz/fil/scf/komplet/adam.html</td>\n",
       "      <td>Daniel Adam z Veleslavína</td>\n",
       "      <td>* 31. 8. 1546 Veleslavín u Prahy</td>\n",
       "      <td>† 18. 10. 1599 Praha</td>\n",
       "    </tr>\n",
       "    <tr>\n",
       "      <th>1</th>\n",
       "      <td>http://www.phil.muni.cz/fil/scf/komplet/adamik...</td>\n",
       "      <td>Richard Adamík</td>\n",
       "      <td>* 4. 4. 1867 Hranice na Moravě</td>\n",
       "      <td>† 15. 8. 1952</td>\n",
       "    </tr>\n",
       "    <tr>\n",
       "      <th>2</th>\n",
       "      <td>http://www.phil.muni.cz/fil/scf/komplet/albert...</td>\n",
       "      <td>František Albert</td>\n",
       "      <td>* 29. 4. 1856 Žamberk</td>\n",
       "      <td>† 22. 7. 1923 Potštejn</td>\n",
       "    </tr>\n",
       "    <tr>\n",
       "      <th>3</th>\n",
       "      <td>http://www.phil.muni.cz/fil/scf/komplet/albik....</td>\n",
       "      <td>Albík z Uničova</td>\n",
       "      <td>* asi 1358 Uničov</td>\n",
       "      <td>† 1427 Uhry</td>\n",
       "    </tr>\n",
       "    <tr>\n",
       "      <th>4</th>\n",
       "      <td>http://www.phil.muni.cz/fil/scf/komplet/alexej...</td>\n",
       "      <td>Nikolaj Alexejev</td>\n",
       "      <td>* 1. 5. 1879 Moskva</td>\n",
       "      <td>† 2. 3. 1964 Ženeva</td>\n",
       "    </tr>\n",
       "  </tbody>\n",
       "</table>\n",
       "</div>"
      ],
      "text/plain": [
       "                                                 url  \\\n",
       "0  http://www.phil.muni.cz/fil/scf/komplet/adam.html   \n",
       "1  http://www.phil.muni.cz/fil/scf/komplet/adamik...   \n",
       "2  http://www.phil.muni.cz/fil/scf/komplet/albert...   \n",
       "3  http://www.phil.muni.cz/fil/scf/komplet/albik....   \n",
       "4  http://www.phil.muni.cz/fil/scf/komplet/alexej...   \n",
       "\n",
       "                        name                             birth  \\\n",
       "0  Daniel Adam z Veleslavína  * 31. 8. 1546 Veleslavín u Prahy   \n",
       "1             Richard Adamík    * 4. 4. 1867 Hranice na Moravě   \n",
       "2           František Albert             * 29. 4. 1856 Žamberk   \n",
       "3            Albík z Uničova                 * asi 1358 Uničov   \n",
       "4           Nikolaj Alexejev               * 1. 5. 1879 Moskva   \n",
       "\n",
       "                    death  \n",
       "0    † 18. 10. 1599 Praha  \n",
       "1           † 15. 8. 1952  \n",
       "2  † 22. 7. 1923 Potštejn  \n",
       "3             † 1427 Uhry  \n",
       "4     † 2. 3. 1964 Ženeva  "
      ]
     },
     "execution_count": 18,
     "metadata": {},
     "output_type": "execute_result"
    }
   ],
   "source": [
    "slovnik_df = pd.read_csv(\"https://raw.githubusercontent.com/CCS-ZCU/pribehy-dat/master/data/slovnik_df.csv\")\n",
    "slovnik_df.head(5)"
   ]
  },
  {
   "cell_type": "markdown",
   "metadata": {
    "collapsed": false
   },
   "source": [
    "Ve sloupcích narození a smrt vidíme, že se zde datum a místo narození objevují vždy ve víceméně shodné podobě. Zajímá-li nás např. pouze rok narození či úmrtí, mohlo by nám postačit vyhledat v každém řetězci čtyřciferná čísla. Objevují se zde však i kompletní datumy a místní názvy, kde k těmto událostem došlo.\n",
    "\n",
    "Uvědomme si, že zde pracujeme  s objektem typu dataframe knihovny pandas. Některé věci je proto potřeba dělat trochu odlišně než na příkladech výše. Naše regexy si zabalíme do vlastních definovaných funkcí, které následně budeme aplikovat na všechny hodnoty ve vybraném sloupci najednou. Funkci níže budeme postupně upravovat tak, aby zachytila více a více zajímavýcj informací. Výhoda této funkce je, že v sobě má \"pojistku\" ve formě výjimku (try-except) pro situace, že se hledání nepovede, například z důvodu nevalidních vstupních dat - měli bychom se tedy vyhnout mnoha zbytečným chybovým hláškám."
   ]
  },
  {
   "cell_type": "code",
   "execution_count": 10,
   "metadata": {
    "ExecuteTime": {
     "end_time": "2024-01-20T21:54:57.627130Z",
     "start_time": "2024-01-20T21:54:57.487494Z"
    },
    "collapsed": false,
    "execution_time": 10
   },
   "outputs": [],
   "source": [
    "def our_regex_matcher(string, regex_pattern):\n",
    "    try:\n",
    "        return re.search(regex_pattern, string).group() \n",
    "    except:\n",
    "        return None"
   ]
  },
  {
   "cell_type": "markdown",
   "metadata": {
    "collapsed": false
   },
   "source": [
    "V této základní podobě funkce zachytí pouze čtyřciferné číslo, což v našem případě bude typicky letopočet: Funkci můžeme otestovat na hned první hodnotě ve sloupci \"birth\":"
   ]
  },
  {
   "cell_type": "code",
   "execution_count": 11,
   "metadata": {
    "ExecuteTime": {
     "end_time": "2024-01-20T21:54:57.849978Z",
     "start_time": "2024-01-20T21:54:57.845418Z"
    },
    "collapsed": false,
    "execution_time": 11
   },
   "outputs": [
    {
     "data": {
      "text/plain": [
       "'1546'"
      ]
     },
     "execution_count": 20,
     "metadata": {},
     "output_type": "execute_result"
    }
   ],
   "source": [
    "our_string = \"* 31. 8. 1546 Veleslavín u Prahy\"\n",
    "our_regex_matcher(our_string, \"\\d{4}\")"
   ]
  },
  {
   "cell_type": "markdown",
   "metadata": {
    "collapsed": false
   },
   "source": [
    "Nyní tuto funkci aplikujeme na všechny hodnoty v celém sloupci \"birth\" a \"death\" a výsledek přiřadíme dvěma novým sloupcům: \"birth_year\" a \"death_year\" "
   ]
  },
  {
   "cell_type": "code",
   "execution_count": 12,
   "metadata": {
    "ExecuteTime": {
     "end_time": "2024-01-20T21:54:58.533253Z",
     "start_time": "2024-01-20T21:54:58.423980Z"
    },
    "collapsed": false,
    "execution_time": 12
   },
   "outputs": [
    {
     "data": {
      "text/html": [
       "<div>\n",
       "<style scoped>\n",
       "    .dataframe tbody tr th:only-of-type {\n",
       "        vertical-align: middle;\n",
       "    }\n",
       "\n",
       "    .dataframe tbody tr th {\n",
       "        vertical-align: top;\n",
       "    }\n",
       "\n",
       "    .dataframe thead th {\n",
       "        text-align: right;\n",
       "    }\n",
       "</style>\n",
       "<table border=\"1\" class=\"dataframe\">\n",
       "  <thead>\n",
       "    <tr style=\"text-align: right;\">\n",
       "      <th></th>\n",
       "      <th>url</th>\n",
       "      <th>name</th>\n",
       "      <th>birth</th>\n",
       "      <th>death</th>\n",
       "      <th>birth_year</th>\n",
       "      <th>death_year</th>\n",
       "    </tr>\n",
       "  </thead>\n",
       "  <tbody>\n",
       "    <tr>\n",
       "      <th>0</th>\n",
       "      <td>http://www.phil.muni.cz/fil/scf/komplet/adam.html</td>\n",
       "      <td>Daniel Adam z Veleslavína</td>\n",
       "      <td>* 31. 8. 1546 Veleslavín u Prahy</td>\n",
       "      <td>† 18. 10. 1599 Praha</td>\n",
       "      <td>1546</td>\n",
       "      <td>1599</td>\n",
       "    </tr>\n",
       "    <tr>\n",
       "      <th>1</th>\n",
       "      <td>http://www.phil.muni.cz/fil/scf/komplet/adamik...</td>\n",
       "      <td>Richard Adamík</td>\n",
       "      <td>* 4. 4. 1867 Hranice na Moravě</td>\n",
       "      <td>† 15. 8. 1952</td>\n",
       "      <td>1867</td>\n",
       "      <td>1952</td>\n",
       "    </tr>\n",
       "    <tr>\n",
       "      <th>2</th>\n",
       "      <td>http://www.phil.muni.cz/fil/scf/komplet/albert...</td>\n",
       "      <td>František Albert</td>\n",
       "      <td>* 29. 4. 1856 Žamberk</td>\n",
       "      <td>† 22. 7. 1923 Potštejn</td>\n",
       "      <td>1856</td>\n",
       "      <td>1923</td>\n",
       "    </tr>\n",
       "    <tr>\n",
       "      <th>3</th>\n",
       "      <td>http://www.phil.muni.cz/fil/scf/komplet/albik....</td>\n",
       "      <td>Albík z Uničova</td>\n",
       "      <td>* asi 1358 Uničov</td>\n",
       "      <td>† 1427 Uhry</td>\n",
       "      <td>1358</td>\n",
       "      <td>1427</td>\n",
       "    </tr>\n",
       "    <tr>\n",
       "      <th>4</th>\n",
       "      <td>http://www.phil.muni.cz/fil/scf/komplet/alexej...</td>\n",
       "      <td>Nikolaj Alexejev</td>\n",
       "      <td>* 1. 5. 1879 Moskva</td>\n",
       "      <td>† 2. 3. 1964 Ženeva</td>\n",
       "      <td>1879</td>\n",
       "      <td>1964</td>\n",
       "    </tr>\n",
       "    <tr>\n",
       "      <th>5</th>\n",
       "      <td>http://www.phil.muni.cz/fil/scf/komplet/altr.html</td>\n",
       "      <td>Michal Altrichter</td>\n",
       "      <td>* 19. 6. 1965 Kopřivnice</td>\n",
       "      <td>NaN</td>\n",
       "      <td>1965</td>\n",
       "      <td>None</td>\n",
       "    </tr>\n",
       "    <tr>\n",
       "      <th>6</th>\n",
       "      <td>http://www.phil.muni.cz/fil/scf/komplet/amerl....</td>\n",
       "      <td>Karel Slavomil Amerling</td>\n",
       "      <td>* 18. 9. 1807 Klatovy</td>\n",
       "      <td>† 2. 11. 1884 Praha</td>\n",
       "      <td>1807</td>\n",
       "      <td>1884</td>\n",
       "    </tr>\n",
       "    <tr>\n",
       "      <th>7</th>\n",
       "      <td>http://www.phil.muni.cz/fil/scf/komplet/armbrs...</td>\n",
       "      <td>Ludvík Armbruster</td>\n",
       "      <td>NaN</td>\n",
       "      <td>NaN</td>\n",
       "      <td>None</td>\n",
       "      <td>None</td>\n",
       "    </tr>\n",
       "    <tr>\n",
       "      <th>8</th>\n",
       "      <td>http://www.phil.muni.cz/fil/scf/komplet/arnold...</td>\n",
       "      <td>Emanuel Arnold</td>\n",
       "      <td>* 9. 11. 1800 Mnichovo Hradiště</td>\n",
       "      <td>† 4. 1. 1869 Praha</td>\n",
       "      <td>1800</td>\n",
       "      <td>1869</td>\n",
       "    </tr>\n",
       "    <tr>\n",
       "      <th>9</th>\n",
       "      <td>http://www.phil.muni.cz/fil/scf/komplet/ariaga...</td>\n",
       "      <td>Rodrigo de Arriaga</td>\n",
       "      <td>* 1592 Logroňo</td>\n",
       "      <td>† 1667 Praha</td>\n",
       "      <td>1592</td>\n",
       "      <td>1667</td>\n",
       "    </tr>\n",
       "  </tbody>\n",
       "</table>\n",
       "</div>"
      ],
      "text/plain": [
       "                                                 url  \\\n",
       "0  http://www.phil.muni.cz/fil/scf/komplet/adam.html   \n",
       "1  http://www.phil.muni.cz/fil/scf/komplet/adamik...   \n",
       "2  http://www.phil.muni.cz/fil/scf/komplet/albert...   \n",
       "3  http://www.phil.muni.cz/fil/scf/komplet/albik....   \n",
       "4  http://www.phil.muni.cz/fil/scf/komplet/alexej...   \n",
       "5  http://www.phil.muni.cz/fil/scf/komplet/altr.html   \n",
       "6  http://www.phil.muni.cz/fil/scf/komplet/amerl....   \n",
       "7  http://www.phil.muni.cz/fil/scf/komplet/armbrs...   \n",
       "8  http://www.phil.muni.cz/fil/scf/komplet/arnold...   \n",
       "9  http://www.phil.muni.cz/fil/scf/komplet/ariaga...   \n",
       "\n",
       "                        name                             birth  \\\n",
       "0  Daniel Adam z Veleslavína  * 31. 8. 1546 Veleslavín u Prahy   \n",
       "1             Richard Adamík    * 4. 4. 1867 Hranice na Moravě   \n",
       "2           František Albert             * 29. 4. 1856 Žamberk   \n",
       "3            Albík z Uničova                 * asi 1358 Uničov   \n",
       "4           Nikolaj Alexejev               * 1. 5. 1879 Moskva   \n",
       "5          Michal Altrichter          * 19. 6. 1965 Kopřivnice   \n",
       "6    Karel Slavomil Amerling             * 18. 9. 1807 Klatovy   \n",
       "7          Ludvík Armbruster                               NaN   \n",
       "8             Emanuel Arnold   * 9. 11. 1800 Mnichovo Hradiště   \n",
       "9         Rodrigo de Arriaga                    * 1592 Logroňo   \n",
       "\n",
       "                    death birth_year death_year  \n",
       "0    † 18. 10. 1599 Praha       1546       1599  \n",
       "1           † 15. 8. 1952       1867       1952  \n",
       "2  † 22. 7. 1923 Potštejn       1856       1923  \n",
       "3             † 1427 Uhry       1358       1427  \n",
       "4     † 2. 3. 1964 Ženeva       1879       1964  \n",
       "5                     NaN       1965       None  \n",
       "6     † 2. 11. 1884 Praha       1807       1884  \n",
       "7                     NaN       None       None  \n",
       "8      † 4. 1. 1869 Praha       1800       1869  \n",
       "9            † 1667 Praha       1592       1667  "
      ]
     },
     "execution_count": 21,
     "metadata": {},
     "output_type": "execute_result"
    }
   ],
   "source": [
    "slovnik_df[\"birth_year\"] = slovnik_df['birth'].apply(our_regex_matcher, args=(\"\\d{4}\",))\n",
    "slovnik_df[\"death_year\"] = slovnik_df['death'].apply(our_regex_matcher, args=(\"\\d{4}\",))  # \n",
    "# vypíšeme si prvních 10 řádek dataframu\"\n",
    "slovnik_df.head(10)\n"
   ]
  },
  {
   "cell_type": "markdown",
   "metadata": {
    "collapsed": false
   },
   "source": [
    "Ač to na první pohlede není zřejmé, naše sloupce s letopočty obsahují ve skutečnosti proměnné typu string. Takže si je ještě převedeme na čísla."
   ]
  },
  {
   "cell_type": "code",
   "execution_count": 13,
   "metadata": {
    "ExecuteTime": {
     "end_time": "2024-01-20T21:54:58.775298Z",
     "start_time": "2024-01-20T21:54:58.768736Z"
    },
    "collapsed": false,
    "execution_time": 13
   },
   "outputs": [],
   "source": [
    "slovnik_df[\"birth_year\"] = slovnik_df[\"birth_year\"].apply(lambda x: int(x) if x != None else None)\n",
    "slovnik_df[\"death_year\"] = slovnik_df[\"death_year\"].apply(lambda x: int(x) if x != None else None)"
   ]
  },
  {
   "cell_type": "markdown",
   "metadata": {
    "collapsed": false
   },
   "source": [
    "Takto naformátované letopočty již umožňují časové temporální analýzy. Například se můžeme podívat na distribuci narození od 18. století do současnosti po dekádách. "
   ]
  },
  {
   "cell_type": "code",
   "execution_count": 14,
   "metadata": {
    "ExecuteTime": {
     "end_time": "2024-01-20T21:54:59.788942Z",
     "start_time": "2024-01-20T21:54:59.636804Z"
    },
    "collapsed": false,
    "execution_time": 14
   },
   "outputs": [
    {
     "data": {
      "text/plain": [
       "(1801.0, 2000.0)"
      ]
     },
     "execution_count": 23,
     "metadata": {},
     "output_type": "execute_result"
    },
    {
     "data": {
      "image/png": "[encoded data removed]",
      "text/plain": [
       "<Figure size 640x480 with 1 Axes>"
      ]
     },
     "metadata": {},
     "output_type": "display_data"
    }
   ],
   "source": [
    "fig, ax = plt.subplots()\n",
    "slovnik_df[\"birth_year\"].hist(bins=range(1800, 2000, 10), ax=ax)\n",
    "ax.set_xlim(1801,2000)"
   ]
  },
  {
   "cell_type": "markdown",
   "metadata": {
    "collapsed": false
   },
   "source": [
    "Vidíme zde, že nezanedbatelný počet filozofů zahrnutých ve slovníku se narodil ve 20. letech 20. století. To nemusí nutně znamenat, že by se v této dekádě rodilo více filozofických talentů, ale může to být dáno zaměřením autorů SLovníku, kteří věnovali zvláštní pozornost osobnostem své a bezprostředně předcházející generace. "
   ]
  },
  {
   "cell_type": "markdown",
   "metadata": {
    "collapsed": false
   },
   "source": [
    "Ve sloupcích \"birth\" a \"death\" se ve většině případů nachází i informace o tom, kde k těmto událostem došlo. Tato informace se nachází bezprostředně za letopočtem a mezerou. Opět ji můžeme vyxetrahovat pomocí regexu. Vytvoříme si proto však samostatnou funkci:"
   ]
  },
  {
   "cell_type": "code",
   "execution_count": 15,
   "metadata": {
    "ExecuteTime": {
     "end_time": "2024-01-20T21:55:01.125401Z",
     "start_time": "2024-01-20T21:55:01.122556Z"
    },
    "collapsed": false,
    "execution_time": 15
   },
   "outputs": [],
   "source": [
    "def get_place(string, regex_pattern=\"(\\d{4})(\\s)(.+)\"):\n",
    "    try:\n",
    "        return re.search(regex_pattern, string).groups()[2]\n",
    "    except:\n",
    "        return None"
   ]
  },
  {
   "cell_type": "code",
   "execution_count": 16,
   "metadata": {
    "ExecuteTime": {
     "end_time": "2024-01-20T21:55:01.596097Z",
     "start_time": "2024-01-20T21:55:01.582376Z"
    },
    "collapsed": false,
    "execution_time": 16
   },
   "outputs": [
    {
     "data": {
      "text/plain": [
       "'Veleslavín u Prahy'"
      ]
     },
     "execution_count": 25,
     "metadata": {},
     "output_type": "execute_result"
    }
   ],
   "source": [
    "our_string = \"* 31. 8. 1546 Veleslavín u Prahy\"\n",
    "get_place(our_string)"
   ]
  },
  {
   "cell_type": "code",
   "execution_count": 17,
   "metadata": {
    "ExecuteTime": {
     "end_time": "2024-01-20T21:55:01.907438Z",
     "start_time": "2024-01-20T21:55:01.893121Z"
    },
    "collapsed": false,
    "execution_time": 17
   },
   "outputs": [
    {
     "data": {
      "text/html": [
       "<div>\n",
       "<style scoped>\n",
       "    .dataframe tbody tr th:only-of-type {\n",
       "        vertical-align: middle;\n",
       "    }\n",
       "\n",
       "    .dataframe tbody tr th {\n",
       "        vertical-align: top;\n",
       "    }\n",
       "\n",
       "    .dataframe thead th {\n",
       "        text-align: right;\n",
       "    }\n",
       "</style>\n",
       "<table border=\"1\" class=\"dataframe\">\n",
       "  <thead>\n",
       "    <tr style=\"text-align: right;\">\n",
       "      <th></th>\n",
       "      <th>url</th>\n",
       "      <th>name</th>\n",
       "      <th>birth</th>\n",
       "      <th>death</th>\n",
       "      <th>birth_year</th>\n",
       "      <th>death_year</th>\n",
       "      <th>birth_place</th>\n",
       "      <th>death_place</th>\n",
       "    </tr>\n",
       "  </thead>\n",
       "  <tbody>\n",
       "    <tr>\n",
       "      <th>0</th>\n",
       "      <td>http://www.phil.muni.cz/fil/scf/komplet/adam.html</td>\n",
       "      <td>Daniel Adam z Veleslavína</td>\n",
       "      <td>* 31. 8. 1546 Veleslavín u Prahy</td>\n",
       "      <td>† 18. 10. 1599 Praha</td>\n",
       "      <td>1546.0</td>\n",
       "      <td>1599.0</td>\n",
       "      <td>Veleslavín u Prahy</td>\n",
       "      <td>Praha</td>\n",
       "    </tr>\n",
       "    <tr>\n",
       "      <th>1</th>\n",
       "      <td>http://www.phil.muni.cz/fil/scf/komplet/adamik...</td>\n",
       "      <td>Richard Adamík</td>\n",
       "      <td>* 4. 4. 1867 Hranice na Moravě</td>\n",
       "      <td>† 15. 8. 1952</td>\n",
       "      <td>1867.0</td>\n",
       "      <td>1952.0</td>\n",
       "      <td>Hranice na Moravě</td>\n",
       "      <td>None</td>\n",
       "    </tr>\n",
       "    <tr>\n",
       "      <th>2</th>\n",
       "      <td>http://www.phil.muni.cz/fil/scf/komplet/albert...</td>\n",
       "      <td>František Albert</td>\n",
       "      <td>* 29. 4. 1856 Žamberk</td>\n",
       "      <td>† 22. 7. 1923 Potštejn</td>\n",
       "      <td>1856.0</td>\n",
       "      <td>1923.0</td>\n",
       "      <td>Žamberk</td>\n",
       "      <td>Potštejn</td>\n",
       "    </tr>\n",
       "    <tr>\n",
       "      <th>3</th>\n",
       "      <td>http://www.phil.muni.cz/fil/scf/komplet/albik....</td>\n",
       "      <td>Albík z Uničova</td>\n",
       "      <td>* asi 1358 Uničov</td>\n",
       "      <td>† 1427 Uhry</td>\n",
       "      <td>1358.0</td>\n",
       "      <td>1427.0</td>\n",
       "      <td>Uničov</td>\n",
       "      <td>Uhry</td>\n",
       "    </tr>\n",
       "    <tr>\n",
       "      <th>4</th>\n",
       "      <td>http://www.phil.muni.cz/fil/scf/komplet/alexej...</td>\n",
       "      <td>Nikolaj Alexejev</td>\n",
       "      <td>* 1. 5. 1879 Moskva</td>\n",
       "      <td>† 2. 3. 1964 Ženeva</td>\n",
       "      <td>1879.0</td>\n",
       "      <td>1964.0</td>\n",
       "      <td>Moskva</td>\n",
       "      <td>Ženeva</td>\n",
       "    </tr>\n",
       "  </tbody>\n",
       "</table>\n",
       "</div>"
      ],
      "text/plain": [
       "                                                 url  \\\n",
       "0  http://www.phil.muni.cz/fil/scf/komplet/adam.html   \n",
       "1  http://www.phil.muni.cz/fil/scf/komplet/adamik...   \n",
       "2  http://www.phil.muni.cz/fil/scf/komplet/albert...   \n",
       "3  http://www.phil.muni.cz/fil/scf/komplet/albik....   \n",
       "4  http://www.phil.muni.cz/fil/scf/komplet/alexej...   \n",
       "\n",
       "                        name                             birth  \\\n",
       "0  Daniel Adam z Veleslavína  * 31. 8. 1546 Veleslavín u Prahy   \n",
       "1             Richard Adamík    * 4. 4. 1867 Hranice na Moravě   \n",
       "2           František Albert             * 29. 4. 1856 Žamberk   \n",
       "3            Albík z Uničova                 * asi 1358 Uničov   \n",
       "4           Nikolaj Alexejev               * 1. 5. 1879 Moskva   \n",
       "\n",
       "                    death  birth_year  death_year         birth_place  \\\n",
       "0    † 18. 10. 1599 Praha      1546.0      1599.0  Veleslavín u Prahy   \n",
       "1           † 15. 8. 1952      1867.0      1952.0   Hranice na Moravě   \n",
       "2  † 22. 7. 1923 Potštejn      1856.0      1923.0             Žamberk   \n",
       "3             † 1427 Uhry      1358.0      1427.0              Uničov   \n",
       "4     † 2. 3. 1964 Ženeva      1879.0      1964.0              Moskva   \n",
       "\n",
       "  death_place  \n",
       "0       Praha  \n",
       "1        None  \n",
       "2    Potštejn  \n",
       "3        Uhry  \n",
       "4      Ženeva  "
      ]
     },
     "execution_count": 26,
     "metadata": {},
     "output_type": "execute_result"
    }
   ],
   "source": [
    "slovnik_df[\"birth_place\"] = slovnik_df[\"birth\"].apply(get_place)\n",
    "slovnik_df[\"death_place\"] = slovnik_df[\"death\"].apply(get_place)\n",
    "slovnik_df.head(5)"
   ]
  },
  {
   "cell_type": "markdown",
   "metadata": {
    "collapsed": false
   },
   "source": [
    "Máme-li místa narození a úmrtí takto v samostatné podobě, můžeme se pro přehled opět podívat na jejich distribuci:"
   ]
  },
  {
   "cell_type": "code",
   "execution_count": 18,
   "metadata": {
    "ExecuteTime": {
     "end_time": "2024-01-20T21:55:03.070067Z",
     "start_time": "2024-01-20T21:55:03.063379Z"
    },
    "collapsed": false,
    "execution_time": 18
   },
   "outputs": [
    {
     "data": {
      "text/plain": [
       "birth_place\n",
       "Praha                                   140\n",
       "Brno                                     37\n",
       "Plzeň                                    14\n",
       "Olomouc                                  11\n",
       "Bratislava                                6\n",
       "                                       ... \n",
       "Žďárky u Náchoda                          1\n",
       "Vratislav                                 1\n",
       "Dřenice u Chrudimi                        1\n",
       "Frenštát p. Radhoštěm                     1\n",
       "Dolní Rozsíčka, okr. Žďár n. Sázavou      1\n",
       "Name: count, Length: 440, dtype: int64"
      ]
     },
     "execution_count": 27,
     "metadata": {},
     "output_type": "execute_result"
    }
   ],
   "source": [
    "slovnik_df[\"birth_place\"].value_counts()"
   ]
  },
  {
   "cell_type": "code",
   "execution_count": 19,
   "metadata": {
    "ExecuteTime": {
     "end_time": "2024-01-20T21:55:05.554664Z",
     "start_time": "2024-01-20T21:55:05.552017Z"
    },
    "collapsed": false,
    "execution_time": 19
   },
   "outputs": [
    {
     "data": {
      "text/plain": [
       "death_place\n",
       "Praha                  225\n",
       "Brno                    59\n",
       "Bratislava              19\n",
       "Olomouc                 13\n",
       "Vídeň                   11\n",
       "                      ... \n",
       "Metánov                  1\n",
       "Uherský Brod             1\n",
       "Basilej, Švýcarsko       1\n",
       "Konstanz (Kostnice)      1\n",
       "Netunno (Itálie)         1\n",
       "Name: count, Length: 194, dtype: int64"
      ]
     },
     "execution_count": 28,
     "metadata": {},
     "output_type": "execute_result"
    }
   ],
   "source": [
    "slovnik_df[\"death_place\"].value_counts()"
   ]
  },
  {
   "cell_type": "markdown",
   "metadata": {
    "collapsed": false
   },
   "source": [
    "# Rozšiřující analýza: Automatické geokódováníí míst narození a úmrtí  "
   ]
  },
  {
   "cell_type": "markdown",
   "metadata": {
    "collapsed": false
   },
   "source": [
    "Prostorovou informaci nyní máme pouze v podobě textu. Tento formát nám však neumožňuje studovat prostorové distribuce a vztahy pomocí metod **GIS** (viz samostatná kapitola na toto téma, kde se k těmto datům možná vrátíme.\n",
    "\n",
    "Abychom s našimi daty mohli takto pracovat, je třeba je tzv. geokódovat, tj. opatřit je koordináty zeměpisné šířky a délky. Toho lze dosáhnout buď *manuálně*, postupným procházením jednotlivých místních názvů a dohledávání jich v mapě, a nebo *automaticky*. Pro automatické vyhledávání koordinátů pro místní názvy se nabízí platforma https://www.geonames.org, která disponuje i jednoduchým **API** (viz kapitola o API).\n",
    "\n",
    "Nejprve si vytvořme si seznam všech unikátních míst v obou sloupcích:"
   ]
  },
  {
   "cell_type": "code",
   "execution_count": 20,
   "metadata": {
    "ExecuteTime": {
     "end_time": "2024-01-20T22:22:00.512968Z",
     "start_time": "2024-01-20T22:22:00.509174Z"
    },
    "collapsed": false,
    "execution_time": 20
   },
   "outputs": [
    {
     "data": {
      "text/plain": [
       "584"
      ]
     },
     "execution_count": 46,
     "metadata": {},
     "output_type": "execute_result"
    }
   ],
   "source": [
    "places_unique = [el for el in set(list(slovnik_df[\"death_place\"]) + list(slovnik_df[\"birth_place\"])) if el != None]\n",
    "len(places_unique)"
   ]
  },
  {
   "cell_type": "markdown",
   "metadata": {
    "collapsed": false
   },
   "source": [
    "Vidíme, že máme co do činění s 584 unikátními místními názvy. Pro zkoušku si vypíšeme 10 z nich:"
   ]
  },
  {
   "cell_type": "code",
   "execution_count": 21,
   "metadata": {
    "ExecuteTime": {
     "end_time": "2024-01-20T22:22:52.492250Z",
     "start_time": "2024-01-20T22:22:52.484923Z"
    },
    "collapsed": false,
    "execution_time": 21
   },
   "outputs": [
    {
     "data": {
      "text/plain": [
       "['Přerov',\n",
       " 'Praha-Břevnov',\n",
       " 'Žilina',\n",
       " 'Lomnice n. Popelkou',\n",
       " 'Potštejn',\n",
       " 'Bergen-Belsen',\n",
       " 'Praha – Staré Město',\n",
       " 'Šeletice u Mladé Boleslavi',\n",
       " 'Polešovice u Uherského Hradiště',\n",
       " 'Lomnice nad Lužnicí']"
      ]
     },
     "execution_count": 48,
     "metadata": {},
     "output_type": "execute_result"
    }
   ],
   "source": [
    "places_unique[:10]"
   ]
  },
  {
   "cell_type": "markdown",
   "metadata": {
    "collapsed": false
   },
   "source": [
    "Nyní můžeme navštívit webovou stránku https://www.geonames.org a vytvořit si na ni účet. Účet si aktivujeme a především pro něj umožňíme používání \"free webservices\" (jinak nám api nebude fungovat). \n",
    "\n",
    "(V případě, že si např. z důvodu časové tísně nechceme účet vytvořit, následující tři buňky přeskočíme a načteme si již mnou předem získaná data.)"
   ]
  },
  {
   "cell_type": "code",
   "execution_count": 22,
   "metadata": {
    "ExecuteTime": {
     "end_time": "2024-01-20T21:59:07.266892Z",
     "start_time": "2024-01-20T21:59:04.728664Z"
    },
    "collapsed": false,
    "execution_time": 22
   },
   "outputs": [],
   "source": [
    "# zadáme naše uživatelské jméno\n",
    "user = getpass(\"Enter your geonames username: \")"
   ]
  },
  {
   "cell_type": "markdown",
   "metadata": {
    "collapsed": false
   },
   "source": [
    "Níže jako hodnotu proměnné `place_string` na zkooušku zadáme název náhodně zvoleného místa. V případě, že vše funguje správně (tj. zejména že máme funkční a aktivovaný geonames účet a že jsme zvolili místní název, se kterým si platforma geonames umí poradit), buňka nám vypíše geografické koordináty:"
   ]
  },
  {
   "cell_type": "code",
   "execution_count": 23,
   "metadata": {
    "ExecuteTime": {
     "end_time": "2024-01-20T22:27:16.303102Z",
     "start_time": "2024-01-20T22:27:14.828336Z"
    },
    "collapsed": false,
    "execution_time": 23
   },
   "outputs": [
    {
     "name": "stdout",
     "output_type": "stream",
     "text": [
      "49.74747 13.37759\n"
     ]
    }
   ],
   "source": [
    "\n",
    "place_string = \"Plzeň\"\n",
    "resp = requests.get(\"http://api.geonames.org/search?q={0}&username={1}\".format(place_string, user))\n",
    "soup = BeautifulSoup(resp.content, \"xml\")\n",
    "lat, lng = soup.geoname.lat.string, soup.geoname.lng.string\n",
    "print(lat, lng)"
   ]
  },
  {
   "cell_type": "markdown",
   "metadata": {
    "collapsed": false
   },
   "source": [
    "Stejnou postup můžeme nyní aplikovat na všech 584 unikátních míst ze Slovníku. Jinými slovy, vzneseme 584 HTTP dotazů a v datech odpovědi se pokusíme identifikovat údaje o zeměpisné šířce a délce. Tato data budeme postupně přidávat do objektu `places_unique_dict` typu `dict` - klíčem bude vždy daný zeměpisný název a hodnotou příslušné koordináty."
   ]
  },
  {
   "cell_type": "code",
   "execution_count": 24,
   "metadata": {
    "ExecuteTime": {
     "end_time": "2024-01-20T22:03:59.473338Z",
     "start_time": "2024-01-20T22:03:21.698826Z"
    },
    "collapsed": false,
    "execution_time": 24
   },
   "outputs": [],
   "source": [
    "places_unique_dict = {}\n",
    "for place in places_unique:\n",
    "    resp = requests.get(\"http://api.geonames.org/search?q={0}&username={1}\".format(place.partition(\" (\")[0], user))\n",
    "    try:\n",
    "        soup = BeautifulSoup(resp.content, \"xml\")\n",
    "        lat, lng = soup.geoname.lat.string, soup.geoname.lng.string\n",
    "        places_unique_dict[place] = (lat, lng)\n",
    "    except:\n",
    "        pass"
   ]
  },
  {
   "cell_type": "markdown",
   "metadata": {
    "collapsed": false
   },
   "source": [
    "Pro kolik míst jsme úspěšně získali nějaké koordináty?"
   ]
  },
  {
   "cell_type": "code",
   "execution_count": 25,
   "metadata": {
    "ExecuteTime": {
     "end_time": "2024-01-20T22:30:46.850618Z",
     "start_time": "2024-01-20T22:30:46.837744Z"
    },
    "collapsed": false,
    "execution_time": 25
   },
   "outputs": [
    {
     "data": {
      "text/plain": [
       "409"
      ]
     },
     "execution_count": 50,
     "metadata": {},
     "output_type": "execute_result"
    }
   ],
   "source": [
    "len(places_unique_dict)"
   ]
  },
  {
   "cell_type": "code",
   "execution_count": 26,
   "metadata": {
    "ExecuteTime": {
     "end_time": "2024-01-20T22:13:17.779869Z",
     "start_time": "2024-01-20T22:13:17.762231Z"
    },
    "collapsed": false,
    "execution_time": 26
   },
   "outputs": [],
   "source": [
    "# v případě, že pracujeme lokálně s repozitoří jako celkem, tak si data můžeme uložit pro další použití\n",
    "#with open(\"../data/jsonplaces_unique_dict.json\", 'w') as json_file:\n",
    "#    json.dump(places_unique_dict, json_file)"
   ]
  },
  {
   "cell_type": "markdown",
   "metadata": {
    "collapsed": false
   },
   "source": [
    "Pokud jsme buňkami výše z neprošli (např. protože se nám nepodařilo aktivivovat účet, načteme si data v následující buňce tak, že odstraníme hashtag na začátku řádky a buňku spustíme."
   ]
  },
  {
   "cell_type": "code",
   "execution_count": 27,
   "metadata": {
    "ExecuteTime": {
     "end_time": "2024-01-20T22:35:45.326120Z",
     "start_time": "2024-01-20T22:35:45.310513Z"
    },
    "collapsed": false,
    "execution_time": 27
   },
   "outputs": [],
   "source": [
    "# places_unique_dict = requests.get(\"https://raw.githubusercontent.com/CCS-ZCU/pribehy-dat/master/data/jsonplaces_unique_dict.json\").json()"
   ]
  },
  {
   "cell_type": "markdown",
   "metadata": {
    "collapsed": false
   },
   "source": [
    "Tato data nyní takříkajíc namapujeme na naše tabulková data k jednotlivým filozofům. Vytvoříme dva nové atributy: \"birth_latlong\" a \"death_latlong\".  "
   ]
  },
  {
   "cell_type": "code",
   "execution_count": 28,
   "metadata": {
    "ExecuteTime": {
     "end_time": "2024-01-20T22:32:27.289458Z",
     "start_time": "2024-01-20T22:32:27.284466Z"
    },
    "collapsed": false,
    "execution_time": 28
   },
   "outputs": [],
   "source": [
    "slovnik_df[\"birth_latlong\"] = slovnik_df[\"birth_place\"].apply(lambda x: places_unique_dict[x] if x in places_unique_dict.keys() else None)\n",
    "slovnik_df[\"death_latlong\"] = slovnik_df[\"death_place\"].apply(lambda x: places_unique_dict[x] if x in places_unique_dict.keys() else None)"
   ]
  },
  {
   "cell_type": "code",
   "execution_count": 29,
   "metadata": {
    "ExecuteTime": {
     "end_time": "2024-01-20T22:15:25.976917Z",
     "start_time": "2024-01-20T22:15:25.963053Z"
    },
    "collapsed": false,
    "execution_time": 29
   },
   "outputs": [
    {
     "data": {
      "text/html": [
       "<div>\n",
       "<style scoped>\n",
       "    .dataframe tbody tr th:only-of-type {\n",
       "        vertical-align: middle;\n",
       "    }\n",
       "\n",
       "    .dataframe tbody tr th {\n",
       "        vertical-align: top;\n",
       "    }\n",
       "\n",
       "    .dataframe thead th {\n",
       "        text-align: right;\n",
       "    }\n",
       "</style>\n",
       "<table border=\"1\" class=\"dataframe\">\n",
       "  <thead>\n",
       "    <tr style=\"text-align: right;\">\n",
       "      <th></th>\n",
       "      <th>url</th>\n",
       "      <th>name</th>\n",
       "      <th>birth</th>\n",
       "      <th>death</th>\n",
       "      <th>birth_year</th>\n",
       "      <th>death_year</th>\n",
       "      <th>birth_place</th>\n",
       "      <th>death_place</th>\n",
       "      <th>birth_latlong</th>\n",
       "      <th>death_latlong</th>\n",
       "    </tr>\n",
       "  </thead>\n",
       "  <tbody>\n",
       "    <tr>\n",
       "      <th>0</th>\n",
       "      <td>http://www.phil.muni.cz/fil/scf/komplet/adam.html</td>\n",
       "      <td>Daniel Adam z Veleslavína</td>\n",
       "      <td>* 31. 8. 1546 Veleslavín u Prahy</td>\n",
       "      <td>† 18. 10. 1599 Praha</td>\n",
       "      <td>1546.0</td>\n",
       "      <td>1599.0</td>\n",
       "      <td>Veleslavín u Prahy</td>\n",
       "      <td>Praha</td>\n",
       "      <td>None</td>\n",
       "      <td>(50.08804, 14.42076)</td>\n",
       "    </tr>\n",
       "    <tr>\n",
       "      <th>1</th>\n",
       "      <td>http://www.phil.muni.cz/fil/scf/komplet/adamik...</td>\n",
       "      <td>Richard Adamík</td>\n",
       "      <td>* 4. 4. 1867 Hranice na Moravě</td>\n",
       "      <td>† 15. 8. 1952</td>\n",
       "      <td>1867.0</td>\n",
       "      <td>1952.0</td>\n",
       "      <td>Hranice na Moravě</td>\n",
       "      <td>None</td>\n",
       "      <td>(49.54796, 17.73469)</td>\n",
       "      <td>None</td>\n",
       "    </tr>\n",
       "    <tr>\n",
       "      <th>2</th>\n",
       "      <td>http://www.phil.muni.cz/fil/scf/komplet/albert...</td>\n",
       "      <td>František Albert</td>\n",
       "      <td>* 29. 4. 1856 Žamberk</td>\n",
       "      <td>† 22. 7. 1923 Potštejn</td>\n",
       "      <td>1856.0</td>\n",
       "      <td>1923.0</td>\n",
       "      <td>Žamberk</td>\n",
       "      <td>Potštejn</td>\n",
       "      <td>(50.08601, 16.46738)</td>\n",
       "      <td>(50.08209, 16.30892)</td>\n",
       "    </tr>\n",
       "    <tr>\n",
       "      <th>3</th>\n",
       "      <td>http://www.phil.muni.cz/fil/scf/komplet/albik....</td>\n",
       "      <td>Albík z Uničova</td>\n",
       "      <td>* asi 1358 Uničov</td>\n",
       "      <td>† 1427 Uhry</td>\n",
       "      <td>1358.0</td>\n",
       "      <td>1427.0</td>\n",
       "      <td>Uničov</td>\n",
       "      <td>Uhry</td>\n",
       "      <td>(49.77092, 17.12144)</td>\n",
       "      <td>(49.72982, 23.61574)</td>\n",
       "    </tr>\n",
       "    <tr>\n",
       "      <th>4</th>\n",
       "      <td>http://www.phil.muni.cz/fil/scf/komplet/alexej...</td>\n",
       "      <td>Nikolaj Alexejev</td>\n",
       "      <td>* 1. 5. 1879 Moskva</td>\n",
       "      <td>† 2. 3. 1964 Ženeva</td>\n",
       "      <td>1879.0</td>\n",
       "      <td>1964.0</td>\n",
       "      <td>Moskva</td>\n",
       "      <td>Ženeva</td>\n",
       "      <td>(55.75222, 37.61556)</td>\n",
       "      <td>(46.20222, 6.14569)</td>\n",
       "    </tr>\n",
       "  </tbody>\n",
       "</table>\n",
       "</div>"
      ],
      "text/plain": [
       "                                                 url  \\\n",
       "0  http://www.phil.muni.cz/fil/scf/komplet/adam.html   \n",
       "1  http://www.phil.muni.cz/fil/scf/komplet/adamik...   \n",
       "2  http://www.phil.muni.cz/fil/scf/komplet/albert...   \n",
       "3  http://www.phil.muni.cz/fil/scf/komplet/albik....   \n",
       "4  http://www.phil.muni.cz/fil/scf/komplet/alexej...   \n",
       "\n",
       "                        name                             birth  \\\n",
       "0  Daniel Adam z Veleslavína  * 31. 8. 1546 Veleslavín u Prahy   \n",
       "1             Richard Adamík    * 4. 4. 1867 Hranice na Moravě   \n",
       "2           František Albert             * 29. 4. 1856 Žamberk   \n",
       "3            Albík z Uničova                 * asi 1358 Uničov   \n",
       "4           Nikolaj Alexejev               * 1. 5. 1879 Moskva   \n",
       "\n",
       "                    death  birth_year  death_year         birth_place  \\\n",
       "0    † 18. 10. 1599 Praha      1546.0      1599.0  Veleslavín u Prahy   \n",
       "1           † 15. 8. 1952      1867.0      1952.0   Hranice na Moravě   \n",
       "2  † 22. 7. 1923 Potštejn      1856.0      1923.0             Žamberk   \n",
       "3             † 1427 Uhry      1358.0      1427.0              Uničov   \n",
       "4     † 2. 3. 1964 Ženeva      1879.0      1964.0              Moskva   \n",
       "\n",
       "  death_place         birth_latlong         death_latlong  \n",
       "0       Praha                  None  (50.08804, 14.42076)  \n",
       "1        None  (49.54796, 17.73469)                  None  \n",
       "2    Potštejn  (50.08601, 16.46738)  (50.08209, 16.30892)  \n",
       "3        Uhry  (49.77092, 17.12144)  (49.72982, 23.61574)  \n",
       "4      Ženeva  (55.75222, 37.61556)   (46.20222, 6.14569)  "
      ]
     },
     "execution_count": 44,
     "metadata": {},
     "output_type": "execute_result"
    }
   ],
   "source": [
    "slovnik_df.head(5)"
   ]
  },
  {
   "cell_type": "code",
   "execution_count": 30,
   "metadata": {
    "ExecuteTime": {
     "end_time": "2024-01-20T22:17:08.471108Z",
     "start_time": "2024-01-20T22:17:08.456058Z"
    },
    "collapsed": false,
    "execution_time": 30
   },
   "outputs": [],
   "source": [
    "# pokud pracujeme lokálně s repozitoří jako celkem, tato data si uložíme pro budoucí použití.\n",
    "slovnik_df.to_json(\"../data/slovnik_geotemporal_df.json\")"
   ]
  },
  {
   "cell_type": "code",
   "execution_count": 31,
   "metadata": {
    "collapsed": false,
    "execution_time": 31
   },
   "outputs": [],
   "source": []
  }
 ],
 "metadata": {
  "colab": {
   "include_colab_link": true,
   "provenance": []
  },
  "kernelspec": {
   "display_name": "pribehy_kernel",
   "language": "python",
   "name": "pribehy_kernel"
  }
 },
 "nbformat": 4,
 "nbformat_minor": 0
}
