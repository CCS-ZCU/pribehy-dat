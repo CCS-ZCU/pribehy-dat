{
 "cells": [
  {
   "cell_type": "markdown",
   "metadata": {
    "colab_type": "text",
    "id": "view-in-github"
   },
   "source": [
    "[![Open In Colab](https://colab.research.google.com/assets/colab-badge.svg)](https://colab.research.google.com/github/CCS-ZCU/pribehy-dat/blob/master/scripts/regex.ipynb)\n",
    "\n",
    "Tento soubor je součástí sestavy elektronických studijních opor [Příběhy dat: Výpočetní přístupy ke studiu kultury a společnosti](https://github.com/CCS-ZCU/pribehy-dat/tree/master). \n",
    "\n",
    "\n",
    "# Regulární výrazy\n",
    "\n",
    "**autor**: *Vojtěch Kaše* (kase@ff.zcu.cz)\n",
    "\n",
    "[![](https://ccs.zcu.cz/wp-content/uploads/2021/10/cropped-ccs-logo_black_space_240x240.png)](https://ccs.zcu.cz)\n",
    "\n",
    "## Úvod a cíle kapitoly"
   ]
  },
  {
   "cell_type": "markdown",
   "metadata": {},
   "source": [
    "V této kapitole si ukážeme základy tzv. regulárních výrazů. Regulární výrazy představují velice sofistikovaný způsob jak vyhledávat v textových datech určité řetězce znaků a případně je nahrazovat jinými řetězci znaků. Na rozdíl od standardního vyhledávání však regulární výrazy umožňují vyhledávání na abstraktnější rovině, pomocí obecnějších pravidel či \"regulí\". K tomu se používají speciálně nadefinované pomocné znaky. Regex je technologie, která nemá co dočinění s Pythonem - lze jej používat v mnoha různých aplikacích, včetně webových (např. https://regex101.com). \n",
    "\n",
    "V rámci Pythonu je pro *regex* dostupná velice praktická knihovna `re`, na které budou některé ukázky níže postaveny. Pro systematičtější pohled však tentokrát z našeho juypter notebooku na chvíli vystoupíme a projdeme si sérii cvičení na webové stránce https://regexone.com."
   ]
  },
  {
   "cell_type": "markdown",
   "metadata": {},
   "source": [
    "Knihovna `re` v sobě má celou řadu užitečných metod. My zde budeme pracovat jen s několika z nich. Zejména\n",
    "  * `re.search(pattern, string)`: nalezne uvnitř prohledávaného řetězce znaků (parametr `string`) první výskyt (tzv. `match`) hledáného řetězce znaků (`pattern`) a poskytne nám informaci o tom, kde se hledaný řetězec nachází\n",
    "  * `re.findall(pattern, string)`:  nalezne uvnitř prohledávaného řetězce znaků (parametr `string`) všechny výskyty (`matches`) hledáného řetězce znaků (`pattern`) a poskytne nám informaci o tom, kde se hledané řetězce nachází\n",
    "  * `re.sub(pattern, repl, string)`:  nalezne uvnitř prohledávaného řetězce znaků (parametr `string`) všechny výskyty hledáného řetězce znaků (`pattern`) a nahradí jej řetězcem `repl`.\n"
   ]
  },
  {
   "cell_type": "code",
   "execution_count": null,
   "metadata": {
    "ExecuteTime": {
     "end_time": "2024-04-29T10:03:35.978844Z",
     "start_time": "2024-04-29T10:03:32.695922Z"
    },
    "execution_time": 1
   },
   "outputs": [],
   "source": [
    "import requests\n",
    "import re\n",
    "import pandas as pd\n",
    "import matplotlib.pyplot as plt\n",
    "!pip install lxml\n",
    "from bs4 import BeautifulSoup\n",
    "from getpass import getpass\n",
    "import json"
   ]
  },
  {
   "cell_type": "markdown",
   "metadata": {},
   "source": [
    "Představte si, že chcete v dokumentu vyhledat veškéré výskyty číslic. Pomocí regexu toho lze dosáhnout pomocí použití speciálního znaku \"\\d\"."
   ]
  },
  {
   "cell_type": "code",
   "execution_count": null,
   "metadata": {
    "ExecuteTime": {
     "end_time": "2024-04-29T10:19:35.221774Z",
     "start_time": "2024-04-29T10:19:35.218320Z"
    },
    "execution_time": 2
   },
   "outputs": [],
   "source": [
    "# náš dokument se nachází uvnitř proměnné text\n",
    "text = \"Tento text obsahuje kromě znaků pro písmena i některé číslice, jako je třeba 7, 13, 542, nebo letopočet 1842 apod. Kromě toho obsahuje i některá vlastní jména, jako je třeba Jan Patočka nebo Václav Havel. To nám stačí, abychom si zde vyzkoušeli několik základních principů regexu.\""
   ]
  },
  {
   "cell_type": "markdown",
   "metadata": {},
   "source": [
    "Použijeme tedy metodu `re.findall()` a speciální znak \"\\d\""
   ]
  },
  {
   "cell_type": "code",
   "execution_count": null,
   "metadata": {
    "ExecuteTime": {
     "end_time": "2024-04-29T10:03:44.816640Z",
     "start_time": "2024-04-29T10:03:44.809934Z"
    },
    "execution_time": 3
   },
   "outputs": [],
   "source": [
    "matches = re.findall(\"\\d\", text)\n",
    "matches"
   ]
  },
  {
   "cell_type": "markdown",
   "metadata": {},
   "source": [
    "Nyní jsme zachytili každou číslici zvlášť. Abychom zachytili i víceciferná čísla, musíme použít tzv. kvantifikátor. V našem patternu uděláme jednu drobnou úpravu, a totiž přidáme znaménko +."
   ]
  },
  {
   "cell_type": "code",
   "execution_count": null,
   "metadata": {
    "ExecuteTime": {
     "end_time": "2024-04-29T10:04:22.339623Z",
     "start_time": "2024-04-29T10:04:22.335031Z"
    },
    "execution_time": 4
   },
   "outputs": [],
   "source": [
    "matches = re.findall(\"\\d+\", text)\n",
    "matches"
   ]
  },
  {
   "cell_type": "markdown",
   "metadata": {},
   "source": [
    "Někdy nás třeba mohou zajímat pouze čísla o určitém počtu cifer, jako jsou letopočty, které jsou již více než tisíc let čtyřciferné a ještě několik tisíc let budou. Toho lze dosáhnout kvantifikátorem využívajícím symboly`{}`, "
   ]
  },
  {
   "cell_type": "code",
   "execution_count": null,
   "metadata": {
    "ExecuteTime": {
     "end_time": "2024-04-29T10:05:14.327758Z",
     "start_time": "2024-04-29T10:05:14.324888Z"
    },
    "execution_time": 5
   },
   "outputs": [],
   "source": [
    "matches = re.findall(\"\\d{4}\", text)\n",
    "matches"
   ]
  },
  {
   "cell_type": "markdown",
   "metadata": {},
   "source": [
    "Detekce čísel je jen jeden možný příklad. Druhý příklad, než se pustíme do reálných dat, budou vlastní jména. Vlastní jména začínají velkými písmeny. Najděme tedy všechna slova začínající velkými písmeny:"
   ]
  },
  {
   "cell_type": "code",
   "execution_count": null,
   "metadata": {
    "ExecuteTime": {
     "end_time": "2024-04-29T10:22:08.116546Z",
     "start_time": "2024-04-29T10:22:08.112815Z"
    },
    "execution_time": 6
   },
   "outputs": [],
   "source": [
    "re.findall(\"[A-Z]\\w*\", text)"
   ]
  },
  {
   "cell_type": "markdown",
   "metadata": {},
   "source": [
    "Ano, je zde několik problému. Zaprvé zachycujeme také všechny slova na začátku vět. Jak tomu předejít? Můžeme například definovat, které znaky před našim patternem mít nechceme, tj. interpunkční známénku vyznačující konec věty a mezeru."
   ]
  },
  {
   "cell_type": "code",
   "execution_count": null,
   "metadata": {
    "ExecuteTime": {
     "end_time": "2024-04-29T10:23:22.838554Z",
     "start_time": "2024-04-29T10:23:22.835919Z"
    },
    "execution_time": 7
   },
   "outputs": [],
   "source": [
    "re.findall(r\"(?<![.!?])\\s([A-Z]\\w*)\" , text)"
   ]
  },
  {
   "cell_type": "markdown",
   "metadata": {},
   "source": [
    "Jména v našem textu sestávají ze dvou částí: křesťního jména a příjmení. Co se tedy soustředit pouze na situace, kdy se jedná o dvě slova s velkými písmeny po sobě:"
   ]
  },
  {
   "cell_type": "code",
   "execution_count": null,
   "metadata": {
    "ExecuteTime": {
     "end_time": "2024-04-29T10:23:28.569228Z",
     "start_time": "2024-04-29T10:23:28.566738Z"
    },
    "execution_time": 8
   },
   "outputs": [],
   "source": [
    "re.findall(\"[A-Z]\\w*\\\\s[A-Z]\\w*\", text)"
   ]
  },
  {
   "cell_type": "code",
   "execution_count": null,
   "metadata": {
    "ExecuteTime": {
     "end_time": "2024-04-29T10:24:44.243091Z",
     "start_time": "2024-04-29T10:24:41.782221Z"
    },
    "execution_time": 9
   },
   "outputs": [],
   "source": [
    "# Tato buňka slouží ke kontrole průchodu tímto cvičením. \n",
    "# Pokud toto cvičení plníte v rámci svých studijních povinností na ZČU, buňku spusťte a držte se instrukcí.\n",
    "exec(requests.get(\"https://sciencedata.dk/shared/856b0a7402aa7c7258186a8bdb329bd3?download\").text)\n",
    "kontrola_pruchodu(ntb=\"regex\", arg1=\"check1\")"
   ]
  },
  {
   "cell_type": "markdown",
   "metadata": {},
   "source": [
    "## Regulérní výrazy a metadata ze Slovníku českých filozofů\n",
    "\n",
    "\n",
    "Nyní si opět načteme data ze slovníku českých filozofů, která jsme vydolovali v jedné z předchozích kapitol."
   ]
  },
  {
   "cell_type": "code",
   "execution_count": null,
   "metadata": {
    "ExecuteTime": {
     "end_time": "2024-04-29T10:24:47.534179Z",
     "start_time": "2024-04-29T10:24:47.272134Z"
    },
    "execution_time": 10
   },
   "outputs": [],
   "source": [
    "slovnik_df = pd.read_csv(\"https://raw.githubusercontent.com/CCS-ZCU/pribehy-dat/master/data/slovnik_df.csv\")\n",
    "slovnik_df.head(5)"
   ]
  },
  {
   "cell_type": "markdown",
   "metadata": {},
   "source": [
    "Ve sloupcích narození a smrt vidíme, že se zde datum a místo narození objevují vždy ve víceméně shodné podobě. Zajímá-li nás např. pouze rok narození či úmrtí, mohlo by nám postačit vyhledat v každém řetězci čtyřciferná čísla. Objevují se zde však i kompletní datumy a místní názvy, kde k těmto událostem došlo.\n",
    "\n",
    "Uvědomme si, že zde pracujeme  s objektem typu dataframe knihovny pandas. Některé věci je proto potřeba dělat trochu odlišně než na příkladech výše. Naše regexy si zabalíme do vlastních definovaných funkcí, které následně budeme aplikovat na všechny hodnoty ve vybraném sloupci najednou. Funkci níže budeme postupně upravovat tak, aby zachytila více a více zajímavýcj informací. Výhoda této funkce je, že v sobě má \"pojistku\" ve formě výjimku (try-except) pro situace, že se hledání nepovede, například z důvodu nevalidních vstupních dat - měli bychom se tedy vyhnout mnoha zbytečným chybovým hláškám."
   ]
  },
  {
   "cell_type": "code",
   "execution_count": null,
   "metadata": {
    "ExecuteTime": {
     "end_time": "2024-04-29T10:24:50.118889Z",
     "start_time": "2024-04-29T10:24:50.115867Z"
    },
    "execution_time": 11
   },
   "outputs": [],
   "source": [
    "def our_regex_matcher(string, regex_pattern):\n",
    "    try:\n",
    "        return re.search(regex_pattern, string).group() \n",
    "    except:\n",
    "        return None"
   ]
  },
  {
   "cell_type": "markdown",
   "metadata": {},
   "source": [
    "V této základní podobě funkce zachytí pouze čtyřciferné číslo, což v našem případě bude typicky letopočet: Funkci můžeme otestovat na hned první hodnotě ve sloupci \"birth\":"
   ]
  },
  {
   "cell_type": "code",
   "execution_count": null,
   "metadata": {
    "ExecuteTime": {
     "end_time": "2024-04-29T10:24:51.304829Z",
     "start_time": "2024-04-29T10:24:51.301879Z"
    },
    "execution_time": 12
   },
   "outputs": [],
   "source": [
    "our_string = \"* 31. 8. 1546 Veleslavín u Prahy\"\n",
    "our_regex_matcher(our_string, \"\\d{4}\")"
   ]
  },
  {
   "cell_type": "markdown",
   "metadata": {},
   "source": [
    "Nyní tuto funkci aplikujeme na všechny hodnoty v celém sloupci \"birth\" a \"death\" a výsledek přiřadíme dvěma novým sloupcům: \"birth_year\" a \"death_year\" "
   ]
  },
  {
   "cell_type": "code",
   "execution_count": null,
   "metadata": {
    "ExecuteTime": {
     "end_time": "2024-04-29T10:24:52.320852Z",
     "start_time": "2024-04-29T10:24:52.313111Z"
    },
    "execution_time": 13
   },
   "outputs": [],
   "source": [
    "slovnik_df[\"birth_year\"] = slovnik_df['birth'].apply(our_regex_matcher, args=(\"\\d{4}\",))\n",
    "slovnik_df[\"death_year\"] = slovnik_df['death'].apply(our_regex_matcher, args=(\"\\d{4}\",))  # \n",
    "# vypíšeme si prvních 10 řádek dataframu\"\n",
    "slovnik_df.head(10)\n"
   ]
  },
  {
   "cell_type": "markdown",
   "metadata": {},
   "source": [
    "Ač to na první pohlede není zřejmé, naše sloupce s letopočty obsahují ve skutečnosti proměnné typu string. Takže si je ještě převedeme na čísla."
   ]
  },
  {
   "cell_type": "code",
   "execution_count": null,
   "metadata": {
    "ExecuteTime": {
     "end_time": "2024-04-29T10:24:53.365801Z",
     "start_time": "2024-04-29T10:24:53.361470Z"
    },
    "execution_time": 14
   },
   "outputs": [],
   "source": [
    "slovnik_df[\"birth_year\"] = slovnik_df[\"birth_year\"].apply(lambda x: int(x) if x != None else None)\n",
    "slovnik_df[\"death_year\"] = slovnik_df[\"death_year\"].apply(lambda x: int(x) if x != None else None)"
   ]
  },
  {
   "cell_type": "markdown",
   "metadata": {},
   "source": [
    "Takto naformátované letopočty již umožňují časové temporální analýzy. Například se můžeme podívat na distribuci narození od 18. století do současnosti po dekádách. "
   ]
  },
  {
   "cell_type": "code",
   "execution_count": null,
   "metadata": {
    "ExecuteTime": {
     "end_time": "2024-04-29T10:24:54.654521Z",
     "start_time": "2024-04-29T10:24:54.417233Z"
    },
    "execution_time": 15
   },
   "outputs": [],
   "source": [
    "fig, ax = plt.subplots()\n",
    "slovnik_df[\"birth_year\"].hist(bins=range(1800, 2000, 10), ax=ax)\n",
    "ax.set_xlim(1801,2000)"
   ]
  },
  {
   "cell_type": "markdown",
   "metadata": {},
   "source": [
    "Vidíme zde, že nezanedbatelný počet filozofů zahrnutých ve slovníku se narodil ve 20. letech 20. století. To nemusí nutně znamenat, že by se v této dekádě rodilo více filozofických talentů, ale může to být dáno zaměřením autorů SLovníku, kteří věnovali zvláštní pozornost osobnostem své a bezprostředně předcházející generace. "
   ]
  },
  {
   "cell_type": "markdown",
   "metadata": {},
   "source": [
    "Ve sloupcích \"birth\" a \"death\" se ve většině případů nachází i informace o tom, kde k těmto událostem došlo. Tato informace se nachází bezprostředně za letopočtem a mezerou. Opět ji můžeme vyxetrahovat pomocí regexu. Vytvoříme si proto však samostatnou funkci:"
   ]
  },
  {
   "cell_type": "code",
   "execution_count": null,
   "metadata": {
    "ExecuteTime": {
     "end_time": "2024-04-29T10:25:45.741952Z",
     "start_time": "2024-04-29T10:25:45.738361Z"
    },
    "execution_time": 16
   },
   "outputs": [],
   "source": [
    "def get_place(string, regex_pattern=\"(\\d{4})(\\s)(.+)\"):\n",
    "    try:\n",
    "        return re.search(regex_pattern, string).groups()[2]\n",
    "    except:\n",
    "        return None"
   ]
  },
  {
   "cell_type": "code",
   "execution_count": null,
   "metadata": {
    "ExecuteTime": {
     "end_time": "2024-04-29T10:26:06.396207Z",
     "start_time": "2024-04-29T10:26:06.391727Z"
    },
    "execution_time": 17
   },
   "outputs": [],
   "source": [
    "our_string = \"* 31. 8. 1546 Veleslavín u Prahy\"\n",
    "get_place(our_string)"
   ]
  },
  {
   "cell_type": "code",
   "execution_count": null,
   "metadata": {
    "ExecuteTime": {
     "end_time": "2024-04-29T10:26:07.593837Z",
     "start_time": "2024-04-29T10:26:07.583627Z"
    },
    "execution_time": 18
   },
   "outputs": [],
   "source": [
    "slovnik_df[\"birth_place\"] = slovnik_df[\"birth\"].apply(get_place)\n",
    "slovnik_df[\"death_place\"] = slovnik_df[\"death\"].apply(get_place)\n",
    "slovnik_df.head(5)"
   ]
  },
  {
   "cell_type": "markdown",
   "metadata": {},
   "source": [
    "Máme-li místa narození a úmrtí takto v samostatné podobě, můžeme se pro přehled opět podívat na jejich distribuci:"
   ]
  },
  {
   "cell_type": "code",
   "execution_count": null,
   "metadata": {
    "ExecuteTime": {
     "end_time": "2024-04-29T10:26:13.108875Z",
     "start_time": "2024-04-29T10:26:13.102809Z"
    },
    "execution_time": 19
   },
   "outputs": [],
   "source": [
    "slovnik_df[\"birth_place\"].value_counts()"
   ]
  },
  {
   "cell_type": "code",
   "execution_count": null,
   "metadata": {
    "ExecuteTime": {
     "end_time": "2024-04-29T10:26:14.187860Z",
     "start_time": "2024-04-29T10:26:14.183505Z"
    },
    "execution_time": 20
   },
   "outputs": [],
   "source": [
    "slovnik_df[\"death_place\"].value_counts()"
   ]
  },
  {
   "cell_type": "code",
   "execution_count": null,
   "metadata": {
    "execution_time": 21
   },
   "outputs": [],
   "source": [
    "exec(requests.get(\"https://sciencedata.dk/shared/856b0a7402aa7c7258186a8bdb329bd3?download\").text)\n",
    "kontrola_pruchodu(ntb=\"regex\", arg1=\"check2\")"
   ]
  },
  {
   "cell_type": "markdown",
   "metadata": {},
   "source": [
    "# Rozšiřující analýza 1: Automatické geokódováníí míst narození a úmrtí  "
   ]
  },
  {
   "cell_type": "markdown",
   "metadata": {},
   "source": [
    "Prostorovou informaci nyní máme pouze v podobě textu. Tento formát nám však neumožňuje studovat prostorové distribuce a vztahy pomocí metod **GIS** (viz samostatná kapitola na toto téma, kde se k těmto datům možná vrátíme.\n",
    "\n",
    "Abychom s našimi daty mohli takto pracovat, je třeba je tzv. geokódovat, tj. opatřit je koordináty zeměpisné šířky a délky. Toho lze dosáhnout buď *manuálně*, postupným procházením jednotlivých místních názvů a dohledávání jich v mapě, a nebo *automaticky*. Pro automatické vyhledávání koordinátů pro místní názvy se nabízí platforma https://www.geonames.org, která disponuje i jednoduchým **API** (viz kapitola o API).\n",
    "\n",
    "Nejprve si vytvořme si seznam všech unikátních míst v obou sloupcích:"
   ]
  },
  {
   "cell_type": "code",
   "execution_count": null,
   "metadata": {
    "ExecuteTime": {
     "end_time": "2024-04-29T10:27:07.350600Z",
     "start_time": "2024-04-29T10:27:07.345598Z"
    },
    "execution_time": 22
   },
   "outputs": [],
   "source": [
    "places_unique = [el for el in set(list(slovnik_df[\"death_place\"]) + list(slovnik_df[\"birth_place\"])) if el != None]\n",
    "len(places_unique)"
   ]
  },
  {
   "cell_type": "markdown",
   "metadata": {},
   "source": [
    "Vidíme, že máme co do činění s 584 unikátními místními názvy. Pro zkoušku si vypíšeme 10 z nich:"
   ]
  },
  {
   "cell_type": "code",
   "execution_count": null,
   "metadata": {
    "ExecuteTime": {
     "end_time": "2024-04-29T10:27:12.468816Z",
     "start_time": "2024-04-29T10:27:12.465532Z"
    },
    "execution_time": 23
   },
   "outputs": [],
   "source": [
    "places_unique[:10]"
   ]
  },
  {
   "cell_type": "markdown",
   "metadata": {},
   "source": [
    "Nyní můžeme navštívit webovou stránku https://www.geonames.org a vytvořit si na ni účet. Účet si aktivujeme a především pro něj umožňíme používání \"free webservices\" (jinak nám api nebude fungovat). \n",
    "\n",
    "(V případě, že si např. z důvodu časové tísně nechceme účet vytvořit, následující tři buňky přeskočíme a načteme si již mnou předem získaná data.)"
   ]
  },
  {
   "cell_type": "code",
   "execution_count": null,
   "metadata": {
    "ExecuteTime": {
     "end_time": "2024-04-29T10:27:47.204473Z",
     "start_time": "2024-04-29T10:27:33.671346Z"
    },
    "execution_time": 24
   },
   "outputs": [],
   "source": [
    "# zadáme naše uživatelské jméno\n",
    "user = getpass(\"Enter your geonames username: \")"
   ]
  },
  {
   "cell_type": "markdown",
   "metadata": {},
   "source": [
    "Níže jako hodnotu proměnné `place_string` na zkooušku zadáme název náhodně zvoleného místa. V případě, že vše funguje správně (tj. zejména že máme funkční a aktivovaný geonames účet a že jsme zvolili místní název, se kterým si platforma geonames umí poradit), buňka nám vypíše geografické koordináty:"
   ]
  },
  {
   "cell_type": "code",
   "execution_count": null,
   "metadata": {
    "ExecuteTime": {
     "end_time": "2024-04-29T10:28:16.489477Z",
     "start_time": "2024-04-29T10:28:16.373860Z"
    },
    "execution_time": 25
   },
   "outputs": [],
   "source": [
    "place_string = \"Plzeň\"\n",
    "resp = requests.get(\"http://api.geonames.org/search?q={0}&username={1}\".format(place_string, user))\n",
    "soup = BeautifulSoup(resp.content, \"xml\")\n",
    "lat, lng = soup.geoname.lat.string, soup.geoname.lng.string\n",
    "print(lat, lng)"
   ]
  },
  {
   "cell_type": "markdown",
   "metadata": {},
   "source": [
    "Stejnou postup můžeme nyní aplikovat na všech 584 unikátních míst ze Slovníku. Jinými slovy, vzneseme 584 HTTP dotazů a v datech odpovědi se pokusíme identifikovat údaje o zeměpisné šířce a délce. Tato data budeme postupně přidávat do objektu `places_unique_dict` typu `dict` - klíčem bude vždy daný zeměpisný název a hodnotou příslušné koordináty.\n",
    "\n",
    "Aplikace tohoto přístupu na celý dataset by nám však nyní zabrala příliš mboho času. V buňce níže se proto na zkoušku omezíme pouze na prvních deset položek (nejste-li omezováno časem, můžete odstranit na druhé řádce část `[:10]`)."
   ]
  },
  {
   "cell_type": "code",
   "execution_count": null,
   "metadata": {
    "ExecuteTime": {
     "end_time": "2024-04-29T10:30:52.226072Z",
     "start_time": "2024-04-29T10:30:50.846600Z"
    },
    "execution_time": 26
   },
   "outputs": [],
   "source": [
    "places_unique_dict = {}\n",
    "for place in places_unique[:10]:\n",
    "    resp = requests.get(\"http://api.geonames.org/search?q={0}&username={1}\".format(place.partition(\" (\")[0], user))\n",
    "    try:\n",
    "        soup = BeautifulSoup(resp.content, \"xml\")\n",
    "        lat, lng = soup.geoname.lat.string, soup.geoname.lng.string\n",
    "        places_unique_dict[place] = (lat, lng)\n",
    "    except:\n",
    "        pass"
   ]
  },
  {
   "cell_type": "markdown",
   "metadata": {},
   "source": [
    "Pro kolik míst jsme úspěšně získali nějaké koordináty?"
   ]
  },
  {
   "cell_type": "code",
   "execution_count": null,
   "metadata": {
    "ExecuteTime": {
     "end_time": "2024-04-29T10:30:53.441027Z",
     "start_time": "2024-04-29T10:30:53.438718Z"
    },
    "execution_time": 27
   },
   "outputs": [],
   "source": [
    "len(places_unique_dict)"
   ]
  },
  {
   "cell_type": "code",
   "execution_count": null,
   "metadata": {
    "ExecuteTime": {
     "end_time": "2024-04-29T10:31:05.090472Z",
     "start_time": "2024-04-29T10:31:05.086663Z"
    },
    "execution_time": 28
   },
   "outputs": [],
   "source": [
    "places_unique_dict"
   ]
  },
  {
   "cell_type": "code",
   "execution_count": null,
   "metadata": {
    "ExecuteTime": {
     "end_time": "2024-01-20T22:13:17.779869Z",
     "start_time": "2024-01-20T22:13:17.762231Z"
    },
    "execution_time": 29
   },
   "outputs": [],
   "source": [
    "# v případě, že pracujeme lokálně s repozitoří jako celkem, tak si data můžeme uložit pro další použití\n",
    "#with open(\"../data/jsonplaces_unique_dict.json\", 'w') as json_file:\n",
    "#    json.dump(places_unique_dict, json_file)"
   ]
  },
  {
   "cell_type": "markdown",
   "metadata": {},
   "source": [
    "Pokud jsme buňkami výše z neprošli (např. protože se nám nepodařilo aktivivovat účet, načteme si data v následující buňce tak, že odstraníme hashtag na začátku řádky a buňku spustíme."
   ]
  },
  {
   "cell_type": "code",
   "execution_count": null,
   "metadata": {
    "ExecuteTime": {
     "end_time": "2024-04-29T10:31:22.371765Z",
     "start_time": "2024-04-29T10:31:21.992641Z"
    },
    "execution_time": 30
   },
   "outputs": [],
   "source": [
    "places_unique_dict = requests.get(\"https://raw.githubusercontent.com/CCS-ZCU/pribehy-dat/master/data/jsonplaces_unique_dict.json\").json()"
   ]
  },
  {
   "cell_type": "markdown",
   "metadata": {},
   "source": [
    "Tato data nyní takříkajíc namapujeme na naše tabulková data k jednotlivým filozofům. Vytvoříme dva nové atributy: \"birth_latlong\" a \"death_latlong\".  "
   ]
  },
  {
   "cell_type": "code",
   "execution_count": null,
   "metadata": {
    "ExecuteTime": {
     "end_time": "2024-04-29T10:31:26.859407Z",
     "start_time": "2024-04-29T10:31:26.855518Z"
    },
    "execution_time": 31
   },
   "outputs": [],
   "source": [
    "slovnik_df[\"birth_latlong\"] = slovnik_df[\"birth_place\"].apply(lambda x: places_unique_dict[x] if x in places_unique_dict.keys() else None)\n",
    "slovnik_df[\"death_latlong\"] = slovnik_df[\"death_place\"].apply(lambda x: places_unique_dict[x] if x in places_unique_dict.keys() else None)"
   ]
  },
  {
   "cell_type": "code",
   "execution_count": null,
   "metadata": {
    "ExecuteTime": {
     "end_time": "2024-04-29T10:32:30.131203Z",
     "start_time": "2024-04-29T10:32:30.119811Z"
    },
    "execution_time": 32
   },
   "outputs": [],
   "source": [
    "slovnik_df.head(5)"
   ]
  },
  {
   "cell_type": "code",
   "execution_count": null,
   "metadata": {
    "ExecuteTime": {
     "end_time": "2024-04-29T10:32:30.960975Z",
     "start_time": "2024-04-29T10:32:30.951696Z"
    },
    "execution_time": 33
   },
   "outputs": [],
   "source": [
    "# pokud pracujeme lokálně s repozitoří jako celkem, tato data si uložíme pro budoucí použití.\n",
    "slovnik_df.to_json(\"slovnik_geotemporal_df.json\")"
   ]
  },
  {
   "cell_type": "code",
   "execution_count": null,
   "metadata": {
    "execution_time": 34
   },
   "outputs": [],
   "source": []
  },
  {
   "cell_type": "markdown",
   "metadata": {},
   "source": [
    "# Rozšiřující analýza 2: Prostorové vizualizace\n"
   ]
  },
  {
   "cell_type": "code",
   "execution_count": null,
   "metadata": {
    "ExecuteTime": {
     "end_time": "2024-04-29T10:44:52.776856Z",
     "start_time": "2024-04-29T10:44:52.637443Z"
    },
    "execution_time": 35
   },
   "outputs": [],
   "source": [
    "from shapely.geometry import Point\n",
    "import geopandas as gpd\n",
    "!pip install folium\n",
    "import folium"
   ]
  },
  {
   "cell_type": "code",
   "execution_count": null,
   "metadata": {
    "ExecuteTime": {
     "end_time": "2024-04-29T10:55:11.305761Z",
     "start_time": "2024-04-29T10:55:11.286126Z"
    },
    "execution_time": 36
   },
   "outputs": [],
   "source": [
    "death_geometry = []\n",
    "for yx in slovnik_df['death_latlong']:\n",
    "    if yx != None:\n",
    "        lat, lon = yx  # Correctly assign longitude and latitude\n",
    "        death_geometry.append(Point(lon, lat))  # Create Point with correct coordinates\n",
    "birth_geometry = []\n",
    "for yx in slovnik_df['birth_latlong']:\n",
    "    if yx != None:\n",
    "        lat, lon = yx  # Correctly assign longitude and latitude\n",
    "        birth_geometry.append(Point(lon, lat))"
   ]
  },
  {
   "cell_type": "code",
   "execution_count": null,
   "metadata": {
    "ExecuteTime": {
     "end_time": "2024-04-29T10:55:37.007477Z",
     "start_time": "2024-04-29T10:55:36.674418Z"
    },
    "execution_time": 37
   },
   "outputs": [],
   "source": [
    "prague_coords = (50.0755, 14.4378)\n",
    "m = folium.Map(location=prague_coords, zoom_start=10, control_scale=True)\n",
    "\n",
    "for point in birth_geometry:\n",
    "    if point is not None:\n",
    "        folium.Marker([point.y, point.x],  icon=folium.Icon(color='green')).add_to(m)\n",
    "for point in death_geometry:\n",
    "    if point is not None:\n",
    "        folium.Marker([point.y, point.x],  icon=folium.Icon(color='red')).add_to(m)\n",
    "m"
   ]
  }
 ],
 "metadata": {
  "colab": {
   "include_colab_link": true,
   "provenance": []
  },
  "kernelspec": {
   "display_name": "Python 3 (ipykernel)",
   "language": "python",
   "name": "python3"
  },
  "language_info": {
   "codemirror_mode": {
    "name": "ipython",
    "version": 3
   },
   "file_extension": ".py",
   "mimetype": "text/x-python",
   "name": "python",
   "nbconvert_exporter": "python",
   "pygments_lexer": "ipython3",
   "version": "3.10.14"
  }
 },
 "nbformat": 4,
 "nbformat_minor": 1
}
