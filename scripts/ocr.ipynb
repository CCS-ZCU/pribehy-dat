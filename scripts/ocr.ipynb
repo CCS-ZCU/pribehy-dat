{
 "cells": [
  {
   "cell_type": "markdown",
   "metadata": {
    "colab_type": "text",
    "id": "view-in-github"
   },
   "source": [
    "[![Open In Colab](https://colab.research.google.com/assets/colab-badge.svg)](https://colab.research.google.com/github/CCS-ZCU/pribehy-dat/blob/master/scripts/ocr.ipynb)\n",
    "\n",
    "Tento soubor je součástí sestavy elektronických studijních opor [Příběhy dat: Výpočetní přístupy ke studiu kultury a společnosti](https://github.com/CCS-ZCU/pribehy-dat/tree/master). \n",
    "\n",
    "# OCR: Rozpoznávání znaků textu\n",
    "\n",
    "**autor**: *Vojtěch Kaše* (kase@ff.zcu.cz)\n",
    "\n",
    "[![](https://ccs.zcu.cz/wp-content/uploads/2021/10/cropped-ccs-logo_black_space_240x240.png)](https://ccs.zcu.cz)\n",
    "\n",
    "## Úvod a cíle kapitoly"
   ]
  },
  {
   "cell_type": "markdown",
   "metadata": {
    "collapsed": false
   },
   "source": [
    "Tato kapitola ukazuje základy technologie optického rozpoznávání znaků (tzv. OCR=Optical Charater Recognition). K OCR lze v Pythonu použít knihovnu `pytesseract`, postavené na nástroji Tesseract. Nejprve je tudíž potřeba mít nainstallovaný Tesseract, což není triviální úloha, neboť závisí na konkrétní verzi operečního systému. Instrukce pro windows a linux je možné nalézt zde: https://github.com/UB-Mannheim/tesseract/wiki. Pro mac nám napoví např. ChatGPT. Jelikož pracuji na macu, zde nabízím příkazy k instalaci Tesseractu pomocí terminálového instalačního nástroje `brew`: \n",
    "``` \n",
    "brew install tessaract\n",
    "brew install tessaract-lang\n",
    "```\n",
    "\n",
    "Pro ukázku si načteme jeden dokument z projektu scriptum.cz, který neprošel OCR analýzou:"
   ]
  },
  {
   "cell_type": "markdown",
   "metadata": {},
   "source": [
    "## Cvičení"
   ]
  },
  {
   "cell_type": "code",
   "execution_count": null,
   "metadata": {
    "ExecuteTime": {
     "end_time": "2024-01-24T14:45:34.001686Z",
     "start_time": "2024-01-24T14:45:30.850476Z"
    },
    "execution_time": 1
   },
   "outputs": [],
   "source": [
    "#!pip install PyMuPDF\n",
    "import fitz\n",
    "import requests\n",
    "import io\n",
    "from PIL import Image\n",
    "import numpy as np\n",
    "import matplotlib.pyplot as plt\n",
    "import pytesseract\n",
    "import cv2\n",
    "import matplotlib.patches as patches\n",
    "import re\n",
    "from bs4 import BeautifulSoup\n",
    "import pandas as pd\n",
    "import nltk"
   ]
  },
  {
   "cell_type": "code",
   "execution_count": null,
   "metadata": {
    "ExecuteTime": {
     "end_time": "2024-01-24T14:45:40.601703Z",
     "start_time": "2024-01-24T14:45:34.717284Z"
    },
    "execution_time": 2
   },
   "outputs": [],
   "source": [
    "url = \"https://scriptum.cz/soubory/scriptum/svedectvi/svedectvi_1966_29.pdf\" # \"https://scriptum.cz/soubory/scriptum/komunikace/prazske_komunikace_1987_01.pdf\"\n",
    "\n",
    "pdf_object = io.BytesIO(requests.get(url).content)\n",
    "doc = fitz.open(\"pdf\", pdf_object.read())\n",
    "doc.page_count"
   ]
  },
  {
   "cell_type": "markdown",
   "metadata": {
    "collapsed": false
   },
   "source": [
    "Pro potřeby testování opět vybereme jednu náhodnou stránku a vytvoříme z ní objekt obrázku."
   ]
  },
  {
   "cell_type": "code",
   "execution_count": null,
   "metadata": {
    "ExecuteTime": {
     "end_time": "2024-01-24T14:45:51.587295Z",
     "start_time": "2024-01-24T14:45:51.266882Z"
    },
    "execution_time": 3
   },
   "outputs": [],
   "source": [
    "p = doc.load_page(20)\n",
    "pix = p.get_pixmap()\n",
    "np_array = np.frombuffer(pix.samples, dtype=np.uint8).reshape(pix.height, pix.width, pix.n)\n",
    "fig, ax = plt.subplots(dpi=300)\n",
    "ax.imshow(np_array)\n",
    "ax.set_axis_off()"
   ]
  },
  {
   "cell_type": "code",
   "execution_count": null,
   "metadata": {
    "ExecuteTime": {
     "end_time": "2024-01-24T14:46:04.747019Z",
     "start_time": "2024-01-24T14:46:03.697695Z"
    },
    "execution_time": 4
   },
   "outputs": [],
   "source": [
    "%%time\n",
    "pytesseract.image_to_string(np_array, lang=\"ces\")"
   ]
  },
  {
   "cell_type": "markdown",
   "metadata": {
    "collapsed": false
   },
   "source": [
    "Tuto proceduru nyní snadno aplikujeme na všechny stránky v daném dokumentu. Tato procedura však již může zabrat nezanedbatelný čas. "
   ]
  },
  {
   "cell_type": "code",
   "execution_count": null,
   "metadata": {
    "ExecuteTime": {
     "end_time": "2024-01-24T14:56:52.027090Z",
     "start_time": "2024-01-24T14:54:26.730639Z"
    },
    "execution_time": 5
   },
   "outputs": [],
   "source": [
    "%%time\n",
    "text = \"\"\n",
    "for p in doc:\n",
    "    pix = p.get_pixmap()\n",
    "    np_array = np.frombuffer(pix.samples, dtype=np.uint8).reshape(pix.height, pix.width, pix.n)\n",
    "    str = pytesseract.image_to_string(np_array, lang=\"ces\") + \"[pagebreak]\"\n",
    "    text += str "
   ]
  },
  {
   "cell_type": "markdown",
   "metadata": {
    "collapsed": false
   },
   "source": [
    "Podívejme se nyní na výsledný text. Z kolika sestává znaků?"
   ]
  },
  {
   "cell_type": "code",
   "execution_count": null,
   "metadata": {
    "ExecuteTime": {
     "end_time": "2024-01-24T17:15:00.136927Z",
     "start_time": "2024-01-24T17:15:00.130917Z"
    },
    "execution_time": 6
   },
   "outputs": [],
   "source": [
    "len(text)"
   ]
  },
  {
   "cell_type": "code",
   "execution_count": null,
   "metadata": {
    "ExecuteTime": {
     "end_time": "2024-01-24T15:00:12.509384Z",
     "start_time": "2024-01-24T15:00:12.404487Z"
    },
    "execution_time": 7
   },
   "outputs": [],
   "source": [
    "text[16000:17000]"
   ]
  },
  {
   "cell_type": "markdown",
   "metadata": {
    "collapsed": false
   },
   "source": [
    "Vidíme, že výsledky nejsou kdovíjaké."
   ]
  },
  {
   "cell_type": "markdown",
   "metadata": {
    "collapsed": false
   },
   "source": [
    "### Morfologické transformace\n",
    "\n",
    "Často se potýkáme s tím, že podkladové obrázky (skeny jednotlivých stran) nejsou v dobré kvalitě. Existuje však řada algoritmů \"out-of-the-box\", které mohou kvalitu obrázků změnit, např. zvýšením kontrastu."
   ]
  },
  {
   "cell_type": "code",
   "execution_count": null,
   "metadata": {
    "ExecuteTime": {
     "end_time": "2024-01-24T17:15:04.938688Z",
     "start_time": "2024-01-24T17:15:04.934930Z"
    },
    "execution_time": 8
   },
   "outputs": [],
   "source": [
    "p = doc.load_page(20)\n",
    "pix = p.get_pixmap()\n",
    "np_array = np.frombuffer(pix.samples, dtype=np.uint8).reshape(pix.height, pix.width, pix.n)"
   ]
  },
  {
   "cell_type": "code",
   "execution_count": null,
   "metadata": {
    "ExecuteTime": {
     "end_time": "2024-01-24T17:15:14.954002Z",
     "start_time": "2024-01-24T17:15:14.275216Z"
    },
    "execution_time": 9
   },
   "outputs": [],
   "source": [
    "kernel = np.ones((2, 2), np.uint8)\n",
    "np_array_corrected = cv2.erode(np_array, kernel, iterations=1)\n",
    "fig, ax = plt.subplots(dpi=300)\n",
    "ax.imshow(np_array_corrected)\n",
    "ax.set_axis_off()\n",
    "print(pytesseract.image_to_string(np_array_corrected, lang=\"ces\"))"
   ]
  },
  {
   "cell_type": "code",
   "execution_count": null,
   "metadata": {
    "ExecuteTime": {
     "end_time": "2024-01-24T17:15:34.858483Z",
     "start_time": "2024-01-24T17:15:33.392784Z"
    },
    "execution_time": 10
   },
   "outputs": [],
   "source": [
    "# DILATION\n",
    "kernel = np.ones((1, 1), np.uint8)\n",
    "np_array_corrected = cv2.dilate(np_array, kernel, iterations=1)\n",
    "fig, ax = plt.subplots(dpi=300)\n",
    "ax.imshow(np_array_corrected)\n",
    "ax.set_axis_off()\n",
    "print(pytesseract.image_to_string(np_array_corrected, lang=\"ces\"))"
   ]
  },
  {
   "cell_type": "code",
   "execution_count": null,
   "metadata": {
    "ExecuteTime": {
     "end_time": "2024-01-24T17:15:36.356760Z",
     "start_time": "2024-01-24T17:15:34.865777Z"
    },
    "execution_time": 11
   },
   "outputs": [],
   "source": [
    "\n",
    "# EROSION\n",
    "kernel = np.ones((1, 1), np.uint8)\n",
    "np_array_corrected = cv2.erode(np_array, kernel, iterations=1)\n",
    "fig, ax = plt.subplots(dpi=300)\n",
    "ax.imshow(np_array_corrected)\n",
    "ax.set_axis_off()\n",
    "print(pytesseract.image_to_string(np_array_corrected, lang=\"ces\"))"
   ]
  },
  {
   "cell_type": "code",
   "execution_count": null,
   "metadata": {
    "ExecuteTime": {
     "end_time": "2024-01-24T17:15:38.665727Z",
     "start_time": "2024-01-24T17:15:37.147331Z"
    },
    "execution_time": 12
   },
   "outputs": [],
   "source": [
    "\n",
    "# CLOSING\n",
    "kernel = np.ones((1, 1), np.uint8)\n",
    "np_array_corrected = cv2.morphologyEx(np_array, cv2.MORPH_CLOSE, kernel)\n",
    "fig, ax = plt.subplots(dpi=300)\n",
    "ax.imshow(np_array_corrected)\n",
    "ax.set_axis_off()\n",
    "print(pytesseract.image_to_string(np_array_corrected, lang=\"ces\"))"
   ]
  },
  {
   "cell_type": "code",
   "execution_count": null,
   "metadata": {
    "ExecuteTime": {
     "end_time": "2024-01-24T17:15:43.606664Z",
     "start_time": "2024-01-24T17:15:42.182364Z"
    },
    "execution_time": 13
   },
   "outputs": [],
   "source": [
    "kernel = np.ones((1,1),np.uint8)\n",
    "opening = cv2.morphologyEx(np_array, cv2.MORPH_OPEN, kernel)\n",
    "np_array_corrected = cv2.morphologyEx(np_array, cv2.MORPH_CLOSE, kernel)\n",
    "fig, ax = plt.subplots(dpi=300)\n",
    "ax.imshow(np_array_corrected)\n",
    "ax.set_axis_off()\n",
    "print(pytesseract.image_to_string(np_array_corrected, lang=\"ces\"))"
   ]
  },
  {
   "cell_type": "code",
   "execution_count": null,
   "metadata": {
    "execution_time": 14
   },
   "outputs": [],
   "source": []
  }
 ],
 "metadata": {
  "colab": {
   "include_colab_link": true,
   "provenance": []
  },
  "kernelspec": {
   "display_name": "pribehy_kernel",
   "language": "python",
   "name": "pribehy_kernel"
  }
 },
 "nbformat": 4,
 "nbformat_minor": 0
}
