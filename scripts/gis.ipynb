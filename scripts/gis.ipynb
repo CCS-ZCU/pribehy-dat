{
 "cells": [
  {
   "cell_type": "markdown",
   "metadata": {
    "id": "5_rP3xJ6u72L"
   },
   "source": [
    "[![Open In Colab](https://colab.research.google.com/assets/colab-badge.svg)](https://colab.research.google.com/github/CCS-ZCU/pribehy-dat/blob/master/scripts/gis.ipynb)\n",
    "\n",
    "# GIS: Analýza prostorových dat\n",
    "\n",
    "**autor**: *Vojtěch Kaše* (kase@ff.zcu.cz)\n",
    "\n",
    "[![](https://ccs.zcu.cz/wp-content/uploads/2021/10/cropped-ccs-logo_black_space_240x240.png)](https://ccs.zcu.cz)\n",
    "\n",
    "## Úvod a cíle kapitoly\n",
    "\n",
    "V této kapitole si ukážeme základy analytické práce s prostorovými daty, tzv. GIS (=Geographic Information System). Budeme pracovat výlučně s tzv. vektorovým modelem dat, v rámci kterého jsou body, linie a plochy na mapě definovány výčtem bodů definujících zeměpisné šířky a délky. Body obsahují pouze jeden pár souřadnic (např. místo, kde se nachází strom); linie obsahují řadu párů souřadnic (např. kudy vede silnice) a plochy obsahují řadu párů souřadnic, které ohraničují určité území (např. stát).  Body, linie a plochy mohou být dále obohaceny o další atributy. \n",
    "\n",
    "Cvičení bude postaveno na veřejně dostupných datesetech antických nápisů v latině a řečtině. \n",
    "\n",
    "V rámci Pythonu pro nás bude stěžejní knihovna `geopandas`, která představuje rozšíření knihovny pandas pro práci s prostorovými daty. Základním typem dat bude tzv. `GeoDataFrame`. GeoDataFrame se chová v zásadě stejně jako DataFrame, s tím rozdílem, že obsahuje sloupec navíc, s názvem \"geometry\", který definuje právě zeměpisné souřadnice. Tato vlastnost umožňuje tabulková data v tomto formátu bezprostředně vykreslit do mapy."
   ]
  },
  {
   "cell_type": "markdown",
   "metadata": {},
   "source": [
    "## Cvičení"
   ]
  },
  {
   "cell_type": "code",
   "execution_count": null,
   "metadata": {
    "ExecuteTime": {
     "end_time": "2024-03-11T07:45:47.559746Z",
     "start_time": "2024-03-11T07:45:46.525285Z"
    },
    "execution_time": 1,
    "id": "6xiYIACFchIf"
   },
   "outputs": [],
   "source": [
    "%%capture\n",
    "\n",
    "# nyní si naimportujeme některé rozšiřující knihovny, které budeme níže používat (metaforicky řečeno si nasadíme nástavce...)\n",
    "#!pip install mapclassify\n",
    "import requests\n",
    "import shutil\n",
    "import pandas as pd\n",
    "import geopandas as gpd\n",
    "import numpy as np\n",
    "import matplotlib as mpl\n",
    "import matplotlib.pyplot as plt\n",
    "import matplotlib.colors as colors\n",
    "mpl.rcParams[\"axes.edgecolor\"] = \"white\"\n",
    "mpl.rcParams[\"xtick.color\"] = \"white\"\n",
    "mpl.rcParams[\"xtick.labelcolor\"] = \"white\"\n",
    "mpl.rcParams[\"ytick.color\"] = \"white\"\n",
    "mpl.rcParams[\"ytick.labelcolor\"] = \"white\"\n",
    "pd.set_option('display.max_columns', 100)"
   ]
  },
  {
   "cell_type": "code",
   "execution_count": null,
   "metadata": {
    "ExecuteTime": {
     "end_time": "2024-03-11T07:46:30.595943Z",
     "start_time": "2024-03-11T07:46:05.248809Z"
    },
    "colab": {
     "base_uri": "https://localhost:8080/"
    },
    "execution_time": 2,
    "id": "e44Vzsu-iXGE",
    "outputId": "93a6b364-e65f-41ba-d48c-d22394ad20d1"
   },
   "outputs": [],
   "source": [
    "# v této buňce si náš virtuální stroj stáhneme první důležitý dataset\n",
    "# dataset má přes 100MB, tudíž to pár vteřin potrvá\n",
    "!curl https://zenodo.org/records/10146150/files/LIST_v1-1.parquet --output LIST_v1-1.parquet"
   ]
  },
  {
   "cell_type": "code",
   "execution_count": null,
   "metadata": {
    "ExecuteTime": {
     "end_time": "2024-03-11T07:46:36.354217Z",
     "start_time": "2024-03-11T07:46:34.751288Z"
    },
    "execution_time": 3,
    "id": "yfscJ7ilhRNd"
   },
   "outputs": [],
   "source": [
    "# dataset si načteme do naší aktuální \"session\"\n",
    "LIST = gpd.read_parquet(\"LIST_v1-1.parquet\")"
   ]
  },
  {
   "cell_type": "markdown",
   "metadata": {
    "id": "0ayoRg65jEIz"
   },
   "source": [
    "Když máme dataset načtený, můžeme s ním dále pracovat - aplikovat na něj různé funkce/metody a dále jej upravovat, filtrovat či rozšiřovat o další atributy\n",
    "Podívejme se nyní v krátkosti, jak tento dataset vypadá. Oomocí metody `shape` zjístím, jaký má tabulka tvar:\n",
    "\n"
   ]
  },
  {
   "cell_type": "code",
   "execution_count": null,
   "metadata": {
    "ExecuteTime": {
     "end_time": "2024-03-11T07:46:37.819339Z",
     "start_time": "2024-03-11T07:46:37.813737Z"
    },
    "colab": {
     "base_uri": "https://localhost:8080/"
    },
    "execution_time": 4,
    "id": "67cYPai7iFPZ",
    "outputId": "10e94002-2d24-4962-ce19-40152d50c9b9"
   },
   "outputs": [],
   "source": [
    "LIST.shape"
   ]
  },
  {
   "cell_type": "markdown",
   "metadata": {
    "id": "T2wP_aVjja0m"
   },
   "source": [
    "První z dvojice čísel udává počet řádků tabulky a druhá počet sloupců tabulky.\n",
    "\n",
    "další užitečné informace získáme, necháme-li si vypsat prvních 5 řádků pomocí metody `head()`"
   ]
  },
  {
   "cell_type": "code",
   "execution_count": null,
   "metadata": {
    "ExecuteTime": {
     "end_time": "2024-03-11T07:46:38.630357Z",
     "start_time": "2024-03-11T07:46:38.613863Z"
    },
    "colab": {
     "base_uri": "https://localhost:8080/",
     "height": 764
    },
    "execution_time": 5,
    "id": "QZfV1UUkjZuh",
    "outputId": "3a877956-c03e-46d3-f67c-456cf2fe385a"
   },
   "outputs": [],
   "source": [
    "LIST.head()"
   ]
  },
  {
   "cell_type": "code",
   "execution_count": null,
   "metadata": {
    "ExecuteTime": {
     "end_time": "2024-03-11T07:46:39.114654Z",
     "start_time": "2024-03-11T07:46:39.112200Z"
    },
    "colab": {
     "base_uri": "https://localhost:8080/"
    },
    "execution_time": 6,
    "id": "XiNM0UwznhTB",
    "outputId": "49c7c181-f1ec-4c60-c1c6-f90d96d8affe"
   },
   "outputs": [],
   "source": [
    "# pro přehlednost si můžeme nechat vypsat kompletní seznam sloupců:\n",
    "LIST.columns"
   ]
  },
  {
   "cell_type": "markdown",
   "metadata": {
    "id": "e4HLtAcRnjAg"
   },
   "source": [
    "pro naše účely jsou mnohé atributy (sloupce) zcela nepotřebné. Pro další analýzy se proto omezíme pouze na několik z nich, a to \"LIST_ID\", \"is_geotemporal\", \"urban_context\", \"not_before\", \"not_after\", \"Longitude\", \"Latitude\" a \"geometry\"."
   ]
  },
  {
   "cell_type": "code",
   "execution_count": null,
   "metadata": {
    "ExecuteTime": {
     "end_time": "2024-03-11T07:46:40.804780Z",
     "start_time": "2024-03-11T07:46:40.761225Z"
    },
    "colab": {
     "base_uri": "https://localhost:8080/",
     "height": 383
    },
    "execution_time": 7,
    "id": "oU6qzP7fc6vR",
    "outputId": "113c3818-9dc2-4147-af6d-b41750ecce6d"
   },
   "outputs": [],
   "source": [
    "# pomocí dvojitých hranatých závorek vyfiltrujme z datasetu pouze vybrané sloupce\n",
    "LIST = LIST[[\"LIST-ID\", \"Longitude\", \"Latitude\", \"geometry\",  \"not_before\", \"not_after\", \"is_geotemporal\"]]\n",
    "# podívejme se na náhodný vzorek 10 nápisů:\n",
    "LIST.sample(10, random_state=0)"
   ]
  },
  {
   "cell_type": "markdown",
   "metadata": {
    "id": "hbARJOkyRmzq"
   },
   "source": [
    "Atribut ve sloupci \"LIST-ID\" obsahuje jednoznačný číselný identifikátor daného nápisu v našem datasetu.\n",
    "\n",
    "Atributy \"Longitude\" a \"Latitude\" vyjadřují zeměpisnou délku a šířku.\n",
    "\n",
    "Stejná informace je i ve sloupci \"geometry\". To však není jen tak ledajaký sloupec! Je to sloupec, který z našich dat dělá prostorová data zpracovatelná knihovnou `geopandas`. Data ve sloupci \"geometry\"  tvoří tzv. [`GeoSeries`](https://geopandas.org/en/stable/docs/reference/api/geopandas.GeoSeries.html#geopandas-geoseries) a celá tabulka je díky nim takzvaný [`GeoDataFrame`](https://geopandas.org/en/stable/docs/reference/api/geopandas.GeoDataFrame.html). Hodnoty zeměpisné šířky a délky jsou zde specificky naformátované a samotné číselné hodnoty předchází slovo \"POINT\". Definuje se zde, že se jedná o bodové geometrie (formátování jednotlivých prvků vychází ze standardů  python knihovny [Shapely](https://shapely.readthedocs.io/en/stable/manual.html)). Díky těmto vlastnostem lze daná tabulková data bezprostředně použít k nejrůznějším prostorovým operacím, z nichž některé si za okamžik ukážeme.\n",
    "\n",
    "Sloupce `not_before` a `not_after` vyjadřují časovou informaci. Definují, ze kdy daný nápis pochází. S historickými daty jsme často jako badatelé v situaci, kdy tuto dataci neznáme přesně, jsme schopni pouze schopni vyjádřit informovaný odhad ve formě intervalu. V případě antiky jsme velké množství objektů schopni datovat pouze do konkrétního století (např. 4. stol.n.l.). To lze pak číselně vyjádřit intervalem 301-400, jako je tomu v případě posledního nápisu v našem vzorku. V jiných případech daný objekt obsahuje indície, které umožňují mnohem přesnější dataci (například tím, že odkazují k nějaké známé historické události). V takovém případě je hodnota `not_before` a `not_after` totožná.\n",
    "\n",
    "Sloupec \"is_geotemporal\" obsahuje boolovské hodnoty *Pravda* (True) nebo *Nepravda* (False) odvozené z hodnot ve sloupcích \"geometry\", \"not_before\" a \"not_after\". Hodnota True je zde tehdy, pokud má nápis jak validní nenulovou geometrie a tak informaci o dataci, což v našem datasetu není vždy tak.\n",
    "\n",
    "Tento sloupec  nyní využijeme k dodatečnému filtrování našich dat, kdy se omezíme pouze na položku, kdy tento atribut má hodnotu True."
   ]
  },
  {
   "cell_type": "code",
   "execution_count": null,
   "metadata": {
    "ExecuteTime": {
     "end_time": "2024-03-11T07:46:44.032669Z",
     "start_time": "2024-03-11T07:46:43.984562Z"
    },
    "colab": {
     "base_uri": "https://localhost:8080/"
    },
    "execution_time": 8,
    "id": "uekHALEPW8XD",
    "outputId": "0164d073-b7da-4eea-d749-a887769e16cc"
   },
   "outputs": [],
   "source": [
    "LIST = LIST[LIST[\"is_geotemporal\"]]\n",
    "LIST.shape"
   ]
  },
  {
   "cell_type": "markdown",
   "metadata": {
    "id": "PpCIIxYIXKj4"
   },
   "source": [
    "opět jsme použili metodu shape, abychom se podívali, jaký má náš dataset nyní \"tvar\". Vidíme, že po filtrování sestává pouze z cca. dvou set tisíc položek a osmi sloupců.\n",
    "\n",
    "Další důležitá vlastnost našeho `GeoDataFrame` objektu se skrývá za atributem `crs`. Tato tři písmena představují zkratku. Věděli bychom jakou? Zkusme se podívat na výsledek:"
   ]
  },
  {
   "cell_type": "code",
   "execution_count": null,
   "metadata": {
    "ExecuteTime": {
     "end_time": "2024-03-11T07:46:46.649023Z",
     "start_time": "2024-03-11T07:46:46.643299Z"
    },
    "colab": {
     "base_uri": "https://localhost:8080/"
    },
    "execution_time": 9,
    "id": "O4K3CuWyZwtc",
    "outputId": "bf61499f-6482-4d89-ce0a-788186437fa7"
   },
   "outputs": [],
   "source": [
    "LIST.crs"
   ]
  },
  {
   "cell_type": "markdown",
   "metadata": {
    "id": "yQaNouelX2gY"
   },
   "source": [
    "Nyní již můžeme postoupit k první prostorové vizualizaci:"
   ]
  },
  {
   "cell_type": "code",
   "execution_count": null,
   "metadata": {
    "ExecuteTime": {
     "end_time": "2024-03-11T07:46:54.065507Z",
     "start_time": "2024-03-11T07:46:49.762952Z"
    },
    "colab": {
     "base_uri": "https://localhost:8080/",
     "height": 432
    },
    "execution_time": 10,
    "id": "nhHJgYpfRjOy",
    "outputId": "6aac6579-4ade-46d2-e42b-ac97a6c95191"
   },
   "outputs": [],
   "source": [
    "LIST.plot(color=\"black\", markersize=1)"
   ]
  },
  {
   "cell_type": "markdown",
   "metadata": {
    "id": "u6gUDRjDZSDd"
   },
   "source": [
    "Výsledek není nijak atraktivní a sám o sobě asi i těžko interpretovatelný. V podstatě jsme jen vykreslili do prostoru o něco málo více než 200 000 tisíc bodů. V dalších krocích tohoto workshopu však dostatneme tuto vizualizaci do vizuálně přitažlivější podoby...\n",
    "\n",
    "V následujícím kroku si načteme další dataset. Tentokrát přímo z webového odkazu:"
   ]
  },
  {
   "cell_type": "code",
   "execution_count": null,
   "metadata": {
    "ExecuteTime": {
     "end_time": "2024-03-11T07:47:00.101321Z",
     "start_time": "2024-03-11T07:46:58.956689Z"
    },
    "execution_time": 11,
    "id": "slWOWFFWpQFK"
   },
   "outputs": [],
   "source": [
    "provinces = gpd.read_file(\"https://raw.githubusercontent.com/sdam-au/GI_ETL/master/data/provinces_valid.geojson\")"
   ]
  },
  {
   "cell_type": "code",
   "execution_count": null,
   "metadata": {
    "ExecuteTime": {
     "end_time": "2024-03-11T07:47:01.533387Z",
     "start_time": "2024-03-11T07:47:01.522596Z"
    },
    "colab": {
     "base_uri": "https://localhost:8080/",
     "height": 226
    },
    "execution_time": 12,
    "id": "tdG-aUznP4bS",
    "outputId": "87e801dc-142e-44d5-e030-ddfc404fae86"
   },
   "outputs": [],
   "source": [
    "# opět si nejprve prohlédneme pět prvních řádek atributové tabulky\n",
    "provinces.head()"
   ]
  },
  {
   "cell_type": "code",
   "execution_count": null,
   "metadata": {
    "ExecuteTime": {
     "end_time": "2024-03-11T07:47:01.885477Z",
     "start_time": "2024-03-11T07:47:01.882818Z"
    },
    "colab": {
     "base_uri": "https://localhost:8080/"
    },
    "execution_time": 13,
    "id": "KEXvuIqe4qW4",
    "outputId": "76d16a0d-cd3f-4b1d-abca-c8d30d750c18"
   },
   "outputs": [],
   "source": [
    "provinces.shape"
   ]
  },
  {
   "cell_type": "code",
   "execution_count": null,
   "metadata": {
    "ExecuteTime": {
     "end_time": "2024-03-11T07:47:02.864215Z",
     "start_time": "2024-03-11T07:47:02.860359Z"
    },
    "colab": {
     "base_uri": "https://localhost:8080/"
    },
    "execution_time": 14,
    "id": "N81t4VW31Im_",
    "outputId": "207e85f0-167b-44ce-b3e8-902f50037fe0"
   },
   "outputs": [],
   "source": [
    "provinces.crs"
   ]
  },
  {
   "cell_type": "markdown",
   "metadata": {
    "id": "a7bRAiVshl2w"
   },
   "source": [
    "Tento dataset má pouze dva sloupce: \"province\" a opět \"geometry\". Vidíme však, že sloupec \"geometry\" vypadá nyní odlišně. Na první řádce čteme \"MULTIPOLYGON\" a na dalších řádcích \"POLYGON\". Naše geometrie zde tedy již nesestávají z bodů ale z ploch. Jak název napovídá, jedná se o provincie, a totiž o provincie Římské říše, její hlavní správní celky, obdoba např. českých krajů (viz [Římské provincie](https://cs.wikipedia.org/wiki/%C5%98%C3%ADmsk%C3%A9_provincie)).\n",
    "\n",
    "I tento dataset si můžeme velice přímočaře vizualizovat pomocí metody `plot()`, nejprve samostatně a následně společně s naším datasetem nápisů jakožto vrchní vrstvou:"
   ]
  },
  {
   "cell_type": "code",
   "execution_count": null,
   "metadata": {
    "ExecuteTime": {
     "end_time": "2024-03-11T07:47:05.193370Z",
     "start_time": "2024-03-11T07:47:05.080350Z"
    },
    "colab": {
     "base_uri": "https://localhost:8080/",
     "height": 466
    },
    "execution_time": 15,
    "id": "Xci8fhLbhlE8",
    "outputId": "ff33509d-c83f-4269-f876-7bfcda6fc1c1"
   },
   "outputs": [],
   "source": [
    "provinces.plot(color=\"lightgrey\", edgecolor=\"black\")"
   ]
  },
  {
   "cell_type": "code",
   "execution_count": null,
   "metadata": {
    "ExecuteTime": {
     "end_time": "2024-03-11T07:48:34.333355Z",
     "start_time": "2024-03-11T07:48:30.009418Z"
    },
    "colab": {
     "base_uri": "https://localhost:8080/",
     "height": 432
    },
    "execution_time": 16,
    "id": "l4mAFn2PrXe1",
    "outputId": "f1e164fd-304d-4f36-f7cc-f66efadbd12e"
   },
   "outputs": [],
   "source": [
    "point_color = \"darkred\"\n",
    "ax = provinces.plot(color=\"grey\")\n",
    "LIST.plot(markersize=1, ax=ax, color=point_color)"
   ]
  },
  {
   "cell_type": "code",
   "execution_count": null,
   "metadata": {
    "ExecuteTime": {
     "end_time": "2024-03-11T07:48:46.403763Z",
     "start_time": "2024-03-11T07:48:44.236452Z"
    },
    "execution_time": 17
   },
   "outputs": [],
   "source": [
    "# Tato buňka slouží ke kontrole průchodu tímto cvičením. \n",
    "# Pokud toto cvičení plníte v rámci svých studijních povinností na ZČU, buňku spusťte a držte se instrukcí.\n",
    "exec(requests.get(\"https://sciencedata.dk/shared/856b0a7402aa7c7258186a8bdb329bd3?download\").text)\n",
    "kontrola_pruchodu(ntb=\"gis\", arg1=point_color)"
   ]
  },
  {
   "cell_type": "markdown",
   "metadata": {
    "id": "JH16mHAhq4DD"
   },
   "source": [
    "Na obrázku výše vidíme, že oba datasety se týkají téhož území, avšak že bodu v ploše nejsou zdaleka rovnoměrně rozprostřeny a mnohé se nacházejí zcela vně polygonů provincií. To si zaslouží bližší ohledání.\n",
    "\n",
    "Nejprve pro každý územní celek (provincii) sečteme počet nápisů, které se v ní nacházejí. Využijeme metody `contains()` (určení pro všechny prvky z datasetu nápisů, zda sa nacházejí či nenacházejí uvnitř onoho území (True nebo False)).a `sum()` (sečtení všech prvků s hodnotou True.\n"
   ]
  },
  {
   "cell_type": "code",
   "execution_count": null,
   "metadata": {
    "ExecuteTime": {
     "end_time": "2024-03-11T07:48:55.030868Z",
     "start_time": "2024-03-11T07:48:50.471158Z"
    },
    "colab": {
     "base_uri": "https://localhost:8080/",
     "height": 261
    },
    "execution_time": 18,
    "id": "mR35NWdP-afU",
    "outputId": "fa680018-2ac9-4673-a958-e543931683ee"
   },
   "outputs": [],
   "source": [
    "%%time\n",
    "provinces[\"LIST_n\"] = provinces.geometry.apply(lambda x: x.contains(LIST.geometry).sum())\n",
    "provinces.head(5)"
   ]
  },
  {
   "cell_type": "markdown",
   "metadata": {
    "id": "lqdhgfOV7aOV"
   },
   "source": [
    "v datasetu provincií nyní máme informaci o tom, kolik se uvnitř ní nachází nápisů. Provincie jsou ale různě velké, a tudíž samotné číslo nemá příliš velkou výpovědní hodnotu. Spočítejme tedy nyní plochu jednotlivých provincií a vytvořme si nový atribut s názvem \"area\". Pro tento výpočet si pomocí metody `to_crs` převedeme do metrické projekce EPSG:3035 a získáme plochu v metrech čtverečních. Kilomtery čtvereční získáme, když výsledné hodnoty vydělíme miliónem."
   ]
  },
  {
   "cell_type": "code",
   "execution_count": null,
   "metadata": {
    "ExecuteTime": {
     "end_time": "2024-03-11T07:49:00.668778Z",
     "start_time": "2024-03-11T07:49:00.626413Z"
    },
    "colab": {
     "base_uri": "https://localhost:8080/",
     "height": 226
    },
    "execution_time": 19,
    "id": "fEIosl3y83wy",
    "outputId": "a9bc455c-23d5-4a6c-fef1-0e1e787e1be4"
   },
   "outputs": [],
   "source": [
    "provinces[\"area_km2\"] = provinces.to_crs(3035).area / 1000000\n",
    "provinces.head(5)"
   ]
  },
  {
   "cell_type": "markdown",
   "metadata": {
    "id": "CpqfKtgT-BqF"
   },
   "source": [
    "Pro každou provincii tedy nyní máme a) množtví latinských nápisů, které z ní pocházejí a b) rozsah jejího území v kilometrech čtverečních. Jak získáme hustotu?"
   ]
  },
  {
   "cell_type": "code",
   "execution_count": null,
   "metadata": {
    "ExecuteTime": {
     "end_time": "2024-03-11T07:49:03.226539Z",
     "start_time": "2024-03-11T07:49:03.223363Z"
    },
    "execution_time": 20,
    "id": "0A4nz1kkr62x"
   },
   "outputs": [],
   "source": [
    "provinces[\"LIST_density\"] = provinces[\"LIST_n\"] / provinces[\"area_km2\"]"
   ]
  },
  {
   "cell_type": "markdown",
   "metadata": {
    "id": "qokmUF7uE0A6"
   },
   "source": [
    "Data si prohlédneme uspořádaná od položek s největší hodnotou tohoto nového atributu:"
   ]
  },
  {
   "cell_type": "code",
   "execution_count": null,
   "metadata": {
    "ExecuteTime": {
     "end_time": "2024-03-11T07:49:04.142631Z",
     "start_time": "2024-03-11T07:49:04.136136Z"
    },
    "colab": {
     "base_uri": "https://localhost:8080/",
     "height": 226
    },
    "execution_time": 21,
    "id": "xof4sKWfEzFn",
    "outputId": "f0262cd2-d163-42a2-928e-8e9bf096c3b8"
   },
   "outputs": [],
   "source": [
    "provinces.sort_values(\"LIST_density\", ascending=False, inplace=True)\n",
    "provinces.head(5)"
   ]
  },
  {
   "cell_type": "markdown",
   "metadata": {
    "id": "tqfbwO2eFkX3"
   },
   "source": [
    "Vydíme zde výraznou vyjímečnost dat z města Říma (první řádek) a jeho nejbližšího okolí (Lacia, první polygon je současně obsažen v druhém), kde máme řádově vyšší hodnoty, než kdekoli jinde. Proto je z následující vizualizace vyloučíme."
   ]
  },
  {
   "cell_type": "markdown",
   "metadata": {
    "id": "01l6WIptERyl"
   },
   "source": [
    "Danou hodnotu vyjádříme prostřednictvím baravného odstínu příslušné provincie:"
   ]
  },
  {
   "cell_type": "code",
   "execution_count": null,
   "metadata": {
    "ExecuteTime": {
     "end_time": "2024-03-11T07:49:08.094178Z",
     "start_time": "2024-03-11T07:49:05.977001Z"
    },
    "colab": {
     "base_uri": "https://localhost:8080/",
     "height": 466
    },
    "execution_time": 22,
    "id": "Pjs1Nf3jElKb",
    "outputId": "95ffb9e5-6999-41b7-ea12-d15b6de532ec"
   },
   "outputs": [],
   "source": [
    "provinces.plot(column=provinces[\"LIST_density\"], cmap=\"Reds\", edgecolor=\"black\", scheme=\"Quantiles\", k=20)"
   ]
  },
  {
   "cell_type": "markdown",
   "metadata": {
    "id": "bRK4-QH_s03W"
   },
   "source": [
    "Vidíme, že latinské nápisy se akumulují převážně v západní části Římské říše. To je i území, o němž víme, že na něm dominovala latina. Zatímco ve východní části říše dominovala řečtina.\n",
    "\n",
    "Proto si nyní stáhneme a načteme ještě jeden dataset. Opět se jedná o dataset nápisů, tentokrát však v řečtině.\n"
   ]
  },
  {
   "cell_type": "code",
   "execution_count": null,
   "metadata": {
    "ExecuteTime": {
     "end_time": "2024-03-11T07:49:54.283482Z",
     "start_time": "2024-03-11T07:49:27.370639Z"
    },
    "colab": {
     "base_uri": "https://localhost:8080/"
    },
    "execution_time": 23,
    "id": "hZssu32xP5BI",
    "outputId": "996dc809-2d6e-4129-843a-ffde7568366b"
   },
   "outputs": [],
   "source": [
    "# nyní si stáhneme a načteme ještě jeden dataset. Opět se jedná o dataset nápisů, tentokrát však v řečtině-\n",
    "!curl https://zenodo.org/records/10139110/files/GIST_v1-1.parquet --output GIST_v1-1.parquet"
   ]
  },
  {
   "cell_type": "code",
   "execution_count": null,
   "metadata": {
    "ExecuteTime": {
     "end_time": "2024-03-11T07:49:55.578915Z",
     "start_time": "2024-03-11T07:49:54.286225Z"
    },
    "colab": {
     "base_uri": "https://localhost:8080/"
    },
    "execution_time": 24,
    "id": "MEh3fkFBP6KM",
    "outputId": "44037378-ec5a-4a65-8e03-b75f1cbf2c58"
   },
   "outputs": [],
   "source": [
    "GIST = gpd.read_parquet(\"GIST_v1-1.parquet\")\n",
    "GIST.shape"
   ]
  },
  {
   "cell_type": "markdown",
   "metadata": {
    "id": "-Ba5nMnIIKZc"
   },
   "source": [
    "Opět se omezíme pouze na vybrané atributy, které budou s výjimkou první (identifikátor) totožné jako v předchozím případě: \"PHI_ID\", \"Longitude\", \"Latitude\", \"geometry\",  \"not_before\", \"not_after\" a  \"is_geotemporal\". Současně rovnou provedeme filtraci a omezíme se pouze na ty s validní geometrií a datací.\n"
   ]
  },
  {
   "cell_type": "code",
   "execution_count": null,
   "metadata": {
    "ExecuteTime": {
     "end_time": "2024-03-11T07:49:55.676103Z",
     "start_time": "2024-03-11T07:49:55.579626Z"
    },
    "colab": {
     "base_uri": "https://localhost:8080/",
     "height": 383
    },
    "execution_time": 25,
    "id": "iWFt-zm5IIaw",
    "outputId": "eb4697e0-c3b2-476a-9638-f7ebb0e08f36"
   },
   "outputs": [],
   "source": [
    "GIST = GIST[[\"PHI_ID\", \"Longitude\", \"Latitude\", \"geometry\", \"not_before\", \"not_after\", \"is_geotemporal\"]]\n",
    "GIST = GIST[GIST[\"is_geotemporal\"]]\n",
    "GIST.sample(10, random_state=0)"
   ]
  },
  {
   "cell_type": "markdown",
   "metadata": {
    "id": "o5IzC2q7JcR0"
   },
   "source": [
    "Následně si můžeme opět minimalisticky vizualizovat všechny tyto nápisy společně s našimi dalšími dvěma datasety:"
   ]
  },
  {
   "cell_type": "code",
   "execution_count": null,
   "metadata": {
    "ExecuteTime": {
     "end_time": "2024-03-11T07:50:01.579854Z",
     "start_time": "2024-03-11T07:49:55.677459Z"
    },
    "colab": {
     "base_uri": "https://localhost:8080/",
     "height": 399
    },
    "execution_time": 26,
    "id": "Ud8ZvPjsJKyj",
    "outputId": "551b4be1-5d0b-4e36-a7c0-c012f98fb64b"
   },
   "outputs": [],
   "source": [
    "ax = provinces.plot(color=\"lightgrey\")\n",
    "LIST.plot(markersize=1, ax=ax, color=\"darkred\", alpha=0.5)\n",
    "GIST.plot(markersize=1, ax=ax, color=\"darkblue\", alpha=0.5)"
   ]
  },
  {
   "cell_type": "markdown",
   "metadata": {
    "id": "9coPoGYlKvuf"
   },
   "source": [
    "Vidíme zde poměrně jasný prostorový vzor. Povšimneme, že řecké nápisy dominují od dnešního Chorvatska směrem dále na východ. Pojďme ale toto pozorování rozpracovat numericky. Spočtěme si počty řeckých nápisů v jednotlivých provinciích a též jejich hustoty."
   ]
  },
  {
   "cell_type": "markdown",
   "metadata": {
    "id": "-169HEVb1rMi"
   },
   "source": [
    "# Samostatný úkol: počet a hustota řeckých nápisů uvnitř jednotlivých provincií:\n",
    "\n",
    "Povšimli jsme si, že dataset řeckých nápisů `GIST` má obdobnou strukturu jako dataset latinských nápisů `LIST`.\n",
    "\n",
    "V případě latinských nápisů jsme výše také spočítali jejich počet uvnitř jednotlivých provincií v datasetu `provinces`, když jsme zde aplikovali funkce `contains()` a `sum()`. Dataset `provinces` jsme tak obohatili o nový atribut s názvem `\"LIST_n\"`. Dále jsme vytvořili atribut `\"area_sk\"` a nakonec - za využití těchto dvou předchozích atributů - atribut `\"LIST_density\"`.\n",
    "\n",
    "Vašim **samostatným úkolem** nyní je obohatit dataset `provinces` o dva další atributy, které budou obsahovat informace o počtech a hustotě řeckých nápisů z datasetu `GIST`. Nazvete je `\"GIST_n\"` a \"`GIST_density`\".\n",
    "\n",
    "(Nápověda: V zásadě jde o to buněk níže zkopírovat a mírně poupravit několik řádek kódu, které jsme použili výše k vytvoření atributů `\"LIST_n\"` a `\"LIST_density\"`.)\n",
    "\n"
   ]
  },
  {
   "cell_type": "code",
   "execution_count": null,
   "metadata": {
    "execution_time": 27,
    "id": "Z5GASrOO1pcL"
   },
   "outputs": [],
   "source": [
    "# ÚKOL 1\n",
    "# přidejme k datasetu provinces atribut \"GIST_n\" (za využití kombinace funkcí apply(), contains() a sum() - viz výše v případě latinských nápisů)\n",
    "\n"
   ]
  },
  {
   "cell_type": "code",
   "execution_count": null,
   "metadata": {
    "execution_time": 28,
    "id": "2CgywpSUJoMI"
   },
   "outputs": [],
   "source": [
    "# výsledek si prohlédneme:\n",
    "provinces.head(5)"
   ]
  },
  {
   "cell_type": "code",
   "execution_count": null,
   "metadata": {
    "execution_time": 29,
    "id": "xgPeccFkKtmL"
   },
   "outputs": [],
   "source": [
    "# ÚKOL 2:\n",
    "# přidejme k datasetu provinces atribut \"GIST_density\" (počty nápisů v atributu \"GIST_n\" vydělíme hustutou v atributu \"area_sk\" - viz obdobný výpočet výše v případě latinských nápisů)\n",
    "\n"
   ]
  },
  {
   "cell_type": "markdown",
   "metadata": {
    "id": "6NjQjMGv9NfI"
   },
   "source": [
    "Pokud jsme postupovali správně, půjdou nám spustit i buňky kódu níže."
   ]
  },
  {
   "cell_type": "code",
   "execution_count": null,
   "metadata": {
    "ExecuteTime": {
     "end_time": "2024-03-11T07:54:23.248917Z",
     "start_time": "2024-03-11T07:54:23.062511Z"
    },
    "execution_time": 30,
    "id": "7EYDFD3EJmFC"
   },
   "outputs": [],
   "source": [
    "fig, ax1 = plt.subplots()\n",
    "provinces.plot(column=provinces[\"GIST_density\"], cmap=\"Blues\", edgecolor=\"black\", scheme=\"Quantiles\", k=20, ax=ax1)\n",
    "\n",
    "# tentokrát si vytvoříme i legendu\n",
    "# budeme postupovat krok po kroku, abychom měli plnou kontrolu\n",
    "mpl.rcParams[\"ytick.labelcolor\"] = \"black\"\n",
    "vmin = np.round(provinces[\"GIST_density\"].min(), 2)\n",
    "vmax = np.round(provinces[\"GIST_density\"].max(), 2)\n",
    "ax1.set_xticklabels([])\n",
    "ax1.set_yticklabels([])\n",
    "\n",
    "sm = plt.cm.ScalarMappable(cmap='Blues', norm=plt.Normalize(vmin=vmin, vmax=vmax))\n",
    "cbar = plt.colorbar(sm, ax=ax1, orientation='horizontal', shrink=0.5)\n",
    "cbar.set_ticks([vmin, vmax])\n",
    "cbar.set_label('GIST density (inscriptions per km$^2$)')"
   ]
  },
  {
   "cell_type": "markdown",
   "metadata": {
    "id": "s90Nh0XHT95i"
   },
   "source": [
    "Nyní zkombinujeme oba datasety dohromady"
   ]
  },
  {
   "cell_type": "code",
   "execution_count": null,
   "metadata": {
    "ExecuteTime": {
     "end_time": "2024-03-11T07:54:38.668113Z",
     "start_time": "2024-03-11T07:54:38.666099Z"
    },
    "execution_time": 31,
    "id": "B-e5oM9RRgfc"
   },
   "outputs": [],
   "source": [
    "# součet řeckých a latinských nápisů\n",
    "provinces[\"GLIST_n\"] = provinces[\"LIST_n\"] + provinces[\"GIST_n\"]"
   ]
  },
  {
   "cell_type": "code",
   "execution_count": null,
   "metadata": {
    "ExecuteTime": {
     "end_time": "2024-03-11T07:54:47.454629Z",
     "start_time": "2024-03-11T07:54:47.452388Z"
    },
    "execution_time": 32,
    "id": "Rqd0ttpeRoYL"
   },
   "outputs": [],
   "source": [
    "# hustota součtu řeckých a latinských nápisů\n",
    "provinces[\"GLIST_density\"] = provinces[\"GLIST_n\"] / provinces[\"area_km2\"]"
   ]
  },
  {
   "cell_type": "code",
   "execution_count": null,
   "metadata": {
    "ExecuteTime": {
     "end_time": "2024-03-11T07:54:49.776624Z",
     "start_time": "2024-03-11T07:54:49.773876Z"
    },
    "execution_time": 33,
    "id": "i4KIbKr2RxJo"
   },
   "outputs": [],
   "source": [
    "# proporcionální zastoupení latinských nápisů na škále od jedné do nuly (1=pouze latinské, 0=pouze řecké)\n",
    "provinces[\"LIST_proportion\"] = provinces[\"LIST_n\"] / provinces[\"GLIST_n\"]"
   ]
  },
  {
   "cell_type": "code",
   "execution_count": null,
   "metadata": {
    "ExecuteTime": {
     "end_time": "2024-03-11T07:54:50.535292Z",
     "start_time": "2024-03-11T07:54:50.413241Z"
    },
    "execution_time": 34,
    "id": "Wa43_wG9Sbw6"
   },
   "outputs": [],
   "source": [
    "fig, ax1 = plt.subplots()\n",
    "provinces.plot(column=provinces[\"LIST_proportion\"], cmap=\"seismic\", edgecolor=\"black\", ax=ax1)\n",
    "ax1.set_yticklabels([])\n",
    "ax1.set_xticklabels([])\n",
    "\n",
    "mpl.rcParams[\"xtick.labelcolor\"] = \"black\"\n",
    "sm = plt.cm.ScalarMappable(cmap='seismic') #, norm=plt.Normalize(vmin=0, vmax=1))\n",
    "cbar = plt.colorbar(sm, ax=ax1, orientation='horizontal', shrink=0.5)\n",
    "cbar.set_ticks([0, 0.5, 1])\n",
    "cbar.set_label('LIST proportion (0=no latin; 1=latin only)')"
   ]
  },
  {
   "cell_type": "markdown",
   "metadata": {},
   "source": [
    "Tento obrázek si nyní uložíme."
   ]
  },
  {
   "cell_type": "code",
   "execution_count": null,
   "metadata": {
    "ExecuteTime": {
     "end_time": "2024-03-11T07:55:22.073966Z",
     "start_time": "2024-03-11T07:55:22.015756Z"
    },
    "execution_time": 35,
    "id": "VIDS2Y0zYpRL"
   },
   "outputs": [],
   "source": [
    "fig.savefig(\"provinces_list-proportion.png\")\n",
    "#files.download(\"provinces_list-proportion.png\")"
   ]
  },
  {
   "cell_type": "markdown",
   "metadata": {
    "id": "lWdmTvzZiYra"
   },
   "source": [
    "# Rozšiřující analýza: časový rozměr"
   ]
  },
  {
   "cell_type": "code",
   "execution_count": null,
   "metadata": {
    "ExecuteTime": {
     "end_time": "2024-03-11T07:55:58.170991Z",
     "start_time": "2024-03-11T07:55:56.214588Z"
    },
    "execution_time": 36,
    "id": "huUly8_pl2dq"
   },
   "outputs": [],
   "source": [
    "%%capture\n",
    "# doinstalujeme si knihovnu pro práci s \"časovou nejistotou\" v historických datech: https://pypi.org/project/tempun/\n",
    "!pip install tempun\n",
    "import tempun"
   ]
  },
  {
   "cell_type": "code",
   "execution_count": null,
   "metadata": {
    "ExecuteTime": {
     "end_time": "2024-03-11T07:57:12.976014Z",
     "start_time": "2024-03-11T07:56:02.625013Z"
    },
    "execution_time": 37,
    "id": "hgiAEJ2KimXZ"
   },
   "outputs": [],
   "source": [
    "# datace jednotlivých nápisů jsou v tuto chvíli vyjádřeny interval, s touto formou dat se rozložení dat v čase špatně analyzuje\n",
    "# datační interval využijeme nyní k tomu, že si každý nápis datujeme do jednoho konkrétního roku ohraničeného tímto intervalem\n",
    "# POZOR: provedení tohoto příkazu trvá několik minut\n",
    "def get_one_random_year(row):\n",
    "  year = tempun.model_date(row[\"not_before\"], row[\"not_after\"], size=2)[0]\n",
    "  return year\n",
    "GIST[\"year\"] = GIST.apply(lambda row: get_one_random_year(row), axis=1)\n",
    "LIST[\"year\"] = LIST.apply(lambda row: get_one_random_year(row), axis=1)"
   ]
  },
  {
   "cell_type": "code",
   "execution_count": null,
   "metadata": {
    "ExecuteTime": {
     "end_time": "2024-03-11T07:57:13.110625Z",
     "start_time": "2024-03-11T07:57:12.976990Z"
    },
    "execution_time": 38,
    "id": "VtTlGqIajkts"
   },
   "outputs": [],
   "source": [
    "# vytvoříme histogram distribuce nápisů v čase\n",
    "fig, ax = plt.subplots()\n",
    "GIST[\"year\"].hist(color=\"darkred\", bins=range(-800,600,50), histtype='step', ax=ax)\n",
    "LIST[\"year\"].hist(color=\"darkblue\", bins=range(-800,600,50), histtype='step', ax=ax)\n",
    "ax.set_ylabel(\"N of inscriptions\")\n",
    "ax.set_xlabel(\"year\")"
   ]
  },
  {
   "cell_type": "code",
   "execution_count": null,
   "metadata": {
    "ExecuteTime": {
     "end_time": "2024-03-11T07:57:19.698745Z",
     "start_time": "2024-03-11T07:57:13.114773Z"
    },
    "execution_time": 39,
    "id": "GRanLKwmkHDI"
   },
   "outputs": [],
   "source": [
    "# vytvoříme mapu všech nápisů datovaných před naším letopočtem (nahoře) a našeho letopočtu (dole)\n",
    "fig, [ax1,ax2] = plt.subplots(2,1, dpi=300, tight_layout=True)\n",
    "\n",
    "provinces.plot(color=\"lightgrey\", ax=ax1)\n",
    "GIST[GIST[\"year\"]<=0].plot(color=\"darkblue\", alpha=0.5, markersize=1, ax=ax1)\n",
    "LIST[LIST[\"year\"]<=0].plot(color=\"darkred\", alpha=0.5, markersize=1, ax=ax1)\n",
    "ax1.set_xlim(-10,50)\n",
    "ax1.set_yticklabels([])\n",
    "ax1.set_xticklabels([])\n",
    "ax1.set_title(\"All inscriptions BCE\")\n",
    "\n",
    "provinces.plot(color=\"lightgrey\", ax=ax2)\n",
    "GIST[GIST[\"year\"]>0].plot(color=\"darkblue\", markersize=1,alpha=0.5, ax=ax2)\n",
    "LIST[LIST[\"year\"]>0].plot(color=\"darkred\", markersize=1, alpha=0.5, ax=ax2)\n",
    "ax2.set_xlim(-10,50)\n",
    "ax2.set_yticklabels([])\n",
    "ax2.set_xticklabels([])\n",
    "ax2.set_title(\"All inscriptions CE\")\n"
   ]
  },
  {
   "cell_type": "code",
   "execution_count": null,
   "metadata": {
    "ExecuteTime": {
     "end_time": "2024-03-11T07:58:00.432128Z",
     "start_time": "2024-03-11T07:58:00.430389Z"
    },
    "execution_time": 40
   },
   "outputs": [],
   "source": [
    "# fig.savefig(\"GIST+LIST_BCvsCE.png\")"
   ]
  },
  {
   "cell_type": "code",
   "execution_count": null,
   "metadata": {
    "execution_time": 41
   },
   "outputs": [],
   "source": []
  }
 ],
 "metadata": {
  "colab": {
   "provenance": []
  },
  "kernelspec": {
   "display_name": "brewkernel",
   "language": "python",
   "name": "brewkernel"
  },
  "language_info": {
   "name": "python"
  }
 },
 "nbformat": 4,
 "nbformat_minor": 0
}
