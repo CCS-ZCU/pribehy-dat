{
 "cells": [
  {
   "cell_type": "markdown",
   "metadata": {},
   "source": [
    "V kodu je nedostatek, ktery vznika v 5. radku druhe bunky, kvuli regex funkci. Nenasel jsem vhodnejsi vyhledavac nez 'findall'. V dusledku toho vznika list listu. Kvuli nemu mi lezly [] a '' do url adresy. Proto je odstranuju na 3. radku treti bunky.\n",
    "\n",
    "Nehezke, ale funguje."
   ]
  },
  {
   "cell_type": "code",
   "execution_count": 21,
   "metadata": {},
   "outputs": [],
   "source": [
    "import re\n",
    "import json\n",
    "import requests\n",
    "import pandas as pd\n",
    "from bs4 import BeautifulSoup"
   ]
  },
  {
   "cell_type": "code",
   "execution_count": 2,
   "metadata": {},
   "outputs": [],
   "source": [
    "resp = requests.get(\"https://sciencedata.dk/public/082a018b1f2fd125ef4907f01ab2e2cf/\")\n",
    "soup = BeautifulSoup(resp.content, \"html.parser\")\n",
    "adress = []\n",
    "for item in soup.find_all(\"a\"):\n",
    "    adress.append((re.findall('(?<=href=\\\").*\\.json', str(item))))\n",
    "adress = adress[0::2]\n",
    "adress = adress[:-1]"
   ]
  },
  {
   "cell_type": "code",
   "execution_count": 24,
   "metadata": {},
   "outputs": [],
   "source": [
    "data = []\n",
    "for item in adress:\n",
    "    resp = requests.get('https://sciencedata.dk' + str(item).strip('[]\\''))\n",
    "    data.append(json.loads(resp.text))"
   ]
  },
  {
   "cell_type": "code",
   "execution_count": 26,
   "metadata": {},
   "outputs": [],
   "source": [
    "data_df = pd.DataFrame(data)"
   ]
  }
 ],
 "metadata": {
  "kernelspec": {
   "display_name": ".env",
   "language": "python",
   "name": "python3"
  },
  "language_info": {
   "codemirror_mode": {
    "name": "ipython",
    "version": 3
   },
   "file_extension": ".py",
   "mimetype": "text/x-python",
   "name": "python",
   "nbconvert_exporter": "python",
   "pygments_lexer": "ipython3",
   "version": "3.11.8"
  }
 },
 "nbformat": 4,
 "nbformat_minor": 2
}
