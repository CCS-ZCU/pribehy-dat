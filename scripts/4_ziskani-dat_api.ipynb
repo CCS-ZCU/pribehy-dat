{
 "nbformat": 4,
 "nbformat_minor": 0,
 "metadata": {
  "colab": {
   "provenance": [],
   "include_colab_link": true
  },
  "kernelspec": {
   "display_name": "Python 3",
   "language": "python",
   "name": "python3"
  }
 },
 "cells": [
  {
   "cell_type": "markdown",
   "metadata": {
    "id": "view-in-github",
    "colab_type": "text"
   },
   "source": [
    "<a href=\"https://colab.research.google.com/github/CCS-ZCU/pribehy-dat/blob/master/scripts/2_zaklady-pythonu.ipynb\" target=\"_parent\"><img src=\"https://colab.research.google.com/assets/colab-badge.svg\" alt=\"Open In Colab\"/></a>"
   ]
  },
  {
   "cell_type": "markdown",
   "source": [
    "### Úvod a cíle kapitoly\n",
    "\n",
    "V této kapitole se podíváme na získání dat přes tzv. API, neboli \"application programming interface\". Webový prohlížeč je jen jeden ze způsobů, jak využívat internet. Mnohé aplikace, které máme v našich počítačích i chtrých telefonech, získávají z internetu data, aniž by webový prohlížeč jakkoli vstupoval do hry. Tyto aplikace komunikují s WWW servery za využití tzv. HTTP (Hypertext Transfer Protocol): Aplikace vznášejí dotazy v podobě URL adres a server na ně odpovídá tím, že vrátí např. dotazovaná data. Tento systém dotazování v podobě URL adres a odpovídání na ně v podobě dat je nikdy standardizovaný do podoby standardizovaného API. Tato technologie je využívána i pro potřeby zpřístupňování dat z oblasti péče o kulturní dědictví. "
   ],
   "metadata": {
    "collapsed": false
   }
  },
  {
   "cell_type": "markdown",
   "source": [
    "Vezměme příklad: Projekt Epigraphic Database Heidelberg hostí digitalizovanou kolekci více než 80,000 převážně latinských nápisů z antického Říma. Tyto nápisy si veřejnost může prohlížet a prohledávat za využití webových stránek [zde](https://edh.ub.uni-heidelberg.de/inschrift/suche). Kromě toho má však badatel ještě jinou možnost, jak se dostat k příslušným datům, a totiž právě za využití speciálně vyvinutého API, které je zdokumentováno [zde](https://edh.ub.uni-heidelberg.de/data/api).\n",
    "\n",
    "V této dokumentaci se podrobně dočteme, jaké parametry můžeme v našem dotazu (query) použít a jak. \n",
    "\n",
    "Základní URL adresa je `https://edh.ub.uni-heidelberg.de/data/api/inschrift/suche?`, za níž připojujeme parametry pro určení námi hledané skupiny nápisů."
   ],
   "metadata": {
    "collapsed": false
   }
  },
  {
   "cell_type": "markdown",
   "source": [
    "Chceme-li např. získat data o všech nápisech z Římské provincie *Germania superior*, nastavíme parametr \"provinz\" na hodnotu \"ges\". Výsledná URL adresa pak vypadá takto:\n",
    "\n",
    "```\n",
    "https://edh.ub.uni-heidelberg.de/data/api/inschrift/suche?provinz=ges\n",
    "```"
   ],
   "metadata": {
    "collapsed": false
   }
  },
  {
   "cell_type": "code",
   "outputs": [],
   "source": [],
   "metadata": {
    "collapsed": false
   }
  }
 ]
}
