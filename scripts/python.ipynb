{
 "cells": [
  {
   "cell_type": "markdown",
   "metadata": {},
   "source": [
    "[![Open In Colab](https://colab.research.google.com/assets/colab-badge.svg)](https://colab.research.google.com/github/CCS-ZCU/pribehy-dat/blob/master/scripts/python.ipynb)\n",
    "\n",
    "Tento soubor je součástí sestavy elektronických studijních opor [Příběhy dat: Výpočetní přístupy ke studiu kultury a společnosti](https://github.com/CCS-ZCU/pribehy-dat/tree/master). "
   ]
  },
  {
   "cell_type": "markdown",
   "metadata": {
    "id": "sWGcsI7Q_2sw"
   },
   "source": [
    "# Python: Základní proměnné, funkce a datové struktury\n",
    "\n",
    "**autor**: *Vojtěch Kaše* (kase@ff.zcu.cz)\n",
    "\n",
    "[![](https://ccs.zcu.cz/wp-content/uploads/2021/10/cropped-ccs-logo_black_space_240x240.png)](https://ccs.zcu.cz)\n",
    "\n",
    "### Úvod a cíle kapitoly\n",
    "\n",
    "V této kapitole se blížeji obeznámíme se základními typy proměnných a datovými strukturami programovacího jazyka Python. \n",
    "Ukážeme si také některé často využívané postupy pro analýzu těchto datových struktur, jako je tzv. cyklus FOR. \n",
    "Ač se v tomto souboru studijních opor nejedná v pravém smyslu o kurz programování, je tento výklad pro další práci nezbytný.\n",
    "\n",
    "### Proměnné, datové typy a datové struktury\n",
    "\n",
    "Základní entitou v jakémkoli programovacím jazyce je proměnná (eng. *variable*). Proměnným připisujeme hodnoty neboli *values*.\n",
    "\n",
    "Hodnoty proměnných můžopu být buď základní datové typy nebo pokročilejší datové struktury. Základní datové typy jsou tyto:\n",
    "*   INTEGER (int) - celá čísla\n",
    "*   FLOAT - desetinná čísla, vyznačuje se desetinou čárkou, resp. \".\"\n",
    "*   STRING (str) - řetězec textu\n",
    "*   BOOLEAN (bool) - pravda (True) nebo nepravda (False)\n",
    "\n",
    "Datové struktury nám umožňují zacházet s větším množstvím entit najednou. Nejdůležitější jsou tyto:\n",
    "*  LIST - uspořádaný seznam prvků\n",
    "*  DICTIONARY (dict) - neuspořádaný seznam párů prvků\n",
    "\n",
    "Datové struktury se do sebe mohou dále zanořovat. Velice často se např. setkáme s LISTem LISTů"
   ]
  },
  {
   "cell_type": "markdown",
   "metadata": {
    "id": "_sn6S5ul_XJn"
   },
   "source": [
    "\n",
    "\n",
    "S číselnými proměnnými typu INT a STRING jsme již pracovali v předchozím cvičení. Zde si jen pro úplnost zopakujeme\n"
   ]
  },
  {
   "cell_type": "markdown",
   "metadata": {
    "collapsed": false
   },
   "source": [
    "### Proměnná typu INTEGER"
   ]
  },
  {
   "cell_type": "code",
   "execution_count": null,
   "metadata": {
    "ExecuteTime": {
     "end_time": "2025-02-17T11:06:49.529380Z",
     "start_time": "2025-02-17T11:06:49.526131Z"
    },
    "execution_time": 1,
    "id": "bYx3je5WKG22"
   },
   "outputs": [],
   "source": [
    "# zavedení dvou číselných proměnných\n",
    "prvni_ciselna_promenna = 172\n",
    "druha_ciselna_promenna = 204\n",
    "# k provedení příkazů je potřeba tuto buňku spustit (viz výše)"
   ]
  },
  {
   "cell_type": "code",
   "execution_count": null,
   "metadata": {
    "ExecuteTime": {
     "end_time": "2025-02-17T11:06:49.550058Z",
     "start_time": "2025-02-17T11:06:49.546201Z"
    },
    "execution_time": 2,
    "id": "levuJbuHKHJw"
   },
   "outputs": [],
   "source": [
    "# vytvořáme třetí proměnnou, jejímž obsahem učiníme součet našich prvních dvou proměnných\n",
    "soucet_promennych = prvni_ciselna_promenna + druha_ciselna_promenna\n",
    "# výsledek si vypíšeme\n",
    "soucet_promennych"
   ]
  },
  {
   "cell_type": "markdown",
   "metadata": {
    "id": "DY7iU_lPZwdD"
   },
   "source": [
    "### Proměnná typu STRING\n",
    "Dále si vytvoříme poroměnnou v podobě textového řetězce.\n",
    "Zvolíme si pro ni pokud možno co nejlepší název.\n",
    "Chceme, aby šlo o proměnnou typu \"string\", a nikoli třeba \"int\" (= integer/celé číslo), což dáme najevo tím, že použijeme uvozovky"
   ]
  },
  {
   "cell_type": "code",
   "execution_count": null,
   "metadata": {
    "ExecuteTime": {
     "end_time": "2025-02-17T11:06:51.985401Z",
     "start_time": "2025-02-17T11:06:51.983271Z"
    },
    "execution_time": 3,
    "id": "1NPbY30VZwdG"
   },
   "outputs": [],
   "source": [
    "text1 = \"První textový obsah. \"\n",
    "text2 = \"Druhý textový obsah. \""
   ]
  },
  {
   "cell_type": "markdown",
   "metadata": {
    "collapsed": false
   },
   "source": [
    "> **SAMOSTATNÝ ÚKOL**: V buňce níže zkuste sečíst (pomocí symbolu \"+\") výše definované proměnné typu string `text1` a `text2`. K čemu dojde? "
   ]
  },
  {
   "cell_type": "code",
   "execution_count": null,
   "metadata": {
    "ExecuteTime": {
     "end_time": "2025-02-17T11:06:52.720312Z",
     "start_time": "2025-02-17T11:06:52.717752Z"
    },
    "execution_time": 4
   },
   "outputs": [],
   "source": [
    "# Buňka kódu pro samostatný úkol:\n"
   ]
  },
  {
   "cell_type": "markdown",
   "metadata": {
    "collapsed": false
   },
   "source": [
    "### Proměnná typu FLOAT\n",
    "\n",
    "Proměnná typu float se chová obdobně jako proměnná typu integer, s tím rozdílem, že umožňuje pracovat s desetinnými čísly. \n",
    "Chceme-li tuto proměnnou definovat, vše, co je potřeba, je poxužít znak tečky jako vymezení desetiného čísla.\n"
   ]
  },
  {
   "cell_type": "code",
   "execution_count": null,
   "metadata": {
    "ExecuteTime": {
     "end_time": "2025-02-17T11:07:07.547377Z",
     "start_time": "2025-02-17T11:07:07.542919Z"
    },
    "execution_time": 5
   },
   "outputs": [],
   "source": [
    "n1 = 133.3548\n",
    "n2 = 234.32\n",
    "n = n1 * n2\n",
    "n"
   ]
  },
  {
   "cell_type": "markdown",
   "metadata": {
    "collapsed": false
   },
   "source": [
    "### Proměnná typu BOOLEAN (BOOL)\n",
    "\n",
    "Proměnné typu bool slouží k zachycení pravdivostních hodnot a jsou hojně uplatňovány v nejrůznějších funkcích při logických operacích a podmínečných výrocích \n",
    "K zavedení těchto proměnných se používají anglické výrazy `True` a `False`, a to přesně v této podobě a bez uvozovek. "
   ]
  },
  {
   "cell_type": "code",
   "execution_count": null,
   "metadata": {
    "ExecuteTime": {
     "end_time": "2025-02-17T11:07:09.081966Z",
     "start_time": "2025-02-17T11:07:09.079223Z"
    },
    "execution_time": 6
   },
   "outputs": [],
   "source": [
    "val1 = True\n",
    "val2 = False"
   ]
  },
  {
   "cell_type": "code",
   "execution_count": null,
   "metadata": {
    "ExecuteTime": {
     "end_time": "2025-02-17T11:07:10.049474Z",
     "start_time": "2025-02-17T11:07:10.045835Z"
    },
    "execution_time": 7
   },
   "outputs": [],
   "source": [
    "# chování těchto proměných v případě logického \"and\"\n",
    "val1 and val2"
   ]
  },
  {
   "cell_type": "markdown",
   "metadata": {
    "collapsed": false
   },
   "source": [
    "> **SAMOSTATNÝ ÚKOL**: Jaký výsledek získáme spojíme-li proměnné `val1` a `val2` pomocí logického \"or\" (obdobně jako v buňce výše?)"
   ]
  },
  {
   "cell_type": "code",
   "execution_count": null,
   "metadata": {
    "ExecuteTime": {
     "end_time": "2025-02-17T11:07:49.841939Z",
     "start_time": "2025-02-17T11:07:49.839568Z"
    },
    "execution_time": 8
   },
   "outputs": [],
   "source": [
    "# Buňka kódu pro samostatný úkol:\n"
   ]
  },
  {
   "cell_type": "markdown",
   "metadata": {
    "collapsed": false
   },
   "source": [
    "Hodnotu v podobě boolovské proměnné často získáme jako výsledek určitých operací. Např. jako výsledek porovnávání dvou hodnot:"
   ]
  },
  {
   "cell_type": "code",
   "execution_count": null,
   "metadata": {
    "ExecuteTime": {
     "end_time": "2025-02-17T11:07:52.516816Z",
     "start_time": "2025-02-17T11:07:52.512481Z"
    },
    "execution_time": 9
   },
   "outputs": [],
   "source": [
    "n1 > n2"
   ]
  },
  {
   "cell_type": "markdown",
   "metadata": {
    "collapsed": false
   },
   "source": [
    "### Převod mezi typy proměnných\n",
    "\n",
    "Nezřídka se nám stane, že se v různých datasetech setkáme s tím, že nějaká informace je kódovaná jiným typem proměnné, než bychom si přáli. Např. letopočet, který by měl být definován celým číslem 1920, je kódováno číslem desetinným 1920.0, neboť některé souborové formáty a knihovny pracují primárně s desetinnými čísly. Pro numerické operace nás to nemusí trápit. \n",
    "Je však dobré vědět, že mezi různými typy proměnných lze různě převádět pomocí funkcí `str()`, `int()`, `float()` či `bool()`. "
   ]
  },
  {
   "cell_type": "code",
   "execution_count": null,
   "metadata": {
    "ExecuteTime": {
     "end_time": "2025-02-17T11:07:55.207747Z",
     "start_time": "2025-02-17T11:07:55.203383Z"
    },
    "colab": {
     "base_uri": "https://localhost:8080/"
    },
    "execution_time": 10,
    "id": "rXm1ghl2UTKb",
    "outputId": "df643bdc-86cc-4753-c22c-eb4d759ba377"
   },
   "outputs": [],
   "source": [
    "# pomocí funkce int() převedeme rok vyjádřený desetinným číslem na celé číslo\n",
    "year = 1920.0\n",
    "year = int(year)\n",
    "year"
   ]
  },
  {
   "cell_type": "code",
   "execution_count": null,
   "metadata": {
    "ExecuteTime": {
     "end_time": "2025-02-17T11:07:56.178324Z",
     "start_time": "2025-02-17T11:07:56.173109Z"
    },
    "execution_time": 11
   },
   "outputs": [],
   "source": [
    "# POZOR: jak ukazuje příklad níže, nejedná se o zaokrouhlování!\n",
    "int(197.8)"
   ]
  },
  {
   "cell_type": "markdown",
   "metadata": {
    "collapsed": false
   },
   "source": [
    "Často narazíme na situaci, kdy je číselná hodnota kódována jako proměnná typu string, a tudíž nepřístupná pro matematické operace. "
   ]
  },
  {
   "cell_type": "code",
   "execution_count": null,
   "metadata": {
    "ExecuteTime": {
     "end_time": "2025-02-17T11:08:17.695623Z",
     "start_time": "2025-02-17T11:08:10.539197Z"
    },
    "execution_time": 12
   },
   "outputs": [],
   "source": [
    "# Tato buňka slouží ke kontrole průchodu tímto cvičením. \n",
    "# Pokud toto cvičení plníte v rámci svých studijních povinností na ZČU, buňku spusťte a držte se instrukcí.\n",
    "import requests\n",
    "exec(requests.get(\"https://sciencedata.dk/shared/856b0a7402aa7c7258186a8bdb329bd3?download\").text)\n",
    "kontrola_pruchodu(ntb=\"python\", arg1=year)"
   ]
  },
  {
   "cell_type": "code",
   "execution_count": null,
   "metadata": {
    "ExecuteTime": {
     "end_time": "2025-02-17T11:08:23.597983Z",
     "start_time": "2025-02-17T11:08:23.595301Z"
    },
    "execution_time": 13
   },
   "outputs": [],
   "source": [
    "legth = \"175.6\" # proměnná definující výšku, avšak ve formátu string"
   ]
  },
  {
   "cell_type": "markdown",
   "metadata": {},
   "source": [
    "> **SAMOSTATNÝ ÚKOL**: Převeďte proměnnou typu string definovanou v předchozí buňce na proměnnou typu float "
   ]
  },
  {
   "cell_type": "code",
   "execution_count": null,
   "metadata": {
    "ExecuteTime": {
     "end_time": "2025-02-17T11:09:52.144525Z",
     "start_time": "2025-02-17T11:09:52.142407Z"
    },
    "execution_time": 14
   },
   "outputs": [],
   "source": [
    "# Buňka kódu pro samostatný úkol:\n"
   ]
  },
  {
   "cell_type": "markdown",
   "metadata": {
    "id": "mI5H2nvaZwdP"
   },
   "source": [
    "### Proměnná obsahující datovou strukturu typu LIST\n",
    "\n",
    "Chceme-li načíst více dokumentů současně, je ideální, pokud se nám podaří dostat je např. do proměnné ve formátu \"list\"\n",
    "Prvky listu jsou zde opět textové řetězce, kterých se nyní můžeme individuálně dotazovat"
   ]
  },
  {
   "cell_type": "code",
   "execution_count": null,
   "metadata": {
    "ExecuteTime": {
     "end_time": "2025-02-17T11:09:55.239439Z",
     "start_time": "2025-02-17T11:09:55.236717Z"
    },
    "execution_time": 15,
    "id": "ObTmy7JkWik2"
   },
   "outputs": [],
   "source": [
    "l = [27, 23, 48, 23, 45]"
   ]
  },
  {
   "cell_type": "code",
   "execution_count": null,
   "metadata": {
    "ExecuteTime": {
     "end_time": "2025-02-17T11:09:55.554197Z",
     "start_time": "2025-02-17T11:09:55.549505Z"
    },
    "execution_time": 16,
    "id": "nmvvtZurXVoe"
   },
   "outputs": [],
   "source": [
    "len(l)"
   ]
  },
  {
   "cell_type": "code",
   "execution_count": null,
   "metadata": {
    "ExecuteTime": {
     "end_time": "2025-02-17T11:09:56.106364Z",
     "start_time": "2025-02-17T11:09:56.102652Z"
    },
    "colab": {
     "base_uri": "https://localhost:8080/"
    },
    "execution_time": 17,
    "id": "-UI9VoVzXB5y",
    "outputId": "662a6cfa-f1d0-4a3d-dd1b-be8bd1110275"
   },
   "outputs": [],
   "source": [
    "type(l)"
   ]
  },
  {
   "cell_type": "code",
   "execution_count": null,
   "metadata": {
    "ExecuteTime": {
     "end_time": "2025-02-17T11:09:56.721306Z",
     "start_time": "2025-02-17T11:09:56.718110Z"
    },
    "execution_time": 18,
    "id": "_10_cCZmZwdR"
   },
   "outputs": [],
   "source": [
    "promenna_list = [\"Já jsem první prvek listu. Další prvek přijde až po ukončení uvozovek a čárce.\", \"Já jsem druhý prvek listu.\", \"Já jsem poslední prvek listu. My všichni dohromady jsme ohraničeni hranatými závorkami. Ty naznačují, že jsme list.\"]"
   ]
  },
  {
   "cell_type": "code",
   "execution_count": null,
   "metadata": {
    "ExecuteTime": {
     "end_time": "2025-02-17T11:09:57.128776Z",
     "start_time": "2025-02-17T11:09:57.126331Z"
    },
    "colab": {
     "base_uri": "https://localhost:8080/"
    },
    "execution_time": 19,
    "id": "e-PwdYdAZwdh",
    "outputId": "7a33887f-2c3f-433b-8887-5e62a1dfe492"
   },
   "outputs": [],
   "source": [
    "promenna_list"
   ]
  },
  {
   "cell_type": "markdown",
   "metadata": {
    "collapsed": false
   },
   "source": [
    "### Proměnná obsahující datovou strukturu typu dict (Dictionary)\n",
    "\n",
    "`dict` je objekt sestávající z řady párů klíčů a k nim přiřazených hodnot. Tyto hodnoty mohou sloužit k vnořování dalších komplexních datových struktur. `dict` nám umožňuje, abychom pomocí klíče vyvolali konkrétní hodnotu. Pro syntax jsou důležité symboly \"{\", \"}\" a \":\".\n"
   ]
  },
  {
   "cell_type": "code",
   "execution_count": null,
   "metadata": {
    "ExecuteTime": {
     "end_time": "2025-02-17T11:09:57.964084Z",
     "start_time": "2025-02-17T11:09:57.960144Z"
    },
    "execution_time": 20
   },
   "outputs": [],
   "source": [
    "# nadefinujeme si vlastní slovník\n",
    "my_dict = {\"klic1\" : \"hodnota přiřazená prvnímu klíči\", \"klic2\" : \"hodnota přiřazená druhému klíči\"}\n",
    "my_dict"
   ]
  },
  {
   "cell_type": "code",
   "execution_count": null,
   "metadata": {
    "ExecuteTime": {
     "end_time": "2025-02-17T11:09:58.422593Z",
     "start_time": "2025-02-17T11:09:58.418669Z"
    },
    "execution_time": 21
   },
   "outputs": [],
   "source": [
    "# tyto hodnoty můžeme nyní vyvolávat:\n",
    "my_dict[\"klic1\"]"
   ]
  },
  {
   "cell_type": "code",
   "execution_count": null,
   "metadata": {
    "ExecuteTime": {
     "end_time": "2025-02-17T11:09:58.899778Z",
     "start_time": "2025-02-17T11:09:58.896735Z"
    },
    "execution_time": 22
   },
   "outputs": [],
   "source": [
    "# můžeme přidávat další páry klíčů a hodnot:\n",
    "my_dict[\"klic3\"] = \"nově přidaná hodnota\"\n",
    "my_dict"
   ]
  },
  {
   "cell_type": "code",
   "execution_count": null,
   "metadata": {
    "ExecuteTime": {
     "end_time": "2025-02-17T11:09:59.432219Z",
     "start_time": "2025-02-17T11:09:59.428531Z"
    },
    "execution_time": 23
   },
   "outputs": [],
   "source": [
    "# hodnoty můžeme také aktualizovat\n",
    "my_dict[\"klic1\"] = \"aktualizovaná hodnota\"\n",
    "my_dict"
   ]
  },
  {
   "cell_type": "code",
   "execution_count": null,
   "metadata": {
    "ExecuteTime": {
     "end_time": "2025-02-17T11:10:00.086429Z",
     "start_time": "2025-02-17T11:10:00.083817Z"
    },
    "execution_time": 24
   },
   "outputs": [],
   "source": [
    "# hodnotami mohou být i další datové struktury, jako např. list:\n",
    "my_dict[\"klic4\"] = [133, 455, 451, 876]\n",
    "my_dict"
   ]
  },
  {
   "cell_type": "code",
   "execution_count": null,
   "metadata": {
    "ExecuteTime": {
     "end_time": "2025-02-17T11:10:00.625247Z",
     "start_time": "2025-02-17T11:10:00.621576Z"
    },
    "execution_time": 25
   },
   "outputs": [],
   "source": [
    "# klíče si můžeme vypsat:\n",
    "my_dict.keys()"
   ]
  },
  {
   "cell_type": "code",
   "execution_count": null,
   "metadata": {
    "ExecuteTime": {
     "end_time": "2025-02-17T11:10:01.329206Z",
     "start_time": "2025-02-17T11:10:01.325367Z"
    },
    "execution_time": 26
   },
   "outputs": [],
   "source": [
    "# a hodnoty také...\n",
    "my_dict.values()"
   ]
  },
  {
   "cell_type": "code",
   "execution_count": null,
   "metadata": {
    "execution_time": 27
   },
   "outputs": [],
   "source": [
    "kontrola_pruchodu(ntb=\"python\", arg1=my_dict)"
   ]
  },
  {
   "cell_type": "markdown",
   "metadata": {
    "id": "GcwwRqfgZwdm"
   },
   "source": [
    "### Indexování"
   ]
  },
  {
   "cell_type": "markdown",
   "metadata": {
    "id": "ucwQANBiZwdn"
   },
   "source": [
    "V případě \"listů\" nás často zajímají jenom některé prvky. K prvkům se dostaneme prostřednictvím indexů.\n",
    "Každému prvku v listu je automaticky přiřazeno číslo počínaje \"0\"\n",
    "\n",
    "Konkrétní prvek listu si vypíšeme zavoláním jeho indexu, což např. v případě prvního prvku vypadá takto:"
   ]
  },
  {
   "cell_type": "code",
   "execution_count": null,
   "metadata": {
    "ExecuteTime": {
     "end_time": "2025-02-17T11:10:06.617921Z",
     "start_time": "2025-02-17T11:10:06.614529Z"
    },
    "colab": {
     "base_uri": "https://localhost:8080/"
    },
    "execution_time": 28,
    "id": "ZrBtw2EZX27v",
    "outputId": "53626841-0c61-4498-94dd-f12f00b26eaf"
   },
   "outputs": [],
   "source": [
    "l = [27, 23, 48, 23, 45]\n",
    "l[0]"
   ]
  },
  {
   "cell_type": "code",
   "execution_count": null,
   "metadata": {
    "ExecuteTime": {
     "end_time": "2025-02-17T11:10:07.295947Z",
     "start_time": "2025-02-17T11:10:07.293832Z"
    },
    "colab": {
     "base_uri": "https://localhost:8080/",
     "height": 34
    },
    "execution_time": 29,
    "id": "xoDriNPrZwdp",
    "outputId": "cd023071-64f9-4780-88bf-ccbd20878c94"
   },
   "outputs": [],
   "source": [
    "print(promenna_list[0])"
   ]
  },
  {
   "cell_type": "markdown",
   "metadata": {
    "id": "k8n12hqLZwdt"
   },
   "source": [
    "Ke druhému až poslednímu listu se naopak dostaneme takto:"
   ]
  },
  {
   "cell_type": "code",
   "execution_count": null,
   "metadata": {
    "ExecuteTime": {
     "end_time": "2025-02-17T11:10:08.942285Z",
     "start_time": "2025-02-17T11:10:08.939050Z"
    },
    "colab": {
     "base_uri": "https://localhost:8080/",
     "height": 74
    },
    "execution_time": 30,
    "id": "CmyhkDE6Zwdu",
    "outputId": "3f47c03f-3516-4b68-aa18-9b873c23356b"
   },
   "outputs": [],
   "source": [
    "print(promenna_list[1:])"
   ]
  },
  {
   "cell_type": "markdown",
   "metadata": {
    "id": "uPHr7c5SZwd3"
   },
   "source": [
    "### Cyklus FOR\n",
    "\n",
    "Pomocí cyklu FOR se můžeme např. dotázat, kolik znaků mají jednotlivé prvky našeho listu, a nechat si tyto hodnoty jednu po druhé nechat vytisknout."
   ]
  },
  {
   "cell_type": "code",
   "execution_count": null,
   "metadata": {
    "ExecuteTime": {
     "end_time": "2025-02-17T11:10:10.650652Z",
     "start_time": "2025-02-17T11:10:10.647262Z"
    },
    "colab": {
     "base_uri": "https://localhost:8080/",
     "height": 68
    },
    "execution_time": 31,
    "id": "Xe7p6z_cZwd4",
    "outputId": "e26ecdb4-d477-43b2-ddbb-2fee49172b6c"
   },
   "outputs": [],
   "source": [
    "for element in promenna_list:\n",
    "    print(len(element))"
   ]
  },
  {
   "cell_type": "markdown",
   "metadata": {
    "collapsed": false
   },
   "source": [
    "### Podmíněné příkazy IF-ELSE"
   ]
  },
  {
   "cell_type": "markdown",
   "metadata": {
    "collapsed": false
   },
   "source": [
    "Dalším klíčovým elementem každého programovacího jazyka jsou podmíněné příkazy:\n",
    "Jestliže (`if`) dochází ke splnění námi stanovené podmínky, provede se příkaz v odrážce na následující řádce či řádcích; pokud ne, tento následný soubor příkazů se přeskočí a kód buď pokračuje přímo dál, nebo provede příkazy které se nacházejí v odrážce pod příkazem `else`. \n",
    "\n",
    "Jednoduchý příklad vypadá následovně: Použijeme tuto logiku k tomu, abychom u konkrétního čísla vyhodnotily, zda je vyšší než 30,"
   ]
  },
  {
   "cell_type": "code",
   "execution_count": null,
   "metadata": {
    "ExecuteTime": {
     "end_time": "2025-02-17T11:10:14.176951Z",
     "start_time": "2025-02-17T11:10:14.174046Z"
    },
    "execution_time": 32
   },
   "outputs": [],
   "source": [
    "n = 37 # nadefinujeme si číslo"
   ]
  },
  {
   "cell_type": "code",
   "execution_count": null,
   "metadata": {
    "ExecuteTime": {
     "end_time": "2025-02-17T11:10:14.763824Z",
     "start_time": "2025-02-17T11:10:14.760604Z"
    },
    "execution_time": 33
   },
   "outputs": [],
   "source": [
    "if n > 30:\n",
    "    print(n, \" - Toto číslo je větší než 30.\")"
   ]
  },
  {
   "cell_type": "markdown",
   "metadata": {
    "collapsed": false
   },
   "source": [
    "Užitečnost tohoto snad vysvytne více, když podmíněný příkaz IF zakomponujeme do cyklu FOR.\n"
   ]
  },
  {
   "cell_type": "code",
   "execution_count": null,
   "metadata": {
    "ExecuteTime": {
     "end_time": "2025-02-17T11:10:16.152643Z",
     "start_time": "2025-02-17T11:10:16.149297Z"
    },
    "execution_time": 34
   },
   "outputs": [],
   "source": [
    "l = [27, 23, 48, 23, 45]\n",
    "for el in l:\n",
    "    if el > 30:\n",
    "        print(el, \":-)\")\n",
    "    else:\n",
    "        print(\":-(\")"
   ]
  }
 ],
 "metadata": {
  "colab": {
   "include_colab_link": true,
   "provenance": []
  },
  "kernelspec": {
   "display_name": "Python 3",
   "language": "python",
   "name": "python3"
  }
 },
 "nbformat": 4,
 "nbformat_minor": 0
}
