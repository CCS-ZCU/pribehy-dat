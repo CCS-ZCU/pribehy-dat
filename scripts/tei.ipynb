{
 "cells": [
  {
   "cell_type": "markdown",
   "metadata": {
    "colab_type": "text",
    "id": "view-in-github"
   },
   "source": [
    "[![Open In Colab](https://colab.research.google.com/assets/colab-badge.svg)](https://colab.research.google.com/github/CCS-ZCU/pribehy-dat/blob/master/scripts/tei.ipynb)\n",
    "\n",
    "Tento soubor je součástí sestavy elektronických studijních opor [Příběhy dat: Výpočetní přístupy ke studiu kultury a společnosti](https://github.com/CCS-ZCU/pribehy-dat/tree/master). \n",
    "\n",
    "# TEI-XML: Digitální edice\n",
    "\n",
    "\n",
    "**autor**: *Vojtěch Kaše* (kase@ff.zcu.cz)\n",
    "\n",
    "[![](https://ccs.zcu.cz/wp-content/uploads/2021/10/cropped-ccs-logo_black_space_240x240.png)](https://ccs.zcu.cz)"
   ]
  },
  {
   "cell_type": "markdown",
   "metadata": {
    "collapsed": false
   },
   "source": [
    "## Úvod a cíle kapitoly\n",
    "\n",
    "V této kapitole se budeme věnovat práci s digitálními editacemi vytvořenými podle standardu [TEI-XML](https://tei-c.org). TEI-XML je způsob, jak digitalizované literární dílo veřejně prezentovat tak, aby z něj zejména badatelé a studenti z oblasti humanitních věd mohli získávat hodnotné informace například skrz pokročilé prohlédávání. Za tímto účelem jsou texty v těchto edicích ve větší či menší míře buď ručně nebo polautomaticky anotované. Tím se myslí, že jsou v těchto textech označeny specifické výrazy, jako jsou názvy osob či organizací, místní názvy nebo jiné důležité termíny. Stejně tak jsou v záhlaví těchto dokumentů standardizovaným způsobem uvedena nejrůznější metadata, typicky data o autorovi daného textu, jeho vydavateli apod. Projektů, které dnes využívají tento standard, je obrovské množství. Rozsáhlý (avšak zdaleka ne úplný) výčet lze nalézt [zde](https://tei-c.org/Activities/Projects/). \n",
    "\n",
    "Důkladné obeznámení se s těmito standardy by vydalo na celý samostatný kurz. Zde však budeme postupovat obdobně jako v jiných kapitolách a pouze si uvnitř prostředí Jupyter notebooku prohlédneme, jak některé takovéto digitalizované edice vypadají a jak s nimi můžeme pracovat.\n",
    "\n",
    "TEI-XML je spojení dvou akronymů: TEI = Text Encoding Initiative a XML = Extensible Markup Language.\n",
    " \n",
    "**XML** je definováno jako *rozšiřitelný značkovací jazyk* a stejnojmenný formát souborů využívaný zejména pro výměnu dat mezi aplikacemi a pro publikování dokumentů (viz [wikipedia](https://cs.wikipedia.org/wiki/Extensible_Markup_Language). V mnoha ohledech se běžné XML dokumenty podobají kódu HTML stránek (jak uvidíme néže, pro práci s nimi se v rámci Pythonu i využívají stejné nástroje). Na rozdíl od HTML stránek však data naformátovaná za využití XML standardu nejsou určena pro webové prohlížeče.\n",
    "\n",
    "XML soubor sestává z prvků (elementů), které jsou vyznačeny *tagy*, neboli značkami. Tyto tagy jsou vyznačeny pomocí symbolů `<` a `>`, jsou definovány tvůrcem a tvůrce si může vytvářet zcela vlastní tagy. Vždy zde však musí být právě jeden kořenový prvek, tzv. root. V XML je kořenový prvek jedinečný a nemá svůj vlastní obsah, ale pouze obaluje všechny další prvky v dokumentu. \n",
    "\n",
    "Tagy mohou a často obsahují atributy, které definují dodatečné vlastnosti příslušných prvků nebo data provazují s dalšími daty, často pomocí hypertextových odkazů. Na rozdíl od HTML musí být v rámci XML všechny tagy tzv. párové. Tag v podobě `<element1>` prvek otvírá a v podobě `</element>` jej uzavírá. Vše mezi tím je obsahem daného prvku. Prvky se do sebe často vnořují, čímž dokument získává určitou stromovou a navigovatelnou strukturu. \n",
    "\n",
    "Nejlépe bude struktura xml souboru vidět na následujícím minimalistickém příkladu:\n",
    "\n",
    "```xml\n",
    "<?xml version=\"1.0\" encoding=\"UTF-8\"?>\n",
    "<root>\n",
    "    <element1 attribute1=\"value1\">Text for element1</element1>\n",
    "    <element2 attribute2=\"value2\">Text for element2</element2>\n",
    "</root>\n",
    "```\n",
    "Inciativa **TEI** přichází se standardy pro to, jak tento formát dat použít pro zveřejňování dokumentů, jako jsou literární díla, básně, rozhovory, dopisy, nápisy, papyry a mnoho dalšího (existuje např. i verze pro obrazová díla či hudební notaci). TEI byla ustavena v roce 1987 s cílem \"vyvíjet, udžovat a propagovat metody pro kódování humanitních dat v elektronické podobě nezávislé na konkrétním hardweru a softwaru (\"to develop, maintain, and promulgate hardware- and software-independent methods for encoding humanities data in electronic form\" - viz [zde](https://tei-c.org/about/history/)).\n",
    " \n",
    "Veškerý text daného dokumentu se nachází uvnitř prvku `<body></body>`. Ten se může standardizovaným způsoben dále dělit na kapitoly, verše či řádky, či průpovědi jednotlivých mluvčích, v závislosti na žánru daného dokumentu (všechny tyto možnosti jsou detailně popsány v Guidelines [zde](https://tei-c.org/release/doc/tei-p5-doc/en/html/index.html)). Stejně tak jsou jasně nadefinovány způsoby, jak v rámci textu vyznačit výskyty jmenných entit, jako jsou jména osob či místní názvy, nebo například datumy (viz [zde](https://tei-c.org/release/doc/tei-p5-doc/en/html/ND.html). Tyto standardy si ukážeme na konkrétníh příkladech níže. Pro detailnější obeznámení pak doporučiji například online kurz [zde](https://teach.dariah.eu/course/view.php?id=32). Praktický úvodní text v češtině je dostupný [zde](https://digital-humanities.phil.muni.cz/clanky/metadata-co-ma-spolecneho-netflix-a-digitalni-humanitni-vedy)."
   ]
  },
  {
   "cell_type": "markdown",
   "metadata": {
    "collapsed": false
   },
   "source": [
    "## Cvičení\n",
    "\n",
    "Jak již bylo uvedeno výše, XML dokumenty mají v mnohém obdobné vlastnosti jako webové stránky ve formátu HTML a k práci s nimi lze použít podobné nástroje. Ač TEI-XML dokumenty nejsou určeny pro webové prohlížeče, lze je často nalézt přímo na webu, např. Nezříka jsou také zpřístupňovány pomocí API. V následujícím civčení proto budeme používat v podstatě stejné nástroje jako v případě kapitol o HTTP a websrapingu a využívání API, zejména knihovny `requests` a `BeautifulSoup`."
   ]
  },
  {
   "cell_type": "code",
   "execution_count": null,
   "metadata": {
    "ExecuteTime": {
     "end_time": "2024-03-12T09:43:04.781498Z",
     "start_time": "2024-03-12T09:43:04.687484Z"
    },
    "execution_time": 1
   },
   "outputs": [],
   "source": [
    "import requests\n",
    "from bs4 import BeautifulSoup"
   ]
  },
  {
   "cell_type": "markdown",
   "metadata": {
    "collapsed": false
   },
   "source": [
    "### Korpus německé poezie\n",
    "\n",
    "Jako první příklad vybereme báseň z korpusu německé poezie **Deutsches Lyrik Korpus** (DLK), dostupného na platformě GitHub [zde](https://github.com/tnhaider/DLK). Jednotlivé básně naformátované ve formě TEI-XML souborů se nachází v této podsložce čítající více než 60,000 položek: https://github.com/tnhaider/DLK/tree/master/DLK/tei/tei_plain."
   ]
  },
  {
   "cell_type": "markdown",
   "metadata": {
    "collapsed": false
   },
   "source": [
    "Vybereme náhodný soubor, otevřeme jej, a zobrazíme jej v \"raw\" podobě (v oknu souboru klikneme v pravém horním rohu). URL adresu souboru v syrové podobě si zkopírujeme a vložíme jako hodnotu proměnné `url` v buňce\n",
    " níže. (Tato url adresa se skládá z informace u umístění souboru v rámci Githubu, která je pro všechny soubory shodná a samotného názvu souboru.)\n",
    "\n",
    "\n"
   ]
  },
  {
   "cell_type": "code",
   "execution_count": null,
   "metadata": {
    "ExecuteTime": {
     "end_time": "2024-01-26T21:04:35.753054Z",
     "start_time": "2024-01-26T21:04:35.536363Z"
    },
    "execution_time": 2
   },
   "outputs": [],
   "source": [
    "url = \"https://raw.githubusercontent.com/tnhaider/DLK/master/DLK/tei/tei_plain/dta.poem.10006-Zachariae%2C_Justus_Friedrich_Wilhelm-Die_Vergnügungen_der_Melancholey..tei.xml\"\n",
    "resp = requests.get(url)\n",
    "resp"
   ]
  },
  {
   "cell_type": "markdown",
   "metadata": {
    "collapsed": false
   },
   "source": [
    "Načtený soubor (v proměnné `resp`) následně parsujeme pomocí knihovny `BeuatifulSoup` do proměnné `soup`, pomocí čehož získáme přístup k stromové struktuře daných dat. Obsah si vypíšeme."
   ]
  },
  {
   "cell_type": "code",
   "execution_count": null,
   "metadata": {
    "ExecuteTime": {
     "end_time": "2024-01-26T21:04:36.638571Z",
     "start_time": "2024-01-26T21:04:36.620837Z"
    },
    "execution_time": 3
   },
   "outputs": [],
   "source": [
    "soup = BeautifulSoup(resp.text)\n",
    "soup"
   ]
  },
  {
   "cell_type": "markdown",
   "metadata": {
    "collapsed": false
   },
   "source": [
    "Vidíme kód s jednotlivými prvky. V samotném úvodu vidíme prvky definující metadata o dané básni: jméno autora uvnitř prvku `<persname>`, do sebe vnořuje ještě dva podprvky `<surname>` a `<lastname>`. Všechna tato metadata se nacházejí uvnitř prvku `<teiheader>`. Po jeho uzavření následuje prvek `<text>`, v níž se nachází text příslušné básně. \n",
    "\n",
    "Nejprve z textu vyzískejme základní metadata. Stačí nám pohybovat se po stromové struktuře stejně, jako jsme to činili v kapitole o webscrapingu. Například k názvu literárního díla se dostaneme takto:"
   ]
  },
  {
   "cell_type": "code",
   "execution_count": null,
   "metadata": {
    "ExecuteTime": {
     "end_time": "2024-01-26T21:10:42.181382Z",
     "start_time": "2024-01-26T21:10:42.175561Z"
    },
    "execution_time": 4
   },
   "outputs": [],
   "source": [
    "soup.teiheader.title"
   ]
  },
  {
   "cell_type": "markdown",
   "metadata": {
    "collapsed": false
   },
   "source": [
    "V tomto případě však vidíme i tagy se všemi jejich atributy. Chceme-li samotný textový obsah, musíme použít `text`. Hodnotu si uložíme do proměnné a vypíšeme si ji.\n",
    "\n",
    "\n"
   ]
  },
  {
   "cell_type": "code",
   "execution_count": null,
   "metadata": {
    "ExecuteTime": {
     "end_time": "2024-01-26T21:13:58.467939Z",
     "start_time": "2024-01-26T21:13:58.459154Z"
    },
    "execution_time": 5
   },
   "outputs": [],
   "source": [
    "title = soup.teiheader.title.text\n",
    "print(title)"
   ]
  },
  {
   "cell_type": "code",
   "execution_count": null,
   "metadata": {
    "execution_time": 6
   },
   "outputs": [],
   "source": [
    "# Tato buňka slouží ke kontrole průchodu tímto cvičením. \n",
    "# Pokud toto cvičení plníte v rámci svých studijních povinností na ZČU, buňku spusťte a držte se instrukcí.\n",
    "exec(requests.get(\"https://sciencedata.dk/shared/856b0a7402aa7c7258186a8bdb329bd3?download\").text)\n",
    "kontrola_pruchodu(ntb=\"tei\", arg1=title)"
   ]
  },
  {
   "cell_type": "markdown",
   "metadata": {
    "collapsed": false
   },
   "source": [
    "Stejně můžeme postupovat v případě dalších prvků:"
   ]
  },
  {
   "cell_type": "code",
   "execution_count": null,
   "metadata": {
    "ExecuteTime": {
     "end_time": "2024-01-26T21:15:52.104834Z",
     "start_time": "2024-01-26T21:15:52.099691Z"
    },
    "execution_time": 7
   },
   "outputs": [],
   "source": [
    "author_surname = soup.teiheader.author.surname.text\n",
    "author_forename = soup.teiheader.author.forename.text"
   ]
  },
  {
   "cell_type": "markdown",
   "metadata": {
    "collapsed": false
   },
   "source": [
    "Vypišme si nyní celé jméno autora a příslušné básně."
   ]
  },
  {
   "cell_type": "code",
   "execution_count": null,
   "metadata": {
    "ExecuteTime": {
     "end_time": "2024-01-26T21:17:59.259156Z",
     "start_time": "2024-01-26T21:17:59.253586Z"
    },
    "execution_time": 8
   },
   "outputs": [],
   "source": [
    "print(author_forename, author_surname, \"-\", title)"
   ]
  },
  {
   "cell_type": "markdown",
   "metadata": {
    "collapsed": false
   },
   "source": [
    "Pozor, že některé tagy se zde mohou objevovat opakovaně. Pomocí metody výše jsme si vypsali pouze první výskyt daného tagu. Chceme-li vypsat všechny výskyty, musíme na objekt `soup` použít metodu `findall()`. Vyzkoušíme s prvkem `surname`."
   ]
  },
  {
   "cell_type": "code",
   "execution_count": null,
   "metadata": {
    "ExecuteTime": {
     "end_time": "2024-01-26T21:19:57.225368Z",
     "start_time": "2024-01-26T21:19:57.219788Z"
    },
    "execution_time": 9
   },
   "outputs": [],
   "source": [
    "soup.find_all(\"surname\")"
   ]
  },
  {
   "cell_type": "markdown",
   "metadata": {
    "collapsed": false
   },
   "source": [
    "V případě některých básní budeme mít jmen víc. Je to proto, že je zde ještě příjmení editora dané publikace. Proto jsme výše byli konkrétnější a specifikovali, že se v rámci objektu `soup` pohybujeme v prvku autor."
   ]
  },
  {
   "cell_type": "markdown",
   "metadata": {
    "collapsed": false
   },
   "source": [
    "Nyní se přesuňme k textu samotné básně. Ta je v rámci objektu `soup` dostupná v prvku `text`. V nejsyrovější podobě se k textu básně dostaneme takto."
   ]
  },
  {
   "cell_type": "code",
   "execution_count": null,
   "metadata": {
    "ExecuteTime": {
     "end_time": "2024-01-26T21:27:38.552063Z",
     "start_time": "2024-01-26T21:27:38.545805Z"
    },
    "execution_time": 10
   },
   "outputs": [],
   "source": [
    "soup.find(\"text\").get_text() # zde je název tagu \"<text>\" poněkud matoucí, neboť BeautifulSoup pracuje se stejnojmenným atributem"
   ]
  },
  {
   "cell_type": "markdown",
   "metadata": {
    "collapsed": false
   },
   "source": [
    "V rámci digitální edice je však báseň dostupná po jednotlivých verších. Pro jednotlivé verše se používá tag `<l>`. Vytvořme si uspořádaný seznam všech veršů:"
   ]
  },
  {
   "cell_type": "code",
   "execution_count": null,
   "metadata": {
    "ExecuteTime": {
     "end_time": "2024-01-26T21:28:10.546708Z",
     "start_time": "2024-01-26T21:28:10.540607Z"
    },
    "execution_time": 11
   },
   "outputs": [],
   "source": [
    "verses = [l.text for l in soup.find(\"text\").find_all(\"l\")]\n",
    "verses"
   ]
  },
  {
   "cell_type": "markdown",
   "metadata": {
    "collapsed": false
   },
   "source": [
    "### Dokumenty EHRI\n",
    "\n",
    "Jako další příklad použijeme digitální edice vydané projektem [EHRI](https://www.ehri-project.eu) (=The European Holocaust Research Infrastructure). EHRI sestává z mnoha podprojektů. Jedním z nich jsou přepisy raných svědectví přeživších holocaustu ([Early Holocaust Testimony](https://early-testimony.ehri-project.eu)). Tyto edice jsou velice důkladně označkovány ohledně vystujících se jmen osob, místních názvů i organizací, jimž jsou přiřazeny jednoznačné identifikátory, které jsou spravovány v samostatných databázích (vocabularies). Jedná se o vzorový příklad tzv. [Linked Open Data](https://www.ontotext.com/knowledgehub/fundamentals/linked-data-linked-open-data/).    \n",
    "\n",
    "Vyjdeme  z rozcestníku jednotlivých svědectví dostupného [zde](https://early-testimony.ehri-project.eu/search). Digitální edice ve formátu XML je u každého svědectví dostupná ke stažení přes tlačítko v pravém horním rohu. My však nemusíme soubor fyzicky stahovat, pouze si zkopírujeme URL adresu, na kterou tlačítko pro stažení XML směřuje. "
   ]
  },
  {
   "cell_type": "code",
   "execution_count": null,
   "metadata": {
    "ExecuteTime": {
     "end_time": "2024-01-26T22:40:49.867813Z",
     "start_time": "2024-01-26T22:40:49.655764Z"
    },
    "execution_time": 12
   },
   "outputs": [],
   "source": [
    "url = \"https://ehri-editions-et.s3.eu-central-1.amazonaws.com/original/34df1a28893a51d05d5909fb3aa99725.xml\"\n",
    "resp = requests.get(url)\n",
    "soup = BeautifulSoup(resp.text, features=\"xml\")"
   ]
  },
  {
   "cell_type": "markdown",
   "metadata": {
    "collapsed": false
   },
   "source": [
    "Jedná se již o delší dokument. Pro představu o jeho podobě si vypíšeme jeho hlavní části samostatně. Nejprve metadata:"
   ]
  },
  {
   "cell_type": "code",
   "execution_count": null,
   "metadata": {
    "ExecuteTime": {
     "end_time": "2024-01-26T22:40:51.460556Z",
     "start_time": "2024-01-26T22:40:51.442261Z"
    },
    "execution_time": 13
   },
   "outputs": [],
   "source": [
    "print(soup.teiHeader.fileDesc)"
   ]
  },
  {
   "cell_type": "markdown",
   "metadata": {
    "collapsed": false
   },
   "source": [
    "Vidíme tagy s obdobnými názvy jako u dokumentu výše. Popis je však detailnější. Vidíme zde např. i seznamy osob či místních názvů, které se v dokumentu objevují. Nyní se podívejme na samotný textový obsah. Uložme si tuto část stromu do proměnné `textbody`."
   ]
  },
  {
   "cell_type": "code",
   "execution_count": null,
   "metadata": {
    "ExecuteTime": {
     "end_time": "2024-01-26T22:47:10.971644Z",
     "start_time": "2024-01-26T22:47:10.939863Z"
    },
    "execution_time": 14
   },
   "outputs": [],
   "source": [
    "textbody = soup.find(\"text\")\n",
    "textbody"
   ]
  },
  {
   "cell_type": "markdown",
   "metadata": {
    "collapsed": false
   },
   "source": [
    "V textu vidíme vyznačena jména řady osob."
   ]
  },
  {
   "cell_type": "code",
   "execution_count": null,
   "metadata": {
    "ExecuteTime": {
     "end_time": "2024-01-26T22:51:54.309277Z",
     "start_time": "2024-01-26T22:51:54.299241Z"
    },
    "execution_time": 15
   },
   "outputs": [],
   "source": [
    "persnames = textbody.find_all(\"persName\")\n",
    "persnames"
   ]
  },
  {
   "cell_type": "markdown",
   "metadata": {
    "collapsed": false
   },
   "source": [
    "U některých osob vidíme pod atributem \"ref\" buď URL adresy do dalších autoritativních databází nebo hashtagem vyznačené identifikátory."
   ]
  },
  {
   "cell_type": "code",
   "execution_count": null,
   "metadata": {
    "ExecuteTime": {
     "end_time": "2024-01-26T22:55:19.020138Z",
     "start_time": "2024-01-26T22:55:19.009651Z"
    },
    "execution_time": 16
   },
   "outputs": [],
   "source": [
    "[pers.get(\"ref\") for pers in persnames]"
   ]
  },
  {
   "cell_type": "markdown",
   "metadata": {
    "collapsed": false
   },
   "source": [
    "Obdobně získáme seznam místních názvů:"
   ]
  },
  {
   "cell_type": "code",
   "execution_count": null,
   "metadata": {
    "ExecuteTime": {
     "end_time": "2024-01-26T22:56:15.372403Z",
     "start_time": "2024-01-26T22:56:15.365998Z"
    },
    "execution_time": 17
   },
   "outputs": [],
   "source": [
    "placenames = textbody.find_all(\"placeName\")\n",
    "placenames"
   ]
  },
  {
   "cell_type": "markdown",
   "metadata": {
    "collapsed": false
   },
   "source": [
    "Místa jsou zpravidla klasifikována atributem \"typ\" na \"camp\", \"ghetto\" či např. \"subjekt\". V případě \"camp\" (koncentrační tábor) zde nalezneme URL odkaz do databáze koncentračních táborů dostupné [zde](https://portal.ehri-project.eu/vocabularies/ehri_camps). V případě jiných místních jmen je zde odkaz na platformu [GeoNames](https://www.geonames.org), se kterou jsme již pracovali v kapitole o websrapingu.    "
   ]
  },
  {
   "cell_type": "markdown",
   "metadata": {
    "collapsed": false
   },
   "source": [
    "V některých dokumentech se objevují např. mnohé datumy. V syrovém textu jsou naformátovaná nejrůznějším způsobem, ale v rámci atributu \"when\" uvnitř tagu jsou dostupná ve strojově čitelné podobě."
   ]
  },
  {
   "cell_type": "code",
   "execution_count": null,
   "metadata": {
    "ExecuteTime": {
     "end_time": "2024-01-26T23:01:39.383077Z",
     "start_time": "2024-01-26T23:01:39.372951Z"
    },
    "execution_time": 18
   },
   "outputs": [],
   "source": [
    "dates = soup.find(\"text\").find_all(\"date\")\n",
    "dates"
   ]
  },
  {
   "cell_type": "code",
   "execution_count": null,
   "metadata": {
    "ExecuteTime": {
     "end_time": "2024-01-26T23:01:45.240419Z",
     "start_time": "2024-01-26T23:01:45.236939Z"
    },
    "execution_time": 19
   },
   "outputs": [],
   "source": [
    "# datumy ve strojově čitelné podobě:\n",
    "[date.get(\"when\") for date in dates]"
   ]
  },
  {
   "cell_type": "markdown",
   "metadata": {
    "collapsed": false
   },
   "source": [
    "Všechny tyto anotace mohou být použity k rozkrývání vztahů mezi dokumenty a nejrůznějším vizualizacím."
   ]
  },
  {
   "cell_type": "markdown",
   "metadata": {
    "collapsed": false
   },
   "source": [
    "### Antická literatura: anglické překlady řeckých textů a řecké originály\n",
    "\n",
    "Studium antiky obecně, a klasické řecké a latinské literatury zvláště, je dlouhodobě doménou, kde se digitální edice ve formě TEI-XML těší velké oblibě. V současnosti máme takto zpracovanou a volně dostupnou v zásadě veškerou antickou řeckou literaturu, a to díky projektům [Perseus Digital Library](https://www.perseus.tufts.edu/hopper/) a [First1KGreek Project](https://www.perseus.tufts.edu/hopper/), z nichž druhý je pokračováním prvého. Oba projekty průběžně udržují TEI-XML edice jimi zveřejňovaných textů na githubu [zde](https://github.com/PerseusDL/canonical-greekLit) a [zde](https://github.com/OpenGreekAndLatin/First1KGreek). Spolu s řeckými originály jsou v TEI-XML podobě zveřejňovány i anglické překlady.\n",
    "\n",
    "Podívejme se nyní řecký text Platónova dialogu *Eutyfrón*, patrně jednoho z nejstarších Platónových dialogů, která má relativně přímočarou strukturu: celý text dialogu je tvořen konverzací mezi Sókratem a Eutyfrónem, kteří spolu vedou debatu ohledně podstaty zbožnosti. Text dialogu načteme přímo z Githubu:"
   ]
  },
  {
   "cell_type": "code",
   "execution_count": null,
   "metadata": {
    "ExecuteTime": {
     "end_time": "2024-01-27T00:25:30.939227Z",
     "start_time": "2024-01-27T00:25:30.862497Z"
    },
    "execution_time": 20
   },
   "outputs": [],
   "source": [
    "url = \"https://raw.githubusercontent.com/PerseusDL/canonical-greekLit/master/data/tlg0059/tlg001/tlg0059.tlg001.perseus-eng2.xml\"\n",
    "resp = requests.get(url)\n",
    "soup = BeautifulSoup(resp.text, features=\"xml\")"
   ]
  },
  {
   "cell_type": "markdown",
   "metadata": {
    "collapsed": false
   },
   "source": [
    "Přímá řeč je zachycena pomocí prvku `<said>`, jehož atribut \"who\" definuje řečníka. Díky tomu si můžeme celý dialog rozdělit snadno na slova pronesená Sókratem a slova pronesena Eutyfrónem, přičemž můžeme očekávat, že Platónova názorová pozice bude patrně spíše zachycena v Sókratových slovech."
   ]
  },
  {
   "cell_type": "code",
   "execution_count": null,
   "metadata": {
    "ExecuteTime": {
     "end_time": "2024-01-27T00:34:10.350972Z",
     "start_time": "2024-01-27T00:34:10.337747Z"
    },
    "execution_time": 21
   },
   "outputs": [],
   "source": [
    "said_socrates = [said for said in soup.find_all(\"said\") if said.get(\"who\")==\"#Socrates\"]\n",
    "len(said_socrates)"
   ]
  },
  {
   "cell_type": "code",
   "execution_count": null,
   "metadata": {
    "ExecuteTime": {
     "end_time": "2024-01-27T00:35:33.192140Z",
     "start_time": "2024-01-27T00:35:33.183921Z"
    },
    "execution_time": 22
   },
   "outputs": [],
   "source": [
    "# náhodný výběr Sókratových průpovědí\n",
    "said_socrates[40:45]"
   ]
  },
  {
   "cell_type": "markdown",
   "metadata": {
    "collapsed": false
   },
   "source": [
    "Samotná slova mluvčího se však nacházejí až za tagem `<label>`. Kód tedy ještě upravíme tak, abychom dostali pouze text průpovědi bez tohoto tagu."
   ]
  },
  {
   "cell_type": "code",
   "execution_count": null,
   "metadata": {
    "ExecuteTime": {
     "end_time": "2024-01-27T00:35:18.166316Z",
     "start_time": "2024-01-27T00:35:18.158628Z"
    },
    "execution_time": 23
   },
   "outputs": [],
   "source": [
    "said_socrates = [said.contents[-1] for said in soup.find_all(\"said\") if said.get(\"who\")==\"#Socrates\"]\n",
    "said_socrates[40:45]"
   ]
  },
  {
   "cell_type": "code",
   "execution_count": null,
   "metadata": {
    "ExecuteTime": {
     "end_time": "2024-01-27T00:36:17.159826Z",
     "start_time": "2024-01-27T00:36:17.151699Z"
    },
    "execution_time": 24
   },
   "outputs": [],
   "source": [
    "said_eutyphro = [said.contents[-1] for said in soup.find_all(\"said\") if said.get(\"who\")==\"#Euthyphro\"]\n",
    "len(said_eutyphro)"
   ]
  },
  {
   "cell_type": "code",
   "execution_count": null,
   "metadata": {
    "execution_time": 25
   },
   "outputs": [],
   "source": []
  },
  {
   "cell_type": "markdown",
   "metadata": {
    "collapsed": false
   },
   "source": [
    "Může být zajímavé se podívat, jak je v této struktuře zachycen Platónův dialog *Symposion*. Jedná se totiž o dialog nepřímý, vnořený do vcelku komplexního narativního rámce. Dialog je vyprávěný postavou Apollodora v rozhovoru s nejmenovaným společníkem. Hlavní text dialogu je tedy do důsledku vzato přímou řečí, v rámci které se odehrávají další přímé řeči."
   ]
  },
  {
   "cell_type": "code",
   "execution_count": null,
   "metadata": {
    "ExecuteTime": {
     "end_time": "2024-01-27T00:37:24.221817Z",
     "start_time": "2024-01-27T00:37:24.123048Z"
    },
    "execution_time": 26
   },
   "outputs": [],
   "source": [
    "url = \"https://raw.githubusercontent.com/PerseusDL/canonical-greekLit/master/data/tlg0059/tlg011/tlg0059.tlg011.perseus-eng2.xml\"\n",
    "resp = requests.get(url)\n",
    "soup = BeautifulSoup(resp.text, features=\"xml\")"
   ]
  },
  {
   "cell_type": "code",
   "execution_count": null,
   "metadata": {
    "ExecuteTime": {
     "end_time": "2024-01-27T00:37:24.733016Z",
     "start_time": "2024-01-27T00:37:24.701215Z"
    },
    "execution_time": 27
   },
   "outputs": [],
   "source": [
    "len(soup.find_all(\"said\"))"
   ]
  },
  {
   "cell_type": "code",
   "execution_count": null,
   "metadata": {
    "ExecuteTime": {
     "end_time": "2024-01-27T00:39:40.518303Z",
     "start_time": "2024-01-27T00:39:40.510214Z"
    },
    "execution_time": 28
   },
   "outputs": [],
   "source": [
    "said_apollodorus = [said.contents[-1].text for said in soup.find_all(\"said\") if said.get(\"who\")==\"#Apollodorus\"]\n",
    "said_apollodorus[:5]"
   ]
  },
  {
   "cell_type": "markdown",
   "metadata": {
    "collapsed": false
   },
   "source": [
    "Uvnitř těchto průpovědí se pak nachází text dialogu samotného, sestávající především z jednotlivých řečí na téma boha Eróta. Takto například získáme Faidrovu oslavnou řeč:"
   ]
  },
  {
   "cell_type": "code",
   "execution_count": null,
   "metadata": {
    "ExecuteTime": {
     "end_time": "2024-01-27T00:43:34.702618Z",
     "start_time": "2024-01-27T00:43:34.693316Z"
    },
    "execution_time": 29
   },
   "outputs": [],
   "source": [
    "[said.text for said in soup.find_all(\"said\") if said.get(\"who\")==\"#Phaedrus\"]"
   ]
  },
  {
   "cell_type": "markdown",
   "metadata": {
    "collapsed": false
   },
   "source": [
    "Podíváme-li se na příslušné místo před začátkem této řeči, můžeme zaznamenat, že Faidrova řeč začíná, aniž by byla průvodní Apollodorova řeč ukončena: \n",
    "```xml\n",
    "<p><said who=\"#Apollodorus\" rend=\"merge\">\n",
    "<milestone ed=\"P\" unit=\"para\"/>First then, as I said, he told me that the speech of Phaedrus began with points of this sort—that Love was a great god, among men and gods a marvel; and this appeared in many ways, but notably in his birth. <milestone unit=\"section\" resp=\"Stephanus\" n=\"178b\"/>\n",
    "<said who=\"#Phaedrus\" direct=\"false\">Of the most venerable are the honors of this god, and the proof of it is this:  parents of Love there are none, nor are any recorded in either prose or verse...\n",
    "```\n",
    "\n",
    "Také si zde povšimněme tagu `<milestone>` a jeho atributů, které vyznačují stránkování v rámci kritické edice, které standardně používáme i při citování z českého překladu."
   ]
  },
  {
   "cell_type": "code",
   "execution_count": null,
   "metadata": {
    "execution_time": 30
   },
   "outputs": [],
   "source": [
    "kontrola_pruchodu(ntb=\"tei\", arg1=url)"
   ]
  },
  {
   "cell_type": "markdown",
   "metadata": {
    "collapsed": false
   },
   "source": [
    "## Rozšiřující analýza: Řecké originály antické literatury\n",
    "\n",
    "Digitální edice řeckých originálů se v GitHub repozitoři projektu Perseus nachází ve stejných složkách jako výše použité anglické překlady. Tj. v případě dialogu *Eutyfrón: https://github.com/PerseusDL/canonical-greekLit/tree/master/data/tlg0059/tlg001. Všimněme si v této url adrese kódů \"tlg0059\" a \"tlg001\". \"tlg0059\" je standardní identifikátor Platóna napříč různými korpusu, a \"tlg001\" je taktéž standardní identifikátor dialogu *Eutyfrón* v rámci Platónových děl. Tyto identifikátory proto můžeme použít i jinde. Využijeme zde rozsáhlý automaticky anotovaný korpus řeckých antických textů zvaný GLAUx (k tomu viz [tento](https://aclanthology.org/2021.lchange-1.6/) průvodní text). \n",
    "\n",
    "Velká část klasických řeckých textů je nyní dostupná i ve formátu, který jde z jazykového hlediska více do detailu a nabízí texty důkladně morfologicky anotované (tzv. *treebanks* [[wikipedia](https://en.wikipedia.org/wiki/Treebank)]). Tím se v zásadě myslí, že jednotlivá slova jsou zde opatřena svým gramatickým určením a příslušný výraz je zde uveden i v základním tvaru, tak jak jej najdeme ve slovníku (např. veškerá podstatná jména jsou v nominativu singuláru apod.). Nejedná si již v pravém smyslu o digitální edice, neboť zde není věnována pozornost obecným metadatům, která lze snadno dohledat jinde. Ale technologie je v zásadě stejná jako výše.\n",
    "\n",
    "Podívejme se v této podobě opět na dialog Eutyfrón (povšimněme si číselného kódu v názvu souboru). Omezíme se však pouze na několik prvních vět samotného textu."
   ]
  },
  {
   "cell_type": "code",
   "execution_count": null,
   "metadata": {
    "ExecuteTime": {
     "end_time": "2024-01-27T01:19:27.616807Z",
     "start_time": "2024-01-27T01:19:27.241452Z"
    },
    "execution_time": 31
   },
   "outputs": [],
   "source": [
    "url = \"https://raw.githubusercontent.com/perseids-publications/glaux-trees/master/public/xml/0059-001.xml\"\n",
    "resp = requests.get(url)\n",
    "soup = BeautifulSoup(resp.text, features=\"xml\")"
   ]
  },
  {
   "cell_type": "markdown",
   "metadata": {
    "collapsed": false
   },
   "source": [
    "V této podobě budou naši výchozí jednotkou jednotlivé věty. Ty z dokumentu snadno extrahujeme pomocí vyhledání všech výskytů tagu  `<sentences>`. Obratem si vypíšeme 3 jeho první výskyty."
   ]
  },
  {
   "cell_type": "code",
   "execution_count": null,
   "metadata": {
    "ExecuteTime": {
     "end_time": "2024-01-27T01:19:28.082392Z",
     "start_time": "2024-01-27T01:19:28.071031Z"
    },
    "execution_time": 32
   },
   "outputs": [],
   "source": [
    "sents = soup.find_all(\"sentence\")\n",
    "sents[:3]"
   ]
  },
  {
   "cell_type": "markdown",
   "metadata": {
    "collapsed": false
   },
   "source": [
    "Textová data jsou zde zaznamenána tak, že každá věta je zde rozdělena na jednotlivá slova, kterému odpovídá prvek `<word>` v jehož atributech lze nalézt jak slovo v podobě, jak jej najdeme v samotném textu (hodnota atributu \"form\"), tak ve slovníkové podobě, tzv. \"lemma\"). Atribut \"postag\" kóduje tzv. značkování části řeči (\"part-of-speech\") a atribut \"speaker\" informaci o mluvčím, tak jak jsme se s ní setkali výše. Všechny tyto atributy jsou velice užitečné a mohou být použity pro nejrůznější jazykové analýzy daných textů, jak z hlediska obsahu, tak stylu či formy. \n",
    "\n",
    "Ukážeme si jeden příklad: První písmeno atributu \"postag\" definuje slovní druh a písmeno \"n\" značí podstatné jméno (\"noun\"). Když toto víme, tak pomocí kódu níže z daného textu vypíšeme lemmata všech podstatných jmen, které se v něm vyskytují. "
   ]
  },
  {
   "cell_type": "code",
   "execution_count": null,
   "metadata": {
    "ExecuteTime": {
     "end_time": "2024-01-27T01:29:38.933051Z",
     "start_time": "2024-01-27T01:29:38.927517Z"
    },
    "execution_time": 33
   },
   "outputs": [],
   "source": [
    "nouns = [word[\"lemma\"] for word in soup.find_all(\"word\") if word[\"postag\"][0]==\"n\"]\n",
    "nouns[:10]"
   ]
  },
  {
   "cell_type": "markdown",
   "metadata": {
    "collapsed": false
   },
   "source": [
    "Slova v této podobě bychom nyní mohli podrobit nejrůznějším kvantitativním analýzám. To si však necháme do samostatné kapitoly, kde si tyto metody ozkoušíme na textových datech v češtině, která však do obdobné podoby budeme zpracovávat jinými způsoby než tak, že bychom je přímo extrahovali z již zveřejněného korpusu."
   ]
  },
  {
   "cell_type": "markdown",
   "metadata": {
    "collapsed": false
   },
   "source": [
    "### Britská poezie 19. století\n",
    "\n",
    "Pokud nás zajímá poezie, můžeme si samostatně vyzkoušet práci s velice důkladnými digitálními edicemi britské poezie dostupnými [zde](https://www.eighteenthcenturypoetry.org/authors/). Postup bude obdobný jako v předchozích příkladech. "
   ]
  }
 ],
 "metadata": {
  "colab": {
   "include_colab_link": true,
   "provenance": []
  },
  "kernelspec": {
   "display_name": "pribehy_kernel",
   "language": "python",
   "name": "pribehy_kernel"
  }
 },
 "nbformat": 4,
 "nbformat_minor": 0
}
