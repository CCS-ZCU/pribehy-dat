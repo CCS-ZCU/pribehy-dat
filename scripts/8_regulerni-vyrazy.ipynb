{
 "nbformat": 4,
 "nbformat_minor": 0,
 "metadata": {
  "colab": {
   "provenance": [],
   "include_colab_link": true
  },
  "kernelspec": {
   "name": "python3",
   "language": "python",
   "display_name": "Python 3 (ipykernel)"
  }
 },
 "cells": [
  {
   "cell_type": "markdown",
   "metadata": {
    "id": "view-in-github",
    "colab_type": "text"
   },
   "source": [
    "<a href=\"https://colab.research.google.com/github/CCS-ZCU/pribehy-dat/blob/master/scripts/1_uvod-do-jupyter-notebooku.ipynb\" target=\"_parent\"><img src=\"https://colab.research.google.com/assets/colab-badge.svg\" alt=\"Open In Colab\"/></a>"
   ]
  },
  {
   "cell_type": "code",
   "outputs": [],
   "source": [
    "import requests\n",
    "import re\n",
    "import pandas as pd"
   ],
   "metadata": {
    "collapsed": false,
    "ExecuteTime": {
     "end_time": "2024-01-20T19:50:15.278221Z",
     "start_time": "2024-01-20T19:50:14.978547Z"
    }
   },
   "execution_count": 26
  },
  {
   "cell_type": "markdown",
   "source": [
    "# Úvod a cíle kapitoly"
   ],
   "metadata": {
    "collapsed": false
   }
  },
  {
   "cell_type": "markdown",
   "source": [
    "V této kapitole si ukážeme základy tzv. regulérních výrazů. Regulární výrazy představují velice sofistikovaný způsob jak vyhledávat v textových datech určité řetězce znaků a případně je nahrazovat jinými řetězci znaků. Na rozdíl od standardního vyhledávání však regulérní výrazy umožňují vyhledávání na abstraktnější rovině, pomocí obecnějších pravidel či \"regulí\". K tomu se používají speciálně nadefinované pomocné znaky. Regex je technologie, která nemá co dočinění s Pythonem - lze jej používat v mnoha různých aplikacích, včetně webových (např. https://regex101.com). \n",
    "\n",
    "V rámci Pythonu je pro regex dostupná velice praktická knihovna re, `na` které budou některé ukázky níže postaveny. Pro systematičtější pohled však tentokrát z našeho juypter notebooku na chvíli vystoupíme a projedeme si sérii cvičeních na webové stránce https://regexone.com.\n",
    "\n",
    "## Úvod do regulérních výrazů v Pythonu"
   ],
   "metadata": {
    "collapsed": false
   }
  },
  {
   "cell_type": "markdown",
   "source": [
    "Knihovna `re` v sobě má celou řadu užitečných metod. My zde budeme pracovat jen s několika z nich. Zejména\n",
    "  * `re.search(pattern, string)`: nalezne uvnitř prohledávaného řetězce znaků (parametr `string`) první výskyt (tzv. `match`) hledáného řetězce znaků (`pattern`) a poskytne nám informaci o tom, kde se hledaný řetězec nachází\n",
    "  * `re.findall(pattern, string)`:  nalezne uvnitř prohledávaného řetězce znaků (parametr `string`) všechny výskyty (`matches`) hledáného řetězce znaků (`pattern`) a poskytne nám informaci o tom, kde se hledané řetězce nachází\n",
    "  * `re.sub(pattern, repl, string)`:  nalezne uvnitř prohledávaného řetězce znaků (parametr `string`) všechny výskyty hledáného řetězce znaků (`pattern`) a nahradí jej řetězcem `repl`.\n"
   ],
   "metadata": {
    "collapsed": false
   }
  },
  {
   "cell_type": "markdown",
   "source": [
    "Představte si, že chcete v dokumentu vyhledat veškéré výskyty číslic. Pomocí regexu toho lze dosáhnout pomocí použití speciálního znaku \"\\d\"."
   ],
   "metadata": {
    "collapsed": false
   }
  },
  {
   "cell_type": "code",
   "outputs": [],
   "source": [
    "# náš dokument se nachází uvnitř proměnné text\n",
    "text = \"Tento text obsahuje kromě znaků pro písmena i některé číslice, jako je třeba 7, 13, 542, nebo letopočet 1842 apod. Kromě toho obsahuje i některá vlastní jména, jako je třeba Jan Patočka nebo Václav Havel. To nám stačí, abychom si zde vyzkoušeli několik základních principů regexu.\""
   ],
   "metadata": {
    "collapsed": false,
    "ExecuteTime": {
     "end_time": "2024-01-20T19:48:52.839629Z",
     "start_time": "2024-01-20T19:48:52.837061Z"
    }
   },
   "execution_count": 19
  },
  {
   "cell_type": "markdown",
   "source": [
    "Použijeme tedy metodu `re.findall()` a speciální znak \"\\d\""
   ],
   "metadata": {
    "collapsed": false
   }
  },
  {
   "cell_type": "code",
   "outputs": [
    {
     "data": {
      "text/plain": "['7', '1', '3', '5', '4', '2', '1', '8', '4', '2']"
     },
     "execution_count": 20,
     "metadata": {},
     "output_type": "execute_result"
    }
   ],
   "source": [
    "matches = re.findall(\"\\d\", text)\n",
    "matches"
   ],
   "metadata": {
    "collapsed": false,
    "ExecuteTime": {
     "end_time": "2024-01-20T19:48:53.540060Z",
     "start_time": "2024-01-20T19:48:53.529736Z"
    }
   },
   "execution_count": 20
  },
  {
   "cell_type": "markdown",
   "source": [
    "Nyní jsme zachytili každou číslici zvlášť. Abychom zachytili i víceciferná čísla, musíme použít kvantifikátoru. V našem patternu uděláme jednu drobnou úpravu, a totiž přidáme znaménko +."
   ],
   "metadata": {
    "collapsed": false
   }
  },
  {
   "cell_type": "code",
   "outputs": [
    {
     "data": {
      "text/plain": "['7', '13', '542', '1842']"
     },
     "execution_count": 21,
     "metadata": {},
     "output_type": "execute_result"
    }
   ],
   "source": [
    "matches = re.findall(\"\\d+\", text)\n",
    "matches"
   ],
   "metadata": {
    "collapsed": false,
    "ExecuteTime": {
     "end_time": "2024-01-20T19:48:53.907473Z",
     "start_time": "2024-01-20T19:48:53.898527Z"
    }
   },
   "execution_count": 21
  },
  {
   "cell_type": "markdown",
   "source": [
    "někdy nás třeba mohou zajímat pouze čísla o určitém počtu cifer, jako jsou letopočty, které jsou již více než tisíc let čtyřciferné a nejspíš ještě několik tisíc let budou. Toho lze dosáhnout kvantifikátorem `{}`, "
   ],
   "metadata": {
    "collapsed": false
   }
  },
  {
   "cell_type": "code",
   "outputs": [
    {
     "data": {
      "text/plain": "['1842']"
     },
     "execution_count": 22,
     "metadata": {},
     "output_type": "execute_result"
    }
   ],
   "source": [
    "matches = re.findall(\"\\d{4}\", text)\n",
    "matches"
   ],
   "metadata": {
    "collapsed": false,
    "ExecuteTime": {
     "end_time": "2024-01-20T19:48:54.353123Z",
     "start_time": "2024-01-20T19:48:54.348264Z"
    }
   },
   "execution_count": 22
  },
  {
   "cell_type": "markdown",
   "source": [
    "Detekce čísel je jen jeden možný příklad. Druhý příklad, než se pustíme do reálných dat, budou vlastní jména. Vlastní jména začínají velkými písmeny. Najděme tedy všechna slova začínající velkými písmeny:"
   ],
   "metadata": {
    "collapsed": false
   }
  },
  {
   "cell_type": "code",
   "outputs": [
    {
     "data": {
      "text/plain": "['Tento', 'Kromě', 'Jan', 'Patočka', 'Václav', 'Havel', 'To']"
     },
     "execution_count": 23,
     "metadata": {},
     "output_type": "execute_result"
    }
   ],
   "source": [
    "re.findall(\"[A-Z]\\w*\", text)"
   ],
   "metadata": {
    "collapsed": false,
    "ExecuteTime": {
     "end_time": "2024-01-20T19:48:54.933617Z",
     "start_time": "2024-01-20T19:48:54.927595Z"
    }
   },
   "execution_count": 23
  },
  {
   "cell_type": "markdown",
   "source": [
    "Ano, je zde několik problému. Zaprvé zachycujeme také všechny slova na začátku vět. Jak tomu předejít? To přenechám samostatnému úkolu:"
   ],
   "metadata": {
    "collapsed": false
   }
  },
  {
   "cell_type": "code",
   "outputs": [
    {
     "data": {
      "text/plain": "['Tento', 'Kromě', 'Jan', 'Patočka', 'Václav', 'Havel', 'To']"
     },
     "execution_count": 24,
     "metadata": {},
     "output_type": "execute_result"
    }
   ],
   "source": [
    "# SAMOSTATNÝ ÚKOL:\n",
    "# upravit regex níže tak, aby nezachycoval slova, která mají velká písmena proto, že se nacházejí na začátku věty. \n",
    "re.findall(\"[A-Z]\\w*\", text)"
   ],
   "metadata": {
    "collapsed": false,
    "ExecuteTime": {
     "end_time": "2024-01-20T19:48:55.734518Z",
     "start_time": "2024-01-20T19:48:55.727398Z"
    }
   },
   "execution_count": 24
  },
  {
   "cell_type": "markdown",
   "source": [
    "Jména v našem textu sestávají ze dvou částí: křesťního jména a příjmení. Co se tedy soustředit pouze na situace, kdy se jedná o dvě slova s velkými písmeny po sobě:"
   ],
   "metadata": {
    "collapsed": false
   }
  },
  {
   "cell_type": "code",
   "outputs": [
    {
     "data": {
      "text/plain": "['Jan Patočka', 'Václav Havel']"
     },
     "execution_count": 25,
     "metadata": {},
     "output_type": "execute_result"
    }
   ],
   "source": [
    "re.findall(\"[A-Z]\\w*\\\\s[A-Z]\\w*\", text)"
   ],
   "metadata": {
    "collapsed": false,
    "ExecuteTime": {
     "end_time": "2024-01-20T19:48:56.590288Z",
     "start_time": "2024-01-20T19:48:56.588681Z"
    }
   },
   "execution_count": 25
  },
  {
   "cell_type": "markdown",
   "source": [
    "## Regulérní výrazy a metadata ze Slovníku českých filozofů\n",
    "\n",
    "Nyní si opět načteme data ze slovníku českých filozofů, která jsme vydolovali v jedné z předchozích kapitol."
   ],
   "metadata": {
    "collapsed": false
   }
  },
  {
   "cell_type": "code",
   "outputs": [
    {
     "data": {
      "text/plain": "                                                 url  \\\n0  http://www.phil.muni.cz/fil/scf/komplet/adam.html   \n1  http://www.phil.muni.cz/fil/scf/komplet/adamik...   \n2  http://www.phil.muni.cz/fil/scf/komplet/albert...   \n3  http://www.phil.muni.cz/fil/scf/komplet/albik....   \n4  http://www.phil.muni.cz/fil/scf/komplet/alexej...   \n\n                        name                                     birth  \\\n0  Daniel Adam z Veleslavína  * 31. \\r\\n8. \\r\\n1546 Veleslavín u Prahy   \n1             Richard Adamík    * 4. \\r\\n4. \\r\\n1867 Hranice na Moravě   \n2           František Albert             * 29. \\r\\n4. \\r\\n1856 Žamberk   \n3            Albík z Uničova                         * asi 1358 Uničov   \n4           Nikolaj Alexejev                       * 1. 5. 1879 Moskva   \n\n                            death  \n0    † 18. \\r\\n10. \\r\\n1599 Praha  \n1           † 15. \\r\\n8. \\r\\n1952  \n2  † 22. \\r\\n7. \\r\\n1923 Potštejn  \n3                     † 1427 Uhry  \n4             † 2. 3. 1964 Ženeva  ",
      "text/html": "<div>\n<style scoped>\n    .dataframe tbody tr th:only-of-type {\n        vertical-align: middle;\n    }\n\n    .dataframe tbody tr th {\n        vertical-align: top;\n    }\n\n    .dataframe thead th {\n        text-align: right;\n    }\n</style>\n<table border=\"1\" class=\"dataframe\">\n  <thead>\n    <tr style=\"text-align: right;\">\n      <th></th>\n      <th>url</th>\n      <th>name</th>\n      <th>birth</th>\n      <th>death</th>\n    </tr>\n  </thead>\n  <tbody>\n    <tr>\n      <th>0</th>\n      <td>http://www.phil.muni.cz/fil/scf/komplet/adam.html</td>\n      <td>Daniel Adam z Veleslavína</td>\n      <td>* 31. \\r\\n8. \\r\\n1546 Veleslavín u Prahy</td>\n      <td>† 18. \\r\\n10. \\r\\n1599 Praha</td>\n    </tr>\n    <tr>\n      <th>1</th>\n      <td>http://www.phil.muni.cz/fil/scf/komplet/adamik...</td>\n      <td>Richard Adamík</td>\n      <td>* 4. \\r\\n4. \\r\\n1867 Hranice na Moravě</td>\n      <td>† 15. \\r\\n8. \\r\\n1952</td>\n    </tr>\n    <tr>\n      <th>2</th>\n      <td>http://www.phil.muni.cz/fil/scf/komplet/albert...</td>\n      <td>František Albert</td>\n      <td>* 29. \\r\\n4. \\r\\n1856 Žamberk</td>\n      <td>† 22. \\r\\n7. \\r\\n1923 Potštejn</td>\n    </tr>\n    <tr>\n      <th>3</th>\n      <td>http://www.phil.muni.cz/fil/scf/komplet/albik....</td>\n      <td>Albík z Uničova</td>\n      <td>* asi 1358 Uničov</td>\n      <td>† 1427 Uhry</td>\n    </tr>\n    <tr>\n      <th>4</th>\n      <td>http://www.phil.muni.cz/fil/scf/komplet/alexej...</td>\n      <td>Nikolaj Alexejev</td>\n      <td>* 1. 5. 1879 Moskva</td>\n      <td>† 2. 3. 1964 Ženeva</td>\n    </tr>\n  </tbody>\n</table>\n</div>"
     },
     "execution_count": 27,
     "metadata": {},
     "output_type": "execute_result"
    }
   ],
   "source": [
    "slovnik_df = pd.read_csv(\"https://raw.githubusercontent.com/CCS-ZCU/pribehy-dat/master/data/slovnik_df.csv\")\n",
    "slovnik_df.head(5)"
   ],
   "metadata": {
    "collapsed": false,
    "ExecuteTime": {
     "end_time": "2024-01-20T19:50:27.023417Z",
     "start_time": "2024-01-20T19:50:26.700157Z"
    }
   },
   "execution_count": 27
  },
  {
   "cell_type": "markdown",
   "source": [
    "Ve sloupcích narození a smrt vidíme, že se zde datum a místo narození objevují vždy ve víceméně shodné podobě. Zajímá-li nás např. pouze rok narození či úmrtí, mohlo by nám postačit vyhledat v každém řetězci čtyřciferná čísla. \n",
    "\n",
    "Uvědomme si, že zde pracujeme  s objektem typu dataframe knihovny pandas. Některé věci je proto potřeba dělat trochu odlišně než na příkladech výše. Naše regexy si zabalíme do vlastních definovaných funkcí, které následně budeme aplikovat na všechny hodnoty ve vybraném sloupci najednou."
   ],
   "metadata": {
    "collapsed": false
   }
  },
  {
   "cell_type": "code",
   "outputs": [],
   "source": [],
   "metadata": {
    "collapsed": false
   }
  }
 ]
}
