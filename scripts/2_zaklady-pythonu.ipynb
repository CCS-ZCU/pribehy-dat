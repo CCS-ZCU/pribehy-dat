{
 "nbformat": 4,
 "nbformat_minor": 0,
 "metadata": {
  "colab": {
   "provenance": [],
   "include_colab_link": true
  },
  "kernelspec": {
   "display_name": "Python 3",
   "language": "python",
   "name": "python3"
  }
 },
 "cells": [
  {
   "cell_type": "markdown",
   "metadata": {
    "id": "view-in-github",
    "colab_type": "text"
   },
   "source": [
    "<a href=\"https://colab.research.google.com/github/CCS-ZCU/pribehy-dat/blob/master/scripts/2_zaklady-pythonu.ipynb\" target=\"_parent\"><img src=\"https://colab.research.google.com/assets/colab-badge.svg\" alt=\"Open In Colab\"/></a>"
   ]
  },
  {
   "cell_type": "markdown",
   "metadata": {
    "id": "sWGcsI7Q_2sw"
   },
   "source": [
    "### Úvod a cíle kapitoly\n",
    "\n",
    "V této kapitole se blížeji obeznámíme se základními typy proměnných a datovými strukturami programovacího jazyka Python. \n",
    "Ukážeme si také některé často využívané postupy pro analýzu těchto datových struktur, jako je tzv. cyklus FOR. \n",
    "Ač se v tomto souboru studijních opor nejedná v pravém smyslu o kurz programování, je tento výklad pro další práci nezbytný.\n",
    "\n",
    "### Proměnné, datové typy a datové struktury\n",
    "\n",
    "Základní entitou v jakémkoli programovacím jazyce je proměnná (eng. *variable*). Proměnným připisujeme hodnoty neboli *values*.\n",
    "\n",
    "Hodnoty proměnných můžopu být buď základní datové typy nebo pokročilejší datové struktury. Základní datové typy jsou tyto:\n",
    "*   INTEGER (int) - celá čísla\n",
    "*   FLOAT - desetinná čísla, vyznačuje se desetinou čárkou, resp. \".\"\n",
    "*   STRING (str) - řetězec textu\n",
    "*   BOOLEAN (bool) - pravda (True) nebo nepravda (False)\n",
    "\n",
    "Datové struktury nám umožňují zacházet s větším množstvím entit najednou. Nejdůležitější jsou tyto:\n",
    "*  LIST - uspořádaný seznam prvků\n",
    "*  DICTIONARY (dict) - neuspořádaný seznam párů prvků\n",
    "\n",
    "Datové struktury se do sebe mohou dále zanořovat. Velice často se např. setkáme s LISTem LISTů"
   ]
  },
  {
   "cell_type": "markdown",
   "metadata": {
    "id": "_sn6S5ul_XJn"
   },
   "source": [
    "\n",
    "\n",
    "S číselnými proměnnými typu INT a STRING jsme již pracovali v předchozím cvičení. Zde si jen pro úplnost zopakujeme\n"
   ]
  },
  {
   "cell_type": "markdown",
   "source": [
    "### Proměnná typu INTEGER"
   ],
   "metadata": {
    "collapsed": false
   }
  },
  {
   "cell_type": "code",
   "metadata": {
    "id": "bYx3je5WKG22",
    "ExecuteTime": {
     "end_time": "2023-12-21T12:21:50.015236Z",
     "start_time": "2023-12-21T12:21:50.007623Z"
    }
   },
   "source": [
    "# zavedení dvou číselných proměnných\n",
    "prvni_ciselna_promenna = 172\n",
    "druha_ciselna_promenna = 204\n",
    "# k provedení příkazů je potřeba tuto buňku spustit (viz výše)"
   ],
   "execution_count": 1,
   "outputs": []
  },
  {
   "cell_type": "code",
   "metadata": {
    "id": "levuJbuHKHJw",
    "ExecuteTime": {
     "end_time": "2023-12-21T12:21:50.016036Z",
     "start_time": "2023-12-21T12:21:50.012734Z"
    }
   },
   "source": [
    "# vytvořáme třetí proměnnou, jejímž obsahem učiníme součet našich prvních dvou proměnných\n",
    "soucet_promennych = prvni_ciselna_promenna + druha_ciselna_promenna\n",
    "# výsledek si vypíšeme\n",
    "soucet_promennych"
   ],
   "execution_count": 2,
   "outputs": [
    {
     "data": {
      "text/plain": "376"
     },
     "execution_count": 2,
     "metadata": {},
     "output_type": "execute_result"
    }
   ]
  },
  {
   "cell_type": "markdown",
   "metadata": {
    "id": "DY7iU_lPZwdD"
   },
   "source": [
    "### Proměnná typu STRING\n",
    "Dále si vytvoříme poroměnnou v podobě textového řetězce.\n",
    "Zvolíme si pro ni pokud možno co nejlepší název.\n",
    "Chceme, aby šlo o proměnnou typu \"string\", a nikoli třeba \"int\" (= integer/celé číslo), což dáme najevo tím, že použijeme uvozovky"
   ]
  },
  {
   "cell_type": "code",
   "metadata": {
    "id": "1NPbY30VZwdG"
   },
   "source": [
    "text1 = \"První textový obsah. \"\n",
    "text2 = \"Druhý textový obsah. \""
   ],
   "execution_count": null,
   "outputs": []
  },
  {
   "cell_type": "markdown",
   "source": [
    "> **SAMOSTATNÝ ÚKOL**: V buňce níže zkuste sečíst (pomocí symbolu \"+\") výše definované proměnné typu string `text1` a `text2`. K čemu dojde? "
   ],
   "metadata": {
    "collapsed": false
   }
  },
  {
   "cell_type": "code",
   "execution_count": 6,
   "outputs": [],
   "source": [
    "# Buňka kódu pro samostatný úkol:\n"
   ],
   "metadata": {
    "collapsed": false,
    "ExecuteTime": {
     "end_time": "2023-12-21T12:44:02.904644Z",
     "start_time": "2023-12-21T12:44:02.867563Z"
    }
   }
  },
  {
   "cell_type": "markdown",
   "source": [
    "### Proměnná typu FLOAT\n",
    "\n",
    "Proměnná typu float se chová obdobně jako proměnná typu integer, s tím rozdílem, že umožňuje pracovat s desetinnými čísly. \n",
    "Chceme-li tuto proměnnou definovat, vše, co je potřeba, je poxužít znak tečky jako vymezení desetiného čísla.\n"
   ],
   "metadata": {
    "collapsed": false
   }
  },
  {
   "cell_type": "code",
   "execution_count": 17,
   "outputs": [
    {
     "data": {
      "text/plain": "31247.696736"
     },
     "execution_count": 17,
     "metadata": {},
     "output_type": "execute_result"
    }
   ],
   "source": [
    "n1 = 133.3548\n",
    "n2 = 234.32\n",
    "n = n1 * n2\n",
    "n"
   ],
   "metadata": {
    "collapsed": false,
    "ExecuteTime": {
     "end_time": "2023-12-21T13:02:16.853155Z",
     "start_time": "2023-12-21T13:02:16.837050Z"
    }
   }
  },
  {
   "cell_type": "markdown",
   "source": [
    "### Proměnná typu BOOLEAN (BOOL)\n",
    "\n",
    "Proměnné typu bool slouží k zachycení pravdivostních hodnot a jsou hojně uplatňovány v nejrůznějších funkcích při logických operacích a podmínečných výrocích \n",
    "K zavedení těchto proměnných se používají anglické výrazy `True` a `False`, a to přesně v této podobě a bez uvozovek. "
   ],
   "metadata": {
    "collapsed": false
   }
  },
  {
   "cell_type": "code",
   "execution_count": 18,
   "outputs": [
    {
     "data": {
      "text/plain": "1"
     },
     "execution_count": 18,
     "metadata": {},
     "output_type": "execute_result"
    }
   ],
   "source": [
    "val1 = True\n",
    "val2 = False"
   ],
   "metadata": {
    "collapsed": false,
    "ExecuteTime": {
     "end_time": "2023-12-21T13:07:23.674987Z",
     "start_time": "2023-12-21T13:07:23.660742Z"
    }
   }
  },
  {
   "cell_type": "code",
   "execution_count": 21,
   "outputs": [
    {
     "data": {
      "text/plain": "False"
     },
     "execution_count": 21,
     "metadata": {},
     "output_type": "execute_result"
    }
   ],
   "source": [
    "# chování těchto proměných v případě logického \"and\"\n",
    "val1 and val2"
   ],
   "metadata": {
    "collapsed": false,
    "ExecuteTime": {
     "end_time": "2023-12-21T13:08:35.786766Z",
     "start_time": "2023-12-21T13:08:35.765248Z"
    }
   }
  },
  {
   "cell_type": "markdown",
   "source": [
    "> **SAMOSTATNÝ ÚKOL**: Jaký výsledek získáme spojíme-li proměnné `val1` a `val2` pomocí logického \"or\" (obdobně jako v buňce výše?)"
   ],
   "metadata": {
    "collapsed": false
   }
  },
  {
   "cell_type": "code",
   "execution_count": 23,
   "outputs": [],
   "source": [
    "# Buňka kódu pro samostatný úkol:\n"
   ],
   "metadata": {
    "collapsed": false,
    "ExecuteTime": {
     "end_time": "2023-12-21T13:11:15.574963Z",
     "start_time": "2023-12-21T13:11:15.539939Z"
    }
   }
  },
  {
   "cell_type": "markdown",
   "source": [
    "Hodnotu v podobě boolovské proměnné často získáme jako výsledek určitých operací. Např. jako výsledek porovnávání dvou hodnot:"
   ],
   "metadata": {
    "collapsed": false
   }
  },
  {
   "cell_type": "code",
   "execution_count": 34,
   "outputs": [
    {
     "data": {
      "text/plain": "False"
     },
     "execution_count": 34,
     "metadata": {},
     "output_type": "execute_result"
    }
   ],
   "source": [
    "n1 > n2"
   ],
   "metadata": {
    "collapsed": false,
    "ExecuteTime": {
     "end_time": "2023-12-21T14:13:10.175987Z",
     "start_time": "2023-12-21T14:13:10.163234Z"
    }
   }
  },
  {
   "cell_type": "markdown",
   "source": [
    "### Převod mezi typy proměnných\n",
    "\n",
    "Nezřídka se nám stane, že se v různých datasetech setkáme s tím, že nějaká informace je kódovaná jiným typem proměnné, než bychom si přáli. Např. letopočet, který by měl být definován celým číslem 1920, je kódováno číslem desetinným 1920.0, neboť některé souborové formáty a knihovny pracují primárně s desetinnými čísly. Pro numerické operace nás to nemusí trápit. \n",
    "Je však dobré vědět, že mezi různými typy proměnných lze různě převádět pomocí funkcí `str()`, `int()`, `float()` či `bool()`. "
   ],
   "metadata": {
    "collapsed": false
   }
  },
  {
   "cell_type": "code",
   "source": [
    "# pomocí funkce int() převedeme rok vyjádřený desetinným číslem na celé číslo\n",
    "year = 1920.0\n",
    "year = int(year)\n",
    "year"
   ],
   "metadata": {
    "colab": {
     "base_uri": "https://localhost:8080/"
    },
    "id": "rXm1ghl2UTKb",
    "outputId": "df643bdc-86cc-4753-c22c-eb4d759ba377",
    "ExecuteTime": {
     "end_time": "2023-12-21T12:57:43.117993Z",
     "start_time": "2023-12-21T12:57:43.110503Z"
    }
   },
   "execution_count": 10,
   "outputs": [
    {
     "data": {
      "text/plain": "1920"
     },
     "execution_count": 10,
     "metadata": {},
     "output_type": "execute_result"
    }
   ]
  },
  {
   "cell_type": "code",
   "execution_count": 5,
   "outputs": [
    {
     "data": {
      "text/plain": "197"
     },
     "execution_count": 5,
     "metadata": {},
     "output_type": "execute_result"
    }
   ],
   "source": [
    "# POZOR: jak ukazuje příklad níže, nejedná se o zaokrouhlování!\n",
    "int(197.8)"
   ],
   "metadata": {
    "collapsed": false,
    "ExecuteTime": {
     "end_time": "2023-12-21T12:41:40.167683Z",
     "start_time": "2023-12-21T12:41:40.149394Z"
    }
   }
  },
  {
   "cell_type": "markdown",
   "source": [
    "Často narazíme na situaci, kdy je číselná hodnota kódována jako proměnná typu string, a tudíž nepřístupná pro matematické operace. "
   ],
   "metadata": {
    "collapsed": false
   }
  },
  {
   "cell_type": "code",
   "execution_count": 13,
   "outputs": [],
   "source": [
    "legth = \"175.6\" # proměnná definující výšku, avšak ve formátu string"
   ],
   "metadata": {
    "collapsed": false,
    "ExecuteTime": {
     "end_time": "2023-12-21T12:59:52.467186Z",
     "start_time": "2023-12-21T12:59:52.446991Z"
    }
   }
  },
  {
   "cell_type": "markdown",
   "source": [
    "> **SAMOSTATNÝ ÚKOL**: Převeďte proměnnou typu string definovanou v předchozí buňce na proměnnou typu float "
   ],
   "metadata": {
    "collapsed": false
   }
  },
  {
   "cell_type": "code",
   "execution_count": 14,
   "outputs": [],
   "source": [
    "# Buňka kódu pro samostatný úkol:\n"
   ],
   "metadata": {
    "collapsed": false,
    "ExecuteTime": {
     "end_time": "2023-12-21T12:59:55.378679Z",
     "start_time": "2023-12-21T12:59:55.366066Z"
    }
   }
  },
  {
   "cell_type": "markdown",
   "metadata": {
    "id": "mI5H2nvaZwdP"
   },
   "source": [
    "### Proměnná obsahující datovou strukturu typu LIST\n",
    "\n",
    "Chceme-li načíst více dokumentů současně, je ideální, pokud se nám podaří dostat je např. do proměnné ve formátu \"list\"\n",
    "Prvky listu jsou zde opět textové řetězce, kterých se nyní můžeme individuálně dotazovat"
   ]
  },
  {
   "cell_type": "code",
   "source": [
    "l = [27, 23, 48, 23, 45]"
   ],
   "metadata": {
    "id": "ObTmy7JkWik2",
    "ExecuteTime": {
     "end_time": "2023-12-21T13:13:45.624757Z",
     "start_time": "2023-12-21T13:13:45.611410Z"
    }
   },
   "execution_count": 24,
   "outputs": []
  },
  {
   "cell_type": "code",
   "source": [
    "len(l)"
   ],
   "metadata": {
    "id": "nmvvtZurXVoe",
    "ExecuteTime": {
     "end_time": "2023-12-21T13:13:46.082748Z",
     "start_time": "2023-12-21T13:13:46.071628Z"
    }
   },
   "execution_count": 25,
   "outputs": [
    {
     "data": {
      "text/plain": "5"
     },
     "execution_count": 25,
     "metadata": {},
     "output_type": "execute_result"
    }
   ]
  },
  {
   "cell_type": "code",
   "source": [
    "type(l)"
   ],
   "metadata": {
    "colab": {
     "base_uri": "https://localhost:8080/"
    },
    "id": "-UI9VoVzXB5y",
    "outputId": "662a6cfa-f1d0-4a3d-dd1b-be8bd1110275",
    "ExecuteTime": {
     "end_time": "2023-12-21T13:13:46.672954Z",
     "start_time": "2023-12-21T13:13:46.667987Z"
    }
   },
   "execution_count": 26,
   "outputs": [
    {
     "data": {
      "text/plain": "list"
     },
     "execution_count": 26,
     "metadata": {},
     "output_type": "execute_result"
    }
   ]
  },
  {
   "cell_type": "code",
   "metadata": {
    "id": "_10_cCZmZwdR",
    "ExecuteTime": {
     "end_time": "2023-12-21T13:13:47.115890Z",
     "start_time": "2023-12-21T13:13:47.109548Z"
    }
   },
   "source": [
    "promenna_list = [\"Já jsem první prvek listu. Další prvek přijde až po ukončení uvozovek a čárce.\", \"Já jsem druhý prvek listu.\", \"Já jsem poslední prvek listu. My všichni dohromady jsme ohraničeni hranatými závorkami. Ty naznačují, že jsme list.\"]"
   ],
   "execution_count": 27,
   "outputs": []
  },
  {
   "cell_type": "code",
   "metadata": {
    "id": "e-PwdYdAZwdh",
    "outputId": "7a33887f-2c3f-433b-8887-5e62a1dfe492",
    "colab": {
     "base_uri": "https://localhost:8080/"
    },
    "ExecuteTime": {
     "end_time": "2023-12-21T13:13:47.547844Z",
     "start_time": "2023-12-21T13:13:47.541270Z"
    }
   },
   "source": [
    "promenna_list"
   ],
   "execution_count": 28,
   "outputs": [
    {
     "data": {
      "text/plain": "['Já jsem první prvek listu. Další prvek přijde až po ukončení uvozovek a čárce.',\n 'Já jsem druhý prvek listu.',\n 'Já jsem poslední prvek listu. My všichni dohromady jsme ohraničeni hranatými závorkami. Ty naznačují, že jsme list.']"
     },
     "execution_count": 28,
     "metadata": {},
     "output_type": "execute_result"
    }
   ]
  },
  {
   "cell_type": "markdown",
   "metadata": {
    "id": "GcwwRqfgZwdm"
   },
   "source": [
    "### Indexování"
   ]
  },
  {
   "cell_type": "markdown",
   "metadata": {
    "id": "ucwQANBiZwdn"
   },
   "source": [
    "V případě \"listů\" nás často zajímají jenom některé prvky. K prvkům se dostaneme prostřednictvím indexů.\n",
    "Každému prvku v listu je automaticky přiřazeno číslo počínaje \"0\"\n",
    "\n",
    "Konkrétní prvek listu si vypíšeme zavoláním jeho indexu, což např. v případě prvního prvku vypadá takto:"
   ]
  },
  {
   "cell_type": "code",
   "source": [
    "l = [27, 23, 48, 23, 45]\n",
    "l[0]"
   ],
   "metadata": {
    "colab": {
     "base_uri": "https://localhost:8080/"
    },
    "id": "ZrBtw2EZX27v",
    "outputId": "53626841-0c61-4498-94dd-f12f00b26eaf",
    "ExecuteTime": {
     "end_time": "2023-12-21T13:14:08.817838Z",
     "start_time": "2023-12-21T13:14:08.813121Z"
    }
   },
   "execution_count": 29,
   "outputs": [
    {
     "data": {
      "text/plain": "27"
     },
     "execution_count": 29,
     "metadata": {},
     "output_type": "execute_result"
    }
   ]
  },
  {
   "cell_type": "code",
   "metadata": {
    "id": "xoDriNPrZwdp",
    "outputId": "cd023071-64f9-4780-88bf-ccbd20878c94",
    "colab": {
     "base_uri": "https://localhost:8080/",
     "height": 34
    },
    "ExecuteTime": {
     "end_time": "2023-12-21T13:14:10.704853Z",
     "start_time": "2023-12-21T13:14:10.688711Z"
    }
   },
   "source": [
    "print(promenna_list[0])"
   ],
   "execution_count": 30,
   "outputs": [
    {
     "name": "stdout",
     "output_type": "stream",
     "text": [
      "Já jsem první prvek listu. Další prvek přijde až po ukončení uvozovek a čárce.\n"
     ]
    }
   ]
  },
  {
   "cell_type": "markdown",
   "metadata": {
    "id": "k8n12hqLZwdt"
   },
   "source": [
    "Ke druhému až poslednímu listu se naopak dostaneme takto:"
   ]
  },
  {
   "cell_type": "code",
   "metadata": {
    "id": "CmyhkDE6Zwdu",
    "outputId": "3f47c03f-3516-4b68-aa18-9b873c23356b",
    "colab": {
     "base_uri": "https://localhost:8080/",
     "height": 74
    },
    "ExecuteTime": {
     "end_time": "2023-12-21T13:14:13.630063Z",
     "start_time": "2023-12-21T13:14:13.625508Z"
    }
   },
   "source": [
    "print(promenna_list[1:])"
   ],
   "execution_count": 31,
   "outputs": [
    {
     "name": "stdout",
     "output_type": "stream",
     "text": [
      "['Já jsem druhý prvek listu.', 'Já jsem poslední prvek listu. My všichni dohromady jsme ohraničeni hranatými závorkami. Ty naznačují, že jsme list.']\n"
     ]
    }
   ]
  },
  {
   "cell_type": "markdown",
   "metadata": {
    "id": "uPHr7c5SZwd3"
   },
   "source": [
    "### Cyklus FOR\n",
    "\n",
    "Pomocí cyklu FOR se můžeme např. dotázat, kolik znaků mají jednotlivé prvky našeho listu, a nechat si tyto hodnoty jednu po druhé nechat vytisknout."
   ]
  },
  {
   "cell_type": "code",
   "metadata": {
    "id": "Xe7p6z_cZwd4",
    "outputId": "e26ecdb4-d477-43b2-ddbb-2fee49172b6c",
    "colab": {
     "base_uri": "https://localhost:8080/",
     "height": 68
    },
    "ExecuteTime": {
     "end_time": "2023-12-21T13:14:30.376163Z",
     "start_time": "2023-12-21T13:14:30.357525Z"
    }
   },
   "source": [
    "for element in promenna_list:\n",
    "    print(len(element))"
   ],
   "execution_count": 32,
   "outputs": [
    {
     "name": "stdout",
     "output_type": "stream",
     "text": [
      "78\n",
      "26\n",
      "115\n"
     ]
    }
   ]
  },
  {
   "cell_type": "markdown",
   "source": [
    "### Podmíněné příkazy IF-ELSE"
   ],
   "metadata": {
    "collapsed": false
   }
  },
  {
   "cell_type": "markdown",
   "source": [
    "Dalším klíčovým elementem každého programovacího jazyka jsou podmíněné příkazy:\n",
    "Jestliže (`if`) dochází ke splnění námi stanovené podmínky, provede se příkaz v odrážce na následující řádce či řádcích; pokud ne, tento následný soubor příkazů se přeskočí a kód buď pokračuje přímo dál, nebo provede příkazy které se nacházejí v odrážce pod příkazem `else`. \n",
    "\n",
    "Jednoduchý příklad vypadá následovně: Použijeme tuto logiku k tomu, abychom u konkrétního čísla vyhodnotily, zda je vyšší než 30,"
   ],
   "metadata": {
    "collapsed": false
   }
  },
  {
   "cell_type": "code",
   "execution_count": 36,
   "outputs": [],
   "source": [
    "n = 37 # nadefinujeme si číslo"
   ],
   "metadata": {
    "collapsed": false,
    "ExecuteTime": {
     "end_time": "2023-12-21T14:21:41.500533Z",
     "start_time": "2023-12-21T14:21:41.492502Z"
    }
   }
  },
  {
   "cell_type": "code",
   "execution_count": 38,
   "outputs": [
    {
     "name": "stdout",
     "output_type": "stream",
     "text": [
      "37  - Toto číslo je větší než 30.\n"
     ]
    }
   ],
   "source": [
    "if n > 30:\n",
    "    print(n, \" - Toto číslo je větší než 30.\")"
   ],
   "metadata": {
    "collapsed": false,
    "ExecuteTime": {
     "end_time": "2023-12-21T14:22:24.975797Z",
     "start_time": "2023-12-21T14:22:24.964037Z"
    }
   }
  },
  {
   "cell_type": "markdown",
   "source": [
    "Užitečnost tohoto snad vysvytne více, když podmíněný příkaz IF zakomponujeme do cyklu FOR.\n"
   ],
   "metadata": {
    "collapsed": false
   }
  },
  {
   "cell_type": "code",
   "execution_count": 40,
   "outputs": [
    {
     "name": "stdout",
     "output_type": "stream",
     "text": [
      ":-(\n",
      ":-(\n",
      "48 :-)\n",
      ":-(\n",
      "45 :-)\n"
     ]
    }
   ],
   "source": [
    "l = [27, 23, 48, 23, 45]\n",
    "for el in l:\n",
    "    if el > 30:\n",
    "        print(el, \":-)\")\n",
    "    else:\n",
    "        print(\":-(\")"
   ],
   "metadata": {
    "collapsed": false,
    "ExecuteTime": {
     "end_time": "2023-12-21T14:25:10.640124Z",
     "start_time": "2023-12-21T14:25:10.634048Z"
    }
   }
  },
  {
   "cell_type": "code",
   "execution_count": null,
   "outputs": [],
   "source": [],
   "metadata": {
    "collapsed": false
   }
  }
 ]
}
