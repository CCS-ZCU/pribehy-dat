{
 "nbformat": 4,
 "nbformat_minor": 0,
 "metadata": {
  "colab": {
   "provenance": [],
   "include_colab_link": true
  },
  "kernelspec": {
   "display_name": "Python 3",
   "language": "python",
   "name": "python3"
  }
 },
 "cells": [
  {
   "cell_type": "markdown",
   "metadata": {
    "id": "view-in-github",
    "colab_type": "text"
   },
   "source": [
    "<a href=\"https://colab.research.google.com/github/CCS-ZCU/pribehy-dat/blob/master/scripts/2_zaklady-pythonu.ipynb\" target=\"_parent\"><img src=\"https://colab.research.google.com/assets/colab-badge.svg\" alt=\"Open In Colab\"/></a>"
   ]
  },
  {
   "cell_type": "markdown",
   "metadata": {
    "id": "sWGcsI7Q_2sw"
   },
   "source": [
    "## Proměnné, datové typy a datové struktury\n",
    "\n",
    "Základní entitou v jakémkoli programovacím jazyce je proměnná (eng. *variable*). Proměnným připisujeme hodnoty neboli *values*\n",
    "\n",
    "Hodnoty proměnných můžopu být buď základní datové typy nebo pokročilejší datové struktury. Základní datové typy jsou tyto:\n",
    "*   INTEGER (int) - celá čísla\n",
    "*   FLOAT - desetinná čísla, vyznačuje se desetinou čárkou, resp. \".\"\n",
    "*   STRING - řetězec textu\n",
    "*   BOOLEAN (bool) - pravda (True) nebo nepravda (False)\n",
    "\n",
    "Datové struktury nám umožňují zacházet s větším množstvím entit najednou. Nejdůležitější jsou tyto:\n",
    "*  LIST - uspořádaný seznam prvků\n",
    "*  DICTIONARY (dict) - neuspořádaný seznam párů prvků\n",
    "\n",
    "Datové struktury se do sebe mohou dále zanořovat. Velice často se např. setkáme s LISTem LISTů"
   ]
  },
  {
   "cell_type": "markdown",
   "metadata": {
    "id": "_sn6S5ul_XJn"
   },
   "source": [
    "## Proměnné typu INT a spouštění buňek v jupyter notebooku\n",
    "\n",
    "Začněme tím, že si ukážeme pár jednoduchých  na sebe navazujících buněk skriptu. První buňka skriptu zavádí dvě nové proměnné typu INT, které si nazveme např. \"prvni_ciselna_promenna\" a \"druha_ciselna_promena\" (Název proměnných je zvolen tak, aby neobsahoval mezery ani diaktriku, které by Python mátly, a aby nám v budoucnu napověděl, co se za proměnnými skrývá. Obvykle ale volíme kratší názvy proměnných než v tomto příkladu.). V Pythonu si proměnné zavádíme jednoduše tak, že jim  pomocí rovnítka přiřadíme určitou hodnotu: to, co je od rovnítka napravo se spuštěním příkazu stává obsahem proměnné, jejíž název se nachází od rovnítka nalevo.\n",
    "\n",
    "SkrIpt uvnitř buňky spustíme tak, že do ní přemístíme kurzor a buď stiskneme ikonu \"play\", nebo použijeme klávesovou zkratku Shift+Enter."
   ]
  },
  {
   "cell_type": "code",
   "metadata": {
    "id": "bYx3je5WKG22",
    "ExecuteTime": {
     "end_time": "2023-12-12T09:48:00.041987Z",
     "start_time": "2023-12-12T09:48:00.036732Z"
    }
   },
   "source": [
    "# toto je naše první buňka skriptu\n",
    "# a tento text je náš pomocný komentář\n",
    "# na následujících dvou řádcích se nachází příkazy pro zavedení a přiřazení hodnot našim dvěma proměnným\n",
    "prvni_ciselna_promenna = 17223\n",
    "druha_ciselna_promenna = 20433\n",
    "# k provedení příkazů je potřeba tuto buňku spustit (viz výše)"
   ],
   "execution_count": 1,
   "outputs": []
  },
  {
   "cell_type": "code",
   "metadata": {
    "id": "levuJbuHKHJw"
   },
   "source": [
    "# toto je naše druhá buňka skriptu.\n",
    "# zde můžeme využít proměnných nadefinovaných výše (pokud jsme buňku výše spustili)\n",
    "# můžeme např. vytvořit třetí proměnnou, jejímž obsahem učiníme součet našich prvních dvou proměnných\n",
    "soucet_promennych = prvni_ciselna_promenna + druha_ciselna_promenna"
   ],
   "execution_count": null,
   "outputs": []
  },
  {
   "cell_type": "code",
   "source": [],
   "metadata": {
    "id": "qh7NIpMafwOC"
   },
   "execution_count": null,
   "outputs": []
  },
  {
   "cell_type": "markdown",
   "metadata": {
    "id": "NJmjLfeMZwdW"
   },
   "source": [
    "## print()\n",
    "\n",
    "Vždy, když chceme vyzkoušet, zda nám vše funguje správně, daný prvek si \"vytiskneme\" (nebo spíš \"vypíšeme\") pomocí funkce \"print()\"."
   ]
  },
  {
   "cell_type": "code",
   "metadata": {
    "id": "MUnESbZoKPmq",
    "outputId": "1632b92f-5646-4c85-f1a3-a2ce6ad686e6",
    "colab": {
     "base_uri": "https://localhost:8080/"
    }
   },
   "source": [
    "# vypišme si tedy náš součet:\n",
    "print(soucet_promennych)\n"
   ],
   "execution_count": null,
   "outputs": [
    {
     "output_type": "stream",
     "name": "stdout",
     "text": [
      "37656\n"
     ]
    }
   ]
  },
  {
   "cell_type": "markdown",
   "metadata": {
    "id": "DY7iU_lPZwdD"
   },
   "source": [
    "## Vytvoření proměnné typu STRING\n",
    "Dále si vytvoříme poroměnnou v podobě textového řetězce.\n",
    "Zvolíme si pro ni pokud možno co nejlepší název.\n",
    "Chceme, aby šlo o proměnnou typu \"string\", a nikoli třeba \"int\" (= integer/celé číslo), což dáme najevo tím, že použijeme uvozovky"
   ]
  },
  {
   "cell_type": "code",
   "metadata": {
    "id": "1NPbY30VZwdG"
   },
   "source": [
    "promenna_text = \"Tento text je nyní obsahem proměnné. Mohu libovolně přidávat slova. Může být libovolně dlouhý, obsahovat mnoho vět, slovo za slovem, dokud jej neukončí uvozovky. V naší ukázce, budeme počítat termín slovo. Kolikrát se zde termín slovo objevuje?\""
   ],
   "execution_count": null,
   "outputs": []
  },
  {
   "cell_type": "code",
   "source": [
    "a = 12\n",
    "b = 4\n",
    "#c = a + b"
   ],
   "metadata": {
    "id": "j90TcgZ-SufO"
   },
   "execution_count": null,
   "outputs": []
  },
  {
   "cell_type": "code",
   "source": [
    "d = a < b"
   ],
   "metadata": {
    "id": "RQpswUv9U8FY"
   },
   "execution_count": null,
   "outputs": []
  },
  {
   "cell_type": "code",
   "source": [
    "a = int(12.0)\n",
    "type(a)"
   ],
   "metadata": {
    "colab": {
     "base_uri": "https://localhost:8080/"
    },
    "id": "rXm1ghl2UTKb",
    "outputId": "df643bdc-86cc-4753-c22c-eb4d759ba377"
   },
   "execution_count": null,
   "outputs": [
    {
     "output_type": "execute_result",
     "data": {
      "text/plain": [
       "float"
      ]
     },
     "metadata": {},
     "execution_count": 19
    }
   ]
  },
  {
   "cell_type": "markdown",
   "metadata": {
    "id": "mI5H2nvaZwdP"
   },
   "source": [
    "## Proměnná obsahující datovou strukturu typu LIST\n",
    "\n",
    "---\n",
    "\n",
    "\n",
    "Chceme-li načíst více dokumentů současně, je ideální, pokud se nám podaří dostat je např. do proměnné ve formátu \"list\"\n",
    "Prvky listu jsou zde opět textové řetězce, kterých se nyní můžeme individuálně dotazovat"
   ]
  },
  {
   "cell_type": "code",
   "source": [
    "l = [27, 23, 48, 23, 45]"
   ],
   "metadata": {
    "id": "ObTmy7JkWik2"
   },
   "execution_count": null,
   "outputs": []
  },
  {
   "cell_type": "code",
   "source": [
    "len(l)"
   ],
   "metadata": {
    "id": "nmvvtZurXVoe"
   },
   "execution_count": null,
   "outputs": []
  },
  {
   "cell_type": "code",
   "source": [
    "type(l)"
   ],
   "metadata": {
    "colab": {
     "base_uri": "https://localhost:8080/"
    },
    "id": "-UI9VoVzXB5y",
    "outputId": "662a6cfa-f1d0-4a3d-dd1b-be8bd1110275"
   },
   "execution_count": null,
   "outputs": [
    {
     "output_type": "execute_result",
     "data": {
      "text/plain": [
       "list"
      ]
     },
     "metadata": {},
     "execution_count": 26
    }
   ]
  },
  {
   "cell_type": "code",
   "metadata": {
    "id": "_10_cCZmZwdR"
   },
   "source": [
    "promenna_list = [\"Já jsem první prvek listu. Další prvek přijde až po ukončení uvozovek a čárce.\", \"Já jsem druhý prvek listu.\", \"Já jsem poslední prvek listu. My všichni dohromady jsme ohraničeni hranatými závorkami. Ty naznačují, že jsme list.\"]"
   ],
   "execution_count": null,
   "outputs": []
  },
  {
   "cell_type": "code",
   "metadata": {
    "id": "xNHjT2NcZwdX",
    "outputId": "e23522b6-8fb3-41f0-e4d6-1dc3b3d96a48",
    "colab": {
     "base_uri": "https://localhost:8080/"
    }
   },
   "source": [
    "print(promenna_text)"
   ],
   "execution_count": null,
   "outputs": [
    {
     "output_type": "stream",
     "name": "stdout",
     "text": [
      "Tento text je nyní obsahem proměnné. Mohu libovolně přidávat slova. Může být libovolně dlouhý, obsahovat mnoho vět, slovo za slovem, dokud jej neukončí uvozovky. V naší ukázce, budeme počítat termín slovo. Kolikrát se zde termín slovo objevuje?\n"
     ]
    }
   ]
  },
  {
   "cell_type": "markdown",
   "metadata": {
    "id": "Sg7d2QcnZwdh"
   },
   "source": [
    "Dále si vytiskneme náš list"
   ]
  },
  {
   "cell_type": "code",
   "metadata": {
    "id": "e-PwdYdAZwdh",
    "outputId": "7a33887f-2c3f-433b-8887-5e62a1dfe492",
    "colab": {
     "base_uri": "https://localhost:8080/"
    }
   },
   "source": [
    "print(promenna_list)"
   ],
   "execution_count": null,
   "outputs": [
    {
     "output_type": "stream",
     "name": "stdout",
     "text": [
      "['Já jsem první prvek listu. Další prvek přijde až po ukončení uvozovek a čárce.', 'Já jsem druhý prvek listu.', 'Já jsem poslední prvek listu. My všichni dohromady jsme ohraničeni hranatými závorkami. Ty naznačují, že jsme list.']\n"
     ]
    }
   ]
  },
  {
   "cell_type": "markdown",
   "metadata": {
    "id": "GcwwRqfgZwdm"
   },
   "source": [
    "## indexování"
   ]
  },
  {
   "cell_type": "markdown",
   "metadata": {
    "id": "ucwQANBiZwdn"
   },
   "source": [
    "V případě \"listů\" nás často zajímají jenom některé prvky. K prvkům se dostaneme prostřednictvím indexů.\n",
    "Každému prvku v listu je automaticky přiřazeno číslo počínaje \"0\"\n",
    "\n",
    "Konkrétní prvek listu si vytiskneme zavoláním jeho indexu, což např. v případě prvního prvku vypadá takto:"
   ]
  },
  {
   "cell_type": "code",
   "source": [
    "l = [27, 23, 48, 23, 45]\n",
    "l[0]"
   ],
   "metadata": {
    "colab": {
     "base_uri": "https://localhost:8080/"
    },
    "id": "ZrBtw2EZX27v",
    "outputId": "53626841-0c61-4498-94dd-f12f00b26eaf"
   },
   "execution_count": null,
   "outputs": [
    {
     "output_type": "execute_result",
     "data": {
      "text/plain": [
       "27"
      ]
     },
     "metadata": {},
     "execution_count": 30
    }
   ]
  },
  {
   "cell_type": "code",
   "metadata": {
    "id": "xoDriNPrZwdp",
    "outputId": "cd023071-64f9-4780-88bf-ccbd20878c94",
    "colab": {
     "base_uri": "https://localhost:8080/",
     "height": 34
    }
   },
   "source": [
    "print(promenna_list[0])"
   ],
   "execution_count": null,
   "outputs": [
    {
     "output_type": "stream",
     "text": [
      "Já jsem první prvek listu. Další prvek přijde až po ukončení uvozovek a čárce.\n"
     ],
     "name": "stdout"
    }
   ]
  },
  {
   "cell_type": "markdown",
   "metadata": {
    "id": "k8n12hqLZwdt"
   },
   "source": [
    "Ke druhému až poslednímu listu se naopak dostaneme takto:"
   ]
  },
  {
   "cell_type": "code",
   "metadata": {
    "id": "CmyhkDE6Zwdu",
    "outputId": "3f47c03f-3516-4b68-aa18-9b873c23356b",
    "colab": {
     "base_uri": "https://localhost:8080/",
     "height": 74
    }
   },
   "source": [
    "print(promenna_list[1:])"
   ],
   "execution_count": null,
   "outputs": [
    {
     "output_type": "stream",
     "text": [
      "['Já jsem druhý prvek listu.', 'Já jsem poslední prvek listu. My všichni dohromady jsme ohraničeni hranatými závorkami. Ty naznačují, že jsme list.']\n"
     ],
     "name": "stdout"
    }
   ]
  },
  {
   "cell_type": "markdown",
   "metadata": {
    "id": "0WzTxH_MZwdy"
   },
   "source": [
    "## len()\n",
    "\n",
    "Často nás zajímá, kolik má string znaků. K tomu slouží funkce \"len()\""
   ]
  },
  {
   "cell_type": "code",
   "metadata": {
    "id": "K6Qr5gbxZwdz",
    "outputId": "8785a9cd-f5c2-4525-ff2c-cfcf23112f9f",
    "colab": {
     "base_uri": "https://localhost:8080/",
     "height": 34
    }
   },
   "source": [
    "len(promenna_text)"
   ],
   "execution_count": null,
   "outputs": [
    {
     "output_type": "execute_result",
     "data": {
      "text/plain": [
       "244"
      ]
     },
     "metadata": {
      "tags": []
     },
     "execution_count": 11
    }
   ]
  },
  {
   "cell_type": "markdown",
   "metadata": {
    "id": "uPHr7c5SZwd3"
   },
   "source": [
    "## Cyklus FOR\n",
    "\n",
    "Pomocí cyklu FOR se můžeme např. dotázat, kolik znaků mají jednotlivé prvky našeho listu, a nechat si tyto hodnoty jednu po druhé nechat vytisknout."
   ]
  },
  {
   "cell_type": "code",
   "metadata": {
    "id": "Xe7p6z_cZwd4",
    "outputId": "e26ecdb4-d477-43b2-ddbb-2fee49172b6c",
    "colab": {
     "base_uri": "https://localhost:8080/",
     "height": 68
    }
   },
   "source": [
    "for element in promenna_list:\n",
    "    print(len(element))"
   ],
   "execution_count": null,
   "outputs": [
    {
     "output_type": "stream",
     "text": [
      "78\n",
      "26\n",
      "115\n"
     ],
     "name": "stdout"
    }
   ]
  },
  {
   "cell_type": "markdown",
   "metadata": {
    "id": "ziyQZ8fdZwd8"
   },
   "source": [
    "## Normalizace řetězce\n",
    "\n",
    "Nyní na naší proměnné provedeme sérii úprav.\n",
    "Za lomítkem vpravo na naši původní proměnnou aplikujeme určitou funkci.\n",
    "Před lomítkem výsledek aplikace této funkce ořiřazujeme proměnné, pro kterou v tomto případě používáme stejné jméno.\n",
    "\n",
    "### lower()\n",
    "\n",
    "Funkcí \"lower()\" nejpreve převedeme všechna slova na malá písmena"
   ]
  },
  {
   "cell_type": "code",
   "metadata": {
    "id": "Nbr6LZagZwd8",
    "outputId": "f78e5505-34f6-4486-cbbd-b38fe19ca8ec",
    "colab": {
     "base_uri": "https://localhost:8080/",
     "height": 74
    }
   },
   "source": [
    "promenna_text_mala = promenna_text.lower()\n",
    "print(promenna_text_mala)"
   ],
   "execution_count": null,
   "outputs": [
    {
     "output_type": "stream",
     "text": [
      "tento text je nyní obsahem proměnné. mohu libovolně přidávat slova. může být libovolně dlouhý, obsahovat mnoho vět, slovo za slovem, dokud jej neukončí uvozovky. v naší ukázce, budeme počítat termín slovo. kolikrát se zde termín slovo objevuje?\n"
     ],
     "name": "stdout"
    }
   ]
  },
  {
   "cell_type": "markdown",
   "metadata": {
    "id": "qE_lXEzDZweA"
   },
   "source": [
    "### Zbavení se interpunkce\n",
    "Existuje mnoho způsobů. My zvolíme funcki vestavenou v modulu \"string\", který si musíme nejprve importovat"
   ]
  },
  {
   "cell_type": "code",
   "metadata": {
    "id": "tOWQfBU_ZweB",
    "outputId": "4edc5f58-64d3-41b0-f998-57524dd7870f",
    "colab": {
     "base_uri": "https://localhost:8080/",
     "height": 74
    }
   },
   "source": [
    "import string\n",
    "\n",
    "for c in string.punctuation:\n",
    "    promenna_text_mala = promenna_text_mala.replace(c,\"\")\n",
    "\n",
    "print(promenna_text_mala)"
   ],
   "execution_count": null,
   "outputs": [
    {
     "output_type": "stream",
     "text": [
      "tento text je nyní obsahem proměnné mohu libovolně přidávat slova může být libovolně dlouhý obsahovat mnoho vět slovo za slovem dokud jej neukončí uvozovky v naší ukázce budeme počítat termín slovo kolikrát se zde termín slovo objevuje\n"
     ],
     "name": "stdout"
    }
   ]
  },
  {
   "cell_type": "markdown",
   "metadata": {
    "id": "s_YknxofZweE"
   },
   "source": [
    "### Tokenizace\n",
    "\n",
    "Pro práci s textem se často hodí rozdělit řetězec slov na jednotlivá slova. Této operaci se říká \"tokenizace\".\n",
    "Zde tak učiníme prostřednictvím jednoduché funkce \"split()\""
   ]
  },
  {
   "cell_type": "code",
   "metadata": {
    "id": "RwVdRawpZweF",
    "outputId": "e0c0ece3-f658-4d76-b92d-656d490bd216",
    "colab": {
     "base_uri": "https://localhost:8080/",
     "height": 646
    }
   },
   "source": [
    "promenna_text_mala = promenna_text_mala.split()\n",
    "promenna_text_mala\n"
   ],
   "execution_count": null,
   "outputs": [
    {
     "output_type": "execute_result",
     "data": {
      "text/plain": [
       "['tento',\n",
       " 'text',\n",
       " 'je',\n",
       " 'nyní',\n",
       " 'obsahem',\n",
       " 'proměnné',\n",
       " 'mohu',\n",
       " 'libovolně',\n",
       " 'přidávat',\n",
       " 'slova',\n",
       " 'může',\n",
       " 'být',\n",
       " 'libovolně',\n",
       " 'dlouhý',\n",
       " 'obsahovat',\n",
       " 'mnoho',\n",
       " 'vět',\n",
       " 'slovo',\n",
       " 'za',\n",
       " 'slovem',\n",
       " 'dokud',\n",
       " 'jej',\n",
       " 'neukončí',\n",
       " 'uvozovky',\n",
       " 'v',\n",
       " 'naší',\n",
       " 'ukázce',\n",
       " 'budeme',\n",
       " 'počítat',\n",
       " 'termín',\n",
       " 'slovo',\n",
       " 'kolikrát',\n",
       " 'se',\n",
       " 'zde',\n",
       " 'termín',\n",
       " 'slovo',\n",
       " 'objevuje']"
      ]
     },
     "metadata": {
      "tags": []
     },
     "execution_count": 19
    }
   ]
  },
  {
   "cell_type": "code",
   "metadata": {
    "id": "bAIYnMAPZweJ",
    "outputId": "1a1ec532-b5a7-4a3e-b65f-92cefd750a86",
    "colab": {
     "base_uri": "https://localhost:8080/",
     "height": 34
    }
   },
   "source": [
    "### v textu rozděleném na jednotlivá slova už funkce \"len()\" nepočítá znaky ale slova\n",
    "\n",
    "len(promenna_text_mala)"
   ],
   "execution_count": null,
   "outputs": [
    {
     "output_type": "execute_result",
     "data": {
      "text/plain": [
       "37"
      ]
     },
     "metadata": {
      "tags": []
     },
     "execution_count": 20
    }
   ]
  },
  {
   "cell_type": "code",
   "metadata": {
    "id": "Y06R7mcTZweN",
    "outputId": "46a492a9-a459-4428-95de-3915a9af6f48",
    "colab": {
     "base_uri": "https://localhost:8080/",
     "height": 34
    }
   },
   "source": [
    "### když máme řetězec tokenizovaný, můžeme se např. podívat, jak často se v něm vyskytuje určité slovo\n",
    "### v základní výbavě pythonu můžeme použít funkci \"count()\"\n",
    "\n",
    "promenna_text_mala.count(\"slovo\")"
   ],
   "execution_count": null,
   "outputs": [
    {
     "output_type": "execute_result",
     "data": {
      "text/plain": [
       "3"
      ]
     },
     "metadata": {
      "tags": []
     },
     "execution_count": 21
    }
   ]
  },
  {
   "cell_type": "code",
   "metadata": {
    "id": "_8UoX6NuZweQ",
    "outputId": "82ad5120-1763-46fa-e142-3d98bd75151f",
    "colab": {
     "base_uri": "https://localhost:8080/",
     "height": 34
    }
   },
   "source": [
    "### zajímavé může být se podívat, tuto frekvenci tzv. \"normalizovat\", tj. vydělit frekvenci počtem všech slov v řetězci\n",
    "\n",
    "promenna_text_mala.count(\"slovo\") / len(promenna_text_mala)\n"
   ],
   "execution_count": null,
   "outputs": [
    {
     "output_type": "execute_result",
     "data": {
      "text/plain": [
       "0.08108108108108109"
      ]
     },
     "metadata": {
      "tags": []
     },
     "execution_count": 22
    }
   ]
  },
  {
   "cell_type": "code",
   "metadata": {
    "id": "Lb_EGJ2hZweU",
    "outputId": "eb539bdd-3afd-4250-8d74-192fc63d4ce7",
    "colab": {
     "base_uri": "https://localhost:8080/",
     "height": 74
    }
   },
   "source": [
    "### toto může být zvláště zajímavé, uplatníme-li to na vícerodokumentů v našem listě\n",
    "### list však opět musíme trochu zpracovat\n",
    "\n",
    "promenna_list_novy = [] ## vytvoříme si nový prázdný list\n",
    "\n",
    "### projdeme se jeden po druhém všechny elementy našeho původního listu a provedeme na nich stejné operace, jaké jsme učinili výše\n",
    "for element in promenna_list: ### zavedeme si pracovní proměnnou \"element\", která bude v každém kolečku naplněna jedním prvkem z našeho původního listu\n",
    "    element = element.lower()\n",
    "    for c in string.punctuation:\n",
    "        element = element.replace(c,\"\")\n",
    "    element = element.split()\n",
    "    promenna_list_novy.append(element) ### transformovaný prvek vložíme do našeho nového listu\n",
    "\n",
    "### na náš nový list se podíváme\n",
    "print(promenna_list_novy)\n",
    "\n"
   ],
   "execution_count": null,
   "outputs": [
    {
     "output_type": "stream",
     "text": [
      "[['já', 'jsem', 'první', 'prvek', 'listu', 'další', 'prvek', 'přijde', 'až', 'po', 'ukončení', 'uvozovek', 'a', 'čárce'], ['já', 'jsem', 'druhý', 'prvek', 'listu'], ['já', 'jsem', 'poslední', 'prvek', 'listu', 'my', 'všichni', 'dohromady', 'jsme', 'ohraničeni', 'hranatými', 'závorkami', 'ty', 'naznačují', 'že', 'jsme', 'list']]\n"
     ],
     "name": "stdout"
    }
   ]
  },
  {
   "cell_type": "markdown",
   "metadata": {
    "id": "VMG1u8c4ZweY"
   },
   "source": [
    "zde se můžeme podívat na normalizovanou frekvenční distribuci např. slova prvek ve všech třech prvcích listu"
   ]
  },
  {
   "cell_type": "code",
   "metadata": {
    "id": "bELXjCvwZweY",
    "outputId": "c07d3672-c889-4df1-c22c-ac36d442343f",
    "colab": {
     "base_uri": "https://localhost:8080/",
     "height": 68
    }
   },
   "source": [
    "for element in list_of_strings_new:\n",
    "    print(element.count(\"prvek\") / len(element))"
   ],
   "execution_count": null,
   "outputs": [
    {
     "output_type": "stream",
     "text": [
      "0.14285714285714285\n",
      "0.2\n",
      "0.058823529411764705\n"
     ],
     "name": "stdout"
    }
   ]
  },
  {
   "cell_type": "code",
   "metadata": {
    "id": "fVl6x-GcZwec"
   },
   "source": [],
   "execution_count": null,
   "outputs": []
  }
 ]
}
