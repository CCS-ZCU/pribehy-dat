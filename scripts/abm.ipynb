{
 "cells": [
  {
   "cell_type": "markdown",
   "metadata": {
    "colab_type": "text",
    "id": "view-in-github"
   },
   "source": [
    "[![Open In Colab](https://colab.research.google.com/assets/colab-badge.svg)](https://colab.research.google.com/github/CCS-ZCU/pribehy-dat/blob/master/scripts/abm.ipynb)\n",
    "\n",
    "# ABM: Modelování založené na agentech\n",
    "\n",
    "**autor**: *Vojtěch Kaše* (kase@ff.zcu.cz)\n",
    "\n",
    "[![](https://ccs.zcu.cz/wp-content/uploads/2021/10/cropped-ccs-logo_black_space_240x240.png)](https://ccs.zcu.cz)\n",
    "\n",
    "## Úvod a cíle kapitoly<a href=\"https://colab.research.google.com/github/CCS-ZCU/pribehy-dat/blob/master/scripts/11_agentove-simulace.ipynb\" target=\"_parent\"><img src=\"https://colab.research.google.com/assets/colab-badge.svg\" alt=\"Open In Colab\"/></a>"
   ]
  },
  {
   "cell_type": "markdown",
   "metadata": {
    "id": "fiMhyUQnZkgV"
   },
   "source": [
    "V tomto cvičení \n",
    "This notebook presents an agent-based model of segregation dynamics.\n",
    "It demonstrates how to use the [agentpy](https://agentpy.readthedocs.io) package to work with a spatial grid and create animations. Based on [this](https://agentpy.readthedocs.io/en/latest/agentpy_segregation.html)."
   ]
  },
  {
   "cell_type": "code",
   "execution_count": null,
   "metadata": {
    "ExecuteTime": {
     "end_time": "2024-04-14T08:08:23.082462Z",
     "start_time": "2024-04-14T08:08:21.275049Z"
    },
    "execution_time": 1,
    "id": "FRQ7eAr3Zmjq"
   },
   "outputs": [],
   "source": [
    "%%capture\n",
    "!pip install agentpy\n",
    "import os\n",
    "#os._exit(00)"
   ]
  },
  {
   "cell_type": "code",
   "execution_count": null,
   "metadata": {
    "ExecuteTime": {
     "end_time": "2024-04-14T08:10:00.355174Z",
     "start_time": "2024-04-14T08:10:00.352192Z"
    },
    "execution_time": 2,
    "id": "M00VgbdcZkgX"
   },
   "outputs": [],
   "source": [
    "# Model design\n",
    "import agentpy as ap\n",
    "import random\n",
    "\n",
    "# Visualization\n",
    "import matplotlib.pyplot as plt\n",
    "import seaborn as sns\n",
    "import IPython\n",
    "from IPython.display import display"
   ]
  },
  {
   "cell_type": "markdown",
   "metadata": {
    "id": "wUdcP68qZkgY"
   },
   "source": [
    "## About the model\n",
    "\n",
    "The model is based on the [NetLogo Segregation model](http://ccl.northwestern.edu/netlogo/models/Segregation) from Uri Wilensky, who describes it as follows:\n",
    "\n",
    ">This project models the behavior of two types of agents in a neighborhood. The orange agents and blue agents get along with one another. But each agent wants to make sure that it lives near some of \"its own.\" That is, each orange agent wants to live near at least some orange agents, and each blue agent wants to live near at least some blue agents. The simulation shows how these individual preferences ripple through the neighborhood, leading to large-scale patterns."
   ]
  },
  {
   "cell_type": "markdown",
   "metadata": {
    "id": "gfFLK58DZkgY"
   },
   "source": [
    "## Model definition"
   ]
  },
  {
   "cell_type": "markdown",
   "metadata": {
    "id": "YSJb7cJTZkgZ"
   },
   "source": [
    "To start, we define our agents, who initiate with a random group\n",
    "and have two methods to check whether they are happy and to\n",
    "move to a new location if they are not."
   ]
  },
  {
   "cell_type": "code",
   "execution_count": null,
   "metadata": {
    "ExecuteTime": {
     "end_time": "2024-04-14T08:08:26.687300Z",
     "start_time": "2024-04-14T08:08:26.682975Z"
    },
    "execution_time": 3,
    "id": "7p5LjNfoZkgZ"
   },
   "outputs": [],
   "source": [
    "class Person(ap.Agent):\n",
    "\n",
    "    def setup(self):\n",
    "        \"\"\" Initiate agent attributes. \"\"\"\n",
    "        self.grid = self.model.grid\n",
    "        self.random = self.model.random\n",
    "        self.group = self.random.choice(range(self.p.n_groups))\n",
    "        self.share_similar = 0\n",
    "        self.happy = False\n",
    "\n",
    "    def update_happiness(self):\n",
    "        \"\"\" Be happy if rate of similar neighbors is high enough. \"\"\"\n",
    "        neighbors = self.grid.neighbors(self)\n",
    "        similar = len([n for n in neighbors if n.group == self.group])\n",
    "        ln = len(neighbors)\n",
    "        self.share_similar = similar / ln if ln > 0 else 0\n",
    "        self.happy = self.share_similar >= self.p.want_similar\n",
    "\n",
    "    def find_new_home(self):\n",
    "        \"\"\" Move to random free spot and update free spots. \"\"\"\n",
    "        new_spot = self.random.choice(self.model.grid.empty)\n",
    "        self.grid.move_to(self, new_spot)"
   ]
  },
  {
   "cell_type": "markdown",
   "metadata": {
    "id": "I32eAqy-Zkga"
   },
   "source": [
    "Next, we define our model, which consists of our agens and a spatial grid environment.\n",
    "At every step, unhappy people move to a new location.\n",
    "After every step (update), agents update their happiness.\n",
    "If all agents are happy, the simulation is stopped."
   ]
  },
  {
   "cell_type": "code",
   "execution_count": null,
   "metadata": {
    "ExecuteTime": {
     "end_time": "2024-04-14T08:08:27.715531Z",
     "start_time": "2024-04-14T08:08:27.709073Z"
    },
    "execution_time": 4,
    "id": "3CfOo2KEZkgb"
   },
   "outputs": [],
   "source": [
    "class SegregationModel(ap.Model):\n",
    "\n",
    "    def setup(self):\n",
    "\n",
    "        # Parameters\n",
    "        s = self.p.size\n",
    "        n = self.n = int(self.p.density * (s ** 2))\n",
    "\n",
    "        # Create grid and agents\n",
    "        self.grid = ap.Grid(self, (s, s), track_empty=True)\n",
    "        self.agents = ap.AgentList(self, n, Person)\n",
    "        self.grid.add_agents(self.agents, random=True, empty=True)\n",
    "\n",
    "    def update(self):\n",
    "        # Update list of unhappy people\n",
    "        self.agents.update_happiness()\n",
    "        self.unhappy = self.agents.select(self.agents.happy == False)\n",
    "\n",
    "        # Stop simulation if all are happy\n",
    "        if len(self.unhappy) == 0:\n",
    "            self.stop()\n",
    "\n",
    "    def step(self):\n",
    "        # Move unhappy people to new location\n",
    "        self.unhappy.find_new_home()\n",
    "\n",
    "    def get_segregation(self):\n",
    "        # Calculate average percentage of similar neighbors\n",
    "        return round(sum(self.agents.share_similar) / self.n, 2)\n",
    "\n",
    "    def end(self):\n",
    "        # Measure segregation at the end of the simulation\n",
    "        self.report('segregation', self.get_segregation())"
   ]
  },
  {
   "cell_type": "markdown",
   "metadata": {
    "id": "En9mjF9xZkgb"
   },
   "source": [
    "## Single-run animation"
   ]
  },
  {
   "cell_type": "markdown",
   "metadata": {
    "id": "ZSQSrw_sZkgc"
   },
   "source": [
    "Uri Wilensky explains the dynamic of the segregation model as follows:\n",
    "\n",
    ">Agents are randomly distributed throughout the neighborhood. But many agents are \"unhappy\" since they don't have enough same-color neighbors. The unhappy agents move to new locations in the vicinity. But in the new locations, they might tip the balance of the local population, prompting other agents to leave. If a few agents move into an area, the local blue agents might leave. But when the blue agents move to a new area, they might prompt orange agents to leave that area.\n",
    ">\n",
    ">Over time, the number of unhappy agents decreases. But the neighborhood becomes more segregated, with clusters of orange agents and clusters of blue agents.\n",
    ">\n",
    ">In the case where each agent wants at least 30% same-color neighbors, the agents end up with (on average) 70% same-color neighbors. So relatively small individual preferences can lead to significant overall segregation.\n",
    "\n",
    "To observe this effect in our model, we can create an animation of a single run.  \n",
    "To do so, we first set up an instance of our model with a chosen set of parameters."
   ]
  },
  {
   "cell_type": "code",
   "execution_count": null,
   "metadata": {
    "ExecuteTime": {
     "end_time": "2024-04-14T08:08:29.140175Z",
     "start_time": "2024-04-14T08:08:29.138129Z"
    },
    "execution_time": 5,
    "id": "0HFsuRfXZkgc"
   },
   "outputs": [],
   "source": [
    "parameters = {\n",
    "    'want_similar': 0.3, # For agents to be happy\n",
    "    'n_groups': 2, # Number of groups\n",
    "    'density': 0.95, # Density of population\n",
    "    'size': 100, # Height and length of the grid\n",
    "    'steps': 100  # Maximum number of steps\n",
    "    }"
   ]
  },
  {
   "cell_type": "markdown",
   "metadata": {
    "id": "hz7R9FG2Zkgd"
   },
   "source": [
    "We can now create an animation plot and display it directly in Jupyter as follows."
   ]
  },
  {
   "cell_type": "code",
   "execution_count": null,
   "metadata": {
    "ExecuteTime": {
     "end_time": "2024-04-14T08:10:07.560273Z",
     "start_time": "2024-04-14T08:10:04.898332Z"
    },
    "colab": {
     "base_uri": "https://localhost:8080/",
     "height": 406
    },
    "execution_time": 6,
    "id": "GuSQtQIO82kO",
    "outputId": "54e3a312-f5e1-4897-be52-82701ff6b925"
   },
   "outputs": [],
   "source": [
    "def animation_plot(model, ax):\n",
    "    group_grid = model.grid.attr_grid('group')\n",
    "    ap.gridplot(group_grid, cmap='Accent', ax=ax)\n",
    "    ax.set_title(f\"Segregation model \\n Time-step: {model.t}, \"\n",
    "                 f\"Segregation: {model.get_segregation()}\")\n",
    "\n",
    "fig, ax = plt.subplots()\n",
    "model = SegregationModel(parameters)\n",
    "animation = ap.animate(model, fig, ax, animation_plot)\n",
    "display(IPython.display.HTML(animation.to_jshtml()))"
   ]
  },
  {
   "cell_type": "markdown",
   "metadata": {
    "id": "1P4ls1kxZkgf"
   },
   "source": [
    "## Multi-run experiment"
   ]
  },
  {
   "cell_type": "markdown",
   "metadata": {
    "id": "qu2ENu-ZZkgg"
   },
   "source": [
    "To explore how different individual preferences lead to different average levels of segregation, we can conduct a multi-run experiment.\n",
    "To do so, we first prepare a parameter sample that includes different values for peoples' preferences and the population density."
   ]
  },
  {
   "cell_type": "code",
   "execution_count": null,
   "metadata": {
    "execution_time": 7,
    "id": "pKQDx8OfZkgh"
   },
   "outputs": [],
   "source": [
    "parameters_multi = dict(parameters)\n",
    "parameters_multi.update({\n",
    "    'want_similar': ap.Values(0,0.125, 0.25, 0.375, 0.5, 0.625),\n",
    "    'density': ap.Values(0.5, 0.7, 0.95),\n",
    "})\n",
    "sample = ap.Sample(parameters_multi)"
   ]
  },
  {
   "cell_type": "markdown",
   "metadata": {
    "id": "wikTy-GeZkgh"
   },
   "source": [
    "We now run an experiment where we simulate each parameter combination in our sample over 5 iterations."
   ]
  },
  {
   "cell_type": "code",
   "execution_count": null,
   "metadata": {
    "ExecuteTime": {
     "end_time": "2024-04-14T08:06:58.215160Z",
     "start_time": "2024-04-14T08:05:24.433146Z"
    },
    "colab": {
     "base_uri": "https://localhost:8080/"
    },
    "execution_time": 8,
    "id": "iA2AunalZkgi",
    "outputId": "7d7bfc29-a43f-4874-acd9-dd1b23ec2f2c"
   },
   "outputs": [],
   "source": [
    "exp = ap.Experiment(SegregationModel, sample, iterations=5)\n",
    "results = exp.run()"
   ]
  },
  {
   "cell_type": "markdown",
   "metadata": {
    "id": "P2omM_cHZkgj"
   },
   "source": [
    "Finally, we can arrange the results from our experiment into a dataframe with measures and variable parameters,\n",
    "and use the seaborn library to visualize the different segregation levels over our parameter ranges."
   ]
  },
  {
   "cell_type": "code",
   "execution_count": null,
   "metadata": {
    "ExecuteTime": {
     "end_time": "2024-04-14T08:07:31.653509Z",
     "start_time": "2024-04-14T08:07:31.396255Z"
    },
    "colab": {
     "base_uri": "https://localhost:8080/",
     "height": 285
    },
    "execution_time": 9,
    "id": "HCu_zRxQZkgj",
    "outputId": "c638c19c-605e-485c-e20f-b7c40861a7a3"
   },
   "outputs": [],
   "source": [
    "sns.set_theme()\n",
    "sns.lineplot(\n",
    "    data=results.arrange_reporters(),\n",
    "    x='want_similar',\n",
    "    y='segregation',\n",
    "    hue='density'\n",
    ");"
   ]
  },
  {
   "cell_type": "code",
   "execution_count": null,
   "metadata": {
    "execution_time": 10,
    "id": "lD5DBU9xbZc3"
   },
   "outputs": [],
   "source": []
  }
 ],
 "metadata": {
  "colab": {
   "include_colab_link": true,
   "provenance": []
  },
  "kernelspec": {
   "display_name": "brewkernel",
   "language": "python",
   "name": "brewkernel"
  },
  "language_info": {
   "codemirror_mode": {
    "name": "ipython",
    "version": 3
   },
   "file_extension": ".py",
   "mimetype": "text/x-python",
   "name": "python",
   "nbconvert_exporter": "python",
   "pygments_lexer": "ipython3",
   "version": "3.8.5"
  }
 },
 "nbformat": 4,
 "nbformat_minor": 0
}
