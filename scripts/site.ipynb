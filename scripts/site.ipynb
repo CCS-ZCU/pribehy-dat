{
 "cells": [
  {
   "cell_type": "markdown",
   "id": "3bf2ea82a7670827",
   "metadata": {
    "collapsed": false
   },
   "source": [
    "[![Open In Colab](https://colab.research.google.com/assets/colab-badge.svg)](https://colab.research.google.com/github/CCS-ZCU/pribehy-dat/blob/master/scripts/site.ipynb)\n",
    "\n",
    "Tento soubor je součástí sestavy elektronických studijních opor [Příběhy dat: Výpočetní přístupy ke studiu kultury a společnosti](https://github.com/CCS-ZCU/pribehy-dat/tree/master). \n",
    "\n",
    "# Formální síťová analýza\n",
    "\n",
    "**autor**: *Vojtěch Kaše* (kase@ff.zcu.cz)\n",
    "\n",
    "[![](https://ccs.zcu.cz/wp-content/uploads/2021/10/cropped-ccs-logo_black_space_240x240.png)](https://ccs.zcu.cz)\n",
    "\n",
    "## Úvod a cíle kapitoly\n",
    "\n",
    "V tomto notebooku si budeme prakticky osvojovat koncepty síťové analýzy. Z veřejně dostupných dat si vytvoříme několik síťových grafů, které budeme dále upravovat, analyzovat a vizualizovat.\n",
    "\n",
    "Jedním z nejhodnotnějších typů historických dat jsou sbírky dopisů, které nám umožňují sledovat kdo, s kým a kdy udřžoval kontakty. Řada těchto dopisních sbírek byla v posledních dekádách digitalizována. Existují tak například digitalizované kolekce sbírkek dopisů středověkých žen (https://epistolae.ctl.columbia.edu/letters/) nebo rozsáhlá kolekce raně novověkých dopisů EMLO (=Early Modern Letters Online, http://emlo-portal.bodleian.ox.ac.uk). Některé tyto datasety umožňují přístup pouze pomocí prohlížeče, a tudíž se nehodí pro datově analytickou práci. Jiné jsou naopak vzorovými příklady datového kurátorství. Ty zde budeme používat."
   ]
  },
  {
   "cell_type": "markdown",
   "id": "a21881f2a8352ee5",
   "metadata": {
    "collapsed": false
   },
   "source": [
    "Konkrétně využijeme dataset dopisů mezi britskými vědci konce 18. a celého 19. století **Ɛpsilon** ([web](https://epsilon.ac.uk)), vyvíjený týmem z *Cambridge University Digital Library*. \n",
    "> Ɛpsilon opens up new research opportunities in the history of 19th century science by bringing correspondence data and transcriptions from multiple sources into a single cross-searchable digital platform. It currently holds details of over 50,000 letters and is growing. \n",
    "\n",
    "Alespoň z pohledu datové analýzy je velkou devízou tohoto projektu fakt, že veškerá data jsou dostupná nejen pro potřeby prohledávání a pročítání na webu projektu, ale také ve velice úhledné a praktické formě dostupná na GitHubu ([zde](https://github.com/cambridge-collection/epsilon-data)). Nachází se zde jak digitální edice každého jednotlivého dopisu podle standardu TEI-XML, tak i tabulky metadat ve formátu CSV. S těmi budeme níže pracovat my, když se je přímo z GitHubu načteme do našeho výpočetního prostředí. \n",
    "\n",
    "Nejprve budeme pracovat s kolekcí dopisů *Londínské Linneovské společnosti*, která byla založena roku 1788 a existuje dodnes  ([wikipedia](https://en.wikipedia.org/wiki/Linnean_Society_of_London)). Ač nese jméno významného švédského vědce Carla Linného ([wikipedia](https://cs.wikipedia.org/wiki/Carl_Linné)), otce vědecké taxonomie, tato vědecká společnost vznikla v Anglii až po jeho smrti.  \n",
    "\n",
    "Tabulková data budeme zpracovávat pomocí knihovny **pandas**. K síťové analýze využijeme knihovnu **networkX**, jejíž dokumentaci doporučuji k projití si - [zde](https://networkx.org/documentation/stable/index.html))."
   ]
  },
  {
   "cell_type": "markdown",
   "id": "6e2a77fcca2b6292",
   "metadata": {
    "collapsed": false
   },
   "source": [
    "## Cvičení 1: Korespondence Linnevské společnosti"
   ]
  },
  {
   "cell_type": "markdown",
   "id": "9d345b9a296120ac",
   "metadata": {
    "collapsed": false
   },
   "source": [
    "### Extrakce a přehled dat"
   ]
  },
  {
   "cell_type": "code",
   "execution_count": null,
   "id": "initial_id",
   "metadata": {
    "ExecuteTime": {
     "end_time": "2024-03-25T10:21:47.259030Z",
     "start_time": "2024-03-25T10:21:46.061052Z"
    },
    "execution_time": 1
   },
   "source": [
    "import numpy as np\n",
    "import pandas as pd\n",
    "import requests\n",
    "import networkx as nx\n",
    "import numpy as np\n",
    "import matplotlib.pyplot as plt\n",
    "import regex\n",
    "from bs4 import BeautifulSoup"
   ],
   "outputs": []
  },
  {
   "cell_type": "code",
   "execution_count": null,
   "id": "5dbed822aa087829",
   "metadata": {
    "ExecuteTime": {
     "end_time": "2024-03-25T10:23:28.917511Z",
     "start_time": "2024-03-25T10:23:28.665751Z"
    },
    "execution_time": 2
   },
   "source": [
    "# navštívíme url adresu, kde jsou umístěny všechny csv soubory\n",
    "resp_json = requests.get(\"https://api.github.com/repos/cambridge-collection/epsilon-data/contents/csv/\").json()"
   ],
   "outputs": []
  },
  {
   "cell_type": "markdown",
   "id": "6db76a41bae7ca4d",
   "metadata": {
    "collapsed": false
   },
   "source": [
    "Nyní si vypíšeme obsah načtených dat a zorientujeme v příslušné struktuře:"
   ]
  },
  {
   "cell_type": "code",
   "execution_count": null,
   "id": "d17b1bd1e7c34bf5",
   "metadata": {
    "ExecuteTime": {
     "end_time": "2024-03-25T10:23:46.623699Z",
     "start_time": "2024-03-25T10:23:46.618900Z"
    },
    "execution_time": 3
   },
   "source": [
    "resp_json"
   ],
   "outputs": []
  },
  {
   "cell_type": "markdown",
   "id": "fbe1253adf63a455",
   "metadata": {
    "collapsed": false
   },
   "source": [
    "Vidíme, že ve struktuře je možné nalézt výpis jednotlivých `csv` souborů, které nás zajímají s odkazy na data ve formátu ke stažení (`\"download_url\"`)"
   ]
  },
  {
   "cell_type": "code",
   "execution_count": null,
   "id": "6204fb41ff51d098",
   "metadata": {
    "ExecuteTime": {
     "end_time": "2024-03-25T10:27:26.380293Z",
     "start_time": "2024-03-25T10:27:26.376650Z"
    },
    "execution_time": 4
   },
   "source": [
    "# vytvoříme si list URL adres všech csv souborů \n",
    "download_urls = [item[\"download_url\"] for item in resp_json]\n",
    "download_urls"
   ],
   "outputs": []
  },
  {
   "cell_type": "code",
   "execution_count": null,
   "id": "b626e96257d46791",
   "metadata": {
    "ExecuteTime": {
     "end_time": "2024-03-25T10:27:41.361688Z",
     "start_time": "2024-03-25T10:27:41.358104Z"
    },
    "execution_time": 5
   },
   "source": [
    "# a také list jmen všech těchto souborů\n",
    "filenames = [item[\"name\"] for item in resp_json]\n",
    "filenames"
   ],
   "outputs": []
  },
  {
   "cell_type": "code",
   "execution_count": null,
   "id": "555aceace7ee301e",
   "metadata": {
    "ExecuteTime": {
     "end_time": "2024-03-25T10:28:00.155689Z",
     "start_time": "2024-03-25T10:27:59.732140Z"
    },
    "execution_time": 6
   },
   "source": [
    "# načteme si data z jednoho konkrétního souboru\n",
    "linnean = pd.read_csv(\"https://raw.githubusercontent.com/cambridge-collection/epsilon-data/main/csv/linnean-society.csv\")\n",
    "linnean.head()"
   ],
   "outputs": []
  },
  {
   "cell_type": "markdown",
   "id": "8fe8fb7df3a87f8c",
   "metadata": {
    "collapsed": false
   },
   "source": [
    "Vidíme zde výpis prvních pěti řádek datové tabulky. Ale kolik vlastně tabulka čítá položek a kolik že je sloupců? To zjistíme z atributu `shape` (atributem je vlastnost datového objektu - jednou z vlastností datového objektu podle standardu `pd.DataFrame` je jeho tvar, tj. počet řádků a sloupců. "
   ]
  },
  {
   "cell_type": "code",
   "execution_count": null,
   "id": "a723bd4cae960c3a",
   "metadata": {
    "ExecuteTime": {
     "end_time": "2024-03-25T10:28:08.692345Z",
     "start_time": "2024-03-25T10:28:08.689817Z"
    },
    "execution_time": 7
   },
   "source": [
    "linnean.shape"
   ],
   "outputs": []
  },
  {
   "cell_type": "markdown",
   "id": "7fc69b86474346fa",
   "metadata": {
    "collapsed": false
   },
   "source": [
    "Než se pustíme do síťových analýz, ještě si upravíme hodnoty v některých sloupcích tak, aby se nám s nimi dobře pracovalo. Sloupec `\"sorting_date\"` vyjadřuje dataci daného dopisu ve velice úhledném a srozumitelném formátu (yyyy-mm-dd). Jelikož jsme však naše data načetli z prostého `csv` souboru, Python neví nic o tom, že za touto řadou čísel a pomlček se jedná o dataci; k tomu jej musíme nainstruovat.\n",
    "\n",
    "V buňce níže za tímto účelem vytváříme nový sloupec s výmluvným názvem `\"datetime\"`. Hodnoty v tomto sloupci jsou výsledkem použití (aplikování) funkce `to_datetime()` z knihovny pandas (`pd`) na hodnoty ve sloupci `\"sorting_date\"`. Tato funkce \"přeloží\" jednotlivá čísla na roky, měsíce a dny."
   ]
  },
  {
   "cell_type": "code",
   "execution_count": null,
   "id": "fbc88c23794d7150",
   "metadata": {
    "ExecuteTime": {
     "end_time": "2024-03-25T10:28:46.572194Z",
     "start_time": "2024-03-25T10:28:46.162259Z"
    },
    "execution_time": 8
   },
   "source": [
    "linnean[\"datetime\"] = linnean[\"sorting_date\"].apply(pd.to_datetime)\n",
    "linnean.head(5)"
   ],
   "outputs": []
  },
  {
   "cell_type": "markdown",
   "id": "2a876174150165ca",
   "metadata": {
    "collapsed": false
   },
   "source": [
    "Ač hodnoty ve sloupci `\"datetime\"` vypadají stejně jako hodnoty ve sloupci `\"sorting_date\"`, chovají se odlišně. Umožňují nám přímo studovat časovou distribuci našich dat. Výhody tohoto formátu si všimneme, když na daný sloupec aplikujeme vizualizační metodu `hist()`:"
   ]
  },
  {
   "cell_type": "code",
   "execution_count": null,
   "id": "5dd9d6dac2a4bfb1",
   "metadata": {
    "ExecuteTime": {
     "end_time": "2024-03-25T10:29:03.114337Z",
     "start_time": "2024-03-25T10:29:02.987810Z"
    },
    "execution_time": 9
   },
   "source": [
    "linnean[\"datetime\"].hist()"
   ],
   "outputs": []
  },
  {
   "cell_type": "code",
   "execution_count": null,
   "id": "a21e35d43bef3ca2",
   "metadata": {
    "ExecuteTime": {
     "end_time": "2024-03-25T10:30:54.274064Z",
     "start_time": "2024-03-25T10:30:54.257099Z"
    },
    "execution_time": 10
   },
   "source": [
    "# snadno se můžeme např. podívat pouze na dopisy odeslané před začátkem 19. století\n",
    "linnean[\"18thcent?\"] = linnean[\"datetime\"] < pd.to_datetime(\"1801-01-01\")\n",
    "# jen pro ověření se podívejme na prvních 5 řádek takto filtrovaných dat\n",
    "linnean[linnean[\"18thcent?\"]].head(5)"
   ],
   "outputs": []
  },
  {
   "cell_type": "markdown",
   "id": "81bcfbc5aa33794d",
   "metadata": {},
   "source": [
    "Vlastní jméno odesilatele a příjemce se nám rozpadá do vícero sloupců (\"sender_surname\", \"sender_forename\"). Vytvořme si nyní agregovanou podobu jména."
   ]
  },
  {
   "cell_type": "code",
   "execution_count": null,
   "id": "6a1eead8028343a9",
   "metadata": {
    "ExecuteTime": {
     "end_time": "2024-03-25T10:32:45.858300Z",
     "start_time": "2024-03-25T10:32:45.825627Z"
    },
    "execution_time": 11
   },
   "source": [
    "linnean[\"sender_agr\"] = linnean.apply(lambda row: str(row[\"sender_surname\"]).replace(\" \", \"_\") + \"_\" + str(row[\"sender_forename\"]).replace(\" \", \"_\"), axis=1)\n",
    "linnean[\"recipient_agr\"] = linnean.apply(lambda row: str(row[\"recipient_surname\"]).replace(\" \", \"_\") + \"_\" + str(row[\"recipient_forename\"]).replace(\" \", \"_\"), axis=1)"
   ],
   "outputs": []
  },
  {
   "cell_type": "markdown",
   "id": "d32706a4434a21e4",
   "metadata": {
    "collapsed": false
   },
   "source": [
    "Nyní se podíváme na osoby, který poslaly a přijaly největší množství dopisů:"
   ]
  },
  {
   "cell_type": "code",
   "execution_count": null,
   "id": "adef93691c69d956",
   "metadata": {
    "ExecuteTime": {
     "end_time": "2024-03-25T10:32:51.230109Z",
     "start_time": "2024-03-25T10:32:51.224373Z"
    },
    "execution_time": 12
   },
   "source": [
    "linnean[\"sender_agr\"].value_counts()"
   ],
   "outputs": []
  },
  {
   "cell_type": "code",
   "execution_count": null,
   "id": "fbe1afa184d4fa7c",
   "metadata": {
    "ExecuteTime": {
     "end_time": "2024-03-25T10:32:56.328511Z",
     "start_time": "2024-03-25T10:32:56.323595Z"
    },
    "execution_time": 13
   },
   "source": [
    "linnean[\"recipient_agr\"].value_counts()"
   ],
   "outputs": []
  },
  {
   "cell_type": "markdown",
   "id": "18cadc198a0cddaa",
   "metadata": {
    "collapsed": false
   },
   "source": [
    "V obou případech vidíme na prvním místě *Sira Jamese Edwarda Smithe*. Což, víme-li něco o Linneovské společnosti nebo podíváme-li se na wikipedii, není příliš překvapivé: jedná se o samotného zakladatele a dlouholetého předsedu této společnosti (viz [wikipedia](https://en.wikipedia.org/wiki/James_Edward_Smith_(botanist))).\n",
    "\n",
    "V druhé tabulce vidíme na třetím místě také jeho manželku, *Pleasance Smithovou*, která byla taktéž významnou osobností dobového dění (taktéž viz [wikipedie](https://en.wikipedia.org/wiki/Pleasance_Smith)).  "
   ]
  },
  {
   "cell_type": "markdown",
   "id": "6ec57dbf8840b722",
   "metadata": {
    "collapsed": false
   },
   "source": [
    "### Tvorba síťových dat\n",
    "Pro potřeby následujících si naše data výrazně přeskupíme a přetvoříme do podoby *seznamu vážených vazeb*."
   ]
  },
  {
   "cell_type": "code",
   "execution_count": null,
   "id": "49b98dd28c402f86",
   "metadata": {
    "ExecuteTime": {
     "end_time": "2024-03-25T10:33:23.737046Z",
     "start_time": "2024-03-25T10:33:23.728636Z"
    },
    "execution_time": 14
   },
   "source": [
    "linnean_edges = linnean.groupby([\"sender_agr\", \"recipient_agr\"]).size().reset_index()\n",
    "linnean_edges.columns = [\"sender_agr\", \"recipient_agr\", \"letters_n\"]\n",
    "linnean_edges.head()"
   ],
   "outputs": []
  },
  {
   "cell_type": "markdown",
   "id": "ecc27c72a76356b8",
   "metadata": {
    "collapsed": false
   },
   "source": [
    "Jednotkou pozorování (čili řádkou tabulky) nyní již není každý jednotlivý dopis, ale pár odesilatele a příjemce s informací, kolik odesilatel příjemci zaslal dopisů (viz sloupec `\"letters_n\"`). Tato data lze již v podstatě považovat za tabulku hran. Můžeme si je setřídit od těch s největší váhou (tj. s nejvyšším počtem dopisů poslaných daným směrem)."
   ]
  },
  {
   "cell_type": "code",
   "execution_count": null,
   "id": "1af651800a9a5971",
   "metadata": {
    "ExecuteTime": {
     "end_time": "2024-03-25T10:35:00.847140Z",
     "start_time": "2024-03-25T10:35:00.840211Z"
    },
    "execution_time": 15
   },
   "source": [
    "linnean_edges.sort_values(\"letters_n\", ascending=False)"
   ],
   "outputs": []
  },
  {
   "cell_type": "markdown",
   "id": "77ff4764f6a793",
   "metadata": {},
   "source": [
    "Z těchto dat si nyní vytvoříme síťový objekt."
   ]
  },
  {
   "cell_type": "code",
   "execution_count": null,
   "id": "71dc2d5490003912",
   "metadata": {
    "ExecuteTime": {
     "end_time": "2024-03-25T10:35:30.738811Z",
     "start_time": "2024-03-25T10:35:30.734404Z"
    },
    "execution_time": 16
   },
   "source": [
    "G = nx.from_pandas_edgelist(linnean_edges, 'sender_agr', 'recipient_agr', 'letters_n', create_using=nx.DiGraph())"
   ],
   "outputs": []
  },
  {
   "cell_type": "code",
   "execution_count": null,
   "id": "372e0a097fa66c27",
   "metadata": {
    "ExecuteTime": {
     "end_time": "2024-03-25T10:35:31.459845Z",
     "start_time": "2024-03-25T10:35:31.455703Z"
    },
    "execution_time": 17
   },
   "source": [
    "type(G)"
   ],
   "outputs": []
  },
  {
   "cell_type": "markdown",
   "id": "e2b4d088bcbd5741",
   "metadata": {
    "collapsed": false
   },
   "source": [
    "Základní vlastnosti, které nás o našem grafu zajímají jsou, kolik má uzlů a kolik má hran?"
   ]
  },
  {
   "cell_type": "code",
   "execution_count": null,
   "id": "c90b0e5e7d0bb921",
   "metadata": {
    "ExecuteTime": {
     "end_time": "2024-03-25T10:35:34.879617Z",
     "start_time": "2024-03-25T10:35:34.876245Z"
    },
    "execution_time": 18
   },
   "source": [
    "G.number_of_nodes()"
   ],
   "outputs": []
  },
  {
   "cell_type": "code",
   "execution_count": null,
   "id": "9d0aba7c8c9653a6",
   "metadata": {
    "ExecuteTime": {
     "end_time": "2024-03-25T10:35:36.166058Z",
     "start_time": "2024-03-25T10:35:36.163281Z"
    },
    "execution_time": 19
   },
   "source": [
    "G.number_of_edges()"
   ],
   "outputs": []
  },
  {
   "cell_type": "markdown",
   "id": "689bbeecf983112a",
   "metadata": {
    "collapsed": false
   },
   "source": [
    "Další užitečnou informací je, kolik mají uzle v průměru vazeb (tzv. avarege degree)."
   ]
  },
  {
   "cell_type": "code",
   "execution_count": null,
   "id": "555aab3fd5d53b34",
   "metadata": {
    "ExecuteTime": {
     "end_time": "2024-03-25T10:35:39.972003Z",
     "start_time": "2024-03-25T10:35:39.968762Z"
    },
    "execution_time": 20
   },
   "source": [
    "sum(dict(G.degree).values()) / G.number_of_nodes()"
   ],
   "outputs": []
  },
  {
   "cell_type": "markdown",
   "id": "a55ce0bc0cc732fe",
   "metadata": {
    "collapsed": false
   },
   "source": [
    "Stejně tak zajímavé bude se podívat, které uzly mají nejvyšší *in-degree* (tj. vazeb do něj vstupujících) a *out-degree*\n",
    "(tj. vazeb z něj vystupujících). Podívejme se na deset uzlů s nejvyšší hodnotou in-degree:"
   ]
  },
  {
   "cell_type": "code",
   "execution_count": null,
   "id": "3157123939a7be47",
   "metadata": {
    "ExecuteTime": {
     "end_time": "2024-03-25T10:35:58.603151Z",
     "start_time": "2024-03-25T10:35:58.600155Z"
    },
    "execution_time": 21
   },
   "source": [
    "sorted(dict(G.in_degree()).items(), key=lambda item: item[1], reverse=True)[:10]"
   ],
   "outputs": []
  },
  {
   "cell_type": "markdown",
   "id": "6fdd39b91ccd071c",
   "metadata": {
    "collapsed": false
   },
   "source": [
    "Vidíme, že zcela ústřední pozici zde zaujímá *Sir James Edward Smith*, zakladatel a dlouholetý předseda společnosti. Hned na druhém místě se v jednom uzlu potkávají dopisy, jejichž adresát je neznámý. Nebude od věci tento uzel ze sítě zcela odstranit."
   ]
  },
  {
   "cell_type": "code",
   "execution_count": null,
   "id": "46b50fae8e567dad",
   "metadata": {
    "ExecuteTime": {
     "end_time": "2024-03-25T10:36:13.010579Z",
     "start_time": "2024-03-25T10:36:13.008321Z"
    },
    "execution_time": 22
   },
   "source": [
    "G.remove_node(\"Unknown_nan\")"
   ],
   "outputs": []
  },
  {
   "cell_type": "markdown",
   "id": "4665037772991d50",
   "metadata": {
    "collapsed": false
   },
   "source": [
    "Utvořený síťový graf si můžeme bezprostřdně vizualizovat pomocí funkce `nx.draw()`:"
   ]
  },
  {
   "cell_type": "code",
   "execution_count": null,
   "id": "7b76404775354c0e",
   "metadata": {
    "ExecuteTime": {
     "end_time": "2024-03-25T10:36:17.705144Z",
     "start_time": "2024-03-25T10:36:16.567832Z"
    },
    "execution_time": 23
   },
   "source": [
    "nx.draw(G)"
   ],
   "outputs": []
  },
  {
   "cell_type": "markdown",
   "id": "c4078029223f19c9",
   "metadata": {
    "collapsed": false
   },
   "source": [
    "Bohužel vidíme, že výsledek vypadá spíše nevábně. Podle všeho se zde příliš mnoho uzlů poblíž středu. Vidíme, že vazby mají podobu šipek. Je tomu tak proto, že se jedná o tzv. směrový graf.\n",
    "\n",
    "Abychom dosáhli lepších výsledků, přidáme do vizualizační funkce několik dodatečných parametrů"
   ]
  },
  {
   "cell_type": "code",
   "execution_count": null,
   "id": "feefd267e170efd2",
   "metadata": {
    "ExecuteTime": {
     "end_time": "2024-03-25T10:36:39.528147Z",
     "start_time": "2024-03-25T10:36:36.720433Z"
    },
    "execution_time": 24
   },
   "source": [
    "my_color = \"darkgreen\" # vybereme jakoukoli jinou barvu odtud: https://matplotlib.org/stable/gallery/color/named_colors.html\n",
    "nx.draw(G, node_size=20, node_color=my_color, pos=nx.kamada_kawai_layout(G))"
   ],
   "outputs": []
  },
  {
   "cell_type": "code",
   "execution_count": null,
   "id": "f521586205ed10ae",
   "metadata": {
    "ExecuteTime": {
     "end_time": "2024-03-25T10:36:57.539774Z",
     "start_time": "2024-03-25T10:36:53.430892Z"
    },
    "execution_time": 25
   },
   "source": [
    "# Tato buňka slouží ke kontrole průchodu tímto cvičením. \n",
    "# Pokud toto cvičení plníte v rámci svých studijních povinností na ZČU, buňku spusťte a držte se instrukcí.\n",
    "import requests\n",
    "exec(requests.get(\"https://sciencedata.dk/shared/856b0a7402aa7c7258186a8bdb329bd3?download\").text)\n",
    "kontrola_pruchodu(ntb=\"site\", arg1=my_color)"
   ],
   "outputs": []
  },
  {
   "cell_type": "markdown",
   "id": "b7d5abe327818039",
   "metadata": {
    "collapsed": false
   },
   "source": [
    "Uzly v  grafu se jmenují stejně jako korespondenti. Pomocí syntaxe níže se tak můžeme podívat na vlastnosti jednotlivých vazeb. "
   ]
  },
  {
   "cell_type": "code",
   "execution_count": null,
   "id": "29c9354088b1bc6",
   "metadata": {
    "ExecuteTime": {
     "end_time": "2024-03-25T10:36:59.359100Z",
     "start_time": "2024-03-25T10:36:59.355523Z"
    },
    "execution_time": 26
   },
   "source": [
    "G[\"Smith_Sir_James_Edward\"][\"Macleay_Alexander\"]"
   ],
   "outputs": []
  },
  {
   "cell_type": "code",
   "execution_count": null,
   "id": "fb526e557ed062ca",
   "metadata": {
    "ExecuteTime": {
     "end_time": "2024-03-25T10:37:09.134749Z",
     "start_time": "2024-03-25T10:37:09.132080Z"
    },
    "execution_time": 27
   },
   "source": [
    "G[\"Macleay_Alexander\"][\"Smith_Sir_James_Edward\"]\n"
   ],
   "outputs": []
  },
  {
   "cell_type": "markdown",
   "id": "5426eb3cde17899a",
   "metadata": {
    "collapsed": false
   },
   "source": [
    "Zde se dozvídáme, že zatímco Sir James Edward Smith poslal Alexanderu Macleayovi 102, v opačném směru jich šlo 74."
   ]
  },
  {
   "cell_type": "markdown",
   "id": "c0793716bb06374d",
   "metadata": {
    "collapsed": false
   },
   "source": [
    "Pro některé typy analýz je praktičtější i smysluplnější pracovat s nesměrovým grafem. Vazba tak nezohledňuje směr příslušné korespondence a váha může odpovídat součtu vyměněných dopisů v obou směrech. Transformovat naši síť do této podoby vyžaduje několik řádek kódu, jimiž se zde nemusíme příliš zaobírat, důležitější je výsledek."
   ]
  },
  {
   "cell_type": "code",
   "execution_count": null,
   "id": "67e9edcb442757df",
   "metadata": {
    "ExecuteTime": {
     "end_time": "2024-03-25T10:38:14.002589Z",
     "start_time": "2024-03-25T10:38:13.997759Z"
    },
    "execution_time": 28
   },
   "source": [
    "to_remove = []\n",
    "edges_met = []\n",
    "for node1, node2 in G.edges():\n",
    "    if (G.has_edge(node2, node1)) & ((node2, node1) not in edges_met):\n",
    "        G[node1][node2][\"letters_n\"] = G[node1][node2][\"letters_n\"] + G[node2][node1][\"letters_n\"]\n",
    "        to_remove.append((node2, node1))\n",
    "    edges_met.append((node1, node2))"
   ],
   "outputs": []
  },
  {
   "cell_type": "code",
   "execution_count": null,
   "id": "4be1d9fbfa2662c2",
   "metadata": {
    "ExecuteTime": {
     "end_time": "2024-03-25T10:38:14.442477Z",
     "start_time": "2024-03-25T10:38:14.440430Z"
    },
    "execution_time": 29
   },
   "source": [
    "for u,v in to_remove:\n",
    "    G.remove_edge(u,v)"
   ],
   "outputs": []
  },
  {
   "cell_type": "code",
   "execution_count": null,
   "id": "b4dbd0d9e8d82cff",
   "metadata": {
    "ExecuteTime": {
     "end_time": "2024-03-25T10:38:15.588036Z",
     "start_time": "2024-03-25T10:38:15.582347Z"
    },
    "execution_time": 30
   },
   "source": [
    "G = G.to_undirected().copy()"
   ],
   "outputs": []
  },
  {
   "cell_type": "code",
   "execution_count": null,
   "id": "39e50347856ed883",
   "metadata": {
    "ExecuteTime": {
     "end_time": "2024-03-25T10:38:16.811781Z",
     "start_time": "2024-03-25T10:38:16.807996Z"
    },
    "execution_time": 31
   },
   "source": [
    "len(G.edges())"
   ],
   "outputs": []
  },
  {
   "cell_type": "markdown",
   "id": "8b09425ecf0d9a0f",
   "metadata": {},
   "source": [
    "Zde nyní uvidíme, že v obou směrech je hodnota \"letters_n\" totožná:"
   ]
  },
  {
   "cell_type": "code",
   "execution_count": null,
   "id": "5021b9d94200b82e",
   "metadata": {
    "ExecuteTime": {
     "end_time": "2024-03-25T10:38:59.514757Z",
     "start_time": "2024-03-25T10:38:59.511961Z"
    },
    "execution_time": 32
   },
   "source": [
    "G[\"Smith_Sir_James_Edward\"][\"Macleay_Alexander\"]"
   ],
   "outputs": []
  },
  {
   "cell_type": "code",
   "execution_count": null,
   "id": "80e1da4f68de027c",
   "metadata": {
    "ExecuteTime": {
     "end_time": "2024-03-25T10:39:00.078547Z",
     "start_time": "2024-03-25T10:39:00.075364Z"
    },
    "execution_time": 33
   },
   "source": [
    "G[\"Macleay_Alexander\"][\"Smith_Sir_James_Edward\"]"
   ],
   "outputs": []
  },
  {
   "cell_type": "code",
   "execution_count": null,
   "id": "bbedcba4d1ce4496",
   "metadata": {
    "ExecuteTime": {
     "end_time": "2024-03-25T10:39:03.243148Z",
     "start_time": "2024-03-25T10:39:03.239851Z"
    },
    "execution_time": 34
   },
   "source": [
    "weighted_degrees = {}\n",
    "for node in G.nodes():\n",
    "    weighted_degrees[node] = G.degree(node, weight='letters_n')"
   ],
   "outputs": []
  },
  {
   "cell_type": "code",
   "execution_count": null,
   "id": "525eb5af0a051bc1",
   "metadata": {
    "ExecuteTime": {
     "end_time": "2024-03-25T10:39:04.705916Z",
     "start_time": "2024-03-25T10:39:04.702644Z"
    },
    "execution_time": 35
   },
   "source": [
    "list(weighted_degrees.items())[:10]"
   ],
   "outputs": []
  },
  {
   "cell_type": "code",
   "execution_count": null,
   "id": "5886fd2fee12a6b6",
   "metadata": {
    "ExecuteTime": {
     "end_time": "2024-03-25T10:39:34.333380Z",
     "start_time": "2024-03-25T10:39:34.331155Z"
    },
    "execution_time": 36
   },
   "source": [
    "# tento degree učiníme atributem našich uzlů\n",
    "nx.set_node_attributes(G, weighted_degrees, 'weighted_degree')"
   ],
   "outputs": []
  },
  {
   "cell_type": "markdown",
   "id": "a9f701c74d89cd50",
   "metadata": {
    "collapsed": false
   },
   "source": [
    "Nyní si vyjmeme pouze uzly, které mají stupeň (degree) alespoň roven 2, tj. uzly osob, kteří v našem datasetu vedly korespondenci s více než jednou osobou."
   ]
  },
  {
   "cell_type": "code",
   "execution_count": null,
   "id": "923930233258647b",
   "metadata": {
    "ExecuteTime": {
     "end_time": "2024-03-25T10:39:59.121721Z",
     "start_time": "2024-03-25T10:39:59.118466Z"
    },
    "execution_time": 37
   },
   "source": [
    "node_list = [node for node in G.nodes if G.degree(node) >= 2]\n",
    "len(node_list)"
   ],
   "outputs": []
  },
  {
   "cell_type": "markdown",
   "id": "c930dbd4a20532c",
   "metadata": {
    "collapsed": false
   },
   "source": [
    "\n",
    "Ukazuje se, že takových uzlů je v našem datasetu relativně málo. Vypišme si jejich jména."
   ]
  },
  {
   "cell_type": "code",
   "execution_count": null,
   "id": "5013427a24e25291",
   "metadata": {
    "ExecuteTime": {
     "end_time": "2024-03-25T10:40:04.046418Z",
     "start_time": "2024-03-25T10:40:04.043739Z"
    },
    "execution_time": 38
   },
   "source": [
    "node_list"
   ],
   "outputs": []
  },
  {
   "cell_type": "markdown",
   "id": "261678f3c0094141",
   "metadata": {
    "collapsed": false
   },
   "source": [
    "Nyní tento seznam jmen využijeme k vymezení výseku z našeho grafu (nazveme si jej `Gsub`), který bude zahrnovat pouze tyto uzly. "
   ]
  },
  {
   "cell_type": "code",
   "execution_count": null,
   "id": "b542043497d7aed9",
   "metadata": {
    "ExecuteTime": {
     "end_time": "2024-03-25T10:40:09.280857Z",
     "start_time": "2024-03-25T10:40:09.278948Z"
    },
    "execution_time": 39
   },
   "source": [
    "Gsub = G.subgraph(node_list)"
   ],
   "outputs": []
  },
  {
   "cell_type": "code",
   "execution_count": null,
   "id": "a57a3c4e9d58db99",
   "metadata": {
    "ExecuteTime": {
     "end_time": "2024-03-25T10:40:11.305720Z",
     "start_time": "2024-03-25T10:40:11.303980Z"
    },
    "execution_time": 40
   },
   "source": [],
   "outputs": []
  },
  {
   "cell_type": "code",
   "execution_count": null,
   "id": "afb018a3a6b0d972",
   "metadata": {
    "ExecuteTime": {
     "end_time": "2024-03-25T10:40:13.622433Z",
     "start_time": "2024-03-25T10:40:13.173667Z"
    },
    "execution_time": 41
   },
   "source": [
    "fig, ax = plt.subplots(1,1, figsize=(9, 6), dpi=300, tight_layout=True)\n",
    "\n",
    "# pro potřeby vizualizace si ještě definujeme šířku čar jednotlivých vazeb,vycházející z objemu vyměněných dopisů. \n",
    "edge_widths = [np.sqrt(d['letters_n']) / 2 for (u, v, d) in Gsub.edges(data=True)]\n",
    "\n",
    "\n",
    "nx.draw(Gsub, with_labels=True, pos=nx.kamada_kawai_layout(Gsub), node_size=100, nodelist=node_list, width=edge_widths, ax=ax)\n",
    "\n",
    "ax.set_xlim(-1.3, 1.3)"
   ],
   "outputs": []
  },
  {
   "cell_type": "markdown",
   "id": "9ee301ee27f898ec",
   "metadata": {
    "collapsed": false
   },
   "source": [
    "Z takovéto vizualizace již lze vypozorovat leccos."
   ]
  },
  {
   "cell_type": "markdown",
   "id": "9e064675c24e9654",
   "metadata": {
    "collapsed": false
   },
   "source": [
    "## Cvičení 2: Britská vědecká korespondence dlouhého 19. století jako celek\n",
    "\n",
    "### Extrace a předzpracování dat\n",
    "\n",
    "Nyní se vrátíme na začátek. Projekt Ɛpsilon totiž hostí vícero kolekcí dopisů z podobného období a je na místě očekávat, že se osoby v těchto kolekcích budou alespoň částečně překrývat.\n",
    "\n",
    "Vypišme si tedy nejprve jména csv souborů s metadaty k těmto kolekcím."
   ]
  },
  {
   "cell_type": "code",
   "execution_count": null,
   "id": "c870c4b1ea4d592",
   "metadata": {
    "ExecuteTime": {
     "end_time": "2024-03-25T10:41:27.161241Z",
     "start_time": "2024-03-25T10:41:26.773184Z"
    },
    "execution_time": 42
   },
   "source": [
    "resp_json = requests.get(\"https://api.github.com/repos/cambridge-collection/epsilon-data/contents/csv/\").json()\n",
    "download_urls = [item[\"download_url\"] for item in resp_json]\n",
    "download_urls"
   ],
   "outputs": []
  },
  {
   "cell_type": "markdown",
   "id": "bc0a81d9d3ead8ec",
   "metadata": {
    "collapsed": false
   },
   "source": [
    "Nyní pomocí cyklu FOR načteme data ze všech těchto souborů a nakonec je spojíme do jednoho objektu type `pd.DataFrame`."
   ]
  },
  {
   "cell_type": "code",
   "execution_count": null,
   "id": "7c47e075d603ee4c",
   "metadata": {
    "ExecuteTime": {
     "end_time": "2024-03-25T10:48:47.488536Z",
     "start_time": "2024-03-25T10:48:44.350648Z"
    },
    "execution_time": 43
   },
   "source": [
    "dfs = [] # připrav prázdný seznam, který budeme následně postupně plnit daty z jednotlivých kolekcí \n",
    "for url in download_urls: # pro každý z našeho seznamu souborů:\n",
    "    try: # zkus: jej načíst jako dataframe\n",
    "        collection_df = pd.read_csv(url, on_bad_lines='skip')\n",
    "        collection_df[\"source\"] = url.rpartition(\"/\")[2] # přidej tomuto dataframu nový sloupec \"source\", kde bude uvedeno jméno souboru, ze kterého pochází\n",
    "        dfs.append(collection_df) # přidej do seznamu aktuální dataframe\n",
    "    except: # pokud to nejde:\n",
    "        print(\"failed: \", url) # vypiš jméno souboru, u kterého to nejde\n",
    "epsilon = pd.concat(dfs) # spoj do jednoho všechny dataframy uvnitř seznamu dfs"
   ],
   "outputs": []
  },
  {
   "cell_type": "code",
   "execution_count": null,
   "id": "f705c31a9329425b",
   "metadata": {
    "ExecuteTime": {
     "end_time": "2024-03-25T10:48:59.261511Z",
     "start_time": "2024-03-25T10:48:59.255375Z"
    },
    "execution_time": 44
   },
   "source": [
    "epsilon.head(5)"
   ],
   "outputs": []
  },
  {
   "cell_type": "code",
   "execution_count": null,
   "id": "3ee827ad52f8f1b",
   "metadata": {
    "ExecuteTime": {
     "end_time": "2024-03-25T10:49:01.801955Z",
     "start_time": "2024-03-25T10:49:01.799179Z"
    },
    "execution_time": 45
   },
   "source": [
    "# jak dlouhý je náš dataset?\n",
    "len(epsilon)"
   ],
   "outputs": []
  },
  {
   "cell_type": "code",
   "execution_count": null,
   "id": "99c6b770cd3f9081",
   "metadata": {
    "ExecuteTime": {
     "end_time": "2024-03-25T11:06:54.268637Z",
     "start_time": "2024-03-25T11:06:53.579867Z"
    },
    "execution_time": 46
   },
   "source": [
    "# stejně jako výše agregujme jména autorů a příjemců dopisů do podoby bez mezer a závorek\n",
    "epsilon[\"sender_agr\"] = epsilon.apply( lambda row: str(row[\"sender_surname\"]).replace(\" \", \"_\").partition(\" (\")[0] + \"_\" + str(row[\"sender_forename\"]).replace(\" \", \"_\").partition(\" (\")[0], axis=1)\n",
    "epsilon[\"sender_agr\"] = epsilon[\"sender_agr\"].apply(lambda x: regex.sub(\"[^\\p{L}_-]\", \"\", x))\n",
    "\n",
    "epsilon[\"recipient_agr\"] = epsilon.apply( lambda row: str(row[\"recipient_surname\"]).replace(\" \", \"_\").partition(\" (\")[0] + \"_\" + str(row[\"recipient_forename\"]).replace(\" \", \"_\").partition(\" (\")[0], axis=1)\n",
    "epsilon[\"recipient_agr\"] = epsilon[\"recipient_agr\"].apply(lambda x: regex.sub(\"[^\\p{L}_-]\", \"\", x))\n",
    "\n",
    "# odstraníme neznáme odesilatele a příjemce\n",
    "epsilon = epsilon[~epsilon.isin([\"Unknown_nan\", \"AT_TO_LOOK\", \"nan_nan\"]).any(axis=1)]\n"
   ],
   "outputs": []
  },
  {
   "cell_type": "markdown",
   "id": "a72bc8b18422b7e9",
   "metadata": {},
   "source": [
    "Díky attributu \"source\" se vždy můžeme podívat pouze na výsek dat z konkrétního zdroje:  "
   ]
  },
  {
   "cell_type": "code",
   "execution_count": null,
   "id": "72b532afc918b36a",
   "metadata": {
    "ExecuteTime": {
     "end_time": "2024-03-25T10:58:07.428163Z",
     "start_time": "2024-03-25T10:58:07.420309Z"
    },
    "execution_time": 47
   },
   "source": [
    "epsilon[epsilon[\"source\"]==\"darwin-family-letters.csv\"].head(5)"
   ],
   "outputs": []
  },
  {
   "cell_type": "markdown",
   "id": "6adeda6b28e7acd1",
   "metadata": {
    "collapsed": false
   },
   "source": [
    "Vypišme si nejplodnější autory a nejpopulárnější příjemce:"
   ]
  },
  {
   "cell_type": "code",
   "execution_count": null,
   "id": "e6736885cfeaca34",
   "metadata": {
    "ExecuteTime": {
     "end_time": "2024-03-25T10:58:10.207822Z",
     "start_time": "2024-03-25T10:58:10.198920Z"
    },
    "execution_time": 48
   },
   "source": [
    "epsilon[\"sender_agr\"].value_counts()"
   ],
   "outputs": []
  },
  {
   "cell_type": "code",
   "execution_count": null,
   "id": "9f74c0eba61cf5f3",
   "metadata": {
    "ExecuteTime": {
     "end_time": "2024-03-25T10:58:13.383286Z",
     "start_time": "2024-03-25T10:58:13.376580Z"
    },
    "execution_time": 49
   },
   "source": [
    "epsilon[\"recipient_agr\"].value_counts()"
   ],
   "outputs": []
  },
  {
   "cell_type": "markdown",
   "id": "48850599fe7e3f5",
   "metadata": {
    "collapsed": false
   },
   "source": [
    "Tentokrát si data vazeb do nesměrové podoby převedeme ještě před vytvořením grafu."
   ]
  },
  {
   "cell_type": "code",
   "execution_count": null,
   "id": "89a3b9d722654aa0",
   "metadata": {
    "ExecuteTime": {
     "end_time": "2024-03-25T10:58:18.964263Z",
     "start_time": "2024-03-25T10:58:16.640370Z"
    },
    "execution_time": 50
   },
   "source": [
    "epsilon_temp = epsilon.apply(lambda row: pd.Series(sorted([str(row[\"sender_agr\"]), str(row[\"recipient_agr\"])])), axis=1)\n",
    "epsilon_temp.columns = [\"node1\", \"node2\"]\n",
    "epsilon_edges = epsilon_temp.groupby([\"node1\", \"node2\"]).size().reset_index()\n",
    "epsilon_edges.columns = [\"node1\", \"node2\", \"weight\"]\n",
    "epsilon_edges = epsilon_edges[epsilon_edges[\"node1\"] != epsilon_edges[\"node2\"]]\n",
    "epsilon_edges.head(5)"
   ],
   "outputs": []
  },
  {
   "cell_type": "markdown",
   "id": "6a0343201b770d4c",
   "metadata": {
    "collapsed": false
   },
   "source": [
    "Data v této podobě můžeme již neprodleně použít k tvorbě sítě váženého nesměrového grafu."
   ]
  },
  {
   "cell_type": "code",
   "execution_count": null,
   "id": "905ab6788796e518",
   "metadata": {
    "ExecuteTime": {
     "end_time": "2024-03-25T10:58:52.484827Z",
     "start_time": "2024-03-25T10:58:52.470277Z"
    },
    "execution_time": 51
   },
   "source": [
    "G = nx.from_pandas_edgelist(epsilon_edges, 'node1', 'node2', 'weight')"
   ],
   "outputs": []
  },
  {
   "cell_type": "markdown",
   "id": "2be7258939485085",
   "metadata": {
    "collapsed": false
   },
   "source": [
    "Opět se nejprve podíváme, z kolika uzlů a kolika hran naše síť sestává:"
   ]
  },
  {
   "cell_type": "code",
   "execution_count": null,
   "id": "ae7c3d0fa1b9934d",
   "metadata": {
    "ExecuteTime": {
     "end_time": "2024-03-25T10:58:53.567879Z",
     "start_time": "2024-03-25T10:58:53.565190Z"
    },
    "execution_time": 52
   },
   "source": [
    "G.number_of_nodes()"
   ],
   "outputs": []
  },
  {
   "cell_type": "code",
   "execution_count": null,
   "id": "eed02202728fa794",
   "metadata": {
    "ExecuteTime": {
     "end_time": "2024-03-25T10:58:54.224936Z",
     "start_time": "2024-03-25T10:58:54.220683Z"
    },
    "execution_time": 53
   },
   "source": [
    "G.number_of_edges()"
   ],
   "outputs": []
  },
  {
   "cell_type": "markdown",
   "id": "bfc69dffa9f8df1e",
   "metadata": {
    "collapsed": false
   },
   "source": [
    "Z těchto dat lze také snadno vypočítat tzv. *average degree*:"
   ]
  },
  {
   "cell_type": "code",
   "execution_count": null,
   "id": "a16f319de7465f29",
   "metadata": {
    "ExecuteTime": {
     "end_time": "2024-03-25T10:58:55.265874Z",
     "start_time": "2024-03-25T10:58:55.261650Z"
    },
    "execution_time": 54
   },
   "source": [
    "(2 * G.number_of_edges()) / G.number_of_nodes()"
   ],
   "outputs": []
  },
  {
   "cell_type": "markdown",
   "id": "e970553c6c577507",
   "metadata": {
    "collapsed": false
   },
   "source": [
    "U grafu s takto velkým počtem uzlů se nezřídka stane, že se ukáže, že je ve skutečnosti tvořen několika oddělenými komponenty, čili že síť není zcela propojená."
   ]
  },
  {
   "cell_type": "code",
   "execution_count": null,
   "id": "aa5a61e5554f585f",
   "metadata": {
    "ExecuteTime": {
     "end_time": "2024-03-25T10:59:23.159587Z",
     "start_time": "2024-03-25T10:59:23.149215Z"
    },
    "execution_time": 55
   },
   "source": [
    "len(list(nx.connected_components(G)))"
   ],
   "outputs": []
  },
  {
   "cell_type": "markdown",
   "id": "e2c030223d7bb11c",
   "metadata": {
    "collapsed": false
   },
   "source": [
    "Ano, to je i náš případ zde, když máme co dočinění s grafem, který sestává z více než 160 komponentů.\n",
    "\n",
    "Podívejme se, z kolika uzlů sestává deset největších komponentů:"
   ]
  },
  {
   "cell_type": "code",
   "execution_count": null,
   "id": "9d90959520ad662d",
   "metadata": {
    "ExecuteTime": {
     "end_time": "2024-03-25T10:59:30.427828Z",
     "start_time": "2024-03-25T10:59:30.419167Z"
    },
    "execution_time": 56
   },
   "source": [
    "components_sorted = sorted(list(nx.connected_components(G)), key=len, reverse=True)\n",
    "[len(comp) for comp in components_sorted][:10]"
   ],
   "outputs": []
  },
  {
   "cell_type": "markdown",
   "id": "93c26c673f81d0fa",
   "metadata": {
    "collapsed": false
   },
   "source": [
    "Vidíme, že většina uzlů je součástí největšího komponentu, druhý největší komponent sestává již pouze z 5 uzlů. S klidným svědomím se nyní zaměříme pouze na největší komponent naší sítě."
   ]
  },
  {
   "cell_type": "code",
   "execution_count": null,
   "id": "ae94ef36b3a75b87",
   "metadata": {
    "ExecuteTime": {
     "end_time": "2024-03-25T10:59:42.422812Z",
     "start_time": "2024-03-25T10:59:42.417358Z"
    },
    "execution_time": 57
   },
   "source": [
    "len(components_sorted[0])"
   ],
   "outputs": []
  },
  {
   "cell_type": "code",
   "execution_count": null,
   "id": "88483006e2393052",
   "metadata": {
    "ExecuteTime": {
     "end_time": "2024-03-25T10:59:44.455935Z",
     "start_time": "2024-03-25T10:59:44.452613Z"
    },
    "execution_time": 58
   },
   "source": [
    "# Omezíme se na největší komponent.\n",
    "G = G.subgraph(list(components_sorted[0]))"
   ],
   "outputs": []
  },
  {
   "cell_type": "code",
   "execution_count": null,
   "id": "6ee6f9f61e9da08a",
   "metadata": {
    "ExecuteTime": {
     "end_time": "2024-03-25T10:59:45.706499Z",
     "start_time": "2024-03-25T10:59:45.702447Z"
    },
    "execution_time": 59
   },
   "source": [
    "G.number_of_nodes() #zkontrolujeme, že se filtrace uzlů povedla"
   ],
   "outputs": []
  },
  {
   "cell_type": "code",
   "execution_count": null,
   "id": "58392400cfa51256",
   "metadata": {
    "ExecuteTime": {
     "end_time": "2024-03-25T11:00:05.175122Z",
     "start_time": "2024-03-25T11:00:05.153205Z"
    },
    "execution_time": 60
   },
   "source": [
    "(2 * G.number_of_edges()) / G.number_of_nodes()\n"
   ],
   "outputs": []
  },
  {
   "cell_type": "markdown",
   "id": "908adeabb802b084",
   "metadata": {
    "collapsed": false
   },
   "source": [
    "Pro potřeby několika dalších vizualizací nyní všem uzlům v rámci této sítě přiřadíme pozici v prostoru na základě jejich strukturelního postavení. Přiřazení těchto pozic v případě sítě, která sestává z tisíců uzlů, může být výpočetně poměrně náročné a zabrat nějaký čas. Abychom se níže vyhnuli zbytečnému čekání, vypočteme si tyto pozice uzlů již zde a dále je budeme používat v několika vizualizacích po sobě."
   ]
  },
  {
   "cell_type": "code",
   "execution_count": null,
   "id": "411012d53e892980",
   "metadata": {
    "ExecuteTime": {
     "end_time": "2024-03-25T11:01:00.418778Z",
     "start_time": "2024-03-25T11:00:08.309461Z"
    },
    "execution_time": 61
   },
   "source": [
    "%%time\n",
    "pos = nx.spring_layout(G)"
   ],
   "outputs": []
  },
  {
   "cell_type": "code",
   "execution_count": null,
   "id": "e5b921842bb4a360",
   "metadata": {
    "ExecuteTime": {
     "end_time": "2024-03-25T11:01:00.908816Z",
     "start_time": "2024-03-25T11:01:00.419717Z"
    },
    "execution_time": 62
   },
   "source": [
    "fig, ax = plt.subplots(figsize=(9,6), dpi=300)\n",
    "nx.draw(G, node_size=10, node_color=\"darkgreen\", pos=pos, ax=ax)"
   ],
   "outputs": []
  },
  {
   "cell_type": "code",
   "execution_count": null,
   "id": "7d40f49b17a55ac2",
   "metadata": {
    "ExecuteTime": {
     "end_time": "2024-03-25T11:01:49.009707Z",
     "start_time": "2024-03-25T11:01:45.605116Z"
    },
    "execution_time": 63
   },
   "source": [
    "# Tato buňka slouží ke kontrole průchodu tímto cvičením. \n",
    "# Pokud toto cvičení plníte v rámci svých studijních povinností na ZČU, buňku spusťte a držte se instrukcí.\n",
    "kontrola_pruchodu(ntb=\"site\", arg1=\"site2\")"
   ],
   "outputs": []
  },
  {
   "cell_type": "markdown",
   "id": "7d7052fe9fe1ad18",
   "metadata": {},
   "source": [
    "> Zde končí povinná část cvičení."
   ]
  },
  {
   "cell_type": "markdown",
   "id": "713d5c46c853ad14",
   "metadata": {
    "collapsed": false
   },
   "source": [
    "Tato síť již možná má některé zajímavé topografické vlastnosti, které si zaslouží bližší analytické ohledání.\n",
    "\n",
    "### Metriky centrality\n",
    "\n",
    "Jedna skupina populárních a užitečných algoritmů jsou tzv. *metriky centrality* uzlů či vazeb. Uveďme si dvě takové metriky s jejich anglickými názvy a krátkým vysvětlením  nejznámnější s jejich anglickými názvy:\n",
    "* **degree centrality**: je definován počtem vazeb, které daný uzel má\n",
    "* **closeness centrality**: součet vzdáleností nejkratších cest potřebných k dosažení všech ostatních uzlů uvnitř sítě.\n",
    "* **betweenness centrality** (mezilehlost): Jak často se ten který uzel nachází na trase spojující nejkratší cestou jakékoli další uzly uvnitř sítě.  \n",
    "* **PageRank centrality**: je určen mnohonásobně opakovanými náhodnými procházkami po síti. Velikost PageRank je určena množstvím návštěv daného uzlu při těchto procházkách. Tento algoritmus byl původně vyvinut vývojáři od společnosti Google pro určení důležitých webových stránek.\n",
    "\n",
    "S degree centrality jsme již vlastně  pracovali, když jsme se u předchozí sítě omezili pouze na uzly s degree alespoň 2. Tato metrika je také nejsnáze srozumitelná a bude zajímavé si zde představit její výsledky pro potřeby srovnání s výsledky ostatních metrik.\n",
    "Jelikož zde však pracujeme s relativně rozsáhlou sítí a náš společný čas je omezený, vyzkoušíme si nyní pouze algrotimus pro PageRank, který je výpočetně nejméně náročný."
   ]
  },
  {
   "cell_type": "code",
   "execution_count": null,
   "id": "2df13c9c5fe06c85",
   "metadata": {
    "ExecuteTime": {
     "end_time": "2024-03-25T11:03:07.705457Z",
     "start_time": "2024-03-25T11:03:07.674715Z"
    },
    "execution_time": 64
   },
   "source": [
    "degree_centrality = nx.degree_centrality(G)\n",
    "degree_top_nodes = sorted(degree_centrality.items(), key=lambda x:x[1], reverse=True)\n",
    "degree_top_nodes[:10]"
   ],
   "outputs": []
  },
  {
   "cell_type": "code",
   "execution_count": null,
   "id": "a63dfecf5e1c909b",
   "metadata": {
    "ExecuteTime": {
     "end_time": "2024-03-25T11:03:08.912992Z",
     "start_time": "2024-03-25T11:03:08.856066Z"
    },
    "execution_time": 65
   },
   "source": [
    "pagerank_centrality = nx.pagerank(G, max_iter=10000)\n",
    "pagerank_top_nodes = sorted(pagerank_centrality.items(), key=lambda x:x[1], reverse=True)\n",
    "pagerank_top_nodes[:10]"
   ],
   "outputs": []
  },
  {
   "cell_type": "code",
   "execution_count": null,
   "id": "d26605b0f7081fa5",
   "metadata": {
    "ExecuteTime": {
     "end_time": "2024-03-25T11:06:13.723628Z",
     "start_time": "2024-03-25T11:03:15.578627Z"
    },
    "execution_time": 66
   },
   "source": [
    "%%time\n",
    "betweenness_centrality = nx.betweenness_centrality(G)\n",
    "betweenness_top_nodes = sorted(betweenness_centrality.items(), key=lambda x:x[1], reverse=True)\n",
    "betweenness_top_nodes[:10]"
   ],
   "outputs": []
  },
  {
   "cell_type": "code",
   "execution_count": null,
   "id": "23d4e68764d343de",
   "metadata": {
    "ExecuteTime": {
     "end_time": "2024-03-25T11:06:13.730963Z",
     "start_time": "2024-03-25T11:06:13.724655Z"
    },
    "execution_time": 67
   },
   "source": [
    "degree_pagerank_comparison = []\n",
    "for deg, page, betw in zip(degree_top_nodes, pagerank_top_nodes, betweenness_top_nodes):\n",
    "    degree_pagerank_comparison.append([deg[0], page[0], betw[0]])\n",
    "centr_comparison_df = pd.DataFrame(degree_pagerank_comparison)\n",
    "centr_comparison_df.columns = [\"degree_node\", \"pagerank_node\", \"betw_node\"]\n",
    "print(centr_comparison_df.head(20).round(2))"
   ],
   "outputs": []
  },
  {
   "cell_type": "markdown",
   "id": "1390eccfc6569e90",
   "metadata": {
    "collapsed": false
   },
   "source": [
    "V čem je toto srovnání potenciálně zajímavé? Podíváme-li se na pravou stranu tabulky, tj. uzly s největší betweenness centralitou, vidíme, že zejména ve druhé desítce se nachází nemálo uzlů, se kterými se na levé straně (u degree centrality) v první dvacítce vůbec nesetkáváme:\n",
    "Jinými slovy, jedná se o uzly, jejichž centralita v rámci sítě není živena výlučně množstvím vazeb, které uvnitř sítě mají, ale spíše specifickým strukturálním postavením.\n",
    "Podívejme se tedy na stejná data ještě jiným způsobem a totiž vypišme si, na kolikáté pozici se dvacítka uzlů s nejvyšší beteweenness centrality nachází z hlediska degree centrality."
   ]
  },
  {
   "cell_type": "code",
   "execution_count": null,
   "id": "92c52a27619825db",
   "metadata": {
    "ExecuteTime": {
     "end_time": "2024-03-25T11:06:13.744214Z",
     "start_time": "2024-03-25T11:06:13.731582Z"
    },
    "execution_time": 68
   },
   "source": [
    "for node in centr_comparison_df[\"betw_node\"][:20]:\n",
    "    print(node, \" degree:\", G.degree(node), \"degree rank:\", [el[0] + 1 for el in enumerate(degree_top_nodes) if el[1][0] == node][0], )"
   ],
   "outputs": []
  },
  {
   "cell_type": "markdown",
   "id": "f236bacbb79c2273",
   "metadata": {
    "collapsed": false
   },
   "source": [
    "Podívejme se nyní čtyři osobnosti:\n",
    "* Charles Lyell\n",
    "* Francis Galton\n",
    "* John Phillips\n",
    "* John Lubbock\n",
    "\n",
    "Jejich degree rank je ve srovnání s jejich betweenness relativně vysoký. Zdá se, že tedy uzly mají v rámci grafu strukturálně zajímovou pozici.\n",
    "\n",
    "Vytvořme tedy novou vizualizaci, v rámci které zaostříme pozornost právě na 20 uzlů s největší *betweenness*. Tyto uzly vyobrazíme odlišnou barvou a stejnou barvou vyobrazíme i jejich jména. "
   ]
  },
  {
   "cell_type": "code",
   "execution_count": null,
   "id": "9353404bae406342",
   "metadata": {
    "ExecuteTime": {
     "end_time": "2024-03-25T11:07:11.970291Z",
     "start_time": "2024-03-25T11:07:11.967513Z"
    },
    "execution_time": 69
   },
   "source": [
    "special_nodes = centr_comparison_df[\"betw_node\"][:20] #[\"Lyell_Charles\", \"Galton_Francis\", \"Phillips_John\", \"Lubbock_John\"]\n",
    "special_pos = dict([(node, pos[node]) for node in special_nodes])\n",
    "labels = {node: node for node in special_nodes}"
   ],
   "outputs": []
  },
  {
   "cell_type": "code",
   "execution_count": null,
   "id": "23f2670dedc0b561",
   "metadata": {
    "ExecuteTime": {
     "end_time": "2024-03-25T11:07:16.976723Z",
     "start_time": "2024-03-25T11:07:14.394710Z"
    },
    "execution_time": 70
   },
   "source": [
    "fig, ax = plt.subplots(figsize=(24,18), dpi=300)\n",
    "special_nodes_color = \"darkorange\"\n",
    "nx.draw(G, node_size=10, node_color=\"black\", edge_color=\"grey\",pos=pos, ax=ax, alpha=0.5)\n",
    "nx.draw_networkx_nodes(G, nodelist=special_nodes, node_size=50, node_color=special_nodes_color, pos=special_pos, ax=ax)\n",
    "nx.draw_networkx_labels(G, font_color=special_nodes_color, pos=special_pos, labels=labels,ax=ax)"
   ],
   "outputs": []
  },
  {
   "cell_type": "markdown",
   "id": "cdde1ffc5b806384",
   "metadata": {
    "collapsed": false
   },
   "source": [
    "Aby byl text čitelný a graf přehledný, vizualizace výše je výrazně větší než ty předchozí. Uložíme si ji do samostatného souboru ve formátu `png`."
   ]
  },
  {
   "cell_type": "code",
   "execution_count": null,
   "id": "77d1a0470c8ebbbc",
   "metadata": {
    "ExecuteTime": {
     "end_time": "2024-03-25T11:07:44.945088Z",
     "start_time": "2024-03-25T11:07:42.140415Z"
    },
    "execution_time": 71
   },
   "source": [
    "try:\n",
    "    fig.savefig(\"../figures/epsilon_betw.png\") # pokud pracujeme s repozitoří jako celkem, včetně podlsožky \"figures\"\n",
    "except:\n",
    "    fig.savefig(\"epsilon_betw.png\") # pokud pracujeme s notebookem samostatně, např. přes Google Colab "
   ],
   "outputs": []
  },
  {
   "cell_type": "markdown",
   "id": "10d60620b8f4bfa6",
   "metadata": {
    "collapsed": false
   },
   "source": [
    "### Detekce komunit\n",
    "\n",
    "Další důležitou rodinou algoritmů jsou algoritmy pro detekování komunit, neboli shluků uzlů, které jsou mezi sebou provázány více, než z uzly z jejich okolí. Zde použijeme takzvanou Lovaňskou metodu (podle působiště výzkumníků, kteří ji vyvinuli [viz [wikipedia](https://en.wikipedia.org/wiki/Louvain_method)]). Tento algoritmus se snaží nalézt takové rozdělení uzlů do komunit, které maximalizuje poměr vazeb mezi uzly uvnitř těchto komunit oproti jejich vazbám směrem ven z těchto komunit."
   ]
  },
  {
   "cell_type": "code",
   "execution_count": null,
   "id": "95ba190decaab74f",
   "metadata": {
    "ExecuteTime": {
     "end_time": "2024-03-25T11:07:48.316415Z",
     "start_time": "2024-03-25T11:07:48.112724Z"
    },
    "execution_time": 72
   },
   "source": [
    "from networkx.algorithms import community\n",
    "communities = nx.community.louvain_communities(G, seed=1)\n",
    "len(communities)"
   ],
   "outputs": []
  },
  {
   "cell_type": "markdown",
   "id": "17cf7e1ad0efb737",
   "metadata": {
    "collapsed": false
   },
   "source": [
    "Algoritmus identifikoval 16 komunit. Podívejme se nejprve, kolik jednotlivé komunity čítají uzlů:\n"
   ]
  },
  {
   "cell_type": "code",
   "execution_count": null,
   "id": "1e6df6c32a8d3c51",
   "metadata": {
    "ExecuteTime": {
     "end_time": "2024-03-25T11:07:50.089852Z",
     "start_time": "2024-03-25T11:07:50.087489Z"
    },
    "execution_time": 73
   },
   "source": [
    "[len(com) for com in communities]"
   ],
   "outputs": []
  },
  {
   "cell_type": "code",
   "execution_count": null,
   "id": "d88083274ac0df59",
   "metadata": {
    "ExecuteTime": {
     "end_time": "2024-03-25T11:07:53.537538Z",
     "start_time": "2024-03-25T11:07:51.019857Z"
    },
    "execution_time": 74
   },
   "source": [
    "cmap = plt.get_cmap('viridis')\n",
    "colors = [cmap(i) for i in np.linspace(0, 1, len(communities))]\n",
    "\n",
    "fig, ax = plt.subplots(figsize=(24,18), dpi=300)\n",
    "nx.draw_networkx_edges(G, edge_color=\"grey\",pos=pos, alpha=0.5, ax=ax)\n",
    "\n",
    "for community, color in zip(communities, colors):\n",
    "    special_pos = dict([(node, pos[node]) for node in list(community)])\n",
    "    #nx.draw(G, node_size=10, node_color=\"black\", edge_color=\"grey\",pos=pos, ax=ax, alpha=0.5)\n",
    "    nx.draw_networkx_nodes(G, nodelist=list(community), node_size=10, node_color=[color], pos=special_pos, ax=ax)\n",
    "ax.axis('off')"
   ],
   "outputs": []
  },
  {
   "cell_type": "markdown",
   "id": "121cdb0870ac6d4c",
   "metadata": {
    "collapsed": false
   },
   "source": [
    "Vidíme, že tento algoritmus tedy dokáže velice pěkně zachytit strukturální vlastnosti dané sítě. To je v případě rozsáhlých grafů velice užitečné. "
   ]
  },
  {
   "cell_type": "markdown",
   "id": "36b1d6dec4a50c79",
   "metadata": {
    "collapsed": false
   },
   "source": [
    "## Alternativní datová sada: CorrespSearch\n",
    "\n",
    "Alternativně bychom celé cvičení mohli absolvovat za využití mnoha dalších datasetů. Jedním z nich je dataset dostupný přes API na platformě CorrespSearch ([web](https://correspsearch.net/en/home.html))."
   ]
  },
  {
   "cell_type": "code",
   "execution_count": null,
   "id": "5361249f25160577",
   "metadata": {
    "ExecuteTime": {
     "end_time": "2024-01-15T09:32:45.610978Z",
     "start_time": "2024-01-15T09:32:44.222410Z"
    },
    "execution_time": 75
   },
   "source": [
    "correspsearch = pd.read_csv(\"https://correspsearch.net/api/v2.0/csv.xql?\", sep=\";\")\n",
    "correspsearch.head(10)"
   ],
   "outputs": []
  },
  {
   "cell_type": "code",
   "execution_count": null,
   "id": "e3f0ee952e8fd1d1",
   "metadata": {
    "ExecuteTime": {
     "end_time": "2024-01-15T09:33:01.324413Z",
     "start_time": "2024-01-15T09:32:45.792999Z"
    },
    "execution_time": 76
   },
   "source": [
    "%%time\n",
    "for n in range(2,30):\n",
    "    page_df = pd.read_csv(\"https://correspsearch.net/api/v2.0/csv.xql?x=\" + str(n), sep=\";\")\n",
    "    correspsearch = pd.concat([correspsearch, page_df])\n",
    "    if n in range(0,3000,100):\n",
    "        print(n)\n",
    "    if len(page_df) < 100:\n",
    "        break"
   ],
   "outputs": []
  },
  {
   "cell_type": "code",
   "execution_count": null,
   "id": "f1d279699893fadf",
   "metadata": {
    "ExecuteTime": {
     "end_time": "2024-01-15T09:33:01.328395Z",
     "start_time": "2024-01-15T09:33:01.309823Z"
    },
    "execution_time": 77
   },
   "source": [
    "len(correspsearch)"
   ],
   "outputs": []
  },
  {
   "cell_type": "code",
   "execution_count": null,
   "id": "58e8459b7c2c226d",
   "metadata": {
    "ExecuteTime": {
     "end_time": "2024-01-15T09:33:01.339259Z",
     "start_time": "2024-01-15T09:33:01.315542Z"
    },
    "execution_time": 78
   },
   "source": [
    "correspsearch = correspsearch[correspsearch[\"sender\"].notnull() & correspsearch[\"addressee\"].notnull()]\n",
    "len(correspsearch)"
   ],
   "outputs": []
  }
 ],
 "metadata": {
  "kernelspec": {
   "display_name": "Python 3",
   "language": "python",
   "name": "python3"
  },
  "language_info": {
   "codemirror_mode": {
    "name": "ipython",
    "version": 2
   },
   "file_extension": ".py",
   "mimetype": "text/x-python",
   "name": "python",
   "nbconvert_exporter": "python",
   "pygments_lexer": "ipython2",
   "version": "2.7.6"
  }
 },
 "nbformat": 4,
 "nbformat_minor": 5
}
