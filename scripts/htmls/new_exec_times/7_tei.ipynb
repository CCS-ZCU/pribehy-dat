{
 "cells": [
  {
   "cell_type": "markdown",
   "metadata": {
    "colab_type": "text",
    "id": "view-in-github"
   },
   "source": [
    "[![Open In Colab](https://colab.research.google.com/assets/colab-badge.svg)](https://colab.research.google.com/github/CCS-ZCU/pribehy-dat/blob/master/scripts/7_tei.ipynb)\n",
    "\n",
    "# Digitální edice ve standardu TEI-XML\n",
    "\n",
    "\n",
    "**autor**: *Vojtěch Kaše* (kase@ff.zcu.cz)\n",
    "\n",
    "[![](https://ccs.zcu.cz/wp-content/uploads/2021/10/cropped-ccs-logo_black_space_240x240.png)](https://ccs.zcu.cz)"
   ]
  },
  {
   "cell_type": "markdown",
   "metadata": {
    "collapsed": false
   },
   "source": [
    "## Úvod a cíle kapitoly\n",
    "\n",
    "V této kapitole se budeme věnovat práci s digitálními editacemi vytvořenými podle standardu [TEI-XML](https://tei-c.org). TEI-XML je způsob, jak digitalizované literární dílo veřejně prezentovat tak, aby z něj zejména badatelé a studenti z oblasti humanitních věd mohli získávat hodnotné informace například skrz pokročilé prohlédávání. Za tímto účelem jsou texty v těchto edicích ve větší či menší míře buď ručně nebo polautomaticky anotované. Tím se myslí, že jsou v těchto textech označeny specifické výrazy, jako jsou názvy osob či organizací, místní názvy nebo jiné důležité termíny. Stejně tak jsou v záhlaví těchto dokumentů standardizovaným způsobem uvedena nejrůznější metadata, typicky data o autorovi daného textu, jeho vydavateli apod. Projektů, které dnes využívají tento standard, je obrovské množství. Rozsáhlý (avšak zdaleka ne úplný) výčet lze nalézt [zde](https://tei-c.org/Activities/Projects/). \n",
    "\n",
    "Důkladné obeznámení se s těmito standardy by vydalo na celý samostatný kurz. Zde však budeme postupovat obdobně jako v jiných kapitolách a pouze si uvnitř prostředí Jupyter notebooku prohlédneme, jak některé takovéto digitalizované edice vypadají a jak s nimi můžeme pracovat.\n",
    "\n",
    "TEI-XML je spojení dvou akronymů: TEI = Text Encoding Initiative a XML = Extensible Markup Language.\n",
    " \n",
    "**XML** je definováno jako *rozšiřitelný značkovací jazyk* a stejnojmenný formát souborů využívaný zejména pro výměnu dat mezi aplikacemi a pro publikování dokumentů (viz [wikipedia](https://cs.wikipedia.org/wiki/Extensible_Markup_Language). V mnoha ohledech se běžné XML dokumenty podobají kódu HTML stránek (jak uvidíme néže, pro práci s nimi se v rámci Pythonu i využívají stejné nástroje). Na rozdíl od HTML stránek však data naformátovaná za využití XML standardu nejsou určena pro webové prohlížeče.\n",
    "\n",
    "XML soubor sestává z prvků (elementů), které jsou vyznačeny *tagy*, neboli značkami. Tyto tagy jsou vyznačeny pomocí symbolů `<` a `>`, jsou definovány tvůrcem a tvůrce si může vytvářet zcela vlastní tagy. Vždy zde však musí být právě jeden kořenový prvek, tzv. root. V XML je kořenový prvek jedinečný a nemá svůj vlastní obsah, ale pouze obaluje všechny další prvky v dokumentu. \n",
    "\n",
    "Tagy mohou a často obsahují atributy, které definují dodatečné vlastnosti příslušných prvků nebo data provazují s dalšími daty, často pomocí hypertextových odkazů. Na rozdíl od HTML musí být v rámci XML všechny tagy tzv. párové. Tag v podobě `<element1>` prvek otvírá a v podobě `</element>` jej uzavírá. Vše mezi tím je obsahem daného prvku. Prvky se do sebe často vnořují, čímž dokument získává určitou stromovou a navigovatelnou strukturu. \n",
    "\n",
    "Nejlépe bude struktura xml souboru vidět na následujícím minimalistickém příkladu:\n",
    "\n",
    "```xml\n",
    "<?xml version=\"1.0\" encoding=\"UTF-8\"?>\n",
    "<root>\n",
    "    <element1 attribute1=\"value1\">Text for element1</element1>\n",
    "    <element2 attribute2=\"value2\">Text for element2</element2>\n",
    "</root>\n",
    "```\n",
    "Inciativa **TEI** přichází se standardy pro to, jak tento formát dat použít pro zveřejňování dokumentů, jako jsou literární díla, básně, rozhovory, dopisy, nápisy, papyry a mnoho dalšího (existuje např. i verze pro obrazová díla či hudební notaci). TEI byla ustavena v roce 1987 s cílem \"vyvíjet, udžovat a propagovat metody pro kódování humanitních dat v elektronické podobě nezávislé na konkrétním hardweru a softwaru (\"to develop, maintain, and promulgate hardware- and software-independent methods for encoding humanities data in electronic form\" - viz [zde](https://tei-c.org/about/history/)).\n",
    " \n",
    "Veškerý text daného dokumentu se nachází uvnitř prvku `<body></body>`. Ten se může standardizovaným způsoben dále dělit na kapitoly, verše či řádky, či průpovědi jednotlivých mluvčích, v závislosti na žánru daného dokumentu (všechny tyto možnosti jsou detailně popsány v Guidelines [zde](https://tei-c.org/release/doc/tei-p5-doc/en/html/index.html)). Stejně tak jsou jasně nadefinovány způsoby, jak v rámci textu vyznačit výskyty jmenných entit, jako jsou jména osob či místní názvy, nebo například datumy (viz [zde](https://tei-c.org/release/doc/tei-p5-doc/en/html/ND.html). Tyto standardy si ukážeme na konkrétníh příkladech níže. Pro detailnější obeznámení pak doporučiji například online kurz [zde](https://teach.dariah.eu/course/view.php?id=32). Praktický úvodní text v češtině je dostupný [zde](https://digital-humanities.phil.muni.cz/clanky/metadata-co-ma-spolecneho-netflix-a-digitalni-humanitni-vedy)."
   ]
  },
  {
   "cell_type": "markdown",
   "metadata": {
    "collapsed": false
   },
   "source": [
    "## Cvičení\n",
    "\n",
    "Jak již bylo uvedeno výše, XML dokumenty mají v mnohém obdobné vlastnosti jako webové stránky ve formátu HTML a k práci s nimi lze použít podobné nástroje. Ač TEI-XML dokumenty nejsou určeny pro webové prohlížeče, lze je často nalézt přímo na webu, např. Nezříka jsou také zpřístupňovány pomocí API. V následujícím civčení proto budeme používat v podstatě stejné nástroje jako v případě kapitol o HTTP a websrapingu a využívání API, zejména knihovny `requests` a `BeautifulSoup`."
   ]
  },
  {
   "cell_type": "code",
   "execution_count": 1,
   "metadata": {
    "ExecuteTime": {
     "end_time": "2024-01-26T20:52:58.968714Z",
     "start_time": "2024-01-26T20:52:58.959965Z"
    },
    "collapsed": false,
    "execution_time": 1
   },
   "outputs": [],
   "source": [
    "import requests\n",
    "from bs4 import BeautifulSoup"
   ]
  },
  {
   "cell_type": "markdown",
   "metadata": {
    "collapsed": false
   },
   "source": [
    "### Korpus německé poezie\n",
    "\n",
    "Jako první příklad vybereme báseň z korpusu německé poezie **Deutsches Lyrik Korpus** (DLK), dostupného na platformě GitHub [zde](https://github.com/tnhaider/DLK). Jednotlivé básně naformátované ve formě TEI-XML souborů se nachází v této podsložce čítající více než 60,000 položek: https://github.com/tnhaider/DLK/tree/master/DLK/tei/tei_plain."
   ]
  },
  {
   "cell_type": "markdown",
   "metadata": {
    "collapsed": false
   },
   "source": [
    "Vybereme náhodný soubor, otevřeme jej, a zobrazíme jej v \"raw\" podobě (v oknu souboru klikneme v pravém horním rohu). URL adresu souboru v syrové podobě si zkopírujeme a vložíme jako hodnotu proměnné `url` v buňce\n",
    " níže. (Tato url adresa se skládá z informace u umístění souboru v rámci Githubu, která je pro všechny soubory shodná a samotného názvu souboru.)\n",
    "\n",
    "\n"
   ]
  },
  {
   "cell_type": "code",
   "execution_count": 2,
   "metadata": {
    "ExecuteTime": {
     "end_time": "2024-01-26T21:04:35.753054Z",
     "start_time": "2024-01-26T21:04:35.536363Z"
    },
    "collapsed": false,
    "execution_time": 2
   },
   "outputs": [
    {
     "data": {
      "text/plain": [
       "<Response [200]>"
      ]
     },
     "execution_count": 16,
     "metadata": {},
     "output_type": "execute_result"
    }
   ],
   "source": [
    "url = \"https://raw.githubusercontent.com/tnhaider/DLK/master/DLK/tei/tei_plain/dta.poem.10006-Zachariae%2C_Justus_Friedrich_Wilhelm-Die_Vergnügungen_der_Melancholey..tei.xml\"\n",
    "resp = requests.get(url)\n",
    "resp"
   ]
  },
  {
   "cell_type": "markdown",
   "metadata": {
    "collapsed": false
   },
   "source": [
    "Načtený soubor (v proměnné `resp`) následně parsujeme pomocí knihovny `BeuatifulSoup` do proměnné `soup`, pomocí čehož získáme přístup k stromové struktuře daných dat. Obsah si vypíšeme."
   ]
  },
  {
   "cell_type": "code",
   "execution_count": 3,
   "metadata": {
    "ExecuteTime": {
     "end_time": "2024-01-26T21:04:36.638571Z",
     "start_time": "2024-01-26T21:04:36.620837Z"
    },
    "collapsed": false,
    "execution_time": 3
   },
   "outputs": [
    {
     "data": {
      "text/plain": [
       "<html><body><tei xmlns=\"http://www.tei-c.org/ns/1.0\">\n",
       "<teiheader>\n",
       "<filedesc>\n",
       "<titlestmt>\n",
       "<title type=\"main\">Die Vergnügungen  \n",
       "  der Melancholey.</title>\n",
       "<author>\n",
       "<persname>\n",
       "<surname>Zachariae</surname>\n",
       "<forename>Justus Friedrich Wilhelm</forename>\n",
       "</persname>\n",
       "</author>\n",
       "<editor>\n",
       "<persname>\n",
       "<surname>Haider</surname>\n",
       "<forename>Thomas Nikolaus</forename>\n",
       "</persname>\n",
       "<orgname>University of Göttingen/Max Planck Institute for Empirical Aesthetics, Frankfurt am Main</orgname>\n",
       "<email>mail@thomashaider.net</email>\n",
       "</editor>\n",
       "</titlestmt>\n",
       "<editionstmt>\n",
       "<edition>\n",
       "<name>Deutsches Lyrik Korpus Edition (DLK) v6</name>\n",
       "<date>9-11-2022</date>\n",
       "</edition>\n",
       "</editionstmt>\n",
       "<extent>\n",
       "<measure type=\"stanzas\">1</measure>\n",
       "<measure type=\"verses\">22</measure>\n",
       "<measure type=\"verses_per_stanza\">1-22</measure>\n",
       "<measure type=\"syllables\">290</measure>\n",
       "<measure type=\"tokens\">179</measure>\n",
       "<measure type=\"characters\">1101</measure>\n",
       "</extent>\n",
       "<publicationstmt>\n",
       "<publisher>\n",
       "<name></name>\n",
       "</publisher>\n",
       "<pubplace></pubplace>\n",
       "<date type=\"publication\">1764</date>\n",
       "</publicationstmt>\n",
       "<sourcedesc>\n",
       "<p corresp=\"urn:nbn:de:kobv:b4-20674-3\"></p>\n",
       "</sourcedesc>\n",
       "</filedesc>\n",
       "<profiledesc>\n",
       "<textclass>\n",
       "<classcode scheme=\"literary_period\">N.A.</classcode>\n",
       "<classcode scheme=\"text_genre\">Lyrik</classcode>\n",
       "</textclass>\n",
       "</profiledesc>\n",
       "</teiheader>\n",
       "<text>\n",
       "<div n=\"1\">\n",
       "<lg type=\"poem\">\n",
       "          Die Vergnügungen  \n",
       "  der Melancholey.\n",
       "          <lg rhyme=\"unknown\" type=\"stanza\">\n",
       "<l>Andre mögen am lächelnden Abend des Sommers</l>\n",
       "<l>Wenn sie am dumpfen Geräusch des murmelnden Ba-</l>\n",
       "<l>Oder das sanftere Roth des streifichten Westens be-</l>\n",
       "<l>Mich ergetzt nur Nebel und Dunkel des blassen De-</l>\n",
       "<l>Wenn die Schatten sich dann des langen Abends ge-</l>\n",
       "<l>Und ein schimmernder Stral der matten sterbenden</l>\n",
       "<l>Durch den dämmernden Raum, sich bricht: dann laß</l>\n",
       "<l>Von dem Jauchzen des Unsinns, das ietzo mit festlichem</l>\n",
       "<l>Durch die erleuchteten Zimmer ertönt, dann laß mich</l>\n",
       "<l>Sitzen, allein nur vergnügt an der niedern klagenden</l>\n",
       "<l>Schlummer erweckendem Lied; und laß mich mit mei-</l>\n",
       "<l>In mich gekehrt, den Wechsel der Dinge, die leeren</l>\n",
       "<l>Und die vergebliche Mühe betrachten, die unsrer Er-</l>\n",
       "<l>Forschen vereitelt, so wie wir die Wüste des Lebens</l>\n",
       "<l>Diese gesegnete Stunde der Stille wird alles das Lä-</l>\n",
       "<l>Schimmernder Thorheit entdecken, das, gleich des li-</l>\n",
       "<l>Falscher zaubrischer Kunst, die allzusicheren Augen</l>\n",
       "<l>Mit der verborgnen Verblendung getäuscht; den bezau-</l>\n",
       "<l>Uns zu trinken verführt, wodurch die Seele berauschet,</l>\n",
       "<l>Ganz sich vergißt, und der Mensch zum Ungeheuer</l>\n",
       "<l>Gierig kosten wir ihn, doch in dem frohen Genuße</l>\n",
       "<l>Merken wir nicht die giftigen Hefen, die mit ihm ge-</l>\n",
       "</lg>\n",
       "</lg>\n",
       "</div>\n",
       "</text>\n",
       "</tei>\n",
       "</body></html>"
      ]
     },
     "execution_count": 17,
     "metadata": {},
     "output_type": "execute_result"
    }
   ],
   "source": [
    "soup = BeautifulSoup(resp.text)\n",
    "soup"
   ]
  },
  {
   "cell_type": "markdown",
   "metadata": {
    "collapsed": false
   },
   "source": [
    "Vidíme kód s jednotlivými prvky. V samotném úvodu vidíme prvky definující metadata o dané básni: jméno autora uvnitř prvku `<persname>`, do sebe vnořuje ještě dva podprvky `<surname>` a `<lastname>`. Všechna tato metadata se nacházejí uvnitř prvku `<teiheader>`. Po jeho uzavření následuje prvek `<text>`, v níž se nachází text příslušné básně. \n",
    "\n",
    "Nejprve z textu vyzískejme základní metadata. Stačí nám pohybovat se po stromové struktuře stejně, jako jsme to činili v kapitole o webscrapingu. Například k názvu literárního díla se dostaneme takto:"
   ]
  },
  {
   "cell_type": "code",
   "execution_count": 4,
   "metadata": {
    "ExecuteTime": {
     "end_time": "2024-01-26T21:10:42.181382Z",
     "start_time": "2024-01-26T21:10:42.175561Z"
    },
    "collapsed": false,
    "execution_time": 4
   },
   "outputs": [
    {
     "data": {
      "text/plain": [
       "<title type=\"main\">Die Vergnügungen  \n",
       "  der Melancholey.</title>"
      ]
     },
     "execution_count": 19,
     "metadata": {},
     "output_type": "execute_result"
    }
   ],
   "source": [
    "soup.teiheader.title"
   ]
  },
  {
   "cell_type": "markdown",
   "metadata": {
    "collapsed": false
   },
   "source": [
    "V tomto případě však vidíme i tagy se všemi jejich atributy. Chceme-li samotný textový obsah, musíme použít `text`. Hodnotu si uložíme do proměnné a vypíšeme si ji.\n",
    "\n",
    "\n"
   ]
  },
  {
   "cell_type": "code",
   "execution_count": 5,
   "metadata": {
    "ExecuteTime": {
     "end_time": "2024-01-26T21:13:58.467939Z",
     "start_time": "2024-01-26T21:13:58.459154Z"
    },
    "collapsed": false,
    "execution_time": 5
   },
   "outputs": [
    {
     "name": "stdout",
     "output_type": "stream",
     "text": [
      "Die Vergnügungen  \n",
      "  der Melancholey.\n"
     ]
    }
   ],
   "source": [
    "title = soup.teiheader.title.text\n",
    "print(title)"
   ]
  },
  {
   "cell_type": "markdown",
   "metadata": {
    "collapsed": false
   },
   "source": [
    "Stejně můžeme postupovat v případě dalších prvků:"
   ]
  },
  {
   "cell_type": "code",
   "execution_count": 6,
   "metadata": {
    "ExecuteTime": {
     "end_time": "2024-01-26T21:15:52.104834Z",
     "start_time": "2024-01-26T21:15:52.099691Z"
    },
    "collapsed": false,
    "execution_time": 6
   },
   "outputs": [],
   "source": [
    "author_surname = soup.teiheader.author.surname.text\n",
    "author_forename = soup.teiheader.author.forename.text"
   ]
  },
  {
   "cell_type": "markdown",
   "metadata": {
    "collapsed": false
   },
   "source": [
    "Vypišme si nyní celé jméno autora a příslušné básně."
   ]
  },
  {
   "cell_type": "code",
   "execution_count": 7,
   "metadata": {
    "ExecuteTime": {
     "end_time": "2024-01-26T21:17:59.259156Z",
     "start_time": "2024-01-26T21:17:59.253586Z"
    },
    "collapsed": false,
    "execution_time": 7
   },
   "outputs": [
    {
     "name": "stdout",
     "output_type": "stream",
     "text": [
      "Justus Friedrich Wilhelm Zachariae - Die Vergnügungen  \n",
      "  der Melancholey.\n"
     ]
    }
   ],
   "source": [
    "print(author_forename, author_surname, \"-\", title)"
   ]
  },
  {
   "cell_type": "markdown",
   "metadata": {
    "collapsed": false
   },
   "source": [
    "Pozor, že některé tagy se zde mohou objevovat opakovaně. Pomocí metody výše jsme si vypsali pouze první výskyt daného tagu. Chceme-li vypsat všechny výskyty, musíme na objekt `soup` použít metodu `findall()`. Vyzkoušíme s prvkem `surname`."
   ]
  },
  {
   "cell_type": "code",
   "execution_count": 8,
   "metadata": {
    "ExecuteTime": {
     "end_time": "2024-01-26T21:19:57.225368Z",
     "start_time": "2024-01-26T21:19:57.219788Z"
    },
    "collapsed": false,
    "execution_time": 8
   },
   "outputs": [
    {
     "data": {
      "text/plain": [
       "[<surname>Zachariae</surname>, <surname>Haider</surname>]"
      ]
     },
     "execution_count": 39,
     "metadata": {},
     "output_type": "execute_result"
    }
   ],
   "source": [
    "soup.find_all(\"surname\")"
   ]
  },
  {
   "cell_type": "markdown",
   "metadata": {
    "collapsed": false
   },
   "source": [
    "V případě některých básní budeme mít jmen víc. Je to proto, že je zde ještě příjmení editora dané publikace. Proto jsme výše byli konkrétnější a specifikovali, že se v rámci objektu `soup` pohybujeme v prvku autor."
   ]
  },
  {
   "cell_type": "markdown",
   "metadata": {
    "collapsed": false
   },
   "source": [
    "Nyní se přesuňme k textu samotné básně. Ta je v rámci objektu `soup` dostupná v prvku `text`. V nejsyrovější podobě se k textu básně dostaneme takto."
   ]
  },
  {
   "cell_type": "code",
   "execution_count": 9,
   "metadata": {
    "ExecuteTime": {
     "end_time": "2024-01-26T21:27:38.552063Z",
     "start_time": "2024-01-26T21:27:38.545805Z"
    },
    "collapsed": false,
    "execution_time": 9
   },
   "outputs": [
    {
     "data": {
      "text/plain": [
       "'\\n\\n\\n          Die Vergnügungen  \\n  der Melancholey.\\n          \\nAndre mögen am lächelnden Abend des Sommers\\nWenn sie am dumpfen Geräusch des murmelnden Ba-\\nOder das sanftere Roth des streifichten Westens be-\\nMich ergetzt nur Nebel und Dunkel des blassen De-\\nWenn die Schatten sich dann des langen Abends ge-\\nUnd ein schimmernder Stral der matten sterbenden\\nDurch den dämmernden Raum, sich bricht: dann laß\\nVon dem Jauchzen des Unsinns, das ietzo mit festlichem\\nDurch die erleuchteten Zimmer ertönt, dann laß mich\\nSitzen, allein nur vergnügt an der niedern klagenden\\nSchlummer erweckendem Lied; und laß mich mit mei-\\nIn mich gekehrt, den Wechsel der Dinge, die leeren\\nUnd die vergebliche Mühe betrachten, die unsrer Er-\\nForschen vereitelt, so wie wir die Wüste des Lebens\\nDiese gesegnete Stunde der Stille wird alles das Lä-\\nSchimmernder Thorheit entdecken, das, gleich des li-\\nFalscher zaubrischer Kunst, die allzusicheren Augen\\nMit der verborgnen Verblendung getäuscht; den bezau-\\nUns zu trinken verführt, wodurch die Seele berauschet,\\nGanz sich vergißt, und der Mensch zum Ungeheuer\\nGierig kosten wir ihn, doch in dem frohen Genuße\\nMerken wir nicht die giftigen Hefen, die mit ihm ge-\\n\\n\\n\\n'"
      ]
     },
     "execution_count": 45,
     "metadata": {},
     "output_type": "execute_result"
    }
   ],
   "source": [
    "soup.find(\"text\").get_text() # zde je název tagu \"<text>\" poněkud matoucí, neboť BeautifulSoup pracuje se stejnojmenným atributem"
   ]
  },
  {
   "cell_type": "markdown",
   "metadata": {
    "collapsed": false
   },
   "source": [
    "V rámci digitální edice je však báseň dostupná po jednotlivých verších. Pro jednotlivé verše se používá tag `<l>`. Vytvořme si uspořádaný seznam všech veršů:"
   ]
  },
  {
   "cell_type": "code",
   "execution_count": 10,
   "metadata": {
    "ExecuteTime": {
     "end_time": "2024-01-26T21:28:10.546708Z",
     "start_time": "2024-01-26T21:28:10.540607Z"
    },
    "collapsed": false,
    "execution_time": 10
   },
   "outputs": [
    {
     "data": {
      "text/plain": [
       "['Andre mögen am lächelnden Abend des Sommers',\n",
       " 'Wenn sie am dumpfen Geräusch des murmelnden Ba-',\n",
       " 'Oder das sanftere Roth des streifichten Westens be-',\n",
       " 'Mich ergetzt nur Nebel und Dunkel des blassen De-',\n",
       " 'Wenn die Schatten sich dann des langen Abends ge-',\n",
       " 'Und ein schimmernder Stral der matten sterbenden',\n",
       " 'Durch den dämmernden Raum, sich bricht: dann laß',\n",
       " 'Von dem Jauchzen des Unsinns, das ietzo mit festlichem',\n",
       " 'Durch die erleuchteten Zimmer ertönt, dann laß mich',\n",
       " 'Sitzen, allein nur vergnügt an der niedern klagenden',\n",
       " 'Schlummer erweckendem Lied; und laß mich mit mei-',\n",
       " 'In mich gekehrt, den Wechsel der Dinge, die leeren',\n",
       " 'Und die vergebliche Mühe betrachten, die unsrer Er-',\n",
       " 'Forschen vereitelt, so wie wir die Wüste des Lebens',\n",
       " 'Diese gesegnete Stunde der Stille wird alles das Lä-',\n",
       " 'Schimmernder Thorheit entdecken, das, gleich des li-',\n",
       " 'Falscher zaubrischer Kunst, die allzusicheren Augen',\n",
       " 'Mit der verborgnen Verblendung getäuscht; den bezau-',\n",
       " 'Uns zu trinken verführt, wodurch die Seele berauschet,',\n",
       " 'Ganz sich vergißt, und der Mensch zum Ungeheuer',\n",
       " 'Gierig kosten wir ihn, doch in dem frohen Genuße',\n",
       " 'Merken wir nicht die giftigen Hefen, die mit ihm ge-']"
      ]
     },
     "execution_count": 47,
     "metadata": {},
     "output_type": "execute_result"
    }
   ],
   "source": [
    "verses = [l.text for l in soup.find(\"text\").find_all(\"l\")]\n",
    "verses"
   ]
  },
  {
   "cell_type": "markdown",
   "metadata": {
    "collapsed": false
   },
   "source": [
    "### Dokumenty EHRI\n",
    "\n",
    "Jako další příklad použijeme digitální edice vydané projektem [EHRI](https://www.ehri-project.eu) (=The European Holocaust Research Infrastructure). EHRI sestává z mnoha podprojektů. Jedním z nich jsou přepisy raných svědectví přeživších holocaustu ([Early Holocaust Testimony](https://early-testimony.ehri-project.eu)). Tyto edice jsou velice důkladně označkovány ohledně vystujících se jmen osob, místních názvů i organizací, jimž jsou přiřazeny jednoznačné identifikátory, které jsou spravovány v samostatných databázích (vocabularies). Jedná se o vzorový příklad tzv. [Linked Open Data](https://www.ontotext.com/knowledgehub/fundamentals/linked-data-linked-open-data/).    \n",
    "\n",
    "Vyjdeme  z rozcestníku jednotlivých svědectví dostupného [zde](https://early-testimony.ehri-project.eu/search). Digitální edice ve formátu XML je u každého svědectví dostupná ke stažení přes tlačítko v pravém horním rohu. My však nemusíme soubor fyzicky stahovat, pouze si zkopírujeme URL adresu, na kterou tlačítko pro stažení XML směřuje. "
   ]
  },
  {
   "cell_type": "code",
   "execution_count": 11,
   "metadata": {
    "ExecuteTime": {
     "end_time": "2024-01-26T22:40:49.867813Z",
     "start_time": "2024-01-26T22:40:49.655764Z"
    },
    "collapsed": false,
    "execution_time": 11
   },
   "outputs": [],
   "source": [
    "url = \"https://ehri-editions-et.s3.eu-central-1.amazonaws.com/original/34df1a28893a51d05d5909fb3aa99725.xml\"\n",
    "resp = requests.get(url)\n",
    "soup = BeautifulSoup(resp.text, features=\"xml\")"
   ]
  },
  {
   "cell_type": "markdown",
   "metadata": {
    "collapsed": false
   },
   "source": [
    "Jedná se již o delší dokument. Pro představu o jeho podobě si vypíšeme jeho hlavní části samostatně. Nejprve metadata:"
   ]
  },
  {
   "cell_type": "code",
   "execution_count": 12,
   "metadata": {
    "ExecuteTime": {
     "end_time": "2024-01-26T22:40:51.460556Z",
     "start_time": "2024-01-26T22:40:51.442261Z"
    },
    "collapsed": false,
    "execution_time": 12
   },
   "outputs": [
    {
     "name": "stdout",
     "output_type": "stream",
     "text": [
      "<fileDesc>\n",
      "<titleStmt>\n",
      "<title>Alexander Schmiedt, the experiences from Kaufering and Dachau</title>\n",
      "</titleStmt>\n",
      "<editionStmt>\n",
      "<edition>EHRI Edition of Early Holocaust Testimony</edition>\n",
      "<author>\n",
      "<persName>Michal Frankl</persName>\n",
      "</author>\n",
      "<author>\n",
      "<persName>Magdalena Sedlická</persName>\n",
      "</author>\n",
      "<author>\n",
      "<persName>Wolfgang Schellenbacher</persName>\n",
      "</author>\n",
      "</editionStmt>\n",
      "<publicationStmt>\n",
      "<publisher>\n",
      "<ref target=\"https://www.ehri-project.eu/\">European Holocaust Research\n",
      "            Infrastructure</ref>\n",
      "</publisher>\n",
      "<availability>\n",
      "<licence target=\"http://creativecommons.org/licenses/by-sa/4.0/\">Attribution-ShareAlike\n",
      "            4.0 International</licence>\n",
      "</availability>\n",
      "</publicationStmt>\n",
      "<sourceDesc>\n",
      "<msDesc>\n",
      "<msIdentifier>\n",
      "<country ref=\"https://portal.ehri-project.eu/countries/cz\">Czech Republic</country>\n",
      "<repository ref=\"https://portal.ehri-project.eu/institutions/cz-002279\">Jewish Museum in\n",
      "              Prague</repository>\n",
      "<collection ref=\"https://portal.ehri-project.eu/units/cz-002279-collection_jmp_shoah_dp\">Documents of Persecution</collection>\n",
      "<idno>inventory number 80 (Memoirs, and literary and expert accounts of the persecution\n",
      "              period, written after the war)</idno>\n",
      "</msIdentifier>\n",
      "<physDesc/>\n",
      "</msDesc>\n",
      "<bibl>Jewish Museum in Prague, Documents of Persecution, inv. no 80. <textLang mainLang=\"cs\">Original in Czech.</textLang></bibl>\n",
      "<listPlace>\n",
      "<place>\n",
      "<placeName>Prague</placeName>\n",
      "<location>\n",
      "<geo>50.08804 14.42076</geo>\n",
      "</location>\n",
      "<linkGrp>\n",
      "<link target=\"http://www.geonames.org/3067696/prague.html\" type=\"normal\"/>\n",
      "<link target=\"http://en.wikipedia.org/wiki/Prague\" type=\"desc\"/>\n",
      "</linkGrp>\n",
      "</place>\n",
      "<place>\n",
      "<placeName>Kaufering II concentration camp</placeName>\n",
      "<location>\n",
      "<geo>48.0833 10.8833</geo>\n",
      "</location>\n",
      "<linkGrp>\n",
      "<link target=\"https://portal.ehri-project.eu/keywords/ehri_camps-225\" type=\"normal\"/>\n",
      "</linkGrp>\n",
      "</place>\n",
      "<place>\n",
      "<placeName>Kaufering VI concentration camp</placeName>\n",
      "<location>\n",
      "<geo>48.0833 10.8833</geo>\n",
      "</location>\n",
      "<linkGrp>\n",
      "<link target=\"https://portal.ehri-project.eu/keywords/ehri_camps-230\" type=\"normal\"/>\n",
      "</linkGrp>\n",
      "</place>\n",
      "<place>\n",
      "<placeName>Dachau concentration camp</placeName>\n",
      "<location>\n",
      "<geo>48.2699 11.4683</geo>\n",
      "</location>\n",
      "<linkGrp>\n",
      "<link target=\"https://portal.ehri-project.eu/keywords/ehri_camps-177\" type=\"normal\"/>\n",
      "</linkGrp>\n",
      "</place>\n",
      "<place>\n",
      "<placeName>Terezin Ghetto</placeName>\n",
      "<location>\n",
      "<geo>50.51027778 14.14972222</geo>\n",
      "</location>\n",
      "<linkGrp>\n",
      "<link target=\"https://portal.ehri-project.eu/keywords/ehri_ghettos-449\" type=\"normal\"/>\n",
      "</linkGrp>\n",
      "</place>\n",
      "<place>\n",
      "<placeName>Auschwitz II-Birkenau concentration camp</placeName>\n",
      "<location>\n",
      "<geo>50.0371 19.1752</geo>\n",
      "</location>\n",
      "<linkGrp>\n",
      "<link target=\"https://portal.ehri-project.eu/keywords/ehri_camps-2\" type=\"normal\"/>\n",
      "</linkGrp>\n",
      "</place>\n",
      "<place>\n",
      "<placeName>Olomouc</placeName>\n",
      "<location>\n",
      "<geo>49.59552 17.25175</geo>\n",
      "</location>\n",
      "<linkGrp>\n",
      "<link target=\"http://www.geonames.org/3069011/olomouc.html\" type=\"normal\"/>\n",
      "<link target=\"http://en.wikipedia.org/wiki/Olomouc\" type=\"desc\"/>\n",
      "</linkGrp>\n",
      "</place>\n",
      "<place>\n",
      "<placeName>Vienna</placeName>\n",
      "<location>\n",
      "<geo>48.20849 16.37208</geo>\n",
      "</location>\n",
      "<linkGrp>\n",
      "<link target=\"http://www.geonames.org/2761369/vienna.html\" type=\"normal\"/>\n",
      "<link target=\"http://en.wikipedia.org/wiki/Vienna\" type=\"desc\"/>\n",
      "</linkGrp>\n",
      "</place>\n",
      "<place>\n",
      "<placeName>Salzburg</placeName>\n",
      "<location>\n",
      "<geo>47.79941 13.04399</geo>\n",
      "</location>\n",
      "<linkGrp>\n",
      "<link target=\"http://www.geonames.org/2766824/salzburg.html\" type=\"normal\"/>\n",
      "<link target=\"http://en.wikipedia.org/wiki/Salzburg\" type=\"desc\"/>\n",
      "</linkGrp>\n",
      "</place>\n",
      "<place>\n",
      "<placeName>Kaufering III concentration camp</placeName>\n",
      "<location>\n",
      "<geo>48.0833 10.8833</geo>\n",
      "</location>\n",
      "<linkGrp>\n",
      "<link target=\"https://portal.ehri-project.eu/keywords/ehri_camps-226\" type=\"normal\"/>\n",
      "</linkGrp>\n",
      "</place>\n",
      "<place>\n",
      "<placeName>Kaufering I concentration camp</placeName>\n",
      "<location>\n",
      "<geo>48.0833 10.8833</geo>\n",
      "</location>\n",
      "<linkGrp>\n",
      "<link target=\"https://portal.ehri-project.eu/keywords/ehri_camps-224\" type=\"normal\"/>\n",
      "</linkGrp>\n",
      "</place>\n",
      "<place>\n",
      "<placeName>Kaufering V concentration camp</placeName>\n",
      "<location>\n",
      "<geo>48.0833 10.8833</geo>\n",
      "</location>\n",
      "<linkGrp>\n",
      "<link target=\"https://portal.ehri-project.eu/keywords/ehri_camps-229\" type=\"normal\"/>\n",
      "</linkGrp>\n",
      "</place>\n",
      "<place>\n",
      "<placeName>United States of America</placeName>\n",
      "<location>\n",
      "<geo>39.76 -98.5</geo>\n",
      "</location>\n",
      "<linkGrp>\n",
      "<link target=\"http://www.geonames.org/6252001/united-states.html\" type=\"normal\"/>\n",
      "<link target=\"http://de.wikipedia.org/wiki/Vereinigte_Staaten\" type=\"desc\"/>\n",
      "</linkGrp>\n",
      "</place>\n",
      "</listPlace>\n",
      "<list>\n",
      "<item><name>Documentation Campaign (in Prague)</name><linkGrp>\n",
      "<link target=\"https://portal.ehri-project.eu/keywords/terezin-terms-keyword-jmp-657\" type=\"normal\"/>\n",
      "</linkGrp></item>\n",
      "<item><name>Camp inmates</name><linkGrp>\n",
      "<link target=\"https://portal.ehri-project.eu/keywords/ehri_terms-483\" type=\"normal\"/>\n",
      "</linkGrp></item>\n",
      "<item><name>Camps</name><linkGrp>\n",
      "<link target=\"https://portal.ehri-project.eu/keywords/ehri_terms-567\" type=\"normal\"/>\n",
      "</linkGrp></item>\n",
      "<item><name>Forced labour</name><linkGrp>\n",
      "<link target=\"https://portal.ehri-project.eu/keywords/ehri_terms-556\" type=\"normal\"/>\n",
      "</linkGrp></item>\n",
      "<item><name>Transports from Terezín</name><linkGrp>\n",
      "<link target=\"https://portal.ehri-project.eu/keywords/terezin-terms-keyword-jmp-267\" type=\"normal\"/>\n",
      "</linkGrp></item>\n",
      "<item><name>Deportation trains</name><linkGrp>\n",
      "<link target=\"https://portal.ehri-project.eu/keywords/ehri_terms-522\" type=\"normal\"/>\n",
      "</linkGrp></item>\n",
      "<item><name>Food and eating</name><linkGrp>\n",
      "<link target=\"https://portal.ehri-project.eu/keywords/ehri_terms-832\" type=\"normal\"/>\n",
      "</linkGrp></item>\n",
      "<item><name>Men</name><linkGrp>\n",
      "<link target=\"https://portal.ehri-project.eu/keywords/ehri_terms-826\" type=\"normal\"/>\n",
      "</linkGrp></item>\n",
      "<item><name>Hunger</name><linkGrp>\n",
      "<link target=\"https://portal.ehri-project.eu/keywords/ehri_terms-569\" type=\"normal\"/>\n",
      "</linkGrp></item>\n",
      "<item><name>Death</name><linkGrp>\n",
      "<link target=\"https://portal.ehri-project.eu/keywords/ehri_terms-745\" type=\"normal\"/>\n",
      "</linkGrp></item>\n",
      "<item><name>Diseases</name><linkGrp>\n",
      "<link target=\"https://portal.ehri-project.eu/keywords/ehri_terms-292\" type=\"normal\"/>\n",
      "</linkGrp></item>\n",
      "<item xml:id=\"ehri_et_nationalities_hungarians\"><name>Hungarians (ascribed\n",
      "              nationality)</name></item>\n",
      "<item><name>Housing</name><linkGrp>\n",
      "<link target=\"https://portal.ehri-project.eu/keywords/ehri_terms-837\" type=\"normal\"/>\n",
      "</linkGrp></item>\n",
      "<item><name>Factories</name><linkGrp>\n",
      "<link target=\"https://portal.ehri-project.eu/keywords/ehri_terms-929\" type=\"normal\"/>\n",
      "</linkGrp></item>\n",
      "<item><name>Roll calls</name><linkGrp>\n",
      "<link target=\"https://portal.ehri-project.eu/keywords/ehri_terms-487\" type=\"normal\"/>\n",
      "</linkGrp></item>\n",
      "<item><name>Physicians</name><linkGrp>\n",
      "<link target=\"https://portal.ehri-project.eu/keywords/ehri_terms-287\" type=\"normal\"/>\n",
      "</linkGrp></item>\n",
      "<item><name>Clothings</name><linkGrp>\n",
      "<link target=\"https://portal.ehri-project.eu/keywords/ehri_terms-836\" type=\"normal\"/>\n",
      "</linkGrp></item>\n",
      "<item><name>Kapos</name><linkGrp>\n",
      "<link target=\"https://portal.ehri-project.eu/keywords/ehri_terms-485\" type=\"normal\"/>\n",
      "</linkGrp></item>\n",
      "<item><name>Aryan</name><linkGrp>\n",
      "<link target=\"https://portal.ehri-project.eu/keywords/ehri_terms-373\" type=\"normal\"/>\n",
      "</linkGrp><note><p>A racist term refering to people of nordic origin.</p></note></item>\n",
      "<item><name>Typhus</name><linkGrp>\n",
      "<link target=\"https://portal.ehri-project.eu/keywords/ehri_terms-493\" type=\"normal\"/>\n",
      "</linkGrp></item>\n",
      "<item><name>Camp hospitals</name><linkGrp>\n",
      "<link target=\"https://portal.ehri-project.eu/keywords/ehri_terms-491\" type=\"normal\"/>\n",
      "</linkGrp></item>\n",
      "<item><name>Living conditions</name><linkGrp>\n",
      "<link target=\"https://portal.ehri-project.eu/keywords/ehri_terms-831\" type=\"normal\"/>\n",
      "</linkGrp></item>\n",
      "<item><name>Hospitals and Clinics</name><linkGrp>\n",
      "<link target=\"https://portal.ehri-project.eu/keywords/ehri_terms-282\" type=\"normal\"/>\n",
      "</linkGrp></item>\n",
      "<item><name>Lice</name><linkGrp>\n",
      "<link target=\"https://portal.ehri-project.eu/keywords/terezin-terms-keyword-jmp-213\" type=\"normal\"/>\n",
      "</linkGrp></item>\n",
      "<item><name>Evacuation</name><linkGrp>\n",
      "<link target=\"https://portal.ehri-project.eu/keywords/ehri_terms-623\" type=\"normal\"/>\n",
      "</linkGrp></item>\n",
      "<item><name>Air-raids</name><linkGrp>\n",
      "<link target=\"https://portal.ehri-project.eu/keywords/ehri_terms-1105\" type=\"normal\"/>\n",
      "</linkGrp></item>\n",
      "<item><name>Allies</name><linkGrp>\n",
      "<link target=\"https://portal.ehri-project.eu/keywords/ehri_terms-1029\" type=\"normal\"/>\n",
      "</linkGrp></item>\n",
      "<item><name>Escape</name><linkGrp>\n",
      "<link target=\"https://portal.ehri-project.eu/keywords/ehri_terms-204\" type=\"normal\"/>\n",
      "</linkGrp></item>\n",
      "<item><name>Liberation</name><linkGrp>\n",
      "<link target=\"https://portal.ehri-project.eu/keywords/ehri_terms-573\" type=\"normal\"/>\n",
      "</linkGrp></item>\n",
      "</list>\n",
      "<listPerson>\n",
      "<person xml:id=\"ehri_et_schmiedt_alexander\">\n",
      "<persName>Schmiedt, Alexander</persName>\n",
      "<note><p>1921–?</p><p>Later name Shlomo Schmiedt. Before the war he lived in Prague. In\n",
      "                1942 he was deported to the Theresienstadt (Terezín) ghetto, from which he was sent\n",
      "                in autumn 1944 to Auschwitz-Birkenau. After the war he was one of the important\n",
      "                co-workers of the Documentation campaign (Dokumentační akce). Later Schmiedt\n",
      "                emigrated to Israel.</p></note>\n",
      "</person>\n",
      "<person>\n",
      "<persName>Lindenbaum, Max (* 18.5.1914)</persName>\n",
      "<linkGrp>\n",
      "<link target=\"https://portal.ehri-project.eu/authorities/terezin-victims-person-iti-1613340\" type=\"normal\"/>\n",
      "</linkGrp>\n",
      "</person>\n",
      "<person>\n",
      "<persName>Himmler, Heinrich</persName>\n",
      "<linkGrp>\n",
      "<link target=\"https://portal.ehri-project.eu/authorities/ehri_pers-000181\" type=\"normal\"/>\n",
      "</linkGrp>\n",
      "<note>\n",
      "<p>07/10/1900 23/05/1945</p>\n",
      "<p>Various positions, most influential: Reichsführer SS (RFSS), head of the Deutsche\n",
      "                Polizei (German police), directly subordinated to Hitler. Also: \"Reichskommissar für\n",
      "                die Festigung Deutschen Volkstums\" (RKF) for the Occupied Eastern Territories, since\n",
      "                25 Aug 1943 also Minister of the Interior, and since 1944 additionally commander of\n",
      "                the reserve army (Befehlshaber des Ersatzheeres).</p>\n",
      "</note>\n",
      "</person>\n",
      "<person xml:id=\"ehri_et_kratkova_marta\">\n",
      "<persName>Kratková, Marta</persName>\n",
      "<note><p>1908–?</p><p>In summer 1943 she was deported to the Theresienstadt (Terezín)\n",
      "                ghetto, from where she was sent to Auschwitz-Birkenau. After the war she was one of\n",
      "                the co-workers of the Documentation campaign (Dokumentační akce). In 1949 Kratková\n",
      "                emigrated to Israel.</p></note>\n",
      "</person>\n",
      "<person xml:id=\"ehri_et_weinberger_robert\">\n",
      "<persName>Weinberger, Robert</persName>\n",
      "<note><p>1913–1977</p><p>Born in Brno. Active in the Zionist movement. He was deported\n",
      "                in 1941 to the Theresienstadt (Terezín) ghetto, where he was imprisoned until the\n",
      "                liberation. From autumn 1944 he became a member of the Jewish Council of the Elders.\n",
      "                After the war he was one of the co-workers of the Documentation campaign\n",
      "                (Dokumentační akce). When Zeev (Vilém) Shek left to Israel, Weiberger took over the\n",
      "                leading role in the project. In 1949 he and his wife have also decided to emigrate\n",
      "                to Israel.</p></note>\n",
      "</person>\n",
      "<person xml:id=\"ehri_et_shek_zeev\">\n",
      "<persName>Shek, Zeev</persName>\n",
      "<note><p>1920–1978</p><p>Born in Olomouc. Active in the Zionist movement, member of\n",
      "                Maccabi Hatzair. In 1943 he was deported to the Theresienstadt (Terezín) ghetto,\n",
      "                where he became one of the Hechalutz leaders. In autumn 1944 he was transported to\n",
      "                Auschwitz-Birkenau. After the war he became one of the main initiator of the\n",
      "                Documentation campaign (Dokumentační akce). In 1946 he emigrated to Palestine, where\n",
      "                he worked for the Ministry of Foreign Affairs and in the diplomatic services. In\n",
      "                1967 Sheck was appointed as the Israeli Ambassador in Vienna. In 1977 he was sent to\n",
      "                serve as the Israeli Ambassador in Rome, where he has died one year\n",
      "              later.</p></note>\n",
      "</person>\n",
      "</listPerson>\n",
      "<listOrg>\n",
      "<org>\n",
      "<orgName>SS-Totenkopfverbände</orgName>\n",
      "<linkGrp>\n",
      "<link target=\"https://portal.ehri-project.eu/authorities/ehri_cb-1092\" type=\"normal\"/>\n",
      "</linkGrp>\n",
      "<note><p>The SS-Hauptamt was founded in 1935, it was the Supreme Command of the\n",
      "                Allgemeine SS, SS-Verfügungstruppe and SS-Totenkopfverbände.</p></note>\n",
      "</org>\n",
      "</listOrg>\n",
      "</sourceDesc>\n",
      "</fileDesc>\n"
     ]
    }
   ],
   "source": [
    "print(soup.teiHeader.fileDesc)"
   ]
  },
  {
   "cell_type": "markdown",
   "metadata": {
    "collapsed": false
   },
   "source": [
    "Vidíme tagy s obdobnými názvy jako u dokumentu výše. Popis je však detailnější. Vidíme zde např. i seznamy osob či místních názvů, které se v dokumentu objevují. Nyní se podívejme na samotný textový obsah. Uložme si tuto část stromu do proměnné `textbody`."
   ]
  },
  {
   "cell_type": "code",
   "execution_count": 13,
   "metadata": {
    "ExecuteTime": {
     "end_time": "2024-01-26T22:47:10.971644Z",
     "start_time": "2024-01-26T22:47:10.939863Z"
    },
    "collapsed": false,
    "execution_time": 13
   },
   "outputs": [
    {
     "data": {
      "text/plain": [
       "<text>\n",
       "<body>\n",
       "<pb facs=\"EHRI-ET-JMP001_01.jpg\" n=\"1\"/>\n",
       "<p>In <placeName ref=\"http://www.geonames.org/3067696/prague.html\">Prague</placeName>, <date when=\"1921-08-24\">24. VIII. 1921</date></p>\n",
       "<p>Statement</p>\n",
       "<p><persName ref=\"#ehri_et_schmiedt_alexander\">Alex. <hi rend=\"letter-spacing: 2px\">Schmiedt</hi></persName>, born <date when=\"1921-01-27\">27. I. 1921</date>, former <term ref=\"https://portal.ehri-project.eu/keywords/ehri_terms-483\" type=\"subject\">prisoner</term> of the <term ref=\"https://portal.ehri-project.eu/keywords/ehri_terms-496\" type=\"subject\">conc. camps</term>\n",
       "<placeName ref=\"https://portal.ehri-project.eu/keywords/ehri_camps-225\" type=\"camp\">Kaufering</placeName> III, <placeName ref=\"https://portal.ehri-project.eu/keywords/ehri_camps-230\" type=\"camp\">Türkheim</placeName>, and <placeName ref=\"https://portal.ehri-project.eu/keywords/ehri_camps-177\" type=\"camp\">Dachau</placeName>. <placeName ref=\"http://www.geonames.org/3067696/prague.html\">Praha\n",
       "          II.</placeName>, <placeName ref=\"http://www.geonames.org/3067696/prague.html\">Biskupská</placeName> 5, Jewish nationality, profession clerk.</p>\n",
       "<p>From <date when=\"1942-07\">July 1942</date> to the end of <date when=\"1944-09\">September\n",
       "          1944</date> I was in <placeName ref=\"https://portal.ehri-project.eu/keywords/ehri_ghettos-449\" type=\"ghetto\">Theresienstadt</placeName>. I went on the first of the <term ref=\"https://portal.ehri-project.eu/keywords/ehri_terms-556\" type=\"subject\">labor</term>\n",
       "<term ref=\"https://portal.ehri-project.eu/keywords/terezin-terms-keyword-jmp-267\" type=\"subject\">transports to</term>\n",
       "<placeName ref=\"https://portal.ehri-project.eu/keywords/ehri_camps-2\" type=\"camp\">Auschwitz</placeName>, where I spent 5 days. On <date when=\"1944-10-05\">October\n",
       "          5th</date>, we were stuffed into <term ref=\"https://portal.ehri-project.eu/keywords/ehri_terms-522\" type=\"subject\">cattle cars</term> and went\n",
       "        through <placeName ref=\"http://www.geonames.org/3069011/olomouc.html\">Olomouc</placeName>,\n",
       "          <placeName ref=\"http://www.geonames.org/2761369/vienna.html\">Vienna</placeName>, and\n",
       "          <placeName ref=\"http://www.geonames.org/2766824/salzburg.html\">Salzburg</placeName> to\n",
       "          <placeName ref=\"https://portal.ehri-project.eu/keywords/ehri_camps-225\">Kaufering</placeName>. The journey took 3 days and we had a 1½ kg loaf of <term ref=\"https://portal.ehri-project.eu/keywords/ehri_terms-832\" type=\"subject\">bread</term>,\n",
       "        10 dkg of <term ref=\"https://portal.ehri-project.eu/keywords/ehri_terms-832\" type=\"subject\">margarine</term> and 10 dkg of <term ref=\"https://portal.ehri-project.eu/keywords/ehri_terms-832\" type=\"subject\">salami</term>.\n",
       "        But we were happy to be leaving terrible <placeName ref=\"https://portal.ehri-project.eu/keywords/ehri_camps-2\" type=\"camp\">Auschwitz</placeName> behind. At the <placeName ref=\"https://portal.ehri-project.eu/keywords/ehri_camps-225\">Kaufering</placeName> train\n",
       "        station, our <term ref=\"https://portal.ehri-project.eu/keywords/terezin-terms-keyword-jmp-267\" type=\"subject\">transport</term> (about 1,500 <term ref=\"https://portal.ehri-project.eu/keywords/ehri_terms-826\" type=\"subject\">men</term>\n",
       "          from <placeName ref=\"https://portal.ehri-project.eu/keywords/ehri_ghettos-449\" type=\"ghetto\">Theresienstadt</placeName>) was divided and I arrived together with about\n",
       "        500 <term ref=\"https://portal.ehri-project.eu/keywords/ehri_terms-826\" type=\"subject\">men</term> to <q><placeName ref=\"https://portal.ehri-project.eu/keywords/ehri_camps-226\" type=\"camp\">3rd camp</placeName></q>. The first 2-3 weeks it was bearable. There wasn’t\n",
       "        a lot of <term ref=\"https://portal.ehri-project.eu/keywords/ehri_terms-832\" type=\"subject\">food</term>, but we still had a certain amount of bodily strength, and therefore we\n",
       "        weren’t that <term ref=\"https://portal.ehri-project.eu/keywords/ehri_terms-569\" type=\"subject\">starving</term>. But with the\n",
       "        increasingly cold weather the <term ref=\"https://portal.ehri-project.eu/keywords/ehri_terms-832\" type=\"subject\">food</term>\n",
       "        rations got smaller and smaller and in <date when=\"1944-11\">November</date> our first\n",
       "        friend, <persName ref=\"https://portal.ehri-project.eu/authorities/terezin-victims-person-iti-1613340\" type=\"victim\">Meir Lindenbaum</persName>, <term ref=\"https://portal.ehri-project.eu/keywords/ehri_terms-745\" type=\"subject\">died</term>.\n",
       "        After that, the chain of <term ref=\"https://portal.ehri-project.eu/keywords/ehri_terms-292\" type=\"subject\">illnesses</term>, misery, and <term ref=\"https://portal.ehri-project.eu/keywords/ehri_terms-745\" type=\"subject\">death</term>\n",
       "        was never broken. The <term ref=\"https://portal.ehri-project.eu/keywords/ehri_terms-508\" type=\"subject\">camp</term> contained about\n",
       "        1,800 <term ref=\"https://portal.ehri-project.eu/keywords/ehri_terms-826\" type=\"subject\">men</term>, mostly <term ref=\"#ehri_et_nationalities_hungarians\" type=\"subject\">Hungarian</term> Jews, and you were basically lost if you couldn’t speak Hungarian. We\n",
       "          <term ref=\"https://portal.ehri-project.eu/keywords/ehri_terms-837\" type=\"subject\">lived</term> in the so-called <q><foreign xml:lang=\"de\">Erdbunker</foreign></q> – long,\n",
       "        underground <term ref=\"https://portal.ehri-project.eu/keywords/ehri_terms-837\" type=\"subject\">buildings</term> with a single window, two rows of boards for sleeping, and\n",
       "        a stove and a chimney in the middle. Every <term ref=\"https://portal.ehri-project.eu/keywords/ehri_terms-483\" type=\"subject\">prisoner</term> had a blanket, a bowl, and a spoon. I <term ref=\"https://portal.ehri-project.eu/keywords/ehri_terms-556\" type=\"subject\">worked</term>\n",
       "        in the so-called <q><foreign xml:lang=\"de\">Holzman</foreign></q>\n",
       "<term ref=\"https://portal.ehri-project.eu/keywords/ehri_terms-556\" type=\"subject\">commando</term> digging in the forest. After several weeks of <term ref=\"https://portal.ehri-project.eu/keywords/ehri_terms-556\" type=\"subject\">work</term>,\n",
       "        most of my friends had feet covered in sores and frostbite, and could barely drag themselves\n",
       "        to their <term ref=\"https://portal.ehri-project.eu/keywords/ehri_terms-556\" type=\"subject\">workplace</term>. This was the construction of an enormous munitions <term ref=\"https://portal.ehri-project.eu/keywords/ehri_terms-929\" type=\"subject\">plant</term>,\n",
       "        in fact of a whole town hidden in the woods. The forest was about 2 km away from our <term ref=\"https://portal.ehri-project.eu/keywords/ehri_terms-508\" type=\"subject\">camp</term>.\n",
       "        In the first few months, one had to <term ref=\"https://portal.ehri-project.eu/keywords/ehri_terms-556\" type=\"subject\">work</term>\n",
       "        even if one had open, festering sores and a high <term ref=\"https://portal.ehri-project.eu/keywords/ehri_terms-292\" type=\"subject\">fever</term>.\n",
       "        Every day they would bring back from the <term ref=\"https://portal.ehri-project.eu/keywords/ehri_terms-556\" type=\"subject\">commandos</term> the <term ref=\"https://portal.ehri-project.eu/keywords/ehri_terms-745\" type=\"subject\">bodies</term> of friends who had <term ref=\"https://portal.ehri-project.eu/keywords/ehri_terms-745\" type=\"subject\">died</term>\n",
       "          while <term ref=\"https://portal.ehri-project.eu/keywords/ehri_terms-556\" type=\"subject\">working</term>. Later, the <term ref=\"https://portal.ehri-project.eu/keywords/ehri_terms-292\" type=\"subject\">sick\n",
       "          people</term>’s situation improved slightly, but the <term ref=\"https://portal.ehri-project.eu/keywords/ehri_terms-832\" type=\"subject\">food</term>\n",
       "        got worse. In the beginning, we were given about 37 dkg of <term ref=\"https://portal.ehri-project.eu/keywords/ehri_terms-832\" type=\"subject\">bread</term>\n",
       "        per day, <q><foreign xml:lang=\"de\">Zulags</foreign></q> (2 dkg of <term ref=\"https://portal.ehri-project.eu/keywords/ehri_terms-832\" type=\"subject\">margarine</term>, or a slice of <term ref=\"https://portal.ehri-project.eu/keywords/ehri_terms-832\" type=\"subject\">salami</term>,\n",
       "        a piece of <term ref=\"https://portal.ehri-project.eu/keywords/ehri_terms-832\" type=\"subject\">cheese</term>, a pinch of <term ref=\"https://portal.ehri-project.eu/keywords/ehri_terms-832\" type=\"subject\">butter</term>,\n",
       "        a spoonful of <term ref=\"https://portal.ehri-project.eu/keywords/ehri_terms-832\" type=\"subject\">marmalade</term> or synthetic <term ref=\"https://portal.ehri-project.eu/keywords/ehri_terms-832\" type=\"subject\">honey</term>),\n",
       "        and a liter of watery <term ref=\"https://portal.ehri-project.eu/keywords/ehri_terms-832\" type=\"subject\">soup</term> in the evening. <term ref=\"https://portal.ehri-project.eu/keywords/ehri_terms-556\" type=\"subject\">Workers</term>\n",
       "        were also given about 20 dkg of <term ref=\"https://portal.ehri-project.eu/keywords/ehri_terms-832\" type=\"subject\">bread</term>\n",
       "          with <term ref=\"https://portal.ehri-project.eu/keywords/ehri_terms-832\" type=\"subject\">margarine</term> and warm water (<term ref=\"https://portal.ehri-project.eu/keywords/ehri_terms-832\" type=\"subject\">soup</term>)\n",
       "        at noon at the place where we <term ref=\"https://portal.ehri-project.eu/keywords/ehri_terms-556\" type=\"subject\">worked</term>.\n",
       "        In the end, the extra <term ref=\"https://portal.ehri-project.eu/keywords/ehri_terms-832\" type=\"subject\">food</term> for <term ref=\"https://portal.ehri-project.eu/keywords/ehri_terms-556\" type=\"subject\">workers</term>\n",
       "        was cut and the portion of <term ref=\"https://portal.ehri-project.eu/keywords/ehri_terms-832\" type=\"subject\">bread</term>\n",
       "        fluctuated between 15-25 dkg per day. The workday went like this: alarm at 4:45 in the\n",
       "        morning, <term ref=\"https://portal.ehri-project.eu/keywords/ehri_terms-487\" type=\"subject\">roll call</term> at 5:30 in the morning, 7:00 leave for <term ref=\"https://portal.ehri-project.eu/keywords/ehri_terms-556\" type=\"subject\">work</term>,\n",
       "        at 6:00 in the evening return from the <term ref=\"https://portal.ehri-project.eu/keywords/ehri_terms-556\" type=\"subject\">commando</term>, <term ref=\"https://portal.ehri-project.eu/keywords/ehri_terms-487\" type=\"subject\">roll call</term>, get in line in front of the kitchen. Lights were turned\n",
       "        off in the <q>bunkers</q> at 9:00 at night. This was the schedule and the <term ref=\"https://portal.ehri-project.eu/keywords/ehri_terms-832\" type=\"subject\">food</term>\n",
       "        was a regular <q><term ref=\"https://portal.ehri-project.eu/keywords/ehri_terms-483\" type=\"subject\">häftling</term></q>. The <term ref=\"https://portal.ehri-project.eu/keywords/ehri_terms-477\" type=\"subject\">camp</term>’s\n",
       "        block staff, <term ref=\"https://portal.ehri-project.eu/keywords/ehri_terms-287\" type=\"subject\">medical</term> staff, and others had significant privileges in terms of\n",
       "          the <term ref=\"https://portal.ehri-project.eu/keywords/ehri_terms-832\" type=\"subject\">food</term> they were given, as well as at their <term ref=\"https://portal.ehri-project.eu/keywords/ehri_terms-556\" type=\"subject\">work</term>,\n",
       "          <term ref=\"https://portal.ehri-project.eu/keywords/ehri_terms-837\" type=\"subject\">lodgings</term>, and the <term ref=\"https://portal.ehri-project.eu/keywords/ehri_terms-836\" type=\"subject\">clothes</term> they received.\n",
       "        The <q><distinct type=\"foreign\">Lägerältester</distinct></q>, his representative, and the\n",
       "        leading <term ref=\"https://portal.ehri-project.eu/keywords/ehri_terms-485\" type=\"subject\">capos</term> were <q><term ref=\"https://portal.ehri-project.eu/keywords/ehri_terms-373\" type=\"subject\">aryans</term></q>. They\n",
       "        were <term ref=\"https://portal.ehri-project.eu/keywords/ehri_terms-837\" type=\"subject\">housed</term> separately and the kitchens prepared food especially for them. Like\n",
       "        everywhere else, people were afraid of <term ref=\"https://portal.ehri-project.eu/keywords/ehri_terms-292\" type=\"subject\">infectious</term>\n",
       "<term ref=\"https://portal.ehri-project.eu/keywords/ehri_terms-292\" type=\"subject\">diseases</term>, <pb facs=\"EHRI-ET-JMP001_02.jpg\" n=\"2\"/> especially spotted <term ref=\"https://portal.ehri-project.eu/keywords/ehri_terms-493\" type=\"subject\">typhus</term>.\n",
       "        The gravely <term ref=\"https://portal.ehri-project.eu/keywords/ehri_terms-292\" type=\"subject\">ill</term> were transported to the <q><term ref=\"https://portal.ehri-project.eu/keywords/ehri_terms-491\" type=\"subject\">Krankenlager</term></q>. All of us knew that there was very little hope of returning\n",
       "        from there. Most of the <term ref=\"https://portal.ehri-project.eu/keywords/ehri_terms-292\" type=\"subject\">sick</term> were from the <q>Moll</q>\n",
       "<term ref=\"https://portal.ehri-project.eu/keywords/ehri_terms-556\" type=\"subject\">commando</term>, where <term ref=\"https://portal.ehri-project.eu/keywords/ehri_terms-556\" type=\"subject\">working</term> conditions were unbearable. After a commute of 1½ hours, we\n",
       "          <term ref=\"https://portal.ehri-project.eu/keywords/ehri_terms-556\" type=\"subject\">worked</term> for 12 hours with a half-hour break and then once again the 1½ hour long\n",
       "        commute back <q>home</q>. <term ref=\"https://portal.ehri-project.eu/keywords/ehri_terms-556\" type=\"subject\">Work</term> was hard (carrying bags of cement, laying cement, etc.) and the\n",
       "        only <term ref=\"https://portal.ehri-project.eu/keywords/ehri_terms-832\" type=\"subject\">food</term> we received was a bowl of cold <q><term ref=\"https://portal.ehri-project.eu/keywords/ehri_terms-832\" type=\"subject\">tea</term></q> made from grass. The strongest of us didn’t last longer than 3 weeks. Many\n",
       "        of our best <term ref=\"https://portal.ehri-project.eu/keywords/ehri_terms-483\" type=\"subject\">people</term>, mainly from\n",
       "        the <placeName ref=\"https://portal.ehri-project.eu/keywords/ehri_camps-224\" type=\"camp\">1st\n",
       "          camp</placeName>, lost their lives there. Out of the 1,500 <term ref=\"https://portal.ehri-project.eu/keywords/ehri_terms-826\" type=\"subject\">men</term> who\n",
       "        came to the <placeName ref=\"https://portal.ehri-project.eu/keywords/ehri_camps-225\" type=\"camp\">Kaufering</placeName>\n",
       "<term ref=\"https://portal.ehri-project.eu/keywords/ehri_terms-567\" type=\"subject\">camps</term>, in my opinion, 40-50 returned. On <date when=\"1945-03-08\">March 8th</date>,\n",
       "        a transport left from the <placeName ref=\"https://portal.ehri-project.eu/keywords/ehri_camps-226\" type=\"camp\">3rd\n",
       "          camp</placeName> to <placeName ref=\"https://portal.ehri-project.eu/keywords/ehri_camps-230\" type=\"camp\">Türkheim</placeName> (<placeName ref=\"https://portal.ehri-project.eu/keywords/ehri_camps-229\" type=\"camp\">5th\n",
       "          camp</placeName>) <note type=\"gloss\">Kaufering - Lager V was Utting, Lager VI was\n",
       "          Türkheim</note>. I was also slated to be transported and I was happy because I told myself\n",
       "        that nowhere could be worse than <placeName ref=\"https://portal.ehri-project.eu/keywords/ehri_camps-225\" type=\"camp\">Kaufering</placeName>. For\n",
       "        the first few days I regretted it because we were so <term ref=\"https://portal.ehri-project.eu/keywords/ehri_terms-569\" type=\"subject\">hungry</term>, but the <term ref=\"https://portal.ehri-project.eu/keywords/ehri_terms-831\" type=\"subject\">conditions</term> soon improved and during the last weeks we received peeled <term ref=\"https://portal.ehri-project.eu/keywords/ehri_terms-832\" type=\"subject\">potatoes</term> every day – the most ideal <term ref=\"https://portal.ehri-project.eu/keywords/ehri_terms-496\" type=\"subject\">camp</term>\n",
       "<term ref=\"https://portal.ehri-project.eu/keywords/ehri_terms-832\" type=\"subject\">food</term>, not only because it filled one up better than <term ref=\"https://portal.ehri-project.eu/keywords/ehri_terms-832\" type=\"subject\">soup</term>,\n",
       "        but it contained on the side <term ref=\"https://portal.ehri-project.eu/keywords/ehri_terms-832\" type=\"subject\">potato\n",
       "          peels</term>, whole bowls of which, with a bit of luck and impertinence, could sometimes\n",
       "        be collected from the <q>capitalists</q>. I <term ref=\"https://portal.ehri-project.eu/keywords/ehri_terms-556\" type=\"subject\">worked</term>\n",
       "        during the the first three weeks in <placeName ref=\"https://portal.ehri-project.eu/keywords/ehri_camps-230\" type=\"camp\">Türkheim</placeName> – unlike in other <term ref=\"https://portal.ehri-project.eu/keywords/ehri_terms-496\" type=\"subject\">camps</term>,\n",
       "        we were guarded only by <q><orgName ref=\"https://portal.ehri-project.eu/authorities/ehri_cb-1092\">Death’s\n",
       "          Headers</orgName></q>, and, when we were lucky, Czechs, of whom there were many. Then I\n",
       "        became so weak and exhausted that the <term ref=\"https://portal.ehri-project.eu/keywords/ehri_terms-287\" type=\"subject\">doctor</term>\n",
       "        pronounced me a <q><term ref=\"https://portal.ehri-project.eu/keywords/ehri_terms-292\" type=\"subject\">sick person</term></q> and sent me to the <q><term ref=\"https://portal.ehri-project.eu/keywords/ehri_terms-282\" type=\"subject\">krankenblock</term></q>. An epidemic of spotted <term ref=\"https://portal.ehri-project.eu/keywords/ehri_terms-493\" type=\"subject\">typhus</term>\n",
       "        broke out in the <term ref=\"https://portal.ehri-project.eu/keywords/ehri_terms-508\" type=\"subject\">camp</term> at the end of <date when=\"1945-03\">March</date>. The number of\n",
       "        those <term ref=\"https://portal.ehri-project.eu/keywords/ehri_terms-292\" type=\"subject\">infected</term> rose every day at an alarming rate and in the end the <term ref=\"https://portal.ehri-project.eu/keywords/ehri_terms-287\" type=\"subject\">doctors</term>\n",
       "        stopped doing check-ups and marched whoever had a fever of over 38 degrees straight to the\n",
       "          <term ref=\"https://portal.ehri-project.eu/keywords/ehri_terms-493\" type=\"subject\">typhus</term> ward. I was suffering from horrible <term ref=\"https://portal.ehri-project.eu/keywords/ehri_terms-292\" type=\"subject\">diarrhea</term>, and since I also had a <term ref=\"https://portal.ehri-project.eu/keywords/ehri_terms-292\" type=\"subject\">fever</term>,\n",
       "        I, too, was placed among the <q><term ref=\"https://portal.ehri-project.eu/keywords/ehri_terms-493\" type=\"subject\">typhus\n",
       "            sufferers</term></q>. Protests and screams didn’t help. I couldn’t escape from <term ref=\"https://portal.ehri-project.eu/keywords/ehri_terms-493\" type=\"subject\">typhus</term>\n",
       "        in any case. There was nothing one could do about the everpresent <term ref=\"https://portal.ehri-project.eu/keywords/terezin-terms-keyword-jmp-213\" type=\"subject\">lice</term>. I lay for 10 days with a high <term ref=\"https://portal.ehri-project.eu/keywords/ehri_terms-292\" type=\"subject\">fever</term>\n",
       "        and began to get better right when the order to <term ref=\"https://portal.ehri-project.eu/keywords/ehri_terms-623\" type=\"subject\">evacuate</term> the <term ref=\"https://portal.ehri-project.eu/keywords/ehri_terms-508\" type=\"subject\">camp</term>\n",
       "        was issued. Whoever could walk went on foot; we, the <term ref=\"https://portal.ehri-project.eu/keywords/ehri_terms-292\" type=\"subject\">sick</term>,\n",
       "        were driven by car to <placeName ref=\"https://portal.ehri-project.eu/keywords/ehri_camps-224\" type=\"camp\">Landsberg (1st\n",
       "          camp)</placeName>. I spent two horrible days there in indescribable squalor and with\n",
       "        barely any <term ref=\"https://portal.ehri-project.eu/keywords/ehri_terms-832\" type=\"subject\">food</term> (at the time I weighed about 45 kg, my height being 187 cm). Finally, this\n",
       "          <term ref=\"https://portal.ehri-project.eu/keywords/ehri_terms-567\" type=\"subject\">camp</term>, too, was <term ref=\"https://portal.ehri-project.eu/keywords/ehri_terms-623\" type=\"subject\">evacuated</term>, and\n",
       "        although I could barely stand, I walked, or rather crawled, to the train station near\n",
       "          <q>Holzmann</q>, which was situated about 3 kilometers away. There, they packed us onto\n",
       "          <term ref=\"https://portal.ehri-project.eu/keywords/ehri_terms-522\" type=\"subject\">cattle\n",
       "          cars</term>, and with the last of my strength I managed to get a spot in a covered car\n",
       "        because I was afraid of the rain of and <term ref=\"https://portal.ehri-project.eu/keywords/ehri_terms-1105\" type=\"subject\">air\n",
       "          strikes</term>. My fears were justified. We traveled a distance of 30 km from <placeName ref=\"https://portal.ehri-project.eu/keywords/ehri_camps-224\" type=\"camp\">Landsberg</placeName> to <placeName ref=\"https://portal.ehri-project.eu/keywords/ehri_camps-177\" type=\"camp\">Dachau</placeName> for two days and two nights. On the last day and night it rained hard\n",
       "        and constantly. We also experienced several serious <term ref=\"https://portal.ehri-project.eu/keywords/ehri_terms-1105\" type=\"subject\">air\n",
       "          strikes</term> – <term ref=\"https://portal.ehri-project.eu/keywords/ehri_terms-1029\" type=\"subject\">American</term> pilots probably thought we were a military transport. Many\n",
       "          <term ref=\"https://portal.ehri-project.eu/keywords/ehri_terms-204\" type=\"subject\">ran\n",
       "          away</term>; I was too weak and didn’t move from the car even when the shooting was at its\n",
       "        peak. About 3,000 of us left <placeName ref=\"https://portal.ehri-project.eu/keywords/ehri_camps-224\" type=\"camp\">Landsberg</placeName> and only about 1,000 of us made it to <placeName ref=\"https://portal.ehri-project.eu/keywords/ehri_camps-177\" type=\"camp\">Dachau</placeName> alive. About 200 <term ref=\"https://portal.ehri-project.eu/keywords/ehri_terms-204\" type=\"subject\">ran\n",
       "          away</term> during the journey. These figures are not exact and are just my own estimate.\n",
       "          In <placeName ref=\"https://portal.ehri-project.eu/keywords/ehri_camps-177\" type=\"camp\">Dachau</placeName>, we <pb facs=\"EHRI-ET-JMP001_03.jpg\" n=\"3\"/> went through the\n",
       "        disinfection process during the night of <date when=\"1945-04-28\">April 28th</date>, and then\n",
       "        I slept like the dead for 15 hours. I slept through the constant shelling of the town all\n",
       "        through the night and even when the fight reached the <term ref=\"https://portal.ehri-project.eu/keywords/ehri_terms-496\" type=\"subject\">camp</term>\n",
       "        the following morning. <term ref=\"https://portal.ehri-project.eu/keywords/ehri_terms-483\" type=\"subject\">Prisoners</term> participated in the fighting, and by the afternoon the\n",
       "          <placeName ref=\"http://www.geonames.org/6252001/united-states.html\" type=\"subject\">U.S.</placeName> flag flew over the main guard tower. Our <term ref=\"https://portal.ehri-project.eu/keywords/ehri_terms-573\" type=\"subject\">liberators</term> arrived not a moment too soon, for we later learned that <persName ref=\"https://portal.ehri-project.eu/authorities/ehri_pers-000181\">Himmler</persName> had\n",
       "        issued a special order to <term ref=\"https://portal.ehri-project.eu/keywords/ehri_terms-745\" type=\"subject\">shoot</term> all of the <placeName ref=\"https://portal.ehri-project.eu/keywords/ehri_camps-177\" type=\"camp\">Dachau</placeName>\n",
       "<term ref=\"https://portal.ehri-project.eu/keywords/ehri_terms-483\" type=\"subject\">prisoners</term> on the evening of <date when=\"1945-04-29\">April 29th</date>.</p>\n",
       "<p><persName ref=\"#ehri_et_schmiedt_alexander\">Alex. Schmiedt</persName></p>\n",
       "<p>Signature of witnesses:</p>\n",
       "<p><persName ref=\"#ehri_et_kratkova_marta\">Marta Kratková</persName></p>\n",
       "<p><persName ref=\"#ehri_et_weinberger_robert\">Robert Weinberger</persName></p>\n",
       "<p><term ref=\"https://portal.ehri-project.eu/keywords/terezin-terms-keyword-jmp-657\" type=\"subject\">Documentation campaign</term>: <persName ref=\"#ehri_et_shek_zeev\">Zeev\n",
       "          Scheck</persName></p>\n",
       "<p><date when=\"1945-08-21\">21. VIII. 1945</date></p>\n",
       "<p>On behalf of the archive: <persName ref=\"#ehri_et_schmiedt_alexander\">Alex\n",
       "          Schmiedt</persName></p>\n",
       "</body>\n",
       "</text>"
      ]
     },
     "execution_count": 81,
     "metadata": {},
     "output_type": "execute_result"
    }
   ],
   "source": [
    "textbody = soup.find(\"text\")\n",
    "textbody"
   ]
  },
  {
   "cell_type": "markdown",
   "metadata": {
    "collapsed": false
   },
   "source": [
    "V textu vidíme vyznačena jména řady osob."
   ]
  },
  {
   "cell_type": "code",
   "execution_count": 14,
   "metadata": {
    "ExecuteTime": {
     "end_time": "2024-01-26T22:51:54.309277Z",
     "start_time": "2024-01-26T22:51:54.299241Z"
    },
    "collapsed": false,
    "execution_time": 14
   },
   "outputs": [
    {
     "data": {
      "text/plain": [
       "[<persName ref=\"#ehri_et_schmiedt_alexander\">Alex. <hi rend=\"letter-spacing: 2px\">Schmiedt</hi></persName>,\n",
       " <persName ref=\"https://portal.ehri-project.eu/authorities/terezin-victims-person-iti-1613340\" type=\"victim\">Meir Lindenbaum</persName>,\n",
       " <persName ref=\"https://portal.ehri-project.eu/authorities/ehri_pers-000181\">Himmler</persName>,\n",
       " <persName ref=\"#ehri_et_schmiedt_alexander\">Alex. Schmiedt</persName>,\n",
       " <persName ref=\"#ehri_et_kratkova_marta\">Marta Kratková</persName>,\n",
       " <persName ref=\"#ehri_et_weinberger_robert\">Robert Weinberger</persName>,\n",
       " <persName ref=\"#ehri_et_shek_zeev\">Zeev\n",
       "           Scheck</persName>,\n",
       " <persName ref=\"#ehri_et_schmiedt_alexander\">Alex\n",
       "           Schmiedt</persName>]"
      ]
     },
     "execution_count": 87,
     "metadata": {},
     "output_type": "execute_result"
    }
   ],
   "source": [
    "persnames = textbody.find_all(\"persName\")\n",
    "persnames"
   ]
  },
  {
   "cell_type": "markdown",
   "metadata": {
    "collapsed": false
   },
   "source": [
    "U některých osob vidíme pod atributem \"ref\" buď URL adresy do dalších autoritativních databází nebo hashtagem vyznačené identifikátory."
   ]
  },
  {
   "cell_type": "code",
   "execution_count": 15,
   "metadata": {
    "ExecuteTime": {
     "end_time": "2024-01-26T22:55:19.020138Z",
     "start_time": "2024-01-26T22:55:19.009651Z"
    },
    "collapsed": false,
    "execution_time": 15
   },
   "outputs": [
    {
     "data": {
      "text/plain": [
       "['#ehri_et_schmiedt_alexander',\n",
       " 'https://portal.ehri-project.eu/authorities/terezin-victims-person-iti-1613340',\n",
       " 'https://portal.ehri-project.eu/authorities/ehri_pers-000181',\n",
       " '#ehri_et_schmiedt_alexander',\n",
       " '#ehri_et_kratkova_marta',\n",
       " '#ehri_et_weinberger_robert',\n",
       " '#ehri_et_shek_zeev',\n",
       " '#ehri_et_schmiedt_alexander']"
      ]
     },
     "execution_count": 89,
     "metadata": {},
     "output_type": "execute_result"
    }
   ],
   "source": [
    "[pers.get(\"ref\") for pers in persnames]"
   ]
  },
  {
   "cell_type": "markdown",
   "metadata": {
    "collapsed": false
   },
   "source": [
    "Obdobně získáme seznam místních názvů:"
   ]
  },
  {
   "cell_type": "code",
   "execution_count": 16,
   "metadata": {
    "ExecuteTime": {
     "end_time": "2024-01-26T22:56:15.372403Z",
     "start_time": "2024-01-26T22:56:15.365998Z"
    },
    "collapsed": false,
    "execution_time": 16
   },
   "outputs": [
    {
     "data": {
      "text/plain": [
       "[<placeName ref=\"http://www.geonames.org/3067696/prague.html\">Prague</placeName>,\n",
       " <placeName ref=\"https://portal.ehri-project.eu/keywords/ehri_camps-225\" type=\"camp\">Kaufering</placeName>,\n",
       " <placeName ref=\"https://portal.ehri-project.eu/keywords/ehri_camps-230\" type=\"camp\">Türkheim</placeName>,\n",
       " <placeName ref=\"https://portal.ehri-project.eu/keywords/ehri_camps-177\" type=\"camp\">Dachau</placeName>,\n",
       " <placeName ref=\"http://www.geonames.org/3067696/prague.html\">Praha\n",
       "           II.</placeName>,\n",
       " <placeName ref=\"http://www.geonames.org/3067696/prague.html\">Biskupská</placeName>,\n",
       " <placeName ref=\"https://portal.ehri-project.eu/keywords/ehri_ghettos-449\" type=\"ghetto\">Theresienstadt</placeName>,\n",
       " <placeName ref=\"https://portal.ehri-project.eu/keywords/ehri_camps-2\" type=\"camp\">Auschwitz</placeName>,\n",
       " <placeName ref=\"http://www.geonames.org/3069011/olomouc.html\">Olomouc</placeName>,\n",
       " <placeName ref=\"http://www.geonames.org/2761369/vienna.html\">Vienna</placeName>,\n",
       " <placeName ref=\"http://www.geonames.org/2766824/salzburg.html\">Salzburg</placeName>,\n",
       " <placeName ref=\"https://portal.ehri-project.eu/keywords/ehri_camps-225\">Kaufering</placeName>,\n",
       " <placeName ref=\"https://portal.ehri-project.eu/keywords/ehri_camps-2\" type=\"camp\">Auschwitz</placeName>,\n",
       " <placeName ref=\"https://portal.ehri-project.eu/keywords/ehri_camps-225\">Kaufering</placeName>,\n",
       " <placeName ref=\"https://portal.ehri-project.eu/keywords/ehri_ghettos-449\" type=\"ghetto\">Theresienstadt</placeName>,\n",
       " <placeName ref=\"https://portal.ehri-project.eu/keywords/ehri_camps-226\" type=\"camp\">3rd camp</placeName>,\n",
       " <placeName ref=\"https://portal.ehri-project.eu/keywords/ehri_camps-224\" type=\"camp\">1st\n",
       "           camp</placeName>,\n",
       " <placeName ref=\"https://portal.ehri-project.eu/keywords/ehri_camps-225\" type=\"camp\">Kaufering</placeName>,\n",
       " <placeName ref=\"https://portal.ehri-project.eu/keywords/ehri_camps-226\" type=\"camp\">3rd\n",
       "           camp</placeName>,\n",
       " <placeName ref=\"https://portal.ehri-project.eu/keywords/ehri_camps-230\" type=\"camp\">Türkheim</placeName>,\n",
       " <placeName ref=\"https://portal.ehri-project.eu/keywords/ehri_camps-229\" type=\"camp\">5th\n",
       "           camp</placeName>,\n",
       " <placeName ref=\"https://portal.ehri-project.eu/keywords/ehri_camps-225\" type=\"camp\">Kaufering</placeName>,\n",
       " <placeName ref=\"https://portal.ehri-project.eu/keywords/ehri_camps-230\" type=\"camp\">Türkheim</placeName>,\n",
       " <placeName ref=\"https://portal.ehri-project.eu/keywords/ehri_camps-224\" type=\"camp\">Landsberg (1st\n",
       "           camp)</placeName>,\n",
       " <placeName ref=\"https://portal.ehri-project.eu/keywords/ehri_camps-224\" type=\"camp\">Landsberg</placeName>,\n",
       " <placeName ref=\"https://portal.ehri-project.eu/keywords/ehri_camps-177\" type=\"camp\">Dachau</placeName>,\n",
       " <placeName ref=\"https://portal.ehri-project.eu/keywords/ehri_camps-224\" type=\"camp\">Landsberg</placeName>,\n",
       " <placeName ref=\"https://portal.ehri-project.eu/keywords/ehri_camps-177\" type=\"camp\">Dachau</placeName>,\n",
       " <placeName ref=\"https://portal.ehri-project.eu/keywords/ehri_camps-177\" type=\"camp\">Dachau</placeName>,\n",
       " <placeName ref=\"http://www.geonames.org/6252001/united-states.html\" type=\"subject\">U.S.</placeName>,\n",
       " <placeName ref=\"https://portal.ehri-project.eu/keywords/ehri_camps-177\" type=\"camp\">Dachau</placeName>]"
      ]
     },
     "execution_count": 91,
     "metadata": {},
     "output_type": "execute_result"
    }
   ],
   "source": [
    "placenames = textbody.find_all(\"placeName\")\n",
    "placenames"
   ]
  },
  {
   "cell_type": "markdown",
   "metadata": {
    "collapsed": false
   },
   "source": [
    "Místa jsou zpravidla klasifikována atributem \"typ\" na \"camp\", \"ghetto\" či např. \"subjekt\". V případě \"camp\" (koncentrační tábor) zde nalezneme URL odkaz do databáze koncentračních táborů dostupné [zde](https://portal.ehri-project.eu/vocabularies/ehri_camps). V případě jiných místních jmen je zde odkaz na platformu [GeoNames](https://www.geonames.org), se kterou jsme již pracovali v kapitole o websrapingu.    "
   ]
  },
  {
   "cell_type": "markdown",
   "metadata": {
    "collapsed": false
   },
   "source": [
    "V některých dokumentech se objevují např. mnohé datumy. V syrovém textu jsou naformátovaná nejrůznějším způsobem, ale v rámci atributu \"when\" uvnitř tagu jsou dostupná ve strojově čitelné podobě."
   ]
  },
  {
   "cell_type": "code",
   "execution_count": 17,
   "metadata": {
    "ExecuteTime": {
     "end_time": "2024-01-26T23:01:39.383077Z",
     "start_time": "2024-01-26T23:01:39.372951Z"
    },
    "collapsed": false,
    "execution_time": 17
   },
   "outputs": [
    {
     "data": {
      "text/plain": [
       "[<date when=\"1921-08-24\">24. VIII. 1921</date>,\n",
       " <date when=\"1921-01-27\">27. I. 1921</date>,\n",
       " <date when=\"1942-07\">July 1942</date>,\n",
       " <date when=\"1944-09\">September\n",
       "           1944</date>,\n",
       " <date when=\"1944-10-05\">October\n",
       "           5th</date>,\n",
       " <date when=\"1944-11\">November</date>,\n",
       " <date when=\"1945-03-08\">March 8th</date>,\n",
       " <date when=\"1945-03\">March</date>,\n",
       " <date when=\"1945-04-28\">April 28th</date>,\n",
       " <date when=\"1945-04-29\">April 29th</date>,\n",
       " <date when=\"1945-08-21\">21. VIII. 1945</date>]"
      ]
     },
     "execution_count": 92,
     "metadata": {},
     "output_type": "execute_result"
    }
   ],
   "source": [
    "dates = soup.find(\"text\").find_all(\"date\")\n",
    "dates"
   ]
  },
  {
   "cell_type": "code",
   "execution_count": 18,
   "metadata": {
    "ExecuteTime": {
     "end_time": "2024-01-26T23:01:45.240419Z",
     "start_time": "2024-01-26T23:01:45.236939Z"
    },
    "collapsed": false,
    "execution_time": 18
   },
   "outputs": [
    {
     "data": {
      "text/plain": [
       "['1921-08-24',\n",
       " '1921-01-27',\n",
       " '1942-07',\n",
       " '1944-09',\n",
       " '1944-10-05',\n",
       " '1944-11',\n",
       " '1945-03-08',\n",
       " '1945-03',\n",
       " '1945-04-28',\n",
       " '1945-04-29',\n",
       " '1945-08-21']"
      ]
     },
     "execution_count": 93,
     "metadata": {},
     "output_type": "execute_result"
    }
   ],
   "source": [
    "# datumy ve strojově čitelné podobě:\n",
    "[date.get(\"when\") for date in dates]"
   ]
  },
  {
   "cell_type": "markdown",
   "metadata": {
    "collapsed": false
   },
   "source": [
    "Všechny tyto anotace mohou být použity k rozkrývání vztahů mezi dokumenty a nejrůznějším vizualizacím."
   ]
  },
  {
   "cell_type": "markdown",
   "metadata": {
    "collapsed": false
   },
   "source": [
    "### Antická literatura: anglické překlady řeckých textů a řecké originály\n",
    "\n",
    "Studium antiky obecně, a klasické řecké a latinské literatury zvláště, je dlouhodobě doménou, kde se digitální edice ve formě TEI-XML těší velké oblibě. V současnosti máme takto zpracovanou a volně dostupnou v zásadě veškerou antickou řeckou literaturu, a to díky projektům [Perseus Digital Library](https://www.perseus.tufts.edu/hopper/) a [First1KGreek Project](https://www.perseus.tufts.edu/hopper/), z nichž druhý je pokračováním prvého. Oba projekty průběžně udržují TEI-XML edice jimi zveřejňovaných textů na githubu [zde](https://github.com/PerseusDL/canonical-greekLit) a [zde](https://github.com/OpenGreekAndLatin/First1KGreek). Spolu s řeckými originály jsou v TEI-XML podobě zveřejňovány i anglické překlady.\n",
    "\n",
    "Podívejme se nyní řecký text Platónova dialogu *Eutyfrón*, patrně jednoho z nejstarších Platónových dialogů, která má relativně přímočarou strukturu: celý text dialogu je tvořen konverzací mezi Sókratem a Eutyfrónem, kteří spolu vedou debatu ohledně podstaty zbožnosti. Text dialogu načteme přímo z Githubu:"
   ]
  },
  {
   "cell_type": "code",
   "execution_count": 19,
   "metadata": {
    "ExecuteTime": {
     "end_time": "2024-01-27T00:25:30.939227Z",
     "start_time": "2024-01-27T00:25:30.862497Z"
    },
    "collapsed": false,
    "execution_time": 19
   },
   "outputs": [],
   "source": [
    "url = \"https://raw.githubusercontent.com/PerseusDL/canonical-greekLit/master/data/tlg0059/tlg001/tlg0059.tlg001.perseus-eng2.xml\"\n",
    "resp = requests.get(url)\n",
    "soup = BeautifulSoup(resp.text, features=\"xml\")"
   ]
  },
  {
   "cell_type": "markdown",
   "metadata": {
    "collapsed": false
   },
   "source": [
    "Přímá řeč je zachycena pomocí prvku `<said>`, jehož atribut \"who\" definuje řečníka. Díky tomu si můžeme celý dialog rozdělit snadno na slova pronesená Sókratem a slova pronesena Eutyfrónem, přičemž můžeme očekávat, že Platónova názorová pozice bude patrně spíše zachycena v Sókratových slovech."
   ]
  },
  {
   "cell_type": "code",
   "execution_count": 20,
   "metadata": {
    "ExecuteTime": {
     "end_time": "2024-01-27T00:34:10.350972Z",
     "start_time": "2024-01-27T00:34:10.337747Z"
    },
    "collapsed": false,
    "execution_time": 20
   },
   "outputs": [
    {
     "data": {
      "text/plain": [
       "117"
      ]
     },
     "execution_count": 125,
     "metadata": {},
     "output_type": "execute_result"
    }
   ],
   "source": [
    "said_socrates = [said for said in soup.find_all(\"said\") if said.get(\"who\")==\"#Socrates\"]\n",
    "len(said_socrates)"
   ]
  },
  {
   "cell_type": "code",
   "execution_count": 21,
   "metadata": {
    "ExecuteTime": {
     "end_time": "2024-01-27T00:35:33.192140Z",
     "start_time": "2024-01-27T00:35:33.183921Z"
    },
    "collapsed": false,
    "execution_time": 21
   },
   "outputs": [
    {
     "data": {
      "text/plain": [
       "[' Then, as it seems, the same things are hated and loved by the gods, and the same things would be dear and hateful to the gods.',\n",
       " ' And then the same things would be both holy and unholy, Euthyphro, according to this statement.',\n",
       " 'it would not be surprising if, in punishing your father as you are doing, you were performing an act that is pleasing to Zeus, but hateful to Cronus and Uranus, and pleasing to Hephaestus, but hateful to Hera, and so forth in respect to the other gods, if any disagree with any other about it.',\n",
       " 'or had done anything else whatever wrongfully, ought not to pay the penalty?',\n",
       " ' Yes, but do they acknowledge, Euthyphro, that they have done wrong and, although they acknowledge it, nevertheless say that they ought not to pay the penalty?']"
      ]
     },
     "execution_count": 132,
     "metadata": {},
     "output_type": "execute_result"
    }
   ],
   "source": [
    "# náhodný výběr Sókratových průpovědí\n",
    "said_socrates[40:45]"
   ]
  },
  {
   "cell_type": "markdown",
   "metadata": {
    "collapsed": false
   },
   "source": [
    "Samotná slova mluvčího se však nacházejí až za tagem `<label>`. Kód tedy ještě upravíme tak, abychom dostali pouze text průpovědi bez tohoto tagu."
   ]
  },
  {
   "cell_type": "code",
   "execution_count": 22,
   "metadata": {
    "ExecuteTime": {
     "end_time": "2024-01-27T00:35:18.166316Z",
     "start_time": "2024-01-27T00:35:18.158628Z"
    },
    "collapsed": false,
    "execution_time": 22
   },
   "outputs": [
    {
     "data": {
      "text/plain": [
       "[' Then, as it seems, the same things are hated and loved by the gods, and the same things would be dear and hateful to the gods.',\n",
       " ' And then the same things would be both holy and unholy, Euthyphro, according to this statement.',\n",
       " 'it would not be surprising if, in punishing your father as you are doing, you were performing an act that is pleasing to Zeus, but hateful to Cronus and Uranus, and pleasing to Hephaestus, but hateful to Hera, and so forth in respect to the other gods, if any disagree with any other about it.',\n",
       " 'or had done anything else whatever wrongfully, ought not to pay the penalty?',\n",
       " ' Yes, but do they acknowledge, Euthyphro, that they have done wrong and, although they acknowledge it, nevertheless say that they ought not to pay the penalty?']"
      ]
     },
     "execution_count": 130,
     "metadata": {},
     "output_type": "execute_result"
    }
   ],
   "source": [
    "said_socrates = [said.contents[-1] for said in soup.find_all(\"said\") if said.get(\"who\")==\"#Socrates\"]\n",
    "said_socrates[40:45]"
   ]
  },
  {
   "cell_type": "code",
   "execution_count": 23,
   "metadata": {
    "ExecuteTime": {
     "end_time": "2024-01-27T00:36:17.159826Z",
     "start_time": "2024-01-27T00:36:17.151699Z"
    },
    "collapsed": false,
    "execution_time": 23
   },
   "outputs": [
    {
     "data": {
      "text/plain": [
       "116"
      ]
     },
     "execution_count": 135,
     "metadata": {},
     "output_type": "execute_result"
    }
   ],
   "source": [
    "said_eutyphro = [said.contents[-1] for said in soup.find_all(\"said\") if said.get(\"who\")==\"#Euthyphro\"]\n",
    "len(said_eutyphro)"
   ]
  },
  {
   "cell_type": "code",
   "execution_count": 24,
   "metadata": {
    "collapsed": false,
    "execution_time": 24
   },
   "outputs": [],
   "source": []
  },
  {
   "cell_type": "markdown",
   "metadata": {
    "collapsed": false
   },
   "source": [
    "Může být zajímavé se podívat, jak je v této struktuře zachycen Platónův dialog *Symposion*. Jedná se totiž o dialog nepřímý, vnořený do vcelku komplexního narativního rámce. Dialog je vyprávěný postavou Apollodora v rozhovoru s nejmenovaným společníkem. Hlavní text dialogu je tedy do důsledku vzato přímou řečí, v rámci které se odehrávají další přímé řeči."
   ]
  },
  {
   "cell_type": "code",
   "execution_count": 25,
   "metadata": {
    "ExecuteTime": {
     "end_time": "2024-01-27T00:37:24.221817Z",
     "start_time": "2024-01-27T00:37:24.123048Z"
    },
    "collapsed": false,
    "execution_time": 25
   },
   "outputs": [],
   "source": [
    "url = \"https://raw.githubusercontent.com/PerseusDL/canonical-greekLit/master/data/tlg0059/tlg011/tlg0059.tlg011.perseus-eng2.xml\"\n",
    "resp = requests.get(url)\n",
    "soup = BeautifulSoup(resp.text, features=\"xml\")"
   ]
  },
  {
   "cell_type": "code",
   "execution_count": 26,
   "metadata": {
    "ExecuteTime": {
     "end_time": "2024-01-27T00:37:24.733016Z",
     "start_time": "2024-01-27T00:37:24.701215Z"
    },
    "collapsed": false,
    "execution_time": 26
   },
   "outputs": [
    {
     "data": {
      "text/plain": [
       "98"
      ]
     },
     "execution_count": 140,
     "metadata": {},
     "output_type": "execute_result"
    }
   ],
   "source": [
    "len(soup.find_all(\"said\"))"
   ]
  },
  {
   "cell_type": "code",
   "execution_count": 27,
   "metadata": {
    "ExecuteTime": {
     "end_time": "2024-01-27T00:39:40.518303Z",
     "start_time": "2024-01-27T00:39:40.510214Z"
    },
    "collapsed": false,
    "execution_time": 27
   },
   "outputs": [
    {
     "data": {
      "text/plain": [
       "['You must know it is many a year that Agathon has been away from home and country, and not yet three years that I have been consorting with Socrates and making it my daily care to know whatever he says or does.',\n",
       " ' From your point of view, I daresay, I seem a hapless creature, and I think your thought is true.  I, however, do not think it of you:  I know it for sure.',\n",
       " ' \\n         My dear sir, obviously it must be a mere crazy aberration in me, to hold this opinion of myself and of you all!',\n",
       " ' just as my friend told it to me.',\n",
       " 'but where is the man?']"
      ]
     },
     "execution_count": 146,
     "metadata": {},
     "output_type": "execute_result"
    }
   ],
   "source": [
    "said_apollodorus = [said.contents[-1].text for said in soup.find_all(\"said\") if said.get(\"who\")==\"#Apollodorus\"]\n",
    "said_apollodorus[:5]"
   ]
  },
  {
   "cell_type": "markdown",
   "metadata": {
    "collapsed": false
   },
   "source": [
    "Uvnitř těchto průpovědí se pak nachází text dialogu samotného, sestávající především z jednotlivých řečí na téma boha Eróta. Takto například získáme Faidrovu oslavnou řeč:"
   ]
  },
  {
   "cell_type": "code",
   "execution_count": 28,
   "metadata": {
    "ExecuteTime": {
     "end_time": "2024-01-27T00:43:34.702618Z",
     "start_time": "2024-01-27T00:43:34.693316Z"
    },
    "collapsed": false,
    "execution_time": 28
   },
   "outputs": [
    {
     "data": {
      "text/plain": [
       "['Of the most venerable are the honors of this god, and the proof of it is this:  parents of Love there are none, nor are any recorded in either prose or verse.  Hesiod says that Chaos came first into being—and thereafter roseBroad-breasted Earth, sure seat of all for aye,And Love.Hes. Theog. 116\\n     Acusilaus An Argive compiler of genealogies in the first part of the fifth century B.C. also agrees with Hesiod, saying that after Chaos were born these two, Earth and Love.  Parmenides says of Birth that she invented Love before all other gods. Parmenides fr. 132; Cf. Aristot. Met. 1.984b. \\nThus Love is by various authorities allowed to be of most venerable standing; and as most venerable, he is the cause of all our highest blessings.  I for my part am at a loss to say what greater blessing a man can have in earliest youth than an honorable lover, or a lover than an honorable favorite.  For the guiding principle we should choose for all our days, if we are minded to live a comely life, cannot be acquired either by kinship or office or wealth  or anything so well as by Love.  What shall I call this power?  The shame that we feel for shameful things, and ambition for what is noble; without which it is impossible for city or person to perform any high and noble deeds.  Let me then say that a man in love, should he be detected in some shameful act or in a cowardly submission to shameful treatment at another’s hands, would not feel half so much distress at anyone observing it, whether father or comrade or anyone in the world, as when his favorite did;  and in the selfsame way we see how the beloved is especially ashamed before his lovers when he is observed to be about some shameful business.  So that if we could somewise contrive to have a city or an army composed of lovers and their favorites,There was such a sacred band (ἱερὸς λόχος) at Thebes, which distinguished itself at Leuctra (371 B.C.). they could not be better citizens of their country than by thus refraining from all that is base\\n\\n in a mutual rivalry for honor; and such men as these, when fighting side by side, one might almost consider able to make even a little band victorious over all the world.',\n",
       " 'For a man in love would surely choose to have all the rest of the host rather than his favorite see him forsaking his station or flinging away his arms; sooner than this, he would prefer to die many deaths:  while, as for leaving his favorite in the lurch, or not succoring him in his peril, no man is such a craven that Love’s own influence cannot inspire him with a valor that makes him equal to the bravest born;  and without doubt what Homer calls a fury inspired Hom. Il. 10.482; Hom. Il. 15.262 by a god in certain heroes is the effect produced on lovers by Love’s peculiar power.\\n                 Furthermore, only such as are in love will consent to die for others; not merely men will do it, but women too.  Sufficient witness is borne to this statement before the people of Greece by Alcestis, daughter of Pelias, who alone was willing to die for her husband, though he had both father  and mother.  So high did her love exalt her over them in kindness, that they were proved alien to their son and but nominal relations; and when she achieved this deed, it was judged so noble by gods as well as men that, although among all the many doers of noble deeds they are few and soon counted to whom the gods have granted the privilege of having their souls sent up again from Hades, hers they thus restored in admiration of her act.  In this manner even the gods give special honor to zeal and courage in concerns of love.  But Orpheus, son of Oeagrus, they sent back with failure from Hades, showing him only a wraith of the woman for whom he came; her real self they would not bestow, for he was accounted to have gone upon a coward’s quest, too like the minstrel that he was, and to have lacked the spirit to die as Alcestis did for the sake of love, when he contrived the means of entering Hades alive.  Wherefore they laid upon him the penalty he deserved, and caused him to meet his death  at the hands of women:  whereas Achilles, son of Thetis, they honored and sent to his place in the Isles of the Blest,Pindar O. 2.78ff. (Hom. Od. 11.467ff., places him in Hades). because having learnt from his mother that he would die as surely as he slew Hector,Hom. Il. 18.96. but if he slew him not, would return home and end his days an aged man, he bravely chose to go and rescue his lover Patroclus,\\n             avenged him, and sought death not merely in his behalf but in haste to be joined with him whom death had taken.  For this the gods so highly admired him that they gave him distinguished honor, since he set so great a value on his lover.',\n",
       " 'And Aeschylus Aesch. Myrm. fr. 135-136. talks nonsense when he says that it was Achilles who was in love with Patroclus; for he excelled in beauty not Patroclus alone but assuredly all the other heroes, being still beardless and, moreover, much the younger, by Homer’s account. Hom. Il. 11.786.  For in truth  there is no sort of valor more respected by the gods than this which comes of love; yet they are even more admiring and delighted and beneficent when the beloved is fond of his lover than when the lover is fond of his favorite; since a lover, filled as he is with a god, surpasses his favorite in divinity.  This is the reason why they honored Achilles above Alcestis, giving him his abode in the Isles of the Blest.\\n                So there is my description of Love—that he is the most venerable and valuable of the gods, and that he has sovereign power to provide all virtue and happiness for men whether living or departed.']"
      ]
     },
     "execution_count": 151,
     "metadata": {},
     "output_type": "execute_result"
    }
   ],
   "source": [
    "[said.text for said in soup.find_all(\"said\") if said.get(\"who\")==\"#Phaedrus\"]"
   ]
  },
  {
   "cell_type": "markdown",
   "metadata": {
    "collapsed": false
   },
   "source": [
    "Podíváme-li se na příslušné místo před začátkem této řeči, můžeme zaznamenat, že Faidrova řeč začíná, aniž by byla průvodní Apollodorova řeč ukončena: \n",
    "```xml\n",
    "<p><said who=\"#Apollodorus\" rend=\"merge\">\n",
    "<milestone ed=\"P\" unit=\"para\"/>First then, as I said, he told me that the speech of Phaedrus began with points of this sort—that Love was a great god, among men and gods a marvel; and this appeared in many ways, but notably in his birth. <milestone unit=\"section\" resp=\"Stephanus\" n=\"178b\"/>\n",
    "<said who=\"#Phaedrus\" direct=\"false\">Of the most venerable are the honors of this god, and the proof of it is this:  parents of Love there are none, nor are any recorded in either prose or verse...\n",
    "```\n",
    "\n",
    "Také si zde povšimněme tagu `<milestone>` a jeho atributů, které vyznačují stránkování v rámci kritické edice, které standardně používáme i při citování z českého překladu."
   ]
  },
  {
   "cell_type": "markdown",
   "metadata": {
    "collapsed": false
   },
   "source": [
    "### Antická literatura: řecké originály\n",
    "\n",
    "Digitální edice řeckých originálů se v GitHub repozitoři projektu Perseus nachází ve stejných složkách jako výše použité anglické překlady. Tj. v případě dialogu *Eutyfrón: https://github.com/PerseusDL/canonical-greekLit/tree/master/data/tlg0059/tlg001. Všimněme si v této url adrese kódů \"tlg0059\" a \"tlg001\". \"tlg0059\" je standardní identifikátor Platóna napříč různými korpusu, a \"tlg001\" je taktéž standardní identifikátor dialogu *Eutyfrón* v rámci Platónových děl. Tyto identifikátory proto můžeme použít i jinde. Využijeme zde rozsáhlý automaticky anotovaný korpus řeckých antických textů zvaný GLAUx (k tomu viz [tento](https://aclanthology.org/2021.lchange-1.6/) průvodní text). \n",
    "\n",
    "Velká část klasických řeckých textů je nyní dostupná i ve formátu, který jde z jazykového hlediska více do detailu a nabízí texty důkladně morfologicky anotované (tzv. *treebanks* [[wikipedia](https://en.wikipedia.org/wiki/Treebank)]). Tím se v zásadě myslí, že jednotlivá slova jsou zde opatřena svým gramatickým určením a příslušný výraz je zde uveden i v základním tvaru, tak jak jej najdeme ve slovníku (např. veškerá podstatná jména jsou v nominativu singuláru apod.). Nejedná si již v pravém smyslu o digitální edice, neboť zde není věnována pozornost obecným metadatům, která lze snadno dohledat jinde. Ale technologie je v zásadě stejná jako výše.\n",
    "\n",
    "Podívejme se v této podobě opět na dialog Eutyfrón (povšimněme si číselného kódu v názvu souboru). Omezíme se však pouze na několik prvních vět samotného textu."
   ]
  },
  {
   "cell_type": "code",
   "execution_count": 29,
   "metadata": {
    "ExecuteTime": {
     "end_time": "2024-01-27T01:19:27.616807Z",
     "start_time": "2024-01-27T01:19:27.241452Z"
    },
    "collapsed": false,
    "execution_time": 29
   },
   "outputs": [],
   "source": [
    "url = \"https://raw.githubusercontent.com/perseids-publications/glaux-trees/master/public/xml/0059-001.xml\"\n",
    "resp = requests.get(url)\n",
    "soup = BeautifulSoup(resp.text, features=\"xml\")"
   ]
  },
  {
   "cell_type": "markdown",
   "metadata": {
    "collapsed": false
   },
   "source": [
    "V této podobě budou naši výchozí jednotkou jednotlivé věty. Ty z dokumentu snadno extrahujeme pomocí vyhledání všech výskytů tagu  `<sentences>`. Obratem si vypíšeme 3 jeho první výskyty."
   ]
  },
  {
   "cell_type": "code",
   "execution_count": 30,
   "metadata": {
    "ExecuteTime": {
     "end_time": "2024-01-27T01:19:28.082392Z",
     "start_time": "2024-01-27T01:19:28.071031Z"
    },
    "collapsed": false,
    "execution_time": 30
   },
   "outputs": [
    {
     "data": {
      "text/plain": [
       "[<sentence document_id=\"0059-001\" id=\"1\" subdoc=\"2\">\n",
       " <word form=\"τί\" head=\"5794848\" id=\"5794842\" lemma=\"τίς\" postag=\"a-s---na-\" relation=\"ADV\" speaker=\"#Εὐθύφρων\"/>\n",
       " <word form=\"νεώτερον\" head=\"5794842\" id=\"5794843\" lemma=\"νέος\" postag=\"a-s---nac\" relation=\"ATR\" speaker=\"#Εὐθύφρων\"/>\n",
       " <word form=\",\" head=\"5794842\" id=\"5794844\" lemma=\",\" postag=\"u--------\" relation=\"PUNCT\" speaker=\"#Εὐθύφρων\"/>\n",
       " <word form=\"ὦ\" head=\"5794846\" id=\"5794845\" lemma=\"ὦ\" postag=\"i--------\" relation=\"AuxZ\" speaker=\"#Εὐθύφρων\"/>\n",
       " <word form=\"Σώκρατες\" head=\"5794848\" id=\"5794846\" lemma=\"Σωκράτης\" postag=\"n-s---mv-\" relation=\"ExD\" speaker=\"#Εὐθύφρων\"/>\n",
       " <word form=\",\" head=\"5794842\" id=\"5794847\" lemma=\",\" postag=\"u--------\" relation=\"PUNCT\" speaker=\"#Εὐθύφρων\"/>\n",
       " <word form=\"γέγονεν\" head=\"0\" id=\"5794848\" lemma=\"γίγνομαι\" postag=\"v3sria---\" relation=\"PRED\" speaker=\"#Εὐθύφρων\"/>\n",
       " <word form=\",\" head=\"5794842\" id=\"5794849\" lemma=\",\" postag=\"u--------\" relation=\"PUNCT\" speaker=\"#Εὐθύφρων\"/>\n",
       " <word form=\"ὅτι\" head=\"5794848\" id=\"5794850\" lemma=\"ὅτι\" postag=\"c--------\" relation=\"AuxC\" speaker=\"#Εὐθύφρων\"/>\n",
       " <word form=\"σὺ\" head=\"5794859\" id=\"5794851\" lemma=\"σύ\" postag=\"p-s---cn-\" relation=\"SBJ\" speaker=\"#Εὐθύφρων\"/>\n",
       " <word form=\"τὰς\" head=\"5794856\" id=\"5794852\" lemma=\"ὁ\" postag=\"l-p---fa-\" relation=\"ATR\" speaker=\"#Εὐθύφρων\"/>\n",
       " <word form=\"ἐν\" head=\"5794856\" id=\"5794853\" lemma=\"ἐν\" postag=\"r--------\" relation=\"AuxP\" speaker=\"#Εὐθύφρων\"/>\n",
       " <word form=\"Λυκείῳ\" head=\"5794853\" id=\"5794854\" lemma=\"Λύκειον\" postag=\"n-s---nd-\" relation=\"ATR\" speaker=\"#Εὐθύφρων\"/>\n",
       " <word form=\"καταλιπὼν\" head=\"5794859\" id=\"5794855\" lemma=\"καταλείπω\" postag=\"v-sapamn-\" relation=\"ADV\" speaker=\"#Εὐθύφρων\"/>\n",
       " <word form=\"διατριβὰς\" head=\"5794855\" id=\"5794856\" lemma=\"διατριβή\" postag=\"n-p---fa-\" relation=\"OBJ\" speaker=\"#Εὐθύφρων\"/>\n",
       " <word form=\"ἐνθάδε\" head=\"5794859\" id=\"5794857\" lemma=\"ἐνθάδε\" postag=\"d--------\" relation=\"ADV\" speaker=\"#Εὐθύφρων\"/>\n",
       " <word form=\"νῦν\" head=\"5794859\" id=\"5794858\" lemma=\"νῦν\" postag=\"d--------\" relation=\"ADV\" speaker=\"#Εὐθύφρων\"/>\n",
       " <word form=\"διατρίβεις\" head=\"5794850\" id=\"5794859\" lemma=\"διατρίβω\" postag=\"v2spia---\" relation=\"ADV\" speaker=\"#Εὐθύφρων\"/>\n",
       " <word form=\"περὶ\" head=\"5794859\" id=\"5794860\" lemma=\"περί\" postag=\"r--------\" relation=\"AuxP\" speaker=\"#Εὐθύφρων\"/>\n",
       " <word form=\"τὴν\" head=\"5794864\" id=\"5794861\" lemma=\"ὁ\" postag=\"l-s---fa-\" relation=\"ATR\" speaker=\"#Εὐθύφρων\"/>\n",
       " <word form=\"τοῦ\" head=\"5794863\" id=\"5794862\" lemma=\"ὁ\" postag=\"l-s---mg-\" relation=\"ATR\" speaker=\"#Εὐθύφρων\"/>\n",
       " <word form=\"βασιλέως\" head=\"5794864\" id=\"5794863\" lemma=\"βασιλεύς\" postag=\"n-s---mg-\" relation=\"ATR\" speaker=\"#Εὐθύφρων\"/>\n",
       " <word form=\"στοάν\" head=\"5794860\" id=\"5794864\" lemma=\"στοά\" postag=\"n-s---fa-\" relation=\"ADV\" speaker=\"#Εὐθύφρων\"/>\n",
       " <word form=\";\" head=\"5794842\" id=\"5794865\" lemma=\";\" postag=\"u--------\" relation=\"PUNCT\" speaker=\"#Εὐθύφρων\"/>\n",
       " </sentence>,\n",
       " <sentence document_id=\"0059-001\" id=\"2\" subdoc=\"2\">\n",
       " <word form=\"οὐ\" head=\"5794875\" id=\"5794866\" lemma=\"οὐ\" postag=\"d--------\" relation=\"AuxZ\" speaker=\"#Εὐθύφρων\"/>\n",
       " <word form=\"γάρ\" head=\"5794875\" id=\"5794867\" lemma=\"γάρ\" postag=\"d--------\" relation=\"AuxY\" speaker=\"#Εὐθύφρων\"/>\n",
       " <word form=\"που\" head=\"5794875\" id=\"5794868\" lemma=\"που\" postag=\"d--------\" relation=\"AuxY\" speaker=\"#Εὐθύφρων\"/>\n",
       " <word form=\"καὶ\" head=\"5794870\" id=\"5794869\" lemma=\"καί\" postag=\"b--------\" relation=\"AuxZ\" speaker=\"#Εὐθύφρων\"/>\n",
       " <word form=\"σοί\" head=\"5794875\" id=\"5794870\" lemma=\"σύ\" postag=\"p-s---cd-\" relation=\"OBJ\" speaker=\"#Εὐθύφρων\"/>\n",
       " <word form=\"γε\" head=\"5794870\" id=\"5794871\" lemma=\"γε\" postag=\"d--------\" relation=\"AuxZ\" speaker=\"#Εὐθύφρων\"/>\n",
       " <word form=\"δίκη\" head=\"5794875\" id=\"5794872\" lemma=\"δίκη\" postag=\"n-s---fn-\" relation=\"SBJ\" speaker=\"#Εὐθύφρων\"/>\n",
       " <word form=\"τις\" head=\"5794872\" id=\"5794873\" lemma=\"τις\" postag=\"a-s---cn-\" relation=\"ATR\" speaker=\"#Εὐθύφρων\"/>\n",
       " <word form=\"οὖσα\" head=\"5794875\" id=\"5794874\" lemma=\"εἰμί\" postag=\"v-sppafn-\" relation=\"ADV\" speaker=\"#Εὐθύφρων\"/>\n",
       " <word form=\"τυγχάνει\" head=\"0\" id=\"5794875\" lemma=\"τυγχάνω\" postag=\"v3spia---\" relation=\"PRED\" speaker=\"#Εὐθύφρων\"/>\n",
       " <word form=\"πρὸς\" head=\"5794875\" id=\"5794876\" lemma=\"πρός\" postag=\"r--------\" relation=\"AuxP\" speaker=\"#Εὐθύφρων\"/>\n",
       " <word form=\"τὸν\" head=\"5794878\" id=\"5794877\" lemma=\"ὁ\" postag=\"l-s---ma-\" relation=\"ATR\" speaker=\"#Εὐθύφρων\"/>\n",
       " <word form=\"βασιλέα\" head=\"5794876\" id=\"5794878\" lemma=\"βασιλεύς\" postag=\"n-s---ma-\" relation=\"ADV\" speaker=\"#Εὐθύφρων\"/>\n",
       " <word form=\"ὥσπερ\" head=\"5794875\" id=\"5794879\" lemma=\"ὥσπερ\" postag=\"c--------\" relation=\"AuxC\" speaker=\"#Εὐθύφρων\"/>\n",
       " <word form=\"ἐμοί\" head=\"5794879\" id=\"5794880\" lemma=\"ἐγώ\" postag=\"p-s---cd-\" relation=\"ADV/OBJ\" speaker=\"#Εὐθύφρων\"/>\n",
       " <word form=\".\" head=\"5794866\" id=\"5794881\" lemma=\".\" postag=\"u--------\" relation=\"PUNCT\" speaker=\"#Εὐθύφρων\"/>\n",
       " </sentence>,\n",
       " <sentence document_id=\"0059-001\" id=\"3\" subdoc=\"2\">\n",
       " <word form=\"οὔτοι\" head=\"5794892\" id=\"5794882\" lemma=\"οὔτοι\" postag=\"d--------\" relation=\"AuxZ\" speaker=\"#Σωκράτης\"/>\n",
       " <word form=\"δὴ\" head=\"5794892\" id=\"5794883\" lemma=\"δή\" postag=\"d--------\" relation=\"AuxY\" speaker=\"#Σωκράτης\"/>\n",
       " <word form=\"Ἀθηναῖοί\" head=\"5794892\" id=\"5794884\" lemma=\"Ἀθηναῖος\" postag=\"a-p---mn-\" relation=\"SBJ\" speaker=\"#Σωκράτης\"/>\n",
       " <word form=\"γε\" head=\"5794884\" id=\"5794885\" lemma=\"γε\" postag=\"d--------\" relation=\"AuxZ\" speaker=\"#Σωκράτης\"/>\n",
       " <word form=\",\" head=\"5794882\" id=\"5794886\" lemma=\",\" postag=\"u--------\" relation=\"PUNCT\" speaker=\"#Σωκράτης\"/>\n",
       " <word form=\"ὦ\" head=\"5794888\" id=\"5794887\" lemma=\"ὦ\" postag=\"i--------\" relation=\"AuxZ\" speaker=\"#Σωκράτης\"/>\n",
       " <word form=\"Εὐθύφρων\" head=\"5794892\" id=\"5794888\" lemma=\"Εὐθύφρων\" postag=\"n-s---mv-\" relation=\"ExD\" speaker=\"#Σωκράτης\"/>\n",
       " <word form=\",\" head=\"5794882\" id=\"5794889\" lemma=\",\" postag=\"u--------\" relation=\"PUNCT\" speaker=\"#Σωκράτης\"/>\n",
       " <word form=\"δίκην\" head=\"5794892\" id=\"5794890\" lemma=\"δίκη\" postag=\"n-s---fa-\" relation=\"OCOMP\" speaker=\"#Σωκράτης\"/>\n",
       " <word form=\"αὐτὴν\" head=\"5794892\" id=\"5794891\" lemma=\"αὐτός\" postag=\"a-s---fa-\" relation=\"OBJ\" speaker=\"#Σωκράτης\"/>\n",
       " <word form=\"καλοῦσιν\" head=\"0\" id=\"5794892\" lemma=\"καλέω\" postag=\"v3ppia---\" relation=\"PRED\" speaker=\"#Σωκράτης\"/>\n",
       " <word form=\"ἀλλὰ\" head=\"5794894\" id=\"5794893\" lemma=\"ἀλλά\" postag=\"b--------\" relation=\"AuxY\" speaker=\"#Σωκράτης\"/>\n",
       " <word form=\"γραφήν\" head=\"5794890\" id=\"5794894\" lemma=\"γραφή\" postag=\"n-s---fa-\" relation=\"CO\" speaker=\"#Σωκράτης\"/>\n",
       " <word form=\".\" head=\"5794882\" id=\"5794895\" lemma=\".\" postag=\"u--------\" relation=\"PUNCT\" speaker=\"#Σωκράτης\"/>\n",
       " </sentence>]"
      ]
     },
     "execution_count": 161,
     "metadata": {},
     "output_type": "execute_result"
    }
   ],
   "source": [
    "sents = soup.find_all(\"sentence\")\n",
    "sents[:3]"
   ]
  },
  {
   "cell_type": "markdown",
   "metadata": {
    "collapsed": false
   },
   "source": [
    "Textová data jsou zde zaznamenána tak, že každá věta je zde rozdělena na jednotlivá slova, kterému odpovídá prvek `<word>` v jehož atributech lze nalézt jak slovo v podobě, jak jej najdeme v samotném textu (hodnota atributu \"form\"), tak ve slovníkové podobě, tzv. \"lemma\"). Atribut \"postag\" kóduje tzv. značkování části řeči (\"part-of-speech\") a atribut \"speaker\" informaci o mluvčím, tak jak jsme se s ní setkali výše. Všechny tyto atributy jsou velice užitečné a mohou být použity pro nejrůznější jazykové analýzy daných textů, jak z hlediska obsahu, tak stylu či formy. \n",
    "\n",
    "Ukážeme si jeden příklad: První písmeno atributu \"postag\" definuje slovní druh a písmeno \"n\" značí podstatné jméno (\"noun\"). Když toto víme, tak pomocí kódu níže z daného textu vypíšeme lemmata všech podstatných jmen, které se v něm vyskytují. "
   ]
  },
  {
   "cell_type": "code",
   "execution_count": 31,
   "metadata": {
    "ExecuteTime": {
     "end_time": "2024-01-27T01:29:38.933051Z",
     "start_time": "2024-01-27T01:29:38.927517Z"
    },
    "collapsed": false,
    "execution_time": 31
   },
   "outputs": [
    {
     "data": {
      "text/plain": [
       "['Σωκράτης',\n",
       " 'Λύκειον',\n",
       " 'διατριβή',\n",
       " 'βασιλεύς',\n",
       " 'στοά',\n",
       " 'δίκη',\n",
       " 'βασιλεύς',\n",
       " 'Εὐθύφρων',\n",
       " 'δίκη',\n",
       " 'γραφή']"
      ]
     },
     "execution_count": 164,
     "metadata": {},
     "output_type": "execute_result"
    }
   ],
   "source": [
    "nouns = [word[\"lemma\"] for word in soup.find_all(\"word\") if word[\"postag\"][0]==\"n\"]\n",
    "nouns[:10]"
   ]
  },
  {
   "cell_type": "markdown",
   "metadata": {
    "collapsed": false
   },
   "source": [
    "Slova v této podobě bychom nyní mohli podrobit nejrůznějším kvantitativním analýzám. To si však necháme do samostatné kapitoly, kde si tyto metody ozkoušíme na textových datech v češtině, která však do obdobné podoby budeme zpracovávat jinými způsoby než tak, že bychom je přímo extrahovali z již zveřejněného korpusu."
   ]
  },
  {
   "cell_type": "markdown",
   "metadata": {
    "collapsed": false
   },
   "source": [
    "### Britská poezie 19. století\n",
    "\n",
    "Pokud nás zajímá poezie, můžeme si samostatně vyzkoušet práci s velice důkladnými digitálními edicemi britské poezie dostupnými [zde](https://www.eighteenthcenturypoetry.org/authors/). Postup bude obdobný jako v předchozích příkladech. "
   ]
  }
 ],
 "metadata": {
  "colab": {
   "include_colab_link": true,
   "provenance": []
  },
  "kernelspec": {
   "display_name": "pribehy_kernel",
   "language": "python",
   "name": "pribehy_kernel"
  }
 },
 "nbformat": 4,
 "nbformat_minor": 0
}
