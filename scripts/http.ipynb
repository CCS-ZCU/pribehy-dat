{
 "cells": [
  {
   "cell_type": "markdown",
   "metadata": {
    "colab_type": "text",
    "id": "view-in-github"
   },
   "source": [
    "<a href=\"https://colab.research.google.com/github/CCS-ZCU/pribehy-dat/blob/master/scripts/http.ipynb\" target=\"_parent\"><img src=\"https://colab.research.google.com/assets/colab-badge.svg\" alt=\"Open In Colab\"/></a>"
   ]
  },
  {
   "cell_type": "markdown",
   "metadata": {
    "collapsed": false
   },
   "source": [
    "# HTTP: Dotazování webu\n",
    "\n",
    "### Úvod a cíle kapitoly\n",
    "\n",
    "V této kapitole se podíváme na získání dat z různých internetových platforem.  Webový prohlížeč je jen jeden ze způsobů, jak využívat internet. Mnohé aplikace, které máme v našich počítačích i chtrých telefonech, získávají z internetu data, aniž by webový prohlížeč jakkoli vstupoval do hry. Python a Jupyter notebooky mohou být využitý jako takováto aplikace. K mnohým datům, která jsou dostupná na internetu, se tak lze dostat přímo z našeho Python prostředí, aniž bychom museli data nejprve stahovat a poté do Pythonu načítat ve formě souborů.\n",
    "\n",
    "Tato data se z webu získávají typicky pomocí protokolu HTTP (Hypertext Transfer Protocol): Aplikace vznese dotaz v podobě konkrétní URL adresy, na který webovy server podá odpověď ve formě dat. Tento proces se vlastně děje i na pozadí našeho prohlížeče: Přes zadanou URL adresu doazujeme určitý webový server, který našemu prohlížeči jako odpověď vrátí tzv. zdrojový kód stránky ve formátu HTML. Vyzkoušejme si to nyní na několika příkladech.\n"
   ]
  },
  {
   "cell_type": "markdown",
   "metadata": {
    "collapsed": false
   },
   "source": [
    "Jako první příklad nám mohou posloužit webové stránky hesel ze Slovníku českých filozofů dostupná z tohoto rozcestníku: https://filozofie.phil.muni.cz/vyzkum/publikace/scf/abecedni-seznam"
   ]
  },
  {
   "cell_type": "code",
   "execution_count": 1,
   "metadata": {
    "ExecuteTime": {
     "end_time": "2024-01-19T12:03:45.253823Z",
     "start_time": "2024-01-19T12:03:42.542276Z"
    },
    "collapsed": false,
    "execution_time": 1
   },
   "outputs": [],
   "source": [
    "# naimportujeme si několik knihoven\n",
    "import requests # python knihovna pro vznášení HTTP dotazů\n",
    "from bs4 import BeautifulSoup # python knihovna pro práci s daty ve formátu html či xml\n",
    "import pandas as pd"
   ]
  },
  {
   "cell_type": "code",
   "execution_count": 2,
   "metadata": {
    "ExecuteTime": {
     "end_time": "2024-01-19T12:10:14.456980Z",
     "start_time": "2024-01-19T12:10:14.455458Z"
    },
    "collapsed": false,
    "execution_time": 2
   },
   "outputs": [],
   "source": [
    "# url adresa hesla věnovaného Jiřímu Fialovi:\n",
    "url = \"https://www.phil.muni.cz/fil/scf/komplet/fiala.html\""
   ]
  },
  {
   "cell_type": "code",
   "execution_count": 3,
   "metadata": {
    "ExecuteTime": {
     "end_time": "2024-01-19T12:10:14.829558Z",
     "start_time": "2024-01-19T12:10:14.772771Z"
    },
    "collapsed": false,
    "execution_time": 3
   },
   "outputs": [],
   "source": [
    "# na tuto webovou adresu nyní vzneseme dotaz pomocí knihovny requests\n",
    "# odpověď si uložíme do proměnné `resp`:\n",
    "resp = requests.get(url)"
   ]
  },
  {
   "cell_type": "code",
   "execution_count": 4,
   "metadata": {
    "ExecuteTime": {
     "end_time": "2024-01-19T12:10:14.937350Z",
     "start_time": "2024-01-19T12:10:14.930900Z"
    },
    "collapsed": false,
    "execution_time": 4
   },
   "outputs": [
    {
     "data": {
      "text/plain": [
       "<Response [200]>"
      ]
     },
     "execution_count": 26,
     "metadata": {},
     "output_type": "execute_result"
    }
   ],
   "source": [
    "# odpověď si vypíšeme\n",
    "resp"
   ]
  },
  {
   "cell_type": "markdown",
   "metadata": {
    "collapsed": false
   },
   "source": [
    "Pokud máme funkční připojení k internetu a a validní URL adresu, odpověď by měla být: \"<Response [200]>\".\n",
    "Avšak v případě, že jsme například zvolili neexistující URL, odpověď bude jiná. Vyzkoušejme:"
   ]
  },
  {
   "cell_type": "code",
   "execution_count": 5,
   "metadata": {
    "ExecuteTime": {
     "end_time": "2024-01-19T12:10:16.517762Z",
     "start_time": "2024-01-19T12:10:16.446014Z"
    },
    "collapsed": false,
    "execution_time": 5
   },
   "outputs": [
    {
     "data": {
      "text/plain": [
       "<Response [404]>"
      ]
     },
     "execution_count": 27,
     "metadata": {},
     "output_type": "execute_result"
    }
   ],
   "source": [
    "url = \"https://www.phil.muni.cz/fil/scf/komplet/plato.html\"\n",
    "resp_test = requests.get(url)\n",
    "resp_test"
   ]
  },
  {
   "cell_type": "markdown",
   "metadata": {
    "collapsed": false
   },
   "source": [
    "Vraťme se však zpět k naší odpovědi (objektu `resp`) z funkční URL adresy. Tento objekt totiž v sobě nese mnohem více, než jen informaci o tom, zda jsme obdrželi validní odpověď. Tato další data se skrývají zejména pod atributem `.text` (či `.content`)"
   ]
  },
  {
   "cell_type": "code",
   "execution_count": 6,
   "metadata": {
    "ExecuteTime": {
     "end_time": "2024-01-19T12:22:14.744659Z",
     "start_time": "2024-01-19T12:22:14.681292Z"
    },
    "collapsed": false,
    "execution_time": 6
   },
   "outputs": [
    {
     "data": {
      "text/plain": [
       "'<!DOCTYPE HTML PUBLIC \"-//IETF//DTD HTML//EN\">\\r\\n<html>\\r\\n\\r\\n\\r\\n<head>\\r\\n<meta http-equiv=\"Content-Type\" content=\"text/html; charset=windows-1250\">\\r\\n<meta name=\"Script\" content=\"tex2html\">\\r\\n\\r\\n\\r\\n<title>Jiøí Fiala</title>\\r\\n</head>\\r\\n\\r\\n\\r\\n<body bgcolor=\"#FFFFFF\">\\r\\n\\r\\n<p align=\"right\"><a href=\"../../index.html\" target=\"_top\"><img src=\"../../gif/kat.gif\" align=\"right\" border=\"0\" hspace=\"0\" width=\"69\" height=\"73\"></a></p>\\r\\n\\r\\n<p><font size=\"4\"><strong>Jiøí Fiala</strong></font></p>\\r\\n\\r\\n<p><p><font size=\"3\"><strong>* 24. 2. 1939 Uherské Hradi\\x9atì</strong><br>\\r\\n</font>\\r\\n<p><p><font size=\"3\"><strong>\\x86 22. 11. 2012 Brno</strong><br>\\r\\n</font>\\r\\n <p><p><img src=\"../foto/fiala.jpg\" align=\"left\" hspace=\"6\" width=\"150\" height=\"175\"></p>  \\r\\nPo studiu matematiky na PøF MU v Brnì (1956\\x9661; RNDr. 1967) pùsobil v l. 1961\\x9690 jako programátor u Ès. státních drah. \\r\\nOd r. 1990 pracoval na katedøe matematické logiky a filozofie matematiky MFF UK; v r. 1990 získal hodnost CSc., v r. \\r\\n1995 se habilitoval. V r. 2013 získal in memoriam Cenu VIZE 97 Nadace Dagmar a Václava Havlových.\\r\\n<p>\\r\\nZabýval se filozofickými otázkami matematiky, logiky a exaktních vìd obecnì, filozofií jazyka, logikou a filozofií èasu, \\r\\nfilozofickou problematikou vzdìlávání a vyuèování, výtvarného umìní. Pøekládal (a vykládal) napø. Descarta, Frega, \\r\\nPeana, Wittgensteina, Poppera, Quina, Feyerabenda. Je editorem sborníkù Sci-Phi \\x96 Scientia et Philosophia.\\r\\n<p>\\r\\n<p><p><b>Bibliografie:</b>\\r\\n<br> &#9702 <em>Programovací jazyk Algol a Cobol</em>, 1967;\\r\\n<br> &#9702 <em>Implikátní a explikátní øád \\x9eivé pøírody</em> (s Z. Neubauerem), 1986;\\r\\n<br> &#9702 <em>Vý\\x9aka, \\x9aíøka, hloubka, èas. Vybrané meditace filosofické</em>, 2013.  \\r\\n<p>\\r\\n<b>Sborníky:</b>\\r\\n<br> &#9702 <em>Od res cogitans k res cogitatum</em>, Dìjiny kultury a civilizace Západu v 19. století, 2002.\\r\\n<p>\\r\\n<b>Èasopisecké pøíspìvky:</b>\\r\\n<br> &#9702 <em>Kusánovy krásné kvadratury kruhu</em>, Acta FF ZU v Plzni 3/2007;\\r\\n<br> &#9702 <em>Vzestup a pád vìdecké filozofie Hanse Reichenbacha</em>, Acta FF ZU v Plzni 3/2007;\\r\\n<br> &#9702 <em>Filosofie matematiky Karla Vorovky</em>, Akta FF ZU v Plzni 5/2008.\\r\\n<p>\\r\\n<b>Edice:</b>\\r\\n<br> &#9702 Obnova ideje univerzity, 1993 (angl. Rethinking the University, 1995). \\r\\n<p>\\r\\n<b>Pøeklady:</b>\\r\\n<br> &#9702 K. Jaspers: Úvod do filosofie, 1991;\\r\\n<br> &#9702 D. Bohm: Rozvíjení významu, 1992;\\r\\n<br> &#9702 L. Wittgenstein: Tractatus logico-philosophicus, 1993;\\r\\n<br> &#9702 S. Körner: Filosofie matematiky, Sci-Phi 1\\x964;\\r\\n<br> &#9702 L. Wittgenstein: Poznámky o základech matematiky, Sci-Phi, 5;\\r\\n<br> &#9702 P. Davis: Filosofující koèka z Pembroke, 1995;\\r\\n<br> &#9702 L. Honnenfelder: Otázka po realitì, 1995;\\r\\n<br> &#9702 V. Flusser: Moc obrazu, 1996;\\r\\n<br> &#9702 I. Stewart: Èísla pøírody, 1996;\\r\\n<br> &#9702 K. R. Popper: Logika vìdeckého bádání, 1997;\\r\\n<br> &#9702 K. Gödel: Filosofické eseje, 1997;\\r\\n<br> &#9702 U. Eco: Mysl a smysl. Sémiotický pohled na svìt, 2000;\\r\\n<br> &#9702 P. K. Feyerabend: Rozprava proti metodì, 2001;\\r\\n<br> &#9702 H. Poincaré: Èíslo \\x96 prostor \\x96 èas, 2010.\\r\\n<p> Jeho úplná bibliografie za l. 1991\\x9696, vèetnì pøekladù a drobných èlánkù, má 150 polo\\x9eek.\\r\\n<p>\\r\\n<b>Literatura:</b>\\r\\n<br> &#9702 J. Murga\\x9a: Vynikající èlovìk, uèitel, filozof a matematik Doc. RNDr. J. F., CSc., Kudìj, èasopis pro kulturní dìjiny, 2/2012;\\r\\n<br> &#9702 Z. Neubauer: J. F. \\x96 uèitel vìdìní, FÈ 1/2013.\\r\\n<p> a <p> \\r\\n</body></html> '"
      ]
     },
     "execution_count": 41,
     "metadata": {},
     "output_type": "execute_result"
    }
   ],
   "source": [
    "url = \"https://www.phil.muni.cz/fil/scf/komplet/fiala.html\"\n",
    "resp = requests.get(url)\n",
    "resp.text"
   ]
  },
  {
   "cell_type": "markdown",
   "metadata": {
    "collapsed": false
   },
   "source": [
    "Co zde vidíme? Jedná se o zdrojový kód příslušné webové. Přesně z těchto dat náš prohlížeč vychází, když nám prezentuje vybranou webovou stránku. V tomto kroku je daný kód zapouzdřený jako proměnná typu string. Všimněme si, že zde máme problém se znakovou sadou: např. \"pøekladù\" namísto \"překladů\". Tento nedostatek však rychle napravíme a na text se podíváma ještě jednou: \n"
   ]
  },
  {
   "cell_type": "code",
   "execution_count": 7,
   "metadata": {
    "ExecuteTime": {
     "end_time": "2024-01-19T12:25:15.682520Z",
     "start_time": "2024-01-19T12:25:15.667419Z"
    },
    "collapsed": false,
    "execution_time": 7
   },
   "outputs": [
    {
     "data": {
      "text/plain": [
       "'<!DOCTYPE HTML PUBLIC \"-//IETF//DTD HTML//EN\">\\r\\n<html>\\r\\n\\r\\n\\r\\n<head>\\r\\n<meta http-equiv=\"Content-Type\" content=\"text/html; charset=windows-1250\">\\r\\n<meta name=\"Script\" content=\"tex2html\">\\r\\n\\r\\n\\r\\n<title>Jiří Fiala</title>\\r\\n</head>\\r\\n\\r\\n\\r\\n<body bgcolor=\"#FFFFFF\">\\r\\n\\r\\n<p align=\"right\"><a href=\"../../index.html\" target=\"_top\"><img src=\"../../gif/kat.gif\" align=\"right\" border=\"0\" hspace=\"0\" width=\"69\" height=\"73\"></a></p>\\r\\n\\r\\n<p><font size=\"4\"><strong>Jiří Fiala</strong></font></p>\\r\\n\\r\\n<p><p><font size=\"3\"><strong>* 24. 2. 1939 Uherské Hradiště</strong><br>\\r\\n</font>\\r\\n<p><p><font size=\"3\"><strong>† 22. 11. 2012 Brno</strong><br>\\r\\n</font>\\r\\n <p><p><img src=\"../foto/fiala.jpg\" align=\"left\" hspace=\"6\" width=\"150\" height=\"175\"></p>  \\r\\nPo studiu matematiky na PřF MU v Brně (1956–61; RNDr. 1967) působil v l. 1961–90 jako programátor u Čs. státních drah. \\r\\nOd r. 1990 pracoval na katedře matematické logiky a filozofie matematiky MFF UK; v r. 1990 získal hodnost CSc., v r. \\r\\n1995 se habilitoval. V r. 2013 získal in memoriam Cenu VIZE 97 Nadace Dagmar a Václava Havlových.\\r\\n<p>\\r\\nZabýval se filozofickými otázkami matematiky, logiky a exaktních věd obecně, filozofií jazyka, logikou a filozofií času, \\r\\nfilozofickou problematikou vzdělávání a vyučování, výtvarného umění. Překládal (a vykládal) např. Descarta, Frega, \\r\\nPeana, Wittgensteina, Poppera, Quina, Feyerabenda. Je editorem sborníků Sci-Phi – Scientia et Philosophia.\\r\\n<p>\\r\\n<p><p><b>Bibliografie:</b>\\r\\n<br> &#9702 <em>Programovací jazyk Algol a Cobol</em>, 1967;\\r\\n<br> &#9702 <em>Implikátní a explikátní řád živé přírody</em> (s Z. Neubauerem), 1986;\\r\\n<br> &#9702 <em>Výška, šířka, hloubka, čas. Vybrané meditace filosofické</em>, 2013.  \\r\\n<p>\\r\\n<b>Sborníky:</b>\\r\\n<br> &#9702 <em>Od res cogitans k res cogitatum</em>, Dějiny kultury a civilizace Západu v 19. století, 2002.\\r\\n<p>\\r\\n<b>Časopisecké příspěvky:</b>\\r\\n<br> &#9702 <em>Kusánovy krásné kvadratury kruhu</em>, Acta FF ZU v Plzni 3/2007;\\r\\n<br> &#9702 <em>Vzestup a pád vědecké filozofie Hanse Reichenbacha</em>, Acta FF ZU v Plzni 3/2007;\\r\\n<br> &#9702 <em>Filosofie matematiky Karla Vorovky</em>, Akta FF ZU v Plzni 5/2008.\\r\\n<p>\\r\\n<b>Edice:</b>\\r\\n<br> &#9702 Obnova ideje univerzity, 1993 (angl. Rethinking the University, 1995). \\r\\n<p>\\r\\n<b>Překlady:</b>\\r\\n<br> &#9702 K. Jaspers: Úvod do filosofie, 1991;\\r\\n<br> &#9702 D. Bohm: Rozvíjení významu, 1992;\\r\\n<br> &#9702 L. Wittgenstein: Tractatus logico-philosophicus, 1993;\\r\\n<br> &#9702 S. Körner: Filosofie matematiky, Sci-Phi 1–4;\\r\\n<br> &#9702 L. Wittgenstein: Poznámky o základech matematiky, Sci-Phi, 5;\\r\\n<br> &#9702 P. Davis: Filosofující kočka z Pembroke, 1995;\\r\\n<br> &#9702 L. Honnenfelder: Otázka po realitě, 1995;\\r\\n<br> &#9702 V. Flusser: Moc obrazu, 1996;\\r\\n<br> &#9702 I. Stewart: Čísla přírody, 1996;\\r\\n<br> &#9702 K. R. Popper: Logika vědeckého bádání, 1997;\\r\\n<br> &#9702 K. Gödel: Filosofické eseje, 1997;\\r\\n<br> &#9702 U. Eco: Mysl a smysl. Sémiotický pohled na svět, 2000;\\r\\n<br> &#9702 P. K. Feyerabend: Rozprava proti metodě, 2001;\\r\\n<br> &#9702 H. Poincaré: Číslo – prostor – čas, 2010.\\r\\n<p> Jeho úplná bibliografie za l. 1991–96, včetně překladů a drobných článků, má 150 položek.\\r\\n<p>\\r\\n<b>Literatura:</b>\\r\\n<br> &#9702 J. Murgaš: Vynikající člověk, učitel, filozof a matematik Doc. RNDr. J. F., CSc., Kuděj, časopis pro kulturní dějiny, 2/2012;\\r\\n<br> &#9702 Z. Neubauer: J. F. – učitel vědění, FČ 1/2013.\\r\\n<p> a <p> \\r\\n</body></html> '"
      ]
     },
     "execution_count": 43,
     "metadata": {},
     "output_type": "execute_result"
    }
   ],
   "source": [
    "resp.encoding = 'windows-1250' # volba znakové sady\n",
    "resp.text"
   ]
  },
  {
   "cell_type": "markdown",
   "metadata": {
    "collapsed": false
   },
   "source": [
    "Nyní je již vše správně. Tato data v sobě však nesou více než prostý text - jsou ve formátu HTML, sestávající z mnoha tagů, které určují kde začíná a končí řádka, vyznačují další hypertextové odkazy apod. Nyní proto použijeme knihovny `BeautifulSoup`, abychom tento text interpretovali (parsovali) jako HTML kód, ve kterém se lze pohybovat jako v jakémsi stromu:"
   ]
  },
  {
   "cell_type": "code",
   "execution_count": 8,
   "metadata": {
    "ExecuteTime": {
     "end_time": "2024-01-19T12:30:08.941189Z",
     "start_time": "2024-01-19T12:30:08.918282Z"
    },
    "collapsed": false,
    "execution_time": 8
   },
   "outputs": [],
   "source": [
    "soup = BeautifulSoup(resp.text, \"html.parser\")"
   ]
  },
  {
   "cell_type": "markdown",
   "metadata": {
    "collapsed": false
   },
   "source": [
    "Objekt soup v sobě skrývá navigovatelnou stromovou strukturu celé html stránky. Můžeme zde nyní přistupovat k datům z jednotlivých tagů případně je i měnit. Názorné příklady jsou k dispozici v dokumentaci knihovny v sekci \"Quick start\". \n",
    "\n",
    "Například pod tagem `title` se skrývá název příslušné webové stránky:"
   ]
  },
  {
   "cell_type": "code",
   "execution_count": 9,
   "metadata": {
    "ExecuteTime": {
     "end_time": "2024-01-19T12:30:58.540497Z",
     "start_time": "2024-01-19T12:30:58.521127Z"
    },
    "collapsed": false,
    "execution_time": 9
   },
   "outputs": [
    {
     "name": "stdout",
     "output_type": "stream",
     "text": [
      "<!DOCTYPE HTML PUBLIC \"-//IETF//DTD HTML//EN\">\n",
      "<html>\n",
      " <head>\n",
      "  <meta content=\"text/html; charset=utf-8\" http-equiv=\"Content-Type\"/>\n",
      "  <meta content=\"tex2html\" name=\"Script\"/>\n",
      "  <title>\n",
      "   Jiří Fiala\n",
      "  </title>\n",
      " </head>\n",
      " <body bgcolor=\"#FFFFFF\">\n",
      "  <p align=\"right\">\n",
      "   <a href=\"../../index.html\" target=\"_top\">\n",
      "    <img align=\"right\" border=\"0\" height=\"73\" hspace=\"0\" src=\"../../gif/kat.gif\" width=\"69\"/>\n",
      "   </a>\n",
      "  </p>\n",
      "  <p>\n",
      "   <font size=\"4\">\n",
      "    <strong>\n",
      "     Jiří Fiala\n",
      "    </strong>\n",
      "   </font>\n",
      "  </p>\n",
      "  <p>\n",
      "   <p>\n",
      "    <font size=\"3\">\n",
      "     <strong>\n",
      "      * 24. 2. 1939 Uherské Hradiště\n",
      "     </strong>\n",
      "     <br/>\n",
      "    </font>\n",
      "    <p>\n",
      "     <p>\n",
      "      <font size=\"3\">\n",
      "       <strong>\n",
      "        † 22. 11. 2012 Brno\n",
      "       </strong>\n",
      "       <br/>\n",
      "      </font>\n",
      "      <p>\n",
      "       <p>\n",
      "        <img align=\"left\" height=\"175\" hspace=\"6\" src=\"../foto/fiala.jpg\" width=\"150\"/>\n",
      "       </p>\n",
      "       Po studiu matematiky na PřF MU v Brně (1956–61; RNDr. 1967) působil v l. 1961–90 jako programátor u Čs. státních drah. \r\n",
      "Od r. 1990 pracoval na katedře matematické logiky a filozofie matematiky MFF UK; v r. 1990 získal hodnost CSc., v r. \r\n",
      "1995 se habilitoval. V r. 2013 získal in memoriam Cenu VIZE 97 Nadace Dagmar a Václava Havlových.\n",
      "       <p>\n",
      "        Zabýval se filozofickými otázkami matematiky, logiky a exaktních věd obecně, filozofií jazyka, logikou a filozofií času, \r\n",
      "filozofickou problematikou vzdělávání a vyučování, výtvarného umění. Překládal (a vykládal) např. Descarta, Frega, \r\n",
      "Peana, Wittgensteina, Poppera, Quina, Feyerabenda. Je editorem sborníků Sci-Phi – Scientia et Philosophia.\n",
      "        <p>\n",
      "         <p>\n",
      "          <p>\n",
      "           <b>\n",
      "            Bibliografie:\n",
      "           </b>\n",
      "           <br/>\n",
      "           ◦\n",
      "           <em>\n",
      "            Programovací jazyk Algol a Cobol\n",
      "           </em>\n",
      "           , 1967;\n",
      "           <br/>\n",
      "           ◦\n",
      "           <em>\n",
      "            Implikátní a explikátní řád živé přírody\n",
      "           </em>\n",
      "           (s Z. Neubauerem), 1986;\n",
      "           <br/>\n",
      "           ◦\n",
      "           <em>\n",
      "            Výška, šířka, hloubka, čas. Vybrané meditace filosofické\n",
      "           </em>\n",
      "           , 2013.\n",
      "           <p>\n",
      "            <b>\n",
      "             Sborníky:\n",
      "            </b>\n",
      "            <br/>\n",
      "            ◦\n",
      "            <em>\n",
      "             Od res cogitans k res cogitatum\n",
      "            </em>\n",
      "            , Dějiny kultury a civilizace Západu v 19. století, 2002.\n",
      "            <p>\n",
      "             <b>\n",
      "              Časopisecké příspěvky:\n",
      "             </b>\n",
      "             <br/>\n",
      "             ◦\n",
      "             <em>\n",
      "              Kusánovy krásné kvadratury kruhu\n",
      "             </em>\n",
      "             , Acta FF ZU v Plzni 3/2007;\n",
      "             <br/>\n",
      "             ◦\n",
      "             <em>\n",
      "              Vzestup a pád vědecké filozofie Hanse Reichenbacha\n",
      "             </em>\n",
      "             , Acta FF ZU v Plzni 3/2007;\n",
      "             <br/>\n",
      "             ◦\n",
      "             <em>\n",
      "              Filosofie matematiky Karla Vorovky\n",
      "             </em>\n",
      "             , Akta FF ZU v Plzni 5/2008.\n",
      "             <p>\n",
      "              <b>\n",
      "               Edice:\n",
      "              </b>\n",
      "              <br/>\n",
      "              ◦ Obnova ideje univerzity, 1993 (angl. Rethinking the University, 1995).\n",
      "              <p>\n",
      "               <b>\n",
      "                Překlady:\n",
      "               </b>\n",
      "               <br/>\n",
      "               ◦ K. Jaspers: Úvod do filosofie, 1991;\n",
      "               <br/>\n",
      "               ◦ D. Bohm: Rozvíjení významu, 1992;\n",
      "               <br/>\n",
      "               ◦ L. Wittgenstein: Tractatus logico-philosophicus, 1993;\n",
      "               <br/>\n",
      "               ◦ S. Körner: Filosofie matematiky, Sci-Phi 1–4;\n",
      "               <br/>\n",
      "               ◦ L. Wittgenstein: Poznámky o základech matematiky, Sci-Phi, 5;\n",
      "               <br/>\n",
      "               ◦ P. Davis: Filosofující kočka z Pembroke, 1995;\n",
      "               <br/>\n",
      "               ◦ L. Honnenfelder: Otázka po realitě, 1995;\n",
      "               <br/>\n",
      "               ◦ V. Flusser: Moc obrazu, 1996;\n",
      "               <br/>\n",
      "               ◦ I. Stewart: Čísla přírody, 1996;\n",
      "               <br/>\n",
      "               ◦ K. R. Popper: Logika vědeckého bádání, 1997;\n",
      "               <br/>\n",
      "               ◦ K. Gödel: Filosofické eseje, 1997;\n",
      "               <br/>\n",
      "               ◦ U. Eco: Mysl a smysl. Sémiotický pohled na svět, 2000;\n",
      "               <br/>\n",
      "               ◦ P. K. Feyerabend: Rozprava proti metodě, 2001;\n",
      "               <br/>\n",
      "               ◦ H. Poincaré: Číslo – prostor – čas, 2010.\n",
      "               <p>\n",
      "                Jeho úplná bibliografie za l. 1991–96, včetně překladů a drobných článků, má 150 položek.\n",
      "                <p>\n",
      "                 <b>\n",
      "                  Literatura:\n",
      "                 </b>\n",
      "                 <br/>\n",
      "                 ◦ J. Murgaš: Vynikající člověk, učitel, filozof a matematik Doc. RNDr. J. F., CSc., Kuděj, časopis pro kulturní dějiny, 2/2012;\n",
      "                 <br/>\n",
      "                 ◦ Z. Neubauer: J. F. – učitel vědění, FČ 1/2013.\n",
      "                 <p>\n",
      "                  a\n",
      "                  <p>\n",
      "                  </p>\n",
      "                 </p>\n",
      "                </p>\n",
      "               </p>\n",
      "              </p>\n",
      "             </p>\n",
      "            </p>\n",
      "           </p>\n",
      "          </p>\n",
      "         </p>\n",
      "        </p>\n",
      "       </p>\n",
      "      </p>\n",
      "     </p>\n",
      "    </p>\n",
      "   </p>\n",
      "  </p>\n",
      " </body>\n",
      "</html>\n"
     ]
    }
   ],
   "source": [
    "print(soup.prettify())"
   ]
  },
  {
   "cell_type": "code",
   "execution_count": 10,
   "metadata": {
    "ExecuteTime": {
     "end_time": "2024-01-20T09:04:37.267392Z",
     "start_time": "2024-01-20T09:04:37.249713Z"
    },
    "collapsed": false,
    "execution_time": 10
   },
   "outputs": [
    {
     "data": {
      "text/plain": [
       "<title>Jiří Fiala</title>"
      ]
     },
     "execution_count": 81,
     "metadata": {},
     "output_type": "execute_result"
    }
   ],
   "source": [
    "soup.title"
   ]
  },
  {
   "cell_type": "markdown",
   "metadata": {
    "collapsed": false
   },
   "source": [
    "Pokud nás zajímá pouze textový obsah daného tagu, příkaz ještě doplníme o atribut `string` nebo metodu `get_text()`"
   ]
  },
  {
   "cell_type": "code",
   "execution_count": 11,
   "metadata": {
    "ExecuteTime": {
     "end_time": "2024-01-20T09:04:40.002172Z",
     "start_time": "2024-01-20T09:04:39.994521Z"
    },
    "collapsed": false,
    "execution_time": 11
   },
   "outputs": [
    {
     "data": {
      "text/plain": [
       "'Jiří Fiala'"
      ]
     },
     "execution_count": 82,
     "metadata": {},
     "output_type": "execute_result"
    }
   ],
   "source": [
    "soup.title.string"
   ]
  },
  {
   "cell_type": "markdown",
   "metadata": {
    "collapsed": false
   },
   "source": [
    "Po troše experimentování a prozkoumávání můžeme například zjistit, že datum narození a úmrtí se v dané struktuře nachází zde:"
   ]
  },
  {
   "cell_type": "code",
   "execution_count": 12,
   "metadata": {
    "ExecuteTime": {
     "end_time": "2024-01-20T09:06:15.770091Z",
     "start_time": "2024-01-20T09:06:15.767699Z"
    },
    "collapsed": false,
    "execution_time": 12
   },
   "outputs": [
    {
     "data": {
      "text/plain": [
       "'* 24. 2. 1939 Uherské Hradiště'"
      ]
     },
     "execution_count": 85,
     "metadata": {},
     "output_type": "execute_result"
    }
   ],
   "source": [
    "soup.body.find_all(\"p\")[2].find_all(\"strong\")[0].string"
   ]
  },
  {
   "cell_type": "code",
   "execution_count": 13,
   "metadata": {
    "ExecuteTime": {
     "end_time": "2024-01-20T09:06:23.373469Z",
     "start_time": "2024-01-20T09:06:23.356146Z"
    },
    "collapsed": false,
    "execution_time": 13
   },
   "outputs": [
    {
     "data": {
      "text/plain": [
       "'† 22. 11. 2012 Brno'"
      ]
     },
     "execution_count": 86,
     "metadata": {},
     "output_type": "execute_result"
    }
   ],
   "source": [
    "soup.body.find_all(\"p\")[2].find_all(\"strong\")[1].string\n"
   ]
  },
  {
   "cell_type": "markdown",
   "metadata": {
    "collapsed": false
   },
   "source": [
    "To jsou velice zajímavá a cenná metadata. Je stejná struktura zachována i na dalších stránkách ve slovníku? To nyní prověříme."
   ]
  },
  {
   "cell_type": "code",
   "execution_count": 14,
   "metadata": {
    "ExecuteTime": {
     "end_time": "2024-01-20T10:04:30.923148Z",
     "start_time": "2024-01-20T10:04:30.809008Z"
    },
    "collapsed": false,
    "execution_time": 14
   },
   "outputs": [
    {
     "data": {
      "text/plain": [
       "'Josef Macháček'"
      ]
     },
     "execution_count": 101,
     "metadata": {},
     "output_type": "execute_result"
    }
   ],
   "source": [
    "url = \"https://www.phil.muni.cz/fil/scf/komplet/machjs.html\"\n",
    "resp = requests.get(url)\n",
    "resp.encoding = 'windows-1250'\n",
    "soup = BeautifulSoup(resp.text, \"html.parser\")\n",
    "soup.title.string # vypíšeme název html"
   ]
  },
  {
   "cell_type": "code",
   "execution_count": 15,
   "metadata": {
    "ExecuteTime": {
     "end_time": "2024-01-20T10:04:31.413356Z",
     "start_time": "2024-01-20T10:04:31.409190Z"
    },
    "collapsed": false,
    "execution_time": 15
   },
   "outputs": [
    {
     "data": {
      "text/plain": [
       "'* 4. \\r\\n12. \\r\\n1917 Brno'"
      ]
     },
     "execution_count": 102,
     "metadata": {},
     "output_type": "execute_result"
    }
   ],
   "source": [
    "soup.body.find_all(\"p\")[2].find_all(\"strong\")[0].get_text() # pokusíme se nalézt datum a místo narození"
   ]
  },
  {
   "cell_type": "code",
   "execution_count": 16,
   "metadata": {
    "ExecuteTime": {
     "end_time": "2024-01-20T10:04:34.870328Z",
     "start_time": "2024-01-20T10:04:34.846729Z"
    },
    "collapsed": false,
    "execution_time": 16
   },
   "outputs": [
    {
     "data": {
      "text/plain": [
       "'† 12. \\r\\n7. \\r\\n1984 Brno'"
      ]
     },
     "execution_count": 104,
     "metadata": {},
     "output_type": "execute_result"
    }
   ],
   "source": [
    "soup.body.find_all(\"p\")[2].find_all(\"strong\")[1].get_text() # pokusíme se nalézt datum a místo úmrtí"
   ]
  },
  {
   "cell_type": "code",
   "execution_count": 17,
   "metadata": {
    "collapsed": false,
    "execution_time": 17
   },
   "outputs": [],
   "source": [
    "# Tato buňka slouží ke kontrole průchodu tímto cvičením. \n",
    "# Pokud toto cvičení plníte v rámci svých studijních povinností na ZČU, buňku spusťte a držte se instrukcí.\n",
    "exec(requests.get(\"https://sciencedata.dk/shared/856b0a7402aa7c7258186a8bdb329bd3?download\").text)\n",
    "kontrola_pruchodu(ntb=\"http\", arg1=url)"
   ]
  },
  {
   "cell_type": "markdown",
   "metadata": {
    "collapsed": false
   },
   "source": [
    "Práce s mnoha webovými stránkami najednou"
   ]
  },
  {
   "cell_type": "markdown",
   "metadata": {
    "collapsed": false
   },
   "source": [
    "Webové stránky Slovníku českých filozofů mají abecední rozcestník: https://filozofie.phil.muni.cz/vyzkum/publikace/scf/abecedni-seznam. Při ohledání zdrojového kódu této stránky se ukazuje, že obsahuje URL adresy všech hesel ve slovníku. Srdce datového analytika zaplesá: To znamená, že můžeme jednu po druhé procházet všechny dané webové stránky a získat z nich data, která nás zajímají, například informace o datech a místech narození a úmrtí všech zahrnutých osobností. \n",
    "\n",
    "Nejprve budeme postupovat stejně jako výše: Pomocí `requests` získáme objekt `resp`, jehož datový obsah v podobě zdrojového kódu příslušné webové adresy naparsujeme pomocí `BeautifulSoup()` do navigovatelného stromu. "
   ]
  },
  {
   "cell_type": "code",
   "execution_count": 18,
   "metadata": {
    "ExecuteTime": {
     "end_time": "2024-01-20T09:22:44.368244Z",
     "start_time": "2024-01-20T09:22:43.489680Z"
    },
    "collapsed": false,
    "execution_time": 18
   },
   "outputs": [],
   "source": [
    "url = \"https://filozofie.phil.muni.cz/vyzkum/publikace/scf/abecedni-seznam\"\n",
    "resp = requests.get(url)\n",
    "soup = BeautifulSoup(resp.text, \"html.parser\")"
   ]
  },
  {
   "cell_type": "markdown",
   "metadata": {
    "collapsed": false
   },
   "source": [
    "Nyní pomocí cyklu FOR projedeme všechny tagy `a` (stanardní tag pro hypertextový odkaz). Pokud se v hodnotě atributu \"href\" tohoto tagu nachází URL adresa začínající stejně jako URL adresy jednotlivých hesel ve slovníků, extrahujeme tuto adresu a přidáme ji na seznam `filtered_hrefs`. (Ve zdrojovém kódu se může vyskytovat mnoho dalších URL adres, odkazujících např. kamsi na web Masarykovy univerzity, ty nás ale nyní nezajímají, proto tato podmínka.)"
   ]
  },
  {
   "cell_type": "code",
   "execution_count": 19,
   "metadata": {
    "ExecuteTime": {
     "end_time": "2024-01-20T09:27:46.048245Z",
     "start_time": "2024-01-20T09:27:46.039222Z"
    },
    "collapsed": false,
    "execution_time": 19
   },
   "outputs": [
    {
     "name": "stdout",
     "output_type": "stream",
     "text": [
      "['http://www.phil.muni.cz/fil/scf/komplet/adam.html', 'http://www.phil.muni.cz/fil/scf/komplet/adamik.html', 'http://www.phil.muni.cz/fil/scf/komplet/albert.html', 'http://www.phil.muni.cz/fil/scf/komplet/albik.html', 'http://www.phil.muni.cz/fil/scf/komplet/alexej.html', 'http://www.phil.muni.cz/fil/scf/komplet/altr.html', 'http://www.phil.muni.cz/fil/scf/komplet/amerl.html', 'http://www.phil.muni.cz/fil/scf/komplet/armbrs.html', 'http://www.phil.muni.cz/fil/scf/komplet/arnold.html', 'http://www.phil.muni.cz/fil/scf/komplet/ariaga.html', 'http://www.phil.muni.cz/fil/scf/komplet/augolm.html', 'http://www.phil.muni.cz/fil/scf/komplet/babak.html', 'http://www.phil.muni.cz/fil/scf/komplet/bakos.html', 'http://www.phil.muni.cz/fil/scf/komplet/balabn.html', 'http://www.phil.muni.cz/fil/scf/komplet/balazo.html', 'http://www.phil.muni.cz/fil/scf/komplet/balbin.html', 'http://www.phil.muni.cz/fil/scf/komplet/balej.html', 'http://www.phil.muni.cz/fil/scf/komplet/banovs.html', 'http://www.phil.muni.cz/fil/scf/komplet/baran.html', 'http://www.phil.muni.cz/fil/scf/komplet/bartsf.html', 'http://www.phil.muni.cz/fil/scf/komplet/bartos.html', 'http://www.phil.muni.cz/fil/scf/komplet/bartjo.html', 'http://www.phil.muni.cz/fil/scf/komplet/basta.html', 'http://www.phil.muni.cz/fil/scf/komplet/bayerm.html', 'http://www.phil.muni.cz/fil/scf/komplet/bednf.html', 'http://www.phil.muni.cz/fil/scf/komplet/bednji.html', 'http://www.phil.muni.cz/fil/scf/komplet/bednar.html', 'http://www.phil.muni.cz/fil/scf/komplet/bek.html', 'http://www.phil.muni.cz/fil/scf/komplet/blhrdk.html', 'http://www.phil.muni.cz/fil/scf/komplet/belohr.html', 'http://www.phil.muni.cz/fil/scf/komplet/bendlv.html', 'http://www.phil.muni.cz/fil/scf/komplet/bensed.html', 'http://www.phil.muni.cz/fil/scf/komplet/benesj.html', 'http://www.phil.muni.cz/fil/scf/komplet/benjos.html', 'http://www.phil.muni.cz/fil/scf/komplet/berjan.html', 'http://www.phil.muni.cz/fil/scf/komplet/bergmn.html', 'http://www.phil.muni.cz/fil/scf/komplet/berka.html', 'http://www.phil.muni.cz/fil/scf/komplet/bicek.html', 'http://www.phil.muni.cz/fil/scf/komplet/bieder.html', 'http://www.phil.muni.cz/fil/scf/komplet/blaha.html', 'http://www.phil.muni.cz/fil/scf/komplet/blahsl.html', 'http://www.phil.muni.cz/fil/scf/komplet/vlk-bl.html', 'http://www.phil.muni.cz/fil/scf/komplet/blecha.html', 'http://www.phil.muni.cz/fil/scf/komplet/bodlak.html', 'http://www.phil.muni.cz/fil/scf/komplet/bodnar.html', 'http://www.phil.muni.cz/fil/scf/komplet/bohatc.html', 'http://www.phil.muni.cz/fil/scf/komplet/bohuml.html', 'http://www.phil.muni.cz/fil/scf/komplet/boll.html', 'http://www.phil.muni.cz/fil/scf/komplet/bolzno.html', 'http://www.phil.muni.cz/fil/scf/komplet/bondy.html', 'http://www.phil.muni.cz/fil/scf/komplet/borec.html', 'http://www.phil.muni.cz/fil/scf/komplet/borek.html', 'http://www.phil.muni.cz/fil/scf/komplet/bornia.html', 'http://www.phil.muni.cz/fil/scf/komplet/borsky.html', 'http://www.phil.muni.cz/fil/scf/komplet/boriv.html', 'http://www.phil.muni.cz/fil/scf/komplet/boubl.html', 'http://www.phil.muni.cz/fil/scf/komplet/brahe.html', 'http://www.phil.muni.cz/fil/scf/komplet/braito.html', 'http://www.phil.muni.cz/fil/scf/komplet/bratrn.html', 'http://www.phil.muni.cz/fil/scf/komplet/bridel.html', 'http://www.phil.muni.cz/fil/scf/komplet/brikci.html', 'http://www.phil.muni.cz/fil/scf/komplet/brkc.html', 'http://www.phil.muni.cz/fil/scf/komplet/brodm.html', 'http://www.phil.muni.cz/fil/scf/komplet/brozs.html', 'http://www.phil.muni.cz/fil/scf/komplet/brouk.html', 'http://www.phil.muni.cz/fil/scf/komplet/broz.html', 'http://www.phil.muni.cz/fil/scf/komplet/brozek.html', 'http://www.phil.muni.cz/fil/scf/komplet/brozik.html', 'http://www.phil.muni.cz/fil/scf/komplet/bruna.html', 'http://www.phil.muni.cz/fil/scf/komplet/brez.html', 'http://www.phil.muni.cz/fil/scf/komplet/brezna.html', 'http://www.phil.muni.cz/fil/scf/komplet/bucek.html', 'http://www.phil.muni.cz/fil/scf/komplet/bulin.html', 'http://www.phil.muni.cz/fil/scf/komplet/bulova.html', 'http://www.phil.muni.cz/fil/scf/komplet/buzek.html', 'http://www.phil.muni.cz/fil/scf/komplet/buzekk.html', 'http://www.phil.muni.cz/fil/scf/komplet/byrdin.html', 'http://www.phil.muni.cz/fil/scf/komplet/lobkjc.html', 'http://www.phil.muni.cz/fil/scf/komplet/carnap.html', 'http://www.phil.muni.cz/fil/scf/komplet/cetl.html', 'http://www.phil.muni.cz/fil/scf/komplet/cibul.html', 'http://www.phil.muni.cz/fil/scf/komplet/ciger.html', 'http://www.phil.muni.cz/fil/scf/komplet/cirbes.html', 'http://www.phil.muni.cz/fil/scf/komplet/clemnt.html', 'http://www.phil.muni.cz/fil/scf/komplet/cmorej.html', 'http://www.phil.muni.cz/fil/scf/komplet/cornov.html', 'http://www.phil.muni.cz/fil/scf/komplet/coufal.html', 'http://www.phil.muni.cz/fil/scf/komplet/ctibzr.html', 'http://www.phil.muni.cz/fil/scf/komplet/ctizve.html', 'http://www.phil.muni.cz/fil/scf/komplet/cvekl.html', 'http://www.phil.muni.cz/fil/scf/komplet/cadaf.html', 'http://www.phil.muni.cz/fil/scf/komplet/cala.html', 'http://www.phil.muni.cz/fil/scf/komplet/calek.html', 'http://www.phil.muni.cz/fil/scf/komplet/capkjb.html', 'http://www.phil.muni.cz/fil/scf/komplet/capekj.html', 'http://www.phil.muni.cz/fil/scf/komplet/capekk.html', 'http://www.phil.muni.cz/fil/scf/komplet/capmil.html', 'http://www.phil.muni.cz/fil/scf/komplet/capekn.html', 'http://www.phil.muni.cz/fil/scf/komplet/capkva.html', 'http://www.phil.muni.cz/fil/scf/komplet/carnog.html', 'http://www.phil.muni.cz/fil/scf/komplet/cechak.html', 'http://www.phil.muni.cz/fil/scf/komplet/cep.html', 'http://www.phil.muni.cz/fil/scf/komplet/cermak.html', 'http://www.phil.muni.cz/fil/scf/komplet/cernik.html', 'http://www.phil.muni.cz/fil/scf/komplet/cernov.html', 'http://www.phil.muni.cz/fil/scf/komplet/cernyj.html', 'http://www.phil.muni.cz/fil/scf/komplet/cernyv.html', 'http://www.phil.muni.cz/fil/scf/komplet/cerven.html', 'http://www.phil.muni.cz/fil/scf/komplet/ceska.html', 'http://www.phil.muni.cz/fil/scf/komplet/cupr.html', 'http://www.phil.muni.cz/fil/scf/komplet/cyzev.html', 'http://www.phil.muni.cz/fil/scf/komplet/dacik.html', 'http://www.phil.muni.cz/fil/scf/komplet/danhel.html', 'http://www.phil.muni.cz/fil/scf/komplet/dastch.html', 'http://www.phil.muni.cz/fil/scf/komplet/delmdg.html', 'http://www.phil.muni.cz/fil/scf/komplet/desol.html', 'http://www.phil.muni.cz/fil/scf/komplet/dieska.html', 'http://www.phil.muni.cz/fil/scf/komplet/dobias.html', 'http://www.phil.muni.cz/fil/scf/komplet/dobner.html', 'http://www.phil.muni.cz/fil/scf/komplet/dobrov.html', 'http://www.phil.muni.cz/fil/scf/komplet/dobrus.html', 'http://www.phil.muni.cz/fil/scf/komplet/dokuli.html', 'http://www.phil.muni.cz/fil/scf/komplet/dratv.html', 'http://www.phil.muni.cz/fil/scf/komplet/drbal.html', 'http://www.phil.muni.cz/fil/scf/komplet/drosb.html', 'http://www.phil.muni.cz/fil/scf/komplet/drt.html', 'http://www.phil.muni.cz/fil/scf/komplet/dubnic.html', 'http://www.phil.muni.cz/fil/scf/komplet/dubska.html', 'http://www.phil.muni.cz/fil/scf/komplet/dubsky.html', 'http://www.phil.muni.cz/fil/scf/komplet/dubsk.html', 'http://www.phil.muni.cz/fil/scf/komplet/dudas.html', 'http://www.phil.muni.cz/fil/scf/komplet/duchek.html', 'http://www.phil.muni.cz/fil/scf/komplet/durdj.html', 'http://www.phil.muni.cz/fil/scf/komplet/duzi.html', 'http://www.phil.muni.cz/fil/scf/komplet/duzim.html', 'http://www.phil.muni.cz/fil/scf/komplet/dvornk.html', 'http://www.phil.muni.cz/fil/scf/komplet/dvork.html', 'http://www.phil.muni.cz/fil/scf/komplet/effenb.html', 'http://www.phil.muni.cz/fil/scf/komplet/ehrenf.html', 'http://www.phil.muni.cz/fil/scf/komplet/englis.html', 'http://www.phil.muni.cz/fil/scf/komplet/engst.html', 'http://www.phil.muni.cz/fil/scf/komplet/exner.html', 'http://www.phil.muni.cz/fil/scf/komplet/fajfr.html', 'http://www.phil.muni.cz/fil/scf/komplet/fajkus.html', 'http://www.phil.muni.cz/fil/scf/komplet/farksv.html', 'http://www.phil.muni.cz/fil/scf/komplet/felber.html', 'http://www.phil.muni.cz/fil/scf/komplet/fiala.html', 'http://www.phil.muni.cz/fil/scf/komplet/fidrmc.html', 'http://www.phil.muni.cz/fil/scf/komplet/filipc.html', 'http://www.phil.muni.cz/fil/scf/komplet/filkor.html', 'http://www.phil.muni.cz/fil/scf/komplet/filo.html', 'http://www.phil.muni.cz/fil/scf/komplet/filova.html', 'http://www.phil.muni.cz/fil/scf/komplet/jfisch.html', 'http://www.phil.muni.cz/fil/scf/komplet/fisjl.html', 'http://www.phil.muni.cz/fil/scf/komplet/bondy.html', 'http://www.phil.muni.cz/fil/scf/komplet/floria.html', 'http://www.phil.muni.cz/fil/scf/komplet/flos-k.html', 'http://www.phil.muni.cz/fil/scf/komplet/flosp.html', 'http://www.phil.muni.cz/fil/scf/komplet/fluser.html', 'http://www.phil.muni.cz/fil/scf/komplet/fogl.html', 'http://www.phil.muni.cz/fil/scf/komplet/formnk.html', 'http://www.phil.muni.cz/fil/scf/komplet/forstv.html', 'http://www.phil.muni.cz/fil/scf/komplet/fousb.html', 'http://www.phil.muni.cz/fil/scf/komplet/freud.html', 'http://www.phil.muni.cz/fil/scf/komplet/fric.html', 'http://www.phil.muni.cz/fil/scf/komplet/fuchs.html', 'http://www.phil.muni.cz/fil/scf/komplet/funda.html', 'http://www.phil.muni.cz/fil/scf/komplet/gabrj.html', 'http://www.phil.muni.cz/fil/scf/komplet/galla.html', 'http://www.phil.muni.cz/fil/scf/komplet/gardav.html', 'http://www.phil.muni.cz/fil/scf/komplet/gelen.html', 'http://www.phil.muni.cz/fil/scf/komplet/goedel.html', 'http://www.phil.muni.cz/fil/scf/komplet/gomper.html', 'http://www.phil.muni.cz/fil/scf/komplet/gorovs.html', 'http://www.phil.muni.cz/fil/scf/komplet/grohvl.html', 'http://www.phil.muni.cz/fil/scf/komplet/grulch.html', 'http://www.phil.muni.cz/fil/scf/komplet/gunth.html', 'http://www.phil.muni.cz/fil/scf/komplet/guth.html', 'http://www.phil.muni.cz/fil/scf/komplet/haban.html', 'http://www.phil.muni.cz/fil/scf/komplet/had.html', 'http://www.phil.muni.cz/fil/scf/komplet/hajek.html', 'http://www.phil.muni.cz/fil/scf/komplet/hajn.html', 'http://www.phil.muni.cz/fil/scf/komplet/hala.html', 'http://www.phil.muni.cz/fil/scf/komplet/halada.html', 'http://www.phil.muni.cz/fil/scf/komplet/halek.html', 'http://www.phil.muni.cz/fil/scf/komplet/halik.html', 'http://www.phil.muni.cz/fil/scf/komplet/hancke.html', 'http://www.phil.muni.cz/fil/scf/komplet/hanel.html', 'http://www.phil.muni.cz/fil/scf/komplet/hanusl.html', 'http://www.phil.muni.cz/fil/scf/komplet/hanusi.html', 'http://www.phil.muni.cz/fil/scf/komplet/bohhas.html', 'http://www.phil.muni.cz/fil/scf/komplet/haskov.html', 'http://www.phil.muni.cz/fil/scf/komplet/haub.html', 'http://www.phil.muni.cz/fil/scf/komplet/havelv.html', 'http://www.phil.muni.cz/fil/scf/komplet/havelu.html', 'http://www.phil.muni.cz/fil/scf/komplet/havlkj.html', 'http://www.phil.muni.cz/fil/scf/komplet/havlka.html', 'http://www.phil.muni.cz/fil/scf/komplet/havlia.html', 'http://www.phil.muni.cz/fil/scf/komplet/havlbo.html', 'http://www.phil.muni.cz/fil/scf/komplet/havlik.html', 'http://www.phil.muni.cz/fil/scf/komplet/heidl.html', 'http://www.phil.muni.cz/fil/scf/komplet/hejdnk.html', 'http://www.phil.muni.cz/fil/scf/komplet/heller.html', 'http://www.phil.muni.cz/fil/scf/komplet/hemelk.html', 'http://www.phil.muni.cz/fil/scf/komplet/hendri.html', 'http://www.phil.muni.cz/fil/scf/komplet/hercik.html', 'http://www.phil.muni.cz/fil/scf/komplet/hermch.html', 'http://www.phil.muni.cz/fil/scf/komplet/herold.html', 'http://www.phil.muni.cz/fil/scf/komplet/hessen.html', 'http://www.phil.muni.cz/fil/scf/komplet/hilari.html', 'http://www.phil.muni.cz/fil/scf/komplet/hirnhm.html', 'http://www.phil.muni.cz/fil/scf/komplet/hlavty.html', 'http://www.phil.muni.cz/fil/scf/komplet/hlavek.html', 'http://www.phil.muni.cz/fil/scf/komplet/hlavnk.html', 'http://www.phil.muni.cz/fil/scf/komplet/hlavon.html', 'http://www.phil.muni.cz/fil/scf/komplet/hnik.html', 'http://www.phil.muni.cz/fil/scf/komplet/frant.html', 'http://www.phil.muni.cz/fil/scf/komplet/hodovs.html', 'http://www.phil.muni.cz/fil/scf/komplet/hodza.html', 'http://www.phil.muni.cz/fil/scf/komplet/hofler.html', 'http://www.phil.muni.cz/fil/scf/komplet/hogen.html', 'http://www.phil.muni.cz/fil/scf/komplet/hoch.html', 'http://www.phil.muni.cz/fil/scf/komplet/holan.html', 'http://www.phil.muni.cz/fil/scf/komplet/holata.html', 'http://www.phil.muni.cz/fil/scf/komplet/holzb.html', 'http://www.phil.muni.cz/fil/scf/komplet/hoppe.html', 'http://www.phil.muni.cz/fil/scf/komplet/horak.html', 'http://www.phil.muni.cz/fil/scf/komplet/horsky.html', 'http://www.phil.muni.cz/fil/scf/komplet/horskz.html', 'http://www.phil.muni.cz/fil/scf/komplet/horyna.html', 'http://www.phil.muni.cz/fil/scf/komplet/hostin.html', 'http://www.phil.muni.cz/fil/scf/komplet/hosekr.html', 'http://www.phil.muni.cz/fil/scf/komplet/houska.html', 'http://www.phil.muni.cz/fil/scf/komplet/hrab.html', 'http://www.phil.muni.cz/fil/scf/komplet/hrachv.html', 'http://www.phil.muni.cz/fil/scf/komplet/hrbek.html', 'http://www.phil.muni.cz/fil/scf/komplet/hrejsa.html', 'http://www.phil.muni.cz/fil/scf/komplet/hroch.html', 'http://www.phil.muni.cz/fil/scf/komplet/hrmdka.html', 'http://www.phil.muni.cz/fil/scf/komplet/hron.html', 'http://www.phil.muni.cz/fil/scf/komplet/hruban.html', 'http://www.phil.muni.cz/fil/scf/komplet/hruby.html', 'http://www.phil.muni.cz/fil/scf/komplet/hrubyp.html', 'http://www.phil.muni.cz/fil/scf/komplet/hrubyj.html', 'http://www.phil.muni.cz/fil/scf/komplet/zikmhr.html', 'http://www.phil.muni.cz/fil/scf/komplet/hrusov.html', 'http://www.phil.muni.cz/fil/scf/komplet/hubik.html', 'http://www.phil.muni.cz/fil/scf/komplet/hus.html', 'http://www.phil.muni.cz/fil/scf/komplet/huserl.html', 'http://www.phil.muni.cz/fil/scf/komplet/hybler.html', 'http://www.phil.muni.cz/fil/scf/komplet/hyna.html', 'http://www.phil.muni.cz/fil/scf/komplet/chalpc.html', 'http://www.phil.muni.cz/fil/scf/komplet/chalpn.html', 'http://www.phil.muni.cz/fil/scf/komplet/chelck.html', 'http://www.phil.muni.cz/fil/scf/komplet/chladk.html', 'http://www.phil.muni.cz/fil/scf/komplet/chlup.html', 'http://www.phil.muni.cz/fil/scf/komplet/chudob.html', 'http://www.phil.muni.cz/fil/scf/komplet/chvati.html', 'http://www.phil.muni.cz/fil/scf/komplet/chvatk.html', 'http://www.phil.muni.cz/fil/scf/komplet/jahn.html', 'http://www.phil.muni.cz/fil/scf/komplet/jakbks.html', 'http://www.phil.muni.cz/fil/scf/komplet/jakovn.html', 'http://www.phil.muni.cz/fil/scf/komplet/jakubm.html', 'http://www.phil.muni.cz/fil/scf/komplet/jakmol.html', 'http://www.phil.muni.cz/fil/scf/komplet/janel.html', 'http://www.phil.muni.cz/fil/scf/komplet/janfr.html', 'http://www.phil.muni.cz/fil/scf/komplet/janher.html', 'http://www.phil.muni.cz/fil/scf/komplet/janjak.html', 'http://www.phil.muni.cz/fil/scf/komplet/kardin.html', 'http://www.phil.muni.cz/fil/scf/komplet/janrab.html', 'http://www.phil.muni.cz/fil/scf/komplet/janpro.html', 'http://www.phil.muni.cz/fil/scf/komplet/scolas.html', 'http://www.phil.muni.cz/fil/scf/komplet/janste.html', 'http://www.phil.muni.cz/fil/scf/komplet/janvav.html', 'http://www.phil.muni.cz/fil/scf/komplet/janbor.html', 'http://www.phil.muni.cz/fil/scf/komplet/janzhr.html', 'http://www.phil.muni.cz/fil/scf/komplet/janjem.html', 'http://www.phil.muni.cz/fil/scf/komplet/janjns.html', 'http://www.phil.muni.cz/fil/scf/komplet/janjes.html', 'http://www.phil.muni.cz/fil/scf/komplet/janjic.html', 'http://www.phil.muni.cz/fil/scf/komplet/janmyt.html', 'http://www.phil.muni.cz/fil/scf/komplet/janpri.html', 'http://www.phil.muni.cz/fil/scf/komplet/janpus.html', 'http://www.phil.muni.cz/fil/scf/komplet/janris.html', 'http://www.phil.muni.cz/fil/scf/komplet/janstr.html', 'http://www.phil.muni.cz/fil/scf/komplet/janzel.html', 'http://www.phil.muni.cz/fil/scf/komplet/janka.html', 'http://www.phil.muni.cz/fil/scf/komplet/janak.html', 'http://www.phil.muni.cz/fil/scf/komplet/janat.html', 'http://www.phil.muni.cz/fil/scf/komplet/jandik.html', 'http://www.phil.muni.cz/fil/scf/komplet/javurk.html', 'http://www.phil.muni.cz/fil/scf/komplet/jelink.html', 'http://www.phil.muni.cz/fil/scf/komplet/jenek.html', 'http://www.phil.muni.cz/fil/scf/komplet/jenist.html', 'http://www.phil.muni.cz/fil/scf/komplet/jermar.html', 'http://www.phil.muni.cz/fil/scf/komplet/jeronp.html', 'http://www.phil.muni.cz/fil/scf/komplet/jerpr.html', 'http://www.phil.muni.cz/fil/scf/komplet/jerusa.html', 'http://www.phil.muni.cz/fil/scf/komplet/jesnis.html', 'http://www.phil.muni.cz/fil/scf/komplet/jeschk.html', 'http://www.phil.muni.cz/fil/scf/komplet/jezc.html', 'http://www.phil.muni.cz/fil/scf/komplet/jicin.html', 'http://www.phil.muni.cz/fil/scf/komplet/jindr.html', 'http://www.phil.muni.cz/fil/scf/komplet/jirku.html', 'http://www.phil.muni.cz/fil/scf/komplet/jodl.html', 'http://www.phil.muni.cz/fil/scf/komplet/jozif.html', 'http://www.phil.muni.cz/fil/scf/komplet/jungmn.html', 'http://www.phil.muni.cz/fil/scf/komplet/juzl.html', 'http://www.phil.muni.cz/fil/scf/komplet/kabes.html', 'http://www.phil.muni.cz/fil/scf/komplet/kader.html', 'http://www.phil.muni.cz/fil/scf/komplet/kadner.html', 'http://www.phil.muni.cz/fil/scf/komplet/kafka.html', 'http://www.phil.muni.cz/fil/scf/komplet/kachjo.html', 'http://www.phil.muni.cz/fil/scf/komplet/kaizl.html', 'http://www.phil.muni.cz/fil/scf/komplet/kajpr.html', 'http://www.phil.muni.cz/fil/scf/komplet/kalndr.html', 'http://www.phil.muni.cz/fil/scf/komplet/kalist.html', 'http://www.phil.muni.cz/fil/scf/komplet/kalivo.html', 'http://www.phil.muni.cz/fil/scf/komplet/kallab.html', 'http://www.phil.muni.cz/fil/scf/komplet/kalous.html', 'http://www.phil.muni.cz/fil/scf/komplet/kamarj.html', 'http://www.phil.muni.cz/fil/scf/komplet/kamryt.html', 'http://www.phil.muni.cz/fil/scf/komplet/kanak.html', 'http://www.phil.muni.cz/fil/scf/komplet/kansky.html', 'http://www.phil.muni.cz/fil/scf/komplet/kapras.html', 'http://www.phil.muni.cz/fil/scf/komplet/kara.html', 'http://www.phil.muni.cz/fil/scf/komplet/karel.html', 'http://www.phil.muni.cz/fil/scf/komplet/karfik.html', 'http://www.phil.muni.cz/fil/scf/komplet/karfle.html', 'http://www.phil.muni.cz/fil/scf/komplet/kastil.html', 'http://www.phil.muni.cz/fil/scf/komplet/katkov.html', 'http://www.phil.muni.cz/fil/scf/komplet/kaulch.html', 'http://www.phil.muni.cz/fil/scf/komplet/kautm.html', 'http://www.phil.muni.cz/fil/scf/komplet/kelsen.html', 'http://www.phil.muni.cz/fil/scf/komplet/kepler.html', 'http://www.phil.muni.cz/fil/scf/komplet/kizvet.html', 'http://www.phil.muni.cz/fil/scf/komplet/klacel.html', 'http://www.phil.muni.cz/fil/scf/komplet/klima.html', 'http://www.phil.muni.cz/fil/scf/komplet/klofac.html', 'http://www.phil.muni.cz/fil/scf/komplet/knitel.html', 'http://www.phil.muni.cz/fil/scf/komplet/kodicl.html', 'http://www.phil.muni.cz/fil/scf/komplet/kohak.html', 'http://www.phil.muni.cz/fil/scf/komplet/kohn.html', 'http://www.phil.muni.cz/fil/scf/komplet/kolar.html', 'http://www.phil.muni.cz/fil/scf/komplet/kolrsk.html', 'http://www.phil.muni.cz/fil/scf/komplet/kolda.html', 'http://www.phil.muni.cz/fil/scf/komplet/kollar.html', 'http://www.phil.muni.cz/fil/scf/komplet/kolman.html', 'http://www.phil.muni.cz/fil/scf/komplet/komark.html', 'http://www.phil.muni.cz/fil/scf/komplet/komens.html', 'http://www.phil.muni.cz/fil/scf/komplet/konac.html', 'http://www.phil.muni.cz/fil/scf/komplet/konecn.html', 'http://www.phil.muni.cz/fil/scf/komplet/konecr.html', 'http://www.phil.muni.cz/fil/scf/komplet/konrad.html', 'http://www.phil.muni.cz/fil/scf/komplet/waldh.html', 'http://www.phil.muni.cz/fil/scf/komplet/konstc.html', 'http://www.phil.muni.cz/fil/scf/komplet/kopcok.html', 'http://www.phil.muni.cz/fil/scf/komplet/kops.html', 'http://www.phil.muni.cz/fil/scf/komplet/kopsov.html', 'http://www.phil.muni.cz/fil/scf/komplet/kordac.html', 'http://www.phil.muni.cz/fil/scf/komplet/korec.html', 'http://www.phil.muni.cz/fil/scf/komplet/koren.html', 'http://www.phil.muni.cz/fil/scf/komplet/kornel.html', 'http://www.phil.muni.cz/fil/scf/komplet/korink.html', 'http://www.phil.muni.cz/fil/scf/komplet/kornkj.html', 'http://www.phil.muni.cz/fil/scf/komplet/kosik.html', 'http://www.phil.muni.cz/fil/scf/komplet/kosin.html', 'http://www.phil.muni.cz/fil/scf/komplet/kosmas.html', 'http://www.phil.muni.cz/fil/scf/komplet/kostlc.html', 'http://www.phil.muni.cz/fil/scf/komplet/kottko.html', 'http://www.phil.muni.cz/fil/scf/komplet/kotik.html', 'http://www.phil.muni.cz/fil/scf/komplet/kouba.html', 'http://www.phil.muni.cz/fil/scf/komplet/kourim.html', 'http://www.phil.muni.cz/fil/scf/komplet/kozkjb.html', 'http://www.phil.muni.cz/fil/scf/komplet/kozlow.html', 'http://www.phil.muni.cz/fil/scf/komplet/kozmin.html', 'http://www.phil.muni.cz/fil/scf/komplet/kralj.html', 'http://www.phil.muni.cz/fil/scf/komplet/kral-m.html', 'http://www.phil.muni.cz/fil/scf/komplet/kramro.html', 'http://www.phil.muni.cz/fil/scf/komplet/krmris.html', 'http://www.phil.muni.cz/fil/scf/komplet/krasnc.html', 'http://www.phil.muni.cz/fil/scf/komplet/kratna.html', 'http://www.phil.muni.cz/fil/scf/komplet/krat-a.html', 'http://www.phil.muni.cz/fil/scf/komplet/kratj.html', 'http://www.phil.muni.cz/fil/scf/komplet/kratzd.html', 'http://www.phil.muni.cz/fil/scf/komplet/kraus.html', 'http://www.phil.muni.cz/fil/scf/komplet/krejfr.html', 'http://www.phil.muni.cz/fil/scf/komplet/krejfv.html', 'http://www.phil.muni.cz/fil/scf/komplet/krejcj.html', 'http://www.phil.muni.cz/fil/scf/komplet/krejcr.html', 'http://www.phil.muni.cz/fil/scf/komplet/krob.html', 'http://www.phil.muni.cz/fil/scf/komplet/kronsk.html', 'http://www.phil.muni.cz/fil/scf/komplet/kroupa.html', 'http://www.phil.muni.cz/fil/scf/komplet/krups.html', 'http://www.phil.muni.cz/fil/scf/komplet/kristp.html', 'http://www.phil.muni.cz/fil/scf/komplet/krivsk.html', 'http://www.phil.muni.cz/fil/scf/komplet/kriz.html', 'http://www.phil.muni.cz/fil/scf/komplet/kriznc.html', 'http://www.phil.muni.cz/fil/scf/komplet/kubes.html', 'http://www.phil.muni.cz/fil/scf/komplet/kucera.html', 'http://www.phil.muni.cz/fil/scf/komplet/kucirk.html', 'http://www.phil.muni.cz/fil/scf/komplet/kudrna.html', 'http://www.phil.muni.cz/fil/scf/komplet/kuchar.html', 'http://www.phil.muni.cz/fil/scf/komplet/kuna.html', 'http://www.phil.muni.cz/fil/scf/komplet/kunes.html', 'http://www.phil.muni.cz/fil/scf/komplet/kunstv.html', 'http://www.phil.muni.cz/fil/scf/komplet/kunte.html', 'http://www.phil.muni.cz/fil/scf/komplet/kvet.html', 'http://www.phil.muni.cz/fil/scf/komplet/kybalv.html', 'http://www.phil.muni.cz/fil/scf/komplet/kypry.html', 'http://www.phil.muni.cz/fil/scf/komplet/lahulk.html', 'http://www.phil.muni.cz/fil/scf/komplet/laiberg.html', 'http://www.phil.muni.cz/fil/scf/komplet/laicht.html', 'http://www.phil.muni.cz/fil/scf/komplet/lajcia.html', 'http://www.phil.muni.cz/fil/scf/komplet/langa.html', 'http://www.phil.muni.cz/fil/scf/komplet/lapsin.html', 'http://www.phil.muni.cz/fil/scf/komplet/laskav.html', 'http://www.phil.muni.cz/fil/scf/komplet/lasek.html', 'http://www.phil.muni.cz/fil/scf/komplet/lenz.html', 'http://www.phil.muni.cz/fil/scf/komplet/leonh.html', 'http://www.phil.muni.cz/fil/scf/komplet/lepar.html', 'http://www.phil.muni.cz/fil/scf/komplet/lepka.html', 'http://www.phil.muni.cz/fil/scf/komplet/lepin.html', 'http://www.phil.muni.cz/fil/scf/komplet/lesko.html', 'http://www.phil.muni.cz/fil/scf/komplet/likwec.html', 'http://www.phil.muni.cz/fil/scf/komplet/lindnr.html', 'http://www.phil.muni.cz/fil/scf/komplet/linhrf.html', 'http://www.phil.muni.cz/fil/scf/komplet/linhrt.html', 'http://www.phil.muni.cz/fil/scf/komplet/liprt.html', 'http://www.phil.muni.cz/fil/scf/komplet/lobkow.html', 'http://www.phil.muni.cz/fil/scf/komplet/lewnst.html', 'http://www.phil.muni.cz/fil/scf/komplet/lochm.html', 'http://www.phil.muni.cz/fil/scf/komplet/lomnck.html', 'http://www.phil.muni.cz/fil/scf/komplet/lrnzov.html', 'http://www.phil.muni.cz/fil/scf/komplet/loskot.html', 'http://www.phil.muni.cz/fil/scf/komplet/loskij.html', 'http://www.phil.muni.cz/fil/scf/komplet/loukot.html', 'http://www.phil.muni.cz/fil/scf/komplet/louzil.html', 'http://www.phil.muni.cz/fil/scf/komplet/louzlo.html', 'http://www.phil.muni.cz/fil/scf/komplet/loew.html', 'http://www.phil.muni.cz/fil/scf/komplet/loewe.html', 'http://www.phil.muni.cz/fil/scf/komplet/ludvik.html', 'http://www.phil.muni.cz/fil/scf/komplet/macku.html', 'http://www.phil.muni.cz/fil/scf/komplet/madr.html', 'http://www.phil.muni.cz/fil/scf/komplet/magni.html', 'http://www.phil.muni.cz/fil/scf/komplet/mach.html', 'http://www.phil.muni.cz/fil/scf/komplet/macha.html', 'http://www.phil.muni.cz/fil/scf/komplet/machkh.html', 'http://www.phil.muni.cz/fil/scf/komplet/machjs.html', 'http://www.phil.muni.cz/fil/scf/komplet/machek.html', 'http://www.phil.muni.cz/fil/scf/komplet/machot.html', 'http://www.phil.muni.cz/fil/scf/komplet/mach-d.html', 'http://www.phil.muni.cz/fil/scf/komplet/mach-m.html', 'http://www.phil.muni.cz/fil/scf/komplet/major.html', 'http://www.phil.muni.cz/fil/scf/komplet/makov.html', 'http://www.phil.muni.cz/fil/scf/komplet/maly.html', 'http://www.phil.muni.cz/fil/scf/komplet/malyri.html', 'http://www.phil.muni.cz/fil/scf/komplet/marcel.html', 'http://www.phil.muni.cz/fil/scf/komplet/marcus.html', 'http://www.phil.muni.cz/fil/scf/komplet/marek.html', 'http://www.phil.muni.cz/fil/scf/komplet/marekj.html', 'http://www.phil.muni.cz/fil/scf/komplet/maresf.html', 'http://www.phil.muni.cz/fil/scf/komplet/markal.html', 'http://www.phil.muni.cz/fil/scf/komplet/martku.html', 'http://www.phil.muni.cz/fil/scf/komplet/lupac.html', 'http://www.phil.muni.cz/fil/scf/komplet/martin.html', 'http://www.phil.muni.cz/fil/scf/komplet/martkl.html', 'http://www.phil.muni.cz/fil/scf/komplet/martpl.html', 'http://www.phil.muni.cz/fil/scf/komplet/martnk.html', 'http://www.phil.muni.cz/fil/scf/komplet/marty.html', 'http://www.phil.muni.cz/fil/scf/komplet/marsia.html', 'http://www.phil.muni.cz/fil/scf/komplet/marrva.html', 'http://www.phil.muni.cz/fil/scf/komplet/marben.html', 'http://www.phil.muni.cz/fil/scf/komplet/masar.html', 'http://www.phil.muni.cz/fil/scf/komplet/masard.html', 'http://www.phil.muni.cz/fil/scf/komplet/masat.html', 'http://www.phil.muni.cz/fil/scf/komplet/matbyd.html', 'http://www.phil.muni.cz/fil/scf/komplet/matjan.html', 'http://www.phil.muni.cz/fil/scf/komplet/matzkn.html', 'http://www.phil.muni.cz/fil/scf/komplet/matej.html', 'http://www.phil.muni.cz/fil/scf/komplet/matpob.html', 'http://www.phil.muni.cz/fil/scf/komplet/mat-m.html', 'http://www.phil.muni.cz/fil/scf/komplet/matpav.html', 'http://www.phil.muni.cz/fil/scf/komplet/mathau.html', 'http://www.phil.muni.cz/fil/scf/komplet/matoch.html', 'http://www.phil.muni.cz/fil/scf/komplet/matous.html', 'http://www.phil.muni.cz/fil/scf/komplet/mauthf.html', 'http://www.phil.muni.cz/fil/scf/komplet/meinrt.html', 'http://www.phil.muni.cz/fil/scf/komplet/menzel.html', 'http://www.phil.muni.cz/fil/scf/komplet/meszar.html', 'http://www.phil.muni.cz/fil/scf/komplet/mezen.html', 'http://www.phil.muni.cz/fil/scf/komplet/mihina.html', 'http://www.phil.muni.cz/fil/scf/komplet/michci.html', 'http://www.phil.muni.cz/fil/scf/komplet/michpr.html', 'http://www.phil.muni.cz/fil/scf/komplet/michlk.html', 'http://www.phil.muni.cz/fil/scf/komplet/michnk.html', 'http://www.phil.muni.cz/fil/scf/komplet/mika.html', 'http://www.phil.muni.cz/fil/scf/komplet/miklik.html', 'http://www.phil.muni.cz/fil/scf/komplet/miks.html', 'http://www.phil.muni.cz/fil/scf/komplet/mikbic.html', 'http://www.phil.muni.cz/fil/scf/komplet/mikbis.html', 'http://www.phil.muni.cz/fil/scf/komplet/miksto.html', 'http://www.phil.muni.cz/fil/scf/komplet/mikbud.html', 'http://www.phil.muni.cz/fil/scf/komplet/mikdr.html', 'http://www.phil.muni.cz/fil/scf/komplet/miklit.html', 'http://www.phil.muni.cz/fil/scf/komplet/miklou.html', 'http://www.phil.muni.cz/fil/scf/komplet/mikmil.html', 'http://www.phil.muni.cz/fil/scf/komplet/mikpav.html', 'http://www.phil.muni.cz/fil/scf/komplet/mikzpr.html', 'http://www.phil.muni.cz/fil/scf/komplet/mikrak.html', 'http://www.phil.muni.cz/fil/scf/komplet/mikrec.html', 'http://www.phil.muni.cz/fil/scf/komplet/milic.html', 'http://www.phil.muni.cz/fil/scf/komplet/mircuk.html', 'http://www.phil.muni.cz/fil/scf/komplet/miskov.html', 'http://www.phil.muni.cz/fil/scf/komplet/mlezva.html', 'http://www.phil.muni.cz/fil/scf/komplet/mokrej.html', 'http://www.phil.muni.cz/fil/scf/komplet/molnar.html', 'http://www.phil.muni.cz/fil/scf/komplet/mraz.html', 'http://www.phil.muni.cz/fil/scf/komplet/mukar.html', 'http://www.phil.muni.cz/fil/scf/komplet/munz.html', 'http://www.phil.muni.cz/fil/scf/komplet/muzik.html', 'http://www.phil.muni.cz/fil/scf/komplet/myslik.html', 'http://www.phil.muni.cz/fil/scf/komplet/nahlow.html', 'http://www.phil.muni.cz/fil/scf/komplet/navjos.html', 'http://www.phil.muni.cz/fil/scf/komplet/navrat.html', 'http://www.phil.muni.cz/fil/scf/komplet/nebes.html', 'http://www.phil.muni.cz/fil/scf/komplet/neff.html', 'http://www.phil.muni.cz/fil/scf/komplet/nechut.html', 'http://www.phil.muni.cz/fil/scf/komplet/nejed.html', 'http://www.phil.muni.cz/fil/scf/komplet/nemec.html', 'http://www.phil.muni.cz/fil/scf/komplet/nemecj.html', 'http://www.phil.muni.cz/fil/scf/komplet/nemckx.html', 'http://www.phil.muni.cz/fil/scf/komplet/nemesk.html', 'http://www.phil.muni.cz/fil/scf/komplet/netop.html', 'http://www.phil.muni.cz/fil/scf/komplet/neubzd.html', 'http://www.phil.muni.cz/fil/scf/komplet/neuman.html', 'http://www.phil.muni.cz/fil/scf/komplet/nosekj.html', 'http://www.phil.muni.cz/fil/scf/komplet/novaka.html', 'http://www.phil.muni.cz/fil/scf/komplet/novak.html', 'http://www.phil.muni.cz/fil/scf/komplet/novgor.html', 'http://www.phil.muni.cz/fil/scf/komplet/novikv.html', 'http://www.phil.muni.cz/fil/scf/komplet/novtna.html', 'http://www.phil.muni.cz/fil/scf/komplet/novfr.html', 'http://www.phil.muni.cz/fil/scf/komplet/novtnj.html', 'http://www.phil.muni.cz/fil/scf/komplet/novotn.html', 'http://www.phil.muni.cz/fil/scf/komplet/novoz.html', 'http://www.phil.muni.cz/fil/scf/komplet/novy.html', 'http://www.phil.muni.cz/fil/scf/komplet/ocko.html', 'http://www.phil.muni.cz/fil/scf/komplet/odlzli.html', 'http://www.phil.muni.cz/fil/scf/komplet/ondrbr.html', 'http://www.phil.muni.cz/fil/scf/komplet/ondkok.html', 'http://www.phil.muni.cz/fil/scf/komplet/opat.html', 'http://www.phil.muni.cz/fil/scf/komplet/orel.html', 'http://www.phil.muni.cz/fil/scf/komplet/osolsb.html', 'http://www.phil.muni.cz/fil/scf/komplet/osusky.html', 'http://www.phil.muni.cz/fil/scf/komplet/otazbr.html', 'http://www.phil.muni.cz/fil/scf/komplet/ovecka.html', 'http://www.phil.muni.cz/fil/scf/komplet/palac.html', 'http://www.phil.muni.cz/fil/scf/komplet/palous.html', 'http://www.phil.muni.cz/fil/scf/komplet/pamrov.html', 'http://www.phil.muni.cz/fil/scf/komplet/patock.html', 'http://www.phil.muni.cz/fil/scf/komplet/pauza.html', 'http://www.phil.muni.cz/fil/scf/komplet/pavzpr.html', 'http://www.phil.muni.cz/fil/scf/komplet/pavkra.html', 'http://www.phil.muni.cz/fil/scf/komplet/pavost.html', 'http://www.phil.muni.cz/fil/scf/komplet/zidek.html', 'http://www.phil.muni.cz/fil/scf/komplet/pavl.html', 'http://www.phil.muni.cz/fil/scf/komplet/pavlik.html', 'http://www.phil.muni.cz/fil/scf/komplet/pavlhe.html', 'http://www.phil.muni.cz/fil/scf/komplet/pavlnc.html', 'http://www.phil.muni.cz/fil/scf/komplet/pecka.html', 'http://www.phil.muni.cz/fil/scf/komplet/pechar.html', 'http://www.phil.muni.cz/fil/scf/komplet/pekar.html', 'http://www.phil.muni.cz/fil/scf/komplet/pelant.html', 'http://www.phil.muni.cz/fil/scf/komplet/pelikf.html', 'http://www.phil.muni.cz/fil/scf/komplet/pergr.html', 'http://www.phil.muni.cz/fil/scf/komplet/pertld.html', 'http://www.phil.muni.cz/fil/scf/komplet/pesek.html', 'http://www.phil.muni.cz/fil/scf/komplet/peskva.html', 'http://www.phil.muni.cz/fil/scf/komplet/petpay.html', 'http://www.phil.muni.cz/fil/scf/komplet/petrro.html', 'http://www.phil.muni.cz/fil/scf/komplet/petbra.html', 'http://www.phil.muni.cz/fil/scf/komplet/petdob.html', 'http://www.phil.muni.cz/fil/scf/komplet/petrhr.html', 'http://www.phil.muni.cz/fil/scf/komplet/petkon.html', 'http://www.phil.muni.cz/fil/scf/komplet/petlet.html', 'http://www.phil.muni.cz/fil/scf/komplet/petnah.html', 'http://www.phil.muni.cz/fil/scf/komplet/petpol.html', 'http://www.phil.muni.cz/fil/scf/komplet/petuje.html', 'http://www.phil.muni.cz/fil/scf/komplet/petsep.html', 'http://www.phil.muni.cz/fil/scf/komplet/petstu.html', 'http://www.phil.muni.cz/fil/scf/komplet/petzno.html', 'http://www.phil.muni.cz/fil/scf/komplet/petrzt.html', 'http://www.phil.muni.cz/fil/scf/komplet/petras.html', 'http://www.phil.muni.cz/fil/scf/komplet/petrml.html', 'http://www.phil.muni.cz/fil/scf/komplet/pichl.html', 'http://www.phil.muni.cz/fil/scf/komplet/pinc.html', 'http://www.phil.muni.cz/fil/scf/komplet/piseck.html', 'http://www.phil.muni.cz/fil/scf/komplet/pitter.html', 'http://www.phil.muni.cz/fil/scf/komplet/pleyer.html', 'http://www.phil.muni.cz/fil/scf/komplet/podlha.html', 'http://www.phil.muni.cz/fil/scf/komplet/pokora.html', 'http://www.phil.muni.cz/fil/scf/komplet/pokorp.html', 'http://www.phil.muni.cz/fil/scf/komplet/polach.html', 'http://www.phil.muni.cz/fil/scf/komplet/polakv.html', 'http://www.phil.muni.cz/fil/scf/komplet/polakc.html', 'http://www.phil.muni.cz/fil/scf/komplet/polans.html', 'http://www.phil.muni.cz/fil/scf/komplet/popel.html', 'http://www.phil.muni.cz/fil/scf/komplet/pospis.html', 'http://www.phil.muni.cz/fil/scf/komplet/preisn.html', 'http://www.phil.muni.cz/fil/scf/komplet/proch.html', 'http://www.phil.muni.cz/fil/scf/komplet/prochj.html', 'http://www.phil.muni.cz/fil/scf/komplet/prochm.html', 'http://www.phil.muni.cz/fil/scf/komplet/prokkl.html', 'http://www.phil.muni.cz/fil/scf/komplet/prokpl.html', 'http://www.phil.muni.cz/fil/scf/komplet/prokup.html', 'http://www.phil.muni.cz/fil/scf/komplet/prucha.html', 'http://www.phil.muni.cz/fil/scf/komplet/prech.html', 'http://www.phil.muni.cz/fil/scf/komplet/prijes.html', 'http://www.phil.muni.cz/fil/scf/komplet/prihod.html', 'http://www.phil.muni.cz/fil/scf/komplet/prihon.html', 'http://www.phil.muni.cz/fil/scf/komplet/pstruz.html', 'http://www.phil.muni.cz/fil/scf/komplet/purkyn.html', 'http://www.phil.muni.cz/fil/scf/komplet/radl.html', 'http://www.phil.muni.cz/fil/scf/komplet/radvan.html', 'http://www.phil.muni.cz/fil/scf/komplet/ransd.html', 'http://www.phil.muni.cz/fil/scf/komplet/reichl.html', 'http://www.phil.muni.cz/fil/scf/komplet/rejchn.html', 'http://www.phil.muni.cz/fil/scf/komplet/rezek.html', 'http://www.phil.muni.cz/fil/scf/komplet/riedlg.html', 'http://www.phil.muni.cz/fil/scf/komplet/rieger.html', 'http://www.phil.muni.cz/fil/scf/komplet/riegrl.html', 'http://www.phil.muni.cz/fil/scf/komplet/richar.html', 'http://www.phil.muni.cz/fil/scf/komplet/richta.html', 'http://www.phil.muni.cz/fil/scf/komplet/rchtrv.html', 'http://www.phil.muni.cz/fil/scf/komplet/richtr.html', 'http://www.phil.muni.cz/fil/scf/komplet/riska.html', 'http://www.phil.muni.cz/fil/scf/komplet/rodovs.html', 'http://www.phil.muni.cz/fil/scf/komplet/rokycn.html', 'http://www.phil.muni.cz/fil/scf/komplet/rosthr.html', 'http://www.phil.muni.cz/fil/scf/komplet/ruml.html', 'http://www.phil.muni.cz/fil/scf/komplet/rydlm.html', 'http://www.phil.muni.cz/fil/scf/komplet/rehlvu.html', 'http://www.phil.muni.cz/fil/scf/komplet/rehpra.html', 'http://www.phil.muni.cz/fil/scf/komplet/rehtom.html', 'http://www.phil.muni.cz/fil/scf/komplet/zajic.html', 'http://www.phil.muni.cz/fil/scf/komplet/rezac.html', 'http://www.phil.muni.cz/fil/scf/komplet/rican.html', 'http://www.phil.muni.cz/fil/scf/komplet/riha.html', 'http://www.phil.muni.cz/fil/scf/komplet/stank.html', 'http://www.phil.muni.cz/fil/scf/komplet/sabina.html', 'http://www.phil.muni.cz/fil/scf/komplet/sadek.html', 'http://www.phil.muni.cz/fil/scf/komplet/sagner.html', 'http://www.phil.muni.cz/fil/scf/komplet/sannig.html', 'http://www.phil.muni.cz/fil/scf/komplet/savick.html', 'http://www.phil.muni.cz/fil/scf/komplet/sedlfr.html', 'http://www.phil.muni.cz/fil/scf/komplet/sedlkj.html', 'http://www.phil.muni.cz/fil/scf/komplet/sedlar.html', 'http://www.phil.muni.cz/fil/scf/komplet/sedova.html', 'http://www.phil.muni.cz/fil/scf/komplet/segert.html', 'http://www.phil.muni.cz/fil/scf/komplet/seibt.html', 'http://www.phil.muni.cz/fil/scf/komplet/sesemn.html', 'http://www.phil.muni.cz/fil/scf/komplet/seydlr.html', 'http://www.phil.muni.cz/fil/scf/komplet/schaur.html', 'http://www.phil.muni.cz/fil/scf/komplet/schif.html', 'http://www.phil.muni.cz/fil/scf/komplet/schill.html', 'http://www.phil.muni.cz/fil/scf/komplet/schleg.html', 'http://www.phil.muni.cz/fil/scf/komplet/silva.html', 'http://www.phil.muni.cz/fil/scf/komplet/sirac.html', 'http://www.phil.muni.cz/fil/scf/komplet/skclbj.html', 'http://www.phil.muni.cz/fil/scf/komplet/skclmi.html', 'http://www.phil.muni.cz/fil/scf/komplet/skalic.html', 'http://www.phil.muni.cz/fil/scf/komplet/skorep.html', 'http://www.phil.muni.cz/fil/scf/komplet/slavik.html', 'http://www.phil.muni.cz/fil/scf/komplet/slejsk.html', 'http://www.phil.muni.cz/fil/scf/komplet/slezin.html', 'http://www.phil.muni.cz/fil/scf/komplet/smetck.html', 'http://www.phil.muni.cz/fil/scf/komplet/smtnau.html', 'http://www.phil.muni.cz/fil/scf/komplet/smetan.html', 'http://www.phil.muni.cz/fil/scf/komplet/smolik.html', 'http://www.phil.muni.cz/fil/scf/komplet/smrek.html', 'http://www.phil.muni.cz/fil/scf/komplet/smrz.html', 'http://www.phil.muni.cz/fil/scf/komplet/skala.html', 'http://www.phil.muni.cz/fil/scf/komplet/sobtka.html', 'http://www.phil.muni.cz/fil/scf/komplet/sbtkav.html', 'http://www.phil.muni.cz/fil/scf/komplet/sochor.html', 'http://www.phil.muni.cz/fil/scf/komplet/sokol.html', 'http://www.phil.muni.cz/fil/scf/komplet/soldan.html', 'http://www.phil.muni.cz/fil/scf/komplet/soucek.html', 'http://www.phil.muni.cz/fil/scf/komplet/souckr.html', 'http://www.phil.muni.cz/fil/scf/komplet/soukupe.html', 'http://www.phil.muni.cz/fil/scf/komplet/soukpf.html', 'http://www.phil.muni.cz/fil/scf/komplet/soused.html', 'http://www.phil.muni.cz/fil/scf/komplet/sporck.html', 'http://www.phil.muni.cz/fil/scf/komplet/springer.html', 'http://www.phil.muni.cz/fil/scf/komplet/spunar.html', 'http://www.phil.muni.cz/fil/scf/komplet/srbm.html', 'http://www.phil.muni.cz/fil/scf/komplet/srovnl.html', 'http://www.phil.muni.cz/fil/scf/komplet/stachv.html', 'http://www.phil.muni.cz/fil/scf/komplet/stach.html', 'http://www.phil.muni.cz/fil/scf/komplet/stznoj.html', 'http://www.phil.muni.cz/fil/scf/komplet/statec.html', 'http://www.phil.muni.cz/fil/scf/komplet/steind.html', 'http://www.phil.muni.cz/fil/scf/komplet/steinr.html', 'http://www.phil.muni.cz/fil/scf/komplet/stepln.html', 'http://www.phil.muni.cz/fil/scf/komplet/stiebi.html', 'http://www.phil.muni.cz/fil/scf/komplet/stodol.html', 'http://www.phil.muni.cz/fil/scf/komplet/strans.html', 'http://www.phil.muni.cz/fil/scf/komplet/stranp.html', 'http://www.phil.muni.cz/fil/scf/komplet/strink.html', 'http://www.phil.muni.cz/fil/scf/komplet/strohs.html', 'http://www.phil.muni.cz/fil/scf/komplet/stryko.html', 'http://www.phil.muni.cz/fil/scf/komplet/stritc.html', 'http://www.phil.muni.cz/fil/scf/komplet/stuchl.html', 'http://www.phil.muni.cz/fil/scf/komplet/stumpf.html', 'http://www.phil.muni.cz/fil/scf/komplet/stuna.html', 'http://www.phil.muni.cz/fil/scf/komplet/suchyj.html', 'http://www.phil.muni.cz/fil/scf/komplet/susol.html', 'http://www.phil.muni.cz/fil/scf/komplet/susao.html', 'http://www.phil.muni.cz/fil/scf/komplet/svitak.html', 'http://www.phil.muni.cz/fil/scf/komplet/svobde.html', 'http://www.phil.muni.cz/fil/scf/komplet/svobka.html', 'http://www.phil.muni.cz/fil/scf/komplet/svoblu.html', 'http://www.phil.muni.cz/fil/scf/komplet/svobdv.html', 'http://www.phil.muni.cz/fil/scf/komplet/sykora.html', 'http://www.phil.muni.cz/fil/scf/komplet/szanto.html', 'http://www.phil.muni.cz/fil/scf/komplet/safjo.html', 'http://www.phil.muni.cz/fil/scf/komplet/salda.html', 'http://www.phil.muni.cz/fil/scf/komplet/sauerj.html', 'http://www.phil.muni.cz/fil/scf/komplet/sebest.html', 'http://www.phil.muni.cz/fil/scf/komplet/sefrnk.html', 'http://www.phil.muni.cz/fil/scf/komplet/serack.html', 'http://www.phil.muni.cz/fil/scf/komplet/silhan.html', 'http://www.phil.muni.cz/fil/scf/komplet/simeck.html', 'http://www.phil.muni.cz/fil/scf/komplet/simek.html', 'http://www.phil.muni.cz/fil/scf/komplet/simrka.html', 'http://www.phil.muni.cz/fil/scf/komplet/simtis.html', 'http://www.phil.muni.cz/fil/scf/komplet/sims-s.html', 'http://www.phil.muni.cz/fil/scf/komplet/sims-o.html', 'http://www.phil.muni.cz/fil/scf/komplet/sindel.html', 'http://www.phil.muni.cz/fil/scf/komplet/skrach.html', 'http://www.phil.muni.cz/fil/scf/komplet/smahel.html', 'http://www.phil.muni.cz/fil/scf/komplet/smajs.html', 'http://www.phil.muni.cz/fil/scf/komplet/smardj.html', 'http://www.phil.muni.cz/fil/scf/komplet/smauso.html', 'http://www.phil.muni.cz/fil/scf/komplet/snebrg.html', 'http://www.phil.muni.cz/fil/scf/komplet/spaldk.html', 'http://www.phil.muni.cz/fil/scf/komplet/spidl.html', 'http://www.phil.muni.cz/fil/scf/komplet/sprunk.html', 'http://www.phil.muni.cz/fil/scf/komplet/sramj.html', 'http://www.phil.muni.cz/fil/scf/komplet/srobar.html', 'http://www.phil.muni.cz/fil/scf/komplet/srubar.html', 'http://www.phil.muni.cz/fil/scf/komplet/stmpch.html', 'http://www.phil.muni.cz/fil/scf/komplet/stepan.html', 'http://www.phil.muni.cz/fil/scf/komplet/stepdo.html', 'http://www.phil.muni.cz/fil/scf/komplet/stepko.html', 'http://www.phil.muni.cz/fil/scf/komplet/steppa.html', 'http://www.phil.muni.cz/fil/scf/komplet/stepse.html', 'http://www.phil.muni.cz/fil/scf/komplet/storch.html', 'http://www.phil.muni.cz/fil/scf/komplet/stursv.html', 'http://www.phil.muni.cz/fil/scf/komplet/sverma.html', 'http://www.phil.muni.cz/fil/scf/komplet/svihrn.html', 'http://www.phil.muni.cz/fil/scf/komplet/tardyv.html', 'http://www.phil.muni.cz/fil/scf/komplet/teige.html', 'http://www.phil.muni.cz/fil/scf/komplet/thurn.html', 'http://www.phil.muni.cz/fil/scf/komplet/tichaj.html', 'http://www.phil.muni.cz/fil/scf/komplet/tichgu.html', 'http://www.phil.muni.cz/fil/scf/komplet/tichym.html', 'http://www.phil.muni.cz/fil/scf/komplet/tichy.html', 'http://www.phil.muni.cz/fil/scf/komplet/tilser.html', 'http://www.phil.muni.cz/fil/scf/komplet/tlusty.html', 'http://www.phil.muni.cz/fil/scf/komplet/tomlys.html', 'http://www.phil.muni.cz/fil/scf/komplet/stitny.html', 'http://www.phil.muni.cz/fil/scf/komplet/tomek.html', 'http://www.phil.muni.cz/fil/scf/komplet/tomin.html', 'http://www.phil.muni.cz/fil/scf/komplet/tomsab.html', 'http://www.phil.muni.cz/fil/scf/komplet/tondl.html', 'http://www.phil.muni.cz/fil/scf/komplet/tosen.html', 'http://www.phil.muni.cz/fil/scf/komplet/trakal.html', 'http://www.phil.muni.cz/fil/scf/komplet/trapl.html', 'http://www.phil.muni.cz/fil/scf/komplet/trtera.html', 'http://www.phil.muni.cz/fil/scf/komplet/trnka.html', 'http://www.phil.muni.cz/fil/scf/komplet/trojan.html', 'http://www.phil.muni.cz/fil/scf/komplet/nigel.html', 'http://www.phil.muni.cz/fil/scf/komplet/trtik.html', 'http://www.phil.muni.cz/fil/scf/komplet/tuma.html', 'http://www.phil.muni.cz/fil/scf/komplet/tvrdy.html', 'http://www.phil.muni.cz/fil/scf/komplet/tyrs.html', 'http://www.phil.muni.cz/fil/scf/komplet/uherjn.html', 'http://www.phil.muni.cz/fil/scf/komplet/uherj.html', 'http://www.phil.muni.cz/fil/scf/komplet/uhlir.html', 'http://www.phil.muni.cz/fil/scf/komplet/ulehla.html', 'http://www.phil.muni.cz/fil/scf/komplet/urban.html', 'http://www.phil.muni.cz/fil/scf/komplet/urx.html', 'http://www.phil.muni.cz/fil/scf/komplet/utitz.html', 'http://www.phil.muni.cz/fil/scf/komplet/vaclto.html', 'http://www.phil.muni.cz/fil/scf/komplet/vaclch.html', 'http://www.phil.muni.cz/fil/scf/komplet/vaclmi.html', 'http://www.phil.muni.cz/fil/scf/komplet/vaclp1.html', 'http://www.phil.muni.cz/fil/scf/komplet/vaclp2.html', 'http://www.phil.muni.cz/fil/scf/komplet/vaclvk.html', 'http://www.phil.muni.cz/fil/scf/komplet/valehr.html', 'http://www.phil.muni.cz/fil/scf/komplet/valnta.html', 'http://www.phil.muni.cz/fil/scf/komplet/vanefo.html', 'http://www.phil.muni.cz/fil/scf/komplet/vanekj.html', 'http://www.phil.muni.cz/fil/scf/komplet/vaross.html', 'http://www.phil.muni.cz/fil/scf/komplet/vrsova.html', 'http://www.phil.muni.cz/fil/scf/komplet/vasilk.html', 'http://www.phil.muni.cz/fil/scf/komplet/vasicz.html', 'http://www.phil.muni.cz/fil/scf/komplet/vavra.html', 'http://www.phil.muni.cz/fil/scf/komplet/vavrbr.html', 'http://www.phil.muni.cz/fil/scf/komplet/vavrny.html', 'http://www.phil.muni.cz/fil/scf/komplet/velek.html', 'http://www.phil.muni.cz/fil/scf/komplet/velen.html', 'http://www.phil.muni.cz/fil/scf/komplet/velins.html', 'http://www.phil.muni.cz/fil/scf/komplet/vernad.html', 'http://www.phil.muni.cz/fil/scf/komplet/verun.html', 'http://www.phil.muni.cz/fil/scf/komplet/veselk.html', 'http://www.phil.muni.cz/fil/scf/komplet/vetrov.html', 'http://www.phil.muni.cz/fil/scf/komplet/vicenk.html', 'http://www.phil.muni.cz/fil/scf/komplet/vik.html', 'http://www.phil.muni.cz/fil/scf/komplet/visnvs.html', 'http://www.phil.muni.cz/fil/scf/komplet/vlk-v.html', 'http://www.phil.muni.cz/fil/scf/komplet/vodicf.html', 'http://www.phil.muni.cz/fil/scf/komplet/vodick.html', 'http://www.phil.muni.cz/fil/scf/komplet/vojtbl.html', 'http://www.phil.muni.cz/fil/scf/komplet/vojtzj.html', 'http://www.phil.muni.cz/fil/scf/komplet/vojtek.html', 'http://www.phil.muni.cz/fil/scf/komplet/volkmn.html', 'http://www.phil.muni.cz/fil/scf/komplet/vopnka.html', 'http://www.phil.muni.cz/fil/scf/komplet/vorovk.html', 'http://www.phil.muni.cz/fil/scf/komplet/votka.html', 'http://www.phil.muni.cz/fil/scf/komplet/vrana.html', 'http://www.phil.muni.cz/fil/scf/komplet/vrben.html', 'http://www.phil.muni.cz/fil/scf/komplet/vrttko.html', 'http://www.phil.muni.cz/fil/scf/komplet/vychpa.html', 'http://www.phil.muni.cz/fil/scf/komplet/vyskkp.html', 'http://www.phil.muni.cz/fil/scf/komplet/vyskoc.html', 'http://www.phil.muni.cz/fil/scf/komplet/wagner.html', 'http://www.phil.muni.cz/fil/scf/komplet/wald.html', 'http://www.phil.muni.cz/fil/scf/komplet/walpr.html', 'http://www.phil.muni.cz/fil/scf/komplet/weinb.html', 'http://www.phil.muni.cz/fil/scf/komplet/wltsch.html', 'http://www.phil.muni.cz/fil/scf/komplet/wern.html', 'http://www.phil.muni.cz/fil/scf/komplet/werst.html', 'http://www.phil.muni.cz/fil/scf/komplet/werthm.html', 'http://www.phil.muni.cz/fil/scf/komplet/weyr.html', 'http://www.phil.muni.cz/fil/scf/komplet/wilman.html', 'http://www.phil.muni.cz/fil/scf/komplet/winter.html', 'http://www.phil.muni.cz/fil/scf/komplet/wintrn.html', 'http://www.phil.muni.cz/fil/scf/komplet/zaba.html', 'http://www.phil.muni.cz/fil/scf/komplet/zahrad.html', 'http://www.phil.muni.cz/fil/scf/komplet/zala.html', 'http://www.phil.muni.cz/fil/scf/komplet/zatka.html', 'http://www.phil.muni.cz/fil/scf/komplet/zboril.html', 'http://www.phil.muni.cz/fil/scf/komplet/zdenla.html', 'http://www.phil.muni.cz/fil/scf/komplet/zdislv.html', 'http://www.phil.muni.cz/fil/scf/komplet/zeleny.html', 'http://www.phil.muni.cz/fil/scf/komplet/zeman.html', 'http://www.phil.muni.cz/fil/scf/komplet/zenger.html', 'http://www.phil.muni.cz/fil/scf/komplet/zigo.html', 'http://www.phil.muni.cz/fil/scf/komplet/zich.html', 'http://www.phil.muni.cz/fil/scf/komplet/zichml.html', 'http://www.phil.muni.cz/fil/scf/komplet/zikmdp.html', 'http://www.phil.muni.cz/fil/scf/komplet/zimerm.html', 'http://www.phil.muni.cz/fil/scf/komplet/zimanr.html', 'http://www.phil.muni.cz/fil/scf/komplet/znoj.html', 'http://www.phil.muni.cz/fil/scf/komplet/zouhrj.html', 'http://www.phil.muni.cz/fil/scf/komplet/zumr.html', 'http://www.phil.muni.cz/fil/scf/komplet/zuska.html', 'http://www.phil.muni.cz/fil/scf/komplet/zverin.html', 'http://www.phil.muni.cz/fil/scf/komplet/zykmnd.html', 'http://www.phil.muni.cz/fil/scf/komplet/zilka.html']\n"
     ]
    }
   ],
   "source": [
    "filtered_hrefs = []\n",
    "\n",
    "for a_tag in soup.find_all('a'):\n",
    "    href = a_tag.get('href')    # Extract 'href' attribute value.\n",
    "    if href and href.startswith('http://www.phil.muni.cz/fil/scf/komplet/'):   # condition\n",
    "        filtered_hrefs.append(href)"
   ]
  },
  {
   "cell_type": "markdown",
   "metadata": {
    "collapsed": false
   },
   "source": [
    "vypišme si prvních 10 URL adres:"
   ]
  },
  {
   "cell_type": "code",
   "execution_count": 20,
   "metadata": {
    "ExecuteTime": {
     "end_time": "2024-01-20T09:57:41.014536Z",
     "start_time": "2024-01-20T09:57:41.009704Z"
    },
    "collapsed": false,
    "execution_time": 20
   },
   "outputs": [
    {
     "data": {
      "text/plain": [
       "['http://www.phil.muni.cz/fil/scf/komplet/adam.html',\n",
       " 'http://www.phil.muni.cz/fil/scf/komplet/adamik.html',\n",
       " 'http://www.phil.muni.cz/fil/scf/komplet/albert.html',\n",
       " 'http://www.phil.muni.cz/fil/scf/komplet/albik.html',\n",
       " 'http://www.phil.muni.cz/fil/scf/komplet/alexej.html',\n",
       " 'http://www.phil.muni.cz/fil/scf/komplet/altr.html',\n",
       " 'http://www.phil.muni.cz/fil/scf/komplet/amerl.html',\n",
       " 'http://www.phil.muni.cz/fil/scf/komplet/armbrs.html',\n",
       " 'http://www.phil.muni.cz/fil/scf/komplet/arnold.html',\n",
       " 'http://www.phil.muni.cz/fil/scf/komplet/ariaga.html']"
      ]
     },
     "execution_count": 98,
     "metadata": {},
     "output_type": "execute_result"
    }
   ],
   "source": [
    "filtered_hrefs[:10]"
   ]
  },
  {
   "cell_type": "markdown",
   "metadata": {
    "collapsed": false
   },
   "source": [
    "Nyní vytvoříme cyklus FOR, v rámci kterého získáme zdrojový kód HTML stránky každé z těchto URL adres pomocí `requests`, zpracujeme jej pomocí `BeautifulSoup` a pokusíme se získat data se jmény jednotlivých filozofů a o místech a datech narození a úmrtí. "
   ]
  },
  {
   "cell_type": "code",
   "execution_count": 21,
   "metadata": {
    "ExecuteTime": {
     "end_time": "2024-01-20T18:28:33.574394Z",
     "start_time": "2024-01-20T18:27:15.722278Z"
    },
    "collapsed": false,
    "execution_time": 21
   },
   "outputs": [],
   "source": [
    "failed = []\n",
    "slovnik_data = []\n",
    "for url in filtered_hrefs[:10]:\n",
    "    try:\n",
    "        resp = requests.get(url)\n",
    "        resp.encoding = 'windows-1250'\n",
    "        soup = BeautifulSoup(resp.text, \"html.parser\")\n",
    "        title = soup.title.string\n",
    "        birth = soup.body.find_all(\"p\")[2].find_all(\"strong\")[0].string\n",
    "        try:\n",
    "            death = soup.body.find_all(\"p\")[2].find_all(\"strong\")[1].string\n",
    "        except:\n",
    "            death = None\n",
    "        if \"*\" not in str(birth):\n",
    "            birth = None\n",
    "        if \"†\" not in str(death):\n",
    "            death = None\n",
    "        slovnik_data.append({\"url\" : url, \"name\" : title, \"birth\" : birth, \"death\" : death})\n",
    "    except:\n",
    "        failed.append(url)"
   ]
  },
  {
   "cell_type": "markdown",
   "metadata": {
    "collapsed": false
   },
   "source": [
    "Z dat, která jsme takto získali, vytvoříme velice snadno tabulku, respektivě objekt typu `pandas.DataFrame`:"
   ]
  },
  {
   "cell_type": "code",
   "execution_count": 22,
   "metadata": {
    "ExecuteTime": {
     "end_time": "2024-01-20T20:09:17.577291Z",
     "start_time": "2024-01-20T20:09:17.536760Z"
    },
    "collapsed": false,
    "execution_time": 22
   },
   "outputs": [
    {
     "data": {
      "text/html": [
       "<div>\n",
       "<style scoped>\n",
       "    .dataframe tbody tr th:only-of-type {\n",
       "        vertical-align: middle;\n",
       "    }\n",
       "\n",
       "    .dataframe tbody tr th {\n",
       "        vertical-align: top;\n",
       "    }\n",
       "\n",
       "    .dataframe thead th {\n",
       "        text-align: right;\n",
       "    }\n",
       "</style>\n",
       "<table border=\"1\" class=\"dataframe\">\n",
       "  <thead>\n",
       "    <tr style=\"text-align: right;\">\n",
       "      <th></th>\n",
       "      <th>url</th>\n",
       "      <th>name</th>\n",
       "      <th>birth</th>\n",
       "      <th>death</th>\n",
       "    </tr>\n",
       "  </thead>\n",
       "  <tbody>\n",
       "    <tr>\n",
       "      <th>0</th>\n",
       "      <td>http://www.phil.muni.cz/fil/scf/komplet/adam.html</td>\n",
       "      <td>Daniel Adam z Veleslavína</td>\n",
       "      <td>* 31. 8. 1546 Veleslavín u Prahy</td>\n",
       "      <td>† 18. 10. 1599 Praha</td>\n",
       "    </tr>\n",
       "    <tr>\n",
       "      <th>1</th>\n",
       "      <td>http://www.phil.muni.cz/fil/scf/komplet/adamik...</td>\n",
       "      <td>Richard Adamík</td>\n",
       "      <td>* 4. 4. 1867 Hranice na Moravě</td>\n",
       "      <td>† 15. 8. 1952</td>\n",
       "    </tr>\n",
       "    <tr>\n",
       "      <th>2</th>\n",
       "      <td>http://www.phil.muni.cz/fil/scf/komplet/albert...</td>\n",
       "      <td>František Albert</td>\n",
       "      <td>* 29. 4. 1856 Žamberk</td>\n",
       "      <td>† 22. 7. 1923 Potštejn</td>\n",
       "    </tr>\n",
       "    <tr>\n",
       "      <th>3</th>\n",
       "      <td>http://www.phil.muni.cz/fil/scf/komplet/albik....</td>\n",
       "      <td>Albík z Uničova</td>\n",
       "      <td>* asi 1358 Uničov</td>\n",
       "      <td>† 1427 Uhry</td>\n",
       "    </tr>\n",
       "    <tr>\n",
       "      <th>4</th>\n",
       "      <td>http://www.phil.muni.cz/fil/scf/komplet/alexej...</td>\n",
       "      <td>Nikolaj Alexejev</td>\n",
       "      <td>* 1. 5. 1879 Moskva</td>\n",
       "      <td>† 2. 3. 1964 Ženeva</td>\n",
       "    </tr>\n",
       "    <tr>\n",
       "      <th>...</th>\n",
       "      <td>...</td>\n",
       "      <td>...</td>\n",
       "      <td>...</td>\n",
       "      <td>...</td>\n",
       "    </tr>\n",
       "    <tr>\n",
       "      <th>867</th>\n",
       "      <td>http://www.phil.muni.cz/fil/scf/komplet/zumr.html</td>\n",
       "      <td>Josef Zumr</td>\n",
       "      <td>* 19. 3. 1928 Úmyslovice u Poděbrad</td>\n",
       "      <td>None</td>\n",
       "    </tr>\n",
       "    <tr>\n",
       "      <th>868</th>\n",
       "      <td>http://www.phil.muni.cz/fil/scf/komplet/zuska....</td>\n",
       "      <td>Vlastimil Zuska</td>\n",
       "      <td>* 5. 5. 1951 Praha</td>\n",
       "      <td>None</td>\n",
       "    </tr>\n",
       "    <tr>\n",
       "      <th>869</th>\n",
       "      <td>http://www.phil.muni.cz/fil/scf/komplet/zverin...</td>\n",
       "      <td>Josef Zvěřina</td>\n",
       "      <td>* 3. 5. 1913 Střítež u Třebíče</td>\n",
       "      <td>† 18. 8. 1990 Netunno (Itálie)</td>\n",
       "    </tr>\n",
       "    <tr>\n",
       "      <th>870</th>\n",
       "      <td>http://www.phil.muni.cz/fil/scf/komplet/zykmnd...</td>\n",
       "      <td>Václav Zykmund</td>\n",
       "      <td>* 18. 6. 1914 Praha</td>\n",
       "      <td>† 10. 5. 1984 Brno</td>\n",
       "    </tr>\n",
       "    <tr>\n",
       "      <th>871</th>\n",
       "      <td>http://www.phil.muni.cz/fil/scf/komplet/zilka....</td>\n",
       "      <td>František Žilka</td>\n",
       "      <td>* 1. 6. 1871 Dolní Rozsíčka, okr. Žďár n. Sázavou</td>\n",
       "      <td>† 9. 2. 1944 Praha</td>\n",
       "    </tr>\n",
       "  </tbody>\n",
       "</table>\n",
       "<p>872 rows × 4 columns</p>\n",
       "</div>"
      ],
      "text/plain": [
       "                                                   url  \\\n",
       "0    http://www.phil.muni.cz/fil/scf/komplet/adam.html   \n",
       "1    http://www.phil.muni.cz/fil/scf/komplet/adamik...   \n",
       "2    http://www.phil.muni.cz/fil/scf/komplet/albert...   \n",
       "3    http://www.phil.muni.cz/fil/scf/komplet/albik....   \n",
       "4    http://www.phil.muni.cz/fil/scf/komplet/alexej...   \n",
       "..                                                 ...   \n",
       "867  http://www.phil.muni.cz/fil/scf/komplet/zumr.html   \n",
       "868  http://www.phil.muni.cz/fil/scf/komplet/zuska....   \n",
       "869  http://www.phil.muni.cz/fil/scf/komplet/zverin...   \n",
       "870  http://www.phil.muni.cz/fil/scf/komplet/zykmnd...   \n",
       "871  http://www.phil.muni.cz/fil/scf/komplet/zilka....   \n",
       "\n",
       "                          name  \\\n",
       "0    Daniel Adam z Veleslavína   \n",
       "1               Richard Adamík   \n",
       "2             František Albert   \n",
       "3              Albík z Uničova   \n",
       "4             Nikolaj Alexejev   \n",
       "..                         ...   \n",
       "867                 Josef Zumr   \n",
       "868            Vlastimil Zuska   \n",
       "869              Josef Zvěřina   \n",
       "870             Václav Zykmund   \n",
       "871            František Žilka   \n",
       "\n",
       "                                                 birth  \\\n",
       "0                     * 31. 8. 1546 Veleslavín u Prahy   \n",
       "1                       * 4. 4. 1867 Hranice na Moravě   \n",
       "2                                * 29. 4. 1856 Žamberk   \n",
       "3                                    * asi 1358 Uničov   \n",
       "4                                  * 1. 5. 1879 Moskva   \n",
       "..                                                 ...   \n",
       "867                * 19. 3. 1928 Úmyslovice u Poděbrad   \n",
       "868                                 * 5. 5. 1951 Praha   \n",
       "869                     * 3. 5. 1913 Střítež u Třebíče   \n",
       "870                                * 18. 6. 1914 Praha   \n",
       "871  * 1. 6. 1871 Dolní Rozsíčka, okr. Žďár n. Sázavou   \n",
       "\n",
       "                              death  \n",
       "0              † 18. 10. 1599 Praha  \n",
       "1                     † 15. 8. 1952  \n",
       "2            † 22. 7. 1923 Potštejn  \n",
       "3                       † 1427 Uhry  \n",
       "4               † 2. 3. 1964 Ženeva  \n",
       "..                              ...  \n",
       "867                            None  \n",
       "868                            None  \n",
       "869  † 18. 8. 1990 Netunno (Itálie)  \n",
       "870              † 10. 5. 1984 Brno  \n",
       "871              † 9. 2. 1944 Praha  \n",
       "\n",
       "[872 rows x 4 columns]"
      ]
     },
     "execution_count": 125,
     "metadata": {},
     "output_type": "execute_result"
    }
   ],
   "source": [
    "slovnik_df = pd.DataFrame(slovnik_data) # vytvoříme dataframe\n",
    "slovnik_df = slovnik_df.replace(to_replace=r'\\r\\n', value='', regex=True) # drobné čičtění \n",
    "slovnik_df # dataframe si vypíšeme"
   ]
  },
  {
   "cell_type": "markdown",
   "metadata": {
    "collapsed": false
   },
   "source": [
    "Vidíme relativně pěkně naformátovanou tabulku se čtyřmi sloupci. Některé hodnoty jsou prázdné (`None`), například ve sloupci \"death\" v případě, že se jedná o žijícího autora. V jiných případech se zdá, že některá hesla jsou naformátovaná odlišně.\n",
    "\n",
    " Z praktických důvodů jsme se však omezili pouze na 10 prvních hesel. Dropnou úpravou (odstraněním \"[:10\"]) však lze skript snadno přenastavit tak, aby se aplikoval na všechny URL adresy na seznamu. Tomu se však nyní společně vyhneme, abychom příslušnou webovou doménu zbytečně nezavalovali tisíci HTTP dotazy. Na místo toho si tato kompletní data načteme z místa, kam jsem je dopředu uložil a vypíšeme si první 20 položek:"
   ]
  },
  {
   "cell_type": "code",
   "execution_count": 23,
   "metadata": {
    "ExecuteTime": {
     "end_time": "2024-01-20T20:11:35.804362Z",
     "start_time": "2024-01-20T20:11:35.767200Z"
    },
    "collapsed": false,
    "execution_time": 23
   },
   "outputs": [],
   "source": [
    "slovnik_df.to_csv(\"../data/slovnik_df.csv\", index=False)"
   ]
  },
  {
   "cell_type": "code",
   "execution_count": 24,
   "metadata": {
    "ExecuteTime": {
     "end_time": "2024-01-20T18:38:52.728741Z",
     "start_time": "2024-01-20T18:38:52.209770Z"
    },
    "collapsed": false,
    "execution_time": 24
   },
   "outputs": [
    {
     "data": {
      "text/html": [
       "<div>\n",
       "<style scoped>\n",
       "    .dataframe tbody tr th:only-of-type {\n",
       "        vertical-align: middle;\n",
       "    }\n",
       "\n",
       "    .dataframe tbody tr th {\n",
       "        vertical-align: top;\n",
       "    }\n",
       "\n",
       "    .dataframe thead th {\n",
       "        text-align: right;\n",
       "    }\n",
       "</style>\n",
       "<table border=\"1\" class=\"dataframe\">\n",
       "  <thead>\n",
       "    <tr style=\"text-align: right;\">\n",
       "      <th></th>\n",
       "      <th>url</th>\n",
       "      <th>name</th>\n",
       "      <th>birth</th>\n",
       "      <th>death</th>\n",
       "    </tr>\n",
       "  </thead>\n",
       "  <tbody>\n",
       "    <tr>\n",
       "      <th>0</th>\n",
       "      <td>http://www.phil.muni.cz/fil/scf/komplet/adam.html</td>\n",
       "      <td>Daniel Adam z Veleslavína</td>\n",
       "      <td>* 31. \\r\\n8. \\r\\n1546 Veleslavín u Prahy</td>\n",
       "      <td>† 18. \\r\\n10. \\r\\n1599 Praha</td>\n",
       "    </tr>\n",
       "    <tr>\n",
       "      <th>1</th>\n",
       "      <td>http://www.phil.muni.cz/fil/scf/komplet/adamik...</td>\n",
       "      <td>Richard Adamík</td>\n",
       "      <td>* 4. \\r\\n4. \\r\\n1867 Hranice na Moravě</td>\n",
       "      <td>† 15. \\r\\n8. \\r\\n1952</td>\n",
       "    </tr>\n",
       "    <tr>\n",
       "      <th>2</th>\n",
       "      <td>http://www.phil.muni.cz/fil/scf/komplet/albert...</td>\n",
       "      <td>František Albert</td>\n",
       "      <td>* 29. \\r\\n4. \\r\\n1856 Žamberk</td>\n",
       "      <td>† 22. \\r\\n7. \\r\\n1923 Potštejn</td>\n",
       "    </tr>\n",
       "    <tr>\n",
       "      <th>3</th>\n",
       "      <td>http://www.phil.muni.cz/fil/scf/komplet/albik....</td>\n",
       "      <td>Albík z Uničova</td>\n",
       "      <td>* asi 1358 Uničov</td>\n",
       "      <td>† 1427 Uhry</td>\n",
       "    </tr>\n",
       "    <tr>\n",
       "      <th>4</th>\n",
       "      <td>http://www.phil.muni.cz/fil/scf/komplet/alexej...</td>\n",
       "      <td>Nikolaj Alexejev</td>\n",
       "      <td>* 1. 5. 1879 Moskva</td>\n",
       "      <td>† 2. 3. 1964 Ženeva</td>\n",
       "    </tr>\n",
       "    <tr>\n",
       "      <th>...</th>\n",
       "      <td>...</td>\n",
       "      <td>...</td>\n",
       "      <td>...</td>\n",
       "      <td>...</td>\n",
       "    </tr>\n",
       "    <tr>\n",
       "      <th>867</th>\n",
       "      <td>http://www.phil.muni.cz/fil/scf/komplet/zumr.html</td>\n",
       "      <td>Josef Zumr</td>\n",
       "      <td>* 19. 3. 1928 Úmyslovice u Poděbrad</td>\n",
       "      <td>NaN</td>\n",
       "    </tr>\n",
       "    <tr>\n",
       "      <th>868</th>\n",
       "      <td>http://www.phil.muni.cz/fil/scf/komplet/zuska....</td>\n",
       "      <td>Vlastimil Zuska</td>\n",
       "      <td>* 5. \\r\\n5. \\r\\n1951 Praha</td>\n",
       "      <td>NaN</td>\n",
       "    </tr>\n",
       "    <tr>\n",
       "      <th>869</th>\n",
       "      <td>http://www.phil.muni.cz/fil/scf/komplet/zverin...</td>\n",
       "      <td>Josef Zvěřina</td>\n",
       "      <td>* 3. \\r\\n5. \\r\\n1913 Střítež u Třebíče</td>\n",
       "      <td>† 18. \\r\\n8. \\r\\n1990 Netunno (Itálie)</td>\n",
       "    </tr>\n",
       "    <tr>\n",
       "      <th>870</th>\n",
       "      <td>http://www.phil.muni.cz/fil/scf/komplet/zykmnd...</td>\n",
       "      <td>Václav Zykmund</td>\n",
       "      <td>* 18. \\r\\n6. \\r\\n1914 Praha</td>\n",
       "      <td>† 10. \\r\\n5. \\r\\n1984 Brno</td>\n",
       "    </tr>\n",
       "    <tr>\n",
       "      <th>871</th>\n",
       "      <td>http://www.phil.muni.cz/fil/scf/komplet/zilka....</td>\n",
       "      <td>František Žilka</td>\n",
       "      <td>* 1. \\r\\n6. \\r\\n1871 Dolní Rozsíčka, \\r\\nokr. ...</td>\n",
       "      <td>† 9. \\r\\n2. \\r\\n1944 Praha</td>\n",
       "    </tr>\n",
       "  </tbody>\n",
       "</table>\n",
       "<p>872 rows × 4 columns</p>\n",
       "</div>"
      ],
      "text/plain": [
       "                                                   url  \\\n",
       "0    http://www.phil.muni.cz/fil/scf/komplet/adam.html   \n",
       "1    http://www.phil.muni.cz/fil/scf/komplet/adamik...   \n",
       "2    http://www.phil.muni.cz/fil/scf/komplet/albert...   \n",
       "3    http://www.phil.muni.cz/fil/scf/komplet/albik....   \n",
       "4    http://www.phil.muni.cz/fil/scf/komplet/alexej...   \n",
       "..                                                 ...   \n",
       "867  http://www.phil.muni.cz/fil/scf/komplet/zumr.html   \n",
       "868  http://www.phil.muni.cz/fil/scf/komplet/zuska....   \n",
       "869  http://www.phil.muni.cz/fil/scf/komplet/zverin...   \n",
       "870  http://www.phil.muni.cz/fil/scf/komplet/zykmnd...   \n",
       "871  http://www.phil.muni.cz/fil/scf/komplet/zilka....   \n",
       "\n",
       "                          name  \\\n",
       "0    Daniel Adam z Veleslavína   \n",
       "1               Richard Adamík   \n",
       "2             František Albert   \n",
       "3              Albík z Uničova   \n",
       "4             Nikolaj Alexejev   \n",
       "..                         ...   \n",
       "867                 Josef Zumr   \n",
       "868            Vlastimil Zuska   \n",
       "869              Josef Zvěřina   \n",
       "870             Václav Zykmund   \n",
       "871            František Žilka   \n",
       "\n",
       "                                                 birth  \\\n",
       "0             * 31. \\r\\n8. \\r\\n1546 Veleslavín u Prahy   \n",
       "1               * 4. \\r\\n4. \\r\\n1867 Hranice na Moravě   \n",
       "2                        * 29. \\r\\n4. \\r\\n1856 Žamberk   \n",
       "3                                    * asi 1358 Uničov   \n",
       "4                                  * 1. 5. 1879 Moskva   \n",
       "..                                                 ...   \n",
       "867                * 19. 3. 1928 Úmyslovice u Poděbrad   \n",
       "868                         * 5. \\r\\n5. \\r\\n1951 Praha   \n",
       "869             * 3. \\r\\n5. \\r\\n1913 Střítež u Třebíče   \n",
       "870                        * 18. \\r\\n6. \\r\\n1914 Praha   \n",
       "871  * 1. \\r\\n6. \\r\\n1871 Dolní Rozsíčka, \\r\\nokr. ...   \n",
       "\n",
       "                                      death  \n",
       "0              † 18. \\r\\n10. \\r\\n1599 Praha  \n",
       "1                     † 15. \\r\\n8. \\r\\n1952  \n",
       "2            † 22. \\r\\n7. \\r\\n1923 Potštejn  \n",
       "3                               † 1427 Uhry  \n",
       "4                       † 2. 3. 1964 Ženeva  \n",
       "..                                      ...  \n",
       "867                                     NaN  \n",
       "868                                     NaN  \n",
       "869  † 18. \\r\\n8. \\r\\n1990 Netunno (Itálie)  \n",
       "870              † 10. \\r\\n5. \\r\\n1984 Brno  \n",
       "871              † 9. \\r\\n2. \\r\\n1944 Praha  \n",
       "\n",
       "[872 rows x 4 columns]"
      ]
     },
     "execution_count": 124,
     "metadata": {},
     "output_type": "execute_result"
    }
   ],
   "source": [
    "slovnik_df = pd.read_csv(\"https://raw.githubusercontent.com/CCS-ZCU/pribehy-dat/master/data/slovnik_df.csv\")\n",
    "slovnik_df.head(20)"
   ]
  },
  {
   "cell_type": "code",
   "execution_count": 25,
   "metadata": {
    "execution_time": 25
   },
   "outputs": [],
   "source": [
    "# Tato buňka slouží ke kontrole průchodu tímto cvičením. \n",
    "# Pokud toto cvičení plníte v rámci svých studijních povinností na ZČU, buňku spusťte a držte se instrukcí.\n",
    "kontrola_pruchodu(ntb=\"http\", arg1=\"http2\")"
   ]
  },
  {
   "cell_type": "markdown",
   "metadata": {
    "collapsed": false
   },
   "source": [
    "V některé z dalších kapitol se k těmto datům vrátíme a budeme pracovat se sloupci \"birth\" a \"death\", které obsahují cenné časoprostorové informace. Tyto informace nyní nejsou v podobě vhodné pro kvantitativní analýzu. My si však ukážeme, jak je přetavit do podoby, aby pro tuto analýzu byla tato dato vhodná.  "
   ]
  },
  {
   "cell_type": "markdown",
   "metadata": {
    "collapsed": false
   },
   "source": [
    "Je nasnadě, že podobný přístup lze aplikovat na mnohé webové stránky, a to zvláště tehdy, kdy se jedná o velké množství podobně naformátovaných stránek. Často to je jediný přístup, jak se k podobným datům dostat. Této metodě se také říká \"web scraping\" a je někdy problematická z etického hlediska. Některé webové stránky výslovně zakazují, aby data, která se na nich nacházejí, byla dolována podobným způsobem. Někdy je to motivováno obavou z přetížení příslušného webového serveru mnoha dotazy, jindy spíše s ohledem na autorství. Často se však zdá, že tvůrce daných webových stránek vůbec nenapadlo, že by jejich dat někdo mohl chtít využívat tímto způsobem."
   ]
  },
  {
   "cell_type": "code",
   "execution_count": 26,
   "metadata": {
    "collapsed": false,
    "execution_time": 26
   },
   "outputs": [],
   "source": []
  }
 ],
 "metadata": {
  "colab": {
   "include_colab_link": true,
   "provenance": []
  },
  "kernelspec": {
   "display_name": "Python 3",
   "language": "python",
   "name": "python3"
  }
 },
 "nbformat": 4,
 "nbformat_minor": 0
}
