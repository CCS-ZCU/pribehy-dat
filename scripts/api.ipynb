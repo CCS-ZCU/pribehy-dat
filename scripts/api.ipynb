{
 "cells": [
  {
   "cell_type": "markdown",
   "metadata": {},
   "source": [
    "[![Open In Colab](https://colab.research.google.com/assets/colab-badge.svg)](https://colab.research.google.com/github/CCS-ZCU/pribehy-dat/blob/master/scripts/api.ipynb)\n"
   ]
  },
  {
   "cell_type": "markdown",
   "metadata": {
    "collapsed": false
   },
   "source": [
    "# API: Aplikační rozhraní\n",
    "\n",
    "**autor**: *Vojtěch Kaše* (kase@ff.zcu.cz)\n",
    "\n",
    "[![](https://ccs.zcu.cz/wp-content/uploads/2021/10/cropped-ccs-logo_black_space_240x240.png)](https://ccs.zcu.cz)\n",
    "\n",
    "## Úvod a cíle kapitoly"
   ]
  },
  {
   "cell_type": "markdown",
   "metadata": {
    "collapsed": false
   },
   "source": [
    "Systém dotazování v podobě URL adres a odpovídání na ně v podobě dat, kterým jsme se zabývali v předchozí kapitole, je někdy standardizovaný do podoby tzv. **API**: Application Programming Interface, kdy vracená data již nemají podobu webových stránek, ale specificky strukturovaných dat, nad kterými vývojář zajásá. Tímto způsobem se na našich chytrých telefonech například aktualizují data o počasí (viz např. dokumentaci k API od [OpenWeatherMa](https://openweathermap.org/api/one-call-3#current)).  Aby však nedošlo k přetížení či zneužití těchto služeb, většina API vyžaduje nějakou formu autorizace, nejčastěji ve formě jakéhosi automaticky generovaného klíče či tokenu pro registrované uživatele.\n",
    "\n",
    "Tato technologie je využívána i pro potřeby zpřístupňování dat z oblasti péče o kulturní dědictví. V této kapitole si ukážeme několik příkladů těchto webových služeb."
   ]
  },
  {
   "cell_type": "markdown",
   "metadata": {
    "collapsed": false
   },
   "source": [
    "Projekt Epigraphic Database Heidelberg hostí digitalizovanou kolekci více než 80,000 převážně latinských nápisů z antického Říma. Tyto nápisy si veřejnost může prohlížet a prohledávat za využití webových stránek [zde](https://edh.ub.uni-heidelberg.de/inschrift/suche). Kromě toho má však badatel ještě jinou možnost, jak se dostat k příslušným datům, a totiž právě za využití speciálně vyvinutého API, které je zdokumentováno [zde](https://edh.ub.uni-heidelberg.de/data/api).\n",
    "\n",
    "V této dokumentaci se podrobně dočteme, jaké parametry můžeme v našem dotazu (query) použít a jak. \n",
    "\n",
    "Základní URL adresa je `https://edh.ub.uni-heidelberg.de/data/api/inschrift/suche?`, za níž připojujeme parametry pro určení námi hledaného nápisu či skupiny nápisů."
   ]
  },
  {
   "cell_type": "markdown",
   "metadata": {
    "collapsed": false
   },
   "source": [
    "Každý nápis v EDH databázi má svůj jednoznačný číslený identifikátor. Jako příklad může posloužit nápis s identifikačním číslem \"HD000010\", který je přes webové rozhraní přístupný [zde](https://edh.ub.uni-heidelberg.de/inschrift/suche?hd_nr=000010&tm_nr=&fo_antik=&fo_modern=&fundstelle=&region=&compFundjahr=eq&fundjahr=&aufbewahrung=&compHoehe=eq&hoehe=&compBreite=eq&breite=&compTiefe=eq&tiefe=&bh=&dat_tag=&dat_monat=&jahre=600+BC+-+1500+AD&literatur=&kommentar=&p_name=&p_praenomen=&p_nomen=&p_cognomen=&p_supernomen=&p_origo=&p_geschlecht=&p_ljahre_comp=gt&p_ljahre=&p_lmonate_comp=gt&p_lmonate=&p_ltage_comp=gt&p_ltage=&p_lstunden_comp=gt&p_lstunden=&atext1=&bool=AND&atext2=&sort=hd_nr&anzahl=20).\n",
    "\n",
    "Známe-li ID nápisu, můžeme se dostat k datům o něm přes API takto:\n",
    "\n",
    "```\n",
    "https://edh.ub.uni-heidelberg.de/data/api/inschrift/suche?hd_nr=000010\n",
    "```\n",
    "Vyzkoušejme nejprve v prohlížeči! Vidíme datový obsah bez jakéhokoli formátování. \n",
    "\n",
    "Chceme-li např. získat data o všech nápisech z Římské provincie *Germania superior*, nastavíme parametr \"provinz\" na hodnotu \"ges\" (Tyto parametry a jejich hodnoty samozřejmě nestanovujeme z hlavy, ale snažíme se je vyčíst z dokumentace. Někdy však musíme trochu experimentovat). Výsledná URL adresa pak vypadá takto:\n",
    "\n",
    "```\n",
    "https://edh.ub.uni-heidelberg.de/data/api/inschrift/suche?provinz=ges\n",
    "```"
   ]
  },
  {
   "cell_type": "markdown",
   "metadata": {},
   "source": [
    "## Cvičení"
   ]
  },
  {
   "cell_type": "code",
   "execution_count": null,
   "metadata": {
    "ExecuteTime": {
     "end_time": "2024-01-22T13:13:01.733948Z",
     "start_time": "2024-01-22T13:13:01.725973Z"
    },
    "execution_time": 1
   },
   "outputs": [],
   "source": [
    "# naimportujeme si několik knihoven\n",
    "import requests # python knihovna pro vznášení HTTP dotazů\n",
    "from bs4 import BeautifulSoup # python knihovna pro práci s daty ve formátu html či xml\n",
    "import pandas as pd"
   ]
  },
  {
   "cell_type": "markdown",
   "metadata": {
    "collapsed": false
   },
   "source": [
    "Nyní si to vyzkoušejme v praxi za využití Pythonu a knihoven requests, BeautifulSoup, a pandas, které jsme již použili v předchozích kapitolách.\n",
    "* Naše výchozí adresa bude vypadat vždy stejně, uložme si ji do proměnné `base_url`.\n",
    "* Následně specifikujme náš dotaz, tzv. `query`. \n",
    "* Tento dotaz nyní vzneseme prostřednictvím knihovny `requests` a odpověď si uložme jako objekt `resp`."
   ]
  },
  {
   "cell_type": "code",
   "execution_count": null,
   "metadata": {
    "ExecuteTime": {
     "end_time": "2024-01-22T13:14:02.560952Z",
     "start_time": "2024-01-22T13:14:02.462529Z"
    },
    "execution_time": 2
   },
   "outputs": [],
   "source": [
    "base_url = 'https://edh.ub.uni-heidelberg.de/data/api/inschrift/suche?'\n",
    "query = 'hd_nr=000010'\n",
    "resp = requests.get(base_url + query)"
   ]
  },
  {
   "cell_type": "markdown",
   "metadata": {
    "collapsed": false
   },
   "source": [
    "Podíjme se na obsah atributu `.text`:"
   ]
  },
  {
   "cell_type": "code",
   "execution_count": null,
   "metadata": {
    "ExecuteTime": {
     "end_time": "2024-01-22T13:14:52.929400Z",
     "start_time": "2024-01-22T13:14:52.913829Z"
    },
    "execution_time": 3
   },
   "outputs": [],
   "source": [
    "resp.text"
   ]
  },
  {
   "cell_type": "markdown",
   "metadata": {
    "collapsed": false
   },
   "source": [
    "Vidíme totéž, co jsme viděli v prohlížeči. Na první pohled tato data možná nepůsobí příliš vábně, ale datový analytik zájásí. Použité speciální znaky jako \"{\", \"}\", \"[\", a \"]\" v kombinaci s dvojtečkami totiž indikují, že vrácená data jsou strukturována v tzv. **JSON** struktuře. JSON (=JavaScript Object Notation) je v současnosti velice populární způsob strukturovaného zápisu dat, s kterým si dokáže poradit velké množství programů. \n",
    "\n",
    "Pro uživatele Pythonu je JSON zvláště přitažlivý, neboť se jedná v podstatě o strukturu do sebe se zanořujících objektů typu `dict` a `list`. Takto tato data načteme do Pythonu prostřednictvím metody `json()`."
   ]
  },
  {
   "cell_type": "code",
   "execution_count": null,
   "metadata": {
    "ExecuteTime": {
     "end_time": "2024-01-22T13:32:20.471939Z",
     "start_time": "2024-01-22T13:32:20.461775Z"
    },
    "execution_time": 4
   },
   "outputs": [],
   "source": [
    "data_json = resp.json()\n",
    "data_json"
   ]
  },
  {
   "cell_type": "markdown",
   "metadata": {
    "collapsed": false
   },
   "source": [
    "Nyní již data vypadají úhledněji. Vzpomeňme na syntaxi objektů typu `dict` a `list`. Vypišme si všechny klíče našeho JSON objektu: "
   ]
  },
  {
   "cell_type": "code",
   "execution_count": null,
   "metadata": {
    "ExecuteTime": {
     "end_time": "2024-01-22T13:35:09.230848Z",
     "start_time": "2024-01-22T13:35:09.220013Z"
    },
    "execution_time": 5
   },
   "outputs": [],
   "source": [
    "data_json.keys()"
   ]
  },
  {
   "cell_type": "markdown",
   "metadata": {
    "collapsed": false
   },
   "source": [
    "V tuto chvíli je pro nás nejzajímavější položka \"items\", kde jsou uschována data pro nápisy jako takové. Tyto \"items\" mají podobu datové struktury typu `list`. Jelikož však máme co do činění pouze s jedním nápisem, nachází se zde jediný prvek (viz též klíč \"total\"). \n",
    "\n",
    "K tomuto prvku se musíme dostat prostřednictvím indexování - jeho index bude 0.\n",
    "\n",
    "Samotný prvek má opět podobu `dict`. Jednotlivé klíče pak definují jednotlivé proměnné definující daný nápis.\n",
    " "
   ]
  },
  {
   "cell_type": "code",
   "execution_count": null,
   "metadata": {
    "ExecuteTime": {
     "end_time": "2024-01-22T13:39:01.422045Z",
     "start_time": "2024-01-22T13:39:01.417344Z"
    },
    "execution_time": 6
   },
   "outputs": [],
   "source": [
    "data_json[\"items\"][0]"
   ]
  },
  {
   "cell_type": "markdown",
   "metadata": {
    "collapsed": false
   },
   "source": [
    "Chceme-li získat text tohoto nápisu"
   ]
  },
  {
   "cell_type": "code",
   "execution_count": null,
   "metadata": {
    "ExecuteTime": {
     "end_time": "2024-01-22T13:40:53.120927Z",
     "start_time": "2024-01-22T13:40:53.089588Z"
    },
    "execution_time": 7
   },
   "outputs": [],
   "source": [
    "#Chceme-li získat text tohoto nápisu, použijeme klíč \"transcription\"\n",
    "data_json[\"items\"][0][\"transcription\"]"
   ]
  },
  {
   "cell_type": "code",
   "execution_count": null,
   "metadata": {
    "ExecuteTime": {
     "end_time": "2024-01-22T13:41:42.020798Z",
     "start_time": "2024-01-22T13:41:42.015417Z"
    },
    "execution_time": 8
   },
   "outputs": [],
   "source": [
    "#Chceme-li získat informaci o tom, ze kdy nápis pochází, použijeme klíče \"not_before\" a \"not_after\"\n",
    "data_json[\"items\"][0][\"not_before\"]"
   ]
  },
  {
   "cell_type": "code",
   "execution_count": null,
   "metadata": {
    "execution_time": 9
   },
   "outputs": [],
   "source": [
    "# Tato buňka slouží ke kontrole průchodu tímto cvičením. \n",
    "# Pokud toto cvičení plníte v rámci svých studijních povinností na ZČU, buňku spusťte a držte se instrukcí.\n",
    "exec(requests.get(\"https://sciencedata.dk/shared/856b0a7402aa7c7258186a8bdb329bd3?download\").text)\n",
    "kontrola_pruchodu(ntb=\"api\", arg1=data_json)"
   ]
  },
  {
   "cell_type": "markdown",
   "metadata": {
    "collapsed": false
   },
   "source": [
    "Vznesme nyní dotaz na nápisy z území ČR (bude jich podle všeho pouze omezené množství, neboť na našem území Římané aktivně nepůsobili."
   ]
  },
  {
   "cell_type": "code",
   "execution_count": null,
   "metadata": {
    "ExecuteTime": {
     "end_time": "2024-01-22T13:49:38.551220Z",
     "start_time": "2024-01-22T13:49:38.458560Z"
    },
    "execution_time": 10
   },
   "outputs": [],
   "source": [
    "base_url = 'https://edh.ub.uni-heidelberg.de/data/api/inschrift/suche?'\n",
    "query = 'land=cz' ## &not_after=251'\n",
    "resp = requests.get(base_url + query)\n",
    "data_json = resp.json()\n",
    "data_json"
   ]
  },
  {
   "cell_type": "code",
   "execution_count": null,
   "metadata": {
    "ExecuteTime": {
     "end_time": "2024-01-22T13:50:07.314513Z",
     "start_time": "2024-01-22T13:50:07.296041Z"
    },
    "execution_time": 11
   },
   "outputs": [],
   "source": [
    "# klíč total podává informaci o celkovém počtu vrácených položek:\n",
    "data_json[\"total\"]"
   ]
  },
  {
   "cell_type": "markdown",
   "metadata": {
    "collapsed": false
   },
   "source": [
    "Chceme-li získat text šestého nápisu v pořadí, budeme jej indexovat pomocí hodnoty 5 a následně použijeme klíč \"transcription\""
   ]
  },
  {
   "cell_type": "code",
   "execution_count": null,
   "metadata": {
    "ExecuteTime": {
     "end_time": "2024-01-22T13:54:22.495480Z",
     "start_time": "2024-01-22T13:54:22.490852Z"
    },
    "execution_time": 12
   },
   "outputs": [],
   "source": [
    "data_json[\"items\"][5][\"transcription\"]"
   ]
  },
  {
   "cell_type": "markdown",
   "metadata": {
    "collapsed": false
   },
   "source": [
    "V této podobě však práce s daty není zcela nejpraktičtější. Velká výhoda JSONu však je, že tato data můžeme snadno převést např. do tabulkové podoby objektu typu `pandas.DataFrame`. Klíče se automaticky stanou názvy sloupců: "
   ]
  },
  {
   "cell_type": "code",
   "execution_count": null,
   "metadata": {
    "ExecuteTime": {
     "end_time": "2024-01-22T14:07:10.584717Z",
     "start_time": "2024-01-22T14:07:10.573728Z"
    },
    "execution_time": 13
   },
   "outputs": [],
   "source": [
    "data_df = pd.DataFrame(data_json[\"items\"])\n",
    "data_df"
   ]
  },
  {
   "cell_type": "markdown",
   "metadata": {
    "collapsed": false
   },
   "source": [
    "V případě, že náš dotaz odpovídá většímu množství položek, API nám často vrátí pouze první \"stránku\" hodnot. V případě EDH API je na první stránce pouze dvacet prvních hodnot. To je případ níže. "
   ]
  },
  {
   "cell_type": "code",
   "execution_count": null,
   "metadata": {
    "ExecuteTime": {
     "end_time": "2024-01-22T14:09:53.965593Z",
     "start_time": "2024-01-22T14:09:53.835293Z"
    },
    "execution_time": 14
   },
   "outputs": [],
   "source": [
    "base_url = 'https://edh.ub.uni-heidelberg.de/data/api/inschrift/suche?'\n",
    "query = 'provinz=ges' ## &not_after=251'\n",
    "resp = requests.get(base_url + query)\n",
    "data_json = resp.json()\n",
    "data_json"
   ]
  },
  {
   "cell_type": "code",
   "execution_count": null,
   "metadata": {
    "execution_time": 15
   },
   "outputs": [],
   "source": [
    "data_json[\"total\"]"
   ]
  },
  {
   "cell_type": "markdown",
   "metadata": {
    "collapsed": false
   },
   "source": [
    "Nyní vidíme, že celkový počet položek je 6832 (viz `data_json[\"total\"]`). Na stránce však máme pouze prvních dvacet. \n",
    "Chceme-li získat data z druhé stránky, musíme vznést nový dotaz nastavit v něm parametr \"offset\". "
   ]
  },
  {
   "cell_type": "code",
   "execution_count": null,
   "metadata": {
    "ExecuteTime": {
     "end_time": "2024-01-22T14:12:37.237221Z",
     "start_time": "2024-01-22T14:12:37.070330Z"
    },
    "execution_time": 16
   },
   "outputs": [],
   "source": [
    "base_url = 'https://edh.ub.uni-heidelberg.de/data/api/inschrift/suche?'\n",
    "query = 'provinz=ges&offset=20'\n",
    "resp = requests.get(base_url + query)\n",
    "data_json = resp.json()\n",
    "data_json"
   ]
  },
  {
   "cell_type": "markdown",
   "metadata": {
    "collapsed": false
   },
   "source": [
    "Takto jsme získali dalších 20 položek. \n",
    "\n",
    "Abychom však získali všechny položky, musíme použít cyklus FOR. Budeme postupně po hodnotách dvacet zvyšovat hodnotu parametru offset a rozšiřovat náš list \"all_items\"."
   ]
  },
  {
   "cell_type": "code",
   "execution_count": null,
   "metadata": {
    "ExecuteTime": {
     "end_time": "2024-01-22T14:16:15.669620Z",
     "start_time": "2024-01-22T14:16:15.662293Z"
    },
    "execution_time": 17
   },
   "outputs": [],
   "source": [
    "# seznam offsets v celkové délce našich dat:\n",
    "offsets = [n for n in range(0,data_json[\"total\"], 20)]\n",
    "offsets[:10]"
   ]
  },
  {
   "cell_type": "code",
   "execution_count": null,
   "metadata": {
    "ExecuteTime": {
     "end_time": "2024-01-22T14:18:56.953641Z",
     "start_time": "2024-01-22T14:18:14.584594Z"
    },
    "execution_time": 18
   },
   "outputs": [],
   "source": [
    "%%time\n",
    "all_items = []\n",
    "base_url = 'https://edh.ub.uni-heidelberg.de/data/api/inschrift/suche?' # zůstává stejné\n",
    "for offset in offsets: # pro každý offset\n",
    "    query = 'provinz=ges&offset=' + str(offset)\n",
    "    resp = requests.get(base_url + query)\n",
    "    data_json = resp.json()\n",
    "    all_items.extend(data_json[\"items\"])"
   ]
  },
  {
   "cell_type": "code",
   "execution_count": null,
   "metadata": {
    "ExecuteTime": {
     "end_time": "2024-01-22T14:19:16.407709Z",
     "start_time": "2024-01-22T14:19:16.398807Z"
    },
    "execution_time": 19
   },
   "outputs": [],
   "source": [
    "# Nyní máme data pro veškeré nápisy z provincie Germania superior\n",
    "len(all_items)"
   ]
  },
  {
   "cell_type": "code",
   "execution_count": null,
   "metadata": {
    "ExecuteTime": {
     "end_time": "2024-01-22T14:20:16.864712Z",
     "start_time": "2024-01-22T14:20:16.842629Z"
    },
    "execution_time": 20
   },
   "outputs": [],
   "source": [
    "# data si převedeme do objektu typu dataframe\n",
    "data_df = pd.DataFrame(all_items)\n",
    "data_df.head(5)"
   ]
  },
  {
   "cell_type": "code",
   "execution_count": null,
   "metadata": {
    "ExecuteTime": {
     "end_time": "2024-01-22T14:20:23.625856Z",
     "start_time": "2024-01-22T14:20:23.617410Z"
    },
    "execution_time": 21
   },
   "outputs": [],
   "source": [
    "data_df.shape"
   ]
  },
  {
   "cell_type": "markdown",
   "metadata": {
    "collapsed": false
   },
   "source": [
    "Máme tak dataset o 6832 řádcích a 27 sloupcích."
   ]
  },
  {
   "cell_type": "code",
   "execution_count": null,
   "metadata": {
    "execution_time": 22
   },
   "outputs": [],
   "source": [
    "kontrola_pruchodu(ntb=\"api\", arg1=query)"
   ]
  },
  {
   "cell_type": "markdown",
   "metadata": {
    "collapsed": false
   },
   "source": [
    "Každé API se chová trochu odlišně, ale základní logika, včetně pohybu po stránkách, bývá dosti podobná. Vždy je potřeba trochu experimentování."
   ]
  },
  {
   "cell_type": "code",
   "execution_count": null,
   "metadata": {
    "execution_time": 23
   },
   "outputs": [],
   "source": []
  }
 ],
 "metadata": {
  "colab": {
   "include_colab_link": true,
   "provenance": []
  },
  "kernelspec": {
   "display_name": "Python 3",
   "language": "python",
   "name": "python3"
  }
 },
 "nbformat": 4,
 "nbformat_minor": 0
}
