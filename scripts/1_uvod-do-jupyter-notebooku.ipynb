{
 "nbformat": 4,
 "nbformat_minor": 0,
 "metadata": {
  "colab": {
   "provenance": [],
   "include_colab_link": true
  },
  "kernelspec": {
   "name": "python3",
   "display_name": "Python 3"
  }
 },
 "cells": [
  {
   "cell_type": "markdown",
   "metadata": {
    "id": "view-in-github",
    "colab_type": "text"
   },
   "source": [
    "<a href=\"https://colab.research.google.com/github/CCS-ZCU/pribehy-dat/blob/master/scripts/1_uvod-do-jupyter-notebooku.ipynb\" target=\"_parent\"><img src=\"https://colab.research.google.com/assets/colab-badge.svg\" alt=\"Open In Colab\"/></a>"
   ]
  },
  {
   "cell_type": "markdown",
   "metadata": {
    "id": "E9k-PhFNT-Eo"
   },
   "source": [
    "## Stručný úvod do prostředí Jupyter notebooku, platformy GoogleColab a stručná ukázka Pythonu\n",
    "\n",
    "autor: Vojtěch Kaše (kase@kfi.zcu.cz)"
   ]
  },
  {
   "cell_type": "markdown",
   "metadata": {
    "id": "SuX3kn0sA5NO"
   },
   "source": [
    "### Úvod a cíle kapitoly\n",
    "\n",
    "V této kapitole si osvětlíme samotné základy toho, co je to Jupyter Notebook, jak s ním pracovat a k čemu jej lze využít. \n",
    "Pokud čtete tento text, tento soubor jste úspěšně otevřeli, k čemuž jste mohli použít širokou paletu online i ofline aplikací. Některé z těchto aplikací vám umožňují si tento \n",
    "soubor pouze pasivně projít, podobně jako když otevřete soubor ve formátu PDF. Tak je tomu například v případě, že jste jej otevřeli přímo na webové stránce GitHub. \n",
    "Jiná situace nastává, pokud jste jej otevřeli za využití aplikace, která  dokáže interpretovat provést příkazy v programovacím jazyce Python, které se nacházejí níže. \n",
    "Typicky se jedná o nějakou implementaci takzvaného Jupyter Serveru, který zajišťuje komunikaci mezi našim souborem a konkrétní instancí programovacího jazyka Python. \n",
    "Takové aplikace můžeme nalézt buď na webu (např. [Google Colaboratory](https://colab.google), [CoCalc](https://cocalc.com), nebo [MyBinder](https://mybinder.org)), nebo je můžeme míst nainstalovány lokálně na svém osobním počítači, a buď samostatně (viz [JupyterLab](https://jupyter.org)) nebo jako součást komplexnější aplikace pro profesiónální programátory či datové vědce (tzv. IDE=Interactive Development Environment, jako je [Visual Studio Code](https://code.visualstudio.com) nebo [DataSpell](https://www.jetbrains.com/dataspell/)).\n",
    "\n",
    "Budeme přepokladát, že jste otevřeli za využití jednoho velice užitečného nástroje od společnosti Google, a to Google Colaboratory (popis [zde](https://colab.research.google.com/notebooks/welcome.ipynb)). Otevřením souboru notebooku ve vašem prohlížeči na platformě GoogleColab došlo automaticky k navázání komunikace mezi tímto souborem a serverem provozovaným společností Google, který dokáže níže obsažené příkazy  v programovacím jazyce Python zpracovat.\n",
    "\n",
    "Abyste s tímto souborem mohli sami aktivně pracovat, je třeba si nejprve v rámci vašeho Google účtu vytvořit jeho vlastní kopii (nabídka \"File\" -> \"Save a copy in drive\"). Je však potřeba být přihlášený k nějakému google účtu."
   ]
  },
  {
   "cell_type": "markdown",
   "metadata": {
    "id": "dnGTQ6x3f5Qv"
   },
   "source": [
    "Jupyter notebook má dvojí obsah:\n",
    "\n",
    "1.   Buňky (\"cells\") průvodního textu, jako je tento, které nám především umožňují  zevrubně dokumentovat náš postup;\n",
    "2.   Buňky skriptu, které obsahující příkazy pro spuštění v samotném pythonu (u kterých se nachází ikona \"play\").\n",
    "\n",
    "Hranice mezi buňkami ukazuje rámeček, který se kolem buňky objeví, když na ni klikneme.\n",
    "\n",
    "Otevřením GoogleColab navážeme komunikaci se serverem, který nám umožňuje buňku po buňce interpretovat náš skript. Buňky skriptu takto spouštíme buď za využití ikonky \"play\" vlevo či za využití klávesové zkratky Shift+Enter.  Máme-li kód uvnitř buňky správně, Python vykoná, co po něm žádáme, a ihned pod buňkou se nám vypíše např.  výsledek dotazovaného výpočtu. Máme-li ve skriptu syntaktickou chybu, jsme na to bezprostředně upozorněni chybovou hláškou.\n",
    "\n",
    "Dokud jupyter notebook nezavřeme či neztratíme spojení ze serverem, můžeme v rámci skriptu využívat proměnné a funkce, které jsme si v rámci jupyter notebooku nadefinovali a spustili v předchozích buňkách. Při novém otevření jupyter notebooku ale musíme buňky opět spustit jednu po druhé.\n",
    "\n",
    "Abychom skript měli co nejsrozumitelnější,  k jednotlivým příkazům si můžeme za znamínko \"#\" dopisovat dovysvětlující komentáře. Python ví, že co se v rámci řádky nachází za znamínkem křížku, se jej netýká. V tomto jupyter notebooku  budeme níže spíše využívat takovéto komentáře přímo uvnitř buněk skriptu.\n",
    "\n",
    "Pokud jste dočetli instrukce až sem, cítíte se zahleceni a zmateni a máte dojem, že ne všemu rozumíte, určitě nezoufejte. Zkuste pouze sledovat instrukce níže a když nevíte, stiskněte klávesovou zkratku \"Shift+Enter\" a v případě chyby se vraťte o něco nazpět."
   ]
  },
  {
   "cell_type": "markdown",
   "metadata": {
    "id": "yuSyIoZQOV5a"
   },
   "source": [
    "Začněme tím, že si ukážeme pár jednoduchých  na sebe navazujících buněk skriptu. První buňka skriptu zavádí dvě nové proměnné, které si nazveme např. \"prvni_ciselna_promenna\" a \"druha_ciselna_promena\" (Název proměnných je zvolen tak, aby neobsahoval mezery ani diaktriku, které by Python mátly, a aby nám v budoucnu napověděl, co se za proměnnými skrývá. Obvykle ale volíme kratší názvy proměnných než v tomto příkladu.). V Pythonu si proměnné zavádíme jednoduše tak, že jim  pomocí rovnítka přiřadíme určitou hodnotu: to, co je od rovnítka napravo se spuštěním příkazu stává obsahem proměnné, jejíž název se nachází od rovnítka nalevo.\n",
    "\n",
    "Jak už bylo uvedeno výšo, skript uvnitř buňky spustíme tak, že do ní přemístíme kurzor a buď stiskneme ikonu \"play\", nebo použijeme klávesovou zkratku Shift+Enter.\n"
   ]
  },
  {
   "cell_type": "code",
   "metadata": {
    "id": "m_P5mf0HM4Fy"
   },
   "source": [
    "# toto je naše první buňka skriptu\n",
    "# a tento text je náš pomocný komentář\n",
    "# na následujících dvou řádcích se nachází příkazy pro zavedení a přiřazení hodnot našim dvěma proměnným\n",
    "prvni_ciselna_promenna = 17\n",
    "druha_ciselna_promenna = 20\n",
    "# k provedení příkazů je potřeba tuto buňku spustit (viz výše)"
   ],
   "execution_count": null,
   "outputs": []
  },
  {
   "cell_type": "code",
   "metadata": {
    "id": "hg8hJrsyRrsQ"
   },
   "source": [
    "# toto je naše druhá buňka skriptu.\n",
    "# zde můžeme využít proměnných nadefinovaných výše (pokud jsme buňku výše spustili)\n",
    "# můžeme např. vytvořit třetí proměnnou, jejímž obsahem učiníme součet našich prvních dvou proměnných\n",
    "soucet_promennych = prvni_ciselna_promenna + druha_ciselna_promenna"
   ],
   "execution_count": null,
   "outputs": []
  },
  {
   "cell_type": "code",
   "metadata": {
    "id": "NKtzqiRXSVul"
   },
   "source": [
    "# obsah nasich tří proměnných si můžeme kdykoliv vypsat\n",
    "# k tomu nám poslouží funkce \"print()\"\n",
    "# vypišme si tedy náš součet:\n",
    "print(soucet_promennych)"
   ],
   "execution_count": null,
   "outputs": []
  },
  {
   "cell_type": "markdown",
   "metadata": {
    "id": "aMuAYvctTEHA"
   },
   "source": [
    "Se třemi buňkami skriptu výše si můžeme různě pohrát. Můžeme se např. vrátit k první buňce, změnit hodnoty proměnných a spustit buňky skriptu jednu po druhé znovu. Otevírá se zde jedna z možností jak velice efektivně využít Python např. jako jakousi pokročilou kalkulačku.\n",
    "\n",
    "\n"
   ]
  },
  {
   "cell_type": "markdown",
   "metadata": {
    "id": "aBFxWjPCaAM3"
   },
   "source": [
    "Python ale není vhodný jen pro práci s čísly. Můžeme např. pracovat i s texty, kdy si proměnné plníme slovy, větami či celými dokumenty, a následně na tyto proměnné aplikujeme nejrůznější funkce. To si ukážeme ve dvou buňkách níže."
   ]
  },
  {
   "cell_type": "code",
   "metadata": {
    "id": "PcBnES-barTY"
   },
   "source": [
    "# příkaz níže přiřazuje proměnné obsah v podobě textu. Jedná se tedy o proměnnou typu \"string\".\n",
    "textova_promenna = \"Tento text je textová proměnná. Lze například počítat, kolik slov daná proměnná obsahuje, nebo kolikrát se v ní objevuje nějaké slovo, například slovo text.\""
   ],
   "execution_count": null,
   "outputs": []
  },
  {
   "cell_type": "code",
   "metadata": {
    "id": "D1QwgwbzcAJd",
    "colab": {
     "base_uri": "https://localhost:8080/"
    },
    "outputId": "ab9f1226-cc3d-421a-95c1-cf856523be04"
   },
   "source": [
    "# funkce \"len()\" v kombinaci s funkcí \".split()\" umožňují spočítat, kolik má naše proměnný slov\n",
    "# tuto hodnotu přiřadíme proměnné \"pocet_slov\"\n",
    "pocet_slov = len(textova_promenna.split())\n",
    "# tuto proměnnou si vypíšeme:\n",
    "print(pocet_slov)\n"
   ],
   "execution_count": null,
   "outputs": [
    {
     "output_type": "stream",
     "text": [
      "24\n"
     ],
     "name": "stdout"
    }
   ]
  },
  {
   "cell_type": "code",
   "metadata": {
    "id": "VxyQ7eFEcWO5",
    "colab": {
     "base_uri": "https://localhost:8080/"
    },
    "outputId": "3b0d4ed9-603e-479b-f6bb-f5d9347e4a28"
   },
   "source": [
    "# funkce \"count()\" nám umožňuje spočít, kolikrát se zde objevuje určitý sled znaků\n",
    "# výslednou hodnotu si tentokrát necháme vypsat hned pod buňku\n",
    "print(textova_promenna.count(\"slov\"))"
   ],
   "execution_count": null,
   "outputs": [
    {
     "output_type": "stream",
     "text": [
      "3\n"
     ],
     "name": "stdout"
    }
   ]
  }
 ]
}
