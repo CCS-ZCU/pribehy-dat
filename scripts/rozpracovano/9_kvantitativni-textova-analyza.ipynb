{
 "nbformat": 4,
 "nbformat_minor": 0,
 "metadata": {
  "colab": {
   "provenance": [],
   "include_colab_link": true
  },
  "kernelspec": {
   "name": "python3",
   "display_name": "Python 3"
  }
 },
 "cells": [
  {
   "cell_type": "markdown",
   "metadata": {
    "id": "view-in-github",
    "colab_type": "text"
   },
   "source": [
    "<a href=\"https://colab.research.google.com/github/CCS-ZCU/pribehy-dat/blob/master/scripts/9_kvantitativni-textova-analyza.ipynb\" target=\"_parent\"><img src=\"https://colab.research.google.com/assets/colab-badge.svg\" alt=\"Open In Colab\"/></a>"
   ]
  },
  {
   "cell_type": "markdown",
   "metadata": {
    "id": "7qReidPvUbhS"
   },
   "source": [
    "Toto cvičení využívá  řadu  pokročilejších funkcí z oblasti NLP. Pro úspěšné zvládnutí cvičení není potřeba porozumět fungování všech jednotlivých řádků kódu. Jde spíš o to pochopit základní logiku, jak podobná práce s textovými daty za využití Pythonu a jupyter notebooku vypadá (Profesionální programátor také jen velice zřídka píše svůj kód takříkajíc od nuly; mnohem častěji jenom drobně upravuje a nově kombinuje části kódu vyvořené někým jiným, aniž by nutně musel rozumět všem detailům.)\n",
    "\n",
    "Cílem cvičení je provést základní kvantitativní textovou analýzu některého digitalizovaného dokumentu z **Archivu Jana Patočky** ([AJP](https://archiv.janpatocka.cz/items/browse?tags=fulltext)). Omezíme se však pouze na dokumenty, u kterých je dostupný digitální přepis (tzv. fulltext). Tj. URL adresa, kterou hledáme, je adresa jakéhokoliv námi vybraného dokumentu z daného archivu pro který je dostupný přepis. Pro zvládnutí cvičení není potřeba nic více než na několika místech ručně nahradit jeden řetězec znaků za jiný pomocí Ctrl+C a Ctrl+V a ve správném pořadí spustit jednotlivé buňky pomocí ikony \"play\" či klávesové zkratky Shift+Enter.\n",
    "\n",
    "Doklad o provedení cvičení bude nahrání Vámi upravené kopie jupyter notebooku ve formátu PDF do odevzdávárny v moodlu (viz níže).\n",
    "\n",
    "Následující buňka je první klíčovou buňkou pro naše cvičení a  je potřeba ji spustit předtím, než buňky, které následují, neboť ty staví na funkcích, které v této buňce do aktuálního jupyter notebooku importujeme."
   ]
  },
  {
   "cell_type": "code",
   "metadata": {
    "id": "fxzyIjpDCU2l",
    "colab": {
     "base_uri": "https://localhost:8080/"
    },
    "outputId": "3c74c2fb-f943-4873-addf-0912f103b3c5"
   },
   "source": [
    "# naše první buňka slouží k tomu, abychom do aktuálního GoogleColab skriptu\n",
    "# importovali určité dodatečné balíčky (či knihovny) s funkcemi,\n",
    "# které nejsou v \"základní výbavě\" Pythonu. Některé knihovny budeme muset dokonce nainstalovat\n",
    "\n",
    "import requests\n",
    "from urllib.request import urlopen # pro práci w webovými adresami\n",
    "from urllib.parse import quote\n",
    "from bs4 import BeautifulSoup # pro práci s webovými stránkami ve formátu html\n",
    "import json\n",
    "import re # pro práci s regulérními výrazy\n",
    "import pandas as pd # pro práci s tabulkami ve formátu dataframe\n",
    "import nltk # modul pro práci s textovými daty\n",
    "from nltk import tokenize\n",
    "nltk.download('punkt')\n",
    "import matplotlib.pyplot as plt # modul pro vytváření grafů\n",
    "import numpy as np # modul pro pokročilejší matematické operac"
   ],
   "execution_count": null,
   "outputs": [
    {
     "output_type": "stream",
     "name": "stderr",
     "text": [
      "[nltk_data] Downloading package punkt to /root/nltk_data...\n",
      "[nltk_data]   Unzipping tokenizers/punkt.zip.\n"
     ]
    }
   ]
  },
  {
   "cell_type": "markdown",
   "metadata": {
    "id": "NQMW7GIgiLep"
   },
   "source": [
    "Váš hlavní úkol je spojen s buňkou níže. V ní je potřeba nahradit obsah proměnné \"url\", tj. **vyměnit webovou adresu jednoho dokumentu z AJP za adresu jiného dokumentu z téhož archivu**.  Pozor, že webová adresa musí být uvnitř uvozovek. Aby se změna projevila, je třeba buňku nakonec spustit."
   ]
  },
  {
   "cell_type": "code",
   "source": [
    "url = \"https://archiv.janpatocka.cz/items/show/2654\"\n",
    "web_text = urlopen(url).read().decode(\"utf-8\")\n",
    "soup = BeautifulSoup(web_text, \"html.parser\")"
   ],
   "metadata": {
    "id": "_wNGwo_kI8Ih"
   },
   "execution_count": null,
   "outputs": []
  },
  {
   "cell_type": "code",
   "source": [
    "text_tag = soup.find(\"div\", id=\"trans_full\")\n",
    "text_dokumentu = text_tag.get_text()\n",
    "print(text_dokumentu)"
   ],
   "metadata": {
    "colab": {
     "base_uri": "https://localhost:8080/"
    },
    "id": "mkA4UEOhKG3e",
    "outputId": "a26d04c4-9218-41aa-f30e-0c73996cef6f"
   },
   "execution_count": null,
   "outputs": [
    {
     "output_type": "stream",
     "name": "stdout",
     "text": [
      "\n",
      "\t\t\t\t\t\t[Poznámky posluchačů z přednášky Vznik a konec Evropy]1\n",
      "\n",
      "\r\n",
      "\tReflexe o Evropě - pokus o přiblížení současné situaci\r\n",
      "\tReflexe o situaci:\r\n",
      "\tNa první pohled se zdá, že situace, to jsou věci, skutečnosti vnějšího rázu... V případě potápějící se lodi vnímáme situaci jako mořskou nekonečnost, špatný stav lodi atp., ale to situaci netvoří - tvoří ji naopak to, že se určití lidé vydali na cestu.\r\n",
      "\tČlověk je bytost situační. Prasituací člověka je být vždy v nějaké situaci. Něco takového nelze konstatovat u žádné jiné bytosti: situace zvířete je přec jen něco odlišnějšího; zvíře svou situaci neformuje, netvoří, nevztahuje se k ní svobodným způsobem; je v situaci jako v soustavě pružin, které je drží a nepouštějí. Naproti tomu člověk se ke své situaci aktivně vztahuje, formuje ji, tvoří, může si ji uvědomit, a už tím ji mění (což neznamená, že vždy k lepšímu) - reflexe!\r\n",
      "\tReflexe je podmínkou, bez níž situaci nemůžeme vyřešit - situace je něco, co nám ukládá problémy - ze situace nereflektované do něčeho, co se stává průhledným...\r\n",
      "\tJak analyzovat situaci?\r\n",
      "\tIndividuální situace jsou pro nás irelevantní, i když mají určitou společnou strukturu. Nejde nám o obecnost, která je abstrakcí formálních situací individuí, jde o obecnost související s konkrecí našeho života. Partikulární situace ukazuje k situaci všech - totalita všech, kteří jsou v určité situaci - totalita lidstva.\r\n",
      "\tSituace je něco jako problém. Má v sobě něco nevyřešeného, něco, co je jakoby výzvou k nám, abychom se nějakým způsobem zachovali. Před situací nestojíme jako diváci, jsme její součástí, stojíme v ní, nikoliv nad ní či před ní.\r\n",
      "\tCelková situace.\r\n",
      "\tExistují odborné vědy (sociologie, historie...), které se snaží vypovídat objektivně. Věda je vědou, protože se zabývá svým tématem objektivně - člověk vůči němu stojí na distanc. Přírodní vědy se zabývají přírodou jako ryzím objektem. S naším subjektivním životem mají společné jen to, že jsme to my, kteří se takto na svět díváme, kteří ho analyzujeme, posuzujeme, rekonstruujeme: věda tedy musí nutně abstrahovat od situace, v níž člověk je. Máme-li si vzít poučení od společenských věd v tom, co nás zajímá v našich problémech, jak vysvětlit situaci, musíme tyto problémy jistým způsobem interpretovat, zeptat se jich na jejich vlastní situační původ. (Moderní sociologie - a neexistuje jiná než moderní, starší úvahy se týkaly státu, ne společnosti - vznikla z reflexe situace v moderní průmyslové společnosti.) Z objektivity nesituovanosti se problémy musí přesadit do polohy, v níž k nám mají promluvit, v níž dostávají plnější význam.\r\n",
      "\tVšichni žijeme v průmyslové společnosti; málokdo si však uvědomuje, jak je to nedávná realita a jak je odlišná od toho, v čem kdy člověk žil. Industriální společnost souvisí s kapitalistickým způsobem výroby (16. stol.), s moderní vědou, přírodovědou, což znamená období asi tří set let. Za tu dobu se však změnila tvář člověka, to, co jej obklopuje, změnila se celá koncepce poznávání, to, co znamená organizovat se, věřit, změnil se celý způsob výroby, pohledu na stát, náboženství, právo. Tento trend započatý před třemi až čtyřmi sty lety se valí dál i přes zarážky a kritické zjevy (nejen dvě války s nesmírným vypětím průmyslové moci a s vystupňováním vědecké invence, angažovaným do ničení života, ale i rozbory Římského klubu);i zdá se, že tento trend se mění na vědecky racionální ovládnutí skutečnosti, ovládnutí přírodní energie se všemi důsledky; ignoruje přitom všechna varování.\r\n",
      "\tUrčujícím rysem naší civilizace je existence v této industriální společnosti a naším úkolem - chceme-li se orientovat - je situační analýza tohoto rysu. Analyzovat, to je i srovnávat s předešlými způsoby situace, s tím, co vedlo ke vzniku moderní průmyslové společnosti, tj. ke vzniku moderní Evropy.\r\n",
      "\tTato civilizace vytvořila pojem \"pokroku\" a pokrokem se chlubí. Naše srovnání by mělo vést k tomu, zda není situace moderní společnosti úpadkem - už v počátcích přeměny v průmyslovou společnost se ozvaly otázky, zda je to pokrok, či nikoliv, zda je to pro lidstvo požehnání (Rousseau).\r\n",
      "\tZvláštní řeč veďme o průmyslové revoluci, o rozvoji vědy a techniky... Naše doba je charakterizována jako revoluční - moderní myšlení je myšlení revoluční - revoluce neuznávající kontinuitu, ale proklamující zlom a zvrat. Rozvoj vědy a techniky znamená také zvláštní zvrat v celé struktuře výroby a práce - břemeno výroby se přesunuje z mechaniky do logiky; s tímto rozvojem souvisejí rozsáhlé společenské změny, změna úloh v rozdělení pracovních sil, kvantitativní posílení technické inteligence, nová šance inteligence vůbec...\r\n",
      "\tŠance, nikoliv nutně vývoj. Devatenácté století hovořilo o železných nutnostech, dvacáté století se už naučilo v tomto ohledu skromnosti - z předpovědí historického vývoje opřených o myšlenku vývoje myšlení a o myšlenku ekonomických kontradikcí, které vedou k proměnám společnosti, se nevyplnilo zhruba nic. Zvykli jsme si dívat se na možnosti: element, který se objektivně nedá dostat do ruky. I v dnešní situaci je toto elementem šance pro další vývoj - rozhodující komponenta dnešní výroby patří té části společnosti, která je s to si uvědomit smysl této společenské situace...\r\n",
      "\tTragická otázka - zda není tato civilizace, na níž závisí naše žití-bytí, něčím, co v sobě má úpadkové rysy; na druhé straně je možné se ptát po určitých šancích - analyzovat, jak se šance mohou proměnit v realitu.\r\n",
      "\tOtázka konce Evropy.\r\n",
      "\tV 19. století se v důsledku vzniku průmyslové civilizace v Evropě stala tato Evropa vládcem světa. Ostatní svět žil v prehistorii; byl bezmocný proti evropské vědě a technice. Zvláštním procesem, jehož vnitřní mechanismus je dosud neprohlédnut, se stalo, že Evropa, která držela v rukou celou planetu, - komplex, který se budoval tisíc let - byla během třiceti let, ve dvou válkách, vyřízena tak, že není pomyšlení na její dřívější roli. V jistém smyslu Evropa existuje dál - v průmyslovém dědictví - to je moc, síla, energie, čím člověk může ovládat skutečnost.\r\n",
      "\tHanebný odchod Evropy ze slávy je podivuhodný a je též schopný nás poučit, co jsme a můžeme být my sami v budoucnosti. Podivuhodný prostředek reflexe, který není ničím cizím - není to reflexe o nás samých?\r\n",
      " Jsme součástí tohoto procesu jako Evropané i jako česká společnost v rámci rozpadu na nacionality v 19. století.\r\n",
      "\tReflektujeme o sobě a naše reflexe se kryje také s dějinami světa: dějiny světa jsou dějinami Evropy. Je problém, zda neevropský stát má dějiny. Dějiny jsou dějinami něčeho - státu, poezie, myšlenek... Není paradox, tážeme-li se, zda Čína, Sumer atd. mají dějiny? A přece - jsou jejich dějiny dějinami v tom smyslu, že jsou to děje lidské, jako lidské chápané? Dějiny, to je vědomé utváření života člověkem samým. To, co bylo před vznikem řeckého státu v 8. století před Kristem, má jeden nápadný rys: nerozlišování mezi obcí a světem. Tak je tomu ve všech východních civilizacích, ve východních theokraciích: čínský panovník je zodpovědný nejen za lidské děje, ale i za přírodní katastrofy, zprostředkuje mezi nebem a zemí; Hérodotova anekdota, dle níž dává Xerxés bičovat Helléspont.ii Hlubokým zářezem se naproti tomu stává až to, když lidé svou obec chápou jako lidské dílo a ostře ji odlišují od všeho, co se děje ve světě. Nejsou tedy dějiny vůbec dějinami Evropy - tedy západního člověka? Dějiny Západu vykazují kontinuitu lidských problémů, která je jejich kontinuitou vnitřní:\r\n",
      "\tŘecká polis jako půda pro svobodnou myšlenku (státu, spravedlnosti...) - hellenismus - Řím. Kontinuita římského impéria - sacrum imperium... Transformace myšlenek až ke vzniku moderního racionalismu, moderní průmyslové společnosti. Do této kontinuity je zatažena celá planeta, která se tím stává součástí všeobecných dějin. Je potom tak docela samozřejmé mluvit o dějinách lidstva?\r\n",
      "\tEvropa jako západní svět - vznik dějin - rozrůstání tohoto motivu na celé planetární universum. Dějiny jako dynamický proud, který vychází od určité problematiky a její kontinuity, výslovně zformované myšlenkově a prakticky, zahrnuje s vnitřní logičností další a další geografické a etnografické komplexy. Dějištěm starověkých dějin bylo nepatrné jeviště řecké, prvního rozšíření dosáhlo v hellenismu, římská říše pak znamenala konstituci lidské usedlosti, která nemá pevných hranic (využito stěhování národů).\r\n",
      "\tVyřízení Evropy je jen etapou v tomto dynamismu a má své analogie... Evropa vznikala v katastrofách - katastrofa řecké polis, římského impéria - vždy procházelo skrze katastrofy podstatné dědictví. Nadějná katastrofa.\r\n",
      "\tVelký pohyb od řecké polis, která objevila problém státní aktivity a lidské svobody (svobody v tehdejším chápání - nikoliv svobody pro \r\n",
      "všechny: je problém, zda je možná pro všechny svoboda; svoboda - úhelný motiv procházející evropskými dějinami, genialita Hegelovy koncepce - spatřuje červenou nit dějinného procesu v uvědomění si svobody).\r\n",
      "\tNynější doba (snad) úpadek? Nikdy nebyly evropské státy tak bohaté, nikdy sociální vymoženosti tak obrovské jako po druhé světové válce - jak potom hovořit o úpadku?\r\n",
      "\tVšední den - a proti tomu svátek.\r\n",
      "\tKaždodennost - a proti tomu to, co každodenní není.\r\n",
      "\tZdá se to být trivialitou, ale triviality zasluhují pozornosti filosofů. Život lidský se pohybuje v těchto dimenzích. Primitivové zdůrazňují svátek, něco, co je hlubší, život ne každodenní: u primitivů je jeho základní kategorií posvátno. Práce a techniky, které s ní souvisí, jsou naproti tomu na celém světě něčím ne-posvátným, je to opatřování živobytí (kdo chová zvířata, nevykonává ritus, nanejvýš chová zvířata pro rituální účel). Život v \"posvátném\" je pak život vyvýšený z každodennosti, do způsobu v krajním případě orgiastického... Lidský život se pravděpodobně v podstatnosti projevuje na těchto dvou úrovních, všední den - svátek. Moderní racionalita to převádí na pracovní den - odpočinek, což je hrubá racionalizace mnohem hlubšího významu. Ne-každodennost je vepsána do našeho života docela základně... Život v každodennosti je životem v technické racionalitě, je to život v samých prostředcích. Pracovat, abychom pracovali - to je moderní sen vytvořený za specifických podmínek těch, kteří žijí v průmyslové industriální společnosti. Skutečnost práce ovšem nedovede uspokojit většinu zapojených do tohoto procesu. Oproti tomu ne-každodennost (např. erotika) poukazuje na něco jiného, než skýtá každý den, má v sobě opojný a orgiastický element. Tato dualita je prazákladním faktorem lidstva.\r\n",
      "\tDruhá dualita, která se nekryje s první:\r\n",
      "život úpadkový - a naproti tomu vzchopení se z úpadku.\r\n",
      "\tJe přirozenou reakcí našeho myšlení považovat úpadek za něco sekundárního - toto pojetí úpadku skrývá v sobě léčku: což jestli život lidský jako lidský je velmi obtížnou hrou, která vyžaduje vzmach, což jestli původní a většinová poloha, v níž se život lidský projevuje, je úpadek?\r\n",
      "\tJak souvisí obě uvedené duality?\r\n",
      "\tOrgiastická tendence úniku z každodennosti znamená, že člověk každodennost překonává jen za cenu ztráty sebe, člověk se v orgiastickém vzepětí ztrácí do temné oblasti skutečnosti, kde zaniká jeho já.\r\n",
      "\tVelký výkon, ve kterém vzniká něco jako duchovní život, velká poezie, aktivní život; dějiny jako aktivní život v polis; dramatická poezie - předvádí ritus - je to orgiastické drama, ale pro pohled, ne aby se ho členové polis zúčastnili, aby se ztratili, ale aby získávali distanci, tj. sebe; filosofie - krok zpátky před realitu... to vše jsou různé stránky pohybu, jímž se západní člověk povznáší z úpadku a vytváří dějiny.\r\n",
      "\tVěda, to není nic jiného než tvrzení, že dvakrát dvě jsou čtyři, složitým způsobem. Je to praktická záležitost, patří na stranu každodennosti. Obrovitý rozmach celého tohoto komplexu, ovládnutí přírody, hon za dalšími přírodními energiemi - to je vše rozmach každodennosti, její generalizace, která učinila nevěrohodnými všechny tradiční způsoby vzmachu a úpadku, a následkem toho - poněvadž ne-každodennost je neodbytnou, nikdy neztratitelnou stránkou člověka - nutí člověka v této civilizaci k primitivním způsobům překonávání každodennosti. Např. opojení společností jako takovou, nacionalismy, války. Klingsoriii Hermanna Hesseho: lidé se cítí osvobozeni, pouto, každodenní trend se uvolňuje, orgiastické oddání se odchodu do temné říše, kde vládne zmar; tato temná říše, to není žádné NIC. Patří sem i opojení revolucí. Anarchistické tendence, kde jde opět o odchod do temné oblasti. Narkomanie, pansexualismus, sebevražednost, stoupající počet duševních chorob, to jsou důkazy, že tato civilizace je úpadková; sociologové (Masaryk, Durkheim) se snažili ukázat na patologických jevech, jako jsou sebevraždy, že moderní, racionálně založená společnost je patologická, ale nikdy neodzbrojili námitky, že statistika důkazů je neúplná, obsahuje krátkou dobu - proti nim pak stojí analýza opřená o fenomény.\r\n",
      "\tŠance - ne ve smyslu technokratickém, ale v tom smyslu, že jedině pod podmínkou realizace vzmachu bude s to tento technokratický element à la longue pochopit, o co běží.\r\n",
      "\tMůže ovšem nastat dvojí:\r\n",
      "\tbuď se tento element přetvoří tak, že z pytle blech se stane cosi jako zcela vyřízené společenství;\r\n",
      "\tnebo tento element převezme odpovědnost za společnost. Toto je šance zachránit společnost před katastrofou, jakou jí předvídá úvaha Římského klubu, v níž se po všech retuších nezdá důležitou podstatná korektura.\n",
      "\n",
      "\n",
      "\n",
      "\r\n",
      "1) Rekonstrukce úvodní přednášky cyklu z roku 1974, který vyústil v Kacířské eseje  (Pozn. vyd.)\r\n",
      "i.\tSrv. D. H. Meadows, cit. výše. (Pozn. vyd.)\r\n",
      "ii.\tHerodoti Historiarum, tamt. (Pozn. vyd.)\r\n",
      "iii.\tH. Hesse, Klingsors letzter Sommer (1920); česky: Klingsorovo poslední léto, přel. R. Preisner, in: týž, Klingsorovo poslední léto a jiné prózy, Praha 1961, str. 113–171, zvl. str. 145–155 (kap. \"Hudba zániku\"); v novém překladu in: Souborné dílo H. Hesseho, sv. 5: Demian, Klingsor, Siddhárta, přel. V. Slezák, Praha 2000, str. 219–261, zvl. str. 242–250. (Pozn. vyd.)\r\n",
      "---------------\n",
      "\r\n",
      "------------------------------------------------------------\n",
      "\r\n",
      "---------------\n",
      "\r\n",
      "------------------------------------------------------------\n"
     ]
    }
   ]
  },
  {
   "cell_type": "code",
   "source": [
    "# nyní si text trochu pročistíme od nadbytečných mezer apod.\n",
    "text_dokumentu = \" \".join(text_dokumentu.split())\n",
    "text_dokumentu\n"
   ],
   "metadata": {
    "colab": {
     "base_uri": "https://localhost:8080/",
     "height": 106
    },
    "id": "V-hZ02-HI3bI",
    "outputId": "05080989-872d-4fb5-b0eb-b53dea51c45f"
   },
   "execution_count": null,
   "outputs": [
    {
     "output_type": "execute_result",
     "data": {
      "text/plain": [
       "'[Studie o času I]1 Chtěli bychom nyní ukázat podrobněji, jak se tato oslovenost Ideou projevuje u jedné ze základních struktur, jež dávají svůj ráz životu člověka v jeho odlišnosti vůči základnějším a přitom jednodušším stupňům jsoucna. Míníme strukturu času. Čas je náš universální horizont a jako horizont je půdou pro nejpestřejší rozmanitost apriorních poznatků subjektivních i objektivních. Zde však nechceme postupovat analyticky, rozborem naší zkušenosti o čase, časového vědomí a časové formy lidského života, nýbrž komparativně-onticky: nechceme zde zjišťovat, co a priori víme o čase, nýbrž klademe si otázku, co čas jest na různých úrovních předmětnosti, co znamená čas v universu v jeho různých poschodích. * Všecky předměty jsou seřazeny v určitém pořádku, který myšlenkově izolujeme a získáváme tím všeobecné pořádkové formy prostor a čas. Jsou obecné, protože se jim nevymyká žádný předmět, žádné předmětné určení, vztah či děj; jsou to formy, poněvadž je myslíme samostatně jako nevyplněná vztahová schémata, která jsou vyplňována - realizována různými, libovolnými obsahy. Ráz forem (schémat) vysvětluje jejich odlišnost od čistých pojmů (které se nedají kvantitativně dělit, nemají reálních částí) a jejich prostředkující ráz mezi názorem a pojmem (zdůrazněný v Hegelově \"unsinnliche Sinnlichkeit und sinnliche Unsinnlichkeit\"). Jsou to schémata celková a potud jedinečná, v nich činíme pokus myslit veškeré předmětenstvo aspoň v jeho hlavních formálních rysech. Lidský sklon realizovat abstrakce vede k tomu, že si představujeme mnohdy tyto formy vztahové jako samostatné entity; filosofie i věda proti tomu sice v novější době protestují, ale sklon k tomu, uvažovat o nich jako o samostatných jsoucnech, je stále silný - také v tom se projevuje, že se nám zdá zprvu samozřejmým, že existují takové samostatné formy dvě, totiž prostor a čas, hluboce odlišné a navzájem nezávislé. Jakmile si uvědomíme formální povahu obou, vznikne ihned též problém jejich vzájemného vztahu; neboť formy nejsou bez obsahu a tento obsah je tak navzájem spjat, že není možná obsahová diferenciace v jednom bez zásahu druhého. Čas je vzájemné zařazení prostorových dějů; nemůže tedy existovat čas bez prostoru. Prostor je však vzájemné seřazení odlišných míst či bodů a tato odlišnost neexistuje bez možnosti vzájemného pohybu, který ovšem opět předpokládá čas. Ačkoli prostor a čas jsou tak navzájem skloubeny a ačkoli moderní věda tuto skloubenost stále prohlubuje, mají prostor a čas jako pořádkové formy určité vlastnosti hluboce odlišné. V prostoru běží o jednoznačnou uspořádanost míst, přičemž tato místa jsou všecka stejně ,aktuální\\', takže měnit místo v prostoru znamená možnost vždy se vrátit k svému východisku; prostorový pořádek nemá směr. Čas naopak směr má, není nikdy celý ,aktuální\\', u času ,aktualita\\' se stává problémem. Časová dimenze má vedle pořádku též směr; pořádek časový je pouhá posloupnost, kterou možno (v paměti, resp. fantazii) probíhat vpřed i vzad, ale prostor nemá nic analogického fázi aktuality, která je jedinečná a k níž není pro žádnou událost, umístěnou v časovém pořadí, návrat možný. Čas je tedy o tento rozdíl aktuality a neaktuality proti prostoru bohatší; bez něho by byl pouhým dalším rozměrem, analogickým rozměrům prostorovým. V takovém čistě pořádkově myšleném čase by existovala sice zákonitá posloupnost dějů (abychom dospěli od a k e, musíme projít b a c, právě tak jako při cestě z e k a musíme projít c a b); ale neexistovalo by zde žádné skutečné napřed a potom. Napřed a potom jsou různé pořádkové vztahy vzhledem k výjimečnému, privilegovanému pásmu či bodu aktuality, který sice charakterizuje každou událost, ale jen jednou a nenávratně, zatímco v prostoru není privilegovaných bodů, všecky jsou rovnocenné. Pořádkové vztahy časové, jako současnost a následnost, jsou tedy hluboce odlišné od napřed-potom, které je vztah směrový. Současné mohou být různé události nezávisle na směru, kterým jimi probíháme, právě tak následné: současnost a následnost jsou analogické vztahům prostorovým, jaké zde existují mezi různými dimenzemi (když např. souřadnice x zůstává neměnná, zatímco y se mění či naopak, nebo když se mění zároveň x i y). Rozeznáváme nyní tuto řadu problémů, které se týkají času: Svébytnost časové dimenze ve srovnání s dimenzemi prostorovými; problém časových vztahů (současnost a následnost): jsou to vztahy skutečně universální? Tj. v jakém smyslu lze mluvit o tom, že veškeré předmětenstvo je zároveň v stejném časovém elementu (okamžiku)? Sem náleží také otázka jednoty či nejednoty časového či časových proudů, vyzvednutá teorií relativity. Dále sem náleží otázka časového fluxu, jeho podstaty, jeho rychlosti. Jsou autoři, hovořící o absolutní, neměnné a ničím nezdůvodnitelné ,rychlosti\\' času; jest nyní otázka, v čem vlastně spočívá. Tato otázka souvisí s další, totiž s otázkou kontinuity v čase a kontinuity času. Čas, podobně jako prostor, chápeme jako kontinuum; časové kontinuum má význačnou úlohu v tom, že jednotí věci a procesy. Čas sice, jak se vyjádřil N. Hartmann,1 na první pohled znamená rozptýlenost dějů a věcí do řady fází (P. Weiss – to be is to be incomplete),2 ale tato rozptýlenost neznamená věcnou nejednotu; teprve přerušení trvání věci nebo procesu v čase má ten následek, že mluvíme o dvou odlišných věcech, resp. procesech. Při tom nutno odlišit tuto otázku kontinuity věcí a procesů v čase od otázky kontinuity času sama, totiž otázky, zdali je čas složen z okamžiků, či jsou-li okamžiky jen abstraktní a libovolné zářezy do původně jednotného pásma uplývání. S touto otázkou, resp. se způsobem, jak ji rozřešíme, bude souviset též způsob řešení otázky vztahu času, hlavně časových dimenzí jednotlivých, ke skutečnosti. Někdy považuje se jen přítomné za skutečné, poněvadž přítomnost se přímo považuje za kritérium skutečnosti. Vzniká tedy otázka, je-li pouze přítomnost skutečná, nebo přítomnost s minulostí, nebo dokonce všecky časové dimenze. Vztah pojmů přítomnosti, skutečnosti, aktuality a reality je dalším problémem, kterým se zde nutno zabývat. Po těchto preliminariích přistoupíme pak k vlastnímu našemu problému, totiž k otázce vztahu různých ontických úrovní (fyzická příroda, život, člověk) k času. Zejména se budeme zabývat otázkou, existuje-li speciální čas organický či historický, nebo pouze časová perspektiva biologická, resp. historická, a čím se tyto časové fenomény vyznačují. Odtud pak dále třeba položit otázku, zda z předchozího něco vyplývá pro sám ontický status času, zda čas může pomoci k formulování otázky absolutní reality, zda přispívá, jak se domníval např. Kant, k vyjasnění otázky předmětnosti jakožto celku vší reality. Na této úrovni možno pak znovu formulovat i kantovskou otázku fenomenality času. O svébytnosti časové dimenze nemůže být pochyby po tom, co bylo pověděno o charakteru směru, a to nezvratného, který je času vlastní. Nezvratnost časového směru je v ohledu přírodním pouhé faktum, jehož nutnost nenahlížíme. Fyzikálně se tato nezvratnost podkládává degradací energie, zákonem vzrůstu entropie; ten je objektivním kritériem časového postupu. Nezvratnost času by pak závisela na určitém rysu fyzikálního dění, jehož formou je čas, který by mohl být jiný nebo který by nemusil platit vůbec, nýbrž pouze uvnitř určitého cyklu dějového (pro který by naopak platil věčný návrat téhož). Naproti tomu bývá docela právem namítáno, že nezvratnost času a vzrůst entropie nejsou ekvivalentní; že časová nezvratnost nesouvisí se směrem do budoucnosti, s tím, k čemu směřuje časové dění, co z něho rezultuje, nýbrž s tím, že příčina je vždy časové prius. Čas je nezvratný z důvodů kauzálních vůbec, nikoli z důvodů jisté podoby kauzálního nexu. V čase může nastat libovolná sukcese, ale čas sám se nemůže obrátit, poněvadž příčina se nemůže stát následkem. Časová nezvratnost je pak téhož původu jako nezvratnost důvodová: čas nemůže být obrácen jako nemůže být obrácen pořádek důvodů a důsledků (v určitém systému). Na rozdíl od uspořádání věcí v prostoru, kde sousednost je nahodilá, uspořádání v času nahodilosti nemá, nýbrž postulujeme pro ně vnitřní souvislost, závislost každé další časové pozice na pozicích předchozích. Z toho vyplývá též větší důležitost časového rozměru před prostorovými - čas musí obsahovat důvody sukcese, ale i prostorového pořádku: důvody dění lze sice spatřovat v prostorových vztazích, ale vysvětlovat všecky vztahy možno jen časově, v prostoru se zastavujeme u pouhých dat bez dalšího vysvětlování. Přes tuto svébytnost, kterou nelze považovat za rys subjektivně podmíněný, nepříslušící časové formě věcí samých, je čas tak úzce spjat s prostorem, že obojí, zvlášť v moderní fyzice, je považováno za jedinou strukturu. Pro nás vzájemné sepětí prostoru a času implikuje důležitou otázku universálnosti času. Universálnost času nutno odlišit od absolutnosti; spočívá v tom, že každý přírodní fakt musí mít časovou koordinátu a že všecky přírodní děje lze seřadit do časového pořádku. Jako universálnost prostoru neznamená totéž co absolutnost prostoru (tj. nezávislost prostoru na tom, co je v něm obsaženo, a spolu s tím měr prostorových na fyzikálním, totiž pohybovém stavu toho, co je měřeno), tak universálnost času neznamená absolutnost, tj. jedinečnost časového pořádku nezávisle na fyzikálním stavu toho, u čeho časové trvání měříme. Co z hlediska jednoho systému vztahového je současné, může být z hlediska jiného následné, takže nelze obojí považovat za obsah téhož okamžiku. Jen tolik musíme požadovat pro časovou universálnost, aby v různých časových posloupnostech, vztažených k různým fyzikálním systémům, vyskytovaly se vždy všecky přírodní události, aby do každého z nich byly někam zařazeny.3 Říkáme-li tedy, že svět se skládá z řady fází, z nichž každá obsahuje okamžitý průřez universem, musíme si být vědomi toho, že každé takové seřazení dějů universa platí jen z hlediska určitého fyzikálního systému, že tedy ono \"obsažení ve stejném okamžiku\", přiřazení stejnému bodu časové osy nemá absolutní hodnotu, nýbrž je regulováno principem konečné rychlosti světla. Z hlediska určitého fyzikálního systému skutečně pak máme před sebou všeobepínající rozmanitost. Časová forma není tak jednoduchá, aby byla zcela nezávislá na povaze dějů, které se v ní odehrávají, podobně, jako to platí o prostorové formě. Jiná otázka je nyní, zdali není cosi absolutního ve fluxu časovém, totiž v onom zvláštním rysu, že v časové formě postupuje skutečnost v celých svých současných průřezech z fáze do fáze, přičemž právě aktuální fázi označujeme jako přítomnou. O tomto zvláštním \"pohybu\", který není pohybem v čase, nýbrž pohybem času, říkává se, že má absolutní rychlost, která totiž není ničím relativovatelná a kterou nelze uspíšit ani zmenšit. O tomto zjevu absolutní rychlosti času mluví Husserl ve Fenomenologii vnitřního časového vědomí2 i N. Hartmann v článku o času a substanciálnosti.3 Celý tento problém vzniká nutně tam, kde si představujeme čas jako hotovou dimenzi, která je námi, subjektivně, probíhána fázi za fází. Místo narůstání celé skutečnosti, které si představuje naivní pohled na časové plynutí, máme zde pak pohyb subjektivního či subjektivních pohledů skrze kontinuum vyšší dimenze. Celý obsah reality pak ustrne a jediným děním se stává tento pohyb přihlížitele kontinuem časových fází. Poněvadž však tento pohyb obsahuje sám zase totéž, co známe z primární, naivní apercepce času, totiž uplynulou, přítomnou a ještě nepřítomnou fázi, je možno a nutno opět vyřadit tento pohyb (jako fakt nějaké další, vyšší časové dimenze), tj. časové plynutí je pak pochopeno samo jako reální pohyb; časové plynutí má pak zapotřebí nějakého času (ovšem jiného, než je primární čas reálních procesů, tj. jejich pozice ve čtvrtém rozměru), a tak to musí jít dále in infinitum až k poslednímu, absolutnímu času. Protože však časový průběh, střídání fází nelze žádným způsobem vyloučit, zůstává v \"absolutním čase\" problém nerozřešen: či lépe nemluvit zde o ,rychlosti\\', která má smysl vždy jen vzhledem k prostoru, nýbrž o zjevu sukcesivnosti samém. Domnělá ,rychlost\\' není nic jiného než sukcesivnost sama. Hlubší je otázka, v čem spočívá vlastně časová sukcesivnost. V moderní době stojí zde proti sobě dvojí pojetí, které lze označit jako kontinuální a diskontinuální. Podle jednoho skládala by se skutečnost dějství, která podkládá časovou formu, z jakýchsi atomů dějství, kdežto druhé by v ní vidělo skutečnou plynulost, v níž jsou všechna rozdělení jen čímsi umělým a druhotným. Podle jednoho by pak v časovém kontinuu bylo možno vycházet od elementů, totiž časových okamžiků; podle druhého by bylo třeba vycházet od kontinuálních pásem a tato pásma srovnávat mezi sebou (podle vztahu vzájemné inkluze). Obojí hledisko má své přednosti i obtíže. Upozorňujeme, že právě zde se setkáváme s časovou paralelou Zénónových paradoxií, týkajících se prostoru a pohybu. Obtíže atomického hlediska souvisí s tím, že časový okamžik nezdá se býti faktem zkušenosti, nýbrž pouhou konstrukcí; psychologové často zdůrazňují, že neprožíváme nikdy \"nedílný\" okamžik, nýbrž časové pásmo, které má určitou extenzitu. Je-li však časový okamžik pouhou konstrukcí, vzniká otázka, zdali při jeho konstruování nebyla spáchána chyba, když byl prohlášen za naprosto nerozlehlý a nedílný. A. N. Whitehead naučil nás svou \"metodou extenzivní abstrakce\"4 nepovažovat okamžik za atomickou entitu individuální, nýbrž za třídu časových intervalů navzájem do sebe zasunutých; v takovém pojetí nevychází se, nemůže se vycházet od okamžiků, nýbrž od extenzivních pásem dějových. Avšak ať je metoda extenzivní abstrakce jakkoli plodná k řešení starých paradoxií prostorových, ať je jakkoli oprávněn názor, že jí byly nadobro sprovozeny ze světa názory, které toto kontinuum chtěly vykládat naivně atomicky (jako názor Humův), zdá se, že ve věcech času je úspěch menší. Co znamená vycházet od intervalů, od pásem trvání? Pásma trvání musí mít určitou časovou extenzitu; ale tato extenzita nemůže přece znamenat nic jiného, než že mimo přítomnou fázi děje rozeznáváme fáze již uplynulé; mimo přítomný okamžik okamžiky již zašlé, mimo událost trvající události odbyté. V každém časovém pásmu jako takovém musil již být odlišen přítomný okamžik od zbytku pásma, jelikož jinak by nebylo možno vůbec mluvit o pásmu: vše by bylo stejně přítomné, celý prožitek by byl přítomným okamžikem. Zatímco v prostoru nemáme nikde přesných mezí, které by dovolovaly soudit na diskontinuální skladbu, máme v čase privilegovaný okamžik, mez, přítomnost. Neexistují-li časové fáze současně v nějaké vyšší, čtyřdimenzionální rozmanitosti, pak by časová pásma byla možná pouze subjektivně: jenom tam, kde vedle přítomnosti, vedle aktuální fáze, je \"přítomna\", zkoncentrována do této aktuální fáze též fáze neaktuální, bylo by možno něco takového jako časová rozloha a interval. Ryze objektivně by pak nemohlo existovat nic než sukcese okamžiků, které mezi sebou nemají kontinuálního spojení. Kontinuita by pak nebyla původní vlastností času, nýbrž kontinuita přicházela by do něho jeho (prostorovým) obsahem. Okolnost, že mnozí moderní filosofové vycházeli z časových, lépe řečeno, dějových pásem, vysvětluje se jednak vlivem psychologických doktrín o čase (James, Bergson, Stern aj.), které vesměs zdůrazňují prožitek \"trvání\", tj. kontinuity jako základ časového prožívání, kdežto okamžik a řadu časovou, tj. řadu okamžiků či časovou linii považují za účinek prostorového modelu času. Považujeme-li však sukcesivnost, jednosměrnost za skutečně podstatnou vlastnost času, pak se nezdá, že by bylo možno čas považovat za původní kontinuum. Čas je pak sukcese přítomností, které mezi sebou nemají kontaktu. Buď je sukcesivnost v čase nepodstatná, a pak může být kontinuem (rozmanitostí analogickou prostoru, např. čtyřdimenzionální), nebo je proň nepostradatelná a pak nutno převzít diskontinuální pojetí času (okamžiky nemají mezičlenů, navzájem se nedotýkají, nemají společného milieu). Proti kontinuálnosti času vystoupil též Bachelard5 ve své polemice proti Bergsonově durée; postavil proti ní dva argumenty, jeden fyzikální, druhý psychologický. Fyzikálně je proti časovému kontinuu teorie relativity, poněvadž okamžik je v této teorii absolutní, kdežto trvání relativní; okamžiky jsou fundamenty časových relací, kdežto trvání je časová relace, která v této teorii závisí na rychlosti vzhledem k danému systému (čím větší rychlost, tím týž jev trvá déle). Po stránce psychologické tvrdí Bachelard, že zkušenost ustavičného trvání neexistuje, vzpomínka na trvání že je obtížná a nejistá, spacia a intervaly časové si nepamatujeme, jak by to bylo nutné, kdybychom měli skutečně původní zkušenost trvání; minulost zařazujeme do \"sociálních rámců\" pomocí vnějších opěrných bodů, nevycházíme při datování z vnitřní zkušenosti. Organizace minulosti v jednotu, tvorba objektivního časového pásma může se odbývat v okamžiku právě tak jako v rozloze, ba v rozloze si tuto organizaci dovedeme představit pouze s větší obtíží než v okamžiku. Proti kontinuálnosti času též Hedwig Conrad-Martius ve spise Die Zeit,6 dokonce se tu snaží dokázat, že Aristotelés nebyl hlasatelem kontinuity času. Právě pro okamžik platí Husserlovo schéma časového vědomí, kde v \"bodové\" přítomnosti (tj. z našeho hlediska: přítomnosti atomické, u níž nemá smyslu mluvit o částech) je obsažena celá dimenze, celé kontinuum retencí, tj. bezprostředních vzpomínek na minulé přítomnosti, k nimž se intencionálně vztahují a tak vytvářejí v ustavičném krytí předmětnou minulost, jejíž části jsou všecky zároveň, kontinuální časovou linií. Husserlovo schéma nám též ukazuje, že \"prožitek kontinuity\" je něčím zásadně odlišným od \"vněmu časového pásma\". Časový interval, spacium atd. nejsou vnímány v témže smyslu, v němž vnímáme sensualia, tj. v jediné přítomnosti. A přesto je v přítomném okamžiku obsaženo, dáno kontinuum: totiž jako soubor ,bezprostředních vzpomínek\\'. Na tento fenomén kontinuální se ve skutečnosti naráží, když se říká, že naše přítomnost obsahuje minulost, že minulost se do ní vlévá. Je však neoprávněné vyvozovat z toho, že by naše přítomnost měla podobu časového intervalu, že by byla rozlehlá, jak se někdy říkává. Není-li zážitek kontinuity vykládán podle Husserlova schématu, tj. jako imanentní obsah okamžité přítomnosti, nýbrž jako souvislost časového pásma, nezbude než považovat čas za nedílné, všeobsahující kontinuum, v němž přítomnost nelze oddělit od minulosti a budoucnosti a v němž přítomná pozice je pouze libovolným a nepodstatným zářezem. Proto kontinuální pojetí je ve skutečnosti nekonzistentní s názorem, že se ve světě tvoří něco nového; Bergsonovo pojetí času, podle něhož čas je zároveň kontinuita i svoboda, obsahuje rozpor. Svou stránkou kontinuity je Bergson mnohem blíže k pojmu času, jak si jej představuje Spinoza, nežli se na první pohled zdá. Tím dospíváme k dalšímu problému, totiž otázce reality časových ,dimenzí\\', lépe řečeno částí času. Je známo, že právě v tomto ohledu byla problematičnost času vždy pociťována nejnaléhavěji. Již u Aristotela je problém času uveden aporií neskutečných partií minulé a budoucí, mezi nimiž nerozlehlá přítomnost právě pro svou nerozlehlost není časem. V moderní době často týž argument slouží k dokazování ireality času. Realita časových dimenzí je otázka, která ještě jinak souvisí s problémem časové sukcese. Neběží totiž pouze o to, jaké povahy je přítomnost kvantitativně (zda extenzivní či atomická), nýbrž o její povahu kvalitativní, o to, v čem vlastně časový fluxus spočívá. Tato otázka souvisí pak zcela bezprostředně s otázkou reality časových dimenzí. Časový fluxus může spočívat buď v tom, že si představujeme, že realita narůstá o stále nové vrstvy současnosti, o stále nové aktuální fáze, přičemž předcházející fáze jsou zatlačovány do neaktuality; v tom případě je nutno říci, že nové fáze (ty, které vzhledem k přítomné jsou budoucí) dosud neexistují, kdežto minulé fáze sice existují v tom smyslu, že jich nelze odčinit a že jsou přítomny jako příčina ve svých následcích, ale zároveň jsou odsouzeny k věčné neaktualitě; nebo si naopak představujeme, že minulost i budoucnost jsou pouze členy další dimenze čtyřrozměrné rozmanitosti, která se v naší třírozměrné prezentaci jeví rozštěpenou v prostor a čas; v tomto druhém případě spočívá časový fluxus v tom, že (n-1)-dimenzionální prezentační pole probíhá v určitém, neměnném pořadí n-dimenzionální realitou, v níž obsah přítomnosti, minulosti i budoucnosti je stejně reální, tj. stejně přítomný. K realitě časových dimenzí lze zaujmout tato stanoviska: stanovisko, že jedině přítomnost je reální (které bylo skeptiky uváděno ad absurdum názorem, že časově nerozhlehlá přítomnost sama je nereální, zvláště když v přítomnosti musí se přítomnost zároveň měnit v minulost); stanovisko, že reální je minulost + přítomnost (bez budoucnosti, přičemž přítomnost je aktuální, minulost neaktuální fází reálního času); dále stanovisko, podle něhož všecky časové dimenze jsou stejně reální (např. Jacobyho nauka o totální realitě času);7 nesouměrnost, jednosměrnost času se obráží v tom, že budoucnost + přítomnost nebo pouhá budoucnost bez minulosti nejsou mezi reálními možnostmi. Mohlo by se nyní zdát, že považujeme-li nauku o atomické přítomnosti za správnou, musíme přijmout nauku o jediné realitě přítomna nebo nejvýše přítomna s minulostí. Avšak zde třeba rozlišit mezi realitou a aktualitou; přítomnost může být výhradně aktuální, aniž byla jedině reální, a tato aktualita je to právě, co má onen atomický charakter, onen ráz non-extenzivní, pokud totiž není intervalem. Minulost je reální, aniž byla aktuální: tato realita spočívá v tom, že minulé děje mají objektivitu nezávislou na jakémkoli subjektivním stanovisku, že kladou jako každá realita odpor naší případné snaze tuto realitu změnit podle našich přání a potřeb. (Ovšemže minulost, např. historická, není ve všem všudy ukončená a hotová, takže ji lze novými akcemi nově osmyslovat, osvětlovat; to je však jiná otázka než principiální faktičnost minulosti jako minulé. Ta právě tím, že je minulá, uniká našemu zásahu a boj můžeme svádět pouze s jejími aktuálními následky, nikoli s minulostí jako minulou, \"mrtvou\".) V čem je nyní \"aktualita\" přítomnosti? Je to aktualita specifická, která nestojí proti \"potencialitě\", nýbrž je pouhým efektem časového fluxu jako takového; pouze v aktualitě je možný náš zásah do reality, kdežto do minula - právě z důvodu nezvratnosti fluxu - zásadně zasáhnout nemůžeme. Kdežto v prostoru nepřítomné a v tom smyslu non-aktuální se může stát aktuálním, je to v čase vyloučeno, poněvadž by bylo nutno obrátit celkový směr kauzality. Nauka o atomické povaze přítomnosti není tedy identická s naukou o jediné realitě přítomného, nýbrž o výhradné aktualitě přítomného. Pokusme se nyní vyložit argumentaci ve prospěch nauky o nerealitě budoucnosti. Z moderních autorů tuto nauku zastává např. Bergson8 a zejména Broad.9 Všichni filosofové, kteří zároveň ujišťují, že minulost se uchovává a budoucnost se teprve tvoří, nejsouc v minulém a přítomném plně obsažena, jsou tohoto názoru. Broad podává argument, kterým se snaží ukázat, že věty o minulosti a přítomnosti lze vyjádřit též beze vztahu k času (takže je možno převést je ve věty existenciální), zatímco věty s futurem takto traktovat nelze. Překlad je takový: \"Pršelo\" = \"Existuje děj A, charakterizovaný deštěm, a celkový úhrn existence je větší než celkový úhrn existence, když děj A nastává.\" \"Prší\" = \"Existuje děj A, charakterizovaný deštěm, a celkový úhrn existence je roven celkovému úhrnu, když děj A nastává.\" Futurální děj takto přeložit nelze, poněvadž neexistuje děj A, který by nastával, když je celkový úhrn existence menší než ten úhrn, kterého bude dosaženo, až A nastane. Avšak bylo právem namítnuto,4 že buď musí býti \"nastává\" ve všech případech vzato nečasově a pak platí stejně o futuru jako o préteritu a prézentu (v tom případě však Broad podává nesprávný důvod svého zavrhování reality futura); nebo je v případě futura vzato v časovém smyslu, potom však nelze časový vztah vyloučit ani v préteritu a prézentu. K tomu možno doplnit dále, že slovo \"existuje\" je vzato dvojsmyslně v obou případech; poněvadž běží právě o otázku, zdali \"neexistuje nyní\" znamená \"neexistuje vůbec\" nebo jen \"neexistuje v přítomnosti\", nelze vyvodit z toho, že děj A dosud neexistuje, jeho neexistenci vůbec. Broad má ovšem v záloze ještě myšlenku, že bez teze, že budoucnost neexistuje, se v určitém smyslu neobejdeme, poněvadž předpokládáme-li, že čas je jen pohybem zorného pole stále přítomnou rozmanitostí, vede to k nekonečnému regresu, kterému je nutno se vyhnout. Lépe tedy předpokládat neexistenci celé budoucnosti bez regresu než neexistenci části futura s regresem. Avšak proti tomu stojí důvody těch, kdo soudí, že budoucnosti nelze upřít existenci o nic více nežli minulosti. Tyto argumenty jsou logické, fyzikální, psychologické a metafyzické povahy. Logicky možno argumentovat, že důvody, které ospravedlňují existenci minulosti, platí rovněž pro budoucnost. Sem náleží zvláště dilema, postavené Jacobym: buď musí být přítomnost stejně neskutečná jako minulost a budoucnost, nebo musí být všecky tři dimenze naopak stejně reální. První část dilematu je však absurdní, protože přítomnost je uznaně reální; tedy zbývá jen druhá alternativa. Jacoby považuje běžnou nauku, podle níž jsou všecky časové fáze skutečné, ale jen postupně, za pouhý praktický kompromis mezi tezí výhradného nároku přítomnosti na skutečnost a mezi naukou o souborné skutečnosti času. Tento kompromis sice postačí prakticky, ale logicky prý není domyšlen. Existuje-li pouze přítomnost, pak možno říci stejným právem, že existuje i že neexistuje - pojme-li se totiž existence nečasově, bude výhradný nárok přítomnosti na realitu obsahovat spor. Z toho, že \"nárok přítomnosti na výlučnou realitu\" je sporný, však nelze logicky přímo vyvodit, že všecky fáze času jsou stejně reální, jak se domnívá, že smí učinit Jacoby. Jeho alternativa není úplná. Předpokládá, nedokazuje symetričnost vztahu mezi minulostí a budoucností. Proto také Jacobyho myšlenka, že čtyřdimenzionálnost času, kterou tvrdí, není hypotézou, nýbrž jednoduchým, logicky harmonizovaným popisem fakt, není úplně správná: čtyřdimenzionálnost času se sice skutečně hodí k výkladu známých fakt, ale obsahuje předpoklad, že budoucnost vskutku existuje. Ryze logicky nelze tedy rozhodnout ani pro, ani proti žádné z obou těchto metafyzických teorií času. (Zdůrazňuje to ostatně M. F. Cleughová ve své kapitole o logických falaciích, které se vyskytují v problematice času.)10 Důležitější budou tedy argumenty věcné. Zmiňme se na prvním místě o metafyzickém argumentu, čerpaném z pojmu kauzality: kdyby budoucnost nebo některá jiná časová dimenze neexistovala, pak nebude možná žádná spojitost mezi nereálními a reálními částmi času, a tedy také žádná kauzalita. Kauzalita má smysl pouze tenkráte, jsou-li členové kauzální řady všichni stejně reální. - Tento argument sice na první pohled vypadá solidněji, ve skutečnosti je však stejně zdánlivý jako argument ryze logický. Kauzalita sice předpokládá, že členové kauzálního nexu jsou všichni stejně reální, ale nikterak nepředpokládá, že by byli stejně reální zároveň, naopak každá taková supozice by vedla k zrušení kauzálního vztahu. Naprostá současnost příčin s následky vede k vyloučení, zrušení kauzálního nexu: pak sice máme před sebou druh důvodového, jednosměrného zřetězení, ale chybí v něm naprosto okolnost pro kauzalitu příznačná, že totiž příčina vytváří, dělá, vyrábí, rodí, vysílá ze sebe následek, že jest tvorbou. Je známo, jak již Hume narazil na tuto otázku současnosti příčiny s následkem, která by důsledně domyšlena vedla k okamžitosti celého světového procesu či, jinými slovy, k jeho věčné přítomnosti. Hume v Treatise III, 2 vykládá, že může-li některá příčina být současná se svým následkem, pak takové musí být všechny, a to že by vedlo k úplnému vyloučení vší následnosti ve světě a k vyřazení času, který by se redukoval na jediný okamžik. Naopak Ingarden ujišťuje, že příčina musí být současná s následkem, poněvadž jinak by byla po určitý čas inaktivní, což by odporovalo principium rationis sufficientis. Avšak zcela stejně lze argumentovat naopak: může-li existovat příčina zároveň s následkem, jsou-li současné C i E, kde je důvod, aby tento stav netrval? Příčina, která je současná s následkem, je v době této současnosti tedy inaktivní, a není tudíž důvodu, proč by přestala inaktivní býti. Příčina, která by byla současná s účinem, by se nepřetvářela, nepřecházela by v účin. Nelze říci, že bezprostřední příčina je současná s účinem, nýbrž suma podmínek + doplňující příčina = účin. Jakmile doplňující příčina přestane mít svou samostatnost, jakmile vstoupí do okruhu podmínek, které ji potřebují, je zde již účin. V každém případě Hume neměl pravdu pouze pro příčiny nepřímé (jako otočení vypínačem a rozsvícení lampy), nýbrž stejně pro příčiny bezprostřední (jako proud elektronů, který rozžhavuje vlákno): bez časové sukcese není kauzality. Argumentace metafyzická, pomocí pojmu kauzality, nám tedy také nepomůže rozhodnout otázku. Důležitější, významnější je proto psychologická argumentace, se kterou přišel Dunne.11 Podle něho empirická fakta psychologická, totiž jevy snu a některých bdělých anticipačních představ, nelze bez přítomné reality budoucnosti vysvětlit. Dunne uvádí empirická fakta, která jsou velmi nápadná a která nepochybně s duchaplností a ne beze vší pravděpodobnosti vysvětluje jako \"vzpomínky na budoucnost\". Za účelem výkladu těchto zjevů, které považuje za zjištěná fakta, konstruuje pak Dunne teorii času, která spojuje v sobě jak nauku o souborné skutečnosti času, jak ji zastává ze současných myslitelů např. Jacoby, nýbrž také nauku o absolutní realitě časového pohybu, která je mysliteli druhu Jacobyho naprosto zavrhována jako neslučitelná s prvou. Jacoby zastává pojetí, které se podobá tomu, z něhož vyšel Dunne, totiž Hintonovu z roku 1887.12 Hinton i Jacoby tvrdí čtyřdimenzionálnost času a časová posloupnost je jim podmíněna pohybem (n-1)-dimenzionální percepční rozmanitosti rozmanitostí n-rozměrnou. Tento pohyb je pro ně oba tím, čím je každý pohyb ve světě \"pravém\", nadfenomenálním, totiž určitým útvarem čtyřdimenzionálním, a sukcese nemá krom subjektivního žádný význam metafyzický, o sobě neexistuje: je pouhým efektem naší \"žabí perspektivy\". Z toho důvodu popírá též Jacoby, že by bylo nutno chápat čas jen jako rozmanitost, která je v klidu vzhledem k našemu sukcesivnímu chápání; časová rozmanitost je nejen v klidu, nýbrž je sama zcela beze vší sukcese. Kdyby pohyb i klid náležely stejně do absolutní reality, pak by nebylo možné vyhnout se nekonečnému regresu: čas by byl nikoli čtyřdimenzionální rozmanitostí, nýbrž rozmanitostí o nekonečném počtu dimenzí. Avšak tento nekonečný regres je právě tím, čeho Dunne potřebuje, aby odůvodnil to, co je podle něho faktem \"vzpomínky na budoucnost\", reprodukce budoucnosti. Právě že se nepohybujeme pouze ve světě čtyřdimenzionálním, nýbrž že i tento svůj pohyb dominujeme atd. do nekonečna, zakládá možnost odpoutat se od vázanosti na pouhou přítomnost a uvědomit si i budoucí události. Kdyby Dunne měl pravdu, pak jeho psychologickými zkušenostmi by existence budoucnosti byla skutečně dokázána; ale zároveň i mnohem více než ona, totiž \"seriálnost\" času, jeho polydimenzionální stavba a konečná podřízenost \"absolutnímu času\", totiž neredukovatelné, absolutní sukcesi, která není předmětem žádného dalšího, vyššího zpřehlednění, časové neutralizace. Tak Dunne činí - narozdíl od Jacobyho - pokus, aby koncepci existující budoucnosti, koncepci souborné reality (přítomnosti) času skutečně prokázal, ale prokazuje zároveň mnohem více než ji a jeho \"průkaz\" obsahuje tak fantastické komponenty jako předvědění, jako nekonečný regres, který má poslední terminus, jako spirituálního pozorovatele, který je poután hmotným substrátem a zároveň nad něj povznesen atd. Bylo by možno krom psychologického materiálu, který přináší Dunne, učinit pokus opřít tvrzení, že budoucnost existuje, o fakta moderní fyziky. Teorie relativity zná různé tempo událostí v různých systémech (co [je] v jednom současné, to [je] v druhém posobné, takže co v jednom je teprve budoucí, v druhém ,již\\' existuje). Ale nehledě k tomu, že různé systémy nelze v teorii relativity převést na společnou časovou základnu, je úchylka mezi časy různých soustav pouze v rámci rychlosti světla, takže nelze mluvit o existenci celé budoucnosti, nýbrž nejvýše té její části, která je realizována v systému, v kterém jdou hodiny nejrychleji. Ovšem čtyřdimenzionální universum Minkovského13 zachází s časoprostorem jako jednotnou čtyřdimenzionální rozmanitostí. Ale okolnost, že jeho pomocí lze popsat jevy fyzikální, není sama o sobě dosti silná, aby prokázala skutečnou realitu budoucna, právě tak jako k tomu nepostačil čtyřdimenzionální svět Hintonův a Jacobyho čtyřrozměrný čas. Neboť matematická koncepce, jakou je Minkovského svět, je formální kostra, která je schopna realizace různými modely, z nichž jeden může být fixní, jiný plynulý. V podstatě jedinou cestou, jak se skutečně přesvědčit o koncepci Hinton-Jacobyho (je ovšem starší, podle Dunneho o ní referuje již 1754 d\\'Alembert),14 je Dunneho psychologický experiment o předvědění budoucnosti; ale tato koncepce je tak složitá, vnitřně problematická a nepravděpodobná, že rozhodující argumentace, jakou nepochybně zamýšlel Dunne, zde před námi určitě není. Na druhé straně se nám zdá, že tato koncepce vede k plodnému pojmu ,časového světa\\' (Jacoby) jako odlišného od ,sukcese\\', která podle myslitelů tohoto typu nenáleží věcem samým. Subjektivní pohyb sukcesivní, pohyb (n-1)-dimenzionální ,projekční plochy\\' skrze rozmanitost n-dimenzionální, je pak metafyzické minimum, které v žádném případě není redukovatelné. A i když tento pohyb ve svém celku, jakožto absolutní realita mezi absolutními realitami, je pouze světovou linií, která má svůj počátek, konec a pozici v čtyřrozměrné rozmanitosti beze vší sukcese, je ve svém průběhu přece něčím původním a neredukovatelným, ať se to snažíme jakkoli devalorizovat poukazem na lidskou \"žabí perspektivu\". Z předchozího vyplývá několik zajímavých důsledků: především, že problém času není identický s problémem časového světa, jak se domnívají někteří naivní objektivisté. Jistě má N. Hartmann pravdu, když protestuje proti tomu, aby času byla přičítána tendence a aktivita, jak je tomu v mytických obrazech času ničivého nebo naopak tvořivého a plodícího; ale na druhé straně identifikace problému času s otázkou časového světa, k níž sám dospívá, není o nic méně naivní - i ona je projekcí určité naší tendence, totiž tendence objektivační. Metafyzický problém časového světa, který je jedním z velkých aspektů problému universa v celku, nedovedeme rozřešit; metafyzická tendence, která se hledí tohoto celku zmocnit, ovšem se tu uplatňuje ve vší intenzitě, neboť časový svět jako povznesený nad sukcesi je něčím, co slibuje naší tendenci k celku, k jeho definitivnímu uchopení a pochopení nesmírný úspěch. Tento eleatský svět tedy vychází vstříc opět jedné z velkých metafyzických tendencí - přičemž se ukazuje, jak obě tendence, objektivační a totální, vedou k neúspěchu. Nevíme tedy, zdali ,časový svět\\' je bez sukcese, a tedy bez toho, co běžně a fenomenologicky nazýváme časem; problém je podle vší pravděpodobnosti neřešitelný. Každé řešení otázky časového světa by mělo přirozeně svůj značný význam pro rozřešení otázky významu časové sukcese a časové perspektivy; ale určité části tohoto problému mohou být od prvního izolovány. Nejvlastnější půdou pro problém času nemůže být tedy otázka ,časového universa\\', které může být ryze nečasové; je dobře možno, že čas \"ve věcech samých\" nenajdeme - že se jich tedy budeme marně ptát, co je čas. Avšak není-li čas zcela určitě faktum absolutního universa, je nicméně absolutním faktem, které nelze žádným způsobem oddisputovat a ze světa sprovodit. Proto musíme však podstatu času hledat nesporně především tam, kde čas nepopiratelně najdeme - aniž bychom proto holdovali jakémukoli subjektivismu. Přitom je zřejmé, že ačkoli obě základně odlišná metafyzická řešení - jedno, podle něhož budoucnost existuje, druhé, podle něhož nikoli - implikují dva základně různé aspekty významu času, existuje určitá stránka problému, která zůstane stejná, ať přijmeme jedno či druhé řešení: ať je čas výsledkem toho, že celá realita je v \"tvořivém postupu\" nebo ať je efektem lidské \"žabí perspektivy\", v každém případě znamená, že se v universu něco tvoří; a \"tvořivý ráz\" času není tedy pouhou metaforou, nýbrž patří k samé povaze ústředního fenoménu časového. V obou případech čas je tvorba, v obou případech jím vzniká v universu něco zásadně nového, v něm dosud neobsaženého, a tudíž je též manifestací svobody, ba svobodou samou. Odlišný je však v obou případech způsob, jak se tvorba a svoboda uskutečňují. V prvním případě běží o postupné obohacování jsoucna novými vrstvami časových fází, mezi nimiž jsou pak takové, které se vyznačují proti předchozím též kvalitativním obohacením, na těch se budují nové a nové - čas je v tomto pojetí ustavičné sčítání a syntetizování předchozích výbojů; máme před sebou universum, které se vyvíjí, které je nazíráno pod kategorií vývoje, dějství a tvorby. Od atomu přes základní hmotné architektury až k živým bytostem a člověku máme před sebou veskrze díla času. Čas tu nebyl pouze formou universa, nýbrž neméně jeho obsahem; časová tvorba týče se tedy rovněž obsahu universa. A universum, poněvadž je časové, spočívá zčásti, nebo dokonce snad i úplně na rovině svobody. Člověk se tu jeví blízkým podstatě universálního jsoucna, je částí universa, i když jeho největší nárok je překonat universum novými obohaceními. V druhém případě je svoboda, čas a tvorba něčím, co se týká mnohem méně universa než člověka, mnohem méně obsahu světa než formy, v níž je svět prožíván. Nové, co vzniká v universu příchodem času, nespočívá v obohacení světa nebývalým, nýbrž závisí naopak též na svého druhu neadekvátnosti, na něčem negativním: člověk není pro světovou rozmanitost adekvátním, rovnodimenzionálním nazíratelem - chybí mu možnost přehlédnout ji v zásadě na její úrovni, možnost setkat se s ní jako rovný s rovným. Z toho důvodu mu nezbývá než obraz v prostředí necelistvém, obraz nutně zlomený a plynulý, obraz prolnutý negací. Svoboda v tomto případě neznamená obohacování objektivní skutečnosti novými obsahy - jelikož v této skutečnosti jsou tota simul, byla by snaha o takové obohacování něčím sporným -, nýbrž je právě tím, co v nečasovém objektivním světě bez posloupnosti a všeho, co k ní náleží, nikdy nemůže být, totiž dramatem a jeho perspektivou, zavrstveností v realitě a současným vyřazením z ní. Jsme svobodni, poněvadž je nám vyhraženo v universu toto mimořádné postavení - být sice jeho složkou, která je svou kvalitativní náplní na ně beze zbytku odkázána, a přece z něho nevysvětlitelná, zároveň jim pohlcená a z něho vytknutá. Ať je tomu však jakkoli, problém času musí být rozebrán mimo tyto metafyzické alternativy, a tyto alternativy nám slouží především k tomu, abychom se ujistili tím, jak nezávisle na metafyzických návrzích je problém času spojen s problémem tvorby nového a problémem svobody. Vidíme nyní, že k problematice času náleží jednak časový svět, v němž si představujeme děje uspořádány, jednak posloupnost (ať je tato posloupnost působena \"tvořivým posunem\" celé reality nebo jediným pohybem naší prožitkové ,roviny\\' časovou rozmanitostí). Posloupnost je nezbytná, avšak naprosto nedostačuje, neboť (jak ukázal Husserl) z toho, že něco časově plyne, nenásleduje ještě, že si toto plynutí též uvědomuje. Uvědomění času pak předpokládá, že časové plynutí sice sledujeme, ale zároveň též umísťujeme do časového světa; toto umístění do časového světa děje se pomocí časové perspektivy, časového horizontu. Abych totiž měl věci a procesy minulé a budoucí, musím napřed chápat, musí mi být přístupno něco jako minulost a budoucnost, a přístupnost minulosti a budoucnosti není vysvětlena prohlášením, že se naše vědomí pohybuje z minulosti do budoucna: neboť v každém okamžiku je vědomí bezrozměrnou přítomností, abstrahujeme-li od časové perspektivy, která v pohybu z minula do budoucna není obsažena. Odpovíme-li, že tuto perspektivu vysvětluje paměť, pak je to jen nové slovní označení téhož problému; paměť předpokládá, nevysvětluje časovou perspektivu. Abychom si mohli něco pamatovat (nejen reprodukovat minulost, nýbrž skutečně si uvědomovat minulé jako minulé), musíme časovou perspektivu, musíme minulost mít v moci, musíme již chápat, že je a co je. To předpokládá: 1) minulé se jistým způsobem uchovává; 2) neuchovává se jen jako přítomné nebo jako specifická součást přítomného; 3) dovedu se od přítomného jako takového odpoutat; 4) abych to mohl, musím přítomnost pojmout ne jako něco hotového, odbytého, tím minulého, nýbrž jako schopnou změny vlastním zásahem, a tedy ve světle něčeho, co dosud není. Tento čtvrtý bod pak znamená, že se neodpoutávám toliko od přítomného jako takového, abych se uchyloval k jiným časovým dimenzím, nýbrž od jsoucího vůbec; všecko, co jest, mi nedostačuje, celé jsoucno překračuji. Časové vědomí není nic jiného než vědomí tohoto překročení. Překročení jsoucího však není možné, nevyskytuje-li se, neposkytuje-li k němu opory něco jiného než universum jako soubor konečných jsoucen. Aniž bychom dovedli universum učinit svým předmětem a tak se nad ně reálně povznést, aniž bychom přestávali být jeho součástí, jsme osloveni něčím, co nelze považovat za jsoucno ve smyslu obsahu universa; toto oslovení nás vůči universu uvolňuje, dovoluje nám, abychom se v něm v celku orientovali. Očekávání, příští zcela jiného je v pozadí všeho časového pohybu. Teprve na podkladě tohoto oslovení a na základě možného příslibu radikální obnovy je možná časová perspektiva a následkem časové perspektivy skutečné zachycení plynutí jako takového - pomocí plynutí pak a jako jeho rámec také časový svět. Tak je veškeré časové prožívání pouze možným vztahem k ideji: buď naprosté odpadání od ideje, nevěra v ideu, v něco zásadně nadřazeného veškerenstvu a eo ipso pouhá odevzdanost universu na jeho milost a nemilost, nebo obrácení k ideji - kteréžto obrácení není, jak si představoval pozitivní platonismus, nazírání ideje, kontemplace ideového jsoucna, nýbrž otevřenost a připravenost pro zcela jiné, zásadně odlišné, pro radikální skok, proti němuž všecky \"kvalitativní\" skoky zůstávají zásadně pozadu. Toto \"radikálně jiné, odlišné\" umožňuje odpoutání od přítomného uplývání, od jeho aktuální fáze, k níž je vždy poutána bytost ryze biologická aspoň svým prožíváním, i když její aktivita přerůstá rozměr aktuálně přítomného. Konečný smysl tohoto odpoutávání, které nesporně leží v našem prožívání času, je toto \"zcela jiné\", které právě pro svou zásadní odlišnost je vždy teprve před námi, nikdy není \"odbyto\", nýbrž vždy se k nám obrací s charakterem vyzvání. Tak se ukazuje, že vlastní časová dimenzionalita leží na jiné úrovni, než je uplývání a podržování minulého, na jiné úrovni než \"trvání\" nebo \"proud vědomí\", zdůrazňovaný Bergsonem a Jamesem. Časová dimenzionalita je jakýsi úkol, jehož stranami jsou to, co je reální a v tom smyslu hotové, a \"zcela jiné\", ἕτερον. Na jejich rozmezí leží ta část reality, na kterou lze působit, která je v dosahu mé akce pod případným vlivem výzvy tohoto ἕτερον: tou je přítomnost. Rozumí se, že všecko uplývající je na věky vyrváno naší působnosti, ať na to chceme jakkoli nemyslit a zapomenout; tato vůle nemodifikuje minulost, nýbrž jen mé vlastní budoucí přítomnosti. Vše reální, vše vstoupivší do času propadá eo ipso věčné nedotknutelnosti. Tak stojí přítomnost na rozmezí dvojí věčnosti, z nichž jedna pohlcuje veškerou realitu - vše, co jest, se již stalo, je v podstatě již zde, je od věků do věků ,přítomné\\' a zároveň nedostupné našim rukám, kterými jen proběhlo jako korálek náhrdelníku za korálkem; druhá však jistí proti tomu, že nejdůležitější stojí vždy mimo tuto propast bezmoci, je to věčnost výzvy, vzkříšení, zmrtvýchvstání. Tento konflikt je čas; žít v tomto konfliktu znamená žít v čase. Bylo častěji řečeno, že moderní filosofie, filosofie poklasického údobí, doby, která se rozloučila s dědictvím řecké metafyziky, je zároveň filosofií času. Při tom myslívá se na filosofii toho rázu, jak ji rozvinuli James, Bergson, Whitehead, Alexander, Broad aj., filosofii \"tvořivého postupu\" jsoucna, filosofii trvání a bezprostřední paměti. Avšak moderní doba zná nejen filosofii času rázu Bergsonova, nýbrž také strnulý čas Hintonův, Jacobyho, Einsteinův a (zčásti) Dunneho. A ve filosofiích tohoto druhu projevuje se protiklad k časové dynamice ještě mnohem energičtěji než v klasických filosofiích, pro něž čas (či trvání) nebyl sice poslední realitou, ale byl něčím svérázným, autonomním, nikoli pouhou vícedimenzionální rozmanitostí. Tato dvojitost moderní filosofie času teprve vyjadřuje něco základního z problému času: protiklad, konflikt časového úhlu, časové perspektivy. Ostatně třeba dodat, že filosofie času rázu Bergson - Whitehead představují rameno ireality, obnovy a svobody jen neadekvátně. Ve své analýze časové struktury nesestupují hloub než k faktu, který je sice fundamentální, ale přece jen částí ještě hlubší struktury: totiž k faktu uplývání a uchovávání uplývajícího bezprostřední pamětí. Všude se zde přehlíží fakt, že i při uchovávání minulého (s jeho současnou modifikací) může být celá časová struktura nicméně zakryta, že minulost takto uchovávaná (jeho součást, moment přítomnosti) je minulost nečistá. Přehlíží se fakt, že minulost může být zde, aniž je spatřena, odkryta jako minulost, jako věc odbytá, hotová, kterou můžeme a musíme jen pasivně uznat. Pasivita je zde, aniž chápeme její pasivnost; je tím skrytější, čím je naše celkové prožívání pasivnější. Proto tyto filosofie času nepronikají hloub než do vrstvy biologického časového prožívání, jak ještě v pozdějším míníme ukázat. V animálním prožívání máme nepochybně rovněž časové plynutí, a přece tu prožitek rozdílů časových dimenzí nepochybně neexistuje: zde vládne ryzí pasivita, odevzdanost časovému proudu, tj. každé jednotlivé aktuální jeho fázi. Z téhož důvodu nemohly uvedené filosofie nikdy proniknout do vlastní roviny lidského času, do dimenze konfliktu a tím do dimenze historie. Přes všecko zdání tvořivosti, přes všecku řeč o ní není Bergsonův čas historický čas: je to ryzí čas pasivity, kumulativního automatismu a právě tak neodvratného zapadání do nenávratna a do temna, o člověku, jeho bytostných konfliktech, jejich podobách, maskách, jejich odkrývání a ustavičném vzájemném kontaktu skrze konflikt se zde nedovídáme skoro nic. Proto také nebyl v této filosofii odhalen původ a originální ráz původních časových dimenzí; věc je zde orientována příliš výlučně na pojmu a oblasti plynutí, která je sice nezbytná, ale od níž zároveň třeba získat distanci, máme-li získat skutečný lidský časový prožitek. Ale také Husserlova filosofie časového vědomí, ačkoli je jemněji propracována než teorie Bergsonova, neproniká za hranice myšlenky časového uplývání a bezprostřední paměti. Proto je též nesprávné, když autoři jako např. Merlan15 převádějí Heideggerovu časovou analýzu ve všem všudy na výboje Husserlovy: je sice správné, že Husserlova analýza časové perspektivy, vnitřní formy vědomí času je pro Heideggera určující, ale sám pojem časových dimenzí zůstává u Husserla vázán k perspektivě na časovou linii, v níž se děje uplývání, a dimenze jsou tedy vždy vázány k úseku, k výlučné partii časové linie. Naproti tomu byl Heidegger první, kdo položil důraz na okolnost, že nejpůvodněji nejsou dimenze lidského času úseky časové linie, nýbrž jednotné aspekty celé oblasti plynutí; minulost a budoucnost nejsou toliko za námi a před námi, nýbrž jsou celkovým způsobem nazírání na časový svět a časový tok. Merlan však interpretuje původní časovost jakožto modality retencionálního, resp. protencionálního vědomí, čímž ona dimenze časového vědomí, která nás vytrhuje z časového plynutí, a tím rovněž z pouhé vázanosti na přítomnost, je opět nivelizována, zarovnána v časovém plynutí. Časové plynutí s retencionálním a protencionálním momentem, které jsou v něm obsaženy, činí koneckonců všecko, co patří k jeho obsahu, přítomným - přítomný je právě tak aktuální moment jako předměty \"ohonu retencí\"; určitým způsobem je přítomna veškerá minulost v modu neurčitosti; analogon platí nezbytně i o budoucnosti - ale to všecko ukazuje právě, že v pouhém časovém toku není dána druhá komponenta časovosti, totiž vědomí nedaného a nepřítomného, vědomí radikálního rozdílu. Celá struktura retencionálně-protencionální tvoří nám rozšířený dvůr přítomnosti, perspektivu na časový svět, souhrn tohoto světa; ponechává však stranou a nepovšimnut ten fakt své vnitřní stavby, který je právě tak nepopiratelný a právě tak ve struktuře samé obsažen, totiž fakt, že v časovém vědomí nutně vždy něco odešlo a odchází do ireality, ať je to již pohyb celé reality nebo jen náš vlastní pohyb tím, co se nazývá časovým světem. Žijíce ve fascinaci přítomností, v úzkém přilnutí k tomu, co je dáno, zapomínáme tak na tuto negativní komponentu časového vědomí; a ireální komponenta musí nám být připomenuta pravým vytržením z presenční fascinace. Toto vytržení - právě vy-rvání, vy-vstání, ek-stase je původní budoucnost. V jejím světle objevuje se také minulé teprve minulým, tj. dalekým a nedosažitelným naší přímé činnosti. Zdá se nyní, že časové plynutí s uchováváním minulého a vytržení z přítomnostní fascinace jsou charakteristické pro různé vrstvy skutečnosti - pro realitu čistě biologickou a realitu lidskou. Zdá se vůbec, že různé vrstvy reality mají vždy svůj vlastní, typický vztah k času, k jehož stručné charakteristice nyní přikročíme. Anorganické jsoucno, obor fyziky a chemie, nemá vnitřního vztahu k času. Všecky procesy anorganické jsou prostou sérií trvání a změn, které nezávisí na tom, zdali stejné či podobné děje zde již byly či budou; aktuální procesy sice ovšem kauzálně závisí na minulých, ale tato kauzalita sama nemá takovou formu, aby minulost a budoucnost byly při aktuálním procesu nějak respektovány. Nemůžeme u nich mluvit stricto sensu ani o počátku a konci, které jsou vždy relativní, ani o vyvrcholení, zrání, úpadku, obnově. Kde tak činíme, je to jen přenesením z jiných oblastí, hlavně z biologické. Mluvíváme tak např. o stárnutí hvězd, ale to je myšleno pouze metaforicky, pro délku doby, po kterou hvězda trvá nebo pro typické etapy jejího vývoje; ale tento vývoj ve skutečnosti není žádným organickým procesem, není zde žádné jednotky, která by se vyvíjela nebo opakovala, nýbrž pouhý konglomerát. I když tento vývoj dospívá k určitým výsledkům stabilním, není tato stabilita žádným stavem zralosti; k ní je proces sám vnitřně lhostejný; lhostejné je také tempo astrálního vývoje. Každé neorganické jsoucno je kdykoli připraveno k tomu, aby pokračovalo inertně v témže směru právě tak, jako k tomu, aby šlo radikálně jiným směrem. Proto možno říci, že je lhostejné k minulosti i budoucnosti, vázáno pouze k okamžité konstelaci, která určuje právě jeho stav. Není zde privilegovaných etap procesu - všecky jsou rovnoprávné. A tak se sice může stát, že v anorganičnu se uskutečňují složité skladby dějů, že jsou zde struktury mnohonásobně navzájem sklíněné a udržující se vnitřním automatismem dlouho v rovnováze, když se jednou prošlo obdobím bouřlivého a málo uspořádaného dějství, jako např. sluneční soustava, soustava zemská se svými složkami minerálních vrstev, plynných obalů, biosféry, se svým složitým rytmem pohybů atd. - ale hvězda je vždy stejně \"hotová\" (či \"nehotová\"), ať v \"zárodečném\" či v \"konečném\", inertním stadiu, nepatří k její stavbě žádný \"cyklus\". Proces je zde pouhé narůstání nových a nových přítomností bez \"ohlížení zpět\" i bez \"vyhlížení vpřed\": každá etapa si stačí sama, i když minulost opakuje, nevztahuje se k ní vnitřně. Předchozí prostě způsobuje to, co následuje, ale není jeho \"zárodkem\" nebo \"předstupněm\".5 Docela jinak je tomu již v organickém jsoucnu, alespoň v převažující jeho části. Zde existuje cyklus od zárodku a semene k hotovému organismu, a tím opět k zárodku - semeni nebo od neúplného organismu, příp. části organismu, k celku, k hotovému tvaru. Táhneme ostrou oddělující linii mezi organickým útvarem, pokud se pohybuje mezi těmito body nerozvinutého organismu, plného rozvití a úpadku, a mezi hmotným podkladem či materiálem organismu, jakmile hyne; zde stojí proti nám již etapa časová, která nepatří k organickému cyklu. Organický cyklus, toť prastará filosofická myšlenka; organismus již Aristotelés pochopil jako jedinečného představitele obecného tvaru - časově to znamená, že organismus je netoliko v čase jako dimenzi dějství, nýbrž že k času má také vnitřní vztah, čas je také v něm: neboť jeho život spočívá v tom, že opakuje, co již bylo zde: budoucnost zárodku je rozvitý organismus, budoucnost dospělého je snaha udržet tento rozvitý tvar proti silám úpadku. Vždy má organický cyklus tu zvláštní charakteristiku, že budoucnost je v něm určena hotovým tvarem; vše vypadá, jako by budoucnost byla určena tím, co již jest, tj. v podstatě něčím, co již bylo. Každý akt organismu je určen instinktivně, tj. reakcemi, které jsou již připraveny; čas organismu, toť přechod od potence k aktu - i sám individuální vývoj je takový přechod, k organismu patří rozdíl mezi jeho celkovými a okamžitými možnostmi; proto je jeho forma dána termíny \"ještě ne\", \"již\" a \"již ne\", tj. časovým určením, při kterém jako by se očekávalo něco v jádře již rozhodnutého, co na vlastním aktivním zásahu nezáleží. Rozdíl mezi celkovými a přítomnými možnostmi jeví se tak u organismu jako vnitřní vztah k času - jinými slovy, čas organismu není jen zařazenost v dějství, které stále přirůstá, nýbrž organismus má svůj čas, který ustavičně signalizuje, jak je organismus na tom: kolik uhodilo na orloji jeho životního cyklu. Tento vnitřní vztah k času můžeme u organismu konstatovat předně objektivně, tím, že rozbíráme vztah jeho životních epoch k zralé, celkové životní formě. Má-li čas, jak se jeví již ve fyzické přírodě, dvojí charakteristiku: stálost (pořádek) a změnu (Lautman),16 pak tyto rysy jsou ještě zesíleny v čase, jak se jeví v organismech. Organismus má časové charaktery rytmické (dech, tep, rytmus zažívací, střída spánku a bdění, rytmy různých instinktů) a charaktery, které se neopakují, nýbrž postupují jednosměrně od narození ke smrti (střída životních fází, puberta, menopausa atd.), hlavně konstatovatelné a měřitelné na stupni regenerační schopnosti tkání a retardaci tkáňového vzrůstu krevním plasmatem. Tyto druhé dodávají biologickému dění, jak se říkává, \"historického\" rázu, ač tento výraz je nevhodně volen: neboť jde pouze o jeden rys, který je vlastní též historickému času, který však v této izolaci není rozhodující, totiž o podmíněnost minulostí, o jakési uchovávání minulosti. Pro nezvratnost životní linie nese každý okamžik organismu stopu své minulosti v sobě, je pásmem životní křivky. Běží nyní o zvážení úlohy obojího faktoru časového. Je-li nezvratný faktor charakteristický, takže patří k zvláštním rysům organismu, je rytmický faktor zato daleko extenzivnější, zaujímá větší kvantum života a funkcí organismu. Bylo by možno říci, že u živočichů je nezvratný faktor účelem? Právě zvláštnost životní křivky organismů ukazuje, že tomu tak není. Životní křivka má u nich totiž nejprve velmi rychlý spád (měřeno v jednotkách zajizvovacího indexu), později se zpomaluje a konečně ustává skoro úplně. Také rytmické funkce se pak ovšem zpomalují, ale toto zpomalení ovšem neruší jejich stacionární ráz. Nemůžeme rozhodně v biologii - na rozdíl od antropologie - říkat, že fakta životního rytmu slouží za pouhý podklad faktům životního vývoje, změnám životní linie; spíše lze tvrdit opak. Neboť fakta životní linie svědčí o dosavadní nehotovosti organismu, o tom, že organismus v tom nebo onom bodě nedosáhl dosud zralé podoby, relativní definitivnosti, stacionárního stavu, nebo o tom, že již nastalo upadání, směřující ke konci jednotlivce. Zrání i úpadek jsou zde jen úvodem a závěrem vlastního životního fungování, které je stacionární povahy, v podstatě rytmické. Vidíme tedy, že v biologické oblasti je čas sice již zvnitřněn, takže organismus není pouze v čase, nýbrž má svůj čas, svůj vnitřní vztah k času, své trvání: každý jeho stav je funkcí minulosti, takže organismus ji skutečně nese v sobě, prodlužuje ji do přítomnosti; ale toto zvnitřnění, sjednocení organismu (narozdíl od časové roztříštěnosti neživého tělesa v okamžitých stavech) je přece podřazeno fungování, které pouze opakuje rytmicky to, co patří k stacionárnímu fungování života. Ovšemže také subjektivně lze rozbírat organický čas. Dokonce bylo nejednou řečeno, že vnitřní časová linie je materiálním podkladem vnitřního prožitku trvání (Bergsonova durée réelle). Ale durée, jak ji líčí Bergson, je prožitek kontinuity, který znamená ustavičné obohacování, durée nám dává dary zadarmo, kdežto biologický čas ve svém momentu jednosměrném je čas postupného ochuzování: biologický čas ve své jednosměrnosti je příznakem toho, jak se zmenšuje plastičnost organismu, jak organismus sklerotizuje a stává se zjevem opět čistě rytmickým, bez dalšího časového rozpětí. Organické časové prožívání má také člověk; základ lidského prožitku času je takto organický. Pro toto organické prožívání je nejpříznačnější to, co moderní psychologové časového prožívání tak silně zdůraznili, totiž zachování minulého do přítomného při současné modifikaci minulého. Bergsonův pojem \"durée réelle\" a Jamesův \"stream of consciousness\", Volkeltův \"Stetigkeitserlebnis\", Sternova \"Präsenzzeit\" veskrze zdůrazňují toto vplývání minulého do přítomného, obohacování přítomného minulým a okolnost, že aktuální prožitek nelze považovat prostě za \"pouhou přítomnost\" či, jak se říkává, za \"matematický bod\", nýbrž, jak se rovněž říkává, za \"minimum extenze\". Jiní myslitelé, jako např. Brentano, zdůrazňují proti kontinuitě mezi minulostí a přítomností to, co je nesmiřitelně odděluje: že minulost je sice zde, ale ve stavu modifikovaném, že ztratila veškerou \"aktualitu\", takže dokonce mají za to, že je uvědoměna v řadě navzájem na sebe odkazujících aktů fantazie, která v tomto případě má narozdíl od všech jiných jedině tvůrčí úlohu - vytváří představu času, které v pouhém vněmu nic neodpovídá. Bergsonovo \"reální trvání\" a Jamesův \"proud vědomí\" jsou nejznámější označení pro prožitek biologického času člověkem. Toto prožití biologického času musí mít znaky biologického času: totiž nebýt pouze časovým procesem, nýbrž obsahovat čas vnitřně, takže prožívání obsahuje nejen aktuální fáze, které se řadí k odbytým, nýbrž zároveň v aktuálních je obsažen vztah k neaktuálním. Odtud pak přímo vyplývá ona problematika, kterou jsme pozorovali na protikladu James - Brentano: časové vědomí znamená rozšíření přítomnosti, aktuality, ale toto rozšíření může přidávat k aktualitě pouze non-aktualitu. Pouze tím, že to, co aktuálně je již odbyto, čeho již objektivně není v přítomnosti, subjektivně je ještě přece zde, vzniká biologický časový prožitek. V tom smyslu má Brentano pravdu, když zdůrazňuje, že časová modifikace je právě tak důležitá jako časová kontinuita. Podle toho by Bergson, James a jiní analytikové, zdůrazňující na prvním místě nepřetržitost, chybovali nedostatkem hlubšího rozboru. Nezdůraznili dost určitě samozřejmost, že minulost nemůže být skutečně uchována, poněvadž jinak by byla přítomná, melodie by splývaly v harmonii, čisté barvy by se mísily, pohyb by se jevil jako tažená linie atd.: takže změna, kterou bychom nepochybně i pak vnímali, byla by stálým obohacováním aktuálně daného až do úplné chaotičnosti. Krom toho vědomí kontinuity, uchovávání, by nemohlo samo existovat bez vědomí změny, rozdílu, a časové vědomí jím tedy vysvětlovat nelze. A přece mají James a Bergson ve své analýze značný kus pravdy. K časovému vědomí biologicky prožitému náleží 1) uchovávání neaktuálního, kontinua; 2) modifikace tohoto uchovaného, vědomí jeho neaktuality; 3) neutralizace, potlačení vědomí této neaktuality, které rezultuje v podivný výsledek - minulé je zde prostě jako pozitivní součást přítomnosti, jako by bylo pouhým obohacením této přítomnosti, jako by tu nebylo zároveň ztráty. Toto paradoxní zastření ztráty, odbývání všech dimenzí ne-přítomna v biologickém prožitku časovém souvisí s tím, co jsme již výše zdůraznili - že v biologickém času minulost, přítomnost i budoucnost v podstatě jsou totéž: budoucnost je buď rovnováha, k níž směřuje minulost a přítomnost, nebo opakování formy, které jednou dosaženo; v životě dělá a děje se stále totéž - s jedinou pozvolnou modifikací, která souvisí s \"životní linií\": napřed prudké spění k formě, pak její ustavičná restituce, její stálé opakování, a to pořád méně intenzivní a zdařilé. Anorganické dění má tu zvláštní povahu, že se skládá ze samých vrstev aktuality, které jsou vystřídány novými a novými vrstvami aktuality; žádná vrstva neobsahuje nic neaktuálního; neaktuálno se zde nikde nestává aktuálním, minulé není zároveň určitým způsobem přítomné, nýbrž minulé a přítomné se jednoduše vylučují. Toto omezení na čirou aktuálnost a přítomnost je v organičnu podstatně překonáno. Ale toto překonání je nesmělé a sebezapomenuté, jako by překonáním nebylo: přítomnost je \"rozšířena\", aktuálnost rozvita, ale bytost ryze biologická žije v takto rozšířené aktualitě, jako by byla vším, jako by obsahovala v každém okamžiku celý život, který se netvoří, nýbrž jen opakuje. Proto je biologický prožitek času automatickým podvržením minulosti bez výslovného vědomí minulosti jako minulé, neaktuální; je celou svou povahou \"netematický\", animal jej prožívá obráceno k ryzí aktualitě a odvráceno od toho, co tuto aktualitu prolamuje. Následkem toho mohlo by se zdát, že je animal bytostí ryze přítomnou, pro kterou žádná jiná dimenze neexistuje, která tedy jako by v každém okamžiku byla znovu zrozena. Ve skutečnosti tomu tak není. Tak jako anorganické bytí přesto, že je nečasové v tom smyslu, že je pouze v čase, ale neobsahuje samo vnitřně čas, má nicméně určitý časový smysl, a to ten, že přítomnost je v něm určena minulostí - tak je tomu i zde. Přítomnost, která je převládající dimenzí biologického času, je přítomnost pod vládou a dojmem minulosti. Je pod vládou minulosti, poněvadž na minulou konstelaci, minulé popudy atd. reaguje, je pod dojmem minulosti, poněvadž přítomnost zde nikdy není čistá, a je vždy také návratem k něčemu hotovému, co aspoň v specifickém smyslu vždy již bylo. Animální přítomnost je tedy přítomnost cele zastíněná minulostí. V tomto významu mají analytikové jako Bergson a James pravdu. Ovšemže struktura animálního času - aktuální přítomnost spolu s \"ohonem retencí\" - sama toto zastínění přítomného minulým neukazuje. Co tedy Husserl analyzoval podle Brentanova vzoru, ale přece původním způsobem, v přednáškách o vnitřním vědomí času, je lidský prožitek animálního času. Je to prožitek reflektovaný, při němž rozdíl mezi 1) nereálním a reálním, 2) aktuálním a neaktuálním je se vší jasností uvědoměn. Dále je zde učiněn a) základní rozdíl mezi časovým průběhem vědomí a vědomím časového průběhu, b) mezi časovým průběhem objektivním a subjektivním vědomím tohoto průběhu; tyto rozdíly leží zde v pozorovaném prožitkovém materiálu jasně najevě - což předpokládá, že bylo dosaženo stupně reflexe, že bylo zjednáno skutečné odpoutání od aktuality, v níž animální prožitek vždy tone (při všem zastínění minulostí). Husserl analyzuje reflektovaný biologický prožitek času, zatímco Bergsonovi běží o prožitek, jak je před reflexí a před všemi změnami, které do prožitku samého vnáší. Proto též Bergson protestuje proti tomu, aby za vlastní čas se považovala celková perspektiva nebo linie, která má krom reálního nereální, krom aktuálního neaktuální momenty. Vidí v tom kontaminaci času prostorem, dynamiky statikou. Co umožňuje reflexi, není durée, příbuzná instinktu a podvědomí, nýbrž prostor. Bergson mluví, jako by každé časové vědomí, které proniká mimo aktuální fázi vědomé dynamiky, bylo kvantitativní, tj. prostorovou travestií původního časového vědomí; v tom sice nepochybně nemá pravdu, ale správně pozoruje, že původní dynamické vědomí tohoto reflektovaného momentu, tohoto pozvednutí nad aktuální fázi v sobě nemá. Co nyní člověku umožňuje, aby se od této aktuální dynamiky odpoutal? Co mu umožňuje reflexi? Pro určitost podotkněme, že se neptáme po biologickém či specificky fyziologickém mechanismu, který podmiňuje specificky lidské duševní úkony, nýbrž po vnitřní struktuře těchto úkonů samých. Odpoutat se od ryze aktuálního, dynamicky se rozvíjejícího prožitku, je možno toliko na základě jiného vztahu lidské bytosti, který ji charakterizuje na rozdíl od kteréhokoli jiného živočicha. Tento \"jiný vztah\" nemůže být prostě \"jiný reální vztah\", poněvadž krom vztahu k aktuálně-přítomné realitě pro žádné animal jiný reální vztah neexistuje. Pouze bytost, schopná jiného než reálního vztahu, která tedy může existovat v distanci k realitě v celku, může též dospět k jinému než aktuálnímu vztahu k realitě, může tedy rozšířit svůj obzor o svobodný pohled na minulost, na prostorovou nezměrnost, na výslovně pochopenou obecnost a zákonitost a celou nenázornou substrukturu jsoucna mimo náš bezprostřední dosah. \"Jiný vztah\" může však být pouze jeden: vztah k non-reálnímu, který sám může být jen negativně charakterizován, který nemůže být zařazen mezi předmětné vztahy. Tento jediný, jedinečný vztah jsme označili jako vztah k ideji. Člověk je charakterizován vztahem k ideji. Z toho nevyplývá, že bychom vždy měli výslovný prožitek ideového vztahu. Idea jako taková je pól obtížné tematizace, kterou se snaží provést filosofická myšlenka. Lidský původní vztah k ideji neznamená, že bychom psychologicky původněji, dříve měli vztah k ideji než vztah k realitám. Naopak, poněvadž člověk počíná život jako animal a člověkem se teprve stává v procesu fyzicko-duševního zrání, je nepochybně vztah k bezprostřední, aktuální realitě časově původnější. Ale při tomto zrání dochází k porušení nepřetržitého toku vnitřní dynamiky; taková porucha, k níž dochází např. při aktu významotvorném, aktu založení jazyka, aktu abstrakce, dále v některých důležitých základních náladách, při nichž si člověk neuvědomuje \"lad\", tj. svoji zařazenost do reality, nýbrž nenaladěnost, nesoulad, a to bez uvědomělé nebo dokonce doktrinárně provedené reflexe, je dokladem \"druhého vztahu\" člověka. Člověk existuje od základu jinak než animal - což neznamená snad, že by život v ideji, ve výslovném směřování k ní, život enthusiastický či sub specie aeterni, byl nutně jeho údělem. Ale možnost, aby existoval v tomto výslovném vztahu, modifikuje nezbytně každý lidský akt, každý dílčí úkon a každý jeho produkt. Tak je tomu právě též s vědomím času. Lidské vědomí času je charakterizováno uvolněností od pouhé aktuální přítomnosti. Anorganické dění je v čase; organismus nejen je procesem v čase, nýbrž zároveň má svůj čas, ovšem čas, který jej ovládá a je jeho naprostým pánem. Člověk pak nejen má svůj čas, nýbrž pokouší se též o to, aby se stal jeho pánem, tj. aby reální dění, k němuž se čas vztahuje, nebylo v něm převládajícím momentem. \"Pokouší se\" neznamená: pokouší se vždy a patří k němu, tak jako dýše, že se pokouší, nýbrž: může se pokoušet. Toto \"může\": jiný poměr k časovým dimenzím. Přítomnost není u člověka výhradnou časovou realitou (ani přítomnost, do které vplynula minulost, přítomnost minulostí zastíněná). Člověk nežije pouze v jedné každé přítomnosti, zapomínaje zpravidla rychle tu, která uplynula. Časová dynamika se mu nepohybuje pouze z minula do přítomna, nýbrž právě tak z přítomna do minula; zatímco \"uhasínání\" bezprostřední minulosti, které provází její vplývání do přítomna, je akt pasivity, který nepodléhá vůli (vůči němuž nejsme svobodni), máme naopak ještě jiné vědomí minulosti, která je nám k dispozici pro naše svobodné zásahy. To předpokládá celkovou perspektivu minulosti, pohled od přítomnosti zpět, obrácení tváře, kterého pouhé animal není schopno. Odkud toto nové chování, nový postoj k minulosti? Minulost je spatřována jako minulost, tj. jako něco hotového, mrtvého, poněvadž mrtvou minulost potřebujeme. Máme potřebu ne tak, jako animal, minulost ustavičně oživovat, takřka ji valit před sebou, nýbrž naopak ji umrtvovat. Podstatná lidská vůle není, aby minulost byla, nýbrž aby nebyla, aby totiž byla překonána, změněna. Má-li však být změněna, musí být napřed spatřena jako minulá, tedy mrtvá - musí být viděna jako čistá minulost. Čistou minulost pak - narozdíl od ostatních animalia - má pouze člověk, a to z toho důvodu, že ji nechce, že se jí zbavuje, ji popírá. Čistou minulost a možnost zacházet do jejího horizontu, explikovat jej, máme jen, protože je podstatným lidským zájmem tvořit budoucnost, to totiž, čeho původně a prvotně není. Budoucnost není nejpůvodněji pouhá časová etapa, která následuje po té, kterou právě prožíváme. Budoucnost v pravém smyslu slova je plná budoucnost, tj. budoucnost naplněná, ba přeplněná významem: je život vstalý z mrtvých, život, který není pasivně přijat zvenčí, z ruky cizích věcí, nýbrž který se vzchopuje z této upadlosti a koncentruje se na to, co není dáno, čeho nebylo a co není. Objev podstatně nového je přerušení obvyklého životního toku; nemůže být obnovy života, jeho vzkříšení z původního úpadku, bez tvorby nového, a není tvorby nového bez přerušení obvyklého života a jeho vzkříšení. Rozumí se sice, že všecko radikálně nové má své kořeny v našich konkrétních potřebách a zájmech, že tedy kotví v minulosti a má s ní ustavičný styk - ale vyvodit je z ní nelze, jinak by radikálně nového nebylo. To znamená, že Idea sice odskutečňuje to, co do té doby se jeví výhradnou realitou, umožňuje nám, abychom každou konkrétní realitu překročili, ale vždy jen v kontaktu s ní. Idea ve své konkrétní podobě, idea jako konkrétní transcendence (a nikoli pouhé abstraktní vědomí transcendence) je budoucnost, tj. nově otevřená lidská možnost, život, který se vzchopil ze svého dosavadního a vůbec počátečního úpadku. Každý náš pokus života svobodného má dvojí stránku navzájem neodlučitelnou: derealizaci toho, co dosud považováno za jedině reální a relevantní - to je primární ideový pokyn - a konkrétní motiv, kterým se překonává dosavadní historická situace, dosavadní životní motivika. Každá vskutku nová motivace přináší s sebou tento prožitek \"příchodu shůry\". To neznamená, že by nebylo možno např. zmechanizovat nebo organizovat inventivnost. Ale každá taková organizace či mechanizace pohybuje se v rámci možností, které jsou již jednou otevřeny, nemá ráz radikální novosti. Radikální novost zůstane vždy nemechanická, zůstává něčím více než kombinováním a analytickým uhlazováním něčeho, co zde již je. Poněvadž však člověk je takovou bytostí ideově otevřenou, tj. zacílenou k budoucnu (Heidegger zdůraznil mohutně tento význam budoucnosti, nejpůvodnější časové extáze), musí mít také \"čistou\" minulost na rozdíl od oné minulosti, která je zároveň přítomná a budoucí, vplývá do ostatních časových dimenzí a zastiňuje jejich specifičnost. Neboť budoucnost je vždy dobytá budoucnost, získaná bojem s minulostí, tj. s tím, co již zde bylo, a s \"pouhou přítomností\", tj. přítomností, z níž odečten onen ideový vztah, schopnost realizace nového. Člověk musí vidět minulé, aby proti němu reagoval, s ním bojoval, překonával je. To je vlastní smysl toho, že máme otevřený horizont minulosti, který dovedeme aktivně explikovat. Máme minulost, protože ji potřebujeme, a potřebujeme ji pro budoucnost. Tak vidíme, jak nejpůvodněji lidský vztah - vztah k Ideji - poněvadž sice ne výslovně, ale přece aspoň náznakově, v tendenci charakterizuje člověka přede vším ostatním tak, že jej usměrňuje k tomu, aby ustavičně hledal a neuspokojoval se věcmi, jak jsou, aby je tedy mohl vidět jinýma očima a brát je jinak do ruky - je u pramene samotných původních časových dimenzí, či s Heideggerem a lépe řečeno - časových extází. (Neboť pojem dimenze je vázán k času partes extra partes, k času přírodnímu, zejména k času přírody mrtvé, kde čas funguje jako součást časoprostoru a kde žádný časový interval není s ostatními vnitřně spjat, zatímco zde pozorujeme jejich vnitřní solidárnost.) Ideová vztaženost člověka je něco zásadně jiného než přírodní tendence k tomu, co je \"nové\". Nelze popírat, že tendence k novému u člověka rovněž existuje, ale tato tendence je právě jen úpadkovou formou ideového zakotvení; tuto úpadkovou formu známe v běžném životě jako zvědavost, rerum novarum studium, neklid, který se nedovede pevně zachytit žádné reality, snahu o originálnost za každou cenu (Pascalovo divertissement, Heideggrova Neugier). Od ideovosti v plném smyslu je tato tendence odlišena svou zásadní slepotou pro vskutku \"nové\", poněvadž podstatné - a jeho novost je vždy pouze nápodoba vnějších alur a mach. Ideové zakotvení není vyznačeno lpěním na daném a závislostí na něm, jako úpadková tendence k novosti; v tom smyslu bylo by lze o něm říci, že je v něm cosi původně pozitivního - kdyby toto pozitivní nezáleželo právě v tom, že všecko dané je jím zbavováno své absolutní platnosti. (Je jedním z rysů hegelovské dialektiky, že neodlišuje dost ostře ideové zaměření a úpadkovou tendenci k novosti, která sice je možná v podstatě jen tím, že člověk je ideově zaměřen, ale toto zaměření pouze napodobí ve formě předmětné - zvrácenost v plném slova smyslu.) V podstatě je ideové zakotvení signálem všeho toho, co je v dějinách předmětně nevysvětlitelné; všecky předmětné výklady nacházejí mez, která dělá z dějin řadu pokračujících generationes aequivocae.6 Co je v přírodě pouze kdesi na pomezí velkých předmětných rubrik, totiž skutečné novum (a to zde pravděpodobně způsobem neuvědomělým, pouhým přechodem \"od potence k aktu\") je u člověka postaveno do samého střediska, patří k ontickému výměru lidskosti. Proto je pro člověka a jedině pro člověka též příznačný historický čas, který není ani čas fyzický, ani ryze biologický: není pouhou abstraktní stránkou dějství vůbec, nýbrž pozoruhodnou realitou - irealitou, horizontem, neskutečným prostředím, scénou, na níž se reální dějství odehrává. Tak např. má-li pravdu Broad, budoucnost (konkrétní) neexistuje ve fyzickém ani biologickém světě. Ale nepochybně se vyskytuje - dokonce jako hlavní dimenze či extáze - v našem lidském prožívání času. Ve světě čistých realit omezuje se čas na to, co bylo a jest; ale v lidském prožitku je nerozdílná jednota trojnásobné perspektivy. V tomto schematu nemá žádná dimenze privilegované postavení: to, čeho (dosud) není, je v něm \"intencionálně\" zastoupeno právě tak jako to, co (již) jest. Časové vědomí tvoří totiž právě tato sounáležitost mezi ,dosud ne\\' a ,již\\'. Lidský čas je právě otevřenost pro dosud neskutečné, je ochota pozvednout se od pouze daného k pravému; a tato ochota tkví, jak jsme viděli, konečně v Ideji - takže čas, dalek toho, aby byl protikladem ideové existence, jak si to představoval Platón a platonismus všech dob, je naopak jejím základním důsledkem a projevem. A projevuje se v něm, v jeho zvláštní problematice, v jeho kolísání mezi daností a fantomatičností, v rozmanitých způsobech prožití času (pasivním odevzdání i aktivním objevitelství) právě též zřetelně, že čas sám není, nýbrž svobodně se tvoří, že není pouhé objektivní datum, nýbrž dílo svobody. 1) Tento rukopis z pozůstalosti je nadepsán číslicí VII. Jde patrně o začátek sedmé části podle Rozvrhu \"Negativního platonismu\", viz Jan Patočka, Péče o duši I (Sebrané spisy J. Patočky, sv. 1), Praha 1996, str. 444. Text byl nalezen v týchž deskách spolu se Studií o času II, viz str. $$$–$$$ tohoto svazku. (Pozn. vyd.) 2) \"být znamená být neúplný\" – Srv. P. Weiss, Nature and Man, New York 1947; týž, Modes of Being, Carbondale 1958. (Pozn. vyd.) 3) K této stránce přiložen lístek s poznámkou: »Nezvratnost jako jeden z rysů času, které ve skupině fys., vit., čl. se stupňují...« (Pozn. vyd.) 4) M. F. Cleugh, Time and its Importance in Modern Thought, London 1937, str. 84 n. 5) Na tomto místě je v rukopise vložen list s alternativním textem: »Neorganické jsoucno, obor fyziky a chemie, existuje v čase pojatém jako objektivní schéma. Vnitřně je úplně lhostejné ke vší časové sukcesi. Projevuje se to zvlášť eklatantně tím, že nedovedeme rozhodnout, jak jsme v předchozím viděli, zdali v něm vůbec existuje nějaká reální sukcese. Pro anorganické jsoucno je lhostejné, prostírá-li se v čase tak, jak je prožíváme, střídá-li časové fáze, nebo je-li totum simul. Anorganické jsoucno je možno pojmout jako časový svět bez sukcese, aniž došlo k jakýmkoli rozporům: na druhé straně tato možnost ovšem nedokazuje, že je tomu skutečně tak.« (Pozn. vyd.) 6) \"generatio aequivoca\", \"generatio spontanea\", \"archigonie\", \"autogonie\", \"abiogenesis\", \"Urzeugung\" - vznik živého z anorganického za pomoci přírodních, fyzikálně-chemických sil – původně Aristotelés, γένεσις ἀπὸ ταὐτομάτου, srv. např. Metafyzika, VII, 7, 1032a12 n. (Pozn. vyd.) --------------- ------------------------------------------------------------ --------------- ------------------------------------------------------------'"
      ],
      "application/vnd.google.colaboratory.intrinsic+json": {
       "type": "string"
      }
     },
     "metadata": {},
     "execution_count": 40
    }
   ]
  },
  {
   "cell_type": "code",
   "source": [
    "# dokument jako list slov získáme pomocí funkce \"split()\"\n",
    "# uložíme si ho takto do nové proměnné \"pdf_string_list\"\n",
    "string_list = text_dokumentu.split()\n",
    "# tuto proměnnou si vypíšeme:\n",
    "string_list[:20]"
   ],
   "metadata": {
    "colab": {
     "base_uri": "https://localhost:8080/"
    },
    "id": "5Buh6M5GOIS2",
    "outputId": "ef95a32e-8fe1-47d0-f5df-231fb56b66a7"
   },
   "execution_count": null,
   "outputs": [
    {
     "output_type": "execute_result",
     "data": {
      "text/plain": [
       "['[Studie',\n",
       " 'o',\n",
       " 'času',\n",
       " 'I]1',\n",
       " 'Chtěli',\n",
       " 'bychom',\n",
       " 'nyní',\n",
       " 'ukázat',\n",
       " 'podrobněji,',\n",
       " 'jak',\n",
       " 'se',\n",
       " 'tato',\n",
       " 'oslovenost',\n",
       " 'Ideou',\n",
       " 'projevuje',\n",
       " 'u',\n",
       " 'jedné',\n",
       " 'ze',\n",
       " 'základních',\n",
       " 'struktur,']"
      ]
     },
     "metadata": {},
     "execution_count": 41
    }
   ]
  },
  {
   "cell_type": "code",
   "metadata": {
    "id": "f_8KiHMZ3cl0",
    "colab": {
     "base_uri": "https://localhost:8080/"
    },
    "outputId": "372607b8-4a3e-4d01-d9ef-07b9d1329cf1"
   },
   "source": [
    "### pomocí funkce \"len()\" spočítáme délku tohoto listu slov:\n",
    "len(string_list)"
   ],
   "execution_count": null,
   "outputs": [
    {
     "output_type": "execute_result",
     "data": {
      "text/plain": [
       "11489"
      ]
     },
     "metadata": {},
     "execution_count": 36
    }
   ]
  },
  {
   "cell_type": "markdown",
   "metadata": {
    "id": "UgIbCh5v4FR2"
   },
   "source": [
    "### Lematizace a postagging\n",
    "\n",
    "S textem článku, tak jak se nyní nachází v proměnné \"text_clanku\", bychom se ale při kvantitativní textové analýze stále příliš daleko nedostali. Čeština je totiž morfologicky velice bohatý jazyk. Chceme-li např. spočítat kolikrát se v textu objevuje sloveso \"mít\", s textem v aktuální podobě se příliš daleko nedstaneme. Zde potřebujeme na naše textová data aplikovat dvě další procedury:\n",
    "\n",
    "\n",
    "1.   lemmatizace, tj. převedení slov z textu do jejich základních tvarů (slovesa do infinitivu, podstatná jména do 1.pádu singuláru apod.)\n",
    "2.   POS-tagging (\"part-of-speech tags\"),  tj. určení slovních druhů a mluvnických kategorií\n",
    "\n",
    "Aplikace těchto procedur nám umožní získat data z hlediska kvantitativní textové analýzy výrazně zajímavější.\n",
    "\n",
    "V případě češtiny se můžeme v tomto případě opřít o webové nástroje z dílny Ústavu formální a aplikované lingivistiky FF UK, konkrétně o nástroj [Morphodita](http://ufal.mff.cuni.cz/morphodita).\n",
    "\n",
    "S našimi daty budeme postupovat tak, že z našeho jupyter notebooku vzneseme dotaz na webovou aplikaci MorphoDity,  a požádáme na dálku o lemmatizaci a postaging našich dat (tutoriál k webovému dotazování MorpohoDity se nachází [zde](http://lindat.mff.cuni.cz/services/morphodita/api-reference.php)).\n"
   ]
  },
  {
   "cell_type": "code",
   "source": [
    "sentences = tokenize.sent_tokenize(text_dokumentu)\n",
    "sentences[:10]"
   ],
   "metadata": {
    "colab": {
     "base_uri": "https://localhost:8080/"
    },
    "id": "TFA6qawWPTeF",
    "outputId": "bc7c059c-243c-4ff2-96a7-2c84e18cbe7d"
   },
   "execution_count": null,
   "outputs": [
    {
     "output_type": "execute_result",
     "data": {
      "text/plain": [
       "['[Studie o času I]1 Chtěli bychom nyní ukázat podrobněji, jak se tato oslovenost Ideou projevuje u jedné ze základních struktur, jež dávají svůj ráz životu člověka v jeho odlišnosti vůči základnějším a přitom jednodušším stupňům jsoucna.',\n",
       " 'Míníme strukturu času.',\n",
       " 'Čas je náš universální horizont a jako horizont je půdou pro nejpestřejší rozmanitost apriorních poznatků subjektivních i objektivních.',\n",
       " 'Zde však nechceme postupovat analyticky, rozborem naší zkušenosti o čase, časového vědomí a časové formy lidského života, nýbrž komparativně-onticky: nechceme zde zjišťovat, co a priori víme o čase, nýbrž klademe si otázku, co čas jest na různých úrovních předmětnosti, co znamená čas v universu v jeho různých poschodích.',\n",
       " '* Všecky předměty jsou seřazeny v určitém pořádku, který myšlenkově izolujeme a získáváme tím všeobecné pořádkové formy prostor a čas.',\n",
       " 'Jsou obecné, protože se jim nevymyká žádný předmět, žádné předmětné určení, vztah či děj; jsou to formy, poněvadž je myslíme samostatně jako nevyplněná vztahová schémata, která jsou vyplňována - realizována různými, libovolnými obsahy.',\n",
       " 'Ráz forem (schémat) vysvětluje jejich odlišnost od čistých pojmů (které se nedají kvantitativně dělit, nemají reálních částí) a jejich prostředkující ráz mezi názorem a pojmem (zdůrazněný v Hegelově \"unsinnliche Sinnlichkeit und sinnliche Unsinnlichkeit\").',\n",
       " 'Jsou to schémata celková a potud jedinečná, v nich činíme pokus myslit veškeré předmětenstvo aspoň v jeho hlavních formálních rysech.',\n",
       " 'Lidský sklon realizovat abstrakce vede k tomu, že si představujeme mnohdy tyto formy vztahové jako samostatné entity; filosofie i věda proti tomu sice v novější době protestují, ale sklon k tomu, uvažovat o nich jako o samostatných jsoucnech, je stále silný - také v tom se projevuje, že se nám zdá zprvu samozřejmým, že existují takové samostatné formy dvě, totiž prostor a čas, hluboce odlišné a navzájem nezávislé.',\n",
       " 'Jakmile si uvědomíme formální povahu obou, vznikne ihned též problém jejich vzájemného vztahu; neboť formy nejsou bez obsahu a tento obsah je tak navzájem spjat, že není možná obsahová diferenciace v jednom bez zásahu druhého.']"
      ]
     },
     "metadata": {},
     "execution_count": 45
    }
   ]
  },
  {
   "cell_type": "code",
   "source": [
    "morfologicky_zpracovana_data = []\n",
    "# nejprve opět vzneseme webový dotaz s textem našeho článku\n",
    "for sentence in sentences:\n",
    "  url = 'http://lindat.mff.cuni.cz/services/morphodita/api/tag?data=' + quote(sentence)\n",
    "  resp = urlopen(url)\n",
    "  resp_content = resp.read().decode(\"utf-8\")\n",
    "  # výsledky dotazu (zpracovaná data) si uložíme do proměnné \"result\"\n",
    "  result = dict(json.loads(resp_content))[\"result\"]\n",
    "  # result má stromovou strukturu, kterou opět rozšifrujeme pomocí BeautifulSoup\n",
    "  soup = BeautifulSoup(result, 'html.parser')\n",
    "  # pro každé jednotlivé slovo si do jedné řádky vedle sebe vytahneme jeho (a) tvar jak je v textu, (b) lemmatizovanou podobu a (c) morfologické určení\n",
    "  # tato data budeme postupně přidávat do samostatné proměnné \"morfologicky_zpracovana_data\"\n",
    "  for token in soup.find_all(\"token\"):\n",
    "    morfologicky_zpracovana_data.append([token.get_text(), token[\"lemma\"].partition(\"-\")[0].partition(\"_\")[0], token[\"tag\"]])\n",
    "# z těchto dat si vytvoříme úhlednou tabulku ve formátu DataFrame (df):\n",
    "data_df = pd.DataFrame(morfologicky_zpracovana_data)\n",
    "# sloupce si pojmenujeme\n",
    "data_df.columns = [\"slovo_puvodni\", \"lemma\", \"POS-tag\"]\n",
    "# výsledný dataset si vypíšeme\n",
    "data_df\n",
    "\n"
   ],
   "metadata": {
    "id": "McpN2ONQO5Fs"
   },
   "execution_count": null,
   "outputs": []
  },
  {
   "cell_type": "markdown",
   "metadata": {
    "id": "eSvrljgi_P73"
   },
   "source": [
    "díky prvním písmenům třetího sloupce nyní víme, o jaký slovní druh se jedná:\n",
    "*   \"V...\" = sloveso\n",
    "*   \"N...\" = podstatné jméno\n",
    "*   \"A...\" = přídavné jméno\n",
    "\n",
    "Pro naše potřeby může bát zajímavé filtrovat tabulku tak, aby nám z textu zůstaly pouze tyto slovní druhy.\n"
   ]
  },
  {
   "cell_type": "code",
   "metadata": {
    "id": "7myh2XlEFh6K",
    "colab": {
     "base_uri": "https://localhost:8080/",
     "height": 419
    },
    "outputId": "c36d50f5-33c1-43d1-9d5c-07a980b81730"
   },
   "source": [
    "data_df_filtrovana = data_df[data_df[\"POS-tag\"].str.startswith((\"V\",\"N\",\"A\"))]\n",
    "data_df_filtrovana"
   ],
   "execution_count": null,
   "outputs": [
    {
     "output_type": "execute_result",
     "data": {
      "text/plain": [
       "    slovo_puvodni         lemma          POS-tag\n",
       "1          Studie        studie  NNFS1-----A----\n",
       "3            času           čas  NNIS6-----A---1\n",
       "7          Chtěli         chtít  VpMP---XR-AA---\n",
       "8          bychom           být  Vc-P---1-------\n",
       "10         ukázat        ukázat  Vf--------A----\n",
       "..            ...           ...              ...\n",
       "359          není           být  VB-S---3P-NA---\n",
       "360         možná         možný  AAFS1----1A----\n",
       "361      obsahová      obsahový  AAFS1----1A----\n",
       "362  diferenciace  diferenciace  NNFS1-----A----\n",
       "366        zásahu         zásah  NNIS2-----A----\n",
       "\n",
       "[176 rows x 3 columns]"
      ],
      "text/html": [
       "\n",
       "  <div id=\"df-853570cf-ef1a-47d5-938f-175491345ed6\">\n",
       "    <div class=\"colab-df-container\">\n",
       "      <div>\n",
       "<style scoped>\n",
       "    .dataframe tbody tr th:only-of-type {\n",
       "        vertical-align: middle;\n",
       "    }\n",
       "\n",
       "    .dataframe tbody tr th {\n",
       "        vertical-align: top;\n",
       "    }\n",
       "\n",
       "    .dataframe thead th {\n",
       "        text-align: right;\n",
       "    }\n",
       "</style>\n",
       "<table border=\"1\" class=\"dataframe\">\n",
       "  <thead>\n",
       "    <tr style=\"text-align: right;\">\n",
       "      <th></th>\n",
       "      <th>slovo_puvodni</th>\n",
       "      <th>lemma</th>\n",
       "      <th>POS-tag</th>\n",
       "    </tr>\n",
       "  </thead>\n",
       "  <tbody>\n",
       "    <tr>\n",
       "      <th>1</th>\n",
       "      <td>Studie</td>\n",
       "      <td>studie</td>\n",
       "      <td>NNFS1-----A----</td>\n",
       "    </tr>\n",
       "    <tr>\n",
       "      <th>3</th>\n",
       "      <td>času</td>\n",
       "      <td>čas</td>\n",
       "      <td>NNIS6-----A---1</td>\n",
       "    </tr>\n",
       "    <tr>\n",
       "      <th>7</th>\n",
       "      <td>Chtěli</td>\n",
       "      <td>chtít</td>\n",
       "      <td>VpMP---XR-AA---</td>\n",
       "    </tr>\n",
       "    <tr>\n",
       "      <th>8</th>\n",
       "      <td>bychom</td>\n",
       "      <td>být</td>\n",
       "      <td>Vc-P---1-------</td>\n",
       "    </tr>\n",
       "    <tr>\n",
       "      <th>10</th>\n",
       "      <td>ukázat</td>\n",
       "      <td>ukázat</td>\n",
       "      <td>Vf--------A----</td>\n",
       "    </tr>\n",
       "    <tr>\n",
       "      <th>...</th>\n",
       "      <td>...</td>\n",
       "      <td>...</td>\n",
       "      <td>...</td>\n",
       "    </tr>\n",
       "    <tr>\n",
       "      <th>359</th>\n",
       "      <td>není</td>\n",
       "      <td>být</td>\n",
       "      <td>VB-S---3P-NA---</td>\n",
       "    </tr>\n",
       "    <tr>\n",
       "      <th>360</th>\n",
       "      <td>možná</td>\n",
       "      <td>možný</td>\n",
       "      <td>AAFS1----1A----</td>\n",
       "    </tr>\n",
       "    <tr>\n",
       "      <th>361</th>\n",
       "      <td>obsahová</td>\n",
       "      <td>obsahový</td>\n",
       "      <td>AAFS1----1A----</td>\n",
       "    </tr>\n",
       "    <tr>\n",
       "      <th>362</th>\n",
       "      <td>diferenciace</td>\n",
       "      <td>diferenciace</td>\n",
       "      <td>NNFS1-----A----</td>\n",
       "    </tr>\n",
       "    <tr>\n",
       "      <th>366</th>\n",
       "      <td>zásahu</td>\n",
       "      <td>zásah</td>\n",
       "      <td>NNIS2-----A----</td>\n",
       "    </tr>\n",
       "  </tbody>\n",
       "</table>\n",
       "<p>176 rows × 3 columns</p>\n",
       "</div>\n",
       "      <button class=\"colab-df-convert\" onclick=\"convertToInteractive('df-853570cf-ef1a-47d5-938f-175491345ed6')\"\n",
       "              title=\"Convert this dataframe to an interactive table.\"\n",
       "              style=\"display:none;\">\n",
       "        \n",
       "  <svg xmlns=\"http://www.w3.org/2000/svg\" height=\"24px\"viewBox=\"0 0 24 24\"\n",
       "       width=\"24px\">\n",
       "    <path d=\"M0 0h24v24H0V0z\" fill=\"none\"/>\n",
       "    <path d=\"M18.56 5.44l.94 2.06.94-2.06 2.06-.94-2.06-.94-.94-2.06-.94 2.06-2.06.94zm-11 1L8.5 8.5l.94-2.06 2.06-.94-2.06-.94L8.5 2.5l-.94 2.06-2.06.94zm10 10l.94 2.06.94-2.06 2.06-.94-2.06-.94-.94-2.06-.94 2.06-2.06.94z\"/><path d=\"M17.41 7.96l-1.37-1.37c-.4-.4-.92-.59-1.43-.59-.52 0-1.04.2-1.43.59L10.3 9.45l-7.72 7.72c-.78.78-.78 2.05 0 2.83L4 21.41c.39.39.9.59 1.41.59.51 0 1.02-.2 1.41-.59l7.78-7.78 2.81-2.81c.8-.78.8-2.07 0-2.86zM5.41 20L4 18.59l7.72-7.72 1.47 1.35L5.41 20z\"/>\n",
       "  </svg>\n",
       "      </button>\n",
       "      \n",
       "  <style>\n",
       "    .colab-df-container {\n",
       "      display:flex;\n",
       "      flex-wrap:wrap;\n",
       "      gap: 12px;\n",
       "    }\n",
       "\n",
       "    .colab-df-convert {\n",
       "      background-color: #E8F0FE;\n",
       "      border: none;\n",
       "      border-radius: 50%;\n",
       "      cursor: pointer;\n",
       "      display: none;\n",
       "      fill: #1967D2;\n",
       "      height: 32px;\n",
       "      padding: 0 0 0 0;\n",
       "      width: 32px;\n",
       "    }\n",
       "\n",
       "    .colab-df-convert:hover {\n",
       "      background-color: #E2EBFA;\n",
       "      box-shadow: 0px 1px 2px rgba(60, 64, 67, 0.3), 0px 1px 3px 1px rgba(60, 64, 67, 0.15);\n",
       "      fill: #174EA6;\n",
       "    }\n",
       "\n",
       "    [theme=dark] .colab-df-convert {\n",
       "      background-color: #3B4455;\n",
       "      fill: #D2E3FC;\n",
       "    }\n",
       "\n",
       "    [theme=dark] .colab-df-convert:hover {\n",
       "      background-color: #434B5C;\n",
       "      box-shadow: 0px 1px 3px 1px rgba(0, 0, 0, 0.15);\n",
       "      filter: drop-shadow(0px 1px 2px rgba(0, 0, 0, 0.3));\n",
       "      fill: #FFFFFF;\n",
       "    }\n",
       "  </style>\n",
       "\n",
       "      <script>\n",
       "        const buttonEl =\n",
       "          document.querySelector('#df-853570cf-ef1a-47d5-938f-175491345ed6 button.colab-df-convert');\n",
       "        buttonEl.style.display =\n",
       "          google.colab.kernel.accessAllowed ? 'block' : 'none';\n",
       "\n",
       "        async function convertToInteractive(key) {\n",
       "          const element = document.querySelector('#df-853570cf-ef1a-47d5-938f-175491345ed6');\n",
       "          const dataTable =\n",
       "            await google.colab.kernel.invokeFunction('convertToInteractive',\n",
       "                                                     [key], {});\n",
       "          if (!dataTable) return;\n",
       "\n",
       "          const docLinkHtml = 'Like what you see? Visit the ' +\n",
       "            '<a target=\"_blank\" href=https://colab.research.google.com/notebooks/data_table.ipynb>data table notebook</a>'\n",
       "            + ' to learn more about interactive tables.';\n",
       "          element.innerHTML = '';\n",
       "          dataTable['output_type'] = 'display_data';\n",
       "          await google.colab.output.renderOutput(dataTable, element);\n",
       "          const docLink = document.createElement('div');\n",
       "          docLink.innerHTML = docLinkHtml;\n",
       "          element.appendChild(docLink);\n",
       "        }\n",
       "      </script>\n",
       "    </div>\n",
       "  </div>\n",
       "  "
      ]
     },
     "metadata": {},
     "execution_count": 48
    }
   ]
  },
  {
   "cell_type": "markdown",
   "metadata": {
    "id": "ZELHnjgDCobV"
   },
   "source": [
    "V této podobě může být již vcelku zajímavé podívat se na frekvence výskytů slov, resp. jejich lematizovaných tvarů. K tomu použijeme funkce z modulu \"nltk\"."
   ]
  },
  {
   "cell_type": "code",
   "metadata": {
    "id": "X4U0o6kLCn1b",
    "colab": {
     "base_uri": "https://localhost:8080/"
    },
    "outputId": "e4cc6856-4c1b-4419-9f9e-3c169870344f"
   },
   "source": [
    "# nejprve si z naší filtrované tabulky vyxtrahujeme lemmata samotná\n",
    "lemmata = data_df_filtrovana[\"lemma\"].tolist()\n",
    "# pro každý jednotlivý výraz necháme spočítat jeho počet výskytů\n",
    "lemmata_freq = nltk.FreqDist(lemmata)\n",
    "# vybereme např. 10 nejfrekventovanějších slov (rozumějme lemmatizovaných substantiv, adjektiv a sloves)\n",
    "lemmata_most_freq = lemmata_freq.most_common(10)\n",
    "print(lemmata_most_freq)"
   ],
   "execution_count": null,
   "outputs": [
    {
     "output_type": "stream",
     "name": "stdout",
     "text": [
      "[('být', 13), ('čas', 9), ('forma', 7), ('chtít', 3), ('ráz', 3), ('různý', 3), ('schéma', 3), ('obsah', 3), ('samostatný', 3), ('projevovat', 2)]\n"
     ]
    }
   ]
  },
  {
   "cell_type": "code",
   "metadata": {
    "id": "DWv__cRRGjR6",
    "colab": {
     "base_uri": "https://localhost:8080/",
     "height": 297
    },
    "outputId": "8413317b-6492-46d3-9cdb-eccdd3084e44"
   },
   "source": [
    "# kvůli horizontálnímu zobrazení prohodíme pořadí na našem listu\n",
    "lemmata_mostfreq = lemmata_most_freq\n",
    "lemmata_mostfreq.reverse()\n",
    "\n",
    "# pro potřeby grafu přiřadíme hodnoty jednotlivým osám\n",
    "height = [tup[1] for tup in lemmata_mostfreq]\n",
    "bars = [tup[0] for tup in lemmata_mostfreq]\n",
    "y_pos = np.arange(len(bars))\n",
    "\n",
    "plt.barh(y_pos, height)\n",
    "# graf si pojmenujeme a osu také\n",
    "plt.yticks(y_pos, bars)\n",
    "plt.xlabel('Frekvence výskytů')\n",
    "plt.title('Frekvence výskytů nejčastějších slov')\n",
    "# graf si zobrazíme\n",
    "plt.show()"
   ],
   "execution_count": null,
   "outputs": [
    {
     "output_type": "display_data",
     "data": {
      "text/plain": [
       "<Figure size 432x288 with 1 Axes>"
      ],
      "image/png": "[encoded data removed]"
     },
     "metadata": {
      "needs_background": "light"
     }
    }
   ]
  },
  {
   "cell_type": "markdown",
   "metadata": {
    "id": "GVaZyxzwgK-o"
   },
   "source": [
    "Pokud jsme se bez chybové hlášky dostali až sem a pomocí buňky výše jsme úspěšně vykreslili graf nejfrekventovanějších termínů v námi zvoleném dokumentu z AJP, hlavní část našeho úkolu byla splněna.\n",
    "\n",
    "Abychom doložili svůj úspěch, náš výsledný jupyter notebook si vytiskneme do PDF (nabídka File -> Print) a nahrajeme na příslušné místo do Google Classroomu."
   ]
  }
 ]
}
