{
 "cells": [
  {
   "cell_type": "code",
   "execution_count": 1,
   "id": "initial_id",
   "metadata": {
    "collapsed": true,
    "ExecuteTime": {
     "end_time": "2024-01-26T11:41:39.693454Z",
     "start_time": "2024-01-26T11:41:39.644223Z"
    }
   },
   "outputs": [],
   "source": [
    "import requests"
   ]
  },
  {
   "cell_type": "code",
   "outputs": [],
   "source": [
    "app_id = \"malach/cs\"\n",
    "base_url = \"https://uwebasr.zcu.cz/api/v2/lindat/{}?\".format(app_id)"
   ],
   "metadata": {
    "collapsed": false,
    "ExecuteTime": {
     "end_time": "2024-01-26T11:41:58.940619Z",
     "start_time": "2024-01-26T11:41:58.932117Z"
    }
   },
   "id": "19b6e4cbeab0c9fa",
   "execution_count": 3
  },
  {
   "cell_type": "markdown",
   "source": [
    "### Test with GET and online avaialble soundfile\n",
    "\n",
    "Chci načíst soubor přímo z url adresy:"
   ],
   "metadata": {
    "collapsed": false
   },
   "id": "251d588cc6456617"
  },
  {
   "cell_type": "code",
   "outputs": [],
   "source": [
    "soundfile_url = \"https://www.psp.cz/eknih/2021ps/audio/2022/01/11/2022011113581412.mp3\"\n",
    "resp = requests.get(base_url + \"format=plaintext&&url={}\".format())"
   ],
   "metadata": {
    "collapsed": false,
    "ExecuteTime": {
     "end_time": "2024-01-26T11:11:22.976862Z",
     "start_time": "2024-01-26T11:11:19.862835Z"
    }
   },
   "id": "ba0a45d68a38c149",
   "execution_count": 22
  },
  {
   "cell_type": "code",
   "outputs": [
    {
     "data": {
      "text/plain": "b'\\n# 503 SpeechCloud WebSocket closed\\n'"
     },
     "execution_count": 24,
     "metadata": {},
     "output_type": "execute_result"
    }
   ],
   "source": [
    "resp.content"
   ],
   "metadata": {
    "collapsed": false,
    "ExecuteTime": {
     "end_time": "2024-01-26T11:13:44.729232Z",
     "start_time": "2024-01-26T11:13:44.725327Z"
    }
   },
   "id": "ed07f6df03d4210a",
   "execution_count": 24
  },
  {
   "cell_type": "markdown",
   "source": [
    "### Test with POST and locally available soundfile"
   ],
   "metadata": {
    "collapsed": false
   },
   "id": "10955c688260dd0f"
  },
  {
   "cell_type": "code",
   "outputs": [],
   "source": [
    "soundfile_path = '../../data/test_data.mp3'\n",
    "url = 'https://uwebasr.zcu.cz/api/v2/lindat/malach.cs?format=plaintext'\n",
    "# Opening the file in binary mode and storing file data\n",
    "with open(soundfile_path, 'rb') as f:\n",
    "    file_data = f.read()\n",
    "resp = requests.post(base_url + \"format=plaintext\" , data=file_data)"
   ],
   "metadata": {
    "collapsed": false,
    "ExecuteTime": {
     "end_time": "2024-01-26T11:32:45.360793Z",
     "start_time": "2024-01-26T11:30:29.876871Z"
    }
   },
   "id": "a6172e21c35b284a",
   "execution_count": 36
  },
  {
   "cell_type": "code",
   "outputs": [
    {
     "name": "stdout",
     "output_type": "stream",
     "text": [
      "A Česká republika by měla prý podle něj uzavřít užší spojenectví s Německem.\n",
      "No, tak na úvod bych chtěl požádat pana ministra Beka, aby nemluvil za Českou republiku, protože vaše vláda a váš volební výsledek vaší pětikoalice nezískal většinu hlasů voličů v České republice, kdy se započtou i i propadlé hlasy, tak vy jste získali menšinu hlasů voličů v České republice, takže vy nezastupujete Českou republiku ani na základě výsledku voleb.\n",
      "Vy zastupujete menšinu občanů České republiky.\n",
      "A když se podívám na to spektrum propadlých hlasů, tak jsou to voliči, kteří podle všeho nejsou nakloněni vašemu politickému programu.\n",
      "Takže to je, to bych vás chtěl důrazně požádat, abyste si nehráli na něco, co nejste, protože váš volební výsledek tomu neodpovídá a je zřejmé, že s touto vládou bude pokračovat naprostá bezvýznamnost české zahraniční politiky, kterou samozřejmě ztělesňuje i nový ministr zahraničí Jan Lipavský, kterého už sami ani voliči Pirátů nechtěli.\n",
      "Ve sněmovně proto propadl ve volbách.\n",
      "Nová vláda směřuje k tomu, že už nebude potřeba český ministr zahraničí, ale bude stačit český velvyslanec v Německu jako za protektorátu?\n",
      "Podle názoru s PD jsou přece vztahy k nejbližším sousedům, jako je v čtyři, zásadní.\n",
      "Standardní zahraniční politika.\n",
      "Suverénní země má mít tři pilíře.\n",
      "Za prvé nejbližší země a spojenci, za druhé velmoci a za třetí země, kde máme nějaký ekonomický zájem.\n",
      "Tento princip se teď rozpadá a To je špatně.\n",
      "Takže já znovu zopakuji, že bych byl rád, abychom zařadili jako první bod dnešní schůze Poslanecké sněmovny bod s názvem Vysvětlení výroků předsedkyně sněmovny Pekarové Adamové vůči Maďarsku.\n",
      "Zároveň dodávám, že jestli vládní koalice tento bod neodsouhlasí, tak začneme sbírat potřebných osmdesát odpisů pro hlasování o Odvolání předsedkyně sněmovny Pekarové Adamové z této funkce.\n",
      "Jenom připomínám, že proto, abychom mohli iniciovat toto hlasování, tak potřebujeme dvě pětiny podpisů poslanců sněmovny a následně, Když je odevzdáme, tak opět vládní koalice arogantně může to hlasování odkládat, že tam není lhůta, že jo, může ho to ho odkládat, že se toho budete bát toho hlasování nebo skutečně si tady zahlasujeme a podíváme se opět.\n",
      "Říma se budeme dívat na to, kdo a jak tedy jakou politiku tady schvaluje.\n",
      "V každém případě je to rekord, že takto krátce po volbách se tady budou sbírat podpisy pro odvolání předsedkyně sněmovny.\n",
      "Je to neskutečná ostuda, co tady předvádí předsedkyně sněmovny Pekarová Damová.\n",
      "Není to První exces v této souvislosti.\n",
      "Tady dnes máme další ukázku pohrdání voliči i daným slovem.\n",
      "Předseda poslaneckého klubu STAN Jan Farský oznámil, že odlétá na půlroční stáž do Spojených států amerických.\n",
      "Když pominu obsah té stáže, tak na univerzitě ve Spojených státech bude pracovat na projektu, na projektu, Vzdá se kvůli tomu postu šéfa předsedy poslaneckého klubu STAN, ale na poslanecký mandát rezignovat nehodlá.\n",
      "On chce dál pokračovat ve funkci poslance a při tom se v koaliční smlouvě mezi Piráty a STAN v bodu pět, dva pět píše, že zvolený kandidát koalice a teď cituji bude brát práci poslanci jako prioritu a zařídí si své a zařídí si své ostatní aktivity V závorce práce v samosprávě, studium podnikání, výuka a tak dále tak, aby výkonu funkce mohl věnovat dostatek času.\n",
      "Konec citátu, půlroční stáž v Americe, to Znamená tady vůbec nemůže se věnovat práci poslance, tak prý konzultoval a má to odsouhlaseno jak s předsedou strany STAN, hnutí STAN Vítem Rakušanem.\n",
      "Takže ten také Schvaluje to porušení jejich koaliční smlouvy.\n",
      "Piráti ty servilně mlčí jako vždy, protože ti jsou čtyři, jsou rádi, že jsou u korýtka.\n",
      "Ty se nevyjadřují radši už ani a potom to.\n",
      "Prý mu to odsouhlasil i premiér Petr Fiala a oba ho prý podpořili.\n",
      "Takže vidíme, že pan poslanec Farský jasně porušil koaliční smlouvu Pirátů a STAN a pohrdá jejich voliči.\n",
      "Pan poslanec Farský na Svůj twitr uvedl To je ten pan poslanec Farský.\n",
      "Jenom až se na to někdo bude dívat v televizi.\n",
      "To je ten, jak si ten vždycky hrál na toho pana Čistého, který tam vždycky poučoval ostatní.\n",
      "Jo, to je takový ten pan Čistý v uvozovkách jo.\n",
      " taková přezdívka, možná pan Čistý, co teď porušuje všechno, co slíbil.\n",
      "A a teď pan Farský na svůj Twitter uvedl, že stáž pro ně je jedinečná možnost, jak rozvíjet dál svou profesní kariéru.\n",
      "Takže se nechá zvolit do Sněmovny tady Už profesní kariéru pro občany rozvíjet nechce, ale ten mandát si chce nechat a bude ji rozvíjet ve Spojených státech.\n",
      "Takže svou kariéru staví na sliby voličů.\n",
      "Prostě je normálně podvedl.\n",
      "Ty voliče.\n",
      "Jo, obelhal A podvedl.\n",
      "Nic víc, protože tady to čteme, co přesně máte v koaliční smlouvě.\n",
      "Takže jediným čestným řešením je, aby pan Farský rezignoval na post poslance a tím by ta vláda, tím by ten vládní poslanec naplnil to, co slíbili voličům, je zároveň šokující, i když já už je znám, tady je z něho několik let.\n",
      "Takže mi to nešokuje, že takové pohrdání voliči daným slovem podporují.\n",
      "Předseda hnutí STAN Vít Rakušan i premiér Petr Fiala.\n",
      "Takže já se chci prostřednictvím paní předsedkyně chci vyzvat poslance STAN Jana Farského, aby vysvětlil, proč podvedli jejich voliče A porušil předvolební slib.\n",
      "Dokonce mi teď některý novináři říkali, když se mě tázali před chvílí na to, co si myslíme o tomhle podvodném jednání poslance hnutí STAN Jana Farského, že prý On argumentuje pan Farský, že prý tu půlroční práci v Americe pak chce zúročit tady pro práci poslance.\n",
      "Proto si chce nechat poslanecký mandát, nebo ne pro práci pro občany.\n",
      "Prý říkal pro práci pro občany.\n",
      " proto si chce nechat mandát, ale k tomu nepotřebuje přece mandát.\n",
      "Tak složí poslance, věnuje se tedy stáži ve Spojených státech a pak se může vrátit a pak může svoji práci úročit pro občany.\n",
      "Ale proč Si tedy nechává poslanecký mandát?\n",
      "Bojí se, že by neměl práci?\n",
      "Bojí se snad, že obsah té práce, kvůli které na stáž nelze zúročit v České republice?\n",
      "Jiný přece důvod nemůže být.\n",
      "Takže kde je Pan poslanec Farský?\n",
      "Už se radši už se radši tady zmizel ze sněmovny.\n",
      "Novináři mi říkali, že ho, že se jim ho nedaří kontaktovat.\n",
      "Před chvílí jsem ho sice po potkal dole, ale že ho celé dopoledne mohli kontaktovat, aby se ho zeptali, jak to myslí.\n",
      "Tak koukáme, že nevím teda, jaký je teď dotací pořádek, ale nevidíme ho nikde.\n",
      "No tak určitě ho nevidí.\n",
      "Neuvidíme na mikrofon.\n",
      "To sice možná hůř vidím už do dálky, ale tady na mikrofon ho neuvidím určitě, protože přece to víme, že vysvětlovat nepůjde nic.\n",
      "Jo.\n",
      "Takže takže to je ten bod, který chceme navrhnout a zároveň se tady dějí další věci.\n",
      "Takže to je první věc paní předsedkyně Pekarová Adamová.\n",
      "A druhý věc, to bych vás chtěl požádat, abychom předřadili návrh zákona s p.\n",
      "D je to bod dvacet dva, Tisk dvacet pět.\n",
      "A je to zamrazení platů politiků na celé volební období.\n",
      "A to by tedy my bychom chtěli, aby to bylo předřazeno před Ten váš návrh, protože kvůli vládě kvůli vládě této nové vládě Petra Fialy se zvýšily od prvního první dva tisíce dvacet dva platy politiků o šest procent.\n",
      "Kvůli vám Se zvýšili, protože návrh zákona s PDA s p.\n",
      "D už tady ležel už už na konci minulého roku.\n",
      "Takže kdyby jste ho podpořili, tak jsme mohli v klidu v prosinci hlasovat.\n",
      "My jsme to podali v legislativní.\n",
      "My jsme to podali V takzvané devadesátce a už to mohlo být hotovo.\n",
      "Ale protože vy jste nechtěli zamrazovat platy politiků na celé volební období, tak ten náš návrh nepodpořili.\n",
      "Tím pádem jste plivli občanům do obličeje, protože jste zvýšili si sami sobě platy o šest procent, zatímco Petr Fiala sliboval vaše vláda, že do konce roku poslední týden v prosinci, že představíte plán proti zdražení energií, nepředstavili jste nic, protože žádný plán nemáte, Ale sami jste si nechali sami sobě zvýšit platy politiků.\n",
      "A teď je teda potřeba, abychom se k tomu tedy postavili čelem.\n",
      "Proto já Navrhuji abychom před váš bod o zmrazení platů politiku zařadili náš návrh zákona na zmrazení platů politiků na celé volební období.\n",
      "Ale abyste tak jednoduše nemohli zase podvádět voliče a slibovat Ty vaše sliby, chyby a skutek utekl.\n",
      "Tak my jsme zároveň podali pozměňovací návrh pro jistotu i po ten váš návrh zákona, takže se bude hlasovat, když to bude dnes, tak budeme hlasovat tak jako tak o našem Návrhu že chceme zamrazit platy na celé volební období, takže se tomu stejně nevyhnete tak jako tak se tomu nevyhnete.\n",
      "A teď se dneska hezky podíváme spolu s veřejností na hlasování vládní pětikoalice, zdali Podpoří váš návrh, kterým jdete křížkem po funuse zamrazení platů na pár měsíců, nebo jestli podpoříte náš návrh zamrazení platů politiků na celé volební období.\n",
      "No a já myslím, že bude jasno také hned A tomu vašemu populismu udělám rychle konec, protože občané okamžitě uvidí média, jak to vlastně ve skutečnosti s vámi je.\n",
      "Výsledek už predikuji, už ho očekávám samozřejmě, protože vláda, která si přidá tři místa ministrů navíc, že se tady opravdu Nemůžete ani vejít.\n",
      "To tedy, koukám, taková tlačenice tady za mnou nebyla.\n",
      "Tedy, to jsem snad ještě nezažil, protože jak jste v pětikoalici, tak je takový zájem o korýtka, že ono jich málo.\n",
      "Dokonce Židé ve sněmovně takhle teda natěsná.\n",
      "No, to jsem opravdu a sebe neviděl.\n",
      "Ještě, že někteří z vás nejsou poslanci, takže hlasovací zařízení asi bude stačit.\n",
      "Jo, ale to tedy je opravdu neuvěřitelná situace.\n",
      "Takže to jsou naše návrhy.\n",
      "To bych chtěl, abychom tady o tom hlasovali a uvidíme, jak se k tomu samozřejmě postavíte.\n",
      "Děkuji za pozornost.\n",
      "A další je přihlášena k pořadu schůze paní předsedkyně Alena Schillerová.\n",
      "A než dorazí k pultíku, tak tady mám dvě omluvy od paní poslankyně Neitlerové z důvodu nemoci a od paní poslankyně Voborské, a to mezi osmnáctou, třicátou až dvacátou třicátou hodinou.\n",
      "Máte slovo.\n",
      "Děkuji za paní před.\n",
      "Dovolte, abych požádala o zařazení dvou bodů, a to bodů číslo šedesát, pět a šedesát šest.\n",
      "Je to návrh na změny v orgánech Poslanecké sněmovny a bod šedesát šest.\n",
      "Návrh na volbu místopředsedy Poslanecké sněmovny a požádala o jejich pevné zařazení na středu dvanáctého ledna ve na čas dvanáct třicet, což je přesně po uplynutí lhůty, kdy to Nejdříve je možné.\n",
      "Dovolte, abych to obhájila.\n",
      "Tento svůj návrh.\n",
      "Myslím si, že zítra bude probíhat jednání o důvěře vlády.\n",
      "Bylo by velmi dobré žádoucí a patřící ke zvysoklostem, že vedení Poslanecké sněmovny bude kompletní.\n",
      "Stejně tak i zítra bude zasedat organizační výbor, kde v tuto chvíli hnutí ANO nemá dva zástupce, což samozřejmě také pro jednání na tomto Organizačním výboru je v určité oslabení.\n",
      "Takže dovolte, abych o toto požádala.\n",
      "Není to možné dříve, protože lhůta končí zítra ve dvanáct hodin.\n",
      "Domníváme se vzhledem k tomu, že nejsou signalizovány na Politické úrovni žádné problémy s nominacemi, které jsem po konzultaci s klubem hnutí ANO podepsala a odeslala na volební, na volební výbor, tak se domnívám, že by toto nemusel být problém a nemuselo by to nějak protáhnout z zítřejší nebo narušit zítřejší jednání o důvěře vlády.\n",
      "Děkuji.\n",
      "Já také děkuji za přednesení návrhu a.\n"
     ]
    }
   ],
   "source": [
    "#resp.encoding = 'utf-8' # volba znakové sady\n",
    "print(resp.text)"
   ],
   "metadata": {
    "collapsed": false,
    "ExecuteTime": {
     "end_time": "2024-01-26T11:33:05.621600Z",
     "start_time": "2024-01-26T11:33:05.615023Z"
    }
   },
   "id": "7b4a4b64cede4f29",
   "execution_count": 39
  },
  {
   "cell_type": "markdown",
   "source": [
    "### Test with GET and online avaialble soundfile\n",
    "\n",
    "Chci načíst soubor přímo z url adresy:\n"
   ],
   "metadata": {
    "collapsed": false
   },
   "id": "f5a4c4ef4c881638"
  },
  {
   "cell_type": "code",
   "outputs": [
    {
     "data": {
      "text/plain": "b'\\n# 503 SpeechCloud WebSocket closed\\n'"
     },
     "execution_count": 5,
     "metadata": {},
     "output_type": "execute_result"
    }
   ],
   "source": [
    "soundfile_url = \"https://www.psp.cz/eknih/2021ps/audio/2022/01/11/2022011113581412.mp3\"\n",
    "resp = requests.get(base_url + \"format=plaintext&&url={}\".format(soundfile_url))\n",
    "resp.content"
   ],
   "metadata": {
    "collapsed": false,
    "ExecuteTime": {
     "end_time": "2024-01-26T11:42:34.276927Z",
     "start_time": "2024-01-26T11:42:31.377442Z"
    }
   },
   "id": "7c370ba400c7d52e",
   "execution_count": 5
  },
  {
   "cell_type": "code",
   "outputs": [],
   "source": [],
   "metadata": {
    "collapsed": false
   },
   "id": "66f844f0a35bf9a2"
  }
 ],
 "metadata": {
  "kernelspec": {
   "name": "pribehy_kernel",
   "language": "python",
   "display_name": "pribehy_kernel"
  },
  "language_info": {
   "codemirror_mode": {
    "name": "ipython",
    "version": 2
   },
   "file_extension": ".py",
   "mimetype": "text/x-python",
   "name": "python",
   "nbconvert_exporter": "python",
   "pygments_lexer": "ipython2",
   "version": "2.7.6"
  }
 },
 "nbformat": 4,
 "nbformat_minor": 5
}
